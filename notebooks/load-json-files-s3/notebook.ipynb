{
  "cells": [
    {
      "cell_type": "markdown",
      "id": "deb8dbf4-2368-41b4-9f09-b14c96ccb344",
      "metadata": {},
      "source": [
        "<div id=\"singlestore-header\" style=\"display: flex; background-color: rgba(210, 255, 153, 0.25); padding: 5px;\">\n",
        "    <div id=\"icon-image\" style=\"width: 90px; height: 90px;\">\n",
        "        <img width=\"100%\" height=\"100%\" src=\"https://raw.githubusercontent.com/singlestore-labs/spaces-notebooks/master/common/images/header-icons/chart-network.png\" />\n",
        "    </div>\n",
        "    <div id=\"text\" style=\"padding: 5px; margin-left: 10px;\">\n",
        "        <div id=\"badge\" style=\"display: inline-block; background-color: rgba(0, 0, 0, 0.15); border-radius: 4px; padding: 4px 8px; align-items: center; margin-top: 6px; margin-bottom: -2px; font-size: 80%\">SingleStore Notebooks</div>\n",
        "        <h1 style=\"font-weight: 500; margin: 8px 0 0 4px;\">Load JSON files with Pipeline from S3</h1>\n",
        "    </div>\n",
        "</div>"
      ]
    },
    {
      "cell_type": "markdown",
      "id": "b4b337ff",
      "metadata": {},
      "source": [
        "<div class=\"alert alert-block alert-info\">\n",
        "    <b class=\"fa fa-solid fa-info-circle\"></b>\n",
        "    <div>\n",
        "        <p><b>Note</b></p>\n",
        "        <p>This tutorial is meant for Standard & Premium Workspaces. You can't run this with a Free Starter Workspace due to restrictions on Storage. Create a Workspace using +group in the left nav & select Standard for this notebook. Gallery notebooks tagged with \"Starter\" are suitable to run on a Free Starter Workspace </p>\n",
        "    </div>\n",
        "</div>"
      ]
    },
    {
      "cell_type": "markdown",
      "id": "50093846-9ea3-441d-89f0-fbe0576f78bf",
      "metadata": {},
      "source": [
        "This notebook helps you navigate through different scenarios data ingestion of JSON files from an AWS S3 location:\n",
        "* Ingest JSON files in AWS S3 using wildcards with pre-defined schema\n",
        "* Ingest JSON files in AWS S3 using wildcards into a JSON column"
      ]
    },
    {
      "cell_type": "markdown",
      "id": "b2ed410a-87b8-452a-b906-431fb0e949b3",
      "metadata": {},
      "source": [
        "## Create a Pipeline from JSON files in AWS S3 using wildcards"
      ]
    },
    {
      "cell_type": "markdown",
      "id": "9996b479-586d-4af3-b0ee-b61eead39ebc",
      "metadata": {},
      "source": [
        "In this example, we want to create a pipeline from two JSON files called **actors1.json** and **actors2.json** stored in an AWS S3 bucket called singlestoredb and a folder called **actors**. This bucket is located in **us-east-1**."
      ]
    },
    {
      "cell_type": "markdown",
      "id": "9a4caf68-0610-41a6-bfd1-59612b8e959a",
      "metadata": {},
      "source": [
        "Each file has the following shape with nested objects and arrays:\n",
        "```json\n",
        "{\n",
        "  \"Actors\": [\n",
        "    {\n",
        "      \"name\": \"Tom Cruise\",\n",
        "      \"age\": 56,\n",
        "      \"Born At\": \"Syracuse, NY\",\n",
        "      \"Birthdate\": \"July 3, 1962\",\n",
        "      \"photo\": \"https://jsonformatter.org/img/tom-cruise.jpg\",\n",
        "      \"wife\": null,\n",
        "      \"weight\": 67.5,\n",
        "      \"hasChildren\": true,\n",
        "      \"hasGreyHair\": false,\n",
        "      \"children\": [\n",
        "        \"Suri\",\n",
        "        \"Isabella Jane\",\n",
        "        \"Connor\"\n",
        "      ]\n",
        "    },\n",
        "    {\n",
        "      \"name\": \"Robert Downey Jr.\",\n",
        "      \"age\": 53,\n",
        "      \"Born At\": \"New York City, NY\",\n",
        "      \"Birthdate\": \"April 4, 1965\",\n",
        "      \"photo\": \"https://jsonformatter.org/img/Robert-Downey-Jr.jpg\",\n",
        "      \"wife\": \"Susan Downey\",\n",
        "      \"weight\": 77.1,\n",
        "      \"hasChildren\": true,\n",
        "      \"hasGreyHair\": false,\n",
        "      \"children\": [\n",
        "        \"Indio Falconer\",\n",
        "        \"Avri Roel\",\n",
        "        \"Exton Elias\"\n",
        "      ]\n",
        "    }\n",
        "  ]\n",
        "}\n",
        "```"
      ]
    },
    {
      "cell_type": "markdown",
      "id": "98a8e14f-808e-43ff-b670-b6656091b81a",
      "metadata": {},
      "source": [
        "### Create a Table"
      ]
    },
    {
      "cell_type": "markdown",
      "id": "a70e168d-de32-4988-90c4-651089ac25a0",
      "metadata": {},
      "source": [
        "We first create a table called **actors** in the database **demo_database**"
      ]
    },
    {
      "cell_type": "code",
      "execution_count": 1,
      "id": "b703aab8-7449-43db-af04-9d65520239a5",
      "metadata": {},
      "outputs": [],
      "source": [
        "%%sql\n",
        "CREATE DATABASE IF NOT EXISTS demo_database;"
      ]
    },
    {
      "cell_type": "markdown",
      "id": "6dfc5b0b-9308-46c9-8cc8-be08fb07c1b6",
      "metadata": {},
      "source": [
        "<div class=\"alert alert-block alert-warning\">\n",
        "    <b class=\"fa fa-solid fa-exclamation-circle\"></b>\n",
        "    <div>\n",
        "        <p><b>Action Required</b></p>\n",
        "        <p>Make sure to select the <tt>demo_database</tt> database from the drop-down menu at the top of this notebook. It updates the <tt>connection_url</tt> to connect to that database.</p>\n",
        "    </div>\n",
        "</div>"
      ]
    },
    {
      "cell_type": "code",
      "execution_count": 2,
      "id": "b09528cf-0beb-4fe0-9e60-6edefb72f8b1",
      "metadata": {},
      "outputs": [],
      "source": [
        "%%sql\n",
        "CREATE TABLE IF NOT EXISTS demo_database.actors (\n",
        "    name text CHARACTER SET utf8 COLLATE utf8_general_ci NOT NULL,\n",
        "    age int NOT NULL,\n",
        "    born_at text CHARACTER SET utf8 COLLATE utf8_general_ci NOT NULL,\n",
        "    Birthdate text CHARACTER SET utf8 COLLATE utf8_general_ci NOT NULL,\n",
        "    photo text CHARACTER SET utf8 COLLATE utf8_general_ci NOT NULL,\n",
        "    wife text CHARACTER SET utf8 COLLATE utf8_general_ci,\n",
        "    weight float NOT NULL,\n",
        "    haschildren boolean,\n",
        "    hasGreyHair boolean,\n",
        "    children  JSON COLLATE utf8_bin NOT NULL,\n",
        "    SHARD KEY ()\n",
        ");"
      ]
    },
    {
      "cell_type": "markdown",
      "id": "e4c15a63-eb17-432d-b0b5-d7485bcf028d",
      "metadata": {},
      "source": [
        "### Create a pipeline"
      ]
    },
    {
      "cell_type": "markdown",
      "id": "5e09146a-74cb-4e0d-bd0a-3502c2d15a00",
      "metadata": {},
      "source": [
        "We then create a pipeline called **actors** in the database **demo_database**. Since those files are small, batch_interval is not as important and the maximum partitions per batch is only 1. For faster performance, we recommend increasing the maximum partitions per batch.\n",
        "Note, that since the bucket is publcly accessible, you do not need to provide access key and secret."
      ]
    },
    {
      "cell_type": "code",
      "execution_count": 3,
      "id": "92df7943-e68d-4509-b7f5-4a93697f6578",
      "metadata": {},
      "outputs": [],
      "source": [
        "%%sql\n",
        "CREATE PIPELINE if not exists demo_database.actors\n",
        "    AS LOAD DATA S3 'studiotutorials/sample_dataset/json_files/wildcard_demo/*.json'\n",
        "    CONFIG '{ \\\"region\\\": \\\"us-east-1\\\" }'\n",
        "    /*\n",
        "    CREDENTIALS '{\"aws_access_key_id\": \"<Key to Enter>\",\n",
        "                  \"aws_secret_access_key\": \"<Key to Enter>\"}'\n",
        "    */\n",
        "    BATCH_INTERVAL 2500\n",
        "    MAX_PARTITIONS_PER_BATCH 1\n",
        "    DISABLE OUT_OF_ORDER OPTIMIZATION\n",
        "    DISABLE OFFSETS METADATA GC\n",
        "    SKIP DUPLICATE KEY ERRORS\n",
        "    INTO TABLE `actors`\n",
        "    FORMAT JSON\n",
        "    (\n",
        "        actors.name <- name,\n",
        "        actors.age <- age,\n",
        "        actors.born_at <- `Born At`,\n",
        "        actors.Birthdate <- Birthdate,\n",
        "        actors.photo <- photo,\n",
        "        actors.wife <- wife,\n",
        "        actors.weight <- weight,\n",
        "        actors.haschildren <- hasChildren,\n",
        "        actors.hasGreyHair <- hasGreyHair,\n",
        "        actors.children <- children\n",
        "    );"
      ]
    },
    {
      "cell_type": "markdown",
      "id": "5410c1b9-573f-4326-ba4c-b7af71e069ad",
      "metadata": {},
      "source": [
        "### Start and monitor the pipeline"
      ]
    },
    {
      "cell_type": "code",
      "execution_count": 4,
      "id": "eeddd12e-e28c-4000-859b-6d1291c4a137",
      "metadata": {},
      "outputs": [],
      "source": [
        "%%sql\n",
        "START PIPELINE demo_database.actors;"
      ]
    },
    {
      "cell_type": "markdown",
      "id": "a555997d-38dc-4b69-821b-390e52bb4d00",
      "metadata": {},
      "source": [
        "If there is no error or warning, you should see no error message."
      ]
    },
    {
      "cell_type": "code",
      "execution_count": 5,
      "id": "f48de155-af85-4c40-ad56-955573a434f8",
      "metadata": {},
      "outputs": [],
      "source": [
        "%%sql\n",
        "SELECT * FROM information_schema.pipelines_errors\n",
        "    WHERE pipeline_name = 'actors' ;"
      ]
    },
    {
      "cell_type": "markdown",
      "id": "c18ac453-63de-424a-b9bf-ae6846817ea6",
      "metadata": {},
      "source": [
        "### Query the table"
      ]
    },
    {
      "cell_type": "code",
      "execution_count": 6,
      "id": "09a739cb-4925-4699-ab61-71016a04bfb6",
      "metadata": {},
      "outputs": [],
      "source": [
        "%%sql\n",
        "SELECT * FROM demo_database.actors;"
      ]
    },
    {
      "cell_type": "markdown",
      "id": "c4815572-10d8-4c31-a246-05ad6e7e6e99",
      "metadata": {},
      "source": [
        "### Cleanup ressources"
      ]
    },
    {
      "cell_type": "code",
      "execution_count": 7,
      "id": "6a6dfc1d-c758-4287-a797-6cc3e4fff934",
      "metadata": {},
      "outputs": [],
      "source": [
        "%%sql\n",
        "DROP PIPELINE IF EXISTS demo_database.actors;\n",
        "DROP TABLE IF EXISTS demo_database.actors;"
      ]
    },
    {
      "cell_type": "markdown",
      "id": "09fbffac-9a0a-45fd-ad07-ede4e11b3691",
      "metadata": {},
      "source": [
        "## Ingest JSON files in AWS S3 using wildcards into a JSON column"
      ]
    },
    {
      "cell_type": "markdown",
      "id": "d3e8ff65-1b2d-47c5-8754-28fa4c254edd",
      "metadata": {},
      "source": [
        "As the schema of your files might change, you might want to keep flexibility in ingesting the data into one JSON column that we name **json_data**. the table we create is named **actors_json**."
      ]
    },
    {
      "cell_type": "markdown",
      "id": "d761f324-0d28-4713-a866-3f96673d8317",
      "metadata": {},
      "source": [
        "### Create Table"
      ]
    },
    {
      "cell_type": "code",
      "execution_count": 8,
      "id": "bcb14814-7b79-4df2-ab47-7def7ae03ce3",
      "metadata": {},
      "outputs": [],
      "source": [
        "%%sql\n",
        "CREATE TABLE IF NOT EXISTS demo_database.actors_json (\n",
        "    json_data JSON NOT NULL,\n",
        "    SHARD KEY ()\n",
        ");"
      ]
    },
    {
      "cell_type": "markdown",
      "id": "429fce4b-c529-4acf-af7e-5d802f79eda6",
      "metadata": {},
      "source": [
        "### Create a pipeline"
      ]
    },
    {
      "cell_type": "code",
      "execution_count": 9,
      "id": "a1d60130-095e-45da-b55d-b427a0af3d26",
      "metadata": {},
      "outputs": [],
      "source": [
        "%%sql\n",
        "CREATE PIPELINE IF NOT EXISTS demo_database.actors_json\n",
        "    AS LOAD DATA S3 'studiotutorials/sample_dataset/json_files/wildcard_demo/*.json'\n",
        "    CONFIG '{ \\\"region\\\": \\\"us-east-1\\\" }'\n",
        "    /*\n",
        "    CREDENTIALS '{\"aws_access_key_id\": \"<Key to Enter>\",\n",
        "                  \"aws_secret_access_key\": \"<Key to Enter>\"}'\n",
        "    */\n",
        "    BATCH_INTERVAL 2500\n",
        "    MAX_PARTITIONS_PER_BATCH 1\n",
        "    DISABLE OUT_OF_ORDER OPTIMIZATION\n",
        "    DISABLE OFFSETS METADATA GC\n",
        "    SKIP DUPLICATE KEY ERRORS\n",
        "    INTO TABLE `actors_json`\n",
        "    FORMAT JSON\n",
        "    (json_data <- %);"
      ]
    },
    {
      "cell_type": "markdown",
      "id": "bd296bf5-db20-4028-a1d7-b5c9da0a6cb2",
      "metadata": {},
      "source": [
        "### Start and monitor pipeline"
      ]
    },
    {
      "cell_type": "code",
      "execution_count": 10,
      "id": "b374598a-f9cb-43c4-a2a4-ebcd298108c4",
      "metadata": {},
      "outputs": [],
      "source": [
        "%%sql\n",
        "START PIPELINE demo_database.actors_json;"
      ]
    },
    {
      "cell_type": "code",
      "execution_count": 11,
      "id": "ca06781b-61fa-4fea-97de-cd0dbacd86e8",
      "metadata": {},
      "outputs": [],
      "source": [
        "%%sql\n",
        "# Monitor and see if there is any error or warning\n",
        "SELECT * FROM information_schema.pipelines_errors\n",
        "    WHERE pipeline_name = 'actors_json' ;"
      ]
    },
    {
      "cell_type": "markdown",
      "id": "7419ccdd-0f85-414e-bd05-fbe8d9656305",
      "metadata": {},
      "source": [
        "### Query the table"
      ]
    },
    {
      "cell_type": "code",
      "execution_count": 12,
      "id": "e34c5b49-0e97-4b07-9026-38bb6c370f73",
      "metadata": {},
      "outputs": [],
      "source": [
        "%%sql\n",
        "SELECT * FROM demo_database.actors_json"
      ]
    },
    {
      "cell_type": "markdown",
      "id": "c4c155e5-a4a5-4b01-a8a7-e7e626e5fac8",
      "metadata": {},
      "source": [
        "### Cleanup ressources"
      ]
    },
    {
      "cell_type": "code",
      "execution_count": 13,
      "id": "6f0bd356-8a11-4cd9-b774-569d8f5e2520",
      "metadata": {},
      "outputs": [],
      "source": [
        "%%sql\n",
        "DROP DATABASE IF EXISTS demo_database;"
      ]
    },
    {
      "cell_type": "markdown",
      "id": "c572193e-7f5b-4637-af5d-2f33f5ba5d86",
      "metadata": {},
      "source": [
        "<div id=\"singlestore-footer\" style=\"background-color: rgba(194, 193, 199, 0.25); height:2px; margin-bottom:10px\"></div>\n",
        "<div><img src=\"https://raw.githubusercontent.com/singlestore-labs/spaces-notebooks/master/common/images/singlestore-logo-grey.png\" style=\"padding: 0px; margin: 0px; height: 24px\"/></div>"
      ]
    }
  ],
  "metadata": {
    "jupyterlab": {
      "notebooks": {
        "version_major": 6,
        "version_minor": 4
      }
    },
    "kernelspec": {
      "display_name": "Python 3 (ipykernel)",
      "language": "python",
      "name": "python3"
    },
    "language_info": {
      "codemirror_mode": {
        "name": "ipython",
        "version": 3
      },
      "file_extension": ".py",
      "mimetype": "text/x-python",
      "name": "python",
      "nbconvert_exporter": "python",
      "pygments_lexer": "ipython3",
      "version": "3.11.4"
    }
  },
  "nbformat": 4,
  "nbformat_minor": 5
}
