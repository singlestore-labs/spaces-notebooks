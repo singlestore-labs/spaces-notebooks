{
  "cells": [
    {
      "id": "0a372889",
      "cell_type": "markdown",
      "metadata": {},
      "source": [
        "<div id=\"singlestore-header\" style=\"display: flex; background-color: rgba(210, 255, 153, 0.25); padding: 5px;\">\n",
        "    <div id=\"icon-image\" style=\"width: 90px; height: 90px;\">\n",
        "        <img width=\"100%\" height=\"100%\" src=\"https://raw.githubusercontent.com/singlestore-labs/spaces-notebooks/master/common/images/header-icons/chart-network.png\" />\n",
        "    </div>\n",
        "    <div id=\"text\" style=\"padding: 5px; margin-left: 10px;\">\n",
        "        <div id=\"badge\" style=\"display: inline-block; background-color: rgba(0, 0, 0, 0.15); border-radius: 4px; padding: 4px 8px; align-items: center; margin-top: 6px; margin-bottom: -2px; font-size: 80%\">SingleStore Notebooks</div>\n",
        "        <h1 style=\"font-weight: 500; margin: 8px 0 0 4px;\">Load JSON files with Pipeline from S3</h1>\n",
        "    </div>\n",
        "</div>"
      ]
    },
    {
      "cell_type": "markdown",
      "metadata": {},
      "source": [
        "<div class=\"alert alert-block alert-info\">\n",
        "    <b class=\"fa fa-solid fa-info-circle\"></b>\n",
        "    <div>\n",
        "        <p><b>Note</b></p>\n",
        "        <p>This tutorial is meant for Standard & Premium Workspaces. You can't run this with a Free Starter Workspace due to restrictions on Storage. Create a Workspace using +group in the left nav & select Standard for this notebook. Gallery notebooks tagged with \"Starter\" are suitable to run on a Free Starter Workspace </p>\n",
        "    </div>\n",
        "</div>"
      ],
      "id": "48097b9a"
    },
    {
      "cell_type": "markdown",
      "metadata": {},
      "source": [
        "This notebook helps you navigate through different scenarios data ingestion of JSON files from an AWS S3 location:\n",
        "* Ingest JSON files in AWS S3 using wildcards with pre-defined schema\n",
        "* Ingest JSON files in AWS S3 using wildcards into a JSON column"
      ],
      "id": "ddbcac99"
    },
    {
      "cell_type": "markdown",
      "metadata": {},
      "source": [
        "## Create a Pipeline from JSON files in AWS S3 using wildcards"
      ],
      "id": "3592227a"
    },
    {
      "cell_type": "markdown",
      "metadata": {},
      "source": [
        "In this example, we want to create a pipeline from two JSON files called **actors1.json** and **actors2.json** stored in an AWS S3 bucket called singlestoredb and a folder called **actors**. This bucket is located in **us-east-1**."
      ],
      "id": "23ad18c2"
    },
    {
      "cell_type": "markdown",
      "metadata": {},
      "source": [
        "Each file has the following shape with nested objects and arrays:\n",
        "```json\n",
        "{\n",
        "  \"Actors\": [\n",
        "    {\n",
        "      \"name\": \"Tom Cruise\",\n",
        "      \"age\": 56,\n",
        "      \"Born At\": \"Syracuse, NY\",\n",
        "      \"Birthdate\": \"July 3, 1962\",\n",
        "      \"photo\": \"https://jsonformatter.org/img/tom-cruise.jpg\",\n",
        "      \"wife\": null,\n",
        "      \"weight\": 67.5,\n",
        "      \"hasChildren\": true,\n",
        "      \"hasGreyHair\": false,\n",
        "      \"children\": [\n",
        "        \"Suri\",\n",
        "        \"Isabella Jane\",\n",
        "        \"Connor\"\n",
        "      ]\n",
        "    },\n",
        "    {\n",
        "      \"name\": \"Robert Downey Jr.\",\n",
        "      \"age\": 53,\n",
        "      \"Born At\": \"New York City, NY\",\n",
        "      \"Birthdate\": \"April 4, 1965\",\n",
        "      \"photo\": \"https://jsonformatter.org/img/Robert-Downey-Jr.jpg\",\n",
        "      \"wife\": \"Susan Downey\",\n",
        "      \"weight\": 77.1,\n",
        "      \"hasChildren\": true,\n",
        "      \"hasGreyHair\": false,\n",
        "      \"children\": [\n",
        "        \"Indio Falconer\",\n",
        "        \"Avri Roel\",\n",
        "        \"Exton Elias\"\n",
        "      ]\n",
        "    }\n",
        "  ]\n",
        "}\n",
        "```"
      ],
      "id": "551b8612"
    },
    {
      "cell_type": "markdown",
      "metadata": {},
      "source": [
        "### Create a Table"
      ],
      "id": "ac9ed17a"
    },
    {
      "cell_type": "markdown",
      "metadata": {},
      "source": [
        "We first create a table called **actors** in the database **demo_database**"
      ],
      "id": "5f0e4e06"
    },
    {
      "cell_type": "code",
      "execution_count": 1,
      "metadata": {},
      "outputs": [],
      "source": [
        "%%sql\n",
        "CREATE DATABASE IF NOT EXISTS demo_database;"
      ],
      "id": "2857e33b"
    },
    {
      "cell_type": "markdown",
      "metadata": {},
      "source": [
        "<div class=\"alert alert-block alert-warning\">\n",
        "    <b class=\"fa fa-solid fa-exclamation-circle\"></b>\n",
        "    <div>\n",
        "        <p><b>Action Required</b></p>\n",
        "        <p>Make sure to select the <tt>demo_database</tt> database from the drop-down menu at the top of this notebook. It updates the <tt>connection_url</tt> to connect to that database.</p>\n",
        "    </div>\n",
        "</div>"
      ],
      "id": "5a236dfe"
    },
    {
      "cell_type": "code",
      "execution_count": 2,
      "metadata": {},
      "outputs": [],
      "source": [
        "%%sql\n",
        "CREATE TABLE IF NOT EXISTS demo_database.actors (\n",
        "    name text CHARACTER SET utf8 COLLATE utf8_general_ci NOT NULL,\n",
        "    age int NOT NULL,\n",
        "    born_at text CHARACTER SET utf8 COLLATE utf8_general_ci NOT NULL,\n",
        "    Birthdate text CHARACTER SET utf8 COLLATE utf8_general_ci NOT NULL,\n",
        "    photo text CHARACTER SET utf8 COLLATE utf8_general_ci NOT NULL,\n",
        "    wife text CHARACTER SET utf8 COLLATE utf8_general_ci,\n",
        "    weight float NOT NULL,\n",
        "    haschildren boolean,\n",
        "    hasGreyHair boolean,\n",
        "    children  JSON COLLATE utf8_bin NOT NULL,\n",
        "    SHARD KEY ()\n",
        ");"
      ],
      "id": "4a17a738"
    },
    {
      "cell_type": "markdown",
      "metadata": {},
      "source": [
        "### Create a pipeline"
      ],
      "id": "8c07ad3e"
    },
    {
      "cell_type": "markdown",
      "metadata": {},
      "source": [
        "We then create a pipeline called **actors** in the database **demo_database**. Since those files are small, batch_interval is not as important and the maximum partitions per batch is only 1. For faster performance, we recommend increasing the maximum partitions per batch.\n",
        "Note, that since the bucket is publcly accessible, you do not need to provide access key and secret."
      ],
      "id": "f6d82cb6"
    },
    {
      "cell_type": "code",
      "execution_count": 3,
      "metadata": {},
      "outputs": [],
      "source": [
        "%%sql\n",
        "CREATE PIPELINE if not exists demo_database.actors\n",
        "    AS LOAD DATA S3 'studiotutorials/sample_dataset/json_files/wildcard_demo/*.json'\n",
        "    CONFIG '{ \\\"region\\\": \\\"us-east-1\\\" }'\n",
        "    /*\n",
        "    CREDENTIALS '{\"aws_access_key_id\": \"<Key to Enter>\",\n",
        "                  \"aws_secret_access_key\": \"<Key to Enter>\"}'\n",
        "    */\n",
        "    BATCH_INTERVAL 2500\n",
        "    MAX_PARTITIONS_PER_BATCH 1\n",
        "    DISABLE OUT_OF_ORDER OPTIMIZATION\n",
        "    DISABLE OFFSETS METADATA GC\n",
        "    SKIP DUPLICATE KEY ERRORS\n",
        "    INTO TABLE `actors`\n",
        "    FORMAT JSON\n",
        "    (\n",
        "        actors.name <- name,\n",
        "        actors.age <- age,\n",
        "        actors.born_at <- `Born At`,\n",
        "        actors.Birthdate <- Birthdate,\n",
        "        actors.photo <- photo,\n",
        "        actors.wife <- wife,\n",
        "        actors.weight <- weight,\n",
        "        actors.haschildren <- hasChildren,\n",
        "        actors.hasGreyHair <- hasGreyHair,\n",
        "        actors.children <- children\n",
        "    );"
      ],
      "id": "d49f0edb"
    },
    {
      "cell_type": "markdown",
      "metadata": {},
      "source": [
        "### Start and monitor the pipeline"
      ],
      "id": "1fbca46b"
    },
    {
      "cell_type": "code",
      "execution_count": 4,
      "metadata": {},
      "outputs": [],
      "source": [
        "%%sql\n",
        "START PIPELINE demo_database.actors;"
      ],
      "id": "cbd877bb"
    },
    {
      "cell_type": "markdown",
      "metadata": {},
      "source": [
        "If there is no error or warning, you should see no error message."
      ],
      "id": "908565d2"
    },
    {
      "cell_type": "code",
      "execution_count": 5,
      "metadata": {},
      "outputs": [],
      "source": [
        "%%sql\n",
        "SELECT * FROM information_schema.pipelines_errors\n",
        "    WHERE pipeline_name = 'actors' ;"
      ],
      "id": "a747d67c"
    },
    {
      "cell_type": "markdown",
      "metadata": {},
      "source": [
        "### Query the table"
      ],
      "id": "3f92a9a1"
    },
    {
      "cell_type": "code",
      "execution_count": 6,
      "metadata": {},
      "outputs": [],
      "source": [
        "%%sql\n",
        "SELECT * FROM demo_database.actors;"
      ],
      "id": "7147748d"
    },
    {
      "cell_type": "markdown",
      "metadata": {},
      "source": [
        "### Cleanup ressources"
      ],
      "id": "9aafc5e0"
    },
    {
      "cell_type": "code",
      "execution_count": 7,
      "metadata": {},
      "outputs": [],
      "source": [
        "%%sql\n",
        "DROP PIPELINE IF EXISTS demo_database.actors;\n",
        "DROP TABLE IF EXISTS demo_database.actors;"
      ],
      "id": "a0ebee1a"
    },
    {
      "cell_type": "markdown",
      "metadata": {},
      "source": [
        "## Ingest JSON files in AWS S3 using wildcards into a JSON column"
      ],
      "id": "328b6f8e"
    },
    {
      "cell_type": "markdown",
      "metadata": {},
      "source": [
        "As the schema of your files might change, you might want to keep flexibility in ingesting the data into one JSON column that we name **json_data**. the table we create is named **actors_json**."
      ],
      "id": "ff1def80"
    },
    {
      "cell_type": "markdown",
      "metadata": {},
      "source": [
        "### Create Table"
      ],
      "id": "11b48867"
    },
    {
      "cell_type": "code",
      "execution_count": 8,
      "metadata": {},
      "outputs": [],
      "source": [
        "%%sql\n",
        "CREATE TABLE IF NOT EXISTS demo_database.actors_json (\n",
        "    json_data JSON NOT NULL,\n",
        "    SHARD KEY ()\n",
        ");"
      ],
      "id": "e8d86472"
    },
    {
      "cell_type": "markdown",
      "metadata": {},
      "source": [
        "### Create a pipeline"
      ],
      "id": "7bcf7671"
    },
    {
      "cell_type": "code",
      "execution_count": 9,
      "metadata": {},
      "outputs": [],
      "source": [
        "%%sql\n",
        "CREATE PIPELINE IF NOT EXISTS demo_database.actors_json\n",
        "    AS LOAD DATA S3 'studiotutorials/sample_dataset/json_files/wildcard_demo/*.json'\n",
        "    CONFIG '{ \\\"region\\\": \\\"us-east-1\\\" }'\n",
        "    /*\n",
        "    CREDENTIALS '{\"aws_access_key_id\": \"<Key to Enter>\",\n",
        "                  \"aws_secret_access_key\": \"<Key to Enter>\"}'\n",
        "    */\n",
        "    BATCH_INTERVAL 2500\n",
        "    MAX_PARTITIONS_PER_BATCH 1\n",
        "    DISABLE OUT_OF_ORDER OPTIMIZATION\n",
        "    DISABLE OFFSETS METADATA GC\n",
        "    SKIP DUPLICATE KEY ERRORS\n",
        "    INTO TABLE `actors_json`\n",
        "    FORMAT JSON\n",
        "    (json_data <- %);"
      ],
      "id": "d359933e"
    },
    {
      "cell_type": "markdown",
      "metadata": {},
      "source": [
        "### Start and monitor pipeline"
      ],
      "id": "04353f3a"
    },
    {
      "cell_type": "code",
      "execution_count": 10,
      "metadata": {},
      "outputs": [],
      "source": [
        "%%sql\n",
        "START PIPELINE demo_database.actors_json;"
      ],
      "id": "37b78fc2"
    },
    {
      "cell_type": "code",
      "execution_count": 11,
      "metadata": {},
      "outputs": [],
      "source": [
        "%%sql\n",
        "# Monitor and see if there is any error or warning\n",
        "SELECT * FROM information_schema.pipelines_errors\n",
        "    WHERE pipeline_name = 'actors_json' ;"
      ],
      "id": "8ac661c1"
    },
    {
      "cell_type": "markdown",
      "metadata": {},
      "source": [
        "### Query the table"
      ],
      "id": "080d9cb6"
    },
    {
      "cell_type": "code",
      "execution_count": 12,
      "metadata": {},
      "outputs": [],
      "source": [
        "%%sql\n",
        "SELECT * FROM demo_database.actors_json"
      ],
      "id": "390b84af"
    },
    {
      "cell_type": "markdown",
      "metadata": {},
      "source": [
        "### Cleanup ressources"
      ],
      "id": "ed556ee9"
    },
    {
      "cell_type": "code",
      "execution_count": 13,
      "metadata": {},
      "outputs": [],
      "source": [
        "%%sql\n",
        "DROP DATABASE IF EXISTS demo_database;"
      ],
      "id": "c2dd1608"
    },
    {
      "id": "b217d2f0",
      "cell_type": "markdown",
      "metadata": {},
      "source": [
        "<div id=\"singlestore-footer\" style=\"background-color: rgba(194, 193, 199, 0.25); height:2px; margin-bottom:10px\"></div>\n",
        "<div><img src=\"https://raw.githubusercontent.com/singlestore-labs/spaces-notebooks/master/common/images/singlestore-logo-grey.png\" style=\"padding: 0px; margin: 0px; height: 24px\"/></div>"
      ]
    }
  ],
  "metadata": {
    "jupyterlab": {
      "notebooks": {
        "version_major": 6,
        "version_minor": 4
      }
    },
    "kernelspec": {
      "display_name": "Python 3 (ipykernel)",
      "language": "python",
      "name": "python3"
    },
    "language_info": {
      "codemirror_mode": {
        "name": "ipython",
        "version": 3
      },
      "file_extension": ".py",
      "mimetype": "text/x-python",
      "name": "python",
      "nbconvert_exporter": "python",
      "pygments_lexer": "ipython3",
      "version": "3.11.4"
    }
  },
  "nbformat": 4,
  "nbformat_minor": 5
}
