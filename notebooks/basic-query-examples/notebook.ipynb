{
  "cells": [
    {
      "id": "e66c936c",
      "cell_type": "markdown",
      "metadata": {},
      "source": [
        "<div id=\"singlestore-header\" style=\"display: flex; background-color: rgba(209, 153, 255, 0.25); padding: 5px;\">\n",
        "    <div id=\"icon-image\" style=\"width: 90px; height: 90px;\">\n",
        "        <img width=\"100%\" height=\"100%\" src=\"https://raw.githubusercontent.com/singlestore-labs/spaces-notebooks/master/common/images/header-icons/notes.png\" />\n",
        "    </div>\n",
        "    <div id=\"text\" style=\"padding: 5px; margin-left: 10px;\">\n",
        "        <div id=\"badge\" style=\"display: inline-block; background-color: rgba(0, 0, 0, 0.15); border-radius: 4px; padding: 4px 8px; align-items: center; margin-top: 6px; margin-bottom: -2px; font-size: 80%\">SingleStore Notebooks</div>\n",
        "        <h1 style=\"font-weight: 500; margin: 8px 0 0 4px;\">Basic Query Examples</h1>\n",
        "    </div>\n",
        "</div>"
      ]
    },
    {
      "id": "0b6723be",
      "cell_type": "markdown",
      "metadata": {},
      "source": [
        "<div class=\"alert alert-block alert-warning\">\n",
        "    <b class=\"fa fa-solid fa-exclamation-circle\"></b>\n",
        "    <div>\n",
        "        <p><b>Note</b></p>\n",
        "        <p>This notebook can be run on a Free Starter Workspace. To create a Free Starter Workspace navigate to <tt>Start</tt> using the left nav. You can also use your existing Standard or Premium workspace with this Notebook.</p>\n",
        "    </div>\n",
        "</div>"
      ]
    },
    {
      "attachments": {},
      "cell_type": "markdown",
      "metadata": {},
      "source": [
        "<table style=\"border: 0; border-spacing: 0; width: 100%; background-color: #03010D\"><tr>\n",
        "    <td style=\"padding: 0; margin: 0; background-color: #03010D; width: 33%; text-align: center\"><img src=\"https://raw.githubusercontent.com/singlestore-labs/spaces-notebooks/master/common/images/singlestore-logo-vertical.png\" style=\"height: 200px;\"/></td>\n",
        "    <td style=\"padding: 0; margin: 0; width: 66%; background-color: #03010D; text-align: right\"><img src=\"https://raw.githubusercontent.com/singlestore-labs/spaces-notebooks/master/common/images/singlestore-jupyter.png\" style=\"height: 250px\"/></td>\n",
        "</tr></table>"
      ],
      "id": "4cfe69c9"
    },
    {
      "attachments": {},
      "cell_type": "markdown",
      "metadata": {},
      "source": [
        "This notebook demonstrates how to run queries on SingleStore through a series of examples. For simplicity, the sample data in these examples is limited to 10 rows or less per table, which is much smaller than typical workloads. The examples cover various database operations, including index scans, full-table scans, joins, and aggregations."
      ],
      "id": "9bdcbdbd"
    },
    {
      "attachments": {},
      "cell_type": "markdown",
      "metadata": {},
      "source": [
        "## 1. Create a Workspace\n",
        "To create a workspace, refer to the [Creating and Using Workspaces](https://docs.singlestore.com/cloud/getting-started-with-singlestore-helios/about-workspaces/creating-and-using-workspaces/)."
      ],
      "id": "40050891"
    },
    {
      "attachments": {},
      "cell_type": "markdown",
      "metadata": {},
      "source": [
        "## 2. Create the Database\n",
        "Select the workspace in your notebook, and create a database."
      ],
      "id": "8551a58b"
    },
    {
      "cell_type": "code",
      "execution_count": 1,
      "metadata": {},
      "outputs": [],
      "source": [
        "%%sql\n",
        "CREATE DATABASE memsql_example;\n",
        "USE memsql_example;"
      ],
      "id": "bcc93142"
    },
    {
      "attachments": {},
      "cell_type": "markdown",
      "metadata": {},
      "source": [
        "## 3. Create the tables\n",
        "Create the tables named departments, employees, and salaries."
      ],
      "id": "c63daae9"
    },
    {
      "cell_type": "code",
      "execution_count": 2,
      "metadata": {},
      "outputs": [],
      "source": [
        "%%sql\n",
        "CREATE TABLE departments /* Creating table for sample data. */(\n",
        "  id int,\n",
        "  name varchar(255),\n",
        "  PRIMARY KEY (id)\n",
        ");\n",
        "\n",
        "CREATE TABLE employees /* Creating table for sample data. */(\n",
        "  id int,\n",
        "  deptId int,\n",
        "  managerId int,\n",
        "  name varchar(255),\n",
        "  hireDate date,\n",
        "  state char(2),\n",
        "  PRIMARY KEY (id)\n",
        ");\n",
        "\n",
        "CREATE TABLE salaries /* Creating table for sample data. */(\n",
        "  employeeId int,\n",
        "  salary int,\n",
        "  PRIMARY KEY (employeeId)\n",
        ");"
      ],
      "id": "9afac7f0"
    },
    {
      "attachments": {},
      "cell_type": "markdown",
      "metadata": {},
      "source": [
        "## 4. Populate the tables\n",
        "Insert the data into the tables."
      ],
      "id": "e3310d6d"
    },
    {
      "cell_type": "code",
      "execution_count": 3,
      "metadata": {},
      "outputs": [],
      "source": [
        "%%sql\n",
        "INSERT INTO departments (id, name) VALUES\n",
        "  (1, 'Marketing'), (2, 'Finance'), (3, 'Sales'), (4, 'Customer Service');\n",
        "\n",
        "INSERT INTO employees (id, deptId, managerId, name, hireDate, state) VALUES\n",
        "  (1, 2, NULL, \"Karly Steele\", \"2011-08-25\", \"NY\"),\n",
        "  (2, 1, 1, \"Rhona Nichols\", \"2008-09-11\", \"TX\"),\n",
        "  (3, 4, 2, \"Hedda Kent\", \"2005-10-27\", \"TX\"),\n",
        "  (4, 2, 1, \"Orli Strong\", \"2001-07-01\", \"NY\"),\n",
        "  (5, 1, 1, \"Leonard Haynes\", \"2011-05-30\", \"MS\"),\n",
        "  (6, 1, 5, \"Colette Payne\", \"2002-10-22\", \"MS\"),\n",
        "  (7, 3, 4, \"Cooper Hatfield\", \"2010-08-19\", \"NY\"),\n",
        "  (8, 2, 4, \"Timothy Battle\", \"2001-01-21\", \"NY\"),\n",
        "  (9, 3, 1, \"Doris Munoz\", \"2008-10-22\", \"NY\"),\n",
        "  (10, 4, 2, \"Alea Wiggins\", \"2007-08-21\", \"TX\");\n",
        "\n",
        "INSERT INTO salaries (employeeId, salary) VALUES\n",
        "  (1, 885219), (2, 451519), (3, 288905), (4, 904312), (5, 919124),\n",
        "  (6, 101538), (7, 355077), (8, 900436), (9, 41557), (10, 556263);"
      ],
      "id": "c29bfd9b"
    },
    {
      "attachments": {},
      "cell_type": "markdown",
      "metadata": {},
      "source": [
        "## 5. Let's Query!"
      ],
      "id": "ecce36d9"
    },
    {
      "attachments": {},
      "cell_type": "markdown",
      "metadata": {},
      "source": [
        "### The SELECT statement\n",
        "Ask how many rows are in the employees table."
      ],
      "id": "05434143"
    },
    {
      "cell_type": "code",
      "execution_count": 4,
      "metadata": {},
      "outputs": [],
      "source": [
        "%%sql\n",
        "SELECT COUNT(*) from employees;"
      ],
      "id": "110813ed"
    },
    {
      "attachments": {},
      "cell_type": "markdown",
      "metadata": {},
      "source": [
        "### The ORDER BY clause\n",
        "List the ID and the name of each employee."
      ],
      "id": "7094c248"
    },
    {
      "cell_type": "code",
      "execution_count": 5,
      "metadata": {},
      "outputs": [],
      "source": [
        "%%sql\n",
        "SELECT id, name FROM employees ORDER BY id;"
      ],
      "id": "47233824"
    },
    {
      "attachments": {},
      "cell_type": "markdown",
      "metadata": {},
      "source": [
        "### The WHERE clause\n",
        "List the employees that work in Texas."
      ],
      "id": "7df73edf"
    },
    {
      "cell_type": "code",
      "execution_count": 6,
      "metadata": {},
      "outputs": [],
      "source": [
        "%%sql\n",
        "SELECT id, name FROM employees WHERE state = 'TX' ORDER BY id;"
      ],
      "id": "60034c4d"
    },
    {
      "attachments": {},
      "cell_type": "markdown",
      "metadata": {},
      "source": [
        "You can use the same above query by replacing **state = 'NY'** to list the employees that work in New York."
      ],
      "id": "811da905"
    },
    {
      "cell_type": "code",
      "execution_count": 7,
      "metadata": {},
      "outputs": [],
      "source": [
        "%%sql\n",
        "SELECT id, name FROM employees WHERE state = 'NY' ORDER BY id;"
      ],
      "id": "bcb3d03d"
    },
    {
      "attachments": {},
      "cell_type": "markdown",
      "metadata": {},
      "source": [
        "List the employees hired before 2002."
      ],
      "id": "158a598c"
    },
    {
      "cell_type": "code",
      "execution_count": 8,
      "metadata": {},
      "outputs": [],
      "source": [
        "%%sql\n",
        "SELECT id, name, hireDate\n",
        "  FROM employees\n",
        "  WHERE hireDate < '2002-01-01'\n",
        "  ORDER BY id;"
      ],
      "id": "7aae35da"
    },
    {
      "attachments": {},
      "cell_type": "markdown",
      "metadata": {},
      "source": [
        "List employees and their departments."
      ],
      "id": "73ebb059"
    },
    {
      "cell_type": "code",
      "execution_count": 9,
      "metadata": {},
      "outputs": [],
      "source": [
        "%%sql\n",
        "SELECT e.name, d.name department FROM\n",
        "  employees e, departments d\n",
        "  WHERE e.deptId = d.id\n",
        "  ORDER BY name;"
      ],
      "id": "58fe3b95"
    },
    {
      "attachments": {},
      "cell_type": "markdown",
      "metadata": {},
      "source": [
        "### The COUNT function\n",
        "List the number of employees in each state."
      ],
      "id": "c4aeb361"
    },
    {
      "cell_type": "code",
      "execution_count": 10,
      "metadata": {},
      "outputs": [],
      "source": [
        "%%sql\n",
        "SELECT state, COUNT(*)\n",
        "  from employees\n",
        "  group by state\n",
        "  ORDER BY state;"
      ],
      "id": "629c27c4"
    },
    {
      "attachments": {},
      "cell_type": "markdown",
      "metadata": {},
      "source": [
        "### The MAX function\n",
        "Highest salary amongst all employees."
      ],
      "id": "ded11200"
    },
    {
      "cell_type": "code",
      "execution_count": 11,
      "metadata": {},
      "outputs": [],
      "source": [
        "%%sql\n",
        "SELECT MAX(salary) FROM salaries;"
      ],
      "id": "d047479f"
    },
    {
      "attachments": {},
      "cell_type": "markdown",
      "metadata": {},
      "source": [
        "### The Subqueries\n",
        "Employee with the highest salary."
      ],
      "id": "a7012ca0"
    },
    {
      "cell_type": "code",
      "execution_count": 12,
      "metadata": {},
      "outputs": [],
      "source": [
        "%%sql\n",
        "SELECT e.name, s.salary\n",
        "  FROM employees e, salaries s\n",
        "  WHERE e.id = s.employeeId and\n",
        "    s.salary = (SELECT MAX(salary) FROM salaries);"
      ],
      "id": "8c2a5493"
    },
    {
      "attachments": {},
      "cell_type": "markdown",
      "metadata": {},
      "source": [
        "### The AVG function\n",
        "Average salary of employees in each state."
      ],
      "id": "9e91ec52"
    },
    {
      "cell_type": "code",
      "execution_count": 13,
      "metadata": {},
      "outputs": [],
      "source": [
        "%%sql\n",
        "SELECT e.state, AVG(salary)\n",
        "  FROM employees e\n",
        "  JOIN salaries s on e.id = s.employeeId\n",
        "  GROUP BY e.state\n",
        "  ORDER BY e.state;"
      ],
      "id": "db4faa72"
    },
    {
      "attachments": {},
      "cell_type": "markdown",
      "metadata": {},
      "source": [
        "### The IN operator\n",
        "List of managers."
      ],
      "id": "12d85cec"
    },
    {
      "cell_type": "code",
      "execution_count": 14,
      "metadata": {},
      "outputs": [],
      "source": [
        "%%sql\n",
        "SELECT name\n",
        "  FROM employees\n",
        "  WHERE id IN (SELECT managerId FROM employees)\n",
        "  ORDER BY name;"
      ],
      "id": "0a414332"
    },
    {
      "attachments": {},
      "cell_type": "markdown",
      "metadata": {},
      "source": [
        "### The NOT IN operator\n",
        "List of non-managers."
      ],
      "id": "c9b0f7f6"
    },
    {
      "cell_type": "code",
      "execution_count": 15,
      "metadata": {},
      "outputs": [],
      "source": [
        "%%sql\n",
        "SELECT name\n",
        "  FROM employees\n",
        "  WHERE id NOT IN (SELECT managerId FROM employees)\n",
        "  ORDER BY name;"
      ],
      "id": "d02b4c74"
    },
    {
      "attachments": {},
      "cell_type": "markdown",
      "metadata": {},
      "source": [
        "### The Joins\n",
        "Number of employees reporting to each manager."
      ],
      "id": "f1b4df30"
    },
    {
      "cell_type": "code",
      "execution_count": 16,
      "metadata": {},
      "outputs": [],
      "source": [
        "%%sql\n",
        "SELECT m.name, COUNT(*) count\n",
        "  FROM employees m\n",
        "  JOIN employees e ON m.id = e.managerId\n",
        "  GROUP BY m.id\n",
        "  ORDER BY count DESC;"
      ],
      "id": "360fb1fd"
    },
    {
      "attachments": {},
      "cell_type": "markdown",
      "metadata": {},
      "source": [
        "Number of employees reporting to each employee."
      ],
      "id": "bed134b6"
    },
    {
      "cell_type": "code",
      "execution_count": 17,
      "metadata": {},
      "outputs": [],
      "source": [
        "%%sql\n",
        "SELECT m.name, COUNT(e.id) count\n",
        "  FROM employees m\n",
        "  LEFT JOIN employees e ON m.id = e.managerId\n",
        "  GROUP BY m.id\n",
        "  ORDER BY count desc;"
      ],
      "id": "a8fb1c38"
    },
    {
      "attachments": {},
      "cell_type": "markdown",
      "metadata": {},
      "source": [
        "Manager of each employee."
      ],
      "id": "b1e9e462"
    },
    {
      "cell_type": "code",
      "execution_count": 18,
      "metadata": {},
      "outputs": [],
      "source": [
        "%%sql\n",
        "SELECT e.name employee_name, m.name manager_name\n",
        "  FROM employees e\n",
        "  LEFT JOIN employees m ON e.managerId = m.id\n",
        "  ORDER BY manager_name;"
      ],
      "id": "3844b6f3"
    },
    {
      "attachments": {},
      "cell_type": "markdown",
      "metadata": {},
      "source": [
        "Total salary of the employees reporting to each manager."
      ],
      "id": "f04ab919"
    },
    {
      "cell_type": "code",
      "execution_count": 19,
      "metadata": {},
      "outputs": [],
      "source": [
        "%%sql\n",
        "SELECT m.name, sum(salary)\n",
        "  FROM employees m\n",
        "  JOIN employees e ON m.id = e.managerId\n",
        "  JOIN salaries s ON s.employeeId = e.id\n",
        "  GROUP BY m.id\n",
        "  ORDER BY SUM(salary) DESC;"
      ],
      "id": "6893f63d"
    },
    {
      "attachments": {},
      "cell_type": "markdown",
      "metadata": {},
      "source": [
        "Employees in the finance department earning more than their manager."
      ],
      "id": "c060083c"
    },
    {
      "cell_type": "code",
      "execution_count": 20,
      "metadata": {},
      "outputs": [],
      "source": [
        "%%sql\n",
        "%%sql\n",
        "SELECT e.name employee_name, se.salary employee_salary, m.name manager_name, sm.salary manager_salary\n",
        "FROM employees e\n",
        "JOIN salaries se ON e.id = se.employeeId\n",
        "JOIN employees m ON m.id = e.managerId\n",
        "JOIN salaries sm ON sm.employeeId = m.id\n",
        "JOIN departments d ON d.id = e.deptId\n",
        "WHERE d.name = 'Finance'\n",
        "  AND sm.salary < se.salary\n",
        "ORDER BY employee_salary, manager_salary;"
      ],
      "id": "64a8fe23"
    },
    {
      "attachments": {},
      "cell_type": "markdown",
      "metadata": {},
      "source": [
        "**Learn more about SingleStore notebooks [here](https://docs.singlestore.com/managed-service/en/developer-resources/notebooks.html).**"
      ],
      "id": "c4a4cb1b"
    },
    {
      "id": "fa4013d3",
      "cell_type": "markdown",
      "metadata": {},
      "source": [
        "<div id=\"singlestore-footer\" style=\"background-color: rgba(194, 193, 199, 0.25); height:2px; margin-bottom:10px\"></div>\n",
        "<div><img src=\"https://raw.githubusercontent.com/singlestore-labs/spaces-notebooks/master/common/images/singlestore-logo-grey.png\" style=\"padding: 0px; margin: 0px; height: 24px\"/></div>"
      ]
    }
  ],
  "metadata": {
    "jupyterlab": {
      "notebooks": {
        "version_major": 6,
        "version_minor": 4
      }
    },
    "kernelspec": {
      "display_name": "Python 3 (ipykernel)",
      "language": "python",
      "name": "python3"
    },
    "language_info": {
      "codemirror_mode": {
        "name": "ipython",
        "version": 3
      },
      "file_extension": ".py",
      "mimetype": "text/x-python",
      "name": "python",
      "nbconvert_exporter": "python",
      "pygments_lexer": "ipython3",
      "version": "3.11.6"
    }
  },
  "nbformat": 4,
  "nbformat_minor": 5
}
