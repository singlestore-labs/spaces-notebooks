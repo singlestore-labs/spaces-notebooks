{
  "cells": [
    {
      "cell_type": "markdown",
      "id": "44ae4cb7-8551-4d4a-9e5a-82342dcee51f",
      "metadata": {},
      "source": [
        "<div id=\"singlestore-header\" style=\"display: flex; background-color: rgba(209, 153, 255, 0.25); padding: 5px;\">\n",
        "    <div id=\"icon-image\" style=\"width: 90px; height: 90px;\">\n",
        "        <img width=\"100%\" height=\"100%\" src=\"https://raw.githubusercontent.com/singlestore-labs/spaces-notebooks/master/common/images/header-icons/notes.png\" />\n",
        "    </div>\n",
        "    <div id=\"text\" style=\"padding: 5px; margin-left: 10px;\">\n",
        "        <div id=\"badge\" style=\"display: inline-block; background-color: rgba(0, 0, 0, 0.15); border-radius: 4px; padding: 4px 8px; align-items: center; margin-top: 6px; margin-bottom: -2px; font-size: 80%\">SingleStore Notebooks</div>\n",
        "        <h1 style=\"font-weight: 500; margin: 8px 0 0 4px;\">Basic Query Examples</h1>\n",
        "    </div>\n",
        "</div>"
      ]
    },
    {
      "cell_type": "markdown",
      "id": "82a448ca-05ee-411a-a64e-b7f030d2a85c",
      "metadata": {},
      "source": [
        "<div class=\"alert alert-block alert-warning\">\n",
        "    <b class=\"fa fa-solid fa-exclamation-circle\"></b>\n",
        "    <div>\n",
        "        <p><b>Note</b></p>\n",
        "        <p>This notebook can be run on a Free Starter Workspace. To create a Free Starter Workspace navigate to <tt>Start</tt> using the left nav. You can also use your existing Standard or Premium workspace with this Notebook.</p>\n",
        "    </div>\n",
        "</div>"
      ]
    },
    {
      "attachments": {},
      "cell_type": "markdown",
      "id": "1a14e95a-9808-4ebf-9f4a-c7390c880f29",
      "metadata": {},
      "source": [
        "<table style=\"border: 0; border-spacing: 0; width: 100%; background-color: #03010D\"><tr>\n",
        "    <td style=\"padding: 0; margin: 0; background-color: #03010D; width: 33%; text-align: center\"><img src=\"https://raw.githubusercontent.com/singlestore-labs/spaces-notebooks/master/common/images/singlestore-logo-vertical.png\" style=\"height: 200px;\"/></td>\n",
        "    <td style=\"padding: 0; margin: 0; width: 66%; background-color: #03010D; text-align: right\"><img src=\"https://raw.githubusercontent.com/singlestore-labs/spaces-notebooks/master/common/images/singlestore-jupyter.png\" style=\"height: 250px\"/></td>\n",
        "</tr></table>"
      ]
    },
    {
      "attachments": {},
      "cell_type": "markdown",
      "id": "92913d25-fb67-47b4-a883-15d2cc7ecef6",
      "metadata": {},
      "source": [
        "This notebook demonstrates how to run queries on SingleStore through a series of examples. For simplicity, the sample data in these examples is limited to 10 rows or less per table, which is much smaller than typical workloads. The examples cover various database operations, including index scans, full-table scans, joins, and aggregations."
      ]
    },
    {
      "attachments": {},
      "cell_type": "markdown",
      "id": "80d7700a-f687-4c60-826f-526ae55eea09",
      "metadata": {},
      "source": [
        "## 1. Create a Workspace\n",
        "To create a workspace, refer to the [Creating and Using Workspaces](https://docs.singlestore.com/cloud/getting-started-with-singlestore-helios/about-workspaces/creating-and-using-workspaces/)."
      ]
    },
    {
      "attachments": {},
      "cell_type": "markdown",
      "id": "876a84da-16d5-472f-8d92-7f00d535af9a",
      "metadata": {},
      "source": [
        "## 2. Create the Database\n",
        "Select the workspace in your notebook, and create a database."
      ]
    },
    {
      "cell_type": "code",
      "execution_count": 1,
      "id": "384f780a-b4ff-4ee8-8be3-40185247a793",
      "metadata": {},
      "outputs": [
        {
          "data": {
            "text/html": "<table>\n    <thead>\n        <tr>\n        </tr>\n    </thead>\n    <tbody>\n    </tbody>\n</table>",
            "text/plain": "++\n||\n++\n++"
          },
          "execution_count": 2,
          "metadata": {},
          "output_type": "execute_result"
        }
      ],
      "source": [
        "%%sql\n",
        "CREATE DATABASE memsql_example;\n",
        "USE memsql_example;"
      ]
    },
    {
      "attachments": {},
      "cell_type": "markdown",
      "id": "dd20143a-8275-4f15-a72e-b842e1d467cd",
      "metadata": {},
      "source": [
        "## 3. Create the tables\n",
        "Create the tables named departments, employees, and salaries."
      ]
    },
    {
      "cell_type": "code",
      "execution_count": 2,
      "id": "0844b00f-0cd1-4e05-b616-d565589cacfd",
      "metadata": {},
      "outputs": [
        {
          "data": {
            "text/html": "<table>\n    <thead>\n        <tr>\n        </tr>\n    </thead>\n    <tbody>\n    </tbody>\n</table>",
            "text/plain": "++\n||\n++\n++"
          },
          "execution_count": 3,
          "metadata": {},
          "output_type": "execute_result"
        }
      ],
      "source": [
        "%%sql\n",
        "CREATE TABLE departments (\n",
        "  id int,\n",
        "  name varchar(255),\n",
        "  PRIMARY KEY (id)\n",
        ");\n",
        "\n",
        "CREATE TABLE employees (\n",
        "  id int,\n",
        "  deptId int,\n",
        "  managerId int,\n",
        "  name varchar(255),\n",
        "  hireDate date,\n",
        "  state char(2),\n",
        "  PRIMARY KEY (id)\n",
        ");\n",
        "\n",
        "CREATE TABLE salaries (\n",
        "  employeeId int,\n",
        "  salary int,\n",
        "  PRIMARY KEY (employeeId)\n",
        ");"
      ]
    },
    {
      "attachments": {},
      "cell_type": "markdown",
      "id": "44393e0c-d101-4dcd-ae68-1874fab727f3",
      "metadata": {},
      "source": [
        "## 4. Populate the tables\n",
        "Insert the data into the tables."
      ]
    },
    {
      "cell_type": "code",
      "execution_count": 3,
      "id": "ad1da4d8-abde-4e06-ad3e-8f1620577cab",
      "metadata": {},
      "outputs": [
        {
          "data": {
            "text/html": "<table>\n    <thead>\n        <tr>\n        </tr>\n    </thead>\n    <tbody>\n    </tbody>\n</table>",
            "text/plain": "++\n||\n++\n++"
          },
          "execution_count": 4,
          "metadata": {},
          "output_type": "execute_result"
        }
      ],
      "source": [
        "%%sql\n",
        "INSERT INTO departments (id, name) VALUES\n",
        "  (1, 'Marketing'), (2, 'Finance'), (3, 'Sales'), (4, 'Customer Service');\n",
        "\n",
        "INSERT INTO employees (id, deptId, managerId, name, hireDate, state) VALUES\n",
        "  (1, 2, NULL, \"Karly Steele\", \"2011-08-25\", \"NY\"),\n",
        "  (2, 1, 1, \"Rhona Nichols\", \"2008-09-11\", \"TX\"),\n",
        "  (3, 4, 2, \"Hedda Kent\", \"2005-10-27\", \"TX\"),\n",
        "  (4, 2, 1, \"Orli Strong\", \"2001-07-01\", \"NY\"),\n",
        "  (5, 1, 1, \"Leonard Haynes\", \"2011-05-30\", \"MS\"),\n",
        "  (6, 1, 5, \"Colette Payne\", \"2002-10-22\", \"MS\"),\n",
        "  (7, 3, 4, \"Cooper Hatfield\", \"2010-08-19\", \"NY\"),\n",
        "  (8, 2, 4, \"Timothy Battle\", \"2001-01-21\", \"NY\"),\n",
        "  (9, 3, 1, \"Doris Munoz\", \"2008-10-22\", \"NY\"),\n",
        "  (10, 4, 2, \"Alea Wiggins\", \"2007-08-21\", \"TX\");\n",
        "\n",
        "INSERT INTO salaries (employeeId, salary) VALUES\n",
        "  (1, 885219), (2, 451519), (3, 288905), (4, 904312), (5, 919124),\n",
        "  (6, 101538), (7, 355077), (8, 900436), (9, 41557), (10, 556263);"
      ]
    },
    {
      "attachments": {},
      "cell_type": "markdown",
      "id": "a5ecd8a4-b78f-4e87-a1ee-38d6e8629874",
      "metadata": {},
      "source": [
        "## 5. Let's Query!"
      ]
    },
    {
      "attachments": {},
      "cell_type": "markdown",
      "id": "52dd2459-3fe8-4e8b-8565-8d7abf89411f",
      "metadata": {},
      "source": [
        "### The SELECT statement\n",
        "Ask how many rows are in the employees table."
      ]
    },
    {
      "cell_type": "code",
      "execution_count": 4,
      "id": "be4a19b6-0549-47e0-b573-db2b2420448c",
      "metadata": {},
      "outputs": [
        {
          "data": {
            "text/html": "<table>\n    <thead>\n        <tr>\n            <th>COUNT(*)</th>\n        </tr>\n    </thead>\n    <tbody>\n        <tr>\n            <td>10</td>\n        </tr>\n    </tbody>\n</table>",
            "text/plain": "+----------+\n| COUNT(*) |\n+----------+\n|    10    |\n+----------+"
          },
          "execution_count": 5,
          "metadata": {},
          "output_type": "execute_result"
        }
      ],
      "source": [
        "%%sql\n",
        "SELECT COUNT(*) from employees;"
      ]
    },
    {
      "attachments": {},
      "cell_type": "markdown",
      "id": "358d7c70-2888-410a-bea6-2afd7a03f4fb",
      "metadata": {},
      "source": [
        "### The ORDER BY clause\n",
        "List the ID and the name of each employee."
      ]
    },
    {
      "cell_type": "code",
      "execution_count": 5,
      "id": "f36b3d0c-8fe2-41f3-ab21-97ea48218d9c",
      "metadata": {},
      "outputs": [
        {
          "data": {
            "text/html": "<table>\n    <thead>\n        <tr>\n            <th>id</th>\n            <th>name</th>\n        </tr>\n    </thead>\n    <tbody>\n        <tr>\n            <td>1</td>\n            <td>Karly Steele</td>\n        </tr>\n        <tr>\n            <td>2</td>\n            <td>Rhona Nichols</td>\n        </tr>\n        <tr>\n            <td>3</td>\n            <td>Hedda Kent</td>\n        </tr>\n        <tr>\n            <td>4</td>\n            <td>Orli Strong</td>\n        </tr>\n        <tr>\n            <td>5</td>\n            <td>Leonard Haynes</td>\n        </tr>\n        <tr>\n            <td>6</td>\n            <td>Colette Payne</td>\n        </tr>\n        <tr>\n            <td>7</td>\n            <td>Cooper Hatfield</td>\n        </tr>\n        <tr>\n            <td>8</td>\n            <td>Timothy Battle</td>\n        </tr>\n        <tr>\n            <td>9</td>\n            <td>Doris Munoz</td>\n        </tr>\n        <tr>\n            <td>10</td>\n            <td>Alea Wiggins</td>\n        </tr>\n    </tbody>\n</table>",
            "text/plain": "+----+-----------------+\n| id |       name      |\n+----+-----------------+\n| 1  |   Karly Steele  |\n| 2  |  Rhona Nichols  |\n| 3  |    Hedda Kent   |\n| 4  |   Orli Strong   |\n| 5  |  Leonard Haynes |\n| 6  |  Colette Payne  |\n| 7  | Cooper Hatfield |\n| 8  |  Timothy Battle |\n| 9  |   Doris Munoz   |\n| 10 |   Alea Wiggins  |\n+----+-----------------+"
          },
          "execution_count": 6,
          "metadata": {},
          "output_type": "execute_result"
        }
      ],
      "source": [
        "%%sql\n",
        "SELECT id, name FROM employees ORDER BY id;"
      ]
    },
    {
      "attachments": {},
      "cell_type": "markdown",
      "id": "619232f2-2706-4860-9654-65440398d35e",
      "metadata": {},
      "source": [
        "### The WHERE clause\n",
        "List the employees that work in Texas."
      ]
    },
    {
      "cell_type": "code",
      "execution_count": 6,
      "id": "4e4f50d0-5791-458f-80ed-fc82e8c0c4f9",
      "metadata": {},
      "outputs": [
        {
          "data": {
            "text/html": "<table>\n    <thead>\n        <tr>\n            <th>id</th>\n            <th>name</th>\n        </tr>\n    </thead>\n    <tbody>\n        <tr>\n            <td>2</td>\n            <td>Rhona Nichols</td>\n        </tr>\n        <tr>\n            <td>3</td>\n            <td>Hedda Kent</td>\n        </tr>\n        <tr>\n            <td>10</td>\n            <td>Alea Wiggins</td>\n        </tr>\n    </tbody>\n</table>",
            "text/plain": "+----+---------------+\n| id |      name     |\n+----+---------------+\n| 2  | Rhona Nichols |\n| 3  |   Hedda Kent  |\n| 10 |  Alea Wiggins |\n+----+---------------+"
          },
          "execution_count": 7,
          "metadata": {},
          "output_type": "execute_result"
        }
      ],
      "source": [
        "%%sql\n",
        "SELECT id, name FROM employees WHERE state = 'TX' ORDER BY id;"
      ]
    },
    {
      "attachments": {},
      "cell_type": "markdown",
      "id": "930ebd85-0ae1-4467-885a-08fc1b6b367e",
      "metadata": {},
      "source": [
        "You can use the same above query by replacing **state = 'NY'** to list the employees that work in New York."
      ]
    },
    {
      "cell_type": "code",
      "execution_count": 7,
      "id": "43b80580-709e-45b8-9d24-c42949a361a5",
      "metadata": {},
      "outputs": [
        {
          "data": {
            "text/html": "<table>\n    <thead>\n        <tr>\n            <th>id</th>\n            <th>name</th>\n        </tr>\n    </thead>\n    <tbody>\n        <tr>\n            <td>1</td>\n            <td>Karly Steele</td>\n        </tr>\n        <tr>\n            <td>4</td>\n            <td>Orli Strong</td>\n        </tr>\n        <tr>\n            <td>7</td>\n            <td>Cooper Hatfield</td>\n        </tr>\n        <tr>\n            <td>8</td>\n            <td>Timothy Battle</td>\n        </tr>\n        <tr>\n            <td>9</td>\n            <td>Doris Munoz</td>\n        </tr>\n    </tbody>\n</table>",
            "text/plain": "+----+-----------------+\n| id |       name      |\n+----+-----------------+\n| 1  |   Karly Steele  |\n| 4  |   Orli Strong   |\n| 7  | Cooper Hatfield |\n| 8  |  Timothy Battle |\n| 9  |   Doris Munoz   |\n+----+-----------------+"
          },
          "execution_count": 8,
          "metadata": {},
          "output_type": "execute_result"
        }
      ],
      "source": [
        "%%sql\n",
        "SELECT id, name FROM employees WHERE state = 'NY' ORDER BY id;"
      ]
    },
    {
      "attachments": {},
      "cell_type": "markdown",
      "id": "7f626258-5274-4c9c-b9e6-2b46a1e0969d",
      "metadata": {},
      "source": [
        "List the employees hired before 2002."
      ]
    },
    {
      "cell_type": "code",
      "execution_count": 8,
      "id": "b9b0119d-fd9f-49c1-bec2-4baf2d6c30c0",
      "metadata": {},
      "outputs": [
        {
          "data": {
            "text/html": "<table>\n    <thead>\n        <tr>\n            <th>id</th>\n            <th>name</th>\n            <th>hireDate</th>\n        </tr>\n    </thead>\n    <tbody>\n        <tr>\n            <td>4</td>\n            <td>Orli Strong</td>\n            <td>2001-07-01</td>\n        </tr>\n        <tr>\n            <td>8</td>\n            <td>Timothy Battle</td>\n            <td>2001-01-21</td>\n        </tr>\n    </tbody>\n</table>",
            "text/plain": "+----+----------------+------------+\n| id |      name      |  hireDate  |\n+----+----------------+------------+\n| 4  |  Orli Strong   | 2001-07-01 |\n| 8  | Timothy Battle | 2001-01-21 |\n+----+----------------+------------+"
          },
          "execution_count": 9,
          "metadata": {},
          "output_type": "execute_result"
        }
      ],
      "source": [
        "%%sql\n",
        "SELECT id, name, hireDate\n",
        "  FROM employees\n",
        "  WHERE hireDate < '2002-01-01'\n",
        "  ORDER BY id;"
      ]
    },
    {
      "attachments": {},
      "cell_type": "markdown",
      "id": "1fa3c609-3fc3-4d23-b491-a9442e0c2f9e",
      "metadata": {},
      "source": [
        "List employees and their departments."
      ]
    },
    {
      "cell_type": "code",
      "execution_count": 9,
      "id": "cf5fb4c7-5ac1-4c5e-92b1-b9563b17b0f7",
      "metadata": {},
      "outputs": [
        {
          "data": {
            "text/html": "<table>\n    <thead>\n        <tr>\n            <th>name</th>\n            <th>department</th>\n        </tr>\n    </thead>\n    <tbody>\n        <tr>\n            <td>Alea Wiggins</td>\n            <td>Customer Service</td>\n        </tr>\n        <tr>\n            <td>Colette Payne</td>\n            <td>Marketing</td>\n        </tr>\n        <tr>\n            <td>Cooper Hatfield</td>\n            <td>Sales</td>\n        </tr>\n        <tr>\n            <td>Doris Munoz</td>\n            <td>Sales</td>\n        </tr>\n        <tr>\n            <td>Hedda Kent</td>\n            <td>Customer Service</td>\n        </tr>\n        <tr>\n            <td>Karly Steele</td>\n            <td>Finance</td>\n        </tr>\n        <tr>\n            <td>Leonard Haynes</td>\n            <td>Marketing</td>\n        </tr>\n        <tr>\n            <td>Orli Strong</td>\n            <td>Finance</td>\n        </tr>\n        <tr>\n            <td>Rhona Nichols</td>\n            <td>Marketing</td>\n        </tr>\n        <tr>\n            <td>Timothy Battle</td>\n            <td>Finance</td>\n        </tr>\n    </tbody>\n</table>",
            "text/plain": "+-----------------+------------------+\n|       name      |    department    |\n+-----------------+------------------+\n|   Alea Wiggins  | Customer Service |\n|  Colette Payne  |    Marketing     |\n| Cooper Hatfield |      Sales       |\n|   Doris Munoz   |      Sales       |\n|    Hedda Kent   | Customer Service |\n|   Karly Steele  |     Finance      |\n|  Leonard Haynes |    Marketing     |\n|   Orli Strong   |     Finance      |\n|  Rhona Nichols  |    Marketing     |\n|  Timothy Battle |     Finance      |\n+-----------------+------------------+"
          },
          "execution_count": 10,
          "metadata": {},
          "output_type": "execute_result"
        }
      ],
      "source": [
        "%%sql\n",
        "SELECT e.name, d.name department FROM\n",
        "  employees e, departments d\n",
        "  WHERE e.deptId = d.id\n",
        "  ORDER BY name;"
      ]
    },
    {
      "attachments": {},
      "cell_type": "markdown",
      "id": "9d235c26-1855-4a91-957d-f85cfeccf426",
      "metadata": {},
      "source": [
        "### The COUNT function\n",
        "List the number of employees in each state."
      ]
    },
    {
      "cell_type": "code",
      "execution_count": 10,
      "id": "0929107e-3ea0-4a19-acf4-7c828f1745db",
      "metadata": {},
      "outputs": [
        {
          "data": {
            "text/html": "<table>\n    <thead>\n        <tr>\n            <th>state</th>\n            <th>COUNT(*)</th>\n        </tr>\n    </thead>\n    <tbody>\n        <tr>\n            <td>MS</td>\n            <td>2</td>\n        </tr>\n        <tr>\n            <td>NY</td>\n            <td>5</td>\n        </tr>\n        <tr>\n            <td>TX</td>\n            <td>3</td>\n        </tr>\n    </tbody>\n</table>",
            "text/plain": "+-------+----------+\n| state | COUNT(*) |\n+-------+----------+\n|   MS  |    2     |\n|   NY  |    5     |\n|   TX  |    3     |\n+-------+----------+"
          },
          "execution_count": 11,
          "metadata": {},
          "output_type": "execute_result"
        }
      ],
      "source": [
        "%%sql\n",
        "SELECT state, COUNT(*)\n",
        "  from employees\n",
        "  group by state\n",
        "  ORDER BY state;"
      ]
    },
    {
      "attachments": {},
      "cell_type": "markdown",
      "id": "725bcb53-ad7e-46b9-86ab-f092b85df810",
      "metadata": {},
      "source": [
        "### The MAX function\n",
        "Highest salary amongst all employees."
      ]
    },
    {
      "cell_type": "code",
      "execution_count": 11,
      "id": "cc289e4b-ebb2-43eb-9a26-dca6c4ce9da7",
      "metadata": {},
      "outputs": [
        {
          "data": {
            "text/html": "<table>\n    <thead>\n        <tr>\n            <th>MAX(salary)</th>\n        </tr>\n    </thead>\n    <tbody>\n        <tr>\n            <td>919124</td>\n        </tr>\n    </tbody>\n</table>",
            "text/plain": "+-------------+\n| MAX(salary) |\n+-------------+\n|    919124   |\n+-------------+"
          },
          "execution_count": 12,
          "metadata": {},
          "output_type": "execute_result"
        }
      ],
      "source": [
        "%%sql\n",
        "SELECT MAX(salary) FROM salaries;"
      ]
    },
    {
      "attachments": {},
      "cell_type": "markdown",
      "id": "99276935-07ec-484d-9aee-4cd050e406c5",
      "metadata": {},
      "source": [
        "### The Subqueries\n",
        "Employee with the highest salary."
      ]
    },
    {
      "cell_type": "code",
      "execution_count": 12,
      "id": "9b4d4235-ebd1-412a-8eeb-4c58c7671dff",
      "metadata": {},
      "outputs": [
        {
          "data": {
            "text/html": "<table>\n    <thead>\n        <tr>\n            <th>name</th>\n            <th>salary</th>\n        </tr>\n    </thead>\n    <tbody>\n        <tr>\n            <td>Leonard Haynes</td>\n            <td>919124</td>\n        </tr>\n    </tbody>\n</table>",
            "text/plain": "+----------------+--------+\n|      name      | salary |\n+----------------+--------+\n| Leonard Haynes | 919124 |\n+----------------+--------+"
          },
          "execution_count": 13,
          "metadata": {},
          "output_type": "execute_result"
        }
      ],
      "source": [
        "%%sql\n",
        "SELECT e.name, s.salary\n",
        "  FROM employees e, salaries s\n",
        "  WHERE e.id = s.employeeId and\n",
        "    s.salary = (SELECT MAX(salary) FROM salaries);"
      ]
    },
    {
      "attachments": {},
      "cell_type": "markdown",
      "id": "c4731afe-f9bd-46f3-b389-e537cf9f6088",
      "metadata": {},
      "source": [
        "### The AVG function\n",
        "Average salary of employees in each state."
      ]
    },
    {
      "cell_type": "code",
      "execution_count": 13,
      "id": "dcc6c8d8-210b-4538-9767-ccd4b127fd8c",
      "metadata": {},
      "outputs": [
        {
          "data": {
            "text/html": "<table>\n    <thead>\n        <tr>\n            <th>state</th>\n            <th>AVG(salary)</th>\n        </tr>\n    </thead>\n    <tbody>\n        <tr>\n            <td>MS</td>\n            <td>510331.0000</td>\n        </tr>\n        <tr>\n            <td>NY</td>\n            <td>617320.2000</td>\n        </tr>\n        <tr>\n            <td>TX</td>\n            <td>432229.0000</td>\n        </tr>\n    </tbody>\n</table>",
            "text/plain": "+-------+-------------+\n| state | AVG(salary) |\n+-------+-------------+\n|   MS  | 510331.0000 |\n|   NY  | 617320.2000 |\n|   TX  | 432229.0000 |\n+-------+-------------+"
          },
          "execution_count": 14,
          "metadata": {},
          "output_type": "execute_result"
        }
      ],
      "source": [
        "%%sql\n",
        "SELECT e.state, AVG(salary)\n",
        "  FROM employees e\n",
        "  JOIN salaries s on e.id = s.employeeId\n",
        "  GROUP BY e.state\n",
        "  ORDER BY e.state;"
      ]
    },
    {
      "attachments": {},
      "cell_type": "markdown",
      "id": "41b09697-f371-4e8f-88c7-cb3f96329294",
      "metadata": {},
      "source": [
        "### The IN operator\n",
        "List of managers."
      ]
    },
    {
      "cell_type": "code",
      "execution_count": 14,
      "id": "90303d05-c06a-4f40-89bf-20760b3fd810",
      "metadata": {},
      "outputs": [
        {
          "data": {
            "text/html": "<table>\n    <thead>\n        <tr>\n            <th>name</th>\n        </tr>\n    </thead>\n    <tbody>\n        <tr>\n            <td>Karly Steele</td>\n        </tr>\n        <tr>\n            <td>Leonard Haynes</td>\n        </tr>\n        <tr>\n            <td>Orli Strong</td>\n        </tr>\n        <tr>\n            <td>Rhona Nichols</td>\n        </tr>\n    </tbody>\n</table>",
            "text/plain": "+----------------+\n|      name      |\n+----------------+\n|  Karly Steele  |\n| Leonard Haynes |\n|  Orli Strong   |\n| Rhona Nichols  |\n+----------------+"
          },
          "execution_count": 15,
          "metadata": {},
          "output_type": "execute_result"
        }
      ],
      "source": [
        "%%sql\n",
        "SELECT name\n",
        "  FROM employees\n",
        "  WHERE id IN (SELECT managerId FROM employees)\n",
        "  ORDER BY name;"
      ]
    },
    {
      "attachments": {},
      "cell_type": "markdown",
      "id": "ec44f51b-e6f7-43e3-ac46-5b594ae7e602",
      "metadata": {},
      "source": [
        "### The NOT IN operator\n",
        "List of non-managers."
      ]
    },
    {
      "cell_type": "code",
      "execution_count": 15,
      "id": "244b7eb1-73f0-4a0b-83ae-63d7fa77220d",
      "metadata": {},
      "outputs": [
        {
          "data": {
            "text/html": "<table>\n    <thead>\n        <tr>\n            <th>name</th>\n        </tr>\n    </thead>\n    <tbody>\n        <tr>\n            <td>Alea Wiggins</td>\n        </tr>\n        <tr>\n            <td>Colette Payne</td>\n        </tr>\n        <tr>\n            <td>Cooper Hatfield</td>\n        </tr>\n        <tr>\n            <td>Doris Munoz</td>\n        </tr>\n        <tr>\n            <td>Hedda Kent</td>\n        </tr>\n        <tr>\n            <td>Timothy Battle</td>\n        </tr>\n    </tbody>\n</table>",
            "text/plain": "+-----------------+\n|       name      |\n+-----------------+\n|   Alea Wiggins  |\n|  Colette Payne  |\n| Cooper Hatfield |\n|   Doris Munoz   |\n|    Hedda Kent   |\n|  Timothy Battle |\n+-----------------+"
          },
          "execution_count": 16,
          "metadata": {},
          "output_type": "execute_result"
        }
      ],
      "source": [
        "%%sql\n",
        "SELECT name\n",
        "  FROM employees\n",
        "  WHERE id NOT IN (SELECT managerId FROM employees)\n",
        "  ORDER BY name;"
      ]
    },
    {
      "attachments": {},
      "cell_type": "markdown",
      "id": "2789bd8c-9db0-4e35-aa6b-da233d03ba79",
      "metadata": {},
      "source": [
        "### The Joins\n",
        "Number of employees reporting to each manager."
      ]
    },
    {
      "cell_type": "code",
      "execution_count": 16,
      "id": "5f726523-0031-44d3-b2f2-9fca93df7cf7",
      "metadata": {},
      "outputs": [
        {
          "data": {
            "text/html": "<table>\n    <thead>\n        <tr>\n            <th>name</th>\n            <th>count</th>\n        </tr>\n    </thead>\n    <tbody>\n        <tr>\n            <td>Karly Steele</td>\n            <td>4</td>\n        </tr>\n        <tr>\n            <td>Rhona Nichols</td>\n            <td>2</td>\n        </tr>\n        <tr>\n            <td>Orli Strong</td>\n            <td>2</td>\n        </tr>\n        <tr>\n            <td>Leonard Haynes</td>\n            <td>1</td>\n        </tr>\n    </tbody>\n</table>",
            "text/plain": "+----------------+-------+\n|      name      | count |\n+----------------+-------+\n|  Karly Steele  |   4   |\n| Rhona Nichols  |   2   |\n|  Orli Strong   |   2   |\n| Leonard Haynes |   1   |\n+----------------+-------+"
          },
          "execution_count": 17,
          "metadata": {},
          "output_type": "execute_result"
        }
      ],
      "source": [
        "%%sql\n",
        "SELECT m.name, COUNT(*) count\n",
        "  FROM employees m\n",
        "  JOIN employees e ON m.id = e.managerId\n",
        "  GROUP BY m.id\n",
        "  ORDER BY count DESC;"
      ]
    },
    {
      "attachments": {},
      "cell_type": "markdown",
      "id": "55f5acf0-5b52-4440-8691-44d5fa60aba3",
      "metadata": {},
      "source": [
        "Number of employees reporting to each employee."
      ]
    },
    {
      "cell_type": "code",
      "execution_count": 17,
      "id": "66475057-43dc-4c4b-aefb-7254b64d1bf6",
      "metadata": {},
      "outputs": [
        {
          "data": {
            "text/html": "<table>\n    <thead>\n        <tr>\n            <th>name</th>\n            <th>count</th>\n        </tr>\n    </thead>\n    <tbody>\n        <tr>\n            <td>Karly Steele</td>\n            <td>4</td>\n        </tr>\n        <tr>\n            <td>Rhona Nichols</td>\n            <td>2</td>\n        </tr>\n        <tr>\n            <td>Orli Strong</td>\n            <td>2</td>\n        </tr>\n        <tr>\n            <td>Leonard Haynes</td>\n            <td>1</td>\n        </tr>\n        <tr>\n            <td>Alea Wiggins</td>\n            <td>0</td>\n        </tr>\n        <tr>\n            <td>Timothy Battle</td>\n            <td>0</td>\n        </tr>\n        <tr>\n            <td>Cooper Hatfield</td>\n            <td>0</td>\n        </tr>\n        <tr>\n            <td>Doris Munoz</td>\n            <td>0</td>\n        </tr>\n        <tr>\n            <td>Hedda Kent</td>\n            <td>0</td>\n        </tr>\n        <tr>\n            <td>Colette Payne</td>\n            <td>0</td>\n        </tr>\n    </tbody>\n</table>",
            "text/plain": "+-----------------+-------+\n|       name      | count |\n+-----------------+-------+\n|   Karly Steele  |   4   |\n|  Rhona Nichols  |   2   |\n|   Orli Strong   |   2   |\n|  Leonard Haynes |   1   |\n|   Alea Wiggins  |   0   |\n|  Timothy Battle |   0   |\n| Cooper Hatfield |   0   |\n|   Doris Munoz   |   0   |\n|    Hedda Kent   |   0   |\n|  Colette Payne  |   0   |\n+-----------------+-------+"
          },
          "execution_count": 18,
          "metadata": {},
          "output_type": "execute_result"
        }
      ],
      "source": [
        "%%sql\n",
        "SELECT m.name, COUNT(e.id) count\n",
        "  FROM employees m\n",
        "  LEFT JOIN employees e ON m.id = e.managerId\n",
        "  GROUP BY m.id\n",
        "  ORDER BY count desc;"
      ]
    },
    {
      "attachments": {},
      "cell_type": "markdown",
      "id": "fe971b3a-8447-45e2-88c3-c546062c8982",
      "metadata": {},
      "source": [
        "Manager of each employee."
      ]
    },
    {
      "cell_type": "code",
      "execution_count": 18,
      "id": "084b7c27-78f1-4132-b05c-63d505c42f91",
      "metadata": {},
      "outputs": [
        {
          "data": {
            "text/html": "<table>\n    <thead>\n        <tr>\n            <th>employee_name</th>\n            <th>manager_name</th>\n        </tr>\n    </thead>\n    <tbody>\n        <tr>\n            <td>Karly Steele</td>\n            <td>None</td>\n        </tr>\n        <tr>\n            <td>Rhona Nichols</td>\n            <td>Karly Steele</td>\n        </tr>\n        <tr>\n            <td>Orli Strong</td>\n            <td>Karly Steele</td>\n        </tr>\n        <tr>\n            <td>Leonard Haynes</td>\n            <td>Karly Steele</td>\n        </tr>\n        <tr>\n            <td>Doris Munoz</td>\n            <td>Karly Steele</td>\n        </tr>\n        <tr>\n            <td>Colette Payne</td>\n            <td>Leonard Haynes</td>\n        </tr>\n        <tr>\n            <td>Timothy Battle</td>\n            <td>Orli Strong</td>\n        </tr>\n        <tr>\n            <td>Cooper Hatfield</td>\n            <td>Orli Strong</td>\n        </tr>\n        <tr>\n            <td>Alea Wiggins</td>\n            <td>Rhona Nichols</td>\n        </tr>\n        <tr>\n            <td>Hedda Kent</td>\n            <td>Rhona Nichols</td>\n        </tr>\n    </tbody>\n</table>",
            "text/plain": "+-----------------+----------------+\n|  employee_name  |  manager_name  |\n+-----------------+----------------+\n|   Karly Steele  |      None      |\n|  Rhona Nichols  |  Karly Steele  |\n|   Orli Strong   |  Karly Steele  |\n|  Leonard Haynes |  Karly Steele  |\n|   Doris Munoz   |  Karly Steele  |\n|  Colette Payne  | Leonard Haynes |\n|  Timothy Battle |  Orli Strong   |\n| Cooper Hatfield |  Orli Strong   |\n|   Alea Wiggins  | Rhona Nichols  |\n|    Hedda Kent   | Rhona Nichols  |\n+-----------------+----------------+"
          },
          "execution_count": 19,
          "metadata": {},
          "output_type": "execute_result"
        }
      ],
      "source": [
        "%%sql\n",
        "SELECT e.name employee_name, m.name manager_name\n",
        "  FROM employees e\n",
        "  LEFT JOIN employees m ON e.managerId = m.id\n",
        "  ORDER BY manager_name;"
      ]
    },
    {
      "attachments": {},
      "cell_type": "markdown",
      "id": "1b061775-518e-400e-8d64-a6b2f52066e7",
      "metadata": {},
      "source": [
        "Total salary of the employees reporting to each manager."
      ]
    },
    {
      "cell_type": "code",
      "execution_count": 19,
      "id": "fefb6de0-9796-480a-b743-13682a5774e1",
      "metadata": {},
      "outputs": [
        {
          "data": {
            "text/html": "<table>\n    <thead>\n        <tr>\n            <th>name</th>\n            <th>sum(salary)</th>\n        </tr>\n    </thead>\n    <tbody>\n        <tr>\n            <td>Karly Steele</td>\n            <td>2316512</td>\n        </tr>\n        <tr>\n            <td>Orli Strong</td>\n            <td>1255513</td>\n        </tr>\n        <tr>\n            <td>Rhona Nichols</td>\n            <td>845168</td>\n        </tr>\n        <tr>\n            <td>Leonard Haynes</td>\n            <td>101538</td>\n        </tr>\n    </tbody>\n</table>",
            "text/plain": "+----------------+-------------+\n|      name      | sum(salary) |\n+----------------+-------------+\n|  Karly Steele  |   2316512   |\n|  Orli Strong   |   1255513   |\n| Rhona Nichols  |    845168   |\n| Leonard Haynes |    101538   |\n+----------------+-------------+"
          },
          "execution_count": 20,
          "metadata": {},
          "output_type": "execute_result"
        }
      ],
      "source": [
        "%%sql\n",
        "SELECT m.name, sum(salary)\n",
        "  FROM employees m\n",
        "  JOIN employees e ON m.id = e.managerId\n",
        "  JOIN salaries s ON s.employeeId = e.id\n",
        "  GROUP BY m.id\n",
        "  ORDER BY SUM(salary) DESC;"
      ]
    },
    {
      "attachments": {},
      "cell_type": "markdown",
      "id": "4ad0f65c-2b70-47ac-bebe-131e5549e67c",
      "metadata": {},
      "source": [
        "Employees in the finance department earning more than their manager."
      ]
    },
    {
      "cell_type": "code",
      "execution_count": 20,
      "id": "474eae13-b450-45cc-b262-ddbc49a3baaf",
      "metadata": {},
      "outputs": [],
      "source": [
        "%%sql\n",
        "%%sql\n",
        "SELECT e.name employee_name, se.salary employee_salary, m.name manager_name, sm.salary manager_salary\n",
        "FROM employees e\n",
        "JOIN salaries se ON e.id = se.employeeId\n",
        "JOIN employees m ON m.id = e.managerId\n",
        "JOIN salaries sm ON sm.employeeId = m.id\n",
        "JOIN departments d ON d.id = e.deptId\n",
        "WHERE d.name = 'Finance'\n",
        "  AND sm.salary < se.salary\n",
        "ORDER BY employee_salary, manager_salary;"
      ]
    },
    {
      "attachments": {},
      "cell_type": "markdown",
      "id": "dc39e7b5-2f03-40ce-9800-c2f3728fcf9e",
      "metadata": {},
      "source": [
        "**Learn more about SingleStore notebooks [here](https://docs.singlestore.com/managed-service/en/developer-resources/notebooks.html).**"
      ]
    },
    {
      "cell_type": "markdown",
      "id": "10791647-93d6-4670-9995-a0974423d1f4",
      "metadata": {},
      "source": [
        "<div id=\"singlestore-footer\" style=\"background-color: rgba(194, 193, 199, 0.25); height:2px; margin-bottom:10px\"></div>\n",
        "<div><img src=\"https://raw.githubusercontent.com/singlestore-labs/spaces-notebooks/master/common/images/singlestore-logo-grey.png\" style=\"padding: 0px; margin: 0px; height: 24px\"/></div>"
      ]
    }
  ],
  "metadata": {
    "jupyterlab": {
      "notebooks": {
        "version_major": 6,
        "version_minor": 4
      }
    },
    "kernelspec": {
      "display_name": "Python 3 (ipykernel)",
      "language": "python",
      "name": "python3"
    },
    "language_info": {
      "codemirror_mode": {
        "name": "ipython",
        "version": 3
      },
      "file_extension": ".py",
      "mimetype": "text/x-python",
      "name": "python",
      "nbconvert_exporter": "python",
      "pygments_lexer": "ipython3",
      "version": "3.11.6"
    }
  },
  "nbformat": 4,
  "nbformat_minor": 5
}
