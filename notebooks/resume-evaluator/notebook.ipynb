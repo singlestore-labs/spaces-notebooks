{
 "cells": [
  {
   "cell_type": "markdown",
   "id": "16a9df3f-11ef-4e5d-b0b0-60135f0f462d",
   "metadata": {
    "language": "python"
   },
   "source": [
    "<div id=\"singlestore-header\" style=\"display: flex; background-color: rgba(173, 216, 230, 0.25); padding: 5px;\">\n",
    "    <div id=\"icon-image\" style=\"width: 90px; height: 90px;\">\n",
    "        <img width=\"100%\" height=\"100%\" src=\"https://raw.githubusercontent.com/singlestore-labs/spaces-notebooks/master/common/images/header-icons/arrows-spin.png\" />\n",
    "    </div>\n",
    "    <div id=\"text\" style=\"padding: 5px; margin-left: 10px;\">\n",
    "        <div id=\"badge\" style=\"display: inline-block; background-color: rgba(0, 0, 0, 0.15); border-radius: 4px; padding: 4px 8px; align-items: center; margin-top: 6px; margin-bottom: -2px; font-size: 80%\">SingleStore Notebooks</div>\n",
    "        <h1 style=\"font-weight: 500; margin: 8px 0 0 4px;\">Resume Evaluator using Singlestore and OpenAI\n",
    "</h1>\n",
    "    </div>\n",
    "</div>"
   ]
  },
  {
   "cell_type": "markdown",
   "id": "d96c8713-7f80-4f37-9f6d-ca73012205ec",
   "metadata": {
    "language": "python"
   },
   "source": [
    "In this notebook, we will showcase a practical use-case of evaluating resumes leveraging the combined powers of SingleStoreDB and OpenAI. Moving beyond traditional resume-matching techniques, we introduce a method that dives deeper into the nuances of resume content and the specific needs of a job description.\n",
    "\n",
    "With SingleStoreDB's innate ability to swiftly manage and query data, we begin by ingesting a resume PDF, extracting its textual content, and storing it in a dedicated database table. But we don’t stop there! The resume's text is then processed by OpenAI's LLM, summarizing its key points. This summarized version, along with its vector representation, is saved back to our SingleStoreDB table.\n",
    "\n",
    "When it's time to match a resume to a job description, we translate the latter into its vector form. Using a dot_product operation, we search against the table housing the resume summaries' embeddings. This provides us with resumes most aligned with the job description. To add another layer of precision, the matched resumes are further evaluated alongside the job description using OpenAI's LLM, offering a comprehensive assessment.\n",
    "\n",
    "Join us on this journey to redefine resume evaluations using SQL, SingleStoreDB, and OpenAI for better, more insightful matches!"
   ]
  },
  {
   "cell_type": "markdown",
   "id": "3896f5d3-5f34-462c-a10e-da1d97ba904e",
   "metadata": {
    "execution": {
     "iopub.execute_input": "2023-10-31T13:17:41.604067Z",
     "iopub.status.busy": "2023-10-31T13:17:41.603797Z",
     "iopub.status.idle": "2023-10-31T13:17:41.607822Z",
     "shell.execute_reply": "2023-10-31T13:17:41.606959Z",
     "shell.execute_reply.started": "2023-10-31T13:17:41.604049Z"
    },
    "language": "python"
   },
   "source": [
    "## 1. Create a workspace in your workspace group\n",
    "\n",
    "S-00 is sufficient.\n",
    "\n",
    "## 2. Create a database named `resume_evaluator`"
   ]
  },
  {
   "cell_type": "code",
   "execution_count": 203,
   "id": "9be90062-ea39-406e-9eb2-1a830af981c6",
   "metadata": {
    "execution": {
     "iopub.execute_input": "2023-11-03T00:43:23.343823Z",
     "iopub.status.busy": "2023-11-03T00:43:23.343576Z",
     "iopub.status.idle": "2023-11-03T00:43:30.637887Z",
     "shell.execute_reply": "2023-11-03T00:43:30.637240Z",
     "shell.execute_reply.started": "2023-11-03T00:43:23.343807Z"
    },
    "language": "sql"
   },
   "outputs": [
    {
     "data": {
      "text/html": [
       "<table>\n",
       "    <thead>\n",
       "        <tr>\n",
       "        </tr>\n",
       "    </thead>\n",
       "    <tbody>\n",
       "    </tbody>\n",
       "</table>"
      ],
      "text/plain": [
       "++\n",
       "||\n",
       "++\n",
       "++"
      ]
     },
     "execution_count": 203,
     "metadata": {},
     "output_type": "execute_result"
    }
   ],
   "source": [
    "%%sql\n",
    "\n",
    "DROP DATABASE IF EXISTS resume_evaluator;\n",
    "CREATE DATABASE resume_evaluator;"
   ]
  },
  {
   "cell_type": "markdown",
   "id": "a065c93b-6086-4cf9-9f14-249cb8b23ed9",
   "metadata": {
    "language": "sql"
   },
   "source": [
    "<div class=\"alert alert-block alert-warning\">\n",
    "    <b class=\"fa fa-solid fa-exclamation-circle\"></b>\n",
    "    <div>\n",
    "        <p><b>Action Required</b></p>\n",
    "        <p>Make sure to select the <tt>resume_evaluator</tt> database from the drop-down menu at the top of this notebook.\n",
    "        It updates the <tt>connection_url</tt> which is used by the <tt>%%sql</tt> magic command and SQLAlchemy to make connections to the selected database.</p>\n",
    "    </div>\n",
    "</div>"
   ]
  },
  {
   "cell_type": "code",
   "execution_count": 206,
   "id": "49701a42-bfef-4072-aee9-7dc40dc2b8cb",
   "metadata": {
    "execution": {
     "iopub.execute_input": "2023-11-03T00:43:38.998982Z",
     "iopub.status.busy": "2023-11-03T00:43:38.998695Z",
     "iopub.status.idle": "2023-11-03T00:43:39.216714Z",
     "shell.execute_reply": "2023-11-03T00:43:39.216248Z",
     "shell.execute_reply.started": "2023-11-03T00:43:38.998966Z"
    },
    "language": "sql"
   },
   "outputs": [
    {
     "data": {
      "text/html": [
       "<table>\n",
       "    <thead>\n",
       "        <tr>\n",
       "        </tr>\n",
       "    </thead>\n",
       "    <tbody>\n",
       "    </tbody>\n",
       "</table>"
      ],
      "text/plain": [
       "++\n",
       "||\n",
       "++\n",
       "++"
      ]
     },
     "execution_count": 206,
     "metadata": {},
     "output_type": "execute_result"
    }
   ],
   "source": [
    "%%sql\n",
    "\n",
    "create table IF NOT EXISTS resume_evaluator.resumes_profile_data(\n",
    "    names text,\n",
    "    email text,\n",
    "    phone_no text,\n",
    "    years_of_experience text,\n",
    "    skills text,\n",
    "    profile_name text,\n",
    "    resume_summary text, \n",
    "    resume_embeddings blob\n",
    "    );"
   ]
  },
  {
   "cell_type": "markdown",
   "id": "0a944957-8ddb-4838-af3a-22a56e8f4ff9",
   "metadata": {
    "language": "python"
   },
   "source": [
    "## 3. Install and import required libraries\n",
    "\n",
    "In this section, we will set up the necessary environment by installing some crucial libraries. For our task of extracting text from resume PDFs, we'll be using pdfminer.six. To interact with the OpenAI's LLM and manage our data efficiently, openai will be instrumental.\n",
    "\n",
    "The install process may take a couple minutes."
   ]
  },
  {
   "cell_type": "code",
   "execution_count": 211,
   "id": "3d537041-7ae9-4b7f-aa27-0305a0425878",
   "metadata": {
    "execution": {
     "iopub.execute_input": "2023-11-03T00:44:09.779853Z",
     "iopub.status.busy": "2023-11-03T00:44:09.779598Z",
     "iopub.status.idle": "2023-11-03T00:44:11.418488Z",
     "shell.execute_reply": "2023-11-03T00:44:11.417876Z",
     "shell.execute_reply.started": "2023-11-03T00:44:09.779837Z"
    },
    "language": "python"
   },
   "outputs": [],
   "source": [
    "!pip install -q pdfminer.six openai pandas"
   ]
  },
  {
   "cell_type": "code",
   "execution_count": 1,
   "id": "5e0f1a4d-60b6-4c09-98ca-8c194f4b3461",
   "metadata": {
    "execution": {
     "iopub.execute_input": "2023-11-03T00:44:12.764206Z",
     "iopub.status.busy": "2023-11-03T00:44:12.763753Z",
     "iopub.status.idle": "2023-11-03T00:44:12.767570Z",
     "shell.execute_reply": "2023-11-03T00:44:12.766989Z",
     "shell.execute_reply.started": "2023-11-03T00:44:12.764180Z"
    },
    "language": "python"
   },
   "outputs": [],
   "source": [
    "import os\n",
    "import requests\n",
    "import re\n",
    "from pdfminer.high_level import extract_text\n",
    "import openai \n",
    "import pandas as pd\n",
    "import numpy as np \n",
    "from sqlalchemy import text, create_engine"
   ]
  },
  {
   "cell_type": "code",
   "execution_count": 2,
   "id": "46e57211-722b-4056-adf3-c802f50accba",
   "metadata": {
    "execution": {
     "iopub.execute_input": "2023-11-03T00:44:15.916835Z",
     "iopub.status.busy": "2023-11-03T00:44:15.916575Z",
     "iopub.status.idle": "2023-11-03T00:44:20.434940Z",
     "shell.execute_reply": "2023-11-03T00:44:20.434456Z",
     "shell.execute_reply.started": "2023-11-03T00:44:15.916820Z"
    },
    "language": "python"
   },
   "outputs": [
    {
     "name": "stdout",
     "output_type": "stream",
     "text": [
      "OpenAI API Key: ········\n"
     ]
    }
   ],
   "source": [
    "import getpass\n",
    "\n",
    "openai.api_key = getpass.getpass('OpenAI API Key: ')"
   ]
  },
  {
   "cell_type": "markdown",
   "id": "60fb5de9-12a3-42b4-b9c9-738061600dc6",
   "metadata": {
    "language": "python"
   },
   "source": [
    "## 4. Create a function called `get_embedding()`\n",
    "In our workflow, we need a consistent way to transform textual content into vector embeddings. To achieve this, we introduce the get_embedding() function.\n",
    "\n",
    "This function takes in a piece of text and, by default, uses the \"text-embedding-ada-002\" model to produce embeddings. We ensure that any newline characters in the text are replaced with spaces to maintain the integrity of the input. The function then leverages OpenAI's API to generate and retrieve the embedding for the given text."
   ]
  },
  {
   "cell_type": "code",
   "execution_count": 3,
   "id": "07683cdd-988d-468b-a81e-4e99453faf90",
   "metadata": {
    "execution": {
     "iopub.execute_input": "2023-11-03T00:44:26.546850Z",
     "iopub.status.busy": "2023-11-03T00:44:26.546607Z",
     "iopub.status.idle": "2023-11-03T00:44:26.550142Z",
     "shell.execute_reply": "2023-11-03T00:44:26.549530Z",
     "shell.execute_reply.started": "2023-11-03T00:44:26.546834Z"
    },
    "language": "python"
   },
   "outputs": [],
   "source": [
    "def get_embedding(text, model=\"text-embedding-ada-002\"):\n",
    "    text = text.replace(\"\\n\", \" \")\n",
    "    return openai.Embedding.create(input=[text], model=model)['data'][0]['embedding']"
   ]
  },
  {
   "cell_type": "markdown",
   "id": "ad6c68a5-23a0-4926-a6bc-1ac44731b73b",
   "metadata": {
    "language": "python"
   },
   "source": [
    "## 5. Create a function called `print_pdf_text()` \n",
    "\n",
    "This function is designed to extract and clean the text from a provided PDF, either from a web URL or a local file path.\n",
    "\n",
    "#### Input:\n",
    "- `url`: Web URL of the PDF (optional).\n",
    "- `file_path`: Local path of the PDF (optional).\n",
    "\n",
    "#### Functionality:\n",
    "- **Source Determination**:\n",
    "  - Fetches PDF from `url` or uses the local `file_path`.\n",
    "  - Raises an error if neither is provided.\n",
    "- **Text Extraction**: Extracts text from the PDF using `pdfminer`.\n",
    "- **Text Cleaning**:\n",
    "  - Removes special characters, retaining only \"@\", \"+\", \".\", and \"/\".\n",
    "  - Improves formatting by handling newline characters.\n",
    "- **Cleanup**: If a temporary file was created from a URL, it gets deleted post-processing.\n",
    "\n",
    "#### Output:\n",
    "Returns the cleaned and formatted text from the PDF."
   ]
  },
  {
   "cell_type": "code",
   "execution_count": 4,
   "id": "2373ad58-4057-4c07-9804-796d30595d49",
   "metadata": {
    "execution": {
     "iopub.execute_input": "2023-11-03T00:44:29.613780Z",
     "iopub.status.busy": "2023-11-03T00:44:29.613530Z",
     "iopub.status.idle": "2023-11-03T00:44:29.617751Z",
     "shell.execute_reply": "2023-11-03T00:44:29.617228Z",
     "shell.execute_reply.started": "2023-11-03T00:44:29.613764Z"
    },
    "language": "python"
   },
   "outputs": [],
   "source": [
    "def print_pdf_text(url=None, file_path=None):\n",
    "    # Determine the source of the PDF (URL or local file)\n",
    "    if url:\n",
    "        response = requests.get(url)\n",
    "        response.raise_for_status()  # Ensure the request was successful\n",
    "        temp_file_path = \"temp_pdf_file.pdf\"\n",
    "        with open(temp_file_path, 'wb') as temp_file:\n",
    "            temp_file.write(response.content)  # Save the PDF to a temporary file\n",
    "        pdf_source = temp_file_path\n",
    "    elif file_path:\n",
    "        pdf_source = file_path  # Set the source to the provided local file path\n",
    "    else:\n",
    "        raise ValueError(\"Either url or file_path must be provided.\")\n",
    "    \n",
    "    # Extract text using pdfminer\n",
    "    text = extract_text(pdf_source)\n",
    "    \n",
    "    # Remove special characters except \"@\", \"+\", \".\", and \"/\"\n",
    "    cleaned_text = re.sub(r\"[^a-zA-Z0-9\\s@+./:,]\", \"\", text)\n",
    "    \n",
    "    # Format the text for better readability\n",
    "    cleaned_text = cleaned_text.replace(\"\\n\\n\", \" \").replace(\"\\n\", \" \")\n",
    "    # If a temporary file was used, delete it\n",
    "    if url and os.path.exists(temp_file_path):\n",
    "        os.remove(temp_file_path)\n",
    "    \n",
    "    return cleaned_text"
   ]
  },
  {
   "cell_type": "markdown",
   "id": "8cfe7778-a8d4-48d9-88a8-45a4233e6581",
   "metadata": {
    "language": "python"
   },
   "source": [
    "## 6. Create a function called `pinfo_extractor()`\n",
    "\n",
    "This function is tailored to extract specific details from a candidate's resume text.\n",
    "\n",
    "### Input:\n",
    "- `resume_text`: The text extracted from a candidate's resume.\n",
    "\n",
    "### Functionality:\n",
    "- **Prompt Creation**:\n",
    "  - A context is formed using the provided resume text.\n",
    "  - A detailed question prompt is generated to guide the extraction of desired details from the resume.\n",
    "- **OpenAI API Interaction**:\n",
    "  - Uses the `gpt-3.5-turbo` model to process the prompt and generate a detailed extraction.\n",
    "  - Extracts relevant sections like Name, Email, Phone Number, and more from the generated response.\n",
    "- **Data Structuring**:\n",
    "  - The extracted details are organized into a dictionary.\n",
    "\n",
    "### Output:\n",
    "Returns a dictionary with keys such as 'name', 'email', 'phone_no', and more, containing extracted information from the resume."
   ]
  },
  {
   "cell_type": "code",
   "execution_count": 5,
   "id": "9942951c-f2df-4507-856a-a79212a4998e",
   "metadata": {
    "execution": {
     "iopub.execute_input": "2023-11-03T00:44:32.923188Z",
     "iopub.status.busy": "2023-11-03T00:44:32.922945Z",
     "iopub.status.idle": "2023-11-03T00:44:32.928246Z",
     "shell.execute_reply": "2023-11-03T00:44:32.927702Z",
     "shell.execute_reply.started": "2023-11-03T00:44:32.923172Z"
    },
    "language": "python"
   },
   "outputs": [],
   "source": [
    "def pinfo_extractor(resume_text):\n",
    "    context = f\"Resume text: {resume_text}\"\n",
    "    question = \"\"\" From above candidate's resume text, extract the only following details:\n",
    "                Name: (Find the candidate's full name. If not available, specify \"not available.\")\n",
    "                Email: (Locate the candidate's email address. If not available, specify \"not available.\")\n",
    "                Phone Number: (Identify the candidate's phone number. If not found, specify \"not available.\")\n",
    "                Years of Experience: (If not explicitly mentioned, calculate the years of experience by analyzing the time durations at each company or position listed. Sum up the total durations to estimate the years of experience. If not determinable, write \"not available.\")\n",
    "                Skills Set: Extract the skills which are purely technical and represent them as: [skill1, skill2,... <other skills from resume>]. If no skills are provided, state \"not available.\"\n",
    "                Profile: (Identify the candidate's job profile or designation. If not mentioned, specify \"not available.\")\n",
    "                Summary: provide a brief summary of the candidate's profile without using more than one newline to segregate sections.\n",
    "                \"\"\"\n",
    "    \n",
    "    prompt = f\"\"\"\n",
    "        Based on the below given candidate information, only answer asked question:\n",
    "        {context}\n",
    "        Question: {question} \n",
    "    \"\"\"\n",
    "    # print(prompt)\n",
    "    response = openai.ChatCompletion.create(\n",
    "        model=\"gpt-3.5-turbo\",\n",
    "        messages=[\n",
    "            {\"role\": \"system\", \"content\": \"You are a helpful HR recruiter.\"},\n",
    "            {\"role\": \"user\", \"content\": prompt}\n",
    "        ],\n",
    "        max_tokens=700,\n",
    "        temperature=0.5,\n",
    "        n=1  # assuming you want one generation per document\n",
    "    )\n",
    "    # Extract the generated response \n",
    "    response_text = response['choices'][0]['message']['content']\n",
    "    # print(response_text)\n",
    "    # Split the response_text into lines\n",
    "    lines = response_text.strip().split('\\n')\n",
    "    \n",
    "    # Now, split each line on the colon to separate the labels from the values\n",
    "    # Extract the values\n",
    "    name = lines[0].split(': ')[1]\n",
    "    email = lines[1].split(': ')[1]\n",
    "    phone_no = lines[2].split(': ')[1] \n",
    "    years_of_expiernce = lines[3].split(': ')[1] \n",
    "    skills = lines[4].split(': ')[1]\n",
    "    profile = lines[5].split(': ')[1] \n",
    "    summary = lines[6].split(': ')[1] \n",
    "    data_dict = {\n",
    "        'name': name,\n",
    "        'email': email,\n",
    "        'phone_no': phone_no,\n",
    "        'years_of_expiernce': years_of_expiernce,\n",
    "        'skills': skills,\n",
    "        'profile': profile,\n",
    "        'summary': summary\n",
    "    }\n",
    "    print(data_dict, \"\\n\")\n",
    "    return data_dict;"
   ]
  },
  {
   "cell_type": "markdown",
   "id": "ec23888e-bf29-437b-a87f-794af8654294",
   "metadata": {
    "language": "python"
   },
   "source": [
    "## 7. Create a function called `add_data_to_db()`\n",
    "\n",
    "This function is designed to add extracted resume details into a database.\n",
    "\n",
    "### Input:\n",
    "- `input_dict`: Dictionary containing details like 'name', 'email', 'phone_no', and more extracted from a resume.\n",
    "\n",
    "### Functionality:\n",
    "- **Database Connection**:\n",
    "  - Establishes a connection to the database using SQLAlchemy's `create_engine` with the given connection URL.\n",
    "- **Embedding Creation**:\n",
    "  - Calls the `get_embedding()` function to generate an embedding for the resume summary.\n",
    "- **SQL Query Formation**:\n",
    "  - Crafts an SQL query to insert the provided data (from the input dictionary) into the `resumes_profile_data` table in the database.\n",
    "- **Data Insertion**:\n",
    "  - Opens a connection, executes the SQL query, commits the changes, and then closes the connection.\n",
    "\n",
    "### Output:\n",
    "Prints a confirmation message upon successful data insertion."
   ]
  },
  {
   "cell_type": "code",
   "execution_count": 6,
   "id": "f7bdd3e0-0579-4f99-a81f-491b5c7db733",
   "metadata": {
    "execution": {
     "iopub.execute_input": "2023-11-03T00:44:35.514352Z",
     "iopub.status.busy": "2023-11-03T00:44:35.514111Z",
     "iopub.status.idle": "2023-11-03T00:44:35.518343Z",
     "shell.execute_reply": "2023-11-03T00:44:35.517780Z",
     "shell.execute_reply.started": "2023-11-03T00:44:35.514337Z"
    },
    "language": "python"
   },
   "outputs": [],
   "source": [
    "def add_data_to_db(input_dict):\n",
    "    # Create the SQLAlchemy engine\n",
    "    # engine = create_engine(f'mysql+pymysql://{user}:{password}@{host}:{port}/{database_name}')\n",
    "    \n",
    "    engine = create_engine(connection_url)\n",
    "    # Get the embedding for the summary text\n",
    "    summary = input_dict['summary']\n",
    "    embedding = get_embedding(summary)\n",
    "    # Create the SQL query for inserting the data\n",
    "    query_sql = f\"\"\"\n",
    "        INSERT INTO resumes_profile_data (names, email, phone_no, years_of_experience, skills, profile_name, resume_summary, resume_embeddings)\n",
    "        VALUES (\"{input_dict['name']}\", \"{input_dict['email']}\", \"{input_dict['phone_no']}\", \"{input_dict['years_of_expiernce']}\", \n",
    "        \"{input_dict['skills']}\", \"{input_dict['profile']}\", \"{summary}\", JSON_ARRAY_PACK('{embedding}'));\n",
    "    \"\"\"\n",
    "    with engine.connect() as connection:\n",
    "        connection.execute(text(query_sql))\n",
    "        connection.commit()\n",
    "    print(\"\\nData Written to resumes_profile_data_2 table\")\n",
    "    connection.close()"
   ]
  },
  {
   "cell_type": "markdown",
   "id": "8abcb853-e58f-4ff8-ac95-f13d0d587557",
   "metadata": {
    "language": "python"
   },
   "source": [
    "## 8. Create a function called `search_resumes()`\n",
    "\n",
    "This function facilitates the search for resumes that are most similar to a given query, leveraging embeddings and database operations.\n",
    "\n",
    "### Input:\n",
    "- `query`: A string that represents the job description or any other search criteria.\n",
    "\n",
    "### Functionality:\n",
    "- **Embedding Creation**:\n",
    "  - Converts the given `query` into its corresponding embedding using the `get_embedding()` function.\n",
    "- **SQL Query Formation**:\n",
    "  - Creates an SQL query to search for the top 5 resumes in the `resumes_profile_data` table that have the highest similarity (dot product) to the query embedding.\n",
    "- **Database Operations**:\n",
    "  - Opens a connection to the database, runs the SQL query to fetch the results, and then closes the connection.\n",
    "\n",
    "### Output:\n",
    "Returns a list of the top 5 most relevant resumes based on the given query."
   ]
  },
  {
   "cell_type": "code",
   "execution_count": 7,
   "id": "d3f7f52e-44db-4ecb-b3a7-7dd01488bad3",
   "metadata": {
    "execution": {
     "iopub.execute_input": "2023-11-03T00:44:38.874171Z",
     "iopub.status.busy": "2023-11-03T00:44:38.873928Z",
     "iopub.status.idle": "2023-11-03T00:44:38.877684Z",
     "shell.execute_reply": "2023-11-03T00:44:38.877129Z",
     "shell.execute_reply.started": "2023-11-03T00:44:38.874155Z"
    },
    "language": "python"
   },
   "outputs": [],
   "source": [
    "def search_resumes(query):\n",
    "    query_embed = get_embedding(query) \n",
    "    query_sql = f\"\"\"\n",
    "            SELECT names, resume_summary, dot_product(\n",
    "                    JSON_ARRAY_PACK('{query_embed}'),\n",
    "                    resume_embeddings\n",
    "                ) AS similarity \n",
    "                FROM resumes_profile_data \n",
    "                ORDER BY similarity DESC\n",
    "                LIMIT 5;\n",
    "    \"\"\"\n",
    "    # print(query_sql,\"\\n\")\n",
    "    # engine = create_engine(f'mysql+pymysql://{user}:{password}@{host}:{port}/{database_name}')\n",
    "    engine = create_engine(connection_url)\n",
    "    connection = engine.connect()\n",
    "    result = connection.execute(text(query_sql)).fetchall()\n",
    "    connection.close()\n",
    "    engine.dispose()\n",
    "    return result"
   ]
  },
  {
   "cell_type": "markdown",
   "id": "c884ea95-f50f-4ec3-9cb0-88baaf07f2fa",
   "metadata": {
    "language": "python"
   },
   "source": [
    "## 8. Create a function called `evaluate_candidates()`\n",
    "\n",
    "This function is geared towards evaluating the compatibility of candidates' resumes in relation to a specific job description.\n",
    "\n",
    "### Input:\n",
    "- `query`: A string that represents the job description against which candidates' resumes will be assessed.\n",
    "\n",
    "### Functionality:\n",
    "- **Resume Retrieval**:\n",
    "  - Utilizes the `search_resumes()` function to get the top matching resumes based on the job description.\n",
    "- **OpenAI API Interaction**:\n",
    "  - For each retrieved resume, a prompt is crafted, asking to evaluate how well the candidate fits the job description.\n",
    "  - Interacts with the `gpt-3.5-turbo` model to process this prompt and receive an efficient, concise response.\n",
    "- **Data Aggregation**:\n",
    "  - Collects the model's evaluation responses for each candidate in a list.\n",
    "\n",
    "### Output:\n",
    "Returns a list of tuples, where each tuple contains:\n",
    "- Candidate's name.\n",
    "- Evaluation response from the model, describing the compatibility of the candidate with the given job description."
   ]
  },
  {
   "cell_type": "code",
   "execution_count": 8,
   "id": "6b714782-8049-4378-945f-ee23a3c9dbec",
   "metadata": {
    "execution": {
     "iopub.execute_input": "2023-11-03T00:44:42.459583Z",
     "iopub.status.busy": "2023-11-03T00:44:42.459304Z",
     "iopub.status.idle": "2023-11-03T00:44:42.463792Z",
     "shell.execute_reply": "2023-11-03T00:44:42.463244Z",
     "shell.execute_reply.started": "2023-11-03T00:44:42.459564Z"
    },
    "language": "python"
   },
   "outputs": [],
   "source": [
    "def evaluate_candidates(query):\n",
    "    result = search_resumes(query) \n",
    "    responses = []  # List to store responses for each candidate\n",
    "    for resume_str in result:\n",
    "        name = resume_str[0]\n",
    "        context = f\"Resume text: {resume_str[1]}\"\n",
    "        question = f\"What percentage of the job requirements does the candidate meet for the following job description? answer in 3 lines only and be effcient while answering: {query}.\"\n",
    "        prompt = f\"\"\"\n",
    "            Read below candidate information about the candidate:\n",
    "            {context}\n",
    "            Question: {question}\n",
    "        \"\"\"\n",
    "        response = openai.ChatCompletion.create(\n",
    "            model=\"gpt-3.5-turbo\",\n",
    "            messages=[\n",
    "                {\"role\": \"system\", \"content\": \"You are a expert HR analyst and recuriter.\"},\n",
    "                {\"role\": \"user\", \"content\": prompt}\n",
    "            ],\n",
    "            max_tokens=100,\n",
    "            temperature=0.2,\n",
    "            n=1  # assuming you want one generation per document\n",
    "        )        \n",
    "        # Extract the generated response \n",
    "        response_text = response['choices'][0]['message']['content']\n",
    "        responses.append((name, response_text))  # Append the name and response_text to the responses list\n",
    "    return responses"
   ]
  },
  {
   "cell_type": "code",
   "execution_count": 228,
   "id": "c2d4c146-5b15-43b2-8a48-3d4f114a4a2c",
   "metadata": {
    "execution": {
     "iopub.execute_input": "2023-11-03T00:45:12.015321Z",
     "iopub.status.busy": "2023-11-03T00:45:12.014969Z",
     "iopub.status.idle": "2023-11-03T00:45:19.289998Z",
     "shell.execute_reply": "2023-11-03T00:45:19.289478Z",
     "shell.execute_reply.started": "2023-11-03T00:45:12.015304Z"
    },
    "language": "python"
   },
   "outputs": [
    {
     "name": "stdout",
     "output_type": "stream",
     "text": [
      "Resume Text extracted\n",
      "\n",
      "{'name': 'Vishwajeet Dabholkar', 'email': 'vishwajeetdabholkar@gmail.com', 'phone_no': '+91 702 046 9342', 'years_of_expiernce': 'Not available', 'skills': '[Python, SQL, Scala, PySpark, SparkSQL, MemSQL, Pandas, boto3, ChatGPT, Azure data factory, Databricks REST APIs, AWS Glue, RDS, EMR, S3, EC2, API Gateway, KMS, Syniti DB replication, Bigquery, Azkaban, Jupyter notebook, Github, PyCharm, Postman]', 'profile': 'Enterprise Solutions Engineer', 'summary': 'Vishwajeet Dabholkar is an experienced Enterprise Solutions Engineer with expertise in data engineering, AWS cloud platform, and various technical skills such as Python, SQL, PySpark, and more. He has worked on projects involving data migration, data ingestion, data lake creation, and API integration. Vishwajeet has a strong track record of successfully implementing proof of concepts and showcasing his skills in data analytics and AI. He has experience working with companies like Singlestore, Fresh Gravity India Pvt.Ltd, Freelance, Lumiq.ai, and Tata Consultancy Services Ltd.'} \n",
      "\n",
      "Information extracted\n",
      "\n",
      "\n",
      "Data Written to resumes_profile_data_2 table\n",
      "\n",
      "\n"
     ]
    }
   ],
   "source": [
    "urls = [\n",
    "    \"https://github.com/vishwajeetdabholkar/vishwajeet-resume/raw/main/Vishwajeet_Dabholkar_Resume_June_2023.pdf\"\n",
    "]\n",
    "\n",
    "for url in urls:\n",
    "    resume_text = print_pdf_text(url=url).replace('\\n',' ')\n",
    "    print(\"Resume Text extracted\\n\")\n",
    "    ip_data_dict = pinfo_extractor(resume_text)\n",
    "    print(\"Information extracted\\n\")\n",
    "    add_data_to_db(ip_data_dict)\n",
    "    print(\"\\n\")"
   ]
  },
  {
   "cell_type": "code",
   "execution_count": 236,
   "id": "68185f51-8a2b-44bc-8a82-a8ab2f86c14b",
   "metadata": {
    "execution": {
     "iopub.execute_input": "2023-11-03T00:45:56.069014Z",
     "iopub.status.busy": "2023-11-03T00:45:56.068587Z",
     "iopub.status.idle": "2023-11-03T00:45:56.156596Z",
     "shell.execute_reply": "2023-11-03T00:45:56.156082Z",
     "shell.execute_reply.started": "2023-11-03T00:45:56.068993Z"
    },
    "language": "sql"
   },
   "outputs": [
    {
     "data": {
      "text/html": [
       "<table>\n",
       "    <thead>\n",
       "        <tr>\n",
       "            <th>names</th>\n",
       "            <th>email</th>\n",
       "            <th>phone_no</th>\n",
       "            <th>years_of_experience</th>\n",
       "            <th>skills</th>\n",
       "            <th>profile_name</th>\n",
       "            <th>resume_summary</th>\n",
       "            <th>resume_embeddings</th>\n",
       "        </tr>\n",
       "    </thead>\n",
       "    <tbody>\n",
       "        <tr>\n",
       "            <td>Vishwajeet Dabholkar</td>\n",
       "            <td>vishwajeetdabholkar@gmail.com</td>\n",
       "            <td>+91 702 046 9342</td>\n",
       "            <td>Not available</td>\n",
       "            <td>[Python, SQL, Scala, PySpark, SparkSQL, MemSQL, Pandas, boto3, ChatGPT, Azure data factory, Databricks REST APIs, AWS Glue, RDS, EMR, S3, EC2, API Gateway, KMS, Syniti DB replication, Bigquery, Azkaban, Jupyter notebook, Github, PyCharm, Postman]</td>\n",
       "            <td>Enterprise Solutions Engineer</td>\n",
       "            <td>Vishwajeet Dabholkar is an experienced Enterprise Solutions Engineer with expertise in data engineering, AWS cloud platform, and various technical skills such as Python, SQL, PySpark, and more. He has worked on projects involving data migration, data ingestion, data lake creation, and API integration. Vishwajeet has a strong track record of successfully implementing proof of concepts and showcasing his skills in data analytics and AI. He has experience working with companies like Singlestore, Fresh Gravity India Pvt.Ltd, Freelance, Lumiq.ai, and Tata Consultancy Services Ltd.</td>\n",
       "            <td>b'y\\x1e\\xa8;\\xdb\\x0f\\x8c\\xbc\\x95\\xed\\xe4;\\x0c\\x05\\x05\\xbca\\x99\\xc0\\xbc\\xdc\\x01\\xa8<\\x8c9\\'\\xbc\\xd9\\x9b\\x8a\\xbc8\\x90\\x95\\xbb&`\\xc0\\xbc&YN<\\xe1k\\x10\\xbb14\\x11<&K\\xea9\\x7f\\xdc\\xfe\\xbb\\xb5P6;\\xe0\\xe9\\xaa<\\xb5W\\xa8\\xbc\\xb8\\xa8\\xef:\\xf6\\xec,\\xbdv!\\xcf\\xbc\\xab\\x0c/\\xbc\\xdegE<\\x80s:;\\xab\\xfeJ\\xbc&YN\\xbcmm\\x91<\\xd6\\x89\\xdb\\xbb\\xbb\\xba\\x1e\\xbc\\xd7 \\x97;\\xda\\x8d\\xa6<\\x14>\\xcf\\xbc\\x98\\xff\\x13\\xbcs\\xc9\\x95\\xbc\\xe6E/\\xbcR{\\x1a\\xbc\\t\\x08,;L&\\x08\\xbc/\\xc0\\x8f<.7\\xb8\\xba\\xab\\x0c/=Vq\\x81\\xbb\\xbd. \\xbc\\x98\\xff\\x93\\xbc\\xeb\\x18\\\\\\xbc\\xe4\\xd8\\x1f=\\x9as\\x15\\xbd\\xab\\x05=\\xbd\\n\\x91\\x03:\\xc1\\x08\\xbf<\\xf8`\\xae<\\x87\\xbah<4\\xa1\\xa0\\xbc\\xd2\\xaf<<\\xe7)g;AD\\xd3;B\\xc68<\\xa69\\x82<\\xae\\t\\x88\\xbca\\x92\\xce\\xbc\\xac\\x8e\\x14\\xbcp\\xbe\\xd8;\\xff\\xa7\\xdc\\xba-S\\x00\\xbd|}\\xd3\\xbcL\\x18\\xa4\\xbcH7\\x93\\xbc\\xbb\\xa5H<\\xb5B\\xd2<+\\xd1\\x9a\\xba\\xb6;`=\\xa5\\xa2F<\\x86\\xdd\"\\xbc\\x83\\xd2\\xe5;&R\\xdc<2-\\x9f\\xbcJ\\xb2\\x06\\xbdv!O<\\xe3A\\xe4\\xbc\\t\\xfaG\\xba\\x97Z\\xf4\\xba\\xc6\\xf0\\xc1\\xbcK\\x96>\\xbc\\xd0&\\xe5;.)\\xd4<jT\\xf0<\\xfb\\xcd\\xbd\\xbc\\xdbcz<\\xc2\\x01\\xcd:[D\\xae\\xbbR\\xd6z\\xbc\\xa0\\xc8\\xa7;\\x83w\\x85;R\\x82\\x0c\\xbb&`\\xc0\\xbc\\xaa\\x13!<qG\\xb0:%u\\x96\\xbb\\x96}\\xae\\xbb#\\x01\\x15\\xbd\\x0b\\x83\\x9f\\xbc\\xe3\\xe6\\x83\\xbc\\x08j~\\xbc\\x08j\\xfe\\xbb\\xa9\\x8a\\xc9\\xbc\\x9c\\xe0\\xa4\\xbbu6\\xa5\\xbcVq\\x01<\\n\\x8a\\x91<\\xab\\x0c/<\\xc6\\xdb\\xeb;\\x99\\xd5\\xe7<\\xed~\\xf9\\xba\\xae\\t\\x08\\xbd \\xe8\\xf3\\xbc\\xdc\\xfa5\\xbc\\x88J\\xb2<\\x85\\xe4\\x14\\xbc\\x01*B\\xbc\\xab\\x05=\\xbc\\xa2J\\r=\\xa4\\xb7\\x9c<\\x10H\\xe8;\\x13a\\t\\xbdVc\\x1d=\\x81\\xf5\\x1f<\\xe1r\\x82\\xbc7\\xebu\\xbc\\x13Z\\x17=\\xee\\x15\\xb5\\xbc\\xc5\\xf73<\\xb9?+\\xba`\\t\\xf7\\xbb\\x96\\x92\\x84\\xbc\\x19\\xa8\\xb7\\xbc\\xa3 a\\xbc\\x80^\\xe4\\xbci\\x85\\x0e\\xbc\\xce\\xc79<3\\xa8\\x92\\xbc\\xcd\\xce+<[K\\xa0;}\\x14\\x8f\\xbb\\xa4\\xc5\\x80\\xbc\\xa2<\\xa9\\xbc/\\xc0\\x0f< \\x04\\xbc\\xb9\\x92\\x8e\\xb9<\\x87X\\x16<w\\xb8\\x8a<\\xe4\\xca\\xbb:mm\\x11\\xbcp\\xc5J\\xbc\\xbc\\x90r<o\\xe8\\x04;c\\x1b\\xa6\\xba\\n\\x8a\\x91<\\xba*\\xd5;\\x8bG\\x8b\\xbc\\xbb\\xb3,\\xbc)\\xb8y\\xbb[/\\xd8\\xbb\\x8d\\x0f{\\xbcd\\x9d\\x0b\\xbc\\xfdA?<|\\x8b\\xb7<\\x8f\\x98\\xd2;\\xce\\xc7\\xb9\\xbb\\x01*B\\xbc\\xe7)g;\\x9b^?;\\xba\\x15\\x7f<\\x85?\\xf5\\xbc<j4<:\\xef@<nQ\\xc9\\xb9\\\\!t<\\xa8\\xfa\\x7f<mt\\x03\\xbd\\x13Z\\x97\\xbc\\x9fF\\xc2<\\xdc\\xfa5<.0\\xc6;>\\xe5\\'<$\\xdeZ\\xbc\\x10O\\xda;,\\xae\\xe0\\xbb\\xe1\\xc6\\xf0\\xbb\\x0bn\\xc9\\xb9\\xd6\\x97\\xbf\\xbb\\x93r\\xf1;\\xc2\\xf3\\xe8<8\\x82\\xb1\\xbc\\x15\\xd5\\x8a\\xbcJ\\xa4\"\\xbf\\x0fk\"\\xbd\\x1f\\x19\\x92\\xbc\\xaf\\xed\\xbf\\xbc1;\\x03\\xbc\\xc7k\\xb5\\xbbi\\x85\\x0e<\\xaaus<\\x98\\x06\\x86<)V\\xa7<\\xcd\\xe3\\x019\\x83\\xd2\\xe5<\\x86\\xdd\\xa2\\xbcm_-\\xbc\\xe8\\xb2>\\xbc\\xb7\\xcb\\xa9:\\xda\\x864<<cB\\xbd\\xccET;d\\x9d\\x0b<\\x895\\\\;o\\xcc\\xbc<\\xf4\\x8d\\x81\\xbc%n\\xa4;{\\xa0\\x8d<}\\x14\\x0f\\xbc\"j\\xd9;\\xf7\\xd0\\xe4\\xbb:\\x04\\x17\\xb8l\\xddG<\\xc4`x\\xbc\\xbc<\\x04=\\xe8\\xb2\\xbe<R\\xd6z<Q\\xf94=\\x08\\x16\\x90<\\x8f\\x8an7\\xce\\xab\\xf1<\\x8c2\\xb5\\xbb~\\xff8==N\\xec\\xbc\\xc4uN\\xbb\\xc7\\x80\\x8b;)\\xb8\\xf9<\\x9bP[\\xbc\\xd4*\\xb0<SfD<>\\xe5\\xa79\\x1d\\x9e\\x1e\\xbcR{\\x9a\\xbc&YN\\xbc\\x0ey\\x86\\xbc\\x98\\xea=;\\xbb\\xb3\\xac\\xbc\\x15\\xb9\\xc2;`\\xb5\\x08\\xbc\\xcd0\\xfe;\\xd3\\x93\\xf4\\xbcX\\xde\\x10<:\\xfd$<b\\x84\\xea;9\\x0b\\x89;\\xa69\\x82\\xbb\\xfe\\xca\\x96\\xbc|v\\xe1\\xbb\\xfe\\xd1\\x08<qN\\xa2<\\\\\\xc6\\x93\\xbb\\x8c+\\xc3;\\xb0v\\x97\\xbc\\xb0}\\t\\xbc\\xe2V:\\xbbDV\\x82<Sm\\xb6\\xbcC\\xbf\\xc6<\\xea;\\x96<\\x0c\\x05\\x85<g\\x11\\x8d\\xbc\\xe0\\xf0\\x9c;\\xa5\\xa2\\xc6:\\x13a\\x89\\xbb\\xd1\\xcb\\x84\\xbc\\x95\\xfbH\\xbc\\x13S\\xa5\\xbc\\x81\\xfc\\x11;\\x18\\x18\\xee\\xbb\\xbf\\xa9\\x93\\xbc\\xbb\\xac\\xba\\xbc\\x98\\xf8\\xa1<\\xe67\\xcb\\xbb\\xa69\\x02=\\xa8\\x9f\\x9f<\\xac\\xf0f<\\x9bWM\\xbd\\xbd\\x19J<g\\n\\x1b=+\\xd8\\x8c\\xbb\\xf4\\x8d\\x01<\\r\\xe2J<Y\\xbbV\\xbc\\xcd0\\xfe\\xbc6\\x15\\xa2\\xbc@`\\x9b<ip\\xb8\\xbc)]\\x19=ip8<\\xa7\\x08\\xe4\\xbc\\xf7\\xe5:\\xbc2&-<\\xa9\\x98\\xad\\xbc\\'\\xe2%\\xbba\\xa7\\xa4\\xbcN\\xee\\xf7\\xbc\\xfc\\xb1u<\\x9d\\xc4\\\\\\xbb\\x85\\xeb\\x06\\xbd0\\xa4G<jTp\\xbcw\\x0cy\\xbb\\xe3HV\\xbc\\x87_\\x08<\\xb8M\\x0f;\\x82\\xd9\\xd7<\\x10\\xed\\x07\\xbc\\xccS\\xb8\\xbcs\\xbb1</\\xc0\\x0f\\xbc\\xf5\\\\\\xe39\\xd9\\x9b\\n\\xbcTQn<X\\xde\\x90<\\x05\\x12E;\\xe5Z\\x05;Vq\\x81\\xbc7\\xebu<\\xe0\\xf0\\x1c\\xbc\\x81Wr<\\x9eT&<\\x11\\xdf\\xa3\\xbc)\\xb8y\\xbc\\xd7{\\xf7\\xbb{\\xf4{:\\x93\\x80U<$\\xde\\xda\\xbc;\\xd3\\xf8\\xbcg\\x11\\x8d\\xbc\\x84TK\\xbdM\\n\\xc0<\\t\\x0f\\x1e\\xb9\\x02\\x15\\xec9:\\xfd$\\xbc\\xe8\\xb9\\xb0\\xbb-S\\x00\\xbcp\\xb7f=\\n\\xec\\xe3<m_-\\xbaqG\\xb0<\\x19\\xa8\\xb7\\xbc\\xa8\\x9f\\x9f\\xba\\xd7\\'\\t\\xbdB\\xcd*\\xbc\\xd5\\xac\\x15<\\\\\\xc6\\x93\\xbc\\xadk\\xda\\xba%u\\x96\\xbc:\\xf62\\xbc\\xc2\\x01\\xcd\\xba\\xc2\\xf3\\xe8\\xbb\\xcd\\xce+\\xbc@R\\xb7\\xbc:\\x04\\x97;\\x86\\xcf>\\xbc4\\xa1\\xa0<\\xf5j\\xc7<d\\xf1\\xf9\\xbcF\\xc3\\x91;\\xc7r\\'\\xba]\\xb1\\xbd\\xbbu=\\x17;\\x9b^\\xbf\\xbb\\xe8\\xb2\\xbe\\xbc<j\\xb4;\\xccET\\xbb\\x0bu\\xbb\\xbc\\xfb\\xd4\\xaf<}\\x1b\\x01=\\xa6+\\x9e\\xbc\\x9bB\\xf7;\\xab\\x05\\xbd;\\x0cgW\\xbbN\\x8c%\\xbc\\x12\\xb5\\xf7<d\\xff\\xdd;\\xa3\\'S<Vq\\x01\\xbc\\xc4n\\xdc<\\xd5\\xb3\\x07<\\x8d\\x0f{\\xbck\\xe4\\xb9\\xbb\\x8b\\xa2\\xeb;;\\x7f\\x8a;\\xb98\\xb9<\\xe7)g<DO\\x90<J\\xb2\\x86;\\xfb\\xcd\\xbd\\xbc\\xa9\\x91;\\xbc\\xa1\\xba\\xc3\\xbb/\"b<\\xc9\\xe6\\xa8<\\xa5\\x94b:\\xc0\\x8d\\xcb\\xbbX\\xde\\x10\\xbc\\x07\\x9b\\x1c<\\xe4\\xd1\\xad;\\x02\\xba\\x8b<[6J\\xbc&g\\xb2:\\x19\\xbd\\r\\xbci\\x85\\x0e<\\xe1\\xc6\\xf0;w\\xaa\\xa6\\xbc\\xdd\\xde\\xed<\\xcfW\\x83\\xbc.7\\xb8\\xbc{\\xa0\\x8d<mf\\x9f\\xbc\\xb91\\xc7<c\\r\\xc2<\\x13Z\\x97\\xbc[=\\xbc<\\xf5c\\xd5<)V\\'<\\xdfK};K\\x96\\xbe<\\x11\\xd1\\xbf:m_-;\\xden7\\xbd\\xb9F\\x1d=U\\xcca\\xbc#\\x08\\x87:5\\x1c\\x14=\\x08\\x16\\x10=\\x18\\x18n\\xbc\\x83\\xd2\\xe5;o\\xe8\\x04<\\x7f\\xdc~<\\xa0*z;\\xf2\\xfd7\\xbc\\x8a\\xb0O<\\xd0&e\\xbb\\xda\\x8d&\\xb9\\xe2d\\x1e<\\n\\xecc\\xba6\\x07><<q&\\xbcw\\xaa\\xa6\\xbc\\xa5\\x94b<\\xfc]\\x87<fz\\xd1:\\xac\\xf0f\\xbbip\\xb8<k\\xf9\\x8f;o\\xcc<<\\x8c$\\xd1<\\xc6\\xf0\\xc1;Q\\xebP\\xbc\\x9eb\\n<\\x93rq\\xbc\\xac\\x8e\\x14\\xbd\\x05\\x19\\xb7\\xbbZR\\x12\\xbd\\x8d\\x0f\\xfb;\\x1d\\xa5\\x90\\xbbY\\xbbV<C\\xb8T;\\x0e\\xcdt\\xbaii\\xc6<\\xa8\\xad\\x83<\\xf3\\xf6E<i~\\x9c;\\xde|\\x9b\\xbc\\xd9\\xf6j<\\xfc]\\x07=\\t\\x08\\xac;X9q:DH\\x9e\\xbc\\xdb\\x08\\x9a<\\xa7\\x16H;\\xa9\\x91\\xbb<N\\x9a\\x89:\\x06\\xa9\\x00=\\x9b^\\xbf;\\x85\\xe4\\x14<\\x16\\xb2P\\xba\\xd9\\x94\\x98<\\x01\\x1c^=s\\xbb1\\xbc\\x9eM\\xb4<\\xc3\\x98\\x88\\xbcX\\xe5\\x82;\\xa8\\xa6\\x11<\\xf1f|;\\xc3\\x8a$\\xbc\\xd6\\x90M=\\xf5q9\\xbc\\xb2Ey\\xbc\\xfa\\xe9\\x05\\xbc\\xaa\\x1a\\x13=2&\\xad\\xbc\\xec\\xaf\\x97\\xbc\\x11\\xd1?\\xbcj\\x00\\x02\\xbc@g\\r<\\xcbZ\\xaa\\xbc\\xd7 \\x97<[6J\\xbc\\x82\\xe7;<;\\x7f\\x8a<\\x15\\xc04\\xbc>\\xd7C<\\xb1o\\xa5\\xbc\\\\\\xc6\\x13;\\x9d\\xc4\\\\\\xbb\\xbd \\xbc=\\x1d\\xa5\\x109\\xf0\\x97\\x1a\\xbd\\x1d\\x9e\\x1e<\\xd9\\xf6j\\xbc\\xe0\\xdbF\\xbcR\\x82\\x0c\\xbd\\xa0*\\xfa\\xbcs\\xc9\\x95<\\xa2<)\\xbc\\xa3\\'S;\\xc9\\xdf6\\xbc#\\x01\\x95;\\xd4#\\xbe\\xbc\\xdaq\\xde:\\xccET<v\\x1a];w\\xb1\\x98\\xbc\\xca\\xd1R\\xbcX\\xe5\\x82\\xbc\\x1a\\x85\\xfd\\xbcy,\\x8c;=U\\xde<o\\xd3.<\\x1e{\\xe4<\\x8f6\\x00=1\\x88\\x7f<\\x17B\\x9a<-L\\x8e\\xbc1;\\x83\\xbcmf\\x9f\\xbcVq\\x01=qU\\x94<DV\\x82<\\xdb\\x0f\\x8c\\xbb\\xc1\\x08?=qU\\x94\\xbc\\x1f\\x0b.<\\x8d\\xbb\\x8c<mX\\xbb<<x\\x98\\xbb\\xdc\\x01\\xa8<\\x00F\\n\\xbb`\\x17\\xdb\\xbb\\xca\\xd1\\xd2<\\xb5P6\\xbc\\xd8\\x0bA;\\xac\\x8e\\x14=6\\x07>\\xbd\\xf7\\xd0\\xe4\\xbb3\\xaf\\x84<\\xa6\\x8dp<\\x0c\\x05\\x05\\xbd\\xf3\\xe1\\xef\\xbc2&\\xad\\xbb\\'\\xf0\\x89<\\xb3\\xceP<w\\x0cy\\xbc\\xfc]\\x07\\xbc\\xa7\\x16\\xc8\\xbc\\xfb\\xd4/\\xbb\\x16\\x9d\\xfa\\xbb\\xaf\\xfb#\\xbd\\xec\\xa1\\xb3:\\xb3\\xd5B\\xbbqN\\xa2\\xbcE,\\xd6\\xbbmm\\x11\\xbcv\\x1a\\xdd\\xbck\\xf2\\x1d\\xbbb\\x84j\\xbcfz\\xd1\\xbc\\xc9\\xf4\\x0c\\xbd<j\\xb4\\xbb\\xbd. =e\\x96\\x99:\\x81\\x03\\x04=~\\xeab\\xbb\\xab\\xfeJ\\xbc\\x01#P\\xbc\\xb5W\\xa8\\xbcK\\x81\\xe8\\xba\\xbb\\xb3\\xac\\xbb\\xf8u\\x84\\xbc\\xe1k\\x10\\xbd\\x13L3\\xbcM\\x03\\xce\\xbc\\x1d\\xac\\x02<?\\xbb{\\xbc\\x15\\xb9B<5~f\\xb8mt\\x03\\xbc\\xc4`x<=\\\\P<\\xa7\\x0fV;e\\x96\\x99<ip8=\\xa1\\xac_;\\xf0\\x90\\xa8;\\xf9RJ\\xbc\\xa6\\x8d\\xf0:\\xdc\\xecQ\\xbd\\x1b1\\x8f\\xbb\\xca\\xd8D\\xbc\\x7f\\x8f\\x82<\\n\\xecc<\\xac\\xf0f<s\\xd0\\x07<o\\xd3.<0\\xab9\\xbc\\x81\\xf5\\x9f;s\\xc2\\xa3\\xbc\\x90\\x13\\xc6<\\x80eV;\\xb4\\xc0\\xec;\\xf3\\xf6E<\\x87\\xbah\\xbb\\xe0\\xe2\\xb8<\\x9az\\x07<}\\r\\x1d=x\\x87l<\\xc6\\xdb\\xeb\\xbc\\xfd3\\xdb<\\x15\\xd5\\x8a<\\xb1h\\xb3\\xbc9\\x0b\\x89<\\x16\\x9d\\xfa<h\\xe7\\xe0\\xbb5#\\x06\\xbc\\xe8\\xb90<\\xa8\\xad\\x03=\\xbb\\xc1\\x10<\\x0f]\\xbe\\xbbe\\x96\\x19\\xbd\\xc2\\x01M\\xbc@`\\x9b\\xbby\\x1e\\xa8;\\xa0*\\xfa;\\xa7$\\xac\\xbc<q&\\xbc\\xfe\\xca\\x96\\xbc\\xbe\\x12X\\xbc)]\\x99<\\x8c$Q\\xbch\\xeeR\\xbb|}\\xd3\\xbcc\"\\x18\\xbcy,\\x0c\\xbb\\xae]v\\xbc\\xb3\\xe3\\xa6<\\xaa\\x13!\\xbc\\x00\\x9a\\xf8\\xbb4\\x8cJ<K\\x88Z\\xbc\\x05 \\xa9\\xbc\\x9eb\\n\\xbd\\xcd\\xdc\\x0f<\\x1c\\x15\\xc7;I\"==9f\\xe9;H)\\xaf<\\xa1\\xa5m\\xbc\\xbd\\'.=\\xf8`.\\xbc\\xeb\\x11\\xea\\xbb\\x85\\xeb\\x86\\xbc\\x95\\xf4\\xd6\\xba\\x99\\xd5g:+\\xd1\\x9a\\xbc\\xbe\\x0bf;14\\x91<\\xd4\\x1cL\\xbc\\x80s:<!\\x86\\xa1<w\\x0cy<\\xa0*z<Vq\\x81\\xbcw\\xaa\\xa6\\xbc1\\x96\\xe3\\xbc\\x13L3\\xbc\\xec\\xb6\\t\\xbd5~\\xe6<\\x7f\\x81\\x9e;K\\x96\\xbe;y%\\x1a\\xbc&R\\xdc<\\xfe\\xc3$=\\x97Z\\xf4<\\x12\\xc3\\xdb;\\x140k<\\xc3\\x8a\\xa4<\\xba\\xc8\\x02\\xbc9m[<\\x0fk\\xa2\\xbb\\xd4\\x1c\\xcc;\\xd3\\x93t\\xbc\\xd7{w\\xbct\\xad\\xcd\\xbcQ\\xe4^\\xbbI\\x14Y<\\xden7<\\x0fr\\x94<\\xdb\\x08\\x1a9\\x86\\xc1\\xda9\\xd4#>\\xbd\\xc1\\x0f1=/\\xb9\\x1d:\\xb7\\xc4\\xb7\\xbc*AQ<\\x87\\xbah\\xbd\\xa7\\x08\\xe4\\xbb4\\x9a\\xae\\xbc\\xbf\\x94\\xbd\\xbc\\xc5\\xfe\\xa5\\xbct\\xad\\xcd;\\x13EA\\xbcE,\\xd6;\\x80s\\xba<\\x18\\x18n\\xbc\\x19\\xbd\\r\\xbc\\x90\\x1a8<t\\xadM\\xbc\\xdegE=\\x05\\x12\\xc5;\\xe7)\\xe7<\\xfe\\xca\\x16=9\\x0b\\t:[=\\xbc\\xbbI\\x14Y<+\\xd8\\x0c;\\x96\\x8b\\x92\\xbc\\xa9\\x98-\\xbb\\xa2J\\r=%n$\\xbc\\xdfY\\xe1\\xbc\\xba*U\\xbbk\\xf2\\x9d\\xbc\\xf6N\\x7f\\xbc8\\x82\\xb1\\xbc\\xc1\\x0f1</\"\\xe2\\xbc \\xe8s\\xbcH0!\\xbc\\xbc\\x90\\xf2;\\x0e\\xcd\\xf4\\xbc\\xcbZ*=\\xc8V_\\xbc#\\x08\\x87<`\\tw\\xbc\\xe5\\xae\\xf3\\xbcDO\\x10<\\xc9\\xdf\\xb6\\xbb\\xa8\\x9f\\x9f;%u\\x16<\\xcd\\xe3\\x01<H)/<\\r\\xf0\\xae\\xbb\\xce\\xb2c\\xbc\\x0b|\\xad\\xbc\\x88Q\\xa4<>\\xec\\x99\\xba\\x9c\\xe7\\x96\\xbb\\x15\\xd5\\n\\xbd\\xd31\\xa2<\\x895\\xdc;\\x08x\\xe2<G\\xa7I\\xbc\\x00\\x9ax<\\xc7y\\x19<\\xb0\\xd8\\xe9<\\xb8M\\x8f\\xba.0\\xc69\\xa4\\xb0*<\\xd0-\\xd7;(\\xcdO<\"qK\\xbc\\\\\\xcd\\x85\\xbc\\xcd\\xce\\xab\\xbc\\x1d\\x9e\\x9e<\\x96\\x92\\x04<\\x06\\xfdn<\\xbf\\x94=\\xbcF\\xae;:\\xac\\x95\\x86\\xbc\\x92\\xa3\\x8f\\xbb\\xbd \\xbc\\xbc4\\xa1\\xa0<h\\x8c\\x00<\\xd5\\xac\\x15<\\x06\\xfd\\xee\\xbc\\x89\\xd3\\x89\\xbc\\xfb\\xbfY\\xba,\\xca\\xa8\\xbc\\xf0\\x896\\xb9\\xe1\\xcdb;DV\\x82<\\xe70Y\\xbc\\xd9\\x9b\\n<\\x15\\xb9B\\xbc\\xea4$\\xbc\\x81W\\xf2;o\\xe1\\x12<\\x140\\xeb\\xbc\\xdb\\x0f\\x0c\\xbc\\xf1\\x82D\\xbc\\xe3Ad\\xb8\\x08\\x16\\x90<g\\xfc6;h\\xd9\\xfc\\xbc\\xac\\xf0f\\xbbU\\xe8\\xa9<iiF\\xbb\\xbd. \\xbc}\\x1b\\x81\\xbb\\x80z,<\\xaf\\xed?\\xba\\xff\\xbc\\xb2<\\x07\\x86\\xc6;\\xcd\\xce+\\xbcL\\x1f\\x16<\\xa8\\xfa\\x7f\\xbc\\x05 )\\xbc\\x0b|-;H)\\xaf\\xbc \\xfd\\xc9;0\\xab\\xb9;\\x94\\x02\\xbb\\xbb\\xf9Y\\xbc;\\x8d\\x1d\\xdf\\xbc\\xce\\xb2\\xe3\\xbc)V\\'\\xbc\\xfdA\\xbf;\\xc8]\\xd1\\xbc\\xf2\\x12\\x0e<4\\x85\\xd8:\\xf2\\x04\\xaa\\xbc\\x90(\\x9c\\xbcA=a<\\xd5\\xb3\\x07\\xbc>\\xe5\\'\\xbc\\xb5B\\xd2<\\xbe\\xb0\\x85<\\xc4u\\xce<\\x8c9\\'\\xbc\\xb8T\\x01\\xbc\\xf8g \\xbax\\x87\\xec\\xbc\\xbd\\'.\\xbcU\\xdaE\\xbd\\x08j~<=\\\\\\xd0\\xbc\\xbc\\x9eV<\\xcba\\x9c<\\xb8M\\x8f\\xbc\\xd9\\xf6\\xea;\\n\\x8a\\x91\\xbcE\\x1e\\xf2\\xbc\\x15\\xce\\x18\\xbc\\xdd\\xe5\\xdf;E3H<\\xf2\\x19\\x80<\\xa4\\xb0*;\\xae\\t\\x88<w\\xaa\\xa6\\xbbDA\\xac;\\xa2C\\x1b=\\xe7\\xce\\x86\\xbb+\\xd8\\x0c<\\xe2V:\\xba\\x8b\\xa9\\xdd\\xbc\\xc0x\\xf5;\\xca\\xd1R\\xbc\\x89\\'\\xf8\\xbc\\xc2\\xf3h;\\xfd:\\xcd<\\x8c9\\xa7<\\xa69\\x82<\\x9c\\xd92\\xbc6\\x07>\\xbb\\xfa\\xe2\\x93\\xbcE\\x1e\\xf2\\xba\\xf5q9;\\xbf\\xa9\\x93;ZR\\x92<9\\x0b\\t;\\xbd\\x19\\xca\\xbc\\xc2\\xf3h\\xbc2\\x18\\xc9;P\\x07\\x99\\xbc/\\xc0\\x8f\\xbc\\xf6\\xec\\xac\\xbcB\\xdb\\x8e<\\x04.\\x8d\\xbc\\xfc\\xb1u<\\x02\\xba\\x0b\\xbd\\x02\\x15l\\xbc\\xe5Z\\x05<\\x1f\\x19\\x92\\xbc\\xd8\\x12\\xb3<\\xac\\x87\"\\xbb\\xc3\\x832<x\\x9c\\xc2<\\xbd \\xbc;\\xec\\xa8%<\\xf7\\xdeH\\xbc\\x895\\\\<\\x10\\xed\\x07\\xbc\\xcbo\\x80:\\x88J2;\\x83\\xd2\\xe5\\xbc\\xd5\\xa5#<\\xb8\\xa8o9\\x80s\\xba\\xb8\\x9bW\\xcd\\xbb\\xb0}\\t\\xba\\x8a\\xb0O\\xbd\\x83p\\x13\\xbbk\\xf9\\x8f\\xbc\\x1b*\\x9d;(\\xc6\\xdd\\xbbnQ\\xc9<\\xe5\\xae\\xf3\\xba\\xdd\\x83\\x8d<\\xed\\x8c\\xdd<\\xa7\\x0f\\xd6\\xbb\\xba\\x15\\x7f\\xbc\\x9b^\\xbf<\\xa6\\x8dp\\xbck\\xe4\\xb9\\xbcs\\xc9\\x95<[D.\\xbb\\x19\\xa87\\xbc\\x0b\\x83\\x1f<z\\x10D<\\x93y\\xe3:\\x8b\\xa9]\\xbaM\\n@>\\x13a\\t<\\xf3\\xe1\\xef;$\\xe5\\xcc:\\x99\\xd5\\xe7<\\x8bG\\x0b\\xbb\\xbb\\xc1\\x10=mt\\x03\\xbb\\xdeu\\xa9<\\xd1\\xbd\\xa0<\\x8e\\xa6\\xb6<\\xe8\\xb90\\xbcU\\xd3S\\xbb\\xa0*z\\xbb\\x1a\\x9aS<\\xbc\\x9eV\\xbb\\x8a\\xb7A\\xbd\\x147]\\xbc\\x1c\\x07c\\xbc\\'\\xf0\\x89\\xbc\\xc9\\xdf69\\xed\\x8c\\xdd\\xbc\\xcd\\xd5\\x9d<\\x19\\xaf\\xa9\\xbc\\xb8M\\x0f<(\\xcdO\\xbc\\xa69\\x02=\\xe1\\xc6\\xf0\\xb9\\x19\\xb6\\x9b<k\\xe4\\xb9<\\xf1{\\xd2\\xba\\x81W\\xf2;\\x8a\\xb0O\\xbcnJ\\xd7\\xbc\\xf8u\\x04<P\\x00\\'\\xbc\\xed\\x93O<\\xef\\xf9\\xec\\xbc\\x13S\\xa5<\\x1c\\x00q;\\x8d\\xbb\\x8c:\\x81Wr\\xbc\\x87_\\x88\\xbb\\xb5ID\\xbcWU\\xb9\\xbb^:\\x95<\\xc2\\x01\\xcd;D:\\xba<\\x90!\\xaa<\\xbe\\xb0\\x05=)V\\xa7\\xbc\\xe1r\\x02\\xbc\\xfd:M<\\xcbZ*<0\\xb2+<B\\xcd\\xaa\\xba\\x8a\\xbe\\xb3<g\\x11\\r<\\x7f\\x88\\x10;C\\xa3~\\xbc\\x19\\xaf\\xa9\\xbc\\x06\\xa9\\x80<\\xe7\\xce\\x86\\xbb\\xf8u\\x84\\xbb\\x06\\xa2\\x8e\\xbc\\x11\\xd1?\\xbc\\xe6S\\x13\\xbcb\\x8b\\xdc\\xbb\\xd2\\xaf<\\xbb\\x8e\\xa6\\xb6\\xbb\\xcd\\xdc\\x8f<)d\\x8b\\xbc~\\xff\\xb8\\xbb\\x0bn\\xc9:\\xba#\\xe3\\xbc)d\\x0b\\xbd\\xeb\\x18\\\\\\xba\\xa4\\x12\\xfd\\xbc\\x83p\\x13;\\xea&\\xc0<\\x89\\'x<\\xab\\x05\\xbd\\xbb\\x19\\xbd\\x8d\\xba>\\xe5\\xa7\\xbc\\xc2\\xf3h\\xbc\\xb8\\xa8o\\xbcF\\xc3\\x11=2-\\x9f\\xbc\\x1e\\x82\\xd6\\xbc\\x18\\x18\\xee\\xbb\\xfb\\xd4/\\xbc\\xb8\\xa8o\\xbc\\\\\\xcd\\x85\\xbcH0\\xa1\\xbc\\x9e[\\x98:\\xe0\\xd4T<\\x1a\\x9aS<\\xdc\\xf3C<\\xc1\\x08?\\xbc\\xc1\\x1d\\x95\\xbc\\x1f \\x84\\xbc\\xf6\\xfa\\x10=I\\x14Y<\\xaf\\xdf\\xdb:\\x17B\\x9a\\xbc\\xa0\\xcf\\x99<\\xa9\\x98-<\\x9d\\xbdj<\\xeb\\x11\\xea:\\x8a\\xbe\\xb3;I\"=\\xbc\\xbc<\\x84\\xbc\\x1e{\\xe4;\\xc1\\x0f1\\xbc\\x8d\\x1d_<\\xe8\\xc0\\xa2<[6J\\xbbd\\xf1\\xf9\\xbc\\x96\\x92\\x84<N\\xeew\\xbc\\xe0\\xe2\\xb8</\\xc7\\x01\\xbda\\x99\\xc0<\\xa8\\xad\\x83;\\xf4\\x7f\\x1d\\xb9\\xa4\\x12\\xfd;\\x1c\\x15\\xc7\\xbc\\xa1\\xa5\\xed;\\x85\\xeb\\x06\\xbd\\x85?\\xf5\\xbc\\x86\\xc8\\xcc<\\xd5\\xa5#\\xbc*:\\xdf\\xbbD::\\xbcz\\x176\\xbc+3\\xed;\\xf3\\xe1o\\xbb\\x1f\\x19\\x92\\xbb\\xf4\\x8d\\x01\\xbc\\xb1aA;\\xd3?\\x86<k\\xf2\\x1d\\xbc\\xcfW\\x03<\\x00\\x9a\\xf8<\\x00\\x9ax\\xbcv\\x1a]\\xbbVj\\x0f=5#\\x86\\xba\\xc6\\xe9\\xcf\\xbb\\x08\\x16\\x90\\xbc\\x85\\xeb\\x06\\xbc)d\\x8b;2\\x1f\\xbb\\xbbC\\xa3\\xfe\\xbbqG\\xb0<<cB\\xbc;\\xd3\\xf8\\xbc\\x92\\x87\\xc7\\xbc\\xdb\\x0f\\x0c\\xbc\\xae]\\xf6:K\\x81h\\xbd\\x92\\x95+<\\x87\\xba\\xe8<\\x9d\\xd2\\xc0\\xba\\xea&\\xc0\\xbam_-\\xbb\\x88J2\\xbe\\xdd\\xe5\\xdf<\\x90(\\x1c<\\xbf\\xa2!\\xbda\\x92\\xce<V\\xbe}<\\xa7\\x0f\\xd6<\\xc6\\xf0A\\xbc\\x96\\x8b\\x12\\xbc\\x90(\\x9c<4\\xa1\\xa0\\xbb!\\x7f/<\\xc4n\\\\\\xbcw\\xaa\\xa6\\xbbm_\\xad\\xbcmf\\x1f\\xbc,\\xc36<\\xa4\\x12\\xfd:\\x19\\xb6\\x1b=\\x1d\\x97\\xac<Q\\xe4\\xde<N\\xee\\xf7;`\\t\\xf7;\\x0b\\x83\\x1f\\xbc\\x9c\\xe7\\x96<\\x140k\\xbc\\xcd\\xd5\\x9d\\xbc\\xf8n\\x92<&`\\xc0<R{\\x9a:\\xa2<\\xa9:\\xcc>b\\xbc\\xb9F\\x9d<3\\xa8\\x12\\xba\\x16\\xb2P:\\xady>;\\xae\\t\\x88\\xbbK\\x8fL\\xbcy,\\x8c;3\\x03s;\\x9d\\xd2@=\\x0bu\\xbb<\\xeb\\x18\\xdc<\\xd2\\xb6\\xae;9m[<l\\xdd\\xc7<!\\x94\\x85<\\xf1{R\\xbb\\xec\\xb6\\t<14\\x11<mX;=\\xc5\\x0c\\n\\xbd\\xae\\x02\\x16<>\\xec\\x19\\xbb\\xcfP\\x11;\\x12\\xca\\xcd:\\xf9Y<=\\x04.\\r;\\x12\\xb5\\xf7;^:\\x95\\xbc>\\xf3\\x8b<\\xe0\\xe28\\xbc\\xb7\\xc47\\xbb\\xa2<\\xa9\\xbc\\xb98\\xb9\\xbc\\xef\\xf9\\xec\\xbb1\\x96c\\xbc\\xa2J\\r<\\x1d\\x97\\xac\\xbc\\x9c\\xee\\x88;_3\\xa38L\\x18\\xa4<H0\\xa1\\xbc,\\xae`</\\xc7\\x01\\xbc\\xeb\\x1f\\xce\\xbb\\x1f\\x19\\x12\\xbd\\xbb\\xc1\\x10=-S\\x80<\\x96}.\\xbc\\xcd\\xdc\\x8f\\xbca\\x92N<\\x90!\\xaa\\xbc?\\xd0Q<\\x15\\xc0\\xb4\\xbc0\\x9dU;r9\\xcc8F\\xbc\\x1f\\xbb\\xe6S\\x13\\xbc\\xcbh\\x8e;\\xea4\\xa4<\\n\\xe5\\xf1\\xbc\\xee#\\x19\\xbc\\x03\\xa5\\xb5\\xbc/\\x1bp;\\x8d\\xbb\\x8c;{\\xa0\\r\\xbb\\x9as\\x15=\\xdbc\\xfa<$\\xf30;qG0<\\xb6\\xd9\\x8d\\xbbh\\xd9\\xfc\\xbcI\\x06u<>\\xec\\x19\\xbcu/\\xb3;\\xd2\\xa1X;\\x9d\\xbdj<\\xfcO#=\\xd5\\xb3\\x87;\\xae\\x02\\x96\\xbc\\t\\x0f\\x9e<a\\x99\\xc0<\\r\\xe2\\xca:g\\xf5\\xc4<\\x06\\xa2\\x0e=\\x91\\x05b\\xbb\\x0ey\\x86\\xba\\x9fFB<\\x86\\xc8\\xcc\\xbb\\xden7=\\x16\\x9d\\xfa\\xbb>\\xde5\\xbc\\x04.\\r\\xbc\\x97hX:\\x88J\\xb2;x\\x9c\\xc2\\xbd\\xcd\\xe3\\x01\\xbdH>\\x05=\\x08\\x1d\\x02\\xbc\\xaf\\xed\\xbf\\xbb\\xf6\\xf3\\x9e<\\x86\\xd6\\xb0\\xbb\\x93r\\xf1<\\xda\\x8d&\\xbd|v\\xe1;\\xbc\\x90\\xf2\\xbb&g\\xb2\\xbc*O5\\xbb\\xcbh\\x8e<^A\\x87\\xba]\\xb1\\xbd\\xbb\\xb5^\\x9a\\xbc\\xc7k\\xb5<\\x9eb\\x8a\\xbc\\xa4\\xbe\\x8e<\\x13a\\x89\\xbc\\xab\\x0c/<\\xdd\\x83\\x8d<\\xeb\\x11j\\xbb\\x05\\x197\\xbb!\\x8d\\x13:\\xd0;\\xbb\\xbcG\\xa0W<\\xdc\\x01(<\\xaf\\xfb#\\xbc\\xb1o\\xa5\\xbcDO\\x90\\xbb\\xb0\\xd8i<\\x84TK\\xbc\\x04\\x82\\xfb\\xbb(\\xdb\\xb3\\xbbh\\x8c\\x00\\xbd\\xd4\\x0e\\xe8\\xbc\\xd1\\xbd =\\xd31\\xa2\\xbc\\xa0\\xc8\\'\\xbb\\x8d\\x0f{\\xbc\\r\\xe2\\xca;\\xd6\\x89\\xdb\\xbc\\x99\\xe3\\xcb\\xbc\\xa4\\xb0\\xaa;\\x19\\xa8\\xb7;\\xcd\\xd5\\x9d<\\xfd3[<\\xa1\\xc15\\xbc\\x89\\'\\xf8\\xbc\\xa7\\x1d\\xba<b\\x84\\xea\\xbc8tM\\xbc\\xadk\\xda<-L\\x8e<#\\x01\\x95\\xba\\x85\\xe4\\x94</\\xb9\\x9d:T\\xef\\x1b\\xbc\\xf3\\xf6\\xc5\\xbb\\xd38\\x14\\xbb\\xea&\\xc0\\xbc\\xc2\\xf3\\xe8<\\xba*U;\\x9as\\x95<\\xee\\x15\\xb5\\xbb@g\\r\\xbdO~\\xc1\\xbb\\xf6N\\xff\\xbc\\x9eb\\x8a\\xbb\\xd3\\x93t;w\\xaa\\xa6\\xbcQ\\xf2B<\\xfb\\xbfY\\xbc\\xd4#><\\x1c\\x00\\xf1;\\xc0\\x8dK\\xbbN\\x93\\x97:\\xd6\\x9e\\xb1<\\xb4e\\x0c;;\\x7f\\x8a\\xbc\\xa0\\xc8\\'\\xbb\\xa0\\xd6\\x8b\\xbc\\x05\\x12\\xc5<?\\xbb\\xfb<\\xd7 \\x97\\xbc\\x10OZ\\xbcV\\xbe\\xfd<\\xac\\x87\"\\xbd\\x86\\xc1\\xda;8\\x89\\xa3\\xbb\\n\\x8a\\x91<\\x06\\xa9\\x80\\xbcD::<.>\\xaa<&`\\xc0\\xbb\\xff\\xaeN\\xbc\\xbe\\x0b\\xe6\\xbb?\\xbb\\xfb<\\x1b1\\x8f\\xbc\\xf1f|\\xba\\xdeu\\xa9\\xbd\\x8d\\xbb\\x8c;\\x1c\\x15\\xc7\\xbc>\\xec\\x19\\xbb\\xda\\x8d\\xa6;^\\x9c\\xe7\\xbbz\\t\\xd2<\\xc9\\xf4\\x0c\\xbc\\r\\xf7\\xa0\\xbb\\xbb\\xa5H\\xbb\\xb8M\\x8f\\xbci~\\x9c;\\xfcV\\x95\\xbc$\\xe5L\\xbc\\t\\x01\\xba\\xbc\\x91\\xf7}\\xbb\\xe0\\xe28=\\xdd\\xe5\\xdf;\\xf6\\xf3\\x9e;\\x85?\\xf58%|\\x88:\\xb8M\\x8f\\xbc\\xdbc\\xfa<R\\xd6z\\xba\\x8f\\x91\\xe0\\xbc\\xcd\\xdc\\x0f;-\\xa0|\\xbc\\x93\\x1e\\x83\\xba.78;g\\x03\\xa9\\xbc\\xba\\x15\\xff\\xbb\\x8f6\\x00\\xbc\\xc3\\x91\\x96:@K\\xc5<\\xe0\\xe289\\x81\\xf5\\x1f\\xbc\\xf3\\xefS<\\x96\\x92\\x84;_%?<!\\x8d\\x13=\\xae\\x02\\x96\\xbcl\\xc1\\x7f\\xbc\\x11\\xe6\\x15=\\xc6\\xdb\\xeb\\xbcv(A\\xbb>\\xde\\xb5\\xbb\\xff\\xae\\xce;`\\t\\xf7\\xbb\\xd4\\x0e\\xe8<\\xdaq^\\xbb\\x08\\x1d\\x82\\xb9\\x9eM4<\\x00\\x9a\\xf8\\xbb\\x97Z\\xf4\\xba\\xd5\\xac\\x95\\xbap\\xb7f\\xbc\\x13L3<\\xdd\\xdem<\\xda\\x8d&\\xbb?\\xbb{\\xbc\\xbb\\xc1\\x10=p\\xc5\\xca\\xbc\\xee*\\x0b\\xbbL\\x1126\\x18-D:\\r\\xf0\\xae\\xbc\\x03\\x9e\\xc3\\xba\\xd7\\'\\x89;\\xc1$\\x07\\xbc\\x12\\xb5\\xf7\\xbc?\\xd0\\xd1;g\\x11\\x8d\\xbc\\x10\\xed\\x87<Q\\xe4^<\\xd2\\xaf<<\\x1d\\xac\\x82\\xbc\\xc1$\\x87<\\x94\\x10\\x1f<\\x13a\\x89\\xbc\\x1e\\x82\\xd6<\\x8b\\xa9\\xdd\\xbb/\"\\xe2\\xbb\\xb8\\xafa\\xbc\\xee*\\x0b=N\\x9a\\t=\\xa1\\xac_;^:\\x95\\xbc\\xa9\\x91\\xbb\\xb9\\xa7$\\xac<\\xa7\\x0fV<\\n\\xe5q\\xbc\\xe2OH\\xbcp\\xb7\\xe6\\xbc\\xf3\\xe1o\\xbcC\\xa3\\xfe:\\xe6L\\xa1\\xbc\\'\\xf0\\x89\\xba)d\\x8b\\xbb{\\x99\\x1b=\\xca\\xc3\\xee<\\xa1\\xa5m<\\x1a\\x85\\xfd;>\\xf3\\x0b\\xbc\\x13S\\xa5\\xbc\\x96\\x84\\xa0\\xbc$\\xdeZ\\xbbz\\tR\\xba\\xb7\\xd2\\x9b\\xbaVq\\x81\\xbc\\xa2J\\x8d<\\x82\\xe7;=\\xe4\\xd8\\x1f<\\x87_\\x88\\xbb\\x8a\\xcc\\x97\\xbb\\xf4\\x7f\\x1d\\xbce\\x81\\xc3\\xbb\\x8f\\x8a\\xee\\xbbE3H\\xbc\\xc2\\xf3\\xe8\\xbc\\xcba\\x1c=e\\x81C\\xbc\\x9bP\\xdb<\\xf1t`<_,\\xb1\\xbc,\\xbcD=\\x06\\xfd\\xee;\\x80l\\xc8\\xbb\\x9b^?;\\xbf\\xa2\\xa1:\\'\\xf0\\x89\\xbc\\xca\\xc3n<\\xcd0~\\xbc\\xa1\\xc1\\xb5\\xbb\\x9c\\xe7\\x96:\\xbd5\\x12\\xbc\\x0b\\x83\\x1f\\xbce\\x81C\\xbc\\xab\\x05=<p\\xb7f\\xbc\\x88C\\xc0=\\x05 )<\\x8a\\xc5\\xa5\\xbcJ\\xab\\x94<K\\x8fL\\xbc\\n\\xe5q;OwO<\\xbf\\x94\\xbd<|\\x8b7;mf\\x1f\\xbd\\xfc]\\x07=\\t\\x0f\\x1e\\xbc\\x84b\\xaf\\xbc2\\x18I\\xbc\\x15\\xce\\x18<\\x1e\\x90\\xba:B\\xc68\\xbc\\xc1\\x1d\\x15=\\xef\\x07\\xd1\\xbb\\xd7{w<-\\xa0|<\\xf3\\xe1o<\\xaf\\xed\\xbf<\\xe5Z\\x05<:\\x04\\x17\\xbd\\xab\\xf7X<\\xbd5\\x12=\\x05 )<\\x1a\\x85\\xfd;x\\x95P\\xbd\\xb3\\xceP<\\xd6\\x90\\xcd\\xbbP\\x07\\x19\\xbd\\x1a\\xa1E\\xbc}oo;b)\\x8a\\xbc\\xbd\\'\\xae\\xbb\\xc9\\xe6\\xa8\\xbc\\x1d\\xac\\x02;\\x81\\xfc\\x11=\\x140k\\xbcw\\xb8\\n=\\xc5\\xfe\\xa5\\xbc\\'\\xe2%\\xbd\\xe4\\xdf\\x11<\\xf0\\x90(\\xbcr$\\xf6\\xbc\\xe67K\\xbc\\xc2\\xf3h<'</td>\n",
       "        </tr>\n",
       "    </tbody>\n",
       "</table>"
      ],
      "text/plain": [
       "+----------------------+-------------------------------+------------------+---------------------+--------------------------------------------------------------------------------------------------------------------------------------------------------------------------------------------------------------------------------------------------------+-------------------------------+--------------------------------------------------------------------------------------------------------------------------------------------------------------------------------------------------------------------------------------------------------------------------------------------------------------------------------------------------------------------------------------------------------------------------------------------------------------------------------------------------------------------------------------------------------------------------------------------------------+-------------------------------------------------------------------------------------------------------------------------------------------------------------------------------------------------------------------------------------------------------------------------------------------------------------------------------------------------------------------------------------------------------------------------------------------------------------------------------------------------------------------------------------------------------------------------------------------------------------------------------------------------------------------------------------------------------------------------------------------------------------------------------------------------------------------------------------------------------------------------------------------------------------------------------------------------------------------------------------------------------------------------------------------------------------------------------------------------------------------------------------------------------------------------------------------------------------------------------------------------------------------------------------------------------------------------------------------------------------------------------------------------------------------------------------------------------------------------------------------------------------------------------------------------------------------------------------------------------------------------------------------------------------------------------------------------------------------------------------------------------------------------------------------------------------------------------------------------------------------------------------------------------------------------------------------------------------------------------------------------------------------------------------------------------------------------------------------------------------------------------------------------------------------------------------------------------------------------------------------------------------------------------------------------------------------------------------------------------------------------------------------------------------------------------------------------------------------------------------------------------------------------------------------------------------------------------------------------------------------------------------------------------------------------------------------------------------------------------------------------------------------------------------------------------------------------------------------------------------------------------------------------------------------------------------------------------------------------------------------------------------------------------------------------------------------------------------------------------------------------------------------------------------------------------------------------------------------------------------------------------------------------------------------------------------------------------------------------------------------------------------------------------------------------------------------------------------------------------------------------------------------------------------------------------------------------------------------------------------------------------------------------------------------------------------------------------------------------------------------------------------------------------------------------------------------------------------------------------------------------------------------------------------------------------------------------------------------------------------------------------------------------------------------------------------------------------------------------------------------------------------------------------------------------------------------------------------------------------------------------------------------------------------------------------------------------------------------------------------------------------------------------------------------------------------------------------------------------------------------------------------------------------------------------------------------------------------------------------------------------------------------------------------------------------------------------------------------------------------------------------------------------------------------------------------------------------------------------------------------------------------------------------------------------------------------------------------------------------------------------------------------------------------------------------------------------------------------------------------------------------------------------------------------------------------------------------------------------------------------------------------------------------------------------------------------------------------------------------------------------------------------------------------------------------------------------------------------------------------------------------------------------------------------------------------------------------------------------------------------------------------------------------------------------------------------------------------------------------------------------------------------------------------------------------------------------------------------------------------------------------------------------------------------------------------------------------------------------------------------------------------------------------------------------------------------------------------------------------------------------------------------------------------------------------------------------------------------------------------------------------------------------------------------------------------------------------------------------------------------------------------------------------------------------------------------------------------------------------------------------------------------------------------------------------------------------------------------------------------------------------------------------------------------------------------------------------------------------------------------------------------------------------------------------------------------------------------------------------------------------------------------------------------------------------------------------------------------------------------------------------------------------------------------------------------------------------------------------------------------------------------------------------------------------------------------------------------------------------------------------------------------------------------------------------------------------------------------------------------------------------------------------------------------------------------------------------------------------------------------------------------------------------------------------------------------------------------------------------------------------------------------------------------------------------------------------------------------------------------------------------------------------------------------------------------------------------------------------------------------------------------------------------------------------------------------------------------------------------------------------------------------------------------------------------------------------------------------------------------------------------------------------------------------------------------------------------------------------------------------------------------------------------------------------------------------------------------------------------------------------------------------------------------------------------------------------------------------------------------------------------------------------------------------------------------------------------------------------------------------------------------------------------------------------------------------------------------------------------------------------------------------------------------------------------------------------------------------------------------------------------------------------------------------------------------------------------------------------------------------------------------------------------------------------------------------------------------------------------------------------------------------------------------------------------------------------------------------------------------------------------------------------------------------------------------------------------------------------------------------------------------------------------------------------------------------------------------------------------------------------------------------------------------------------------------------------------------------------------------------------------------------------------------------------------------------------------------------------------------------------------------------------------------------------------------------------------------------------------------------------------------------------------------------------------------------------------------------------------------------------------------------------------------------------------------------------------------------------------------------------------------------------------------------------------------------------------------------------------------------------------------------------------------------------------------------------------------------------------------------------------------------------------------------------------------------------------------------------------------------------------------------------------------------------------------------------------------------------------------------------------------------------------------------------------------------------------------------------------------------------------------------------------------------------------------------------------------------------------------------------------------------------------------------------------------------------------------------------------------------------------------------------------------------------------------------------------------------------------------------------------------------------------------------------------------------------------------------------------------------------------------------------------------------------------------------------------------------------------------------------------------------------------------------------------------------------------------------------------------------------------------------------------------------------------------------------------------------------------------------------------------------------------------------------------------------------------------------------------------------------------------------------------------------------------------------------------------------------------------------------------------------------------------------------------------------------------------------------------------------------------------------------------------------------------------------------------------------------------------------------------------------------------------------------------------------------------------------------------------------------------------------------------------------------------------------------------------------------------------------------------------------------------------------------------------------------------------------------------------------------------------------------------------------------------------------------------------------------------------------------------------------------------------------------------------------------------------------------------------------------------------------------------------------------------------------------------------------------------------------------------------------------------------------------------------------------------------------------------------------------------------------------------------------------------------------------------------------------------------------------------------------------------------------------------------------------------------------------------------------------------------------------------------------------------------------------------------------------------------------------------------------------------------------------------------------------------------------------------------------------------------------------------------------------------------------------------------------------------------------------------------------------------------------------------------------------------------------------------------------------------------------------------------------------------------------------------------------------------------------------------------------------------------------------------------------------------------------------------------------------------------------------------------------------------------------------------------------------------------------------------------------------------------------------------------------------------------------------------------------------------------------------------------------------------------------------------------------------------------------------------------------------------------------------------------------------------------------------------------------------------------------------------------------------------------------------------------------------------------------------------------------------------------------------------------------------------------------------------------------------------------------------------------------------------------------------------------------------------------------------------------------------------------------------------------------------------------------------------------------------------------------------------------------------------------------------------------------------------------------------------------------------------------------------------------------------------------------------------------------------------------------------------------------------------------------------------------------------------------------------------------------------------------------------------------------------------------------------------------------------------------------------------------------------------------------------------------------------------------------------------------------------------------------------------------------------------------------------------------------------------------------------------------------------------------------------------------------------------------------------------------------------------------------------------------------------------------------------------------------------------------------------------------------------------------------------------------------------------------------------------------------------------------------------------------------------------------------------------------------------------------------------------------------------------------------------------------------------------------------------------------------------------------------------------------------------------------------------------------------------------------------------------------------------------------------------------------------------------------------------------------------------------------------------------------------------------------------------------------------------------------------------------------------------------------------------------------------------------------------------------------------------------------------------------------------------------------------------------------------------------------------------------------------------------------------------------------------------------------------------------------------------------------------------------------------------------------------------------------------------------------------------------------------------------------------------------------------------------------------------------------------------------------------------------------------------------------------------------------------------------------------------------------------------------------------------------------------------------------------------------------------------------------------------------------------------------------------------------------------------------------------------------------------------------------------------------------------------------------------------------------------------------------------------------------------------------------------------------------------------------------------------------------------------------------------------------------------------------------------------------------------+\n",
       "|        names         |             email             |     phone_no     | years_of_experience |                                                                                                                         skills                                                                                                                         |          profile_name         |                                                                                                                                                                                                                                                                                             resume_summary                                                                                                                                                                                                                                                                                             |                                                                                                                                                                                                                                                                                                                                                                                                                                                                                                                                                                                                                                                                                                                                                                                                                                                                                                                                                                                                                                                                                                                                                                                                                                                                                                                                                                                                                                                                                                                                                                                                                                                                                                                                                                                                                                                                                                                                                                                                                                                                                                                                                                                                                                                                                                                                                                                                                                                                                                                                                                                                                                                                                                                                                                                                                                                                                                                                                                                                                                                                                                                                                                                                                                                                                                                                                                                                                                                                                                                                                                                                                                                                                                                                                                                                                                                                                                                                                                                                                                                                                                                                                                                                                                                                                                                                                                                                                                                                                                                                                                                                                                                                                                                                                                                                                                                                                                                                                                                                                                                                                                                                                                                                                                                                                                                                                                                                                                                                                                                                                                                                                                                                                                                                                                                                                                                                                                                                                                                                                                                                                                                                                                                                                                                                                                                                                                                                                                                                                                                                                                                                                                                                                                                                                                                                                                                                                                                                                                                                                                                                                                                                                                                                                                                                                                                                                                                                                                                                                                                                                                                                                                                                                                                                                                                                                                                                                                                                                                                                                                                                                                                                                                                                                                                                                                                                                                                                                                                                                                                                                                                                                                                                                                                                                                                                                                                                                                                                                                                                                                                             resume_embeddings                                                                                                                                                                                                                                                                                                                                                                                                                                                                                                                                                                                                                                                                                                                                                                                                                                                                                                                                                                                                                                                                                                                                                                                                                                                                                                                                                                                                                                                                                                                                                                                                                                                                                                                                                                                                                                                                                                                                                                                                                                                                                                                                                                                                                                                                                                                                                                                                                                                                                                                                                                                                                                                                                                                                                                                                                                                                                                                                                                                                                                                                                                                                                                                                                                                                                                                                                                                                                                                                                                                                                                                                                                                                                                                                                                                                                                                                                                                                                                                                                                                                                                                                                                                                                                                                                                                                                                                                                                                                                                                                                                                                                                                                                                                                                                                                                                                                                                                                                                                                                                                                                                                                                                                                                                                                                                                                                                                                                                                                                                                                                                                                                                                                                                                                                                                                                                                                                                                                                                                                                                                                                                                                                                                                                                                                                                                                                                                                                                                                                                                                                                                                                                                                                                                                                                                                                                                                                                                                                                                                                                                                                                                                                                                                                                                                                                                                                                                                                                                                                                                                                                                                                                                                                                                                                                                                                                                                                                                                                                                                                                                                                                                                                                                                                                                                                                                                                                                                                                                                                                                                                                                                                                                                                                                                                                                                                                                                                                                                                                                                                                                             |\n",
       "+----------------------+-------------------------------+------------------+---------------------+--------------------------------------------------------------------------------------------------------------------------------------------------------------------------------------------------------------------------------------------------------+-------------------------------+--------------------------------------------------------------------------------------------------------------------------------------------------------------------------------------------------------------------------------------------------------------------------------------------------------------------------------------------------------------------------------------------------------------------------------------------------------------------------------------------------------------------------------------------------------------------------------------------------------+-------------------------------------------------------------------------------------------------------------------------------------------------------------------------------------------------------------------------------------------------------------------------------------------------------------------------------------------------------------------------------------------------------------------------------------------------------------------------------------------------------------------------------------------------------------------------------------------------------------------------------------------------------------------------------------------------------------------------------------------------------------------------------------------------------------------------------------------------------------------------------------------------------------------------------------------------------------------------------------------------------------------------------------------------------------------------------------------------------------------------------------------------------------------------------------------------------------------------------------------------------------------------------------------------------------------------------------------------------------------------------------------------------------------------------------------------------------------------------------------------------------------------------------------------------------------------------------------------------------------------------------------------------------------------------------------------------------------------------------------------------------------------------------------------------------------------------------------------------------------------------------------------------------------------------------------------------------------------------------------------------------------------------------------------------------------------------------------------------------------------------------------------------------------------------------------------------------------------------------------------------------------------------------------------------------------------------------------------------------------------------------------------------------------------------------------------------------------------------------------------------------------------------------------------------------------------------------------------------------------------------------------------------------------------------------------------------------------------------------------------------------------------------------------------------------------------------------------------------------------------------------------------------------------------------------------------------------------------------------------------------------------------------------------------------------------------------------------------------------------------------------------------------------------------------------------------------------------------------------------------------------------------------------------------------------------------------------------------------------------------------------------------------------------------------------------------------------------------------------------------------------------------------------------------------------------------------------------------------------------------------------------------------------------------------------------------------------------------------------------------------------------------------------------------------------------------------------------------------------------------------------------------------------------------------------------------------------------------------------------------------------------------------------------------------------------------------------------------------------------------------------------------------------------------------------------------------------------------------------------------------------------------------------------------------------------------------------------------------------------------------------------------------------------------------------------------------------------------------------------------------------------------------------------------------------------------------------------------------------------------------------------------------------------------------------------------------------------------------------------------------------------------------------------------------------------------------------------------------------------------------------------------------------------------------------------------------------------------------------------------------------------------------------------------------------------------------------------------------------------------------------------------------------------------------------------------------------------------------------------------------------------------------------------------------------------------------------------------------------------------------------------------------------------------------------------------------------------------------------------------------------------------------------------------------------------------------------------------------------------------------------------------------------------------------------------------------------------------------------------------------------------------------------------------------------------------------------------------------------------------------------------------------------------------------------------------------------------------------------------------------------------------------------------------------------------------------------------------------------------------------------------------------------------------------------------------------------------------------------------------------------------------------------------------------------------------------------------------------------------------------------------------------------------------------------------------------------------------------------------------------------------------------------------------------------------------------------------------------------------------------------------------------------------------------------------------------------------------------------------------------------------------------------------------------------------------------------------------------------------------------------------------------------------------------------------------------------------------------------------------------------------------------------------------------------------------------------------------------------------------------------------------------------------------------------------------------------------------------------------------------------------------------------------------------------------------------------------------------------------------------------------------------------------------------------------------------------------------------------------------------------------------------------------------------------------------------------------------------------------------------------------------------------------------------------------------------------------------------------------------------------------------------------------------------------------------------------------------------------------------------------------------------------------------------------------------------------------------------------------------------------------------------------------------------------------------------------------------------------------------------------------------------------------------------------------------------------------------------------------------------------------------------------------------------------------------------------------------------------------------------------------------------------------------------------------------------------------------------------------------------------------------------------------------------------------------------------------------------------------------------------------------------------------------------------------------------------------------------------------------------------------------------------------------------------------------------------------------------------------------------------------------------------------------------------------------------------------------------------------------------------------------------------------------------------------------------------------------------------------------------------------------------------------------------------------------------------------------------------------------------------------------------------------------------------------------------------------------------------------------------------------------------------------------------------------------------------------------------------------------------------------------------------------------------------------------------------------------------------------------------------------------------------------------------------------------------------------------------------------------------------------------------------------------------------------------------------------------------------------------------------------------------------------------------------------------------------------------------------------------------------------------------------------------------------------------------------------------------------------------------------------------------------------------------------------------------------------------------------------------------------------------------------------------------------------------------------------------------------------------------------------------------------------------------------------------------------------------------------------------------------------------------------------------------------------------------------------------------------------------------------------------------------------------------------------------------------------------------------------------------------------------------------------------------------------------------------------------------------------------------------------------------------------------------------------------------------------------------------------------------------------------------------------------------------------------------------------------------------------------------------------------------------------------------------------------------------------------------------------------------------------------------------------------------------------------------------------------------------------------------------------------------------------------------------------------------------------------------------------------------------------------------------------------------------------------------------------------------------------------------------------------------------------------------------------------------------------------------------------------------------------------------------------------------------------------------------------------------------------------------------------------------------------------------------------------------------------------------------------------------------------------------------------------------------------------------------------------------------------------------------------------------------------------------------------------------------------------------------------------------------------------------------------------------------------------------------------------------------------------------------------------------------------------------------------------------------------------------------------------------------------------------------------------------------------------------------------------------------------------------------------------------------------------------------------------------------------------------------------------------------------------------------------------------------------------------------------------------------------------------------------------------------------------------------------------------------------------------------------------------------------------------------------------------------------------------------------------------------------------------------------------------------------------------------------------------------------------------------------------------------------------------------------------------------------------------------------------------------------------------------------------------------------------------------------------------------------------------------------------------------------------------------------------------------------------------------------------------------------------------------------------------------------------------------------------------------------------------------------------------------------------------------------------------------------------------------------------------------------------------------------------------------------------------------------------------------------------------------------------------------------------------------------------------------------------------------------------------------------------------------------------------------------------------------------------------------------------------------------------------------------------------------------------------------------------------------------------------------------------------------------------------------------------------------------------------------------------------------------------------------------------------------------------------------------------------------------------------------------------------------------------------------------------------------------------------------------------------------------------------------------------------------------------------------------------------------------------------------------------------------------------------------------------------------------------------------------------------------------------------------------------------------------------------------------------------------------------------------------------------------------------------------------------------------------------------------------------------------------------------------------------------------------------------------------------------------------------------------------------------------------------------------------------------------------------------------------------------------------------------------------------------------------------------------------------------------------------------------------------------------------------------------------------------------------------------------------------------------------------------------------------------------------------------------------------------------------------------------------------------------------------------------------------------------------------------------------------------------------------------------------------------------------------------------------------------------------------------------------------------------------------------------------------------------------------------------------------------------------------------------------------------------------------------------------------------------------------------------------------------------------------------------------------------------------------------------------------------------------------------------------------------------------------------------------------------------------------------------------------------------------------------------------------------------------------------------------------------------------------------------------------------------------------------------------------------------------------------------------------------------------------------------------------------------------------------------------------------------------------------------------------------------------------------------------------------------------------------------------------------------------------------------------------------------------------------------------------------------------------------------------------------------------------------------------------------------------------------------------------------------------------------------------------------------------------------------------------------------------------------------------------------------------------------------------------------------------------------------------------------------------------------------------------------------------------------------------------------------------------------------------------------------------------------------------------------------------------------------------------------------------------------------------------------------------------------------------------------------------------------------------------------------------------------------------------------------------------------------------------------------------+\n",
       "| Vishwajeet Dabholkar | vishwajeetdabholkar@gmail.com | +91 702 046 9342 |    Not available    | [Python, SQL, Scala, PySpark, SparkSQL, MemSQL, Pandas, boto3, ChatGPT, Azure data factory, Databricks REST APIs, AWS Glue, RDS, EMR, S3, EC2, API Gateway, KMS, Syniti DB replication, Bigquery, Azkaban, Jupyter notebook, Github, PyCharm, Postman] | Enterprise Solutions Engineer | Vishwajeet Dabholkar is an experienced Enterprise Solutions Engineer with expertise in data engineering, AWS cloud platform, and various technical skills such as Python, SQL, PySpark, and more. He has worked on projects involving data migration, data ingestion, data lake creation, and API integration. Vishwajeet has a strong track record of successfully implementing proof of concepts and showcasing his skills in data analytics and AI. He has experience working with companies like Singlestore, Fresh Gravity India Pvt.Ltd, Freelance, Lumiq.ai, and Tata Consultancy Services Ltd. | b'y\\x1e\\xa8;\\xdb\\x0f\\x8c\\xbc\\x95\\xed\\xe4;\\x0c\\x05\\x05\\xbca\\x99\\xc0\\xbc\\xdc\\x01\\xa8<\\x8c9\\'\\xbc\\xd9\\x9b\\x8a\\xbc8\\x90\\x95\\xbb&`\\xc0\\xbc&YN<\\xe1k\\x10\\xbb14\\x11<&K\\xea9\\x7f\\xdc\\xfe\\xbb\\xb5P6;\\xe0\\xe9\\xaa<\\xb5W\\xa8\\xbc\\xb8\\xa8\\xef:\\xf6\\xec,\\xbdv!\\xcf\\xbc\\xab\\x0c/\\xbc\\xdegE<\\x80s:;\\xab\\xfeJ\\xbc&YN\\xbcmm\\x91<\\xd6\\x89\\xdb\\xbb\\xbb\\xba\\x1e\\xbc\\xd7 \\x97;\\xda\\x8d\\xa6<\\x14>\\xcf\\xbc\\x98\\xff\\x13\\xbcs\\xc9\\x95\\xbc\\xe6E/\\xbcR{\\x1a\\xbc\\t\\x08,;L&\\x08\\xbc/\\xc0\\x8f<.7\\xb8\\xba\\xab\\x0c/=Vq\\x81\\xbb\\xbd. \\xbc\\x98\\xff\\x93\\xbc\\xeb\\x18\\\\\\xbc\\xe4\\xd8\\x1f=\\x9as\\x15\\xbd\\xab\\x05=\\xbd\\n\\x91\\x03:\\xc1\\x08\\xbf<\\xf8`\\xae<\\x87\\xbah<4\\xa1\\xa0\\xbc\\xd2\\xaf<<\\xe7)g;AD\\xd3;B\\xc68<\\xa69\\x82<\\xae\\t\\x88\\xbca\\x92\\xce\\xbc\\xac\\x8e\\x14\\xbcp\\xbe\\xd8;\\xff\\xa7\\xdc\\xba-S\\x00\\xbd|}\\xd3\\xbcL\\x18\\xa4\\xbcH7\\x93\\xbc\\xbb\\xa5H<\\xb5B\\xd2<+\\xd1\\x9a\\xba\\xb6;`=\\xa5\\xa2F<\\x86\\xdd\"\\xbc\\x83\\xd2\\xe5;&R\\xdc<2-\\x9f\\xbcJ\\xb2\\x06\\xbdv!O<\\xe3A\\xe4\\xbc\\t\\xfaG\\xba\\x97Z\\xf4\\xba\\xc6\\xf0\\xc1\\xbcK\\x96>\\xbc\\xd0&\\xe5;.)\\xd4<jT\\xf0<\\xfb\\xcd\\xbd\\xbc\\xdbcz<\\xc2\\x01\\xcd:[D\\xae\\xbbR\\xd6z\\xbc\\xa0\\xc8\\xa7;\\x83w\\x85;R\\x82\\x0c\\xbb&`\\xc0\\xbc\\xaa\\x13!<qG\\xb0:%u\\x96\\xbb\\x96}\\xae\\xbb#\\x01\\x15\\xbd\\x0b\\x83\\x9f\\xbc\\xe3\\xe6\\x83\\xbc\\x08j~\\xbc\\x08j\\xfe\\xbb\\xa9\\x8a\\xc9\\xbc\\x9c\\xe0\\xa4\\xbbu6\\xa5\\xbcVq\\x01<\\n\\x8a\\x91<\\xab\\x0c/<\\xc6\\xdb\\xeb;\\x99\\xd5\\xe7<\\xed~\\xf9\\xba\\xae\\t\\x08\\xbd \\xe8\\xf3\\xbc\\xdc\\xfa5\\xbc\\x88J\\xb2<\\x85\\xe4\\x14\\xbc\\x01*B\\xbc\\xab\\x05=\\xbc\\xa2J\\r=\\xa4\\xb7\\x9c<\\x10H\\xe8;\\x13a\\t\\xbdVc\\x1d=\\x81\\xf5\\x1f<\\xe1r\\x82\\xbc7\\xebu\\xbc\\x13Z\\x17=\\xee\\x15\\xb5\\xbc\\xc5\\xf73<\\xb9?+\\xba`\\t\\xf7\\xbb\\x96\\x92\\x84\\xbc\\x19\\xa8\\xb7\\xbc\\xa3 a\\xbc\\x80^\\xe4\\xbci\\x85\\x0e\\xbc\\xce\\xc79<3\\xa8\\x92\\xbc\\xcd\\xce+<[K\\xa0;}\\x14\\x8f\\xbb\\xa4\\xc5\\x80\\xbc\\xa2<\\xa9\\xbc/\\xc0\\x0f< \\x04\\xbc\\xb9\\x92\\x8e\\xb9<\\x87X\\x16<w\\xb8\\x8a<\\xe4\\xca\\xbb:mm\\x11\\xbcp\\xc5J\\xbc\\xbc\\x90r<o\\xe8\\x04;c\\x1b\\xa6\\xba\\n\\x8a\\x91<\\xba*\\xd5;\\x8bG\\x8b\\xbc\\xbb\\xb3,\\xbc)\\xb8y\\xbb[/\\xd8\\xbb\\x8d\\x0f{\\xbcd\\x9d\\x0b\\xbc\\xfdA?<|\\x8b\\xb7<\\x8f\\x98\\xd2;\\xce\\xc7\\xb9\\xbb\\x01*B\\xbc\\xe7)g;\\x9b^?;\\xba\\x15\\x7f<\\x85?\\xf5\\xbc<j4<:\\xef@<nQ\\xc9\\xb9\\\\!t<\\xa8\\xfa\\x7f<mt\\x03\\xbd\\x13Z\\x97\\xbc\\x9fF\\xc2<\\xdc\\xfa5<.0\\xc6;>\\xe5\\'<$\\xdeZ\\xbc\\x10O\\xda;,\\xae\\xe0\\xbb\\xe1\\xc6\\xf0\\xbb\\x0bn\\xc9\\xb9\\xd6\\x97\\xbf\\xbb\\x93r\\xf1;\\xc2\\xf3\\xe8<8\\x82\\xb1\\xbc\\x15\\xd5\\x8a\\xbcJ\\xa4\"\\xbf\\x0fk\"\\xbd\\x1f\\x19\\x92\\xbc\\xaf\\xed\\xbf\\xbc1;\\x03\\xbc\\xc7k\\xb5\\xbbi\\x85\\x0e<\\xaaus<\\x98\\x06\\x86<)V\\xa7<\\xcd\\xe3\\x019\\x83\\xd2\\xe5<\\x86\\xdd\\xa2\\xbcm_-\\xbc\\xe8\\xb2>\\xbc\\xb7\\xcb\\xa9:\\xda\\x864<<cB\\xbd\\xccET;d\\x9d\\x0b<\\x895\\\\;o\\xcc\\xbc<\\xf4\\x8d\\x81\\xbc%n\\xa4;{\\xa0\\x8d<}\\x14\\x0f\\xbc\"j\\xd9;\\xf7\\xd0\\xe4\\xbb:\\x04\\x17\\xb8l\\xddG<\\xc4`x\\xbc\\xbc<\\x04=\\xe8\\xb2\\xbe<R\\xd6z<Q\\xf94=\\x08\\x16\\x90<\\x8f\\x8an7\\xce\\xab\\xf1<\\x8c2\\xb5\\xbb~\\xff8==N\\xec\\xbc\\xc4uN\\xbb\\xc7\\x80\\x8b;)\\xb8\\xf9<\\x9bP[\\xbc\\xd4*\\xb0<SfD<>\\xe5\\xa79\\x1d\\x9e\\x1e\\xbcR{\\x9a\\xbc&YN\\xbc\\x0ey\\x86\\xbc\\x98\\xea=;\\xbb\\xb3\\xac\\xbc\\x15\\xb9\\xc2;`\\xb5\\x08\\xbc\\xcd0\\xfe;\\xd3\\x93\\xf4\\xbcX\\xde\\x10<:\\xfd$<b\\x84\\xea;9\\x0b\\x89;\\xa69\\x82\\xbb\\xfe\\xca\\x96\\xbc|v\\xe1\\xbb\\xfe\\xd1\\x08<qN\\xa2<\\\\\\xc6\\x93\\xbb\\x8c+\\xc3;\\xb0v\\x97\\xbc\\xb0}\\t\\xbc\\xe2V:\\xbbDV\\x82<Sm\\xb6\\xbcC\\xbf\\xc6<\\xea;\\x96<\\x0c\\x05\\x85<g\\x11\\x8d\\xbc\\xe0\\xf0\\x9c;\\xa5\\xa2\\xc6:\\x13a\\x89\\xbb\\xd1\\xcb\\x84\\xbc\\x95\\xfbH\\xbc\\x13S\\xa5\\xbc\\x81\\xfc\\x11;\\x18\\x18\\xee\\xbb\\xbf\\xa9\\x93\\xbc\\xbb\\xac\\xba\\xbc\\x98\\xf8\\xa1<\\xe67\\xcb\\xbb\\xa69\\x02=\\xa8\\x9f\\x9f<\\xac\\xf0f<\\x9bWM\\xbd\\xbd\\x19J<g\\n\\x1b=+\\xd8\\x8c\\xbb\\xf4\\x8d\\x01<\\r\\xe2J<Y\\xbbV\\xbc\\xcd0\\xfe\\xbc6\\x15\\xa2\\xbc@`\\x9b<ip\\xb8\\xbc)]\\x19=ip8<\\xa7\\x08\\xe4\\xbc\\xf7\\xe5:\\xbc2&-<\\xa9\\x98\\xad\\xbc\\'\\xe2%\\xbba\\xa7\\xa4\\xbcN\\xee\\xf7\\xbc\\xfc\\xb1u<\\x9d\\xc4\\\\\\xbb\\x85\\xeb\\x06\\xbd0\\xa4G<jTp\\xbcw\\x0cy\\xbb\\xe3HV\\xbc\\x87_\\x08<\\xb8M\\x0f;\\x82\\xd9\\xd7<\\x10\\xed\\x07\\xbc\\xccS\\xb8\\xbcs\\xbb1</\\xc0\\x0f\\xbc\\xf5\\\\\\xe39\\xd9\\x9b\\n\\xbcTQn<X\\xde\\x90<\\x05\\x12E;\\xe5Z\\x05;Vq\\x81\\xbc7\\xebu<\\xe0\\xf0\\x1c\\xbc\\x81Wr<\\x9eT&<\\x11\\xdf\\xa3\\xbc)\\xb8y\\xbc\\xd7{\\xf7\\xbb{\\xf4{:\\x93\\x80U<$\\xde\\xda\\xbc;\\xd3\\xf8\\xbcg\\x11\\x8d\\xbc\\x84TK\\xbdM\\n\\xc0<\\t\\x0f\\x1e\\xb9\\x02\\x15\\xec9:\\xfd$\\xbc\\xe8\\xb9\\xb0\\xbb-S\\x00\\xbcp\\xb7f=\\n\\xec\\xe3<m_-\\xbaqG\\xb0<\\x19\\xa8\\xb7\\xbc\\xa8\\x9f\\x9f\\xba\\xd7\\'\\t\\xbdB\\xcd*\\xbc\\xd5\\xac\\x15<\\\\\\xc6\\x93\\xbc\\xadk\\xda\\xba%u\\x96\\xbc:\\xf62\\xbc\\xc2\\x01\\xcd\\xba\\xc2\\xf3\\xe8\\xbb\\xcd\\xce+\\xbc@R\\xb7\\xbc:\\x04\\x97;\\x86\\xcf>\\xbc4\\xa1\\xa0<\\xf5j\\xc7<d\\xf1\\xf9\\xbcF\\xc3\\x91;\\xc7r\\'\\xba]\\xb1\\xbd\\xbbu=\\x17;\\x9b^\\xbf\\xbb\\xe8\\xb2\\xbe\\xbc<j\\xb4;\\xccET\\xbb\\x0bu\\xbb\\xbc\\xfb\\xd4\\xaf<}\\x1b\\x01=\\xa6+\\x9e\\xbc\\x9bB\\xf7;\\xab\\x05\\xbd;\\x0cgW\\xbbN\\x8c%\\xbc\\x12\\xb5\\xf7<d\\xff\\xdd;\\xa3\\'S<Vq\\x01\\xbc\\xc4n\\xdc<\\xd5\\xb3\\x07<\\x8d\\x0f{\\xbck\\xe4\\xb9\\xbb\\x8b\\xa2\\xeb;;\\x7f\\x8a;\\xb98\\xb9<\\xe7)g<DO\\x90<J\\xb2\\x86;\\xfb\\xcd\\xbd\\xbc\\xa9\\x91;\\xbc\\xa1\\xba\\xc3\\xbb/\"b<\\xc9\\xe6\\xa8<\\xa5\\x94b:\\xc0\\x8d\\xcb\\xbbX\\xde\\x10\\xbc\\x07\\x9b\\x1c<\\xe4\\xd1\\xad;\\x02\\xba\\x8b<[6J\\xbc&g\\xb2:\\x19\\xbd\\r\\xbci\\x85\\x0e<\\xe1\\xc6\\xf0;w\\xaa\\xa6\\xbc\\xdd\\xde\\xed<\\xcfW\\x83\\xbc.7\\xb8\\xbc{\\xa0\\x8d<mf\\x9f\\xbc\\xb91\\xc7<c\\r\\xc2<\\x13Z\\x97\\xbc[=\\xbc<\\xf5c\\xd5<)V\\'<\\xdfK};K\\x96\\xbe<\\x11\\xd1\\xbf:m_-;\\xden7\\xbd\\xb9F\\x1d=U\\xcca\\xbc#\\x08\\x87:5\\x1c\\x14=\\x08\\x16\\x10=\\x18\\x18n\\xbc\\x83\\xd2\\xe5;o\\xe8\\x04<\\x7f\\xdc~<\\xa0*z;\\xf2\\xfd7\\xbc\\x8a\\xb0O<\\xd0&e\\xbb\\xda\\x8d&\\xb9\\xe2d\\x1e<\\n\\xecc\\xba6\\x07><<q&\\xbcw\\xaa\\xa6\\xbc\\xa5\\x94b<\\xfc]\\x87<fz\\xd1:\\xac\\xf0f\\xbbip\\xb8<k\\xf9\\x8f;o\\xcc<<\\x8c$\\xd1<\\xc6\\xf0\\xc1;Q\\xebP\\xbc\\x9eb\\n<\\x93rq\\xbc\\xac\\x8e\\x14\\xbd\\x05\\x19\\xb7\\xbbZR\\x12\\xbd\\x8d\\x0f\\xfb;\\x1d\\xa5\\x90\\xbbY\\xbbV<C\\xb8T;\\x0e\\xcdt\\xbaii\\xc6<\\xa8\\xad\\x83<\\xf3\\xf6E<i~\\x9c;\\xde|\\x9b\\xbc\\xd9\\xf6j<\\xfc]\\x07=\\t\\x08\\xac;X9q:DH\\x9e\\xbc\\xdb\\x08\\x9a<\\xa7\\x16H;\\xa9\\x91\\xbb<N\\x9a\\x89:\\x06\\xa9\\x00=\\x9b^\\xbf;\\x85\\xe4\\x14<\\x16\\xb2P\\xba\\xd9\\x94\\x98<\\x01\\x1c^=s\\xbb1\\xbc\\x9eM\\xb4<\\xc3\\x98\\x88\\xbcX\\xe5\\x82;\\xa8\\xa6\\x11<\\xf1f|;\\xc3\\x8a$\\xbc\\xd6\\x90M=\\xf5q9\\xbc\\xb2Ey\\xbc\\xfa\\xe9\\x05\\xbc\\xaa\\x1a\\x13=2&\\xad\\xbc\\xec\\xaf\\x97\\xbc\\x11\\xd1?\\xbcj\\x00\\x02\\xbc@g\\r<\\xcbZ\\xaa\\xbc\\xd7 \\x97<[6J\\xbc\\x82\\xe7;<;\\x7f\\x8a<\\x15\\xc04\\xbc>\\xd7C<\\xb1o\\xa5\\xbc\\\\\\xc6\\x13;\\x9d\\xc4\\\\\\xbb\\xbd \\xbc=\\x1d\\xa5\\x109\\xf0\\x97\\x1a\\xbd\\x1d\\x9e\\x1e<\\xd9\\xf6j\\xbc\\xe0\\xdbF\\xbcR\\x82\\x0c\\xbd\\xa0*\\xfa\\xbcs\\xc9\\x95<\\xa2<)\\xbc\\xa3\\'S;\\xc9\\xdf6\\xbc#\\x01\\x95;\\xd4#\\xbe\\xbc\\xdaq\\xde:\\xccET<v\\x1a];w\\xb1\\x98\\xbc\\xca\\xd1R\\xbcX\\xe5\\x82\\xbc\\x1a\\x85\\xfd\\xbcy,\\x8c;=U\\xde<o\\xd3.<\\x1e{\\xe4<\\x8f6\\x00=1\\x88\\x7f<\\x17B\\x9a<-L\\x8e\\xbc1;\\x83\\xbcmf\\x9f\\xbcVq\\x01=qU\\x94<DV\\x82<\\xdb\\x0f\\x8c\\xbb\\xc1\\x08?=qU\\x94\\xbc\\x1f\\x0b.<\\x8d\\xbb\\x8c<mX\\xbb<<x\\x98\\xbb\\xdc\\x01\\xa8<\\x00F\\n\\xbb`\\x17\\xdb\\xbb\\xca\\xd1\\xd2<\\xb5P6\\xbc\\xd8\\x0bA;\\xac\\x8e\\x14=6\\x07>\\xbd\\xf7\\xd0\\xe4\\xbb3\\xaf\\x84<\\xa6\\x8dp<\\x0c\\x05\\x05\\xbd\\xf3\\xe1\\xef\\xbc2&\\xad\\xbb\\'\\xf0\\x89<\\xb3\\xceP<w\\x0cy\\xbc\\xfc]\\x07\\xbc\\xa7\\x16\\xc8\\xbc\\xfb\\xd4/\\xbb\\x16\\x9d\\xfa\\xbb\\xaf\\xfb#\\xbd\\xec\\xa1\\xb3:\\xb3\\xd5B\\xbbqN\\xa2\\xbcE,\\xd6\\xbbmm\\x11\\xbcv\\x1a\\xdd\\xbck\\xf2\\x1d\\xbbb\\x84j\\xbcfz\\xd1\\xbc\\xc9\\xf4\\x0c\\xbd<j\\xb4\\xbb\\xbd. =e\\x96\\x99:\\x81\\x03\\x04=~\\xeab\\xbb\\xab\\xfeJ\\xbc\\x01#P\\xbc\\xb5W\\xa8\\xbcK\\x81\\xe8\\xba\\xbb\\xb3\\xac\\xbb\\xf8u\\x84\\xbc\\xe1k\\x10\\xbd\\x13L3\\xbcM\\x03\\xce\\xbc\\x1d\\xac\\x02<?\\xbb{\\xbc\\x15\\xb9B<5~f\\xb8mt\\x03\\xbc\\xc4`x<=\\\\P<\\xa7\\x0fV;e\\x96\\x99<ip8=\\xa1\\xac_;\\xf0\\x90\\xa8;\\xf9RJ\\xbc\\xa6\\x8d\\xf0:\\xdc\\xecQ\\xbd\\x1b1\\x8f\\xbb\\xca\\xd8D\\xbc\\x7f\\x8f\\x82<\\n\\xecc<\\xac\\xf0f<s\\xd0\\x07<o\\xd3.<0\\xab9\\xbc\\x81\\xf5\\x9f;s\\xc2\\xa3\\xbc\\x90\\x13\\xc6<\\x80eV;\\xb4\\xc0\\xec;\\xf3\\xf6E<\\x87\\xbah\\xbb\\xe0\\xe2\\xb8<\\x9az\\x07<}\\r\\x1d=x\\x87l<\\xc6\\xdb\\xeb\\xbc\\xfd3\\xdb<\\x15\\xd5\\x8a<\\xb1h\\xb3\\xbc9\\x0b\\x89<\\x16\\x9d\\xfa<h\\xe7\\xe0\\xbb5#\\x06\\xbc\\xe8\\xb90<\\xa8\\xad\\x03=\\xbb\\xc1\\x10<\\x0f]\\xbe\\xbbe\\x96\\x19\\xbd\\xc2\\x01M\\xbc@`\\x9b\\xbby\\x1e\\xa8;\\xa0*\\xfa;\\xa7$\\xac\\xbc<q&\\xbc\\xfe\\xca\\x96\\xbc\\xbe\\x12X\\xbc)]\\x99<\\x8c$Q\\xbch\\xeeR\\xbb|}\\xd3\\xbcc\"\\x18\\xbcy,\\x0c\\xbb\\xae]v\\xbc\\xb3\\xe3\\xa6<\\xaa\\x13!\\xbc\\x00\\x9a\\xf8\\xbb4\\x8cJ<K\\x88Z\\xbc\\x05 \\xa9\\xbc\\x9eb\\n\\xbd\\xcd\\xdc\\x0f<\\x1c\\x15\\xc7;I\"==9f\\xe9;H)\\xaf<\\xa1\\xa5m\\xbc\\xbd\\'.=\\xf8`.\\xbc\\xeb\\x11\\xea\\xbb\\x85\\xeb\\x86\\xbc\\x95\\xf4\\xd6\\xba\\x99\\xd5g:+\\xd1\\x9a\\xbc\\xbe\\x0bf;14\\x91<\\xd4\\x1cL\\xbc\\x80s:<!\\x86\\xa1<w\\x0cy<\\xa0*z<Vq\\x81\\xbcw\\xaa\\xa6\\xbc1\\x96\\xe3\\xbc\\x13L3\\xbc\\xec\\xb6\\t\\xbd5~\\xe6<\\x7f\\x81\\x9e;K\\x96\\xbe;y%\\x1a\\xbc&R\\xdc<\\xfe\\xc3$=\\x97Z\\xf4<\\x12\\xc3\\xdb;\\x140k<\\xc3\\x8a\\xa4<\\xba\\xc8\\x02\\xbc9m[<\\x0fk\\xa2\\xbb\\xd4\\x1c\\xcc;\\xd3\\x93t\\xbc\\xd7{w\\xbct\\xad\\xcd\\xbcQ\\xe4^\\xbbI\\x14Y<\\xden7<\\x0fr\\x94<\\xdb\\x08\\x1a9\\x86\\xc1\\xda9\\xd4#>\\xbd\\xc1\\x0f1=/\\xb9\\x1d:\\xb7\\xc4\\xb7\\xbc*AQ<\\x87\\xbah\\xbd\\xa7\\x08\\xe4\\xbb4\\x9a\\xae\\xbc\\xbf\\x94\\xbd\\xbc\\xc5\\xfe\\xa5\\xbct\\xad\\xcd;\\x13EA\\xbcE,\\xd6;\\x80s\\xba<\\x18\\x18n\\xbc\\x19\\xbd\\r\\xbc\\x90\\x1a8<t\\xadM\\xbc\\xdegE=\\x05\\x12\\xc5;\\xe7)\\xe7<\\xfe\\xca\\x16=9\\x0b\\t:[=\\xbc\\xbbI\\x14Y<+\\xd8\\x0c;\\x96\\x8b\\x92\\xbc\\xa9\\x98-\\xbb\\xa2J\\r=%n$\\xbc\\xdfY\\xe1\\xbc\\xba*U\\xbbk\\xf2\\x9d\\xbc\\xf6N\\x7f\\xbc8\\x82\\xb1\\xbc\\xc1\\x0f1</\"\\xe2\\xbc \\xe8s\\xbcH0!\\xbc\\xbc\\x90\\xf2;\\x0e\\xcd\\xf4\\xbc\\xcbZ*=\\xc8V_\\xbc#\\x08\\x87<`\\tw\\xbc\\xe5\\xae\\xf3\\xbcDO\\x10<\\xc9\\xdf\\xb6\\xbb\\xa8\\x9f\\x9f;%u\\x16<\\xcd\\xe3\\x01<H)/<\\r\\xf0\\xae\\xbb\\xce\\xb2c\\xbc\\x0b|\\xad\\xbc\\x88Q\\xa4<>\\xec\\x99\\xba\\x9c\\xe7\\x96\\xbb\\x15\\xd5\\n\\xbd\\xd31\\xa2<\\x895\\xdc;\\x08x\\xe2<G\\xa7I\\xbc\\x00\\x9ax<\\xc7y\\x19<\\xb0\\xd8\\xe9<\\xb8M\\x8f\\xba.0\\xc69\\xa4\\xb0*<\\xd0-\\xd7;(\\xcdO<\"qK\\xbc\\\\\\xcd\\x85\\xbc\\xcd\\xce\\xab\\xbc\\x1d\\x9e\\x9e<\\x96\\x92\\x04<\\x06\\xfdn<\\xbf\\x94=\\xbcF\\xae;:\\xac\\x95\\x86\\xbc\\x92\\xa3\\x8f\\xbb\\xbd \\xbc\\xbc4\\xa1\\xa0<h\\x8c\\x00<\\xd5\\xac\\x15<\\x06\\xfd\\xee\\xbc\\x89\\xd3\\x89\\xbc\\xfb\\xbfY\\xba,\\xca\\xa8\\xbc\\xf0\\x896\\xb9\\xe1\\xcdb;DV\\x82<\\xe70Y\\xbc\\xd9\\x9b\\n<\\x15\\xb9B\\xbc\\xea4$\\xbc\\x81W\\xf2;o\\xe1\\x12<\\x140\\xeb\\xbc\\xdb\\x0f\\x0c\\xbc\\xf1\\x82D\\xbc\\xe3Ad\\xb8\\x08\\x16\\x90<g\\xfc6;h\\xd9\\xfc\\xbc\\xac\\xf0f\\xbbU\\xe8\\xa9<iiF\\xbb\\xbd. \\xbc}\\x1b\\x81\\xbb\\x80z,<\\xaf\\xed?\\xba\\xff\\xbc\\xb2<\\x07\\x86\\xc6;\\xcd\\xce+\\xbcL\\x1f\\x16<\\xa8\\xfa\\x7f\\xbc\\x05 )\\xbc\\x0b|-;H)\\xaf\\xbc \\xfd\\xc9;0\\xab\\xb9;\\x94\\x02\\xbb\\xbb\\xf9Y\\xbc;\\x8d\\x1d\\xdf\\xbc\\xce\\xb2\\xe3\\xbc)V\\'\\xbc\\xfdA\\xbf;\\xc8]\\xd1\\xbc\\xf2\\x12\\x0e<4\\x85\\xd8:\\xf2\\x04\\xaa\\xbc\\x90(\\x9c\\xbcA=a<\\xd5\\xb3\\x07\\xbc>\\xe5\\'\\xbc\\xb5B\\xd2<\\xbe\\xb0\\x85<\\xc4u\\xce<\\x8c9\\'\\xbc\\xb8T\\x01\\xbc\\xf8g \\xbax\\x87\\xec\\xbc\\xbd\\'.\\xbcU\\xdaE\\xbd\\x08j~<=\\\\\\xd0\\xbc\\xbc\\x9eV<\\xcba\\x9c<\\xb8M\\x8f\\xbc\\xd9\\xf6\\xea;\\n\\x8a\\x91\\xbcE\\x1e\\xf2\\xbc\\x15\\xce\\x18\\xbc\\xdd\\xe5\\xdf;E3H<\\xf2\\x19\\x80<\\xa4\\xb0*;\\xae\\t\\x88<w\\xaa\\xa6\\xbbDA\\xac;\\xa2C\\x1b=\\xe7\\xce\\x86\\xbb+\\xd8\\x0c<\\xe2V:\\xba\\x8b\\xa9\\xdd\\xbc\\xc0x\\xf5;\\xca\\xd1R\\xbc\\x89\\'\\xf8\\xbc\\xc2\\xf3h;\\xfd:\\xcd<\\x8c9\\xa7<\\xa69\\x82<\\x9c\\xd92\\xbc6\\x07>\\xbb\\xfa\\xe2\\x93\\xbcE\\x1e\\xf2\\xba\\xf5q9;\\xbf\\xa9\\x93;ZR\\x92<9\\x0b\\t;\\xbd\\x19\\xca\\xbc\\xc2\\xf3h\\xbc2\\x18\\xc9;P\\x07\\x99\\xbc/\\xc0\\x8f\\xbc\\xf6\\xec\\xac\\xbcB\\xdb\\x8e<\\x04.\\x8d\\xbc\\xfc\\xb1u<\\x02\\xba\\x0b\\xbd\\x02\\x15l\\xbc\\xe5Z\\x05<\\x1f\\x19\\x92\\xbc\\xd8\\x12\\xb3<\\xac\\x87\"\\xbb\\xc3\\x832<x\\x9c\\xc2<\\xbd \\xbc;\\xec\\xa8%<\\xf7\\xdeH\\xbc\\x895\\\\<\\x10\\xed\\x07\\xbc\\xcbo\\x80:\\x88J2;\\x83\\xd2\\xe5\\xbc\\xd5\\xa5#<\\xb8\\xa8o9\\x80s\\xba\\xb8\\x9bW\\xcd\\xbb\\xb0}\\t\\xba\\x8a\\xb0O\\xbd\\x83p\\x13\\xbbk\\xf9\\x8f\\xbc\\x1b*\\x9d;(\\xc6\\xdd\\xbbnQ\\xc9<\\xe5\\xae\\xf3\\xba\\xdd\\x83\\x8d<\\xed\\x8c\\xdd<\\xa7\\x0f\\xd6\\xbb\\xba\\x15\\x7f\\xbc\\x9b^\\xbf<\\xa6\\x8dp\\xbck\\xe4\\xb9\\xbcs\\xc9\\x95<[D.\\xbb\\x19\\xa87\\xbc\\x0b\\x83\\x1f<z\\x10D<\\x93y\\xe3:\\x8b\\xa9]\\xbaM\\n@>\\x13a\\t<\\xf3\\xe1\\xef;$\\xe5\\xcc:\\x99\\xd5\\xe7<\\x8bG\\x0b\\xbb\\xbb\\xc1\\x10=mt\\x03\\xbb\\xdeu\\xa9<\\xd1\\xbd\\xa0<\\x8e\\xa6\\xb6<\\xe8\\xb90\\xbcU\\xd3S\\xbb\\xa0*z\\xbb\\x1a\\x9aS<\\xbc\\x9eV\\xbb\\x8a\\xb7A\\xbd\\x147]\\xbc\\x1c\\x07c\\xbc\\'\\xf0\\x89\\xbc\\xc9\\xdf69\\xed\\x8c\\xdd\\xbc\\xcd\\xd5\\x9d<\\x19\\xaf\\xa9\\xbc\\xb8M\\x0f<(\\xcdO\\xbc\\xa69\\x02=\\xe1\\xc6\\xf0\\xb9\\x19\\xb6\\x9b<k\\xe4\\xb9<\\xf1{\\xd2\\xba\\x81W\\xf2;\\x8a\\xb0O\\xbcnJ\\xd7\\xbc\\xf8u\\x04<P\\x00\\'\\xbc\\xed\\x93O<\\xef\\xf9\\xec\\xbc\\x13S\\xa5<\\x1c\\x00q;\\x8d\\xbb\\x8c:\\x81Wr\\xbc\\x87_\\x88\\xbb\\xb5ID\\xbcWU\\xb9\\xbb^:\\x95<\\xc2\\x01\\xcd;D:\\xba<\\x90!\\xaa<\\xbe\\xb0\\x05=)V\\xa7\\xbc\\xe1r\\x02\\xbc\\xfd:M<\\xcbZ*<0\\xb2+<B\\xcd\\xaa\\xba\\x8a\\xbe\\xb3<g\\x11\\r<\\x7f\\x88\\x10;C\\xa3~\\xbc\\x19\\xaf\\xa9\\xbc\\x06\\xa9\\x80<\\xe7\\xce\\x86\\xbb\\xf8u\\x84\\xbb\\x06\\xa2\\x8e\\xbc\\x11\\xd1?\\xbc\\xe6S\\x13\\xbcb\\x8b\\xdc\\xbb\\xd2\\xaf<\\xbb\\x8e\\xa6\\xb6\\xbb\\xcd\\xdc\\x8f<)d\\x8b\\xbc~\\xff\\xb8\\xbb\\x0bn\\xc9:\\xba#\\xe3\\xbc)d\\x0b\\xbd\\xeb\\x18\\\\\\xba\\xa4\\x12\\xfd\\xbc\\x83p\\x13;\\xea&\\xc0<\\x89\\'x<\\xab\\x05\\xbd\\xbb\\x19\\xbd\\x8d\\xba>\\xe5\\xa7\\xbc\\xc2\\xf3h\\xbc\\xb8\\xa8o\\xbcF\\xc3\\x11=2-\\x9f\\xbc\\x1e\\x82\\xd6\\xbc\\x18\\x18\\xee\\xbb\\xfb\\xd4/\\xbc\\xb8\\xa8o\\xbc\\\\\\xcd\\x85\\xbcH0\\xa1\\xbc\\x9e[\\x98:\\xe0\\xd4T<\\x1a\\x9aS<\\xdc\\xf3C<\\xc1\\x08?\\xbc\\xc1\\x1d\\x95\\xbc\\x1f \\x84\\xbc\\xf6\\xfa\\x10=I\\x14Y<\\xaf\\xdf\\xdb:\\x17B\\x9a\\xbc\\xa0\\xcf\\x99<\\xa9\\x98-<\\x9d\\xbdj<\\xeb\\x11\\xea:\\x8a\\xbe\\xb3;I\"=\\xbc\\xbc<\\x84\\xbc\\x1e{\\xe4;\\xc1\\x0f1\\xbc\\x8d\\x1d_<\\xe8\\xc0\\xa2<[6J\\xbbd\\xf1\\xf9\\xbc\\x96\\x92\\x84<N\\xeew\\xbc\\xe0\\xe2\\xb8</\\xc7\\x01\\xbda\\x99\\xc0<\\xa8\\xad\\x83;\\xf4\\x7f\\x1d\\xb9\\xa4\\x12\\xfd;\\x1c\\x15\\xc7\\xbc\\xa1\\xa5\\xed;\\x85\\xeb\\x06\\xbd\\x85?\\xf5\\xbc\\x86\\xc8\\xcc<\\xd5\\xa5#\\xbc*:\\xdf\\xbbD::\\xbcz\\x176\\xbc+3\\xed;\\xf3\\xe1o\\xbb\\x1f\\x19\\x92\\xbb\\xf4\\x8d\\x01\\xbc\\xb1aA;\\xd3?\\x86<k\\xf2\\x1d\\xbc\\xcfW\\x03<\\x00\\x9a\\xf8<\\x00\\x9ax\\xbcv\\x1a]\\xbbVj\\x0f=5#\\x86\\xba\\xc6\\xe9\\xcf\\xbb\\x08\\x16\\x90\\xbc\\x85\\xeb\\x06\\xbc)d\\x8b;2\\x1f\\xbb\\xbbC\\xa3\\xfe\\xbbqG\\xb0<<cB\\xbc;\\xd3\\xf8\\xbc\\x92\\x87\\xc7\\xbc\\xdb\\x0f\\x0c\\xbc\\xae]\\xf6:K\\x81h\\xbd\\x92\\x95+<\\x87\\xba\\xe8<\\x9d\\xd2\\xc0\\xba\\xea&\\xc0\\xbam_-\\xbb\\x88J2\\xbe\\xdd\\xe5\\xdf<\\x90(\\x1c<\\xbf\\xa2!\\xbda\\x92\\xce<V\\xbe}<\\xa7\\x0f\\xd6<\\xc6\\xf0A\\xbc\\x96\\x8b\\x12\\xbc\\x90(\\x9c<4\\xa1\\xa0\\xbb!\\x7f/<\\xc4n\\\\\\xbcw\\xaa\\xa6\\xbbm_\\xad\\xbcmf\\x1f\\xbc,\\xc36<\\xa4\\x12\\xfd:\\x19\\xb6\\x1b=\\x1d\\x97\\xac<Q\\xe4\\xde<N\\xee\\xf7;`\\t\\xf7;\\x0b\\x83\\x1f\\xbc\\x9c\\xe7\\x96<\\x140k\\xbc\\xcd\\xd5\\x9d\\xbc\\xf8n\\x92<&`\\xc0<R{\\x9a:\\xa2<\\xa9:\\xcc>b\\xbc\\xb9F\\x9d<3\\xa8\\x12\\xba\\x16\\xb2P:\\xady>;\\xae\\t\\x88\\xbbK\\x8fL\\xbcy,\\x8c;3\\x03s;\\x9d\\xd2@=\\x0bu\\xbb<\\xeb\\x18\\xdc<\\xd2\\xb6\\xae;9m[<l\\xdd\\xc7<!\\x94\\x85<\\xf1{R\\xbb\\xec\\xb6\\t<14\\x11<mX;=\\xc5\\x0c\\n\\xbd\\xae\\x02\\x16<>\\xec\\x19\\xbb\\xcfP\\x11;\\x12\\xca\\xcd:\\xf9Y<=\\x04.\\r;\\x12\\xb5\\xf7;^:\\x95\\xbc>\\xf3\\x8b<\\xe0\\xe28\\xbc\\xb7\\xc47\\xbb\\xa2<\\xa9\\xbc\\xb98\\xb9\\xbc\\xef\\xf9\\xec\\xbb1\\x96c\\xbc\\xa2J\\r<\\x1d\\x97\\xac\\xbc\\x9c\\xee\\x88;_3\\xa38L\\x18\\xa4<H0\\xa1\\xbc,\\xae`</\\xc7\\x01\\xbc\\xeb\\x1f\\xce\\xbb\\x1f\\x19\\x12\\xbd\\xbb\\xc1\\x10=-S\\x80<\\x96}.\\xbc\\xcd\\xdc\\x8f\\xbca\\x92N<\\x90!\\xaa\\xbc?\\xd0Q<\\x15\\xc0\\xb4\\xbc0\\x9dU;r9\\xcc8F\\xbc\\x1f\\xbb\\xe6S\\x13\\xbc\\xcbh\\x8e;\\xea4\\xa4<\\n\\xe5\\xf1\\xbc\\xee#\\x19\\xbc\\x03\\xa5\\xb5\\xbc/\\x1bp;\\x8d\\xbb\\x8c;{\\xa0\\r\\xbb\\x9as\\x15=\\xdbc\\xfa<$\\xf30;qG0<\\xb6\\xd9\\x8d\\xbbh\\xd9\\xfc\\xbcI\\x06u<>\\xec\\x19\\xbcu/\\xb3;\\xd2\\xa1X;\\x9d\\xbdj<\\xfcO#=\\xd5\\xb3\\x87;\\xae\\x02\\x96\\xbc\\t\\x0f\\x9e<a\\x99\\xc0<\\r\\xe2\\xca:g\\xf5\\xc4<\\x06\\xa2\\x0e=\\x91\\x05b\\xbb\\x0ey\\x86\\xba\\x9fFB<\\x86\\xc8\\xcc\\xbb\\xden7=\\x16\\x9d\\xfa\\xbb>\\xde5\\xbc\\x04.\\r\\xbc\\x97hX:\\x88J\\xb2;x\\x9c\\xc2\\xbd\\xcd\\xe3\\x01\\xbdH>\\x05=\\x08\\x1d\\x02\\xbc\\xaf\\xed\\xbf\\xbb\\xf6\\xf3\\x9e<\\x86\\xd6\\xb0\\xbb\\x93r\\xf1<\\xda\\x8d&\\xbd|v\\xe1;\\xbc\\x90\\xf2\\xbb&g\\xb2\\xbc*O5\\xbb\\xcbh\\x8e<^A\\x87\\xba]\\xb1\\xbd\\xbb\\xb5^\\x9a\\xbc\\xc7k\\xb5<\\x9eb\\x8a\\xbc\\xa4\\xbe\\x8e<\\x13a\\x89\\xbc\\xab\\x0c/<\\xdd\\x83\\x8d<\\xeb\\x11j\\xbb\\x05\\x197\\xbb!\\x8d\\x13:\\xd0;\\xbb\\xbcG\\xa0W<\\xdc\\x01(<\\xaf\\xfb#\\xbc\\xb1o\\xa5\\xbcDO\\x90\\xbb\\xb0\\xd8i<\\x84TK\\xbc\\x04\\x82\\xfb\\xbb(\\xdb\\xb3\\xbbh\\x8c\\x00\\xbd\\xd4\\x0e\\xe8\\xbc\\xd1\\xbd =\\xd31\\xa2\\xbc\\xa0\\xc8\\'\\xbb\\x8d\\x0f{\\xbc\\r\\xe2\\xca;\\xd6\\x89\\xdb\\xbc\\x99\\xe3\\xcb\\xbc\\xa4\\xb0\\xaa;\\x19\\xa8\\xb7;\\xcd\\xd5\\x9d<\\xfd3[<\\xa1\\xc15\\xbc\\x89\\'\\xf8\\xbc\\xa7\\x1d\\xba<b\\x84\\xea\\xbc8tM\\xbc\\xadk\\xda<-L\\x8e<#\\x01\\x95\\xba\\x85\\xe4\\x94</\\xb9\\x9d:T\\xef\\x1b\\xbc\\xf3\\xf6\\xc5\\xbb\\xd38\\x14\\xbb\\xea&\\xc0\\xbc\\xc2\\xf3\\xe8<\\xba*U;\\x9as\\x95<\\xee\\x15\\xb5\\xbb@g\\r\\xbdO~\\xc1\\xbb\\xf6N\\xff\\xbc\\x9eb\\x8a\\xbb\\xd3\\x93t;w\\xaa\\xa6\\xbcQ\\xf2B<\\xfb\\xbfY\\xbc\\xd4#><\\x1c\\x00\\xf1;\\xc0\\x8dK\\xbbN\\x93\\x97:\\xd6\\x9e\\xb1<\\xb4e\\x0c;;\\x7f\\x8a\\xbc\\xa0\\xc8\\'\\xbb\\xa0\\xd6\\x8b\\xbc\\x05\\x12\\xc5<?\\xbb\\xfb<\\xd7 \\x97\\xbc\\x10OZ\\xbcV\\xbe\\xfd<\\xac\\x87\"\\xbd\\x86\\xc1\\xda;8\\x89\\xa3\\xbb\\n\\x8a\\x91<\\x06\\xa9\\x80\\xbcD::<.>\\xaa<&`\\xc0\\xbb\\xff\\xaeN\\xbc\\xbe\\x0b\\xe6\\xbb?\\xbb\\xfb<\\x1b1\\x8f\\xbc\\xf1f|\\xba\\xdeu\\xa9\\xbd\\x8d\\xbb\\x8c;\\x1c\\x15\\xc7\\xbc>\\xec\\x19\\xbb\\xda\\x8d\\xa6;^\\x9c\\xe7\\xbbz\\t\\xd2<\\xc9\\xf4\\x0c\\xbc\\r\\xf7\\xa0\\xbb\\xbb\\xa5H\\xbb\\xb8M\\x8f\\xbci~\\x9c;\\xfcV\\x95\\xbc$\\xe5L\\xbc\\t\\x01\\xba\\xbc\\x91\\xf7}\\xbb\\xe0\\xe28=\\xdd\\xe5\\xdf;\\xf6\\xf3\\x9e;\\x85?\\xf58%|\\x88:\\xb8M\\x8f\\xbc\\xdbc\\xfa<R\\xd6z\\xba\\x8f\\x91\\xe0\\xbc\\xcd\\xdc\\x0f;-\\xa0|\\xbc\\x93\\x1e\\x83\\xba.78;g\\x03\\xa9\\xbc\\xba\\x15\\xff\\xbb\\x8f6\\x00\\xbc\\xc3\\x91\\x96:@K\\xc5<\\xe0\\xe289\\x81\\xf5\\x1f\\xbc\\xf3\\xefS<\\x96\\x92\\x84;_%?<!\\x8d\\x13=\\xae\\x02\\x96\\xbcl\\xc1\\x7f\\xbc\\x11\\xe6\\x15=\\xc6\\xdb\\xeb\\xbcv(A\\xbb>\\xde\\xb5\\xbb\\xff\\xae\\xce;`\\t\\xf7\\xbb\\xd4\\x0e\\xe8<\\xdaq^\\xbb\\x08\\x1d\\x82\\xb9\\x9eM4<\\x00\\x9a\\xf8\\xbb\\x97Z\\xf4\\xba\\xd5\\xac\\x95\\xbap\\xb7f\\xbc\\x13L3<\\xdd\\xdem<\\xda\\x8d&\\xbb?\\xbb{\\xbc\\xbb\\xc1\\x10=p\\xc5\\xca\\xbc\\xee*\\x0b\\xbbL\\x1126\\x18-D:\\r\\xf0\\xae\\xbc\\x03\\x9e\\xc3\\xba\\xd7\\'\\x89;\\xc1$\\x07\\xbc\\x12\\xb5\\xf7\\xbc?\\xd0\\xd1;g\\x11\\x8d\\xbc\\x10\\xed\\x87<Q\\xe4^<\\xd2\\xaf<<\\x1d\\xac\\x82\\xbc\\xc1$\\x87<\\x94\\x10\\x1f<\\x13a\\x89\\xbc\\x1e\\x82\\xd6<\\x8b\\xa9\\xdd\\xbb/\"\\xe2\\xbb\\xb8\\xafa\\xbc\\xee*\\x0b=N\\x9a\\t=\\xa1\\xac_;^:\\x95\\xbc\\xa9\\x91\\xbb\\xb9\\xa7$\\xac<\\xa7\\x0fV<\\n\\xe5q\\xbc\\xe2OH\\xbcp\\xb7\\xe6\\xbc\\xf3\\xe1o\\xbcC\\xa3\\xfe:\\xe6L\\xa1\\xbc\\'\\xf0\\x89\\xba)d\\x8b\\xbb{\\x99\\x1b=\\xca\\xc3\\xee<\\xa1\\xa5m<\\x1a\\x85\\xfd;>\\xf3\\x0b\\xbc\\x13S\\xa5\\xbc\\x96\\x84\\xa0\\xbc$\\xdeZ\\xbbz\\tR\\xba\\xb7\\xd2\\x9b\\xbaVq\\x81\\xbc\\xa2J\\x8d<\\x82\\xe7;=\\xe4\\xd8\\x1f<\\x87_\\x88\\xbb\\x8a\\xcc\\x97\\xbb\\xf4\\x7f\\x1d\\xbce\\x81\\xc3\\xbb\\x8f\\x8a\\xee\\xbbE3H\\xbc\\xc2\\xf3\\xe8\\xbc\\xcba\\x1c=e\\x81C\\xbc\\x9bP\\xdb<\\xf1t`<_,\\xb1\\xbc,\\xbcD=\\x06\\xfd\\xee;\\x80l\\xc8\\xbb\\x9b^?;\\xbf\\xa2\\xa1:\\'\\xf0\\x89\\xbc\\xca\\xc3n<\\xcd0~\\xbc\\xa1\\xc1\\xb5\\xbb\\x9c\\xe7\\x96:\\xbd5\\x12\\xbc\\x0b\\x83\\x1f\\xbce\\x81C\\xbc\\xab\\x05=<p\\xb7f\\xbc\\x88C\\xc0=\\x05 )<\\x8a\\xc5\\xa5\\xbcJ\\xab\\x94<K\\x8fL\\xbc\\n\\xe5q;OwO<\\xbf\\x94\\xbd<|\\x8b7;mf\\x1f\\xbd\\xfc]\\x07=\\t\\x0f\\x1e\\xbc\\x84b\\xaf\\xbc2\\x18I\\xbc\\x15\\xce\\x18<\\x1e\\x90\\xba:B\\xc68\\xbc\\xc1\\x1d\\x15=\\xef\\x07\\xd1\\xbb\\xd7{w<-\\xa0|<\\xf3\\xe1o<\\xaf\\xed\\xbf<\\xe5Z\\x05<:\\x04\\x17\\xbd\\xab\\xf7X<\\xbd5\\x12=\\x05 )<\\x1a\\x85\\xfd;x\\x95P\\xbd\\xb3\\xceP<\\xd6\\x90\\xcd\\xbbP\\x07\\x19\\xbd\\x1a\\xa1E\\xbc}oo;b)\\x8a\\xbc\\xbd\\'\\xae\\xbb\\xc9\\xe6\\xa8\\xbc\\x1d\\xac\\x02;\\x81\\xfc\\x11=\\x140k\\xbcw\\xb8\\n=\\xc5\\xfe\\xa5\\xbc\\'\\xe2%\\xbd\\xe4\\xdf\\x11<\\xf0\\x90(\\xbcr$\\xf6\\xbc\\xe67K\\xbc\\xc2\\xf3h<' |\n",
       "+----------------------+-------------------------------+------------------+---------------------+--------------------------------------------------------------------------------------------------------------------------------------------------------------------------------------------------------------------------------------------------------+-------------------------------+--------------------------------------------------------------------------------------------------------------------------------------------------------------------------------------------------------------------------------------------------------------------------------------------------------------------------------------------------------------------------------------------------------------------------------------------------------------------------------------------------------------------------------------------------------------------------------------------------------+-------------------------------------------------------------------------------------------------------------------------------------------------------------------------------------------------------------------------------------------------------------------------------------------------------------------------------------------------------------------------------------------------------------------------------------------------------------------------------------------------------------------------------------------------------------------------------------------------------------------------------------------------------------------------------------------------------------------------------------------------------------------------------------------------------------------------------------------------------------------------------------------------------------------------------------------------------------------------------------------------------------------------------------------------------------------------------------------------------------------------------------------------------------------------------------------------------------------------------------------------------------------------------------------------------------------------------------------------------------------------------------------------------------------------------------------------------------------------------------------------------------------------------------------------------------------------------------------------------------------------------------------------------------------------------------------------------------------------------------------------------------------------------------------------------------------------------------------------------------------------------------------------------------------------------------------------------------------------------------------------------------------------------------------------------------------------------------------------------------------------------------------------------------------------------------------------------------------------------------------------------------------------------------------------------------------------------------------------------------------------------------------------------------------------------------------------------------------------------------------------------------------------------------------------------------------------------------------------------------------------------------------------------------------------------------------------------------------------------------------------------------------------------------------------------------------------------------------------------------------------------------------------------------------------------------------------------------------------------------------------------------------------------------------------------------------------------------------------------------------------------------------------------------------------------------------------------------------------------------------------------------------------------------------------------------------------------------------------------------------------------------------------------------------------------------------------------------------------------------------------------------------------------------------------------------------------------------------------------------------------------------------------------------------------------------------------------------------------------------------------------------------------------------------------------------------------------------------------------------------------------------------------------------------------------------------------------------------------------------------------------------------------------------------------------------------------------------------------------------------------------------------------------------------------------------------------------------------------------------------------------------------------------------------------------------------------------------------------------------------------------------------------------------------------------------------------------------------------------------------------------------------------------------------------------------------------------------------------------------------------------------------------------------------------------------------------------------------------------------------------------------------------------------------------------------------------------------------------------------------------------------------------------------------------------------------------------------------------------------------------------------------------------------------------------------------------------------------------------------------------------------------------------------------------------------------------------------------------------------------------------------------------------------------------------------------------------------------------------------------------------------------------------------------------------------------------------------------------------------------------------------------------------------------------------------------------------------------------------------------------------------------------------------------------------------------------------------------------------------------------------------------------------------------------------------------------------------------------------------------------------------------------------------------------------------------------------------------------------------------------------------------------------------------------------------------------------------------------------------------------------------------------------------------------------------------------------------------------------------------------------------------------------------------------------------------------------------------------------------------------------------------------------------------------------------------------------------------------------------------------------------------------------------------------------------------------------------------------------------------------------------------------------------------------------------------------------------------------------------------------------------------------------------------------------------------------------------------------------------------------------------------------------------------------------------------------------------------------------------------------------------------------------------------------------------------------------------------------------------------------------------------------------------------------------------------------------------------------------------------------------------------------------------------------------------------------------------------------------------------------------------------------------------------------------------------------------------------------------------------------------------------------------------------------------------------------------------------------------------------------------------------------------------------------------------------------------------------------------------------------------------------------------------------------------------------------------------------------------------------------------------------------------------------------------------------------------------------------------------------------------------------------------------------------------------------------------------------------------------------------------------------------------------------------------------------------------------------------------------------------------------------------------------------------------------------------------------------------------------------------------------------------------------------------------------------------------------------------------------------------------------------------------------------------------------------------------------------------------------------------------------------------------------------------------------------------------------------------------------------------------------------------------------------------------------------------------------------------------------------------------------------------------------------------------------------------------------------------------------------------------------------------------------------------------------------------------------------------------------------------------------------------------------------------------------------------------------------------------------------------------------------------------------------------------------------------------------------------------------------------------------------------------------------------------------------------------------------------------------------------------------------------------------------------------------------------------------------------------------------------------------------------------------------------------------------------------------------------------------------------------------------------------------------------------------------------------------------------------------------------------------------------------------------------------------------------------------------------------------------------------------------------------------------------------------------------------------------------------------------------------------------------------------------------------------------------------------------------------------------------------------------------------------------------------------------------------------------------------------------------------------------------------------------------------------------------------------------------------------------------------------------------------------------------------------------------------------------------------------------------------------------------------------------------------------------------------------------------------------------------------------------------------------------------------------------------------------------------------------------------------------------------------------------------------------------------------------------------------------------------------------------------------------------------------------------------------------------------------------------------------------------------------------------------------------------------------------------------------------------------------------------------------------------------------------------------------------------------------------------------------------------------------------------------------------------------------------------------------------------------------------------------------------------------------------------------------------------------------------------------------------------------------------------------------------------------------------------------------------------------------------------------------------------------------------------------------------------------------------------------------------------------------------------------------------------------------------------------------------------------------------------------------------------------------------------------------------------------------------------------------------------------------------------------------------------------------------------------------------------------------------------------------------------------------------------------------------------------------------------------------------------------------------------------------------------------------------------------------------------------------------------------------------------------------------------------------------------------------------------------------------------------------------------------------------------------------------------------------------------------------------------------------------------------------------------------------------------------------------------------------------------------------------------------------------------------------------------------------------------------------------------------------------------------------------------------------------------------------------------------------------------------------------------------------------------------------------------------------------------------------------------------------------------------------------------------------------------------------------------------------------------------------------------------------------------------------------------------------------------------------------------------------------------------------------------------------------------------------------------------------------------------------------------------------------------------------------------------------------------------------------------------------------------------------------------------------------------------------------------------------------------------------------------------------------------------------------------------------------------------------------------------------------------------------------------------------------------------------------------------------------------------------------------------------------------------------------------------------------------------------------------------------------------------------------------------------------------------------------------------------------------------------------------------------------------------------------------------------------------------------------------------------------------------------------------------------------------------------------------------------------------------------------------------------------------------------------------------------------------------------------------------------------------------------------------------------------------------------------------------------------------------------------------------------------------------------------------------------------------------------------------------------------------------------------------------------------------------------------------------------------------------------------------------------------------------------------------------------------------------------------------------------------------------------------------------------------------------------------------------------------------------------------------------------------------------------------------------------------------------------------------------------------------------------------------------------------------------------------------------------------------------------------------------------------------------------------------------------------------------------------------------------------------------------------------------------------------------------------------------------------------------------------------------------------------------------------------------------------------------------------------------------------------------------------------------------------------------------------------------------------------------------------------------------------------------------------------------------------------------------------------------------------------------------------------------------------------------------------------------------------------------------------------------------------------------------------------------------------------------------------------------------------------------------------------------------------------------------------------------------------------------------------------------------------------------------------------------------------------------------------------------------------------------------------------------------------------------------------------------------------------------------------------------------------------------------------------------------------------------------------------------------------------------------------------------------------------------------------------------------------------------------------------------------------------------------------------------------------------------------------------------------------------------------------------------------------------------------------------------------------------------------------------------------------------------------------------------------------------------------------------------------------------------------------------------------------------------------------------------------------------------------------------------------------------------------------------------------------------------------------------------------------------------------------------------------------------------------------------------------------------------------------------------------------------------------------------------------------------------------------------------------------------------------------------------------------------------------------------------------------------+"
      ]
     },
     "execution_count": 236,
     "metadata": {},
     "output_type": "execute_result"
    }
   ],
   "source": [
    "%%sql\n",
    "\n",
    "SELECT * FROM resumes_profile_data;"
   ]
  },
  {
   "cell_type": "code",
   "execution_count": 9,
   "id": "2916185e-66ef-4600-9c67-9404fa71d053",
   "metadata": {
    "execution": {
     "iopub.execute_input": "2023-11-03T00:46:39.753873Z",
     "iopub.status.busy": "2023-11-03T00:46:39.753613Z",
     "iopub.status.idle": "2023-11-03T00:46:47.965266Z",
     "shell.execute_reply": "2023-11-03T00:46:47.964685Z",
     "shell.execute_reply.started": "2023-11-03T00:46:39.753856Z"
    },
    "language": "python"
   },
   "outputs": [
    {
     "name": "stdout",
     "output_type": "stream",
     "text": [
      "Enter Job description : \n",
      "Data engineer\n"
     ]
    },
    {
     "ename": "NameError",
     "evalue": "name 'connection_url' is not defined",
     "output_type": "error",
     "traceback": [
      "\u001b[0;31m---------------------------------------------------------------------------\u001b[0m",
      "\u001b[0;31mNameError\u001b[0m                                 Traceback (most recent call last)",
      "\u001b[0;32m/var/folders/lg/fsmn_tz10713v8drby7k2rwr0000gn/T/ipykernel_45045/1607833953.py\u001b[0m in \u001b[0;36m<module>\u001b[0;34m\u001b[0m\n\u001b[1;32m      1\u001b[0m \u001b[0mjob_description\u001b[0m \u001b[0;34m=\u001b[0m \u001b[0minput\u001b[0m\u001b[0;34m(\u001b[0m\u001b[0;34m\"Enter Job description : \\n\"\u001b[0m\u001b[0;34m)\u001b[0m\u001b[0;34m\u001b[0m\u001b[0;34m\u001b[0m\u001b[0m\n\u001b[0;32m----> 2\u001b[0;31m \u001b[0mevaluate_candidates\u001b[0m\u001b[0;34m(\u001b[0m\u001b[0mjob_description\u001b[0m\u001b[0;34m)\u001b[0m\u001b[0;34m\u001b[0m\u001b[0;34m\u001b[0m\u001b[0m\n\u001b[0m",
      "\u001b[0;32m/var/folders/lg/fsmn_tz10713v8drby7k2rwr0000gn/T/ipykernel_45045/937885737.py\u001b[0m in \u001b[0;36mevaluate_candidates\u001b[0;34m(query)\u001b[0m\n\u001b[1;32m      1\u001b[0m \u001b[0;32mdef\u001b[0m \u001b[0mevaluate_candidates\u001b[0m\u001b[0;34m(\u001b[0m\u001b[0mquery\u001b[0m\u001b[0;34m)\u001b[0m\u001b[0;34m:\u001b[0m\u001b[0;34m\u001b[0m\u001b[0;34m\u001b[0m\u001b[0m\n\u001b[0;32m----> 2\u001b[0;31m     \u001b[0mresult\u001b[0m \u001b[0;34m=\u001b[0m \u001b[0msearch_resumes\u001b[0m\u001b[0;34m(\u001b[0m\u001b[0mquery\u001b[0m\u001b[0;34m)\u001b[0m\u001b[0;34m\u001b[0m\u001b[0;34m\u001b[0m\u001b[0m\n\u001b[0m\u001b[1;32m      3\u001b[0m     \u001b[0mresponses\u001b[0m \u001b[0;34m=\u001b[0m \u001b[0;34m[\u001b[0m\u001b[0;34m]\u001b[0m  \u001b[0;31m# List to store responses for each candidate\u001b[0m\u001b[0;34m\u001b[0m\u001b[0;34m\u001b[0m\u001b[0m\n\u001b[1;32m      4\u001b[0m     \u001b[0;32mfor\u001b[0m \u001b[0mresume_str\u001b[0m \u001b[0;32min\u001b[0m \u001b[0mresult\u001b[0m\u001b[0;34m:\u001b[0m\u001b[0;34m\u001b[0m\u001b[0;34m\u001b[0m\u001b[0m\n\u001b[1;32m      5\u001b[0m         \u001b[0mname\u001b[0m \u001b[0;34m=\u001b[0m \u001b[0mresume_str\u001b[0m\u001b[0;34m[\u001b[0m\u001b[0;36m0\u001b[0m\u001b[0;34m]\u001b[0m\u001b[0;34m\u001b[0m\u001b[0;34m\u001b[0m\u001b[0m\n",
      "\u001b[0;32m/var/folders/lg/fsmn_tz10713v8drby7k2rwr0000gn/T/ipykernel_45045/2152414423.py\u001b[0m in \u001b[0;36msearch_resumes\u001b[0;34m(query)\u001b[0m\n\u001b[1;32m     12\u001b[0m     \u001b[0;31m# print(query_sql,\"\\n\")\u001b[0m\u001b[0;34m\u001b[0m\u001b[0;34m\u001b[0m\u001b[0m\n\u001b[1;32m     13\u001b[0m     \u001b[0;31m# engine = create_engine(f'mysql+pymysql://{user}:{password}@{host}:{port}/{database_name}')\u001b[0m\u001b[0;34m\u001b[0m\u001b[0;34m\u001b[0m\u001b[0m\n\u001b[0;32m---> 14\u001b[0;31m     \u001b[0mengine\u001b[0m \u001b[0;34m=\u001b[0m \u001b[0mcreate_engine\u001b[0m\u001b[0;34m(\u001b[0m\u001b[0mconnection_url\u001b[0m\u001b[0;34m)\u001b[0m\u001b[0;34m\u001b[0m\u001b[0;34m\u001b[0m\u001b[0m\n\u001b[0m\u001b[1;32m     15\u001b[0m     \u001b[0mconnection\u001b[0m \u001b[0;34m=\u001b[0m \u001b[0mengine\u001b[0m\u001b[0;34m.\u001b[0m\u001b[0mconnect\u001b[0m\u001b[0;34m(\u001b[0m\u001b[0;34m)\u001b[0m\u001b[0;34m\u001b[0m\u001b[0;34m\u001b[0m\u001b[0m\n\u001b[1;32m     16\u001b[0m     \u001b[0mresult\u001b[0m \u001b[0;34m=\u001b[0m \u001b[0mconnection\u001b[0m\u001b[0;34m.\u001b[0m\u001b[0mexecute\u001b[0m\u001b[0;34m(\u001b[0m\u001b[0mtext\u001b[0m\u001b[0;34m(\u001b[0m\u001b[0mquery_sql\u001b[0m\u001b[0;34m)\u001b[0m\u001b[0;34m)\u001b[0m\u001b[0;34m.\u001b[0m\u001b[0mfetchall\u001b[0m\u001b[0;34m(\u001b[0m\u001b[0;34m)\u001b[0m\u001b[0;34m\u001b[0m\u001b[0;34m\u001b[0m\u001b[0m\n",
      "\u001b[0;31mNameError\u001b[0m: name 'connection_url' is not defined"
     ]
    }
   ],
   "source": [
    "job_description = input(\"Enter Job description : \\n\")\n",
    "evaluate_candidates(job_description)"
   ]
  },
  {
   "cell_type": "code",
   "execution_count": 10,
   "id": "54541b52-6267-4089-9b63-4daa72b8dfca",
   "metadata": {
    "language": "python"
   },
   "outputs": [
    {
     "name": "stdout",
     "output_type": "stream",
     "text": [
      "Name: openai\n",
      "Version: 0.27.8\n",
      "Summary: Python client library for the OpenAI API\n",
      "Home-page: https://github.com/openai/openai-python\n",
      "Author: OpenAI\n",
      "Author-email: support@openai.com\n",
      "License: \n",
      "Location: /Users/vishwajeetdabholkar/opt/anaconda3/lib/python3.9/site-packages\n",
      "Requires: aiohttp, requests, tqdm\n",
      "Required-by: \n",
      "Note: you may need to restart the kernel to use updated packages.\n"
     ]
    }
   ],
   "source": [
    "!pip show openai"
   ]
  },
  {
   "cell_type": "code",
   "execution_count": null,
   "id": "0192b848",
   "metadata": {},
   "outputs": [],
   "source": []
  }
 ],
 "metadata": {
  "jupyterlab": {
   "notebooks": {
    "version_major": 6,
    "version_minor": 4
   }
  },
  "kernelspec": {
   "display_name": "Python 3 (ipykernel)",
   "language": "python",
   "name": "python3"
  },
  "language_info": {
   "codemirror_mode": {
    "name": "ipython",
    "version": 3
   },
   "file_extension": ".py",
   "mimetype": "text/x-python",
   "name": "python",
   "nbconvert_exporter": "python",
   "pygments_lexer": "ipython3",
   "version": "3.9.13"
  },
  "singlestore_cell_default_language": "python",
  "singlestore_connection": {
   "connectionID": "59147d7e-ecaa-43cb-8427-fdaf1d83643f",
   "defaultDatabase": "resume_evaluator"
  }
 },
 "nbformat": 4,
 "nbformat_minor": 5
}
