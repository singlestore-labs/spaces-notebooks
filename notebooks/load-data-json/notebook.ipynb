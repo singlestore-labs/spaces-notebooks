{
  "cells": [
    {
      "cell_type": "markdown",
      "id": "a5296a57-2be8-41fb-b7e4-3458d7f99324",
      "metadata": {},
      "source": [
        "<div id=\"singlestore-header\" style=\"display: flex; background-color: rgba(235, 249, 245, 0.25); padding: 5px;\">\n",
        "    <div id=\"icon-image\" style=\"width: 90px; height: 90px;\">\n",
        "        <img width=\"100%\" height=\"100%\" src=\"https://raw.githubusercontent.com/singlestore-labs/spaces-notebooks/master/common/images/header-icons/database.png\" />\n",
        "    </div>\n",
        "    <div id=\"text\" style=\"padding: 5px; margin-left: 10px;\">\n",
        "        <div id=\"badge\" style=\"display: inline-block; background-color: rgba(0, 0, 0, 0.15); border-radius: 4px; padding: 4px 8px; align-items: center; margin-top: 6px; margin-bottom: -2px; font-size: 80%\">SingleStore Notebooks</div>\n",
        "        <h1 style=\"font-weight: 500; margin: 8px 0 0 4px;\">Employee Data Analysis JSON Dataset</h1>\n",
        "    </div>\n",
        "</div>"
      ]
    },
    {
      "cell_type": "markdown",
      "id": "777e083a-bd01-454b-a302-2155f7e9b723",
      "metadata": {},
      "source": [
        "<div class=\"alert alert-block alert-warning\">\n",
        "    <b class=\"fa fa-solid fa-exclamation-circle\"></b>\n",
        "    <div>\n",
        "        <p><b>Note</b></p>\n",
        "        <p>This notebook can be run on a Free Starter Workspace. To create a Free Starter Workspace navigate to <tt>Start</tt> using the left nav. You can also use your existing Standard or Premium workspace with this Notebook.</p>\n",
        "    </div>\n",
        "</div>"
      ]
    },
    {
      "attachments": {},
      "cell_type": "markdown",
      "metadata": {},
      "source": [
        "In this example, we want to create a pipeline from multiple JSON files  stored in an AWS S3 bucket called singlestoredb and a folder called **employeedata**. This bucket is located in **ap-south-1**."
      ]
    },
    {
      "attachments": {},
      "cell_type": "markdown",
      "metadata": {},
      "source": [
        "Each file has the following shape with nested arrays:\n",
        "\n",
        "```json\n",
        "{\n",
        "  \"userId\": \"88-052-8576\",\n",
        "  \"jobTitleName\": \"Social Worker\",\n",
        "  \"firstName\": \"Mavis\",\n",
        "  \"lastName\": \"Hilldrop\",\n",
        "  \"dataofjoining\": \"20/09/2020\",\n",
        "  \"contactinfo\": {\n",
        "    \"city\": \"Dallas\",\n",
        "    \"phone\": \"972-454-9822\",\n",
        "    \"emailAddress\": \"mhilldrop0@google.ca\",\n",
        "    \"state\": \"TX\",\n",
        "    \"zipcode\": \"75241\"\n",
        "  },\n",
        "  \"Children\": [\n",
        "    \"Evaleen\",\n",
        "    \"Coletta\",\n",
        "    \"Leonelle\"\n",
        "  ],\n",
        "  \"salary\": 203000\n",
        "}\n",
        "```"
      ]
    },
    {
      "attachments": {},
      "cell_type": "markdown",
      "metadata": {},
      "source": [
        "<h3>Demo Flow</h3>"
      ]
    },
    {
      "attachments": {},
      "cell_type": "markdown",
      "metadata": {},
      "source": [
        "<img src=https://singlestoreloaddata.s3.ap-south-1.amazonaws.com/images/JSONFlow.png width=\"100%\" hight=\"50%\"/>"
      ]
    },
    {
      "attachments": {},
      "cell_type": "markdown",
      "metadata": {},
      "source": [
        "## How to use this notebook"
      ]
    },
    {
      "attachments": {},
      "cell_type": "markdown",
      "metadata": {},
      "source": [
        "<img src=https://singlestoreloaddata.s3.ap-south-1.amazonaws.com/images/notebookuse.gif width=\"75%\" hight=\"50%\"/>"
      ]
    },
    {
      "attachments": {},
      "cell_type": "markdown",
      "metadata": {},
      "source": [
        "## Create a database (You can skip this Step if you are using Free Starter Tier)\n",
        "\n",
        "We need to create a database to work with in the following examples."
      ]
    },
    {
      "cell_type": "code",
      "execution_count": 1,
      "metadata": {},
      "outputs": [],
      "source": [
        "shared_tier_check = %sql show variables like 'is_shared_tier'\n",
        "if not shared_tier_check or shared_tier_check[0][1] == 'OFF':\n",
        "    %sql DROP DATABASE IF EXISTS HRData;\n",
        "    %sql CREATE DATABASE HRData;"
      ]
    },
    {
      "attachments": {},
      "cell_type": "markdown",
      "metadata": {},
      "source": [
        "<div class=\"alert alert-block alert-warning\">\n",
        "    <b class=\"fa fa-solid fa-exclamation-circle\"></b>\n",
        "    <div>\n",
        "        <p><b>Action Required</b></p>\n",
        "        <p> If you have a Free Starter Workspace deployed already, select the database from drop-down menu at the top of this notebook. It updates the <tt>connection_url</tt> to connect to that database.</p>\n",
        "    </div>\n",
        "</div>"
      ]
    },
    {
      "cell_type": "code",
      "execution_count": 2,
      "metadata": {},
      "outputs": [],
      "source": [
        "%%sql\n",
        "\n",
        "CREATE TABLE IF NOT EXISTS employeeData /* Creating table for sample data */ (\n",
        "    userId text CHARACTER SET utf8 COLLATE utf8_general_ci NOT NULL,\n",
        "    jobTitleName text CHARACTER SET utf8 COLLATE utf8_general_ci NOT NULL,\n",
        "    firstName text CHARACTER SET utf8 COLLATE utf8_general_ci NOT NULL,\n",
        "    lastName text CHARACTER SET utf8 COLLATE utf8_general_ci NOT NULL,\n",
        "    dataofjoining text CHARACTER SET utf8 COLLATE utf8_general_ci NOT NULL,\n",
        "    contactinfo JSON COLLATE utf8_bin NOT NULL,\n",
        "    salary int NOT NULL,\n",
        "    Children JSON COLLATE utf8_bin NOT NULL\n",
        "    );"
      ]
    },
    {
      "attachments": {},
      "cell_type": "markdown",
      "metadata": {},
      "source": [
        "### Create Pipeline To Insert JSON Data into Table"
      ]
    },
    {
      "cell_type": "code",
      "execution_count": 3,
      "metadata": {},
      "outputs": [],
      "source": [
        "%%sql\n",
        "\n",
        "CREATE PIPELINE IF NOT EXISTS employeeData AS\n",
        "LOAD DATA S3 'singlestoreloaddata/employeedata/*.json' /* Creating pipeline for sample data */\n",
        "CONFIG '{ \\\"region\\\": \\\"ap-south-1\\\" }'\n",
        "    /*\n",
        "    CREDENTIALS '{\"aws_access_key_id\": \"<Key to Enter>\",\n",
        "                  \"aws_secret_access_key\": \"<Key to Enter>\"}'\n",
        "    */\n",
        "INTO TABLE employeeData\n",
        "FORMAT JSON\n",
        "(\n",
        "    userId <- userId,\n",
        "    jobTitleName <- jobTitleName,\n",
        "    firstName <- firstName,\n",
        "    lastName <- lastName,\n",
        "    dataofjoining <- dataofjoining,\n",
        "    contactinfo <- contactinfo,\n",
        "    salary <- salary,\n",
        "    Children <- Children\n",
        ");\n",
        "\n",
        "START PIPELINE employeeData;"
      ]
    },
    {
      "attachments": {},
      "cell_type": "markdown",
      "metadata": {},
      "source": [
        "### Check if Data is Loaded"
      ]
    },
    {
      "cell_type": "code",
      "execution_count": 4,
      "metadata": {},
      "outputs": [],
      "source": [
        "%%sql\n",
        "SELECT * from employeeData limit 5;"
      ]
    },
    {
      "attachments": {},
      "cell_type": "markdown",
      "metadata": {},
      "source": [
        "### Sample Queries"
      ]
    },
    {
      "attachments": {},
      "cell_type": "markdown",
      "metadata": {},
      "source": [
        "#### Select Top 2 Employees with highest salary risiding in State 'MS'"
      ]
    },
    {
      "cell_type": "code",
      "execution_count": 5,
      "metadata": {},
      "outputs": [],
      "source": [
        "%%sql\n",
        "select * from employeeData where contactinfo::$state = 'MS' order by salary desc limit 2"
      ]
    },
    {
      "attachments": {},
      "cell_type": "markdown",
      "metadata": {},
      "source": [
        "#### Select Top 5 Cities with highest Average salary"
      ]
    },
    {
      "cell_type": "code",
      "execution_count": 6,
      "metadata": {},
      "outputs": [],
      "source": [
        "%%sql\n",
        "select contactinfo::$city as City,AVG(salary) as 'Avg Salary' from employeeData\n",
        "    group by contactinfo::$city  order by AVG(salary) desc limit 5"
      ]
    },
    {
      "attachments": {},
      "cell_type": "markdown",
      "metadata": {},
      "source": [
        "#### Number of employees with Children grouped by No of children"
      ]
    },
    {
      "cell_type": "code",
      "execution_count": 7,
      "metadata": {},
      "outputs": [],
      "source": [
        "%%sql\n",
        "SELECT\n",
        "    JSON_LENGTH(Children) as No_of_Kids,\n",
        "    COUNT(*) AS employees_with_children\n",
        "FROM employeeData\n",
        "    group by JSON_LENGTH(Children);"
      ]
    },
    {
      "attachments": {},
      "cell_type": "markdown",
      "metadata": {},
      "source": [
        "#### Average salary of employees who have children"
      ]
    },
    {
      "cell_type": "code",
      "execution_count": 8,
      "metadata": {},
      "outputs": [],
      "source": [
        "%%sql\n",
        "SELECT\n",
        "    AVG(salary) AS average_salary_with_children\n",
        "FROM employeeData\n",
        "WHERE JSON_LENGTH(Children) > 0;"
      ]
    },
    {
      "attachments": {},
      "cell_type": "markdown",
      "metadata": {},
      "source": [
        "#### Select the total and average salary by State"
      ]
    },
    {
      "cell_type": "code",
      "execution_count": 9,
      "metadata": {},
      "outputs": [],
      "source": [
        "%%sql\n",
        "SELECT\n",
        "    contactinfo::$state AS State,\n",
        "    COUNT(*) AS 'No of Employees',\n",
        "    SUM(salary) AS 'Total Salary',\n",
        "    AVG(salary) AS 'Average Salary'\n",
        "FROM employeeData\n",
        "GROUP BY contactinfo::$state limit 5;"
      ]
    },
    {
      "attachments": {},
      "cell_type": "markdown",
      "metadata": {},
      "source": [
        "#### Top 5 job title with highest number of employees"
      ]
    },
    {
      "cell_type": "code",
      "execution_count": 10,
      "metadata": {},
      "outputs": [],
      "source": [
        "%%sql\n",
        "SELECT\n",
        "    jobTitleName,\n",
        "    COUNT(*) AS num_employees\n",
        "FROM employeeData\n",
        "GROUP BY jobTitleName order by num_employees desc limit 5;"
      ]
    },
    {
      "attachments": {},
      "cell_type": "markdown",
      "metadata": {},
      "source": [
        "#### Select the highest and lowest salary"
      ]
    },
    {
      "cell_type": "code",
      "execution_count": 11,
      "metadata": {},
      "outputs": [],
      "source": [
        "%%sql\n",
        "SELECT\n",
        "    MAX(salary) AS highest_salary,\n",
        "    MIN(salary) AS lowest_salary\n",
        "FROM employeeData;"
      ]
    },
    {
      "attachments": {},
      "cell_type": "markdown",
      "metadata": {},
      "source": [
        "## Conclusion\n",
        "\n",
        "\n",
        "We have shown how to connect to S3 using `Pipelines` and insert JSON data into SinglestoreDB. These techniques should enable you to\n",
        "integrate and query your JSON data with SingleStoreDB."
      ]
    },
    {
      "attachments": {},
      "cell_type": "markdown",
      "metadata": {},
      "source": [
        "## Clean up\n",
        "\n",
        "Remove the '#' to uncomment and execute the queries below to clean up the pipeline and table created."
      ]
    },
    {
      "cell_type": "code",
      "execution_count": 12,
      "metadata": {},
      "outputs": [],
      "source": [
        "%%sql\n",
        "#STOP PIPELINE employeeData;\n",
        "\n",
        "#DROP PIPELINE employeeData;"
      ]
    },
    {
      "attachments": {},
      "cell_type": "markdown",
      "metadata": {},
      "source": [
        "Drop data"
      ]
    },
    {
      "cell_type": "code",
      "execution_count": 13,
      "metadata": {},
      "outputs": [],
      "source": [
        "#shared_tier_check = %sql show variables like 'is_shared_tier'\n",
        "#if not shared_tier_check or shared_tier_check[0][1] == 'OFF':\n",
        "#    %sql DROP DATABASE IF EXISTS HRData;\n",
        "#else:\n",
        "#    %sql DROP TABLE employeeData;"
      ]
    },
    {
      "cell_type": "markdown",
      "id": "9bd328a2-666d-449e-b327-61d0f114ce88",
      "metadata": {},
      "source": [
        "<div id=\"singlestore-footer\" style=\"background-color: rgba(194, 193, 199, 0.25); height:2px; margin-bottom:10px\"></div>\n",
        "<div><img src=\"https://raw.githubusercontent.com/singlestore-labs/spaces-notebooks/master/common/images/singlestore-logo-grey.png\" style=\"padding: 0px; margin: 0px; height: 24px\"/></div>"
      ]
    }
  ],
  "metadata": {
    "jupyterlab": {
      "notebooks": {
        "version_major": 6,
        "version_minor": 4
      }
    },
    "kernelspec": {
      "display_name": "Python 3 (ipykernel)",
      "language": "python",
      "name": "python3"
    },
    "language_info": {
      "codemirror_mode": {
        "name": "ipython",
        "version": 3
      },
      "file_extension": ".py",
      "mimetype": "text/x-python",
      "name": "python",
      "nbconvert_exporter": "python",
      "pygments_lexer": "ipython3",
      "version": "3.11.6"
    }
  },
  "nbformat": 4,
  "nbformat_minor": 5
}
