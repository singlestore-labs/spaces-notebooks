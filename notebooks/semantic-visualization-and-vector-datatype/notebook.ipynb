{
  "cells": [
    {
      "cell_type": "markdown",
      "id": "eda1fdc1-ff12-4aee-9ec7-ee57896625cd",
      "metadata": {},
      "source": [
        "<div id=\"singlestore-header\" style=\"display: flex; background-color: rgba(210, 255, 153, 0.25); padding: 5px;\">\n",
        "    <div id=\"icon-image\" style=\"width: 90px; height: 90px;\">\n",
        "        <img width=\"100%\" height=\"100%\" src=\"https://raw.githubusercontent.com/singlestore-labs/spaces-notebooks/master/common/images/header-icons/chart-network.png\" />\n",
        "    </div>\n",
        "    <div id=\"text\" style=\"padding: 5px; margin-left: 10px;\">\n",
        "        <div id=\"badge\" style=\"display: inline-block; background-color: rgba(0, 0, 0, 0.15); border-radius: 4px; padding: 4px 8px; align-items: center; margin-top: 6px; margin-bottom: -2px; font-size: 80%\">SingleStore Notebooks</div>\n",
        "        <h1 style=\"font-weight: 500; margin: 8px 0 0 4px;\">Semantic Visualization and Vector Datatype</h1>\n",
        "    </div>\n",
        "</div>"
      ]
    },
    {
      "cell_type": "markdown",
      "id": "1af5ad61-74b6-498c-884a-150013aed37f",
      "metadata": {},
      "source": [
        "<div class=\"alert alert-block alert-warning\">\n",
        "    <b class=\"fa fa-solid fa-exclamation-circle\"></b>\n",
        "    <div>\n",
        "        <p><b>Note</b></p>\n",
        "        <p>This notebook can be run on a Free Starter Workspace. To create a Free Starter Workspace navigate to <tt>Start</tt> using the left nav. You can also use your existing Standard or Premium workspace with this Notebook.</p>\n",
        "    </div>\n",
        "</div>"
      ]
    },
    {
      "cell_type": "markdown",
      "id": "db3fc39a-3817-433e-a4cf-e65d3253dd31",
      "metadata": {},
      "source": [
        "\n",
        "SingleStoreDB supports vector database processing, which allows you to store and search vector data.\n",
        "Vectors usually come from objects: text, images, video, audio, etc.\n",
        "In a vector space model, words with similar meanings, such as <i>\"happy\"</i> and <i>\"joyful,\"</i> are represented by vectors that lie in proximity, reflecting their semantic similarity.\n",
        "Vector database searches find data based on its content or meaning, even without exact matches."
      ]
    },
    {
      "cell_type": "markdown",
      "id": "3876c8c3-7313-46d5-822d-2ec5785376c9",
      "metadata": {},
      "source": [
        "## 1. Create a workspace in your workspace group\n",
        "\n",
        "S-00 is sufficient.\n",
        "\n",
        "## 2. Create a database named `db_vector`"
      ]
    },
    {
      "cell_type": "markdown",
      "id": "8bf18203-feb5-45f3-b41f-289236c3704c",
      "metadata": {},
      "source": [
        "<div class=\"alert alert-block alert-warning\">\n",
        "    <b class=\"fa fa-solid fa-exclamation-circle\"></b>\n",
        "    <div>\n",
        "        <p><b>Action Required</b></p>\n",
        "        <p> If you have a Free Starter Workspace deployed already, select the database from drop-down menu at the top of this notebook. It updates the <tt>connection_url</tt> to connect to that database.</p>\n",
        "    </div>\n",
        "</div>"
      ]
    },
    {
      "cell_type": "code",
      "execution_count": 1,
      "id": "fd4285e4-070c-4f36-9335-8d07c42f33aa",
      "metadata": {},
      "outputs": [],
      "source": [
        "shared_tier_check = %sql show variables like 'is_shared_tier'\n",
        "if not shared_tier_check or shared_tier_check[0][1] == 'OFF':\n",
        "    %sql DROP DATABASE IF EXISTS db_vector;\n",
        "    %sql CREATE DATABASE db_vector;"
      ]
    },
    {
      "cell_type": "markdown",
      "id": "ca75637e-ae94-4f37-bc94-8d84f2560790",
      "metadata": {},
      "source": [
        "<div class=\"alert alert-block alert-warning\">\n",
        "    <b class=\"fa fa-solid fa-exclamation-circle\"></b>\n",
        "    <div>\n",
        "        <p><b>Action Required</b></p>\n",
        "        <p> Make sure to select a database from the drop-down menu at the top of this notebook. It updates the <tt>connection_url</tt>  to connect to that database.</p>\n",
        "    </div>\n",
        "</div>"
      ]
    },
    {
      "cell_type": "markdown",
      "id": "3174a995-aa93-45da-833f-29cffa054945",
      "metadata": {},
      "source": [
        "Create table `words` and insert the words into the table."
      ]
    },
    {
      "cell_type": "code",
      "execution_count": 2,
      "id": "0ea39e6a-7765-4e18-b66a-ede465491b2f",
      "metadata": {},
      "outputs": [],
      "source": [
        "%%sql\n",
        "CREATE TABLE words(word varchar(25));\n",
        "\n",
        "INSERT INTO words VALUES (\"red\"), (\"potatoes\"), (\"soda\"), (\"cheese\"),\n",
        "                         (\"water\"), (\"blue\"), (\"crispy\"), (\"hamburger\"),\n",
        "                         (\"coffee\"), (\"green\"), (\"milk\"), (\"la croix\"),\n",
        "                         (\"yellow\"), (\"chocolate\"), (\"french fries\"),\n",
        "                         (\"latte\"), (\"cake\"), (\"brown\"), (\"cheeseburger\"),\n",
        "                         (\"espresso\"), (\"cheesecake\"), (\"black\"), (\"mocha\"),\n",
        "                         (\"fizzy\"), (\"carbon\"), (\"banana\"), (\"sunshine\"),\n",
        "                         (\"orange carrot\"), (\"sun\"), (\"hay\"), (\"cookies\"),\n",
        "                         (\"fish\"), ('king'), ('man'), ('woman'), ('queen'),\n",
        "                         ('Paris'), ('France'), ('Poland'), ('Warsaw'),\n",
        "                         ('prince'), ('throne'), ('Elizabeth'), ('ruler');"
      ]
    },
    {
      "cell_type": "code",
      "execution_count": 3,
      "id": "b98fff5d-72bd-4d52-8c0e-7ac1eb4040c8",
      "metadata": {},
      "outputs": [],
      "source": [
        "%%sql\n",
        "SHOW TABLES EXTENDED;"
      ]
    },
    {
      "cell_type": "markdown",
      "id": "146d4e8d-ae81-4f08-b25e-63b55c8c6439",
      "metadata": {},
      "source": [
        "## 3. Install and import required libraries\n",
        "In this section, we will set up the necessary environment by installing important libraries .\n",
        "\n",
        "The install process may take a couple minutes."
      ]
    },
    {
      "cell_type": "code",
      "execution_count": 4,
      "id": "1fd1a85f-8511-48c2-89f1-ac0573f30fd3",
      "metadata": {},
      "outputs": [],
      "source": [
        "!pip3 install --upgrade sentence-transformers torch tensorflow pandarallel --quiet"
      ]
    },
    {
      "cell_type": "markdown",
      "id": "73064337-681e-447d-8257-975012a6149b",
      "metadata": {},
      "source": [
        "Import several libraries for data manipulation (e.g., Pandas, NumPy), database connectivity (SQLAlchemy, SingleStoreDB), machine learning (PyTorch, Transformers), and parallel processing (pandarallel)."
      ]
    },
    {
      "cell_type": "code",
      "execution_count": 5,
      "id": "1cd529be-d314-47ad-84c9-d56a09911573",
      "metadata": {},
      "outputs": [],
      "source": [
        "import json\n",
        "import ibis\n",
        "import numpy as np\n",
        "import pandas as pd\n",
        "import sqlalchemy as sa\n",
        "import singlestoredb as s2\n",
        "import torch\n",
        "from pandarallel import pandarallel\n",
        "from transformers import AutoTokenizer\n",
        "from transformers import AutoModel\n",
        "from sqlalchemy import *\n",
        "db_connection = create_engine(connection_url)\n",
        "pandarallel.initialize(nb_workers=2, progress_bar=True)"
      ]
    },
    {
      "cell_type": "markdown",
      "id": "2170f85e-3057-4e99-b026-1cda3f54203e",
      "metadata": {},
      "source": [
        "## 4. Load Sentence Transformer model along with its tokenizer, making them ready for use in tasks like sentence embeddings or similarity calculations."
      ]
    },
    {
      "cell_type": "markdown",
      "id": "50cddc8b-f5c2-4ec9-8e1f-6f94b40568df",
      "metadata": {},
      "source": [
        "Load Sentence Transformers model"
      ]
    },
    {
      "cell_type": "code",
      "execution_count": 6,
      "id": "d5948f1c-df1f-4aa5-830c-59ec95dd0b7f",
      "metadata": {},
      "outputs": [],
      "source": [
        "model_name = \"sentence-transformers/paraphrase-multilingual-MiniLM-L12-v2\"\n",
        "\n",
        "model = AutoModel.from_pretrained(model_name)\n",
        "tokenizer = AutoTokenizer.from_pretrained(model_name)"
      ]
    },
    {
      "cell_type": "markdown",
      "id": "fbef9ff6-d4d1-41d4-8400-fe0d37a0048d",
      "metadata": {},
      "source": [
        "## 5. Load the data into dataframe from database table"
      ]
    },
    {
      "cell_type": "markdown",
      "id": "c8f22e01-f80c-4b79-8ebe-857d179d4392",
      "metadata": {},
      "source": [
        "Load the data into a DataFrame"
      ]
    },
    {
      "cell_type": "code",
      "execution_count": 7,
      "id": "0b4ea02f-f214-431a-bc4b-e3b9f930bc4f",
      "metadata": {},
      "outputs": [],
      "source": [
        "result = %sql  select * from words;\n",
        "\n",
        "df = pd.DataFrame(result)\n",
        "df"
      ]
    },
    {
      "cell_type": "markdown",
      "id": "cb855078-6608-4a19-b329-8de84da6de07",
      "metadata": {},
      "source": [
        "## 6. Function to retrieve the embedding\n",
        "\n",
        "This function, named get_embedding, takes a <b>sentence</b> as input and returns its <b>embedding</b> using a pre-trained tokenizer and model. It tokenizes the sentence and returns the resulting embedding as a NumPy array with a float32 data type."
      ]
    },
    {
      "cell_type": "code",
      "execution_count": 8,
      "id": "737eac3b-9c5a-4ff3-8f3c-81ab281fb06a",
      "metadata": {},
      "outputs": [],
      "source": [
        "import numpy as np\n",
        "\n",
        "def get_embedding(sentence: str) -> np.ndarray[np.float32]:\n",
        "    \"\"\"Retrieve embedding for given sentence.\"\"\"\n",
        "    inputs = tokenizer(sentence, padding=True, truncation=True, return_tensors=\"pt\")\n",
        "    with torch.no_grad():\n",
        "        embedding = model(**inputs).last_hidden_state.mean(dim=1).squeeze().tolist()\n",
        "    return np.array(embedding, dtype='<f4')"
      ]
    },
    {
      "cell_type": "markdown",
      "id": "02a2a551-10df-4d0e-a0e9-ebe2faa0f997",
      "metadata": {},
      "source": [
        "## 7. Apply the function `get_embedding`\n",
        "\n",
        "It adds a new column 'word_embeddings' to a DataFrame df by applying a function get_embedding in parallel to the 'word' column, aiming to calculate and store word embeddings for each word in the DataFrame. The parallel_apply function  leverages parallel processing capabilities for efficient computation."
      ]
    },
    {
      "cell_type": "code",
      "execution_count": 9,
      "id": "dd855248-093f-49c6-8d07-00e4cd5e1b77",
      "metadata": {},
      "outputs": [],
      "source": [
        "# Apply the function\n",
        "df['word_embeddings'] = df['word'].parallel_apply(get_embedding)"
      ]
    },
    {
      "cell_type": "markdown",
      "id": "5081de0f-019a-43e8-a6ec-c1a103d37ac4",
      "metadata": {},
      "source": [
        "Below code writes the DataFrame df to a SQL table named `words_table` using SingleStoreDB (s2). It replaces the existing table if it already exists, does not include an index column in the table, and specifies the data type for the `word_embeddings` column as LargeBinary."
      ]
    },
    {
      "cell_type": "code",
      "execution_count": 10,
      "id": "39db01bb-ac52-45f5-b3b7-15ae0c6f3721",
      "metadata": {},
      "outputs": [],
      "source": [
        "# Create the table with vector embeddings\n",
        "df.to_sql(\n",
        "    'words_table',\n",
        "    s2.create_engine().connect(),\n",
        "    if_exists='replace',\n",
        "    index=False,\n",
        "    dtype=dict(word_embeddings=sa.LargeBinary),\n",
        ")"
      ]
    },
    {
      "cell_type": "markdown",
      "id": "42154bcc-f4a1-4a21-9668-2c1da9fbfa35",
      "metadata": {},
      "source": [
        "## 8. Visualizing words\n",
        "Below code transforms word embeddings stored in the `word_embeddings` column of DataFrame df using t-SNE (t-Distributed Stochastic Neighbor Embedding), reducing the dimensionality to 2 components. The resulting transformed data is stored in the variable `vis_dims`, representing the two-dimensional visualization of the word embeddings."
      ]
    },
    {
      "cell_type": "code",
      "execution_count": 11,
      "id": "9f9e4f37-99a0-4513-98f8-9b9635efcf50",
      "metadata": {},
      "outputs": [],
      "source": [
        "matrix = df[\"word_embeddings\"]\n",
        "matrix = matrix.tolist()\n",
        "matrix"
      ]
    },
    {
      "cell_type": "code",
      "execution_count": 12,
      "id": "d7ca247f-7aa4-4d73-a431-417598d4883d",
      "metadata": {},
      "outputs": [],
      "source": [
        "matrix = np.asarray(matrix)\n",
        "\n",
        "from sklearn.manifold import TSNE\n",
        "\n",
        "# Create a t-SNE model and transform the data\n",
        "tsne = TSNE(n_components=2, perplexity=10, random_state=42, init='random', learning_rate=200)\n",
        "vis_dims = tsne.fit_transform(matrix)\n",
        "vis_dims.shape"
      ]
    },
    {
      "cell_type": "markdown",
      "id": "ef965660-2716-4e25-891c-68f343623c1e",
      "metadata": {},
      "source": [
        "Install the Matplotlib library using the pip package manager, allowing for the visualization of data and plots in Python."
      ]
    },
    {
      "cell_type": "code",
      "execution_count": 13,
      "id": "56c18b49-6629-4de4-b3b0-5906725bcbbc",
      "metadata": {},
      "outputs": [],
      "source": [
        "!pip install matplotlib"
      ]
    },
    {
      "cell_type": "markdown",
      "id": "4392c11b-aca1-4533-bc5f-75737b266f42",
      "metadata": {},
      "source": [
        "Using Matplotlib to create a scatter plot visualizing the 2D representation of word embeddings obtained from t-SNE. The code iterates through each word in the DataFrame df, extracts its coordinates from vis_dims, and annotates the corresponding point on the scatter plot with the word label. Finally, the plot is displayed using `plt.show()`."
      ]
    },
    {
      "cell_type": "code",
      "execution_count": 14,
      "id": "aa99299a-039a-4b32-b915-dc2114d12e30",
      "metadata": {},
      "outputs": [],
      "source": [
        "import matplotlib.pyplot as plt\n",
        "import matplotlib\n",
        "import numpy as np\n",
        "\n",
        "labels = []\n",
        "x = [x for x,y in vis_dims]\n",
        "y = [y for x,y in vis_dims]\n",
        "for word in range(len(df)):\n",
        "    first_value = df['word'].iat[word]\n",
        "    labels.append(first_value)\n",
        "\n",
        "print(len(df))\n",
        "\n",
        "plt.scatter(x, y,alpha=0.3)\n",
        "\n",
        "for i in range(len(x)):\n",
        "    plt.scatter(x[i],y[i])\n",
        "    plt.annotate(\n",
        "        labels[i],\n",
        "        xy=(x[i], y[i]),\n",
        "        xytext=(5, 2),\n",
        "        textcoords='offset points',\n",
        "        ha='right',\n",
        "        va='bottom',\n",
        "    )\n",
        "\n",
        "plt.show();"
      ]
    },
    {
      "cell_type": "markdown",
      "id": "083a3e4a-cb9c-4079-bcfa-94e06d6887bc",
      "metadata": {},
      "source": [
        "You can insert words of your choice in the <i>  words </i> table  and execute all the cells above to visualize the semantic patterns."
      ]
    },
    {
      "cell_type": "markdown",
      "id": "75a661ea-d447-4a7d-9379-c80730e6a14e",
      "metadata": {},
      "source": [
        "## 9. Introducing Vector Datatype"
      ]
    },
    {
      "cell_type": "markdown",
      "id": "5917b0d2-1ffb-48cf-b15e-d00fc3b27c1b",
      "metadata": {},
      "source": [
        "We can see below `word_embeddings` column is `blob` datatype"
      ]
    },
    {
      "cell_type": "code",
      "execution_count": 15,
      "id": "5d299e2b-d816-47b4-9b34-4ffdf60a2242",
      "metadata": {},
      "outputs": [],
      "source": [
        "%%sql\n",
        "DESC words_table;"
      ]
    },
    {
      "cell_type": "code",
      "execution_count": 16,
      "id": "18ccbbf4-1de4-4e73-bba6-053310566e51",
      "metadata": {},
      "outputs": [],
      "source": [
        "%%sql\n",
        "SELECT word, word_embeddings FROM words_table LIMIT 2;"
      ]
    },
    {
      "cell_type": "markdown",
      "id": "ffe0ce17-9508-47ad-a239-41bacf09b8da",
      "metadata": {},
      "source": [
        "This below line of code executes a SQL query on the `words_table`, selecting the `word` column and the hexadecimal representation of the `word_embeddings` column for the first row in the table using the `limit 1` clause."
      ]
    },
    {
      "cell_type": "code",
      "execution_count": 17,
      "id": "60677964-d188-4d33-9dd4-b93f1e28a350",
      "metadata": {},
      "outputs": [],
      "source": [
        "%%sql\n",
        "SELECT word, HEX(word_embeddings) FROM words_table LIMIT 1;"
      ]
    },
    {
      "cell_type": "markdown",
      "id": "178899b6-9d0a-409b-aacb-9e05a2669136",
      "metadata": {},
      "source": [
        "Below query extracts the `word` column and unpacks the JSON array stored in the `word_embeddings` column for the first row in the `words_table`, providing a more readable representation of the word embeddings."
      ]
    },
    {
      "cell_type": "code",
      "execution_count": 18,
      "id": "3d54aa09-f2c5-4a9d-a3bb-72d993a84a07",
      "metadata": {},
      "outputs": [],
      "source": [
        "%%sql\n",
        "SELECT word, JSON_ARRAY_UNPACK(word_embeddings) FROM words_table LIMIT 1;"
      ]
    },
    {
      "cell_type": "markdown",
      "id": "60db6de5-0e1a-469e-bffc-b77c53cad9ee",
      "metadata": {},
      "source": [
        "## 10. Transition from BLOB to Vector datatype\n",
        "\n",
        "<p> 1. Add a new vector column to the right of the blob column.</p>\n",
        "<p> 2. Update the vector column with the data from the blob column.</p>\n",
        "<p> 3. Drop the blob column.</p>\n",
        "<p> 4. Rename the new vector column to the old blob column name. This will ensure any previous queries will still work, or at least require fewer changes.\n",
        "</p>"
      ]
    },
    {
      "cell_type": "code",
      "execution_count": 19,
      "id": "233bfe2c-e99c-4dd3-bf56-eafa923ba4d8",
      "metadata": {},
      "outputs": [],
      "source": [
        "%%sql\n",
        "SELECT VECTOR_NUM_ELEMENTS(word_embeddings) FROM words_table LIMIT 1;"
      ]
    },
    {
      "cell_type": "code",
      "execution_count": 20,
      "id": "b467da39-b9c4-4576-828e-135520713907",
      "metadata": {},
      "outputs": [],
      "source": [
        "%%sql\n",
        "ALTER TABLE words_table ADD COLUMN emb2 vector(384) AFTER word_embeddings;\n",
        "UPDATE words_table SET emb2=word_embeddings;"
      ]
    },
    {
      "cell_type": "code",
      "execution_count": 21,
      "id": "4288cee5-3dc0-4108-a272-287a1ffbbb01",
      "metadata": {},
      "outputs": [],
      "source": [
        "%%sql\n",
        "SELECT word, emb2, JSON_ARRAY_UNPACK(word_embeddings) FROM words_table LIMIT 1;"
      ]
    },
    {
      "cell_type": "code",
      "execution_count": 22,
      "id": "bf42a048-0a42-496d-8925-fbc6125316b4",
      "metadata": {},
      "outputs": [],
      "source": [
        "%%sql\n",
        "ALTER TABLE words_table DROP COLUMN word_embeddings;\n",
        "ALTER TABLE words_table CHANGE emb2 word_embeddings;"
      ]
    },
    {
      "cell_type": "code",
      "execution_count": 23,
      "id": "fef19d53-3f4e-4e75-a1ca-8328a5ae29a2",
      "metadata": {},
      "outputs": [],
      "source": [
        "%%sql\n",
        "DESC words_table;"
      ]
    },
    {
      "cell_type": "markdown",
      "id": "d906c5e5-bd11-4c4f-ba13-8b4a2a09c9d7",
      "metadata": {},
      "source": [
        "## 11. Semantic Search of the word -sunshine &#127774; using Infix Operator\n",
        "\n",
        "Performing a semantic search for the word 'sunshine' to find contextually similar or related words and phrases based on their semantic meanings rather than exact lexical matches.\n",
        "\n",
        "The infix operators `<*>` and `<->` can be used to  facilitate DOT_PRODUCT and EUCLIDEAN_DISTANCE operations, respectively, providing a more concise query syntax compared to using the existing built-in functions such as DOT_PRODUCT(a, b) and EUCLIDEAN_DISTANCE(a, b)."
      ]
    },
    {
      "cell_type": "code",
      "execution_count": 24,
      "id": "77bb3be5-83c0-4413-87fa-36fc245856d7",
      "metadata": {},
      "outputs": [],
      "source": [
        "%%sql\n",
        "SELECT word_embeddings INTO @c from words_table WHERE word LIKE 'sunshine%';\n",
        "SELECT word, (@c<*>word_embeddings) AS score\n",
        "    FROM words_table\n",
        "    ORDER BY score desc\n",
        "    LIMIT 3;"
      ]
    },
    {
      "cell_type": "markdown",
      "id": "9bd7668c-a84d-42ff-962b-ead151d81b9a",
      "metadata": {},
      "source": [
        "## Clean up"
      ]
    },
    {
      "cell_type": "markdown",
      "id": "72e79695-e9a0-4e09-817e-8963a9dcd340",
      "metadata": {},
      "source": [
        "<div class=\"alert alert-block alert-warning\">\n",
        "    <b class=\"fa fa-solid fa-exclamation-circle\"></b>\n",
        "    <div>\n",
        "        <p><b>Action Required</b></p>\n",
        "        <p> If you created a new database in your Standard or Premium Workspace, you can drop the database by running the cell below. Note: this will not drop your database for Free Starter Workspaces. To drop a Free Starter Workspace, terminate the Workspace using the UI. </p>\n",
        "    </div>\n",
        "</div>"
      ]
    },
    {
      "cell_type": "code",
      "execution_count": 25,
      "id": "a7ea4778-2df1-441d-9464-1255116130ff",
      "metadata": {},
      "outputs": [],
      "source": [
        "shared_tier_check = %sql show variables like 'is_shared_tier'\n",
        "if not shared_tier_check or shared_tier_check[0][1] == 'OFF':\n",
        "    %sql DROP DATABASE IF EXISTS db_vector;"
      ]
    },
    {
      "cell_type": "markdown",
      "id": "f0c4e53f-b952-4d79-b851-f4c9222a928a",
      "metadata": {},
      "source": [
        "<div id=\"singlestore-footer\" style=\"background-color: rgba(194, 193, 199, 0.25); height:2px; margin-bottom:10px\"></div>\n",
        "<div><img src=\"https://raw.githubusercontent.com/singlestore-labs/spaces-notebooks/master/common/images/singlestore-logo-grey.png\" style=\"padding: 0px; margin: 0px; height: 24px\"/></div>"
      ]
    }
  ],
  "metadata": {
    "kernelspec": {
      "display_name": "Python 3",
      "language": "python",
      "name": "python3"
    },
    "language_info": {
      "codemirror_mode": {
        "name": "ipython",
        "version": 3
      },
      "file_extension": ".py",
      "mimetype": "text/x-python",
      "name": "python",
      "nbconvert_exporter": "python",
      "pygments_lexer": "ipython3",
      "version": "3.8.8"
    }
  },
  "nbformat": 4,
  "nbformat_minor": 5
}
