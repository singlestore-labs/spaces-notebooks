{
  "cells": [
    {
      "cell_type": "markdown",
      "id": "",
      "metadata": {},
      "source": [
        "<div id=\"singlestore-header\" style=\"display: flex; background-color: rgba(235, 249, 245, 0.25); padding: 5px;\">\n",
        "    <div id=\"icon-image\" style=\"width: 90px; height: 90px;\">\n",
        "        <img width=\"100%\" height=\"100%\" src=\"https://raw.githubusercontent.com/singlestore-labs/spaces-notebooks/master/common/images/header-icons/database.png\" />\n",
        "    </div>\n",
        "    <div id=\"text\" style=\"padding: 5px; margin-left: 10px;\">\n",
        "        <div id=\"badge\" style=\"display: inline-block; background-color: rgba(0, 0, 0, 0.15); border-radius: 4px; padding: 4px 8px; align-items: center; margin-top: 6px; margin-bottom: -2px; font-size: 80%\">SingleStore Notebooks</div>\n",
        "        <h1 style=\"font-weight: 500; margin: 8px 0 0 4px;\">Sales Data Analysis Dataset From Amazon S3</h1>\n",
        "    </div>\n",
        "</div>"
      ]
    },
    {
      "cell_type": "markdown",
      "id": "",
      "metadata": {},
      "source": [
        "<div class=\"alert alert-block alert-warning\">\n",
        "    <b class=\"fa fa-solid fa-exclamation-circle\"></b>\n",
        "    <div>\n",
        "        <p><b>Note</b></p>\n",
        "        <p>This notebook can be run on a Free Starter Workspace. To create a Free Starter Workspace navigate to <tt>Start</tt> using the left nav. You can also use your existing Standard or Premium workspace with this Notebook.</p>\n",
        "    </div>\n",
        "</div>"
      ]
    },
    {
      "attachments": {},
      "cell_type": "markdown",
      "id": "",
      "metadata": {},
      "source": [
        "<div class=\"alert alert-block alert-warning\">\n",
        "    <b class=\"fa fa-solid fa-exclamation-circle\"></b>\n",
        "    <div>\n",
        "        <p><b>Note</b></p>\n",
        "        <p>This notebook creates a pipeline, data may take up to 1 minute to populate</p>\n",
        "    </div>\n",
        "</div>"
      ]
    },
    {
      "attachments": {},
      "cell_type": "markdown",
      "id": "",
      "metadata": {},
      "source": [
        "The Sales Data Analysis use case demonstrates how to leverage SingleStore's powerful querying capabilities in a business intelligence context like analyzing sales data stored in a CSV file.\n",
        "\n",
        "This demo showcases typical operations that businesses perform to gain insights from their sales data, such as:\n",
        "- calculating total sales\n",
        "- identifying top-selling products\n",
        "- analyzing sales trends over time.\n",
        "\n",
        "By working through this example, new users will:\n",
        "- learn how to load CSV data into Singlestore from S3\n",
        "- execute aggregate functions\n",
        "- perform time-series analysis"
      ]
    },
    {
      "attachments": {},
      "cell_type": "markdown",
      "id": "",
      "metadata": {},
      "source": [
        "<h3>Demo Flow</h3>"
      ]
    },
    {
      "attachments": {},
      "cell_type": "markdown",
      "id": "",
      "metadata": {},
      "source": [
        "<img src=https://singlestoreloaddata.s3.ap-south-1.amazonaws.com/images/LoadDataCSV.png width=\"100%\" hight=\"50%\"/>"
      ]
    },
    {
      "attachments": {},
      "cell_type": "markdown",
      "id": "",
      "metadata": {},
      "source": [
        "## How to use this notebook"
      ]
    },
    {
      "attachments": {},
      "cell_type": "markdown",
      "id": "",
      "metadata": {},
      "source": [
        "<img src=https://singlestoreloaddata.s3.ap-south-1.amazonaws.com/images/notebookuse.gif width=\"75%\" hight=\"50%\"/>"
      ]
    },
    {
      "attachments": {},
      "cell_type": "markdown",
      "id": "",
      "metadata": {},
      "source": [
        "## Create a database (You can skip this Step if you are using Free Starter Tier)\n",
        "\n",
        "We need to create a database to work with in the following examples."
      ]
    },
    {
      "cell_type": "code",
      "execution_count": 1,
      "id": "",
      "metadata": {},
      "outputs": [],
      "source": [
        "shared_tier_check = %sql show variables like 'is_shared_tier'\n",
        "if not shared_tier_check or shared_tier_check[0][1] == 'OFF':\n",
        "    %sql DROP DATABASE IF EXISTS SalesAnalysis;\n",
        "    %sql CREATE DATABASE SalesAnalysis;"
      ]
    },
    {
      "attachments": {},
      "cell_type": "markdown",
      "id": "",
      "metadata": {},
      "source": [
        "<h3>Create Table</h3>"
      ]
    },
    {
      "cell_type": "code",
      "execution_count": 2,
      "id": "",
      "metadata": {},
      "outputs": [],
      "source": [
        "%%sql\n",
        "CREATE TABLE `SalesData` (\n",
        "  `Date` text CHARACTER SET utf8mb4 COLLATE utf8mb4_general_ci,\n",
        "  `Store_ID` bigint(20) DEFAULT NULL,\n",
        "  `ProductID` text CHARACTER SET utf8mb4 COLLATE utf8mb4_general_ci,\n",
        "  `Product_Name` text CHARACTER SET utf8mb4 COLLATE utf8mb4_general_ci,\n",
        "  `Product_Category` text CHARACTER SET utf8mb4 COLLATE utf8mb4_general_ci,\n",
        "  `Quantity_Sold` bigint(20) DEFAULT NULL,\n",
        "  `Price` float DEFAULT NULL,\n",
        "  `Total_Sales` float DEFAULT NULL\n",
        ")"
      ]
    },
    {
      "attachments": {},
      "cell_type": "markdown",
      "id": "",
      "metadata": {},
      "source": [
        "<h3>Load Data Using Pipelines</h3>"
      ]
    },
    {
      "cell_type": "code",
      "execution_count": 3,
      "id": "",
      "metadata": {},
      "outputs": [],
      "source": [
        "%%sql\n",
        "CREATE PIPELINE SalesData_Pipeline AS\n",
        "LOAD DATA S3 's3://singlestoreloaddata/SalesData/*.csv'\n",
        "CONFIG '{ \\\"region\\\": \\\"ap-south-1\\\" }'\n",
        "/*\n",
        "CREDENTIALS '{\"aws_access_key_id\": \"<access key id>\",\n",
        "               \"aws_secret_access_key\": \"<access_secret_key>\"}'\n",
        "               */\n",
        "INTO TABLE SalesData\n",
        "FIELDS TERMINATED BY ','\n",
        "LINES TERMINATED BY '\\n'\n",
        "IGNORE 1 lines;\n",
        "\n",
        "\n",
        "START PIPELINE SalesData_Pipeline;"
      ]
    },
    {
      "attachments": {},
      "cell_type": "markdown",
      "id": "",
      "metadata": {},
      "source": [
        "### Data may take couple of seconds to load after pipeline is started, rerun cell to verify"
      ]
    },
    {
      "cell_type": "code",
      "execution_count": 4,
      "id": "",
      "metadata": {},
      "outputs": [],
      "source": [
        "%%sql\n",
        "SELECT count(*) FROM SalesData"
      ]
    },
    {
      "attachments": {},
      "cell_type": "markdown",
      "id": "",
      "metadata": {},
      "source": [
        "<h3>Sample Queries</h3>\n",
        "\n",
        "We will try to execute some Analytical Queries"
      ]
    },
    {
      "attachments": {},
      "cell_type": "markdown",
      "id": "",
      "metadata": {},
      "source": [
        "<b>Top-Selling Products"
      ]
    },
    {
      "cell_type": "code",
      "execution_count": 5,
      "id": "",
      "metadata": {},
      "outputs": [],
      "source": [
        "%%sql\n",
        "SELECT  product_name, SUM(quantity_sold) AS total_quantity_sold FROM SalesData\n",
        "    GROUP BY  product_name ORDER BY total_quantity_sold DESC LIMIT 5;"
      ]
    },
    {
      "attachments": {},
      "cell_type": "markdown",
      "id": "",
      "metadata": {},
      "source": [
        "<b>Sales Trends Over Time"
      ]
    },
    {
      "cell_type": "code",
      "execution_count": 6,
      "id": "",
      "metadata": {},
      "outputs": [],
      "source": [
        "%%sql\n",
        "SELECT date, SUM(total_sales) AS total_sales FROM SalesData\n",
        "GROUP BY date ORDER BY total_sales desc limit 5;"
      ]
    },
    {
      "attachments": {},
      "cell_type": "markdown",
      "id": "",
      "metadata": {},
      "source": [
        "<b>Total Sales by Store"
      ]
    },
    {
      "cell_type": "code",
      "execution_count": 7,
      "id": "",
      "metadata": {},
      "outputs": [],
      "source": [
        "%%sql\n",
        "SELECT  Store_ID, SUM(total_sales) AS total_sales FROM SalesData\n",
        "GROUP BY  Store_ID ORDER BY total_sales DESC limit 5;"
      ]
    },
    {
      "attachments": {},
      "cell_type": "markdown",
      "id": "",
      "metadata": {},
      "source": [
        "<b>Sales Contribution by Product (Percentage)"
      ]
    },
    {
      "cell_type": "code",
      "execution_count": 8,
      "id": "",
      "metadata": {},
      "outputs": [],
      "source": [
        "%%sql\n",
        "SELECT product_name, SUM(total_sales) * 100.0 / (SELECT SUM(total_sales) FROM SalesData) AS sales_percentage FROM SalesData\n",
        "    GROUP BY product_name ORDER BY sales_percentage DESC limit 5;"
      ]
    },
    {
      "attachments": {},
      "cell_type": "markdown",
      "id": "",
      "metadata": {},
      "source": [
        "<b>Top Days with Highest Sale</b>"
      ]
    },
    {
      "cell_type": "code",
      "execution_count": 9,
      "id": "",
      "metadata": {},
      "outputs": [],
      "source": [
        "%%sql\n",
        "SELECT date, SUM(total_sales) AS total_sales FROM SalesData\n",
        "    GROUP BY date ORDER BY total_sales DESC LIMIT 5;"
      ]
    },
    {
      "attachments": {},
      "cell_type": "markdown",
      "id": "",
      "metadata": {},
      "source": [
        "## Conclusion\n",
        "\n",
        "We have shown how to insert data from a Amazon S3 using `Pipelines` to SingleStoreDB. These techniques should enable you to\n",
        "integrate your Amazon S3 with SingleStoreDB."
      ]
    },
    {
      "attachments": {},
      "cell_type": "markdown",
      "id": "",
      "metadata": {},
      "source": [
        "## Clean up\n",
        "\n",
        "Remove the '#' to uncomment and execute the queries below to clean up the pipeline and table created."
      ]
    },
    {
      "attachments": {},
      "cell_type": "markdown",
      "id": "",
      "metadata": {},
      "source": [
        "#### Drop Pipeline"
      ]
    },
    {
      "cell_type": "code",
      "execution_count": 10,
      "id": "",
      "metadata": {},
      "outputs": [],
      "source": [
        "%%sql\n",
        "%%sql\n",
        "#STOP PIPELINE SalesData_Pipeline;\n",
        "\n",
        "#DROP PIPELINE SalesData_Pipeline;"
      ]
    },
    {
      "attachments": {},
      "cell_type": "markdown",
      "id": "",
      "metadata": {},
      "source": [
        "#### Drop Data"
      ]
    },
    {
      "cell_type": "code",
      "execution_count": 11,
      "id": "",
      "metadata": {},
      "outputs": [],
      "source": [
        "#shared_tier_check = %sql show variables like 'is_shared_tier'\n",
        "#if not shared_tier_check or shared_tier_check[0][1] == 'OFF':\n",
        "#    %sql DROP DATABASE IF EXISTS SalesAnalysis;\n",
        "#else:\n",
        "#    %sql DROP TABLE SalesData;"
      ]
    },
    {
      "cell_type": "markdown",
      "id": "",
      "metadata": {},
      "source": [
        "<div id=\"singlestore-footer\" style=\"background-color: rgba(194, 193, 199, 0.25); height:2px; margin-bottom:10px\"></div>\n",
        "<div><img src=\"https://raw.githubusercontent.com/singlestore-labs/spaces-notebooks/master/common/images/singlestore-logo-grey.png\" style=\"padding: 0px; margin: 0px; height: 24px\"/></div>"
      ]
    }
  ],
  "metadata": {
    "jupyterlab": {
      "notebooks": {
        "version_major": 6,
        "version_minor": 4
      }
    },
    "kernelspec": {
      "display_name": "Python 3 (ipykernel)",
      "language": "python",
      "name": "python3"
    },
    "language_info": {
      "codemirror_mode": {
        "name": "ipython",
        "version": 3
      },
      "file_extension": ".py",
      "mimetype": "text/x-python",
      "name": "python",
      "nbconvert_exporter": "python",
      "pygments_lexer": "ipython3",
      "version": "3.11.6"
    }
  },
  "nbformat": 4,
  "nbformat_minor": 5
}
