{
  "cells": [
    {
      "id": "0826a622",
      "cell_type": "markdown",
      "metadata": {},
      "source": [
        "<div id=\"singlestore-header\" style=\"display: flex; background-color: rgba(255, 182, 176, 0.25); padding: 5px;\">\n",
        "    <div id=\"icon-image\" style=\"width: 90px; height: 90px;\">\n",
        "        <img width=\"100%\" height=\"100%\" src=\"https://raw.githubusercontent.com/singlestore-labs/spaces-notebooks/master/common/images/header-icons/camera-movie.png\" />\n",
        "    </div>\n",
        "    <div id=\"text\" style=\"padding: 5px; margin-left: 10px;\">\n",
        "        <div id=\"badge\" style=\"display: inline-block; background-color: rgba(0, 0, 0, 0.15); border-radius: 4px; padding: 4px 8px; align-items: center; margin-top: 6px; margin-bottom: -2px; font-size: 80%\">SingleStore Notebooks</div>\n",
        "        <h1 style=\"font-weight: 500; margin: 8px 0 0 4px;\">Movie Recommendation</h1>\n",
        "    </div>\n",
        "</div>"
      ]
    },
    {
      "cell_type": "markdown",
      "metadata": {},
      "source": [
        "<div class=\"alert alert-block alert-info\">\n",
        "    <b class=\"fa fa-solid fa-info-circle\"></b>\n",
        "    <div>\n",
        "        <p><b>Note</b></p>\n",
        "        <p>This tutorial is meant for Standard & Premium Workspaces. You can't run this with a Free Starter Workspace due to restrictions on Storage. Create a Workspace using +group in the left nav & select Standard for this notebook. Gallery notebooks tagged with \"Starter\" are suitable to run on a Free Starter Workspace </p>\n",
        "    </div>\n",
        "</div>"
      ],
      "id": "bd3c1a79"
    },
    {
      "cell_type": "markdown",
      "metadata": {},
      "source": [
        "*Source*: [Full MovieLens 25M Dataset](https://grouplens.org/datasets/movielens/25m/) - [Appplication](https://movie-recommender-flask-t954.vercel.app/)\n",
        "\n",
        "This notebook demonstrates how SingleStoreDB helps you build a simple Movie Recommender System.\n",
        "\n",
        "<img src=https://raw.githubusercontent.com/singlestore-labs/spaces-notebooks/master/notebooks/movie-recommendation/images/database-tables.png width=\"1000\">"
      ],
      "id": "9039eecb"
    },
    {
      "cell_type": "markdown",
      "metadata": {},
      "source": [
        "## 1. Install required libraries\n",
        "\n",
        "Install the library for vectorizing the data (up to 2 minutes)."
      ],
      "id": "eee7cef6"
    },
    {
      "cell_type": "code",
      "execution_count": 1,
      "metadata": {},
      "outputs": [],
      "source": [
        "!pip install sentence-transformers --quiet"
      ],
      "id": "039f0b97"
    },
    {
      "cell_type": "markdown",
      "metadata": {},
      "source": [
        "## 2. Create database and ingest data"
      ],
      "id": "82ddb890"
    },
    {
      "cell_type": "markdown",
      "metadata": {},
      "source": [
        "Create the `movie_recommender` database."
      ],
      "id": "d3181151"
    },
    {
      "cell_type": "code",
      "execution_count": 2,
      "metadata": {},
      "outputs": [],
      "source": [
        "%%sql\n",
        "DROP DATABASE IF EXISTS movie_recommender;\n",
        "CREATE DATABASE IF NOT EXISTS movie_recommender;"
      ],
      "id": "3e763118"
    },
    {
      "cell_type": "markdown",
      "metadata": {},
      "source": [
        "<div class=\"alert alert-block alert-warning\">\n",
        "    <b class=\"fa fa-solid fa-exclamation-circle\"></b>\n",
        "    <div>\n",
        "        <p><b>Action Required</b></p>\n",
        "        <p>Make sure to select the <tt>movie_recommender</tt> database from the drop-down menu at the top of this notebook.\n",
        "        It updates the <tt>connection_url</tt> which is used by the <tt>%%sql</tt> magic command and SQLAlchemy to make connections to the selected database.</p>\n",
        "    </div>\n",
        "</div>"
      ],
      "id": "339bf265"
    },
    {
      "cell_type": "markdown",
      "metadata": {},
      "source": [
        "Create `tags` table and start pipeline."
      ],
      "id": "3fda9e9d"
    },
    {
      "cell_type": "code",
      "execution_count": 3,
      "metadata": {},
      "outputs": [],
      "source": [
        "%%sql\n",
        "CREATE TABLE IF NOT EXISTS tags (\n",
        "    `userId` bigint(20) NULL,\n",
        "    `movieId` bigint(20) NULL,\n",
        "    `tag` text CHARACTER SET utf8 COLLATE utf8_general_ci NULL,\n",
        "    `timestamp` bigint(20) NULL\n",
        ");\n",
        "\n",
        "CREATE PIPELINE tags\n",
        "    AS LOAD DATA S3 'studiotutorials/movielens/tags.csv'\n",
        "    CONFIG '{\\\"region\\\":\\\"us-east-1\\\", \\\"disable_gunzip\\\": false}'\n",
        "    BATCH_INTERVAL 2500\n",
        "    MAX_PARTITIONS_PER_BATCH 1\n",
        "    DISABLE OUT_OF_ORDER OPTIMIZATION\n",
        "    DISABLE OFFSETS METADATA GC\n",
        "    SKIP DUPLICATE KEY ERRORS\n",
        "    INTO TABLE `tags`\n",
        "    FIELDS TERMINATED BY ',' ENCLOSED BY '\"' ESCAPED BY '\\\\'\n",
        "    LINES TERMINATED BY '\\r\\n'\n",
        "    NULL DEFINED BY ''\n",
        "    IGNORE 1 LINES\n",
        "    (userId, movieId, tag, timestamp);\n",
        "\n",
        "START PIPELINE tags;"
      ],
      "id": "3e21f911"
    },
    {
      "cell_type": "markdown",
      "metadata": {},
      "source": [
        "Create `ratings` table and start pipeline."
      ],
      "id": "9321b7e3"
    },
    {
      "cell_type": "code",
      "execution_count": 4,
      "metadata": {},
      "outputs": [],
      "source": [
        "%%sql\n",
        "CREATE TABLE IF NOT EXISTS ratings (\n",
        "    userId bigint(20) DEFAULT NULL,\n",
        "    movieId bigint(20) DEFAULT NULL,\n",
        "    rating double DEFAULT NULL,\n",
        "    timestamp bigint(20) DEFAULT NULL\n",
        ");\n",
        "\n",
        "CREATE PIPELINE ratings\n",
        "    AS LOAD DATA S3 'studiotutorials/movielens/ratings.csv'\n",
        "    CONFIG '{\\\"region\\\":\\\"us-east-1\\\", \\\"disable_gunzip\\\": false}'\n",
        "    BATCH_INTERVAL 2500\n",
        "    MAX_PARTITIONS_PER_BATCH 1\n",
        "    DISABLE OUT_OF_ORDER OPTIMIZATION\n",
        "    DISABLE OFFSETS METADATA GC\n",
        "    SKIP DUPLICATE KEY ERRORS\n",
        "    INTO TABLE `ratings`\n",
        "    FIELDS TERMINATED BY ',' ENCLOSED BY '\"' ESCAPED BY '\\\\'\n",
        "    LINES TERMINATED BY '\\r\\n'\n",
        "    NULL DEFINED BY ''\n",
        "    IGNORE 1 LINES\n",
        "    (userId, movieId, rating, timestamp);\n",
        "\n",
        "START PIPELINE ratings;"
      ],
      "id": "fe23f570"
    },
    {
      "cell_type": "markdown",
      "metadata": {},
      "source": [
        "Create `movies` table and start pipeline."
      ],
      "id": "b23fd64b"
    },
    {
      "cell_type": "code",
      "execution_count": 5,
      "metadata": {},
      "outputs": [],
      "source": [
        "%%sql\n",
        "CREATE TABLE movies (\n",
        "    movieId bigint(20) DEFAULT NULL,\n",
        "    title text CHARACTER SET utf8 COLLATE utf8_general_ci,\n",
        "    genres text CHARACTER SET utf8 COLLATE utf8_general_ci,\n",
        "    FULLTEXT(title)\n",
        ");\n",
        "\n",
        "CREATE PIPELINE movies\n",
        "    AS LOAD DATA S3 'studiotutorials/movielens/movies.csv'\n",
        "    CONFIG '{\\\"region\\\":\\\"us-east-1\\\", \\\"disable_gunzip\\\": false}'\n",
        "    BATCH_INTERVAL 2500\n",
        "    MAX_PARTITIONS_PER_BATCH 1\n",
        "    DISABLE OUT_OF_ORDER OPTIMIZATION\n",
        "    DISABLE OFFSETS METADATA GC\n",
        "    SKIP DUPLICATE KEY ERRORS\n",
        "    INTO TABLE `movies`\n",
        "    FIELDS TERMINATED BY ',' ENCLOSED BY '\"' ESCAPED BY '\\\\'\n",
        "    LINES TERMINATED BY '\\r\\n'\n",
        "    NULL DEFINED BY ''\n",
        "    IGNORE 1 LINES\n",
        "    (movieId, title, genres);\n",
        "\n",
        "START PIPELINE movies;"
      ],
      "id": "f7e76f0f"
    },
    {
      "cell_type": "markdown",
      "metadata": {},
      "source": [
        "### Check that all the data has been loaded\n",
        "\n",
        "There should be 25m rows for ratings, 62k for movies and 1m for tags. If the values are less than that, try the query\n",
        "again in a few seconds, the pipelines are still running."
      ],
      "id": "25876eb6"
    },
    {
      "cell_type": "code",
      "execution_count": 6,
      "metadata": {},
      "outputs": [],
      "source": [
        "%%sql\n",
        "SELECT COUNT(*) AS count_rows FROM ratings\n",
        "UNION ALL\n",
        "SELECT COUNT(*) AS count_rows FROM movies\n",
        "UNION ALL\n",
        "SELECT COUNT(*) AS count_rows FROM tags"
      ],
      "id": "9b7d1d50"
    },
    {
      "cell_type": "markdown",
      "metadata": {},
      "source": [
        "### Concatenate `tags` and `movies` tables using all tags"
      ],
      "id": "3a2ee35a"
    },
    {
      "cell_type": "code",
      "execution_count": 7,
      "metadata": {},
      "outputs": [],
      "source": [
        "%%sql\n",
        "CREATE TABLE movies_with_tags AS\n",
        "    SELECT\n",
        "        m.movieId,\n",
        "        m.title,\n",
        "        m.genres,\n",
        "        GROUP_CONCAT(t.tag SEPARATOR ',') AS allTags\n",
        "    FROM movies m\n",
        "    LEFT JOIN tags t ON m.movieId = t.movieId\n",
        "    GROUP BY m.movieId, m.title, m.genres;"
      ],
      "id": "11de8ee9"
    },
    {
      "cell_type": "markdown",
      "metadata": {},
      "source": [
        "## 3. Vectorize data"
      ],
      "id": "8bd899ae"
    },
    {
      "cell_type": "markdown",
      "metadata": {},
      "source": [
        "Initialize sentence transformer."
      ],
      "id": "f4a0cd2d"
    },
    {
      "cell_type": "code",
      "execution_count": 8,
      "metadata": {},
      "outputs": [],
      "source": [
        "from sentence_transformers import SentenceTransformer\n",
        "\n",
        "model = SentenceTransformer('flax-sentence-embeddings/all_datasets_v3_mpnet-base')"
      ],
      "id": "fb22e686"
    },
    {
      "cell_type": "markdown",
      "metadata": {},
      "source": [
        "Query the `movies_with_tags` table and store the output in a variable named `result`. The `result <<` syntax in the\n",
        "`%%sql` line indicates that the output from the query should get stored under that variable name."
      ],
      "id": "80b88943"
    },
    {
      "cell_type": "code",
      "execution_count": 9,
      "metadata": {},
      "outputs": [],
      "source": [
        "%%sql result <<\n",
        "SELECT * FROM movies_with_tags"
      ],
      "id": "0ca4f33c"
    },
    {
      "cell_type": "markdown",
      "metadata": {},
      "source": [
        "Convert the result from the above SQL into a DataFrame and clean up quotes."
      ],
      "id": "5347eef3"
    },
    {
      "cell_type": "code",
      "execution_count": 10,
      "metadata": {},
      "outputs": [],
      "source": [
        "import pandas as pd\n",
        "\n",
        "df = pd.DataFrame(result)\n",
        "\n",
        "# Curate the special characters\n",
        "df['title'] = df['title'].str.replace('\"', '')\n",
        "df['allTags'] = df['allTags'].str.replace('\"', '').str.replace(\"'\", '')\n",
        "\n",
        "data = df.to_dict(orient='records')"
      ],
      "id": "4a33d614"
    },
    {
      "cell_type": "markdown",
      "metadata": {},
      "source": [
        "Check the first row of the list."
      ],
      "id": "17c90ea9"
    },
    {
      "cell_type": "code",
      "execution_count": 11,
      "metadata": {},
      "outputs": [],
      "source": [
        "data[0]"
      ],
      "id": "adeebd97"
    },
    {
      "cell_type": "markdown",
      "metadata": {},
      "source": [
        "Concatenate title and tags."
      ],
      "id": "de736010"
    },
    {
      "cell_type": "code",
      "execution_count": 12,
      "metadata": {},
      "outputs": [],
      "source": [
        "all_title_type_column = [f'{row[\"title\"]}-{row[\"allTags\"]}' if row[\"title\"] is not None else row[\"title\"] for row in data]"
      ],
      "id": "071d1141"
    },
    {
      "cell_type": "markdown",
      "metadata": {},
      "source": [
        "Create the embeddings for Title & Tag (~3 minutes)."
      ],
      "id": "e266fe5c"
    },
    {
      "cell_type": "code",
      "execution_count": 13,
      "metadata": {},
      "outputs": [],
      "source": [
        "# Remove [:3000] if you want to vectorize all rows (~60 minutes)\n",
        "all_embeddings = model.encode(all_title_type_column[:3000])\n",
        "all_embeddings.shape"
      ],
      "id": "5125a794"
    },
    {
      "cell_type": "markdown",
      "metadata": {},
      "source": [
        "Merge the original data with the vector data."
      ],
      "id": "97f49fdc"
    },
    {
      "cell_type": "code",
      "execution_count": 14,
      "metadata": {},
      "outputs": [],
      "source": [
        "# Remember the list will be only 3,000 elements\n",
        "for row, embedding in zip(data, all_embeddings):\n",
        "    row['embedding'] = embedding"
      ],
      "id": "05a56d9b"
    },
    {
      "cell_type": "code",
      "execution_count": 15,
      "metadata": {},
      "outputs": [],
      "source": [
        "data[0]"
      ],
      "id": "53c5cac8"
    },
    {
      "cell_type": "markdown",
      "metadata": {},
      "source": [
        "## 4. Create table for movie information and vectors"
      ],
      "id": "83ae8f78"
    },
    {
      "cell_type": "code",
      "execution_count": 16,
      "metadata": {},
      "outputs": [],
      "source": [
        "%%sql\n",
        "DROP TABLE IF EXISTS movie_with_tags_with_vectors;\n",
        "\n",
        "CREATE TABLE movie_with_tags_with_vectors (\n",
        "    movieId BIGINT(20) DEFAULT NULL,\n",
        "    title text CHARACTER SET utf8 COLLATE utf8_general_ci,\n",
        "    genres text CHARACTER SET utf8 COLLATE utf8_general_ci,\n",
        "    allTags longtext CHARACTER SET utf8mb4,\n",
        "    vector BLOB\n",
        ")"
      ],
      "id": "e90dfaf0"
    },
    {
      "cell_type": "markdown",
      "metadata": {},
      "source": [
        "Create a database connection using SQLAlchemy. We are going to use an SQLAlchemy connection here because one\n",
        "column of data is numpy arrays. The SingleStoreDB SQLAlchemy driver will automatically convert those to\n",
        "the correct binary format when uploading, so it's a bit more convenient than doing the conversions and\n",
        "formatting manually for the `%sql` magic command."
      ],
      "id": "d86c3ab9"
    },
    {
      "cell_type": "code",
      "execution_count": 17,
      "metadata": {},
      "outputs": [],
      "source": [
        "from singlestoredb import create_engine\n",
        "\n",
        "conn = create_engine().connect()"
      ],
      "id": "a0f60a5d"
    },
    {
      "cell_type": "markdown",
      "metadata": {},
      "source": [
        "Insert the data. Some rows might encounter errors due to unsupported characters."
      ],
      "id": "8d09c8e9"
    },
    {
      "cell_type": "code",
      "execution_count": 18,
      "metadata": {},
      "outputs": [],
      "source": [
        "import sqlalchemy as sa\n",
        "\n",
        "sql_query = sa.text('''\n",
        "    INSERT INTO movie_with_tags_with_vectors (\n",
        "        movieId,\n",
        "        title,\n",
        "        genres,\n",
        "        allTags,\n",
        "        vector\n",
        "    )\n",
        "    VALUES (\n",
        "        :movieId,\n",
        "        :title,\n",
        "        :genres,\n",
        "        :allTags,\n",
        "        :embedding\n",
        "    )\n",
        "    ''')\n",
        "\n",
        "conn.execute(sql_query, data[:3000])"
      ],
      "id": "857354ca"
    },
    {
      "cell_type": "markdown",
      "metadata": {},
      "source": [
        "## 5. Marrying Search \u2764\ufe0f Semantic Search \u2764\ufe0f Analytics"
      ],
      "id": "35d9e0ab"
    },
    {
      "cell_type": "markdown",
      "metadata": {},
      "source": [
        "### Build autocomplete search"
      ],
      "id": "f4d0f756"
    },
    {
      "cell_type": "markdown",
      "metadata": {},
      "source": [
        "This is en experimentat we started with to render a full text search."
      ],
      "id": "88fb5547"
    },
    {
      "cell_type": "code",
      "execution_count": 19,
      "metadata": {},
      "outputs": [],
      "source": [
        "%%sql\n",
        "WITH queryouter AS (\n",
        "                SELECT DISTINCT(title), movieId, MATCH(title) AGAINST ('Pocahontas*') as relevance\n",
        "                FROM movies\n",
        "                WHERE MATCH(title) AGAINST ('Pocahontas*')\n",
        "                ORDER BY relevance DESC\n",
        "                LIMIT 10)\n",
        "    SELECT title, movieId FROM queryouter;"
      ],
      "id": "d86ebf5b"
    },
    {
      "cell_type": "markdown",
      "metadata": {},
      "source": [
        "### Create user favorite movie tables"
      ],
      "id": "482c813e"
    },
    {
      "cell_type": "code",
      "execution_count": 20,
      "metadata": {},
      "outputs": [],
      "source": [
        "%%sql\n",
        "CREATE ROWSTORE TABLE IF NOT EXISTS user_choice (\n",
        "    userid text CHARACTER SET utf8 COLLATE utf8_general_ci,\n",
        "    title text CHARACTER SET utf8 COLLATE utf8_general_ci,\n",
        "    ts datetime DEFAULT NULL,\n",
        "    KEY userid (userid)\n",
        ")"
      ],
      "id": "67bc3465"
    },
    {
      "cell_type": "markdown",
      "metadata": {},
      "source": [
        "Enter dummy data for testing purposes."
      ],
      "id": "ee7b2569"
    },
    {
      "cell_type": "code",
      "execution_count": 21,
      "metadata": {},
      "outputs": [],
      "source": [
        "%%sql\n",
        "INSERT INTO user_choice (userid, title, ts)\n",
        "    VALUES ('user1', 'Zone 39 (1997)', '2022-01-01 00:00:00'),\n",
        "           ('user1', 'Star Trek II: The Wrath of Khan (1982)', '2022-01-01 00:00:00'),\n",
        "           ('user1', 'Giver, The (2014)', '2022-01-01 00:00:00');"
      ],
      "id": "cc8db25d"
    },
    {
      "cell_type": "markdown",
      "metadata": {},
      "source": [
        "### Build semantic search for a movie recommendation"
      ],
      "id": "549dd511"
    },
    {
      "cell_type": "code",
      "execution_count": 22,
      "metadata": {},
      "outputs": [],
      "source": [
        "%%sql\n",
        "WITH\n",
        "    table_match AS (\n",
        "        SELECT\n",
        "            m.title,\n",
        "            m.movieId,\n",
        "            m.vector\n",
        "        FROM\n",
        "            user_choice t\n",
        "            INNER JOIN movie_with_tags_with_vectors m ON m.title = t.title\n",
        "        WHERE\n",
        "            userid = 'user1'\n",
        "    ),\n",
        "    movie_pairs AS (\n",
        "        SELECT\n",
        "            m1.movieId AS movieId1,\n",
        "            m1.title AS title1,\n",
        "            m2.movieId AS movieId2,\n",
        "            m2.title AS title2,\n",
        "            DOT_PRODUCT(m1.vector, m2.vector) AS similarity\n",
        "        FROM\n",
        "            table_match m1\n",
        "            CROSS JOIN movie_with_tags_with_vectors m2\n",
        "        WHERE\n",
        "            m1.movieId != m2.movieId\n",
        "            AND NOT EXISTS (\n",
        "                SELECT\n",
        "                    1\n",
        "                FROM\n",
        "                    user_choice uc\n",
        "                WHERE\n",
        "                    uc.userid = 'user1'\n",
        "                    AND uc.title = m2.title\n",
        "            )\n",
        "    ),\n",
        "    movie_match AS (\n",
        "        SELECT\n",
        "            movieId1,\n",
        "            title1,\n",
        "            movieId2,\n",
        "            title2,\n",
        "            similarity\n",
        "        FROM\n",
        "            movie_pairs\n",
        "        ORDER BY\n",
        "            similarity DESC\n",
        "    ),\n",
        "    distinct_count AS (\n",
        "        SELECT DISTINCT\n",
        "            movieId2,\n",
        "            title2 AS Title,\n",
        "            ROUND(AVG(similarity), 4) AS Rating_Match\n",
        "        FROM\n",
        "            movie_match\n",
        "        GROUP BY\n",
        "            movieId2,\n",
        "            title2\n",
        "        ORDER BY\n",
        "            Rating_Match DESC\n",
        "    ),\n",
        "    average_ratings AS (\n",
        "        SELECT\n",
        "            movieId,\n",
        "            AVG(rating) AS Avg_Rating\n",
        "        FROM\n",
        "            ratings\n",
        "        GROUP BY\n",
        "            movieId\n",
        "    )\n",
        "SELECT\n",
        "    dc.Title,\n",
        "    dc.Rating_Match as 'Match Score',\n",
        "    ROUND(ar.Avg_Rating, 1) AS 'Average User Rating'\n",
        "FROM\n",
        "    distinct_count dc\n",
        "    JOIN average_ratings ar ON dc.movieId2 = ar.movieId\n",
        "ORDER BY\n",
        "    dc.Rating_Match DESC\n",
        "LIMIT\n",
        "    5;"
      ],
      "id": "1405d3b4"
    },
    {
      "cell_type": "markdown",
      "metadata": {},
      "source": [
        "## 6. What are you looking for?"
      ],
      "id": "db8a6e82"
    },
    {
      "cell_type": "code",
      "execution_count": 23,
      "metadata": {},
      "outputs": [],
      "source": [
        "search_embedding = model.encode(\"I want see a French comedy movie\")"
      ],
      "id": "9686be3c"
    },
    {
      "cell_type": "code",
      "execution_count": 24,
      "metadata": {},
      "outputs": [],
      "source": [
        "sql_query = sa.text('''\n",
        "    SELECT title, genres, DOT_PRODUCT(vector, :vector) AS score FROM movie_with_tags_with_vectors tv\n",
        "    ORDER BY Score DESC\n",
        "    LIMIT 10\n",
        "''')\n",
        "\n",
        "results = conn.execute(sql_query, dict(vector=search_embedding))\n",
        "\n",
        "for i, res in enumerate(results):\n",
        "    print(f\"{i + 1}: {res.title} {res.genres} Score: {res.score}\")"
      ],
      "id": "46366909"
    },
    {
      "cell_type": "markdown",
      "metadata": {},
      "source": [
        "## Clean up"
      ],
      "id": "f44af172"
    },
    {
      "cell_type": "code",
      "execution_count": 25,
      "metadata": {},
      "outputs": [],
      "source": [
        "%%sql\n",
        "DROP DATABASE IF EXISTS movie_recommender"
      ],
      "id": "88ced78a"
    },
    {
      "id": "f678873e",
      "cell_type": "markdown",
      "metadata": {},
      "source": [
        "<div id=\"singlestore-footer\" style=\"background-color: rgba(194, 193, 199, 0.25); height:2px; margin-bottom:10px\"></div>\n",
        "<div><img src=\"https://raw.githubusercontent.com/singlestore-labs/spaces-notebooks/master/common/images/singlestore-logo-grey.png\" style=\"padding: 0px; margin: 0px; height: 24px\"/></div>"
      ]
    }
  ],
  "metadata": {
    "kernelspec": {
      "display_name": "Python 3 (ipykernel)",
      "language": "python",
      "name": "python3"
    },
    "language_info": {
      "codemirror_mode": {
        "name": "ipython",
        "version": 3
      },
      "file_extension": ".py",
      "mimetype": "text/x-python",
      "name": "python",
      "nbconvert_exporter": "python",
      "pygments_lexer": "ipython3",
      "version": "3.11.4"
    }
  },
  "nbformat": 4,
  "nbformat_minor": 5
}
