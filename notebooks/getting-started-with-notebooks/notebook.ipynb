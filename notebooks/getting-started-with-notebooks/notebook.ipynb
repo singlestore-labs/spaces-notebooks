{
  "cells": [
    {
      "id": "359d556e",
      "cell_type": "markdown",
      "metadata": {},
      "source": [
        "<div id=\"singlestore-header\" style=\"display: flex; background-color: rgba(209, 153, 255, 0.25); padding: 5px;\">\n",
        "    <div id=\"icon-image\" style=\"width: 90px; height: 90px;\">\n",
        "        <img width=\"100%\" height=\"100%\" src=\"https://raw.githubusercontent.com/singlestore-labs/spaces-notebooks/master/common/images/header-icons/notes.png\" />\n",
        "    </div>\n",
        "    <div id=\"text\" style=\"padding: 5px; margin-left: 10px;\">\n",
        "        <div id=\"badge\" style=\"display: inline-block; background-color: rgba(0, 0, 0, 0.15); border-radius: 4px; padding: 4px 8px; align-items: center; margin-top: 6px; margin-bottom: -2px; font-size: 80%\">SingleStore Notebooks</div>\n",
        "        <h1 style=\"font-weight: 500; margin: 8px 0 0 4px;\">Getting Started with Notebooks</h1>\n",
        "    </div>\n",
        "</div>"
      ]
    },
    {
      "id": "7421ad91",
      "cell_type": "markdown",
      "metadata": {},
      "source": [
        "<div class=\"alert alert-block alert-warning\">\n",
        "    <b class=\"fa fa-solid fa-exclamation-circle\"></b>\n",
        "    <div>\n",
        "        <p><b>Note</b></p>\n",
        "        <p>This notebook can be run on a Free Starter Workspace. To create a Free Starter Workspace navigate to <tt>Start</tt> using the left nav. You can also use your existing Standard or Premium workspace with this Notebook.</p>\n",
        "    </div>\n",
        "</div>"
      ]
    },
    {
      "cell_type": "markdown",
      "metadata": {},
      "source": [
        "<table style=\"border: 0; border-spacing: 0; width: 100%; background-color: #03010D\"><tr>\n",
        "    <td style=\"padding: 0; margin: 0; background-color: #03010D; width: 33%; text-align: center\"><img src=\"https://raw.githubusercontent.com/singlestore-labs/spaces-notebooks/master/common/images/singlestore-logo-vertical.png\" style=\"height: 200px;\"/></td>\n",
        "    <td style=\"padding: 0; margin: 0; width: 66%; background-color: #03010D; text-align: right\"><img src=\"https://raw.githubusercontent.com/singlestore-labs/spaces-notebooks/master/common/images/singlestore-jupyter.png\" style=\"height: 250px\"/></td>\n",
        "</tr></table>"
      ],
      "id": "9922b829"
    },
    {
      "cell_type": "markdown",
      "metadata": {},
      "source": [
        "## What you will learn in this notebook:\n",
        "\n",
        "1. Load a CSV file from our Github Repo [Python]\n",
        "2. Ingest that file into a SingleStoreDB without defining the schema [Python]\n",
        "3. Interact natively with the database using SQL [SQL]\n",
        "4. Convert results to a DataFrame and visualize results with Plotly [Python]\n",
        "\n",
        "## Questions?\n",
        "\n",
        "Reach out to us through our [forum](https://www.singlestore.com/forum)."
      ],
      "id": "150affef"
    },
    {
      "cell_type": "markdown",
      "metadata": {},
      "source": [
        "## Enhance your notebooks with visualizations"
      ],
      "id": "cc215d0f"
    },
    {
      "cell_type": "markdown",
      "metadata": {},
      "source": [
        "## 1. Import libraries for reading data into a DataFrame\n",
        "\n",
        "Our data set contains geographic data, so we also install [Shapely](https://shapely.readthedocs.io/en/stable/)\n",
        "to store that data in Shapely geometry objects."
      ],
      "id": "7ded7bfb"
    },
    {
      "cell_type": "code",
      "execution_count": 1,
      "metadata": {},
      "outputs": [],
      "source": [
        "!pip3 install shapely --quiet\n",
        "\n",
        "import pandas as pd\n",
        "import shapely.wkt"
      ],
      "id": "8019c71f"
    },
    {
      "cell_type": "markdown",
      "metadata": {},
      "source": [
        "## 2. Load a csv file hosted in Github using Python\n",
        "\n",
        "Notice that we are using the `dtype=`, `parse_dates=`, and `converters=` options of the `read_csv` method to\n",
        "convert specific columns into various data types, including geographic data in the `business_location` column.\n",
        "See the [`read_csv`](https://pandas.pydata.org/pandas-docs/stable/reference/api/pandas.read_csv.html) documentation\n",
        "for more information."
      ],
      "id": "03190080"
    },
    {
      "cell_type": "code",
      "execution_count": 2,
      "metadata": {},
      "outputs": [],
      "source": [
        "url = 'https://raw.githubusercontent.com/singlestore-labs/singlestoredb-samples/main/' + \\\n",
        "      'Sample%20datasets/csv/Restaurant_Scores_LIVES_Standard.csv'"
      ],
      "id": "e498faa7"
    },
    {
      "cell_type": "code",
      "execution_count": 3,
      "metadata": {},
      "outputs": [],
      "source": [
        "def str_to_shapely(x: str) -> shapely.geometry.Point | None:\n",
        "    \"\"\"Convert a WKT string to a shapely object while handling NULLs.\"\"\"\n",
        "    return shapely.wkt.loads(x) if x else None\n",
        "\n",
        "\n",
        "# Read URL directly using pd.read_csv\n",
        "df = pd.read_csv(url, index_col=0,\n",
        "                 # Use parse_date=, dtype=, and converters= to specify explicit data types\n",
        "                 parse_dates=['inspection_date'],\n",
        "                 date_format='%m/%d/%Y %H:%M:%S %p',\n",
        "                 dtype=dict(business_id=int, business_phone_number=str, business_postal_code=str, inspection_score=float),\n",
        "                 converters=dict(business_location=str_to_shapely))\n",
        "df"
      ],
      "id": "4494b3cd"
    },
    {
      "cell_type": "markdown",
      "metadata": {},
      "source": [
        "Display the data types in the resulting DataFrame. Note that any objects that pandas does not support natively (e.g., strings, blobs, shapely geometries, etc.) show up as `object`."
      ],
      "id": "efad9e64"
    },
    {
      "cell_type": "code",
      "execution_count": 4,
      "metadata": {},
      "outputs": [],
      "source": [
        "df.dtypes"
      ],
      "id": "989ffbe3"
    },
    {
      "cell_type": "markdown",
      "metadata": {},
      "source": [
        "<div class=\"alert alert-block alert-warning\">\n",
        "    <b class=\"fa fa-solid fa-exclamation-circle\"></b>\n",
        "    <div>\n",
        "        <p><b>Action Required</b></p>\n",
        "        <p> If you have a Free Starter Workspace deployed already, select the database from drop-down menu at the top of this notebook. It updates the <tt>connection_url</tt> to connect to that database.</p>\n",
        "    </div>\n",
        "</div>"
      ],
      "id": "8ee45846"
    },
    {
      "cell_type": "markdown",
      "metadata": {},
      "source": [
        "## 3. Ingest a DataFrame in a SingleStoreDB table"
      ],
      "id": "210bbda1"
    },
    {
      "cell_type": "markdown",
      "metadata": {},
      "source": [
        "1. Create the database\n",
        "2. Import the library to connect to the database\n",
        "3. Create the connection to the library\n",
        "4. Ingest the dataframe to the newly created database"
      ],
      "id": "96fa2c5a"
    },
    {
      "cell_type": "markdown",
      "metadata": {},
      "source": [
        "Set the database name in a variable. It will be used in subsequent queries."
      ],
      "id": "fba58fb6"
    },
    {
      "cell_type": "markdown",
      "metadata": {},
      "source": [
        "Here we are using the `database_name` variable in a `%%sql` cell. The syntax for including Python variables\n",
        "is to surround the variable name with `{{ ... }}`."
      ],
      "id": "11f05328"
    },
    {
      "cell_type": "code",
      "execution_count": 5,
      "metadata": {},
      "outputs": [],
      "source": [
        "shared_tier_check = %sql show variables like 'is_shared_tier'\n",
        "if not shared_tier_check or shared_tier_check[0][1] == 'OFF':\n",
        "    database_name = 'getting_started_notebook'\n",
        "    %sql DROP DATABASE IF EXISTS {{database_name}};\n",
        "    %sql CREATE DATABASE {{database_name}};\n",
        "else:\n",
        "    current_database = %sql SELECT DATABASE() as CurrentDatabase\n",
        "    database_name = current_database[0][0]"
      ],
      "id": "69e18dfb"
    },
    {
      "cell_type": "markdown",
      "metadata": {},
      "source": [
        "<div class=\"alert alert-block alert-warning\">\n",
        "    <b class=\"fa fa-solid fa-exclamation-circle\"></b>\n",
        "    <div>\n",
        "        <p><b>Action Required</b></p>\n",
        "        <p> Make sure to select a database from the drop-down menu at the top of this notebook. It updates the <tt>connection_url</tt>  to connect to that database.</p>\n",
        "    </div>\n",
        "</div>"
      ],
      "id": "961afa0b"
    },
    {
      "cell_type": "markdown",
      "metadata": {},
      "source": [
        "We can use SQLAlchemy and pandas to upload a DataFrame. Note that if the table does not exist, the data types will\n",
        "be inferred from the data. This may not result in the exact types that you desire. You can define the table in\n",
        "the database before uploading to get the exact types you want.\n",
        "\n",
        "If you get an error about the database not being selected, that simply means that your `connection_url` does not\n",
        "contain a specific database to connect to. You can use the drop-down menu at the top of this notebook (immediately\n",
        "under the title) to select a database to work with. Changing the selection in the drop-down menu also updates\n",
        "the `connection_url` variable."
      ],
      "id": "1f131f96"
    },
    {
      "cell_type": "code",
      "execution_count": 6,
      "metadata": {},
      "outputs": [],
      "source": [
        "import sqlalchemy as sa\n",
        "\n",
        "# Create a SQLAlchemy engine and connect\n",
        "db_connection = sa.create_engine(connection_url).connect()"
      ],
      "id": "eb4e912b"
    },
    {
      "cell_type": "markdown",
      "metadata": {},
      "source": [
        "The SingleStoreDB Python package also adds a convenience function for SQLAlchemy connections\n",
        "without using the `connection_url`. It automatically gets the connection information from\n",
        "the `SINGLESTOREDB_URL` environment variable."
      ],
      "id": "90482136"
    },
    {
      "cell_type": "code",
      "execution_count": 7,
      "metadata": {},
      "outputs": [],
      "source": [
        "import singlestoredb as s2\n",
        "\n",
        "# Create a SQLAlchemy engine and connect, without having to specify the connection URL\n",
        "db_connection = s2.create_engine().connect()\n",
        "\n",
        "# Upload the DataFrame\n",
        "df.to_sql('sf_restaurant_scores', con=db_connection, if_exists='append', chunksize=1000)"
      ],
      "id": "4168ceb8"
    },
    {
      "cell_type": "markdown",
      "metadata": {},
      "source": [
        "## 4. Interact natively with the database using SQL"
      ],
      "id": "05dd0fa8"
    },
    {
      "cell_type": "markdown",
      "metadata": {},
      "source": [
        "1. Read the top 10 rows from the table\n",
        "2. Alter the table to get the date in a date format, not string\n",
        "3. Read the number of restaurant inspections over the time in San Francisco"
      ],
      "id": "63c38ba1"
    },
    {
      "cell_type": "code",
      "execution_count": 8,
      "metadata": {},
      "outputs": [],
      "source": [
        "%%sql\n",
        "SELECT * FROM {{database_name}}.sf_restaurant_scores LIMIT 10;"
      ],
      "id": "f79b3f45"
    },
    {
      "cell_type": "markdown",
      "metadata": {},
      "source": [
        "In the code block below, we use the `result1 <<` syntax on the `%%sql` line to store the result of the SQL\n",
        "operation into a variable which can be used later. As with other Jupyter notebooks, you can always get the value\n",
        "of the last executed cell in the `_` (underscore) variable, but setting a specifc variable name to use is generally\n",
        "a safer way to retrieve results."
      ],
      "id": "acc21f0d"
    },
    {
      "cell_type": "code",
      "execution_count": 9,
      "metadata": {},
      "outputs": [],
      "source": [
        "%%sql result1 <<\n",
        "SELECT\n",
        "    DATE_TRUNC('month', inspection_date) AS month,\n",
        "    COUNT(*) AS count_inspection\n",
        "FROM\n",
        "    {{database_name}}.sf_restaurant_scores\n",
        "GROUP BY\n",
        "    MONTH\n",
        "ORDER BY\n",
        "    MONTH DESC;"
      ],
      "id": "6d45915f"
    },
    {
      "cell_type": "markdown",
      "metadata": {},
      "source": [
        "The output of a `%%sql` cell is a `ResultSet` which contains methods for converting to various other data types (e.g., `csv`, `dicts`, `DataFrame`, `PolarsDataFrame`). It is also possible to convert to a DataFrame by passing a `ResultSet` object to the DataFrame\n",
        "constructor as we'll see below."
      ],
      "id": "ee90bcf4"
    },
    {
      "cell_type": "code",
      "execution_count": 10,
      "metadata": {},
      "outputs": [],
      "source": [
        "type(result1)"
      ],
      "id": "5ecfaa34"
    },
    {
      "cell_type": "markdown",
      "metadata": {},
      "source": [
        "## 5. Visualize with Plotly"
      ],
      "id": "facf96ae"
    },
    {
      "cell_type": "markdown",
      "metadata": {},
      "source": [
        "We are using [Plotly](https://plotly.com) to visualize the data in `result1`. The first parameter of the\n",
        "`bar` function requires a DataFrame, so we'll convert `result1` to a DataFrame before calling `bar`."
      ],
      "id": "3a9fec49"
    },
    {
      "cell_type": "code",
      "execution_count": 11,
      "metadata": {},
      "outputs": [],
      "source": [
        "result1_df = pd.DataFrame(result1)\n",
        "result1_df[:5]"
      ],
      "id": "16372f39"
    },
    {
      "cell_type": "code",
      "execution_count": 12,
      "metadata": {},
      "outputs": [],
      "source": [
        "import plotly.express as px\n",
        "\n",
        "px.bar(result1_df, x='month', y='count_inspection', title='Inspections by Month')"
      ],
      "id": "cdb77c14"
    },
    {
      "cell_type": "markdown",
      "metadata": {},
      "source": [
        "## 6. Cleanup database"
      ],
      "id": "15ed2dde"
    },
    {
      "cell_type": "markdown",
      "metadata": {},
      "source": [
        "<div class=\"alert alert-block alert-warning\">\n",
        "    <b class=\"fa fa-solid fa-exclamation-circle\"></b>\n",
        "    <div>\n",
        "        <p><b>Action Required</b></p>\n",
        "        <p> If you created a new database in your Standard or Premium Workspace, you can drop the database by running the cell below. Note: this will not drop your database for Free Starter Workspaces. To drop a Free Starter Workspace, terminate the Workspace using the UI. </p>\n",
        "    </div>\n",
        "</div>"
      ],
      "id": "d74f75d2"
    },
    {
      "cell_type": "code",
      "execution_count": 13,
      "metadata": {},
      "outputs": [],
      "source": [
        "shared_tier_check = %sql show variables like 'is_shared_tier'\n",
        "if not shared_tier_check or shared_tier_check[0][1] == 'OFF':\n",
        "    %sql DROP DATABASE IF EXISTS {{database_name}};"
      ],
      "id": "f6557a14"
    },
    {
      "id": "f0820d14",
      "cell_type": "markdown",
      "metadata": {},
      "source": [
        "<div id=\"singlestore-footer\" style=\"background-color: rgba(194, 193, 199, 0.25); height:2px; margin-bottom:10px\"></div>\n",
        "<div><img src=\"https://raw.githubusercontent.com/singlestore-labs/spaces-notebooks/master/common/images/singlestore-logo-grey.png\" style=\"padding: 0px; margin: 0px; height: 24px\"/></div>"
      ]
    }
  ],
  "metadata": {
    "kernelspec": {
      "display_name": "Python 3 (ipykernel)",
      "language": "python",
      "name": "python3"
    },
    "language_info": {
      "codemirror_mode": {
        "name": "ipython",
        "version": 3
      },
      "file_extension": ".py",
      "mimetype": "text/x-python",
      "name": "python",
      "nbconvert_exporter": "python",
      "pygments_lexer": "ipython3",
      "version": "3.11.4"
    }
  },
  "nbformat": 4,
  "nbformat_minor": 5
}
