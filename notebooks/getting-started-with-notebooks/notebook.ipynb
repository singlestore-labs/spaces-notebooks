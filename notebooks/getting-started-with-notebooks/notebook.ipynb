{
  "cells": [
    {
      "cell_type": "markdown",
      "id": "a0efb393-2a46-4833-b5cf-8f048d9695b0",
      "metadata": {},
      "source": [
        "<div id=\"singlestore-header\" style=\"display: flex; background-color: rgba(209, 153, 255, 0.25); padding: 5px;\">\n",
        "    <div id=\"icon-image\" style=\"width: 90px; height: 90px;\">\n",
        "        <img width=\"100%\" height=\"100%\" src=\"https://raw.githubusercontent.com/singlestore-labs/spaces-notebooks/master/common/images/header-icons/notes.png\" />\n",
        "    </div>\n",
        "    <div id=\"text\" style=\"padding: 5px; margin-left: 10px;\">\n",
        "        <div id=\"badge\" style=\"display: inline-block; background-color: rgba(0, 0, 0, 0.15); border-radius: 4px; padding: 4px 8px; align-items: center; margin-top: 6px; margin-bottom: -2px; font-size: 80%\">SingleStore Notebooks</div>\n",
        "        <h1 style=\"font-weight: 500; margin: 8px 0 0 4px;\">Getting Started with Notebooks</h1>\n",
        "    </div>\n",
        "</div>"
      ]
    },
    {
      "cell_type": "markdown",
      "id": "6d2bb122-3ae2-4eab-bbbd-3e3ba6907c4b",
      "metadata": {},
      "source": [
        "<table style=\"border: 0; border-spacing: 0; width: 100%; background-color: #03010D\"><tr>\n",
        "    <td style=\"padding: 0; margin: 0; background-color: #03010D; width: 33%; text-align: center\"><img src=\"https://raw.githubusercontent.com/singlestore-labs/spaces-notebooks/master/common/images/singlestore-logo-vertical.png\" style=\"height: 200px;\"/></td>\n",
        "    <td style=\"padding: 0; margin: 0; width: 66%; background-color: #03010D; text-align: right\"><img src=\"https://raw.githubusercontent.com/singlestore-labs/spaces-notebooks/master/common/images/singlestore-jupyter.png\" style=\"height: 250px\"/></td>\n",
        "</tr></table>"
      ]
    },
    {
      "cell_type": "markdown",
      "id": "9e8e1c02-f723-4e0c-88f3-0adb4dc8b0de",
      "metadata": {},
      "source": [
        "## What you will learn in this notebook:\n",
        "\n",
        "1. Load a CSV file from our Github Repo [Python]\n",
        "2. Ingest that file into a SingleStoreDB without defining the schema [Python]\n",
        "3. Interact natively with the database using SQL [SQL]\n",
        "4. Convert results to a DataFrame and visualize results with Plotly [Python]\n",
        "\n",
        "## Questions?\n",
        "\n",
        "Reach out to us through our [forum](https://www.singlestore.com/forum)."
      ]
    },
    {
      "cell_type": "markdown",
      "id": "1b1d60b9-f1d9-4c8a-8d9d-ed8fc9968d40",
      "metadata": {},
      "source": [
        "## Enhance your notebooks with visualizations"
      ]
    },
    {
      "cell_type": "markdown",
      "id": "10234772-6625-4a4a-99af-f39e4e566c6d",
      "metadata": {},
      "source": [
        "## 1. Import libraries for reading data into a DataFrame\n",
        "\n",
        "Our data set contains geographic data, so we also install [Shapely](https://shapely.readthedocs.io/en/stable/)\n",
        "to store that data in Shapely geometry objects."
      ]
    },
    {
      "cell_type": "code",
      "execution_count": 1,
      "id": "fd26645f-c6b8-4853-baee-6bd77c6c1083",
      "metadata": {},
      "outputs": [],
      "source": [
        "!pip3 install shapely --quiet\n",
        "\n",
        "import pandas as pd\n",
        "import shapely.wkt"
      ]
    },
    {
      "cell_type": "markdown",
      "id": "ccb319b8-73b6-47ec-9dd0-ec33752fbb94",
      "metadata": {},
      "source": [
        "## 2. Load a csv file hosted in Github using Python\n",
        "\n",
        "Notice that we are using the `dtype=`, `parse_dates=`, and `converters=` options of the `read_csv` method to\n",
        "convert specific columns into various data types, including geographic data in the `business_location` column.\n",
        "See the [`read_csv`](https://pandas.pydata.org/pandas-docs/stable/reference/api/pandas.read_csv.html) documentation\n",
        "for more information."
      ]
    },
    {
      "cell_type": "code",
      "execution_count": 2,
      "id": "cc892204-df0a-4c42-a772-7bf10d9f0e2d",
      "metadata": {},
      "outputs": [],
      "source": [
        "url = 'https://raw.githubusercontent.com/singlestore-labs/singlestoredb-samples/main/' + \\\n",
        "      'Sample%20datasets/csv/Restaurant_Scores_LIVES_Standard.csv'"
      ]
    },
    {
      "cell_type": "code",
      "execution_count": 3,
      "id": "5aec33ed-1b93-46f1-b9df-b6b726de1b82",
      "metadata": {},
      "outputs": [],
      "source": [
        "def str_to_shapely(x: str) -> shapely.geometry.Point | None:\n",
        "    \"\"\"Convert a WKT string to a shapely object while handling NULLs.\"\"\"\n",
        "    return shapely.wkt.loads(x) if x else None\n",
        "\n",
        "\n",
        "# Read URL directly using pd.read_csv\n",
        "df = pd.read_csv(url, index_col=0,\n",
        "                 # Use parse_date=, dtype=, and converters= to specify explicit data types\n",
        "                 parse_dates=['inspection_date'],\n",
        "                 date_format='%m/%d/%Y %H:%M:%S %p',\n",
        "                 dtype=dict(business_id=int, business_phone_number=str, business_postal_code=str, inspection_score=float),\n",
        "                 converters=dict(business_location=str_to_shapely))\n",
        "df"
      ]
    },
    {
      "cell_type": "markdown",
      "id": "07787fa4-445e-4452-a5de-8cf3b2dd2b34",
      "metadata": {},
      "source": [
        "Display the data types in the resulting DataFrame. Note that any objects that pandas does not support natively (e.g., strings, blobs, shapely geometries, etc.) show up as `object`."
      ]
    },
    {
      "cell_type": "code",
      "execution_count": 4,
      "id": "e3bf5b74-b0de-4cfb-b2ff-00b5934bc0a6",
      "metadata": {},
      "outputs": [],
      "source": [
        "df.dtypes"
      ]
    },
    {
      "cell_type": "markdown",
      "id": "4ceef3c0-c804-48c3-9ca0-dcb7f5abfe27",
      "metadata": {},
      "source": [
        "## 3. Ingest a DataFrame in a SingleStoreDB table"
      ]
    },
    {
      "cell_type": "markdown",
      "id": "66b9f526-3c1f-449f-93bb-c167b15fc598",
      "metadata": {},
      "source": [
        "1. Create the database\n",
        "2. Import the library to connect to the database\n",
        "3. Create the connection to the library\n",
        "4. Ingest the dataframe to the newly created database"
      ]
    },
    {
      "cell_type": "markdown",
      "id": "ced28574-ac65-45bd-bed4-1df5273f9b57",
      "metadata": {},
      "source": [
        "Set the database name in a variable. It will be used in subsequent queries."
      ]
    },
    {
      "cell_type": "code",
      "execution_count": 5,
      "id": "f0647bbb-dc4d-4852-89a9-f6b482808e88",
      "metadata": {},
      "outputs": [],
      "source": [
        "database_name = 'getting_started_notebook'"
      ]
    },
    {
      "cell_type": "markdown",
      "id": "47e0bfb0-2006-4055-bdaf-081fd7473cf6",
      "metadata": {},
      "source": [
        "Here we are using the `database_name` variable in a `%%sql` cell. The syntax for including Python variables\n",
        "is to surround the variable name with `{{ ... }}`."
      ]
    },
    {
      "cell_type": "code",
      "execution_count": 6,
      "id": "0790ee0d-f9e9-4952-b1ae-54f872e42aed",
      "metadata": {},
      "outputs": [],
      "source": [
        "%%sql\n",
        "DROP DATABASE IF EXISTS {{database_name}};\n",
        "CREATE DATABASE {{database_name}};"
      ]
    },
    {
      "cell_type": "markdown",
      "id": "b8f95d65-b3ca-4306-b22c-11f8eadcce13",
      "metadata": {},
      "source": [
        "<div class=\"alert alert-block alert-warning\">    <b class=\"fa fa-solid fa-exclamation-circle\"></b>    <div>        <p><b>Action Required</b></p>        <p>Make sure to select the <tt>getting_started_notebook</tt> database from the drop-down menu at the top of this notebook.        It updates the <tt>connection_url</tt> which is used by the <tt>%%sql</tt> magic command and SQLAlchemy to make connections to the selected database.</p>    </div></div>"
      ]
    },
    {
      "cell_type": "markdown",
      "id": "3a254b3c-f5c0-4ce5-9046-df97dbffd420",
      "metadata": {},
      "source": [
        "We can use SQLAlchemy and pandas to upload a DataFrame. Note that if the table does not exist, the data types will\n",
        "be inferred from the data. This may not result in the exact types that you desire. You can define the table in\n",
        "the database before uploading to get the exact types you want.\n",
        "\n",
        "If you get an error about the database not being selected, that simply means that your `connection_url` does not\n",
        "contain a specific database to connect to. You can use the drop-down menu at the top of this notebook (immediately\n",
        "under the title) to select a database to work with. Changing the selection in the drop-down menu also updates\n",
        "the `connection_url` variable."
      ]
    },
    {
      "cell_type": "code",
      "execution_count": 7,
      "id": "017b889a-5efe-4605-93a9-a80073b4b068",
      "metadata": {},
      "outputs": [],
      "source": [
        "import sqlalchemy as sa\n",
        "\n",
        "# Create a SQLAlchemy engine and connect\n",
        "db_connection = sa.create_engine(connection_url).connect()"
      ]
    },
    {
      "cell_type": "markdown",
      "id": "515fb529-745f-4005-a704-241dfe65e985",
      "metadata": {},
      "source": [
        "The SingleStoreDB Python package also adds a convenience function for SQLAlchemy connections\n",
        "without using the `connection_url`. It automatically gets the connection information from\n",
        "the `SINGLESTOREDB_URL` environment variable."
      ]
    },
    {
      "cell_type": "code",
      "execution_count": 8,
      "id": "16f8f5df-6019-4fbb-9d4e-e1dd389ea7af",
      "metadata": {},
      "outputs": [],
      "source": [
        "import singlestoredb as s2\n",
        "\n",
        "# Create a SQLAlchemy engine and connect, without having to specify the connection URL\n",
        "db_connection = s2.create_engine().connect()\n",
        "\n",
        "# Upload the DataFrame\n",
        "df.to_sql('sf_restaurant_scores', con=db_connection, if_exists='append', chunksize=1000)"
      ]
    },
    {
      "cell_type": "markdown",
      "id": "3e239229-b797-4b13-8cc6-1687e86328f5",
      "metadata": {},
      "source": [
        "## 4. Interact natively with the database using SQL"
      ]
    },
    {
      "cell_type": "markdown",
      "id": "6bac215b-8d15-4e43-8492-f9483aa1970b",
      "metadata": {},
      "source": [
        "1. Read the top 10 rows from the table\n",
        "2. Alter the table to get the date in a date format, not string\n",
        "3. Read the number of restaurant inspections over the time in San Francisco"
      ]
    },
    {
      "cell_type": "code",
      "execution_count": 9,
      "id": "c130a5a0-4b3d-42b5-849e-30aebd82f02a",
      "metadata": {},
      "outputs": [],
      "source": [
        "%%sql\n",
        "SELECT * FROM {{database_name}}.sf_restaurant_scores LIMIT 10;"
      ]
    },
    {
      "cell_type": "markdown",
      "id": "e30f3e37-6669-45d0-8859-72ddb466f65b",
      "metadata": {},
      "source": [
        "In the code block below, we use the `result1 <<` syntax on the `%%sql` line to store the result of the SQL\n",
        "operation into a variable which can be used later. As with other Jupyter notebooks, you can always get the value\n",
        "of the last executed cell in the `_` (underscore) variable, but setting a specifc variable name to use is generally\n",
        "a safer way to retrieve results."
      ]
    },
    {
      "cell_type": "code",
      "execution_count": 10,
      "id": "239813ff-7528-417c-b00f-7ccf274850e9",
      "metadata": {},
      "outputs": [],
      "source": [
        "%%sql result1 <<\n",
        "SELECT\n",
        "    DATE_TRUNC('month', inspection_date) AS month,\n",
        "    COUNT(*) AS count_inspection\n",
        "FROM\n",
        "    {{database_name}}.sf_restaurant_scores\n",
        "GROUP BY\n",
        "    MONTH\n",
        "ORDER BY\n",
        "    MONTH DESC;"
      ]
    },
    {
      "cell_type": "markdown",
      "id": "4dca22ec-028d-48fa-9cc1-e0723e05cfae",
      "metadata": {},
      "source": [
        "The output of a `%%sql` cell is a `ResultSet` which contains methods for converting to various other data types (e.g., `csv`, `dicts`, `DataFrame`, `PolarsDataFrame`). It is also possible to convert to a DataFrame by passing a `ResultSet` object to the DataFrame\n",
        "constructor as we'll see below."
      ]
    },
    {
      "cell_type": "code",
      "execution_count": 11,
      "id": "e34a2bde-82b7-4085-8e7c-64e72746bfc0",
      "metadata": {},
      "outputs": [],
      "source": [
        "type(result1)"
      ]
    },
    {
      "cell_type": "markdown",
      "id": "0d26b14b-d6c9-4ab4-ba7d-5f029fa610e6",
      "metadata": {},
      "source": [
        "## 5. Visualize with Plotly"
      ]
    },
    {
      "cell_type": "markdown",
      "id": "8665a18d-f7d5-4da2-acc6-ea5a2a76d349",
      "metadata": {},
      "source": [
        "We are using [Plotly](https://plotly.com) to visualize the data in `result1`. The first parameter of the\n",
        "`bar` function requires a DataFrame, so we'll convert `result1` to a DataFrame before calling `bar`."
      ]
    },
    {
      "cell_type": "code",
      "execution_count": 12,
      "id": "9f08d6ab-6895-4ec6-a115-f470d20354d1",
      "metadata": {},
      "outputs": [],
      "source": [
        "result1_df = pd.DataFrame(result1)\n",
        "result1_df[:5]"
      ]
    },
    {
      "cell_type": "code",
      "execution_count": 13,
      "id": "d849d710-bf6e-46db-ae25-f39b7854547e",
      "metadata": {},
      "outputs": [],
      "source": [
        "import plotly.express as px\n",
        "\n",
        "px.bar(result1_df, x='month', y='count_inspection', title='Inspections by Month')"
      ]
    },
    {
      "cell_type": "markdown",
      "id": "93df4ad5-5fec-45d4-a051-24a651dbbff9",
      "metadata": {},
      "source": [
        "## 6. Cleanup database"
      ]
    },
    {
      "cell_type": "code",
      "execution_count": 14,
      "id": "0792f4a6-82f4-413b-9895-cd4764f7a118",
      "metadata": {},
      "outputs": [],
      "source": [
        "%%sql\n",
        "DROP DATABASE {{database_name}};"
      ]
    },
    {
      "cell_type": "markdown",
      "id": "ecc76eb3-7bd6-4efe-abcd-8989277daa2d",
      "metadata": {},
      "source": [
        "<div id=\"singlestore-footer\" style=\"background-color: rgba(194, 193, 199, 0.25); height:2px; margin-bottom:10px\"></div>\n",
        "<div><img src=\"https://raw.githubusercontent.com/singlestore-labs/spaces-notebooks/master/common/images/singlestore-logo-grey.png\" style=\"padding: 0px; margin: 0px; height: 24px\"/></div>"
      ]
    }
  ],
  "metadata": {
    "kernelspec": {
      "display_name": "Python 3 (ipykernel)",
      "language": "python",
      "name": "python3"
    },
    "language_info": {
      "codemirror_mode": {
        "name": "ipython",
        "version": 3
      },
      "file_extension": ".py",
      "mimetype": "text/x-python",
      "name": "python",
      "nbconvert_exporter": "python",
      "pygments_lexer": "ipython3",
      "version": "3.11.4"
    }
  },
  "nbformat": 4,
  "nbformat_minor": 5
}
