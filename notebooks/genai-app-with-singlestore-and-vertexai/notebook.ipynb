{
  "nbformat": 4,
  "nbformat_minor": 0,
  "metadata": {
    "colab": {
      "provenance": []
    },
    "kernelspec": {
      "name": "python3",
      "display_name": "Python 3"
    },
    "language_info": {
      "name": "python"
    }
  },
  "cells": [
    {
      "cell_type": "markdown",
      "id": "079ae720-afce-4bda-b257-dd1162e80cbe",
      "metadata": {},
      "source": [
        "<div id=\"singlestore-header\" style=\"display: flex; background-color: rgba(255, 167, 103, 0.25); padding: 5px;\">\n",
        "    <div id=\"icon-image\" style=\"width: 90px; height: 90px;\">\n",
        "        <img width=\"100%\" height=\"100%\" src=\"https://raw.githubusercontent.com/singlestore-labs/spaces-notebooks/master/common/images/header-icons/crystal-ball.png\" />\n",
        "    </div>\n",
        "    <div id=\"text\" style=\"padding: 5px; margin-left: 10px;\">\n",
        "        <div id=\"badge\" style=\"display: inline-block; background-color: rgba(0, 0, 0, 0.15); border-radius: 4px; padding: 4px 8px; align-items: center; margin-top: 6px; margin-bottom: -2px; font-size: 80%\">SingleStore Notebooks</div>\n",
        "        <h1 style=\"font-weight: 500; margin: 8px 0 0 4px;\">Build a GenAI app with SingleStoreDB and Google Vertex AI</h1>\n",
        "    </div>\n",
        "</div>"
      ]
    },
    {
      "cell_type": "markdown",
      "source": [
        "# Building a Generative AI Application with Vertex AI and SingleStore\n",
        "\n",
        "Welcome to this comprehensive guide on building a state-of-the-art General AI application using Google Cloud's Vertex AI and SingleStoreDB. This guide aims to provide a seamless experience, offering step-by-step instructions, code explanations, and best practices.\n",
        "\n",
        "## Overview\n",
        "Vertex AI, a product by Google Cloud, offers an integrated suite of machine learning tools that allows developers to build, deploy, and scale AI models faster than ever. On the other hand, SingleStoreDB offers a fast, scalable, and SQL-compliant relational database system. By combining the power of Vertex AI's machine learning capabilities with the efficient storage and retrieval mechanisms of SingleStoreDB, we can create robust AI applications that respond to user queries in real-time.\n",
        "\n",
        "## What You'll Learn\n",
        "- Setting up your environment with the necessary packages and credentials.\n",
        "- Fetching and processing data to be used in our AI models.\n",
        "- Storing and managing data efficiently using SingleStoreDB.\n",
        "- Leveraging the power of Vertex AI for real-time data processing and insights.\n",
        "- Building a retrieval-based QA system to answer user queries.\n",
        "\n",
        "## Prerequisites\n",
        "- Basic knowledge of Python programming.\n",
        "- Familiarity with Google Cloud services and SQL databases.\n",
        "- An active Google Cloud account.\n",
        "- A SingleStoreDB hosted or self-managed instance.\n",
        "\n",
        "Let's dive in and start building!"
      ],
      "metadata": {}
    },
    {
      "cell_type": "markdown",
      "source": [
        "**Setting up the environment**: Before we begin, it's essential to ensure all the necessary packages are installed. Run the cell below to install the required libraries for our project. This will install gcloud, langchain, google-cloud-aiplatform, and singlestoredb."
      ],
      "metadata": {}
    },
    {
      "cell_type": "code",
      "source": [
        "!pip install gcloud\n",
        "!pip install langchain\n",
        "!pip install google-cloud-aiplatform\n",
        "!pip install singlestoredb\n",
        "!pip install shapely==1.8.5"
      ],
      "metadata": {},
      "execution_count": 1,
      "outputs": []
    },
    {
      "cell_type": "markdown",
      "source": [
        "**Authentication**: The next step involves authenticating our session with Google Cloud. By running the following cell, you'll be prompted to log in using your Google Cloud credentials. Follow the instructions to complete the login process."
      ],
      "metadata": {}
    },
    {
      "cell_type": "code",
      "source": [
        "!gcloud auth application-default login"
      ],
      "metadata": {},
      "execution_count": 2,
      "outputs": []
    },
    {
      "cell_type": "markdown",
      "source": [
        "**Setting the Quota Project**: After authentication, we need to set our quota project. Replace my-project-1516239077425 with your project ID if different, then run the cell to set the quota project for this session."
      ],
      "metadata": {}
    },
    {
      "cell_type": "code",
      "source": [
        "!gcloud auth application-default set-quota-project my-project-1516239077425"
      ],
      "metadata": {},
      "execution_count": 3,
      "outputs": []
    },
    {
      "cell_type": "code",
      "source": [
        "!gcloud config set project my-project-1516239077425"
      ],
      "metadata": {},
      "execution_count": 4,
      "outputs": []
    },
    {
      "cell_type": "markdown",
      "source": [
        "**Importing Necessary Modules**: With the initial setup complete, let's import the essential classes and modules we'll use throughout this project. The following cell imports the required classes from langchain and SingleStoreDB."
      ],
      "metadata": {}
    },
    {
      "cell_type": "code",
      "source": [
        "from langchain.llms import VertexAI\n",
        "from langchain.chains import RetrievalQA\n",
        "from langchain.vectorstores import SingleStoreDB"
      ],
      "metadata": {},
      "execution_count": 5,
      "outputs": []
    },
    {
      "cell_type": "markdown",
      "source": [
        "**Initializing Vertex AI**: To interact with Google Cloud's Vertex AI services, we first need to instantiate the VertexAI class. Running the cell below will create this instance and store it in the variable llm."
      ],
      "metadata": {}
    },
    {
      "cell_type": "code",
      "source": [
        "llm = VertexAI()"
      ],
      "metadata": {},
      "execution_count": 6,
      "outputs": []
    },
    {
      "cell_type": "markdown",
      "source": [
        "**Loading Data from the Web**: Our application requires data to process and generate insights. In this step, we'll fetch content from a URL using the WebBaseLoader class. The loaded data will be stored in the data variable. You can replace the URL with any other source if needed."
      ],
      "metadata": {}
    },
    {
      "cell_type": "code",
      "source": [
        "from langchain.document_loaders import WebBaseLoader\n",
        "\n",
        "loader = WebBaseLoader(\"https://cloud.google.com/vertex-ai/docs/generative-ai/learn/generative-ai-studio\")\n",
        "data = loader.load()"
      ],
      "metadata": {},
      "execution_count": 7,
      "outputs": []
    },
    {
      "cell_type": "markdown",
      "source": [
        "**Splitting the Data**: To process the data more efficiently, we'll split the loaded content into smaller chunks. The RecursiveCharacterTextSplitter class helps in achieving this by dividing the data based on specified character limits."
      ],
      "metadata": {}
    },
    {
      "cell_type": "code",
      "source": [
        "from langchain.text_splitter import RecursiveCharacterTextSplitter\n",
        "\n",
        "text_splitter = RecursiveCharacterTextSplitter(chunk_size = 500, chunk_overlap = 0)\n",
        "all_splits = text_splitter.split_documents(data)"
      ],
      "metadata": {},
      "execution_count": 8,
      "outputs": []
    },
    {
      "cell_type": "markdown",
      "source": [
        "**Setting Up SingleStoreDB with Vertex AI Embeddings**: For efficient storage and retrieval of our data, we use SingleStoreDB in conjunction with Vertex AI embeddings. The following cell sets up the necessary environment variables and initializes the SingleStoreDB instance with Vertex AI embeddings. Ensure you have the correct SingleStoreDB URL and credentials set."
      ],
      "metadata": {}
    },
    {
      "cell_type": "code",
      "source": [
        "from langchain.embeddings import VertexAIEmbeddings\n",
        "from langchain.vectorstores import SingleStoreDB\n",
        "import os\n",
        "\n",
        "os.environ[\"SINGLESTOREDB_URL\"] = \"admin:password@svc-6d131c3b-9665-46c0-992c-c3450073c3e7-dml.gcp-virginia-1.svc.singlestore.com:3306/demo\"\n",
        "\n",
        "vectorstore = SingleStoreDB.from_documents(documents=all_splits, embedding=VertexAIEmbeddings())\n",
        "# vectorstore = SingleStoreDB(embedding=VertexAIEmbeddings())"
      ],
      "metadata": {},
      "execution_count": 9,
      "outputs": []
    },
    {
      "cell_type": "markdown",
      "source": [
        "**Setting Up and Testing the QA Chain**: Once our data is processed and stored, we can use it to answer queries. The following cell initializes the RetrievalQA chain using the previously set up llm and vectorstore. After initializing, it tests the setup with a sample question about Vertex AI."
      ],
      "metadata": {}
    },
    {
      "cell_type": "code",
      "source": [
        "qa_chain = RetrievalQA.from_chain_type(llm,retriever=vectorstore.as_retriever())\n",
        "qa_chain({\"query\": \"What is Vertex AI?\"})"
      ],
      "metadata": {},
      "execution_count": 10,
      "outputs": []
    },
    {
      "cell_type": "code",
      "source": [
        "qa_chain({\"query\": \"What is the primary purpose of Generative AI Studio?\"})"
      ],
      "metadata": {},
      "execution_count": 11,
      "outputs": []
    },
    {
      "cell_type": "code",
      "source": [
        "qa_chain({\"query\": \"What are some of the tasks you can perform in Generative AI Studio?\"})"
      ],
      "metadata": {},
      "execution_count": 12,
      "outputs": []
    },
    {
      "cell_type": "code",
      "source": [
        "qa_chain({\"query\": \"Where can you find sample prompts to test models in Generative AI Studio?\"})"
      ],
      "metadata": {},
      "execution_count": 13,
      "outputs": []
    },
    {
      "cell_type": "code",
      "source": [
        "qa_chain({\"query\": \"How can you ensure that a designed prompt elicits the desired response from a language model?\"})"
      ],
      "metadata": {},
      "execution_count": 14,
      "outputs": []
    },
    {
      "cell_type": "code",
      "source": [
        "qa_chain({\"query\": \"What are some code examples from vertex ai?\"})"
      ],
      "metadata": {},
      "execution_count": 15,
      "outputs": []
    },
    {
      "cell_type": "markdown",
      "id": "0db2b269-b4ae-49d8-b44b-e1620d73e1bc",
      "metadata": {},
      "source": [
        "<div id=\"singlestore-footer\" style=\"background-color: rgba(194, 193, 199, 0.25); height:2px; margin-bottom:10px\"></div>\n",
        "<div><img src=\"https://raw.githubusercontent.com/singlestore-labs/spaces-notebooks/master/common/images/singlestore-logo-grey.png\" style=\"padding: 0px; margin: 0px; height: 24px\"/></div>"
      ]
    }
  ]
}
