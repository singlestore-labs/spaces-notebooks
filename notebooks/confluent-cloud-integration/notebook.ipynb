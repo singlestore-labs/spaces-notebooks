{
  "cells": [
    {
      "id": "d3ffe3a2",
      "cell_type": "markdown",
      "metadata": {},
      "source": [
        "<div id=\"singlestore-header\" style=\"display: flex; background-color: rgba(124, 195, 235, 0.25); padding: 5px;\">\n",
        "    <div id=\"icon-image\" style=\"width: 90px; height: 90px;\">\n",
        "        <img width=\"100%\" height=\"100%\" src=\"https://raw.githubusercontent.com/singlestore-labs/spaces-notebooks/master/common/images/header-icons/confluent-logo.png\" />\n",
        "    </div>\n",
        "    <div id=\"text\" style=\"padding: 5px; margin-left: 10px;\">\n",
        "        <div id=\"badge\" style=\"display: inline-block; background-color: rgba(0, 0, 0, 0.15); border-radius: 4px; padding: 4px 8px; align-items: center; margin-top: 6px; margin-bottom: -2px; font-size: 80%\">SingleStore Notebooks</div>\n",
        "        <h1 style=\"font-weight: 500; margin: 8px 0 0 4px;\">Ingest data from Confluent Cloud (Kafka)</h1>\n",
        "    </div>\n",
        "</div>"
      ]
    },
    {
      "cell_type": "markdown",
      "metadata": {},
      "source": [
        "<img src=https://raw.githubusercontent.com/singlestore-labs/spaces-notebooks/master/notebooks/confluent-cloud-integration/images/confluent-kafka-integration.png width=\"100%\" />"
      ],
      "id": "0a6f9edd"
    },
    {
      "cell_type": "markdown",
      "metadata": {},
      "source": [
        "### Set Up a Kafka Cluster on Confluent Cloud\n",
        "\n",
        "Before initiating the integration process, it is essential to configure a Kafka cluster on Confluent Cloud. Refer to the <a href=\"https://docs.confluent.io/cloud/current/get-started/index.html\">Quick Start for Confluent Cloud</a> guide for related information.\n",
        "\n",
        "Once the cluster is created, perform the following tasks:\n",
        "\n",
        "- Create a topic, for example <b>'s2-topic'</b>. On the topic overview page, select <b>Schema &gt; Set a schema &gt; Avro</b>, and add a new Avro schema. In this guide, the default schema is used."
      ],
      "id": "5fd6e4ba"
    },
    {
      "cell_type": "markdown",
      "metadata": {},
      "source": [
        "<img src=https://raw.githubusercontent.com/singlestore-labs/spaces-notebooks/master/notebooks/confluent-cloud-integration/images/kafka-value-schema.png width=\"100%\" />"
      ],
      "id": "d56193e9"
    },
    {
      "cell_type": "markdown",
      "metadata": {},
      "source": [
        "- Create API keys. The API key is displayed <b>only once</b>. Be sure to copy and securely store the API key."
      ],
      "id": "ede3b8d7"
    },
    {
      "cell_type": "markdown",
      "metadata": {},
      "source": [
        "<img src=https://raw.githubusercontent.com/singlestore-labs/spaces-notebooks/master/notebooks/confluent-cloud-integration/images/confluent-api-key.png width=\"100%\" />"
      ],
      "id": "9ed4b165"
    },
    {
      "cell_type": "markdown",
      "metadata": {},
      "source": [
        "- On the left navigation pane, select <b>Connectors</b> and create a sample producer named <b>'datagen'</b> using the <b>Datagen Source</b> connector. In the <b>Topic selection</b> pane, select the <b>'s2-topic'</b> created earlier. In the <b>Kafka credentials</b> pane, select the <b>Use an existing API key</b> option. Configure the producer to use the same schema as the one in the created topic. Refer to <a href=\"https://docs.confluent.io/cloud/current/get-started/index.html#step-3-create-a-sample-producer\">Step 3: Create a sample producer</a> for more information.\n",
        "- Launch the <b>'datagen'</b> producer and verify that the <b>'s2-topic'</b> has new messages."
      ],
      "id": "84749414"
    },
    {
      "cell_type": "markdown",
      "metadata": {},
      "source": [
        "### Set Up Variables\n",
        "\n",
        "Use the <b>S2_DATABASE_NAME</b>, <b>S2_TABLE_NAME</b>, and <b>S2_PIPELINE_NAME</b> variables for integration.\n",
        "\n",
        "### Copy Data from Confluent Cloud\n",
        "- Assign the topic name <b>'s2-topic'</b> to the <b>CONFLUENT_KAFKA_TOPIC_NAME</b> variable.\n",
        "- Specify the API key and secret using the <b>CONFLUENT_API_KEY</b> and <b>CONFLUENT_API_SECRET</b> variables, respectively.\n",
        "\n",
        "On the left navigation pane, select <b>Clients</b>. Select a language (for example Java), and configure the following variables:\n",
        "- <b>CONFLUENT_CLUSTER_BOOTSTRAP_SERVER</b> from <b>bootstrap.servers</b>\n",
        "- <b>CONFLUENT_SCHEMA_REGISTRY_URL</b> from <b>schema.registry.url</b>\n",
        "\n",
        "Select <b>Create Schema Registry API key</b> to create a schema API key and configure the following variables:\n",
        "- <b>CONFLUENT_SCHEMA_REGISTRY_KEY</b>\n",
        "- <b>CONFLUENT_SCHEMA_REGISTRY_SECRET</b>"
      ],
      "id": "79e9060a"
    },
    {
      "cell_type": "code",
      "execution_count": 1,
      "metadata": {},
      "outputs": [],
      "source": [
        "S2_DATABASE_NAME = 'confluent_cloud_integration'\n",
        "S2_TABLE_NAME = 'kafka_events'\n",
        "S2_PIPELINE_NAME = 'kafka_consumer_pipeline'\n",
        "CONFLUENT_KAFKA_TOPIC_NAME = 's2-topic'\n",
        "CONFLUENT_KAFKA_CLIENT_ID = 'cwc|001j000000j7k7bAAA|SingleStore'\n",
        "CONFLUENT_CLUSTER_BOOTSTRAP_SERVER = 'pkc-xmzwx.europe-central2.gcp.confluent.cloud:9092'\n",
        "CONFLUENT_API_KEY = 'EAPEIJZDU5KY26X5'\n",
        "CONFLUENT_API_SECRET = '***************************************'\n",
        "\n",
        "CONFLUENT_SCHEMA_REGISTRY_URL='https://psrc-9zg5y.europe-west3.gcp.confluent.cloud'\n",
        "CONFLUENT_SCHEMA_REGISTRY_KEY = '7ALNJUEMWMBIMAQL'\n",
        "CONFLUENT_SCHEMA_REGISTRY_SECRET = '***************************************'"
      ],
      "id": "4fea4101"
    },
    {
      "cell_type": "markdown",
      "metadata": {},
      "source": [
        "### Create a Database"
      ],
      "id": "75b59d19"
    },
    {
      "cell_type": "code",
      "execution_count": 2,
      "metadata": {},
      "outputs": [],
      "source": [
        "%%sql\n",
        "\n",
        "DROP DATABASE IF EXISTS {{S2_DATABASE_NAME}};\n",
        "CREATE DATABASE {{S2_DATABASE_NAME}};"
      ],
      "id": "ea3e011e"
    },
    {
      "cell_type": "markdown",
      "metadata": {},
      "source": [
        "<div class=\"alert alert-block alert-warning\">    <b class=\"fa fa-solid fa-exclamation-circle\"></b>    <div>        <p><b>Action Required</b></p>        <p>Be sure to select the <tt>{{S2_DATABASE_NAME}}</tt> database from the drop-down list at the top of this notebook.        It updates the <tt>connection_url</tt> which is used by the <tt>%%sql</tt> magic command and SQLAlchemy to connect to the selected database.</p>    </div></div>"
      ],
      "id": "cf9309a6"
    },
    {
      "cell_type": "markdown",
      "metadata": {},
      "source": [
        "### Create a Table Based on the Kafka Avro Schema"
      ],
      "id": "623b63ee"
    },
    {
      "cell_type": "code",
      "execution_count": 3,
      "metadata": {},
      "outputs": [],
      "source": [
        "%%sql\n",
        "\n",
        "DROP PIPELINE IF EXISTS {{S2_DATABASE_NAME}}.{{S2_PIPELINE_NAME}};\n",
        "DROP TABLE IF EXISTS {{S2_DATABASE_NAME}}.{{S2_TABLE_NAME}};\n",
        "CREATE TABLE IF NOT EXISTS {{S2_DATABASE_NAME}}.{{S2_TABLE_NAME}} (\n",
        "`field1` int,\n",
        "`field2` double,\n",
        "`field3` text\n",
        ");"
      ],
      "id": "5b8cccce"
    },
    {
      "cell_type": "markdown",
      "metadata": {},
      "source": [
        "### Create a Kafka Pipeline"
      ],
      "id": "f1dabcd9"
    },
    {
      "cell_type": "markdown",
      "metadata": {},
      "source": [
        "<div class=\"alert alert-block alert-info\">    <b class=\"fa fa-solid fa-exclamation-circle\"></b>    <div>        <p><b>Notes</b></p>        <ul><li><p> All Kafka configurations in the pipeline, such as <tt>'client.id'</tt>, are supported since version <tt>8.1.35</tt>.</p></li> <li><p> The schema registry mapping section should be updated according to your schema registry in the  <i>'table column name'</i>  <-  <i>'schema registry field name'</i> format. </p></li>  </ul>    </div></div>"
      ],
      "id": "0aed93cd"
    },
    {
      "cell_type": "code",
      "execution_count": 4,
      "metadata": {},
      "outputs": [],
      "source": [
        "%%sql\n",
        "\n",
        "DROP PIPELINE IF EXISTS {{S2_DATABASE_NAME}}.{{S2_PIPELINE_NAME}};\n",
        "CREATE PIPELINE {{S2_DATABASE_NAME}}.{{S2_PIPELINE_NAME}}\n",
        "AS LOAD DATA KAFKA '{{CONFLUENT_CLUSTER_BOOTSTRAP_SERVER}}/{{CONFLUENT_KAFKA_TOPIC_NAME}}'\n",
        "CONFIG '{ \\\"client.id\\\": \\\"{{CONFLUENT_KAFKA_CLIENT_ID}}\\\",\\n         \\\"sasl.username\\\": \\\"{{CONFLUENT_API_KEY}}\\\",\\n         \\\"sasl.mechanism\\\": \\\"PLAIN\\\",\\n         \\\"security.protocol\\\": \\\"SASL_SSL\\\",\\n         \\\"ssl.ca.location\\\": \\\"/etc/pki/ca-trust/extracted/pem/tls-ca-bundle.pem\\\",\\n \\\"schema.registry.username\\\": \\\"{{CONFLUENT_SCHEMA_REGISTRY_KEY}}\\\"}'\n",
        "CREDENTIALS '{\\\"sasl.password\\\": \\\"{{CONFLUENT_API_SECRET}}\\\",\\n \\\"schema.registry.password\\\": \\\"{{CONFLUENT_SCHEMA_REGISTRY_SECRET}}\\\"}'\n",
        "BATCH_INTERVAL 20\n",
        "DISABLE OFFSETS METADATA GC\n",
        "INTO TABLE {{S2_TABLE_NAME}}\n",
        "FORMAT AVRO\n",
        "SCHEMA REGISTRY '{{CONFLUENT_SCHEMA_REGISTRY_URL}}'\n",
        "(\n",
        "field1  <-  my_field1,\n",
        "field2  <-  my_field2,\n",
        "field3  <-  my_field3\n",
        ");"
      ],
      "id": "58c471f0"
    },
    {
      "cell_type": "markdown",
      "metadata": {},
      "source": [
        "### Test the Created Pipeline"
      ],
      "id": "1ea816f8"
    },
    {
      "cell_type": "code",
      "execution_count": 5,
      "metadata": {},
      "outputs": [],
      "source": [
        "%%sql\n",
        "TEST PIPELINE  {{S2_DATABASE_NAME}}.{{S2_PIPELINE_NAME}} LIMIT 1;"
      ],
      "id": "95565993"
    },
    {
      "cell_type": "markdown",
      "metadata": {},
      "source": [
        "### Start the Pipeline"
      ],
      "id": "ca3bb824"
    },
    {
      "cell_type": "code",
      "execution_count": 6,
      "metadata": {},
      "outputs": [],
      "source": [
        "%%sql\n",
        "\n",
        "START PIPELINE {{S2_DATABASE_NAME}}.{{S2_PIPELINE_NAME}};"
      ],
      "id": "31f8bc3f"
    },
    {
      "cell_type": "markdown",
      "metadata": {},
      "source": [
        "### Stop the Pipeline"
      ],
      "id": "d17352a4"
    },
    {
      "cell_type": "code",
      "execution_count": 7,
      "metadata": {},
      "outputs": [],
      "source": [
        "%%sql\n",
        "\n",
        "STOP PIPELINE {{S2_DATABASE_NAME}}.{{S2_PIPELINE_NAME}};"
      ],
      "id": "93d4b5c0"
    },
    {
      "cell_type": "markdown",
      "metadata": {},
      "source": [
        "### View Consumed Events"
      ],
      "id": "d6e9fda0"
    },
    {
      "cell_type": "code",
      "execution_count": 8,
      "metadata": {},
      "outputs": [],
      "source": [
        "%%sql\n",
        "\n",
        "SELECT * FROM {{S2_DATABASE_NAME}}.{{S2_TABLE_NAME}};"
      ],
      "id": "d4d40067"
    },
    {
      "id": "d6a5e9d7",
      "cell_type": "markdown",
      "metadata": {},
      "source": [
        "<div id=\"singlestore-footer\" style=\"background-color: rgba(194, 193, 199, 0.25); height:2px; margin-bottom:10px\"></div>\n",
        "<div><img src=\"https://raw.githubusercontent.com/singlestore-labs/spaces-notebooks/master/common/images/singlestore-logo-grey.png\" style=\"padding: 0px; margin: 0px; height: 24px\"/></div>"
      ]
    }
  ],
  "metadata": {
    "jupyterlab": {
      "notebooks": {
        "version_major": 6.0,
        "version_minor": 4.0
      }
    },
    "kernelspec": {
      "display_name": "Python 3 (ipykernel)",
      "language": "python",
      "name": "python3"
    },
    "language_info": {
      "codemirror_mode": {
        "name": "ipython",
        "version": 3
      },
      "file_extension": ".py",
      "mimeType": "text/x-python",
      "name": "python",
      "nbconvert_exporter": "python",
      "pygments_lexer": "ipython3",
      "version": "3.11.6"
    }
  },
  "nbformat": 4,
  "nbformat_minor": 5
}
