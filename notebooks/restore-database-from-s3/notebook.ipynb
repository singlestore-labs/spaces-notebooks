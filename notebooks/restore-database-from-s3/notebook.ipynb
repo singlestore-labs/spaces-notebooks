{
  "cells": [
    {
      "cell_type": "markdown",
      "id": "5eb7d07e-1d70-4fcd-9b53-b446d91c2bb6",
      "metadata": {},
      "source": [
        "<div id=\"singlestore-header\" style=\"display: flex; background-color: rgba(235, 249, 245, 0.25); padding: 5px;\">\n",
        "    <div id=\"icon-image\" style=\"width: 90px; height: 90px;\">\n",
        "        <img width=\"100%\" height=\"100%\" src=\"https://raw.githubusercontent.com/singlestore-labs/spaces-notebooks/master/common/images/header-icons/database.png\" />\n",
        "    </div>\n",
        "    <div id=\"text\" style=\"padding: 5px; margin-left: 10px;\">\n",
        "        <div id=\"badge\" style=\"display: inline-block; background-color: rgba(0, 0, 0, 0.15); border-radius: 4px; padding: 4px 8px; align-items: center; margin-top: 6px; margin-bottom: -2px; font-size: 80%\">SingleStore Notebooks</div>\n",
        "        <h1 style=\"font-weight: 500; margin: 8px 0 0 4px;\">Restore Database from AWS S3</h1>\n",
        "    </div>\n",
        "</div>"
      ]
    },
    {
      "attachments": {},
      "cell_type": "markdown",
      "metadata": {},
      "source": [
        "\n",
        "## Intro\n",
        "\n",
        "<p class=\"has-text-justified\">\n",
        "    Introducing a powerful Python notebook designed to simplify performing database restore\n",
        "</p>\n",
        "\n",
        "## What you will learn in this notebook:\n",
        "\n",
        "1. How to restore database from AWS S3 [SQL]\n",
        "\n",
        "\n",
        "## What benefits do you get out of using the notebook.\n",
        "\n",
        "1. Using notebook, user should be able to perform restore to S3 by providing required configuration as secrets\n",
        "\n",
        "\n",
        "## Questions?\n",
        "\n",
        "Reach out to us through our [forum](https://www.singlestore.com/forum)."
      ]
    },
    {
      "cell_type": "markdown",
      "metadata": {},
      "source": [
        "### Pre-requisites\n",
        "\n",
        "We will need below parameters to proceed.\n",
        "\n",
        "<ol type=\"A\">\n",
        "    <li>To access AWS S3, we need AWS Access key ID,AWS Secret access key, Aws Session Token (Optional)</li>\n",
        "    <li>Database User should have 'CREATE DATABASE', 'RELOAD' grant</li>\n",
        "    <li>Backup ID, points to backup which needs to be used to restore</li>\n",
        "</ol>\n",
        "\n",
        "<p>Note: </p>\n",
        "<ol>\n",
        "    <li>check user grants by running 'show grants'.</li>\n",
        "    <li>AWS Access key ID,AWS Secret access key,AWS Session Token of AWS IAM user with S3 read access</li>\n",
        "    <li>Please below this query to find out back up id. add filters suit your needs</li>\n",
        "</ol>\n",
        "<pre>\n",
        "select * from information_schema.MV_BACKUP_HISTORY where STATUS = 'Success' and DATABASE_NAME = {database_name} order by BACKUP_ID desc\n",
        "</pre>"
      ]
    },
    {
      "attachments": {},
      "cell_type": "markdown",
      "metadata": {},
      "source": [
        "You may use below query to fetch information about existing backups( filter according to needs)\n",
        "<code>\n",
        "    SELECT * from information_schema.MV_BACKUP_HISTORY\n",
        "</code>"
      ]
    },
    {
      "attachments": {},
      "cell_type": "markdown",
      "metadata": {},
      "source": [
        "### Imports"
      ]
    },
    {
      "cell_type": "code",
      "execution_count": 1,
      "metadata": {},
      "outputs": [],
      "source": [
        "import io\n",
        "import logging\n",
        "import getpass\n",
        "\n",
        "import singlestoredb as s2\n",
        "from IPython.display import display, HTML"
      ]
    },
    {
      "attachments": {},
      "cell_type": "markdown",
      "metadata": {},
      "source": [
        "### Variables"
      ]
    },
    {
      "cell_type": "code",
      "execution_count": 2,
      "metadata": {},
      "outputs": [],
      "source": [
        "aws_key_id = None\n",
        "aws_secret_key = None\n",
        "aws_region = 'us-east-1'\n",
        "aws_session_token = ''\n",
        "target_db_name = None\n",
        "backup_id = None"
      ]
    },
    {
      "attachments": {},
      "cell_type": "markdown",
      "metadata": {},
      "source": [
        "### Functions to display various alerts"
      ]
    },
    {
      "cell_type": "code",
      "execution_count": 3,
      "metadata": {},
      "outputs": [],
      "source": [
        "def show_warn(warn_msg):\n",
        "    \"\"\"\n",
        "    Display a warning message in a formatted HTML alert box.\n",
        "\n",
        "    Parameters\n",
        "    ----------\n",
        "    warn_msg : str\n",
        "        The warning message to display.\n",
        "    \"\"\"\n",
        "    display(HTML(f'''<div class=\"alert alert-block alert-warning\">\n",
        "    <b class=\"fa fa-solid fa-exclamation-circle\"></b>\n",
        "    <div>\n",
        "        <p><b>Action Required</b></p>\n",
        "        <p>{warn_msg}</p>\n",
        "    </div>\n",
        "</div>'''))\n",
        "\n",
        "\n",
        "def show_error(error_msg):\n",
        "    \"\"\"\n",
        "    Display an error message in a formatted HTML alert box.\n",
        "\n",
        "    Parameters\n",
        "    ----------\n",
        "    error_msg : str\n",
        "        The error message to display.\n",
        "    \"\"\"\n",
        "    display(HTML(f'''<div class=\"alert alert-block alert-danger\">\n",
        "    <b class=\"fa fa-solid fa-exclamation-triangle\"></b>\n",
        "    <div>\n",
        "        <p><b>Error</b></p>\n",
        "        <p>{error_msg}</p>\n",
        "    </div>\n",
        "</div>'''))\n",
        "\n",
        "\n",
        "def show_success(success_msg):\n",
        "    \"\"\"\n",
        "    Display a success message in a formatted HTML alert box.\n",
        "\n",
        "    Parameters\n",
        "    ----------\n",
        "    success_msg : str\n",
        "        The success message to display.\n",
        "    \"\"\"\n",
        "    display(HTML(f'''<div class=\"alert alert-block alert-success\">\n",
        "    <b class=\"fa fa-solid fa-check-circle\"></b>\n",
        "    <div>\n",
        "        <p><b>Success</b></p>\n",
        "        <p>{success_msg}</p>\n",
        "    </div>\n",
        "</div>'''))"
      ]
    },
    {
      "attachments": {},
      "cell_type": "markdown",
      "metadata": {},
      "source": [
        "### Log Control"
      ]
    },
    {
      "cell_type": "code",
      "execution_count": 4,
      "metadata": {},
      "outputs": [],
      "source": [
        "def enable_debug_logs(enabled):\n",
        "    if enabled:\n",
        "        logging.getLogger().setLevel(logging.DEBUG)\n",
        "    else:\n",
        "        logging.getLogger().setLevel(logging.ERROR)"
      ]
    },
    {
      "attachments": {},
      "cell_type": "markdown",
      "metadata": {},
      "source": [
        "**Note**\n",
        "\n",
        "To enable logs\n",
        "Modify 'enable_debug_logs(False)' to 'enable_debug_logs(True)' in code above"
      ]
    },
    {
      "attachments": {},
      "cell_type": "markdown",
      "metadata": {},
      "source": [
        "### Function to generate restore statement"
      ]
    },
    {
      "cell_type": "code",
      "execution_count": 5,
      "metadata": {},
      "outputs": [],
      "source": [
        "def get_sql_statement(p_database_name, p_s3_backup_path):\n",
        "\n",
        "    global aws_key_id, aws_secret_key, aws_region, target_db_name, aws_session_token\n",
        "    aws_key_id = (input('Enter AWS_API_KEY_ID:') if aws_key_id == None else aws_key_id)\n",
        "    aws_secret_key = (getpass.getpass('Enter AWS_API_SECRET:') if aws_secret_key == None else aws_secret_key)\n",
        "    aws_session_token = (input('Enter AWS_SESSION_TOKEN:') if aws_session_token == None else aws_session_token)\n",
        "    aws_region = (input('Enter AWS_REGION:') if aws_region == None else aws_region)\n",
        "    target_db_name = (input('Enter Target Database Name:') if target_db_name == None else target_db_name)\n",
        "\n",
        "\n",
        "\n",
        "    data = io.StringIO()\n",
        "    data.write('RESTORE DATABASE ' + p_database_name + ' ')\n",
        "\n",
        "    if target_db_name != '':\n",
        "        data.write(' AS ' + target_db_name + ' ')\n",
        "\n",
        "    data.write(' FROM S3 \"' + p_s3_backup_path + '\" ')\n",
        "    data.write(' CONFIG \\' {\"region\":\"' + aws_region + '\"} \\'')\n",
        "    data.write(' CREDENTIALS \\'{\"aws_access_key_id\":\"' + aws_key_id\n",
        "               + '\",\"aws_secret_access_key\":\"' + aws_secret_key + '\"')\n",
        "    if aws_session_token != '':\n",
        "        data.write(',\"aws_session_token\":\"' + aws_session_token +'\" ')\n",
        "    data.write('}\\' ')\n",
        "    logging.debug(f'statement: {data.getvalue()}')\n",
        "    return data.getvalue()"
      ]
    },
    {
      "cell_type": "code",
      "execution_count": 6,
      "metadata": {},
      "outputs": [],
      "source": [
        "# Disable debug logs\n",
        "enable_debug_logs(False)\n",
        "\n",
        "# Start of script execution\n",
        "print('Script execution began')\n",
        "\n",
        "# Check if the connection URL ends with '/'\n",
        "if connection_url.endswith('/'):\n",
        "    # Show a warning message if the database is not selected\n",
        "    show_warn('Database not selected. Please select from dropdown in top of web page')\n",
        "else:\n",
        "    try:\n",
        "        # Get the backup ID from the secret store\n",
        "        backup_id = (input('Enter Backup ID:') if backup_id == None else backup_id)\n",
        "        backup_db_name = None\n",
        "        # Establish a connection to the database\n",
        "        conn = s2.connect(results_type='dict')\n",
        "        with conn.cursor() as cursor:\n",
        "            # Fetch the database name and backup path from the backup history\n",
        "            query = f'SELECT DATABASE_NAME, BACKUP_PATH FROM information_schema.mv_backup_history WHERE BACKUP_ID = {backup_id} and STATUS = \\'Success\\''\n",
        "            logging.debug(f'query: {query}')\n",
        "            cursor.execute(query)\n",
        "            record = cursor.fetchone()\n",
        "            if record is None:\n",
        "                # Log an error and show an error message if no record is found for the specified backup ID\n",
        "                logging.error('No record found for the specified backup ID')\n",
        "                show_error('No record found for the specified backup ID')\n",
        "            else:\n",
        "                # Get the database name and backup path from the fetched record\n",
        "                backup_db_name = record['DATABASE_NAME']\n",
        "                backup_path = record['BACKUP_PATH']\n",
        "\n",
        "                # Execute the SQL statement to restore the database\n",
        "                cursor.execute(get_sql_statement(p_database_name=backup_db_name, p_s3_backup_path=backup_path))\n",
        "                results = cursor.fetchall()\n",
        "\n",
        "                # Check if the restore was successful\n",
        "                if results is None:\n",
        "                    logging.error('Restore execution failed')\n",
        "                    show_error('Restore Failed')\n",
        "                else:\n",
        "                    logging.info(\"Restore completed\")\n",
        "                    verify_query = f\"select schema_name from information_schema.SCHEMATA where schema_name = {target_db_name if target_db_name != '' else backup_db_name}\"\n",
        "                    show_success(f'Restore completed.\\n {verify_query}')\n",
        "\n",
        "    except s2.exceptions.OperationalError as ope:\n",
        "        # Handle specific operational errors\n",
        "        if 'NoSuchBucket' in ope.errmsg:\n",
        "            logging.error('Provided S3 Bucket does not exist. Please check')\n",
        "            show_error('Provided S3 Bucket does not exist. Please check')\n",
        "        elif 'Access denied' in ope.errmsg:\n",
        "            logging.error('Failed to restore due to grants missing or firewall settings. Please check')\n",
        "            show_error('Failed to restore due to grants missing or firewall settings. Please check')\n",
        "        else:\n",
        "            logging.error(f'Failed. error msg: {ope.errmsg}')\n",
        "            show_error('Restore Failed. error msg: {ope.errmsg}')\n",
        "    except s2.Error as e:\n",
        "        # Handle any other errors\n",
        "        logging.error(f'Encountered exception {e}')\n",
        "        show_error(f'Restore Failed. {str(e)}')\n",
        "\n",
        "# End of script execution\n",
        "print('\\n\\nScript execution completed')"
      ]
    },
    {
      "attachments": {},
      "cell_type": "markdown",
      "metadata": {},
      "source": [
        "### Verify Result"
      ]
    },
    {
      "cell_type": "code",
      "execution_count": 7,
      "metadata": {},
      "outputs": [],
      "source": [
        "%sql select schema_name from information_schema.SCHEMATA;"
      ]
    },
    {
      "cell_type": "markdown",
      "id": "cafa399a-cdca-47ee-b0ac-d863bb1d2fec",
      "metadata": {},
      "source": [
        "<div id=\"singlestore-footer\" style=\"background-color: rgba(194, 193, 199, 0.25); height:2px; margin-bottom:10px\"></div>\n",
        "<div><img src=\"https://raw.githubusercontent.com/singlestore-labs/spaces-notebooks/master/common/images/singlestore-logo-grey.png\" style=\"padding: 0px; margin: 0px; height: 24px\"/></div>"
      ]
    }
  ],
  "metadata": {
    "kernelspec": {
      "display_name": "Python 3 (ipykernel)",
      "language": "python",
      "name": "python3"
    },
    "language_info": {
      "codemirror_mode": {
        "name": "ipython",
        "version": 3
      },
      "file_extension": ".py",
      "mimetype": "text/x-python",
      "name": "python",
      "nbconvert_exporter": "python",
      "pygments_lexer": "ipython3",
      "version": "3.11.6"
    }
  },
  "nbformat": 4,
  "nbformat_minor": 4
}
