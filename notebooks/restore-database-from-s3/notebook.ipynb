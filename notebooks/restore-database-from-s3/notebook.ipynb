{
  "cells": [
    {
      "cell_type": "markdown",
      "id": "5f2af60f-0e57-4711-a9be-3eedc624b786",
      "metadata": {},
      "source": [
        "<div id=\"singlestore-header\" style=\"display: flex; background-color: rgba(235, 249, 245, 0.25); padding: 5px;\">\n",
        "    <div id=\"icon-image\" style=\"width: 90px; height: 90px;\">\n",
        "        <img width=\"100%\" height=\"100%\" src=\"https://raw.githubusercontent.com/singlestore-labs/spaces-notebooks/master/common/images/header-icons/database.png\" />\n",
        "    </div>\n",
        "    <div id=\"text\" style=\"padding: 5px; margin-left: 10px;\">\n",
        "        <div id=\"badge\" style=\"display: inline-block; background-color: rgba(0, 0, 0, 0.15); border-radius: 4px; padding: 4px 8px; align-items: center; margin-top: 6px; margin-bottom: -2px; font-size: 80%\">SingleStore Notebooks</div>\n",
        "        <h1 style=\"font-weight: 500; margin: 8px 0 0 4px;\">Restore Database from AWS S3</h1>\n",
        "    </div>\n",
        "</div>"
      ]
    },
    {
      "attachments": {},
      "cell_type": "markdown",
      "metadata": {},
      "source": [
        "\n",
        "## Intro\n",
        "\n",
        "<p class=\"has-text-justified\">\n",
        "    Introducing a powerful Python notebook designed to simplify performing database restore\n",
        "</p>\n",
        "\n",
        "## What you will learn in this notebook:\n",
        "\n",
        "1. How to restore database from AWS S3 [SQL]\n",
        "\n",
        "\n",
        "## What benefits do you get out of using the notebook.\n",
        "\n",
        "1. Using this parameterized notebook, user should be able to perform restore to S3 with just input params.\n",
        "\n",
        "\n",
        "## Questions?\n",
        "\n",
        "Reach out to us through our [forum](https://www.singlestore.com/forum)."
      ]
    },
    {
      "cell_type": "markdown",
      "metadata": {},
      "source": [
        "### Pre-requisites\n",
        "\n",
        "We will need below parameters to proceed.\n",
        "\n",
        "<ol type=\"A\">\n",
        "    <li>Singlestore provides secrets feature to store and manage sensitive data. we will use that to access AWS Access key ID,AWS Secret access key</li>\n",
        "    <li>Database User should have 'CREATE DATABASE', 'RELOAD' grant</li>\n",
        "</ol>\n",
        "\n",
        "<p>Note: </p>\n",
        "<ol>\n",
        "    <li>check user grants by running 'show grants'.</li>\n",
        "    <li>AWS Access key ID,AWS Secret access key of AWS IAM user with S3 read access</li>\n",
        "</ol>"
      ]
    },
    {
      "cell_type": "markdown",
      "metadata": {},
      "source": [
        "You may use below query to fetch information about existing backups( filter according to needs)\n",
        "<code>\n",
        "    SELECT * from information_schema.MV_BACKUP_HISTORY\n",
        "</code>"
      ]
    },
    {
      "cell_type": "markdown",
      "metadata": {},
      "source": [
        "### Imports"
      ]
    },
    {
      "cell_type": "code",
      "execution_count": 1,
      "metadata": {},
      "outputs": [],
      "source": [
        "import io\n",
        "import logging\n",
        "\n",
        "import singlestoredb as s2\n",
        "from IPython.display import display, HTML"
      ]
    },
    {
      "cell_type": "markdown",
      "metadata": {},
      "source": [
        "### Variables"
      ]
    },
    {
      "cell_type": "code",
      "execution_count": 2,
      "metadata": {},
      "outputs": [],
      "source": [
        "restore_database_name = input('Enter database name to restore into')\n",
        "s3_backup_path = input('Enter S3 Path to backup location')\n",
        "use_alias = input(\"Do you like to use different database name. Enter 'Y' for Yes?\")\n",
        "new_database_name = None\n",
        "\n",
        "if use_alias == 'Y':\n",
        "    new_database_name = input('Enter new database name')"
      ]
    },
    {
      "cell_type": "markdown",
      "metadata": {},
      "source": [
        "### Functions to display various alerts"
      ]
    },
    {
      "cell_type": "code",
      "execution_count": 3,
      "metadata": {},
      "outputs": [],
      "source": [
        "def show_warn(warn_msg):\n",
        "    \"\"\"\n",
        "    Display a warning message in a formatted HTML alert box.\n",
        "\n",
        "    Parameters\n",
        "    ----------\n",
        "    warn_msg : str\n",
        "        The warning message to display.\n",
        "    \"\"\"\n",
        "    display(HTML(f'''<div class=\"alert alert-block alert-warning\">\n",
        "    <b class=\"fa fa-solid fa-exclamation-circle\"></b>\n",
        "    <div>\n",
        "        <p><b>Action Required</b></p>\n",
        "        <p>{warn_msg}</p>\n",
        "    </div>\n",
        "</div>'''))\n",
        "\n",
        "\n",
        "def show_error(error_msg):\n",
        "    \"\"\"\n",
        "    Display an error message in a formatted HTML alert box.\n",
        "\n",
        "    Parameters\n",
        "    ----------\n",
        "    error_msg : str\n",
        "        The error message to display.\n",
        "    \"\"\"\n",
        "    display(HTML(f'''<div class=\"alert alert-block alert-danger\">\n",
        "    <b class=\"fa fa-solid fa-exclamation-triangle\"></b>\n",
        "    <div>\n",
        "        <p><b>Error</b></p>\n",
        "        <p>{error_msg}</p>\n",
        "    </div>\n",
        "</div>'''))\n",
        "\n",
        "\n",
        "def show_success(success_msg):\n",
        "    \"\"\"\n",
        "    Display a success message in a formatted HTML alert box.\n",
        "\n",
        "    Parameters\n",
        "    ----------\n",
        "    success_msg : str\n",
        "        The success message to display.\n",
        "    \"\"\"\n",
        "    display(HTML(f'''<div class=\"alert alert-block alert-success\">\n",
        "    <b class=\"fa fa-solid fa-check-circle\"></b>\n",
        "    <div>\n",
        "        <p><b>Success</b></p>\n",
        "        <p>{success_msg}</p>\n",
        "    </div>\n",
        "</div>'''))"
      ]
    },
    {
      "cell_type": "markdown",
      "metadata": {},
      "source": [
        "### Log Control"
      ]
    },
    {
      "cell_type": "code",
      "execution_count": 4,
      "metadata": {},
      "outputs": [],
      "source": [
        "def set_logging_enabled(enabled):\n",
        "    if enabled:\n",
        "        logging.getLogger().setLevel(logging.INFO)\n",
        "    else:\n",
        "        logging.getLogger().setLevel(logging.ERROR)"
      ]
    },
    {
      "cell_type": "markdown",
      "metadata": {},
      "source": [
        "**Note**\n",
        "\n",
        "To enable logs\n",
        "Modify 'set_logging_enabled(False)' to 'set_logging_enabled(True)' in code above"
      ]
    },
    {
      "cell_type": "markdown",
      "metadata": {},
      "source": [
        "### Fetch Org Secrets"
      ]
    },
    {
      "cell_type": "code",
      "execution_count": 5,
      "metadata": {},
      "outputs": [],
      "source": [
        "def get_org_secret(lookup_key):\n",
        "    \"\"\"\n",
        "    Get the organization secret using a lookup key.\n",
        "\n",
        "    Parameters\n",
        "    ----------\n",
        "    lookup_key : str\n",
        "        The lookup key for the organization secret.\n",
        "\n",
        "    Returns\n",
        "    -------\n",
        "    str\n",
        "        The organization secret.\n",
        "\n",
        "    \"\"\"\n",
        "    return s2.manage_workspaces().org.get_secret(lookup_key).value"
      ]
    },
    {
      "cell_type": "markdown",
      "metadata": {},
      "source": [
        "### Function to generate restore statement"
      ]
    },
    {
      "cell_type": "code",
      "execution_count": 6,
      "metadata": {},
      "outputs": [],
      "source": [
        "def get_sql_statement():\n",
        "\n",
        "    aws_key_id = get_org_secret('BACKUP_APP_AWS_API_KEY_ID')\n",
        "    aws_secret_key = get_org_secret('BACKUP_APP_AWS_API_SECRET_KEY')\n",
        "    aws_region = input('BACKUP_APP_AWS_BUCKET_REGION')\n",
        "\n",
        "    data = io.StringIO()\n",
        "    data.write('RESTORE DATABASE ' + restore_database_name + ' ')\n",
        "\n",
        "    if use_alias == 'Y':\n",
        "        data.write(' AS ' + new_database_name + ' ')\n",
        "\n",
        "    data.write(' FROM S3 \"' + s3_backup_path + '\" ')\n",
        "    data.write(' CONFIG \\' {\"region\":\"' + aws_region + '\"} \\'')\n",
        "    data.write(' CREDENTIALS \\'{\"aws_access_key_id\":\"' + aws_key_id\n",
        "               + '\",\"aws_secret_access_key\":\"' + aws_secret_key + '\"}\\' ')\n",
        "    logging.debug(f'statement: {data.getvalue()}')\n",
        "    return data.getvalue()"
      ]
    },
    {
      "cell_type": "code",
      "execution_count": 7,
      "metadata": {},
      "outputs": [],
      "source": [
        "print('Script execution began')\n",
        "if connection_url.endswith('/'):\n",
        "    show_warn('Database not selected. Please select from dropdown in top of web page')\n",
        "else:\n",
        "    try:\n",
        "        set_logging_enabled(False)\n",
        "\n",
        "        conn = s2.connect()\n",
        "        with conn.cursor() as cursor:\n",
        "            cursor.execute(get_sql_statement())\n",
        "            results = cursor.fetchall()\n",
        "            if results is None:\n",
        "                logging.error('Restore execution failed')\n",
        "                show_error('Restore Failed')\n",
        "            else:\n",
        "                logging.info(\"Restore completed\")\n",
        "                show_success('Restore completed')\n",
        "    except s2.exceptions.OperationalError as ope:\n",
        "        if 'NoSuchBucket' in ope.errmsg:\n",
        "            logging.error('Provided S3 Bucket does not exists. please check')\n",
        "            show_error('Provided S3 Bucket does not exists. please check')\n",
        "        elif 'Access denied' in ope.errmsg:\n",
        "            logging.error('Failed to restore due to grants missing or firewall settings.please check')\n",
        "            show_error('Failed to restore due to grants missing or firewall settings.please check')\n",
        "        else:\n",
        "            logging.error(f'Failed. error msg: {ope.errmsg}')\n",
        "            show_error('Restore Failed. error msg: {ope.errmsg}')\n",
        "    except s2.Error as e:\n",
        "        logging.error(f'Encountered exception {e}')\n",
        "        show_error(f'Restore Failed. {str(e)}')\n",
        "\n",
        "print('\\n\\nScript execution completed')"
      ]
    },
    {
      "attachments": {},
      "cell_type": "markdown",
      "metadata": {},
      "source": [
        "### Verify Result"
      ]
    },
    {
      "cell_type": "code",
      "execution_count": 8,
      "metadata": {},
      "outputs": [],
      "source": [
        "%sql select schema_name from information_schema.SCHEMATA;"
      ]
    },
    {
      "cell_type": "markdown",
      "id": "318681fb-baf6-4acb-b854-5adc1bc60a00",
      "metadata": {},
      "source": [
        "<div id=\"singlestore-footer\" style=\"background-color: rgba(194, 193, 199, 0.25); height:2px; margin-bottom:10px\"></div>\n",
        "<div><img src=\"https://raw.githubusercontent.com/singlestore-labs/spaces-notebooks/master/common/images/singlestore-logo-grey.png\" style=\"padding: 0px; margin: 0px; height: 24px\"/></div>"
      ]
    }
  ],
  "metadata": {
    "kernelspec": {
      "display_name": "Python 3 (ipykernel)",
      "language": "python",
      "name": "python3"
    },
    "language_info": {
      "codemirror_mode": {
        "name": "ipython",
        "version": 3
      },
      "file_extension": ".py",
      "mimetype": "text/x-python",
      "name": "python",
      "nbconvert_exporter": "python",
      "pygments_lexer": "ipython3",
      "version": "3.11.6"
    }
  },
  "nbformat": 4,
  "nbformat_minor": 4
}
