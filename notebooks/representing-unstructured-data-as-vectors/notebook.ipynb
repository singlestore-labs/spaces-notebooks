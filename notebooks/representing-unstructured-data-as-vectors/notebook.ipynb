{
  "cells": [
    {
      "id": "0ec251f1",
      "cell_type": "markdown",
      "metadata": {},
      "source": [
        "<div id=\"singlestore-header\" style=\"display: flex; background-color: rgba(209, 153, 255, 0.25); padding: 5px;\">\n",
        "    <div id=\"icon-image\" style=\"width: 90px; height: 90px;\">\n",
        "        <img width=\"100%\" height=\"100%\" src=\"https://raw.githubusercontent.com/singlestore-labs/spaces-notebooks/master/common/images/header-icons/vector-circle.png\" />\n",
        "    </div>\n",
        "    <div id=\"text\" style=\"padding: 5px; margin-left: 10px;\">\n",
        "        <div id=\"badge\" style=\"display: inline-block; background-color: rgba(0, 0, 0, 0.15); border-radius: 4px; padding: 4px 8px; align-items: center; margin-top: 6px; margin-bottom: -2px; font-size: 80%\">SingleStore Notebooks</div>\n",
        "        <h1 style=\"font-weight: 500; margin: 8px 0 0 4px;\">Representing Unstructured Data as Vectors</h1>\n",
        "    </div>\n",
        "</div>"
      ]
    },
    {
      "cell_type": "markdown",
      "metadata": {},
      "source": [
        "## Representing Unstructured Data as Vectors\n",
        "Visualizing these vectors and measuring the distance between these vectors using various methods such as Manhattan Distance, Euclidean Distance, Cosine Distance & Dot Product"
      ],
      "id": "565b961f"
    },
    {
      "cell_type": "markdown",
      "metadata": {},
      "source": [
        "Let's take an example of two pets and visualize them in a 3D space. We will try to find the Manhattan Distance, Euclidean Distance, Cosine Distance & Dot Product between these two pets."
      ],
      "id": "7ac857fe"
    },
    {
      "cell_type": "markdown",
      "metadata": {},
      "source": [
        "Hypothetically consider these vectors for to represent dog and cat.\n",
        "dog = [5, 30, 2]\n",
        "cat = [3, 25, 4]"
      ],
      "id": "916063d3"
    },
    {
      "cell_type": "markdown",
      "metadata": {},
      "source": [
        "### Install the libraries required"
      ],
      "id": "bbae7661"
    },
    {
      "cell_type": "code",
      "execution_count": 1,
      "metadata": {},
      "outputs": [],
      "source": [
        "!pip install numpy matplotlib --quiet"
      ],
      "id": "386e29fc"
    },
    {
      "cell_type": "markdown",
      "metadata": {},
      "source": [
        "### Import the libraries"
      ],
      "id": "7207d8e9"
    },
    {
      "cell_type": "code",
      "execution_count": 2,
      "metadata": {},
      "outputs": [],
      "source": [
        "import matplotlib.pyplot as plt\n",
        "import numpy as np"
      ],
      "id": "8d9089b4"
    },
    {
      "cell_type": "code",
      "execution_count": 3,
      "metadata": {},
      "outputs": [],
      "source": [
        "from mpl_toolkits.mplot3d import Axes3D\n",
        "\n",
        "# Example pets attributes: [weight, height, age]\n",
        "# These are hypothetical numbers for illustration purposes\n",
        "dog = [5, 30, 2]\n",
        "cat = [3, 25, 4]\n",
        "\n",
        "fig = plt.figure()\n",
        "ax = fig.add_subplot(111, projection='3d')\n",
        "\n",
        "# Plotting the pets\n",
        "ax.scatter(dog[0], dog[1], dog[2], label=\"Dog\", c='blue')\n",
        "ax.scatter(cat[0], cat[1], cat[2], label=\"Cat\", c='green')\n",
        "\n",
        "# Drawing lines from the origin to the points\n",
        "ax.quiver(0, 0, 0, dog[0], dog[1], dog[2], color='blue', arrow_length_ratio=0.1)\n",
        "ax.quiver(0, 0, 0, cat[0], cat[1], cat[2], color='green', arrow_length_ratio=0.1)\n",
        "\n",
        "# Labeling the axes\n",
        "ax.set_xlabel('Weight (kg)')\n",
        "ax.set_ylabel('Height (cm)')\n",
        "ax.set_zlabel('Age (years)')\n",
        "\n",
        "# Setting the limits for better visualization\n",
        "ax.set_xlim(0, 10)\n",
        "ax.set_ylim(0, 40)\n",
        "ax.set_zlim(0, 5)\n",
        "\n",
        "# Adding legend and title\n",
        "ax.legend()\n",
        "ax.set_title('3D Representation of Pets')\n",
        "\n",
        "plt.show()"
      ],
      "id": "ea181a08"
    },
    {
      "cell_type": "markdown",
      "metadata": {},
      "source": [
        "### Manhattan Distance"
      ],
      "id": "988ef57c"
    },
    {
      "cell_type": "markdown",
      "metadata": {},
      "source": [
        "Manhattan distance is like calculating the total distance you would travel between two points (dog and cat here) if you could only move in straight lines"
      ],
      "id": "7252eade"
    },
    {
      "cell_type": "code",
      "execution_count": 4,
      "metadata": {},
      "outputs": [],
      "source": [
        "L1 = [abs(dog[i] - cat[i]) for i in range(len(dog))]\n",
        "sum(L1)"
      ],
      "id": "5bddfc07"
    },
    {
      "cell_type": "markdown",
      "metadata": {},
      "source": [
        "### Euclidean Distance"
      ],
      "id": "5ab22a1e"
    },
    {
      "cell_type": "markdown",
      "metadata": {},
      "source": [
        "Euclidean distance is like the straight-line distance between two points, as if you could draw a straight line from one point to another, not limited by any paths or grids, similar to how a bird would fly directly between two locations."
      ],
      "id": "f5bcdc90"
    },
    {
      "cell_type": "code",
      "execution_count": 5,
      "metadata": {},
      "outputs": [],
      "source": [
        "L2 = [(dog[i] - cat[i])**2 for i in range(len(dog))]\n",
        "\n",
        "L2 = np.sqrt(np.array(L2).sum())\n",
        "L2"
      ],
      "id": "ec15b420"
    },
    {
      "cell_type": "markdown",
      "metadata": {},
      "source": [
        "### Cosine Distance"
      ],
      "id": "6591546d"
    },
    {
      "cell_type": "markdown",
      "metadata": {},
      "source": [
        "Cosine distance is a measure of orientation rather than actual distance; it's like comparing the directions in which two arrows are pointing, regardless of how long the arrows are or where they are located."
      ],
      "id": "3d04c0e3"
    },
    {
      "cell_type": "code",
      "execution_count": 6,
      "metadata": {},
      "outputs": [],
      "source": [
        "cosine = np.dot(dog, cat) / (np.linalg.norm(dog) * np.linalg.norm(cat))\n",
        "cosine"
      ],
      "id": "5bd73484"
    },
    {
      "cell_type": "markdown",
      "metadata": {},
      "source": [
        "### Dot Product"
      ],
      "id": "315867e3"
    },
    {
      "cell_type": "markdown",
      "metadata": {},
      "source": [
        "The dot product is like measuring how much one vector goes in the same direction as another. It's like comparing two arrows and seeing how much one arrow points in the same direction as the other."
      ],
      "id": "68b952bf"
    },
    {
      "cell_type": "code",
      "execution_count": 7,
      "metadata": {},
      "outputs": [],
      "source": [
        "np.dot(dog,cat)"
      ],
      "id": "8cdea606"
    },
    {
      "id": "da390400",
      "cell_type": "markdown",
      "metadata": {},
      "source": [
        "<div id=\"singlestore-footer\" style=\"background-color: rgba(194, 193, 199, 0.25); height:2px; margin-bottom:10px\"></div>\n",
        "<div><img src=\"https://raw.githubusercontent.com/singlestore-labs/spaces-notebooks/master/common/images/singlestore-logo-grey.png\" style=\"padding: 0px; margin: 0px; height: 24px\"/></div>"
      ]
    }
  ],
  "metadata": {
    "jupyterlab": {
      "notebooks": {
        "version_major": 6,
        "version_minor": 4
      }
    },
    "kernelspec": {
      "display_name": "Python 3 (ipykernel)",
      "language": "python",
      "name": "python3"
    },
    "language_info": {
      "codemirror_mode": {
        "name": "ipython",
        "version": 3
      },
      "file_extension": ".py",
      "mimetype": "text/x-python",
      "name": "python",
      "nbconvert_exporter": "python",
      "pygments_lexer": "ipython3",
      "version": "3.11.3"
    }
  },
  "nbformat": 4,
  "nbformat_minor": 5
}
