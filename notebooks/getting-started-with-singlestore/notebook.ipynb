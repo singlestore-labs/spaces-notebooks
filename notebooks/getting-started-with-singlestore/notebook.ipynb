{
  "cells": [
    {
      "id": "8bb1a5e8",
      "cell_type": "markdown",
      "metadata": {},
      "source": [
        "<div id=\"singlestore-header\" style=\"display: flex; background-color: rgba(235, 249, 245, 0.25); padding: 5px;\">\n",
        "    <div id=\"icon-image\" style=\"width: 90px; height: 90px;\">\n",
        "        <img width=\"100%\" height=\"100%\" src=\"https://raw.githubusercontent.com/singlestore-labs/spaces-notebooks/master/common/images/header-icons/database.png\" />\n",
        "    </div>\n",
        "    <div id=\"text\" style=\"padding: 5px; margin-left: 10px;\">\n",
        "        <div id=\"badge\" style=\"display: inline-block; background-color: rgba(0, 0, 0, 0.15); border-radius: 4px; padding: 4px 8px; align-items: center; margin-top: 6px; margin-bottom: -2px; font-size: 80%\">SingleStore Notebooks</div>\n",
        "        <h1 style=\"font-weight: 500; margin: 8px 0 0 4px;\">Getting Started with SingleStore</h1>\n",
        "    </div>\n",
        "</div>"
      ]
    },
    {
      "id": "84c5fe68",
      "cell_type": "markdown",
      "metadata": {},
      "source": [
        "<div class=\"alert alert-block alert-warning\">\n",
        "    <b class=\"fa fa-solid fa-exclamation-circle\"></b>\n",
        "    <div>\n",
        "        <p><b>Note</b></p>\n",
        "        <p>This notebook can be run on a Free Starter Workspace. To create a Free Starter Workspace navigate to <tt>Start</tt> using the left nav. You can also use your existing Standard or Premium workspace with this Notebook.</p>\n",
        "    </div>\n",
        "</div>"
      ]
    },
    {
      "attachments": {},
      "cell_type": "markdown",
      "metadata": {},
      "source": [
        "This Jupyter notebook provides a comprehensive overview and test drive of SingleStore's multi-model capabilities, showcasing how to efficiently manage and query diverse data types within a single database platform.\n",
        "\n",
        "The notebook starts with a simple \"Getting Started\" example, guiding users through various standard SQL queries to interact with the database. It then progressively demonstrates how to add and query different data models, including vectors for machine learning, full-text search for unstructured data, JSON for hierarchical data, geospatial data for location-based queries, and time series data for temporal analysis. This hands-on approach offers an accessible way for users to explore SingleStore's versatility and powerful multi-model functionality."
      ],
      "id": "cc9e68a6"
    },
    {
      "attachments": {},
      "cell_type": "markdown",
      "metadata": {},
      "source": [
        "# Simple \"Getting Started\" example\n",
        "\n",
        "This code checks whether the current database environment is using a \"shared tier\" and then conditionally drops and creates a database based on the result."
      ],
      "id": "4de61cfe"
    },
    {
      "cell_type": "code",
      "execution_count": 1,
      "metadata": {},
      "outputs": [],
      "source": [
        "shared_tier_check = %sql SHOW VARIABLES LIKE \"is_shared_tier\"\n",
        "if not shared_tier_check or shared_tier_check[0][1] == \"OFF\":\n",
        "    %sql DROP DATABASE IF EXISTS multi_model;\n",
        "    %sql CREATE DATABASE IF NOT EXISTS multi_model;"
      ],
      "id": "2540a7db"
    },
    {
      "attachments": {},
      "cell_type": "markdown",
      "metadata": {},
      "source": [
        "<div class=\"alert alert-block alert-warning\">\n",
        "    <b class=\"fa fa-solid fa-exclamation-circle\"></b>\n",
        "    <div>\n",
        "        <p><b>Action Required</b></p>\n",
        "        <p>Select the database from the drop-down menu at the top of this notebook.</p>\n",
        "    </div>\n",
        "</div>"
      ],
      "id": "538cfe6c"
    },
    {
      "attachments": {},
      "cell_type": "markdown",
      "metadata": {},
      "source": [
        "# Various standard SQL queries\n",
        "\n",
        "## Create some simple tables\n",
        "\n",
        "This setup establishes a basic relational structure to store customer information and their corresponding orders."
      ],
      "id": "cdd86f23"
    },
    {
      "cell_type": "code",
      "execution_count": 2,
      "metadata": {},
      "outputs": [],
      "source": [
        "%%sql\n",
        "DROP TABLE IF EXISTS customers;\n",
        "DROP TABLE IF EXISTS orders;\n",
        "\n",
        "CREATE TABLE IF NOT EXISTS customers /* Creating table for sample data. */(\n",
        "    customer_id INT PRIMARY KEY,\n",
        "    customer_name VARCHAR(50),\n",
        "    country VARCHAR(50)\n",
        ");\n",
        "\n",
        "CREATE TABLE IF NOT EXISTS orders /* Creating table for sample data. */(\n",
        "    order_id INT PRIMARY KEY,\n",
        "    customer_id INT,\n",
        "    amount DECIMAL(10, 2),\n",
        "    product VARCHAR(50)\n",
        ");"
      ],
      "id": "6e20a7c4"
    },
    {
      "attachments": {},
      "cell_type": "markdown",
      "metadata": {},
      "source": [
        "## Insert some data"
      ],
      "id": "a71561fb"
    },
    {
      "cell_type": "code",
      "execution_count": 3,
      "metadata": {},
      "outputs": [],
      "source": [
        "%%sql\n",
        "INSERT INTO customers (customer_id, customer_name, country) VALUES\n",
        "(1, \"John Doe\", \"Canada\"),\n",
        "(2, \"Jane Smith\", \"Canada\"),\n",
        "(3, \"Sam Brown\", \"Canada\"),\n",
        "(4, \"Lisa White\", \"Canada\"),\n",
        "(5, \"Mark Black\", \"Canada\");\n",
        "\n",
        "INSERT INTO orders (order_id, customer_id, amount, product) VALUES\n",
        "(101, 1, 150.00, \"Book\"),\n",
        "(102, 2, 200.00, \"Pen\"),\n",
        "(103, 3, 50.00, \"Notebook\"),\n",
        "(104, 1, 300.00, \"Laptop\"),\n",
        "(105, 4, 250.00, \"Tablet\");"
      ],
      "id": "e7c7b621"
    },
    {
      "attachments": {},
      "cell_type": "markdown",
      "metadata": {},
      "source": [
        "## Sum of amounts"
      ],
      "id": "2dfcbabc"
    },
    {
      "cell_type": "code",
      "execution_count": 4,
      "metadata": {},
      "outputs": [],
      "source": [
        "%%sql\n",
        "SELECT\n",
        "    SUM(amount) AS total_sales\n",
        "FROM\n",
        "    orders;"
      ],
      "id": "dc7eee97"
    },
    {
      "attachments": {},
      "cell_type": "markdown",
      "metadata": {},
      "source": [
        "## Minimum amount"
      ],
      "id": "4fe579a5"
    },
    {
      "cell_type": "code",
      "execution_count": 5,
      "metadata": {},
      "outputs": [],
      "source": [
        "%%sql\n",
        "SELECT\n",
        "    MIN(amount) AS min_order_amount\n",
        "FROM\n",
        "    orders;"
      ],
      "id": "3cc46257"
    },
    {
      "attachments": {},
      "cell_type": "markdown",
      "metadata": {},
      "source": [
        "## Maximum amount"
      ],
      "id": "7d34e9f8"
    },
    {
      "cell_type": "code",
      "execution_count": 6,
      "metadata": {},
      "outputs": [],
      "source": [
        "%%sql\n",
        "SELECT\n",
        "    MAX(amount) AS max_order_amount\n",
        "FROM\n",
        "    orders;"
      ],
      "id": "64867b2c"
    },
    {
      "attachments": {},
      "cell_type": "markdown",
      "metadata": {},
      "source": [
        "## Average amount"
      ],
      "id": "0c90d396"
    },
    {
      "cell_type": "code",
      "execution_count": 7,
      "metadata": {},
      "outputs": [],
      "source": [
        "%%sql\n",
        "SELECT\n",
        "    ROUND(AVG(amount), 2) AS avg_order_amount\n",
        "FROM\n",
        "    orders;"
      ],
      "id": "f69edd06"
    },
    {
      "attachments": {},
      "cell_type": "markdown",
      "metadata": {},
      "source": [
        "## Count the number of orders"
      ],
      "id": "f3790e0b"
    },
    {
      "cell_type": "code",
      "execution_count": 8,
      "metadata": {},
      "outputs": [],
      "source": [
        "%%sql\n",
        "SELECT\n",
        "    COUNT(*) AS number_of_orders\n",
        "FROM\n",
        "    orders;"
      ],
      "id": "e3b617d5"
    },
    {
      "attachments": {},
      "cell_type": "markdown",
      "metadata": {},
      "source": [
        "## Join customers and orders tables"
      ],
      "id": "41b93287"
    },
    {
      "cell_type": "code",
      "execution_count": 9,
      "metadata": {},
      "outputs": [],
      "source": [
        "%%sql\n",
        "SELECT\n",
        "    customers.customer_name,\n",
        "    orders.order_id,\n",
        "    orders.amount\n",
        "FROM\n",
        "    customers, orders\n",
        "WHERE\n",
        "    customers.customer_id = orders.customer_id\n",
        "ORDER BY\n",
        "    amount ASC;"
      ],
      "id": "f7b794ca"
    },
    {
      "attachments": {},
      "cell_type": "markdown",
      "metadata": {},
      "source": [
        "## Group by customer and calculate total amount spent"
      ],
      "id": "f1702c95"
    },
    {
      "cell_type": "code",
      "execution_count": 10,
      "metadata": {},
      "outputs": [],
      "source": [
        "%%sql\n",
        "SELECT\n",
        "    customers.customer_name,\n",
        "    SUM(orders.amount) AS total_spent\n",
        "FROM\n",
        "    customers, orders\n",
        "WHERE\n",
        "    customers.customer_id = orders.customer_id\n",
        "GROUP BY\n",
        "    customers.customer_name\n",
        "ORDER BY\n",
        "    total_spent DESC;"
      ],
      "id": "459f9450"
    },
    {
      "attachments": {},
      "cell_type": "markdown",
      "metadata": {},
      "source": [
        "# Add Vectors\n",
        "\n",
        "## Add a 3-dimensional vector to the orders table"
      ],
      "id": "a4176781"
    },
    {
      "cell_type": "code",
      "execution_count": 11,
      "metadata": {},
      "outputs": [],
      "source": [
        "%%sql\n",
        "ALTER TABLE orders ADD COLUMN dimensions VECTOR(3);"
      ],
      "id": "f6b958e0"
    },
    {
      "attachments": {},
      "cell_type": "markdown",
      "metadata": {},
      "source": [
        "## Add some vector data\n",
        "\n",
        "### 3 dimensions represent Length (L), Width (W) and Height (H) in cm"
      ],
      "id": "a0ad0c75"
    },
    {
      "cell_type": "code",
      "execution_count": 12,
      "metadata": {},
      "outputs": [],
      "source": [
        "%%sql\n",
        "UPDATE orders SET dimensions = '[8.5, 5.5, 1.0]' WHERE order_id = 101;\n",
        "UPDATE orders SET dimensions = '[0.5, 0.5, 14.0]' WHERE order_id = 102;\n",
        "UPDATE orders SET dimensions = '[21.0, 29.7, 0.5]' WHERE order_id = 103;\n",
        "UPDATE orders SET dimensions = '[32.0, 22.0, 2.0]' WHERE order_id = 104;\n",
        "UPDATE orders SET dimensions = '[24.0, 16.0, 0.7]' WHERE order_id = 105;"
      ],
      "id": "ddb5c5ca"
    },
    {
      "attachments": {},
      "cell_type": "markdown",
      "metadata": {},
      "source": [
        "## Show the vectors"
      ],
      "id": "d082d79a"
    },
    {
      "cell_type": "code",
      "execution_count": 13,
      "metadata": {},
      "outputs": [],
      "source": [
        "%%sql\n",
        "SET vector_type_project_format = JSON;\n",
        "\n",
        "SELECT\n",
        "    *\n",
        "FROM\n",
        "    orders;"
      ],
      "id": "79a7b7d2"
    },
    {
      "attachments": {},
      "cell_type": "markdown",
      "metadata": {},
      "source": [
        "## Select orders using <*> which is Dot Product\n",
        "\n",
        "The dot product is a way of multiplying two vectors to get a single number (a scalar).\n",
        "\n",
        "In simple terms, the dot product provides a way to combine two sets of numbers into a single value that reflects how much the vectors \"point\" in the same direction."
      ],
      "id": "7230ca67"
    },
    {
      "cell_type": "code",
      "execution_count": 14,
      "metadata": {},
      "outputs": [],
      "source": [
        "%%sql\n",
        "SET vector_type_project_format = JSON;\n",
        "\n",
        "SELECT\n",
        "    *,\n",
        "    ROUND((dimensions <*> '[32.0, 22.0, 2.0]'), 2) AS score\n",
        "--  ROUND(DOT_PRODUCT(dimensions, '[32.0, 22.0, 2.0]'), 2) AS score\n",
        "FROM\n",
        "    orders\n",
        "ORDER BY\n",
        "    score DESC;"
      ],
      "id": "0e0e71e3"
    },
    {
      "attachments": {},
      "cell_type": "markdown",
      "metadata": {},
      "source": [
        "## Select orders using <-> which is Euclidean Distance\n",
        "\n",
        "Euclidean distance is a way to measure how far apart two points are in space.\n",
        "\n",
        "In simple terms, Euclidean distance provides a straight-line measurement of how far one point is from another, like using a ruler to measure the distance between two points on a map."
      ],
      "id": "89c6d75b"
    },
    {
      "cell_type": "code",
      "execution_count": 15,
      "metadata": {},
      "outputs": [],
      "source": [
        "%%sql\n",
        "SET vector_type_project_format = JSON;\n",
        "\n",
        "SELECT\n",
        "    *,\n",
        "    ROUND((dimensions <-> '[32.0, 22.0, 2.0]'), 2) AS score\n",
        "--  ROUND(EUCLIDEAN_DISTANCE(dimensions, '[32.0, 22.0, 2.0]'), 2) AS score\n",
        "FROM\n",
        "    orders\n",
        "ORDER BY\n",
        "    score ASC;"
      ],
      "id": "bf3d573b"
    },
    {
      "attachments": {},
      "cell_type": "markdown",
      "metadata": {},
      "source": [
        "# Add Full-Text\n",
        "\n",
        "## Add a description column to the orders table"
      ],
      "id": "42ee6179"
    },
    {
      "cell_type": "code",
      "execution_count": 16,
      "metadata": {},
      "outputs": [],
      "source": [
        "%%sql\n",
        "ALTER TABLE orders ADD COLUMN description VARCHAR(255);"
      ],
      "id": "213a78e8"
    },
    {
      "attachments": {},
      "cell_type": "markdown",
      "metadata": {},
      "source": [
        "## Update orders table with descriptions"
      ],
      "id": "48410a03"
    },
    {
      "cell_type": "code",
      "execution_count": 17,
      "metadata": {},
      "outputs": [],
      "source": [
        "%%sql\n",
        "UPDATE orders\n",
        "SET description = CASE\n",
        "    WHEN product = \"Book\" THEN \"A high-quality book that offers insightful content and engaging narratives.\"\n",
        "    WHEN product = \"Pen\" THEN \"A smooth-writing pen designed for comfort and precision.\"\n",
        "    WHEN product = \"Notebook\" THEN \"A versatile notebook perfect for notes, sketches, and ideas.\"\n",
        "    WHEN product = \"Laptop\" THEN \"A powerful laptop with high performance and sleek design for all your computing needs.\"\n",
        "    WHEN product = \"Tablet\" THEN \"A compact tablet with a vibrant display and versatile functionality.\"\n",
        "    ELSE \"A product with excellent features and quality.\"\n",
        "END;"
      ],
      "id": "48b313aa"
    },
    {
      "attachments": {},
      "cell_type": "markdown",
      "metadata": {},
      "source": [
        "## Show the descriptions"
      ],
      "id": "b81cf059"
    },
    {
      "cell_type": "code",
      "execution_count": 18,
      "metadata": {},
      "outputs": [],
      "source": [
        "%%sql\n",
        "SELECT\n",
        "    *\n",
        "FROM\n",
        "    orders;"
      ],
      "id": "5f8ff611"
    },
    {
      "attachments": {},
      "cell_type": "markdown",
      "metadata": {},
      "source": [
        "## Add a full-text index to the orders table"
      ],
      "id": "1396f5e4"
    },
    {
      "cell_type": "code",
      "execution_count": 19,
      "metadata": {},
      "outputs": [],
      "source": [
        "%%sql\n",
        "ALTER TABLE orders ADD FULLTEXT USING VERSION 2 orders_ft_index (product, description);\n",
        "OPTIMIZE TABLE orders FLUSH;"
      ],
      "id": "3d806b06"
    },
    {
      "attachments": {},
      "cell_type": "markdown",
      "metadata": {},
      "source": [
        "## Search for a match on \"vibrant\" in the description part"
      ],
      "id": "0c46797b"
    },
    {
      "cell_type": "code",
      "execution_count": 20,
      "metadata": {},
      "outputs": [],
      "source": [
        "%%sql\n",
        "SELECT\n",
        "    *\n",
        "FROM\n",
        "    orders\n",
        "WHERE\n",
        "    MATCH (TABLE orders) AGAINST (\"description:vibrant\");"
      ],
      "id": "e5d55bde"
    },
    {
      "attachments": {},
      "cell_type": "markdown",
      "metadata": {},
      "source": [
        "## Use various operators to show flexibility\n",
        "\n",
        "### + (must appear), * (multiple wildcard), ? (single wildcard)"
      ],
      "id": "1a865df4"
    },
    {
      "cell_type": "code",
      "execution_count": 21,
      "metadata": {},
      "outputs": [],
      "source": [
        "%%sql\n",
        "SELECT\n",
        "    product\n",
        "FROM\n",
        "    orders\n",
        "WHERE\n",
        "    MATCH (TABLE orders) AGAINST (\"product:(+oo?) OR description:versa*\");"
      ],
      "id": "c1ac7e50"
    },
    {
      "attachments": {},
      "cell_type": "markdown",
      "metadata": {},
      "source": [
        "# Add JSON\n",
        "\n",
        "## Add a JSON column to the orders table"
      ],
      "id": "890c2ee0"
    },
    {
      "cell_type": "code",
      "execution_count": 22,
      "metadata": {},
      "outputs": [],
      "source": [
        "%%sql\n",
        "ALTER TABLE orders ADD COLUMN additional_details JSON NOT NULL;"
      ],
      "id": "a0ee822e"
    },
    {
      "attachments": {},
      "cell_type": "markdown",
      "metadata": {},
      "source": [
        "## Update orders table with additional details in JSON format"
      ],
      "id": "f758983e"
    },
    {
      "cell_type": "code",
      "execution_count": 23,
      "metadata": {},
      "outputs": [],
      "source": [
        "%%sql\n",
        "UPDATE orders\n",
        "SET additional_details = CASE\n",
        "    WHEN order_id = 101 THEN '{\n",
        "        \"invoice_number\": \"INV1001\",\n",
        "        \"order_status\": \"Delivered\",\n",
        "        \"shipping_address\": {\n",
        "            \"street\": \"456 Elm St\",\n",
        "            \"city\": \"Toronto\",\n",
        "            \"state\": \"ON\",\n",
        "        \"postal_code\": \"M5A 1A1\",\n",
        "        \"country\": \"Canada\"\n",
        "        },\n",
        "        \"payment_method\": \"Credit Card\",\n",
        "        \"discounts_applied\": [{\n",
        "            \"discount_code\": \"WELCOME10\",\n",
        "            \"amount\": 10.00\n",
        "        }],\n",
        "        \"order_date\": \"2024-07-01\",\n",
        "        \"estimated_delivery_date\": \"2024-07-05\",\n",
        "        \"tracking_number\": \"TRACK1001\",\n",
        "        \"customer_notes\": \"Leave at the front desk.\"\n",
        "    }'\n",
        "    WHEN order_id = 102 THEN '{\n",
        "        \"invoice_number\": \"INV1002\",\n",
        "        \"order_status\": \"Pending\",\n",
        "        \"shipping_address\": {\n",
        "            \"street\": \"789 Oak St\",\n",
        "            \"city\": \"Vancouver\",\n",
        "            \"state\": \"BC\",\n",
        "            \"postal_code\": \"V5K 1A1\",\n",
        "            \"country\": \"Canada\"\n",
        "        },\n",
        "        \"payment_method\": \"PayPal\",\n",
        "        \"discounts_applied\": [{\n",
        "            \"discount_code\": \"SPRING20\",\n",
        "            \"amount\": 20.00\n",
        "        }],\n",
        "        \"order_date\": \"2024-07-02\",\n",
        "        \"estimated_delivery_date\": \"2024-07-06\",\n",
        "        \"tracking_number\": \"TRACK1002\",\n",
        "        \"customer_notes\": \"Contact me before delivery.\"\n",
        "    }'\n",
        "    WHEN order_id = 103 THEN '{\n",
        "        \"invoice_number\": \"INV1003\",\n",
        "        \"order_status\": \"Shipped\",\n",
        "        \"shipping_address\": {\n",
        "            \"street\": \"321 Pine St\",\n",
        "            \"city\": \"Montreal\",\n",
        "            \"state\": \"QC\",\n",
        "            \"postal_code\": \"H2X 1Y4\",\n",
        "            \"country\": \"Canada\"\n",
        "        },\n",
        "        \"payment_method\": \"Credit Card\",\n",
        "        \"discounts_applied\": [{\n",
        "            \"discount_code\": \"SAVE15\",\n",
        "            \"amount\": 15.00\n",
        "        }],\n",
        "        \"order_date\": \"2024-07-03\",\n",
        "        \"estimated_delivery_date\": \"2024-07-07\",\n",
        "        \"tracking_number\": \"TRACK1003\",\n",
        "        \"customer_notes\": \"Deliver after 5 PM.\"\n",
        "    }'\n",
        "    WHEN order_id = 104 THEN '{\n",
        "        \"invoice_number\": \"INV1004\",\n",
        "        \"order_status\": \"Shipped\",\n",
        "        \"shipping_address\": {\n",
        "            \"street\": \"654 Maple St\",\n",
        "            \"city\": \"Calgary\",\n",
        "            \"state\": \"AB\",\n",
        "            \"postal_code\": \"T2P 1N4\",\n",
        "            \"country\": \"Canada\"\n",
        "        },\n",
        "        \"payment_method\": \"Credit Card\",\n",
        "        \"discounts_applied\": [{\n",
        "            \"discount_code\": \"NEWYEAR25\",\n",
        "            \"amount\": 25.00\n",
        "        }],\n",
        "        \"order_date\": \"2024-07-01\",\n",
        "        \"estimated_delivery_date\": \"2024-07-08\",\n",
        "        \"tracking_number\": \"TRACK1004\",\n",
        "        \"customer_notes\": \"Leave package at the back door.\"\n",
        "    }'\n",
        "    WHEN order_id = 105 THEN '{\n",
        "        \"invoice_number\": \"INV1005\",\n",
        "        \"order_status\": \"Delivered\",\n",
        "        \"shipping_address\": {\n",
        "            \"street\": \"987 Birch St\",\n",
        "            \"city\": \"Ottawa\",\n",
        "            \"state\": \"ON\",\n",
        "            \"postal_code\": \"K1A 0A1\",\n",
        "            \"country\": \"Canada\"\n",
        "        },\n",
        "        \"payment_method\": \"PayPal\",\n",
        "        \"discounts_applied\": [{\n",
        "            \"discount_code\": \"HOLIDAY30\",\n",
        "            \"amount\": 30.00\n",
        "        }],\n",
        "        \"order_date\": \"2024-07-03\",\n",
        "        \"estimated_delivery_date\": \"2024-07-09\",\n",
        "        \"tracking_number\": \"TRACK1005\",\n",
        "        \"customer_notes\": \"Please ring the doorbell.\"\n",
        "    }'\n",
        "    ELSE '{}'\n",
        "END;"
      ],
      "id": "dcde1541"
    },
    {
      "attachments": {},
      "cell_type": "markdown",
      "metadata": {},
      "source": [
        "## Extract specific JSON fields"
      ],
      "id": "ceaced03"
    },
    {
      "cell_type": "code",
      "execution_count": 24,
      "metadata": {},
      "outputs": [],
      "source": [
        "%%sql\n",
        "SELECT\n",
        "    order_id,\n",
        "    additional_details::invoice_number AS invoice_number,\n",
        "    additional_details::order_status AS order_status\n",
        "FROM\n",
        "    orders\n",
        "ORDER BY\n",
        "    order_id;"
      ],
      "id": "cd0ad93b"
    },
    {
      "attachments": {},
      "cell_type": "markdown",
      "metadata": {},
      "source": [
        "## Find orders that have been \"Delivered\""
      ],
      "id": "b0acad1a"
    },
    {
      "cell_type": "code",
      "execution_count": 25,
      "metadata": {},
      "outputs": [],
      "source": [
        "%%sql\n",
        "SELECT\n",
        "    order_id,\n",
        "    additional_details::invoice_number AS invoice_number\n",
        "FROM\n",
        "    orders\n",
        "WHERE\n",
        "    additional_details::order_status = '\"Delivered\"'\n",
        "ORDER BY\n",
        "    order_id;"
      ],
      "id": "2b82f711"
    },
    {
      "attachments": {},
      "cell_type": "markdown",
      "metadata": {},
      "source": [
        "## Aggregate data based on JSON fields"
      ],
      "id": "c60f469a"
    },
    {
      "cell_type": "code",
      "execution_count": 26,
      "metadata": {},
      "outputs": [],
      "source": [
        "%%sql\n",
        "SELECT\n",
        "    additional_details::order_status AS order_status,\n",
        "    COUNT(*) AS order_count\n",
        "FROM\n",
        "    orders\n",
        "GROUP BY\n",
        "    order_status;"
      ],
      "id": "dfdaf99e"
    },
    {
      "attachments": {},
      "cell_type": "markdown",
      "metadata": {},
      "source": [
        "# Add Geospatial\n",
        "\n",
        "## Insert 2 more customers into customers table"
      ],
      "id": "ed5e7f6f"
    },
    {
      "cell_type": "code",
      "execution_count": 27,
      "metadata": {},
      "outputs": [],
      "source": [
        "%%sql\n",
        "INSERT INTO customers (customer_id, customer_name, country) VALUES\n",
        "(6, \"Emily Davis\", \"Canada\"),\n",
        "(7, \"Michael Johnson\", \"Canada\");"
      ],
      "id": "6b2cc109"
    },
    {
      "attachments": {},
      "cell_type": "markdown",
      "metadata": {},
      "source": [
        "## Create neighborhoods table for geospatial data"
      ],
      "id": "023e589e"
    },
    {
      "cell_type": "code",
      "execution_count": 28,
      "metadata": {},
      "outputs": [],
      "source": [
        "%%sql\n",
        "DROP TABLE IF EXISTS neighborhoods;\n",
        "\n",
        "CREATE TABLE IF NOT EXISTS neighborhoods /* Creating table for sample data. */(\n",
        "    id INT UNSIGNED NOT NULL,\n",
        "    name VARCHAR(64) NOT NULL,\n",
        "    population INT UNSIGNED NOT NULL,\n",
        "    shape TEXT NOT NULL,\n",
        "    centroid GEOGRAPHYPOINT NOT NULL,\n",
        "    sort key (name),\n",
        "    shard key (id)\n",
        ");"
      ],
      "id": "c86427ab"
    },
    {
      "attachments": {},
      "cell_type": "markdown",
      "metadata": {},
      "source": [
        "## Add some city data to the neighborhoods table"
      ],
      "id": "d3e71aac"
    },
    {
      "cell_type": "code",
      "execution_count": 29,
      "metadata": {},
      "outputs": [],
      "source": [
        "%%sql\n",
        "INSERT INTO neighborhoods (id, name, population, shape, centroid) VALUES\n",
        "(1, \"Toronto\", 2794356,\n",
        "    \"POLYGON((-79.6393 43.6777, -79.1152 43.6777, -79.1152 43.8554, -79.6393 43.8554, -79.6393 43.6777))\",\n",
        "    \"POINT(-79.3832 43.6532)\"\n",
        "),\n",
        "(2, \"Vancouver\", 662248,\n",
        "    \"POLYGON((-123.2247 49.1985, -123.0234 49.1985, -123.0234 49.3169, -123.2247 49.3169, -123.2247 49.1985))\",\n",
        "    \"POINT(-123.1216 49.2827)\"\n",
        "),\n",
        "(3, \"Montreal\", 1762949,\n",
        "    \"POLYGON((-73.9354 45.3991, -73.4757 45.3991, -73.4757 45.7044, -73.9354 45.7044, -73.9354 45.3991))\",\n",
        "    \"POINT(-73.5673 45.5017)\"\n",
        "),\n",
        "(4, \"Calgary\", 1306784,\n",
        "    \"POLYGON((-114.3160 50.8420, -113.8599 50.8420, -113.8599 51.2124, -114.3160 51.2124, -114.3160 50.8420))\",\n",
        "    \"POINT(-114.0719 51.0447)\"\n",
        "),\n",
        "(5, \"Ottawa\", 1017449,\n",
        "    \"POLYGON((-75.9274 45.2502, -75.3537 45.2502, -75.3537 45.5489, -75.9274 45.5489, -75.9274 45.2502))\",\n",
        "    \"POINT(-75.6972 45.4215)\"\n",
        ");"
      ],
      "id": "9b43cc6c"
    },
    {
      "attachments": {},
      "cell_type": "markdown",
      "metadata": {},
      "source": [
        "## Add a geospatial column to the customers table"
      ],
      "id": "1f45c65f"
    },
    {
      "cell_type": "code",
      "execution_count": 30,
      "metadata": {},
      "outputs": [],
      "source": [
        "%%sql\n",
        "ALTER TABLE customers ADD COLUMN location GEOGRAPHYPOINT;"
      ],
      "id": "e7591e5d"
    },
    {
      "attachments": {},
      "cell_type": "markdown",
      "metadata": {},
      "source": [
        "## Update customers table with location data"
      ],
      "id": "10a85572"
    },
    {
      "cell_type": "code",
      "execution_count": 31,
      "metadata": {},
      "outputs": [],
      "source": [
        "%%sql\n",
        "UPDATE customers SET location = \"POINT(-79.3832 43.6532)\" WHERE customer_id = 1;\n",
        "UPDATE customers SET location = \"POINT(-123.1216 49.2827)\" WHERE customer_id = 2;\n",
        "UPDATE customers SET location = \"POINT(-73.5673 45.5017)\" WHERE customer_id = 3;\n",
        "UPDATE customers SET location = \"POINT(-114.0719 51.0447)\" WHERE customer_id = 4;\n",
        "UPDATE customers SET location = \"POINT(-75.6972 45.4215)\" WHERE customer_id = 5;\n",
        "UPDATE customers SET location = \"POINT(-79.3832 43.6532)\" WHERE customer_id = 6;\n",
        "UPDATE customers SET location = \"POINT(-123.1216 49.2827)\" WHERE customer_id = 7;"
      ],
      "id": "b699b639"
    },
    {
      "attachments": {},
      "cell_type": "markdown",
      "metadata": {},
      "source": [
        "## Join the neighborhoods table to itself and measure distances between neighborhoods"
      ],
      "id": "5ebb2fb2"
    },
    {
      "cell_type": "code",
      "execution_count": 32,
      "metadata": {},
      "outputs": [],
      "source": [
        "%%sql\n",
        "SELECT\n",
        "    b.name AS town,\n",
        "    ROUND(GEOGRAPHY_DISTANCE(a.centroid, b.centroid), 0) AS distance_from_center,\n",
        "    ROUND(GEOGRAPHY_DISTANCE(a.shape, b.shape), 0) AS distance_from_border\n",
        "FROM\n",
        "    neighborhoods a, neighborhoods b\n",
        "WHERE\n",
        "    a.name = \"Vancouver\"\n",
        "ORDER BY\n",
        "    2;"
      ],
      "id": "68244e5c"
    },
    {
      "attachments": {},
      "cell_type": "markdown",
      "metadata": {},
      "source": [
        "## Find out where you are"
      ],
      "id": "308aa8ba"
    },
    {
      "cell_type": "code",
      "execution_count": 33,
      "metadata": {},
      "outputs": [],
      "source": [
        "%%sql\n",
        "SELECT\n",
        "    name\n",
        "FROM\n",
        "    neighborhoods\n",
        "WHERE\n",
        "    GEOGRAPHY_INTERSECTS(\"POINT(-79.3770 43.7500)\", shape);"
      ],
      "id": "26fb44d6"
    },
    {
      "attachments": {},
      "cell_type": "markdown",
      "metadata": {},
      "source": [
        "## Find customers within \"Vancouver\""
      ],
      "id": "f635b459"
    },
    {
      "cell_type": "code",
      "execution_count": 34,
      "metadata": {},
      "outputs": [],
      "source": [
        "%%sql\n",
        "SELECT\n",
        "    c.customer_id, c.customer_name\n",
        "FROM\n",
        "    customers c, neighborhoods n\n",
        "WHERE\n",
        "    n.name = \"Vancouver\" AND GEOGRAPHY_CONTAINS(n.shape, c.location);"
      ],
      "id": "a269a7e8"
    },
    {
      "attachments": {},
      "cell_type": "markdown",
      "metadata": {},
      "source": [
        "# Add Time Series\n",
        "\n",
        "## Count orders by day"
      ],
      "id": "4e0fc856"
    },
    {
      "cell_type": "code",
      "execution_count": 35,
      "metadata": {},
      "outputs": [],
      "source": [
        "%%sql\n",
        "SELECT\n",
        "    DATE_FORMAT(STR_TO_DATE(additional_details::order_date, '\"%Y-%m-%d\"'), '%Y-%m-%d') AS order_date,\n",
        "    COUNT(*) AS order_count\n",
        "FROM\n",
        "    orders\n",
        "GROUP BY\n",
        "    order_date\n",
        "ORDER BY\n",
        "    order_date;"
      ],
      "id": "58ca7bc8"
    },
    {
      "attachments": {},
      "cell_type": "markdown",
      "metadata": {},
      "source": [
        "## Sum of order amounts by month"
      ],
      "id": "476290eb"
    },
    {
      "cell_type": "code",
      "execution_count": 36,
      "metadata": {},
      "outputs": [],
      "source": [
        "%%sql\n",
        "SELECT\n",
        "    DATE_FORMAT(STR_TO_DATE(additional_details::order_date, '\"%Y-%m-%d\"'), '%Y-%m') AS order_month,\n",
        "    SUM(amount) AS total_amount\n",
        "FROM\n",
        "    orders\n",
        "GROUP BY\n",
        "    order_month\n",
        "ORDER BY\n",
        "    order_month;"
      ],
      "id": "0e8ae35a"
    },
    {
      "attachments": {},
      "cell_type": "markdown",
      "metadata": {},
      "source": [
        "## Orders count by customer over time"
      ],
      "id": "912c37d3"
    },
    {
      "cell_type": "code",
      "execution_count": 37,
      "metadata": {},
      "outputs": [],
      "source": [
        "%%sql\n",
        "SELECT\n",
        "    customer_id,\n",
        "    DATE_FORMAT(STR_TO_DATE(additional_details::order_date, '\"%Y-%m-%d\"'), '%Y-%m-%d') AS order_date,\n",
        "    COUNT(*) AS order_count\n",
        "FROM\n",
        "    orders\n",
        "GROUP BY\n",
        "    customer_id, order_date\n",
        "ORDER BY\n",
        "    customer_id, order_date;"
      ],
      "id": "7e1a3e06"
    },
    {
      "attachments": {},
      "cell_type": "markdown",
      "metadata": {},
      "source": [
        "# Bonus\n",
        "\n",
        "## Create a map from geospatial city data"
      ],
      "id": "7b9b0c36"
    },
    {
      "cell_type": "code",
      "execution_count": 38,
      "metadata": {},
      "outputs": [],
      "source": [
        "!pip install folium shapely --quiet"
      ],
      "id": "8302f8a7"
    },
    {
      "attachments": {},
      "cell_type": "markdown",
      "metadata": {},
      "source": [
        "<div class=\"alert alert-block alert-warning\">\n",
        "    <b class=\"fa fa-solid fa-exclamation-circle\"></b>\n",
        "    <div>\n",
        "        <p><b>Action Required</b></p>\n",
        "        <p>Select the database from the drop-down menu at the top of this notebook. It updates the <b>connection_url</b> which is used by SQLAlchemy to make connections to the selected database.</p>\n",
        "    </div>\n",
        "</div>"
      ],
      "id": "b91965f0"
    },
    {
      "cell_type": "code",
      "execution_count": 39,
      "metadata": {},
      "outputs": [],
      "source": [
        "from sqlalchemy import *\n",
        "\n",
        "db_connection = create_engine(connection_url)"
      ],
      "id": "ab06690b"
    },
    {
      "attachments": {},
      "cell_type": "markdown",
      "metadata": {},
      "source": [
        "## Get city data from neighborhoods table"
      ],
      "id": "53defa1f"
    },
    {
      "cell_type": "code",
      "execution_count": 40,
      "metadata": {},
      "outputs": [],
      "source": [
        "import pandas as pd\n",
        "\n",
        "query = \"\"\"\n",
        "    SELECT\n",
        "        id,\n",
        "        name,\n",
        "        population,\n",
        "        shape :> TEXT AS polygon,\n",
        "        centroid :> TEXT AS point\n",
        "    FROM\n",
        "        neighborhoods\n",
        "\"\"\"\n",
        "\n",
        "df = pd.read_sql(\n",
        "    query,\n",
        "    db_connection\n",
        ")"
      ],
      "id": "09d1e58a"
    },
    {
      "attachments": {},
      "cell_type": "markdown",
      "metadata": {},
      "source": [
        "## Convert the data to geospatial format for Python"
      ],
      "id": "e62eaf70"
    },
    {
      "cell_type": "code",
      "execution_count": 41,
      "metadata": {},
      "outputs": [],
      "source": [
        "from shapely import wkt\n",
        "\n",
        "df[\"polygon\"] = df[\"polygon\"].apply(wkt.loads)\n",
        "df[\"point\"] = df[\"point\"].apply(wkt.loads)"
      ],
      "id": "d740de3b"
    },
    {
      "attachments": {},
      "cell_type": "markdown",
      "metadata": {},
      "source": [
        "## Plot the cities on a map"
      ],
      "id": "82ab7026"
    },
    {
      "cell_type": "code",
      "execution_count": 42,
      "metadata": {},
      "outputs": [],
      "source": [
        "import folium\n",
        "\n",
        "m = folium.Map(\n",
        "    location = [56.1304, -106.3468],\n",
        "    zoom_start = 4\n",
        ")\n",
        "\n",
        "for idx, row in df.iterrows():\n",
        "    folium.Polygon(\n",
        "        locations = [(point[1], point[0]) for point in row[\"polygon\"].exterior.coords],\n",
        "        color = \"blue\",\n",
        "        weight = 2,\n",
        "        fill = True,\n",
        "        fill_color = \"blue\",\n",
        "        fill_opacity = 0.1\n",
        "    ).add_to(m)\n",
        "\n",
        "    folium.Marker(\n",
        "        location = (row[\"point\"].y, row[\"point\"].x),\n",
        "        popup = row[\"name\"]\n",
        "    ).add_to(m)\n",
        "\n",
        "html_content = m._repr_html_()"
      ],
      "id": "525a69fe"
    },
    {
      "attachments": {},
      "cell_type": "markdown",
      "metadata": {},
      "source": [
        "## Save the map to stage"
      ],
      "id": "206af23f"
    },
    {
      "attachments": {},
      "cell_type": "markdown",
      "metadata": {},
      "source": [
        "<div class=\"alert alert-block alert-warning\">\n",
        "    <b class=\"fa fa-solid fa-exclamation-circle\"></b>\n",
        "    <div>\n",
        "        <p><b>Stage Support</b></p>\n",
        "        <p>The following code will only work on the <b>Standard Tier</b> at this time.</p>\n",
        "    </div>\n",
        "</div>"
      ],
      "id": "516a6fc3"
    },
    {
      "cell_type": "code",
      "execution_count": 43,
      "metadata": {},
      "outputs": [],
      "source": [
        "from singlestoredb import notebook as nb\n",
        "\n",
        "if not shared_tier_check or shared_tier_check[0][1] == \"OFF\":\n",
        "    with nb.stage.open(\"map.html\", \"w\") as st:\n",
        "        st.write(html_content)"
      ],
      "id": "c2c231f7"
    },
    {
      "attachments": {},
      "cell_type": "markdown",
      "metadata": {},
      "source": [
        "# Cleanup"
      ],
      "id": "ef48d5e3"
    },
    {
      "cell_type": "code",
      "execution_count": 44,
      "metadata": {},
      "outputs": [],
      "source": [
        "%%sql\n",
        "DROP TABLE IF EXISTS customers;\n",
        "DROP TABLE IF EXISTS orders;\n",
        "DROP TABLE IF EXISTS neighborhoods;"
      ],
      "id": "6fe6d5be"
    },
    {
      "cell_type": "code",
      "execution_count": 45,
      "metadata": {},
      "outputs": [],
      "source": [
        "shared_tier_check = %sql SHOW VARIABLES LIKE \"is_shared_tier\"\n",
        "if not shared_tier_check or shared_tier_check[0][1] == \"OFF\":\n",
        "    %sql DROP DATABASE IF EXISTS multi_model;"
      ],
      "id": "8631a02d"
    },
    {
      "attachments": {},
      "cell_type": "markdown",
      "metadata": {},
      "source": [
        "# Conclusions\n",
        "\n",
        "In this Jupyter notebook, we explored the robust multi-model capabilities of SingleStore, demonstrating how to efficiently manage and query a wide range of data types within a unified database platform. Beginning with a simple \"Getting Started\" guide, we progressively delved into various standard SQL queries and extended our exploration to include more advanced data models such as vectors for machine learning, full-text search for unstructured data, JSON for hierarchical data, geospatial data for location-based queries, and time series data for temporal analysis. Through these practical examples, users can appreciate SingleStore's versatility and powerful functionality, gaining the skills to effectively harness its multi-model capabilities for diverse applications."
      ],
      "id": "57215608"
    },
    {
      "id": "abaf291a",
      "cell_type": "markdown",
      "metadata": {},
      "source": [
        "<div id=\"singlestore-footer\" style=\"background-color: rgba(194, 193, 199, 0.25); height:2px; margin-bottom:10px\"></div>\n",
        "<div><img src=\"https://raw.githubusercontent.com/singlestore-labs/spaces-notebooks/master/common/images/singlestore-logo-grey.png\" style=\"padding: 0px; margin: 0px; height: 24px\"/></div>"
      ]
    }
  ],
  "metadata": {
    "jupyterlab": {
      "notebooks": {
        "version_major": 6,
        "version_minor": 4
      }
    },
    "kernelspec": {
      "display_name": "Python 3 (ipykernel)",
      "language": "python",
      "name": "python3"
    },
    "language_info": {
      "codemirror_mode": {
        "name": "ipython",
        "version": 3
      },
      "file_extension": ".py",
      "mimetype": "text/x-python",
      "name": "python",
      "nbconvert_exporter": "python",
      "pygments_lexer": "ipython3",
      "version": "3.11.6"
    }
  },
  "nbformat": 4,
  "nbformat_minor": 5
}
