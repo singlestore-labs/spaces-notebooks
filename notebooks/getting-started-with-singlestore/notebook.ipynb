{
  "cells": [
    {
      "cell_type": "markdown",
      "id": "a760c918-56e4-41f8-9546-491198983367",
      "metadata": {},
      "source": [
        "<div id=\"singlestore-header\" style=\"display: flex; background-color: rgba(235, 249, 245, 0.25); padding: 5px;\">\n",
        "    <div id=\"icon-image\" style=\"width: 90px; height: 90px;\">\n",
        "        <img width=\"100%\" height=\"100%\" src=\"https://raw.githubusercontent.com/singlestore-labs/spaces-notebooks/master/common/images/header-icons/database.png\" />\n",
        "    </div>\n",
        "    <div id=\"text\" style=\"padding: 5px; margin-left: 10px;\">\n",
        "        <div id=\"badge\" style=\"display: inline-block; background-color: rgba(0, 0, 0, 0.15); border-radius: 4px; padding: 4px 8px; align-items: center; margin-top: 6px; margin-bottom: -2px; font-size: 80%\">SingleStore Notebooks</div>\n",
        "        <h1 style=\"font-weight: 500; margin: 8px 0 0 4px;\">Getting Started with SingleStore</h1>\n",
        "    </div>\n",
        "</div>"
      ]
    },
    {
      "cell_type": "markdown",
      "id": "8c1326b8-f551-4f57-85ff-19ddabae4e67",
      "metadata": {},
      "source": [
        "<div class=\"alert alert-block alert-warning\">\n",
        "    <b class=\"fa fa-solid fa-exclamation-circle\"></b>\n",
        "    <div>\n",
        "        <p><b>Note</b></p>\n",
        "        <p>This notebook can be run on a Free Starter Workspace. To create a Free Starter Workspace navigate to <tt>Start</tt> using the left nav. You can also use your existing Standard or Premium workspace with this Notebook.</p>\n",
        "    </div>\n",
        "</div>"
      ]
    },
    {
      "attachments": {},
      "cell_type": "markdown",
      "id": "d3a83848-363f-47fb-a85e-1c43a58a6a34",
      "metadata": {},
      "source": [
        "This Jupyter notebook provides a comprehensive overview and test drive of SingleStore's multi-model capabilities, showcasing how to efficiently manage and query diverse data types within a single database platform.\n",
        "\n",
        "The notebook starts with a simple \"Getting Started\" example, guiding users through various standard SQL queries to interact with the database. It then progressively demonstrates how to add and query different data models, including vectors for machine learning, full-text search for unstructured data, JSON for hierarchical data, geospatial data for location-based queries, and time series data for temporal analysis. This hands-on approach offers an accessible way for users to explore SingleStore's versatility and powerful multi-model functionality."
      ]
    },
    {
      "attachments": {},
      "cell_type": "markdown",
      "id": "24e55337-f0db-40c3-9360-f0d804be9021",
      "metadata": {},
      "source": [
        "# Simple \"Getting Started\" example\n",
        "\n",
        "This code checks whether the current database environment is using a \"shared tier\" and then conditionally drops and creates a database based on the result."
      ]
    },
    {
      "cell_type": "code",
      "execution_count": 1,
      "id": "4b57e908-3374-4fc4-89d3-fee289875383",
      "metadata": {},
      "outputs": [],
      "source": [
        "shared_tier_check = %sql SHOW VARIABLES LIKE \"is_shared_tier\"\n",
        "if not shared_tier_check or shared_tier_check[0][1] == \"OFF\":\n",
        "    %sql DROP DATABASE IF EXISTS multi_model;\n",
        "    %sql CREATE DATABASE IF NOT EXISTS multi_model;"
      ]
    },
    {
      "attachments": {},
      "cell_type": "markdown",
      "id": "3d3f690b-0ccc-4f3a-b933-7288b2f2455d",
      "metadata": {},
      "source": [
        "<div class=\"alert alert-block alert-warning\">\n",
        "    <b class=\"fa fa-solid fa-exclamation-circle\"></b>\n",
        "    <div>\n",
        "        <p><b>Action Required</b></p>\n",
        "        <p>Select the database from the drop-down menu at the top of this notebook.</p>\n",
        "    </div>\n",
        "</div>"
      ]
    },
    {
      "attachments": {},
      "cell_type": "markdown",
      "id": "ba7ef01d-1543-43be-93a6-e0d0b61ea052",
      "metadata": {},
      "source": [
        "# Various standard SQL queries\n",
        "\n",
        "## Create some simple tables\n",
        "\n",
        "This setup establishes a basic relational structure to store customer information and their corresponding orders."
      ]
    },
    {
      "cell_type": "code",
      "execution_count": 2,
      "id": "12f4361f-b3d3-4849-94ac-5ac8ca55fea8",
      "metadata": {},
      "outputs": [],
      "source": [
        "%%sql\n",
        "DROP TABLE IF EXISTS customers;\n",
        "DROP TABLE IF EXISTS orders;\n",
        "\n",
        "CREATE TABLE IF NOT EXISTS customers (\n",
        "    customer_id INT PRIMARY KEY,\n",
        "    customer_name VARCHAR(50),\n",
        "    country VARCHAR(50)\n",
        ");\n",
        "\n",
        "CREATE TABLE IF NOT EXISTS orders (\n",
        "    order_id INT PRIMARY KEY,\n",
        "    customer_id INT,\n",
        "    amount DECIMAL(10, 2),\n",
        "    product VARCHAR(50)\n",
        ");"
      ]
    },
    {
      "attachments": {},
      "cell_type": "markdown",
      "id": "d0d2485e-a84d-4461-91fe-9c332c491538",
      "metadata": {},
      "source": [
        "## Insert some data"
      ]
    },
    {
      "cell_type": "code",
      "execution_count": 3,
      "id": "010a1770-061b-4f84-b3f8-56bfc3cc5c64",
      "metadata": {},
      "outputs": [],
      "source": [
        "%%sql\n",
        "INSERT INTO customers (customer_id, customer_name, country) VALUES\n",
        "(1, \"John Doe\", \"Canada\"),\n",
        "(2, \"Jane Smith\", \"Canada\"),\n",
        "(3, \"Sam Brown\", \"Canada\"),\n",
        "(4, \"Lisa White\", \"Canada\"),\n",
        "(5, \"Mark Black\", \"Canada\");\n",
        "\n",
        "INSERT INTO orders (order_id, customer_id, amount, product) VALUES\n",
        "(101, 1, 150.00, \"Book\"),\n",
        "(102, 2, 200.00, \"Pen\"),\n",
        "(103, 3, 50.00, \"Notebook\"),\n",
        "(104, 1, 300.00, \"Laptop\"),\n",
        "(105, 4, 250.00, \"Tablet\");"
      ]
    },
    {
      "attachments": {},
      "cell_type": "markdown",
      "id": "a6b1d80d-e7a3-4b40-b8f2-389e95a65cab",
      "metadata": {},
      "source": [
        "## Sum of amounts"
      ]
    },
    {
      "cell_type": "code",
      "execution_count": 4,
      "id": "5150008b-17d9-4f2e-9d29-49441af88109",
      "metadata": {},
      "outputs": [],
      "source": [
        "%%sql\n",
        "SELECT\n",
        "    SUM(amount) AS total_sales\n",
        "FROM\n",
        "    orders;"
      ]
    },
    {
      "attachments": {},
      "cell_type": "markdown",
      "id": "a9bd6429-2daf-4617-b74a-9d35f688204a",
      "metadata": {},
      "source": [
        "## Minimum amount"
      ]
    },
    {
      "cell_type": "code",
      "execution_count": 5,
      "id": "f70d6137-a91b-41d0-801c-67c64392c6c0",
      "metadata": {},
      "outputs": [],
      "source": [
        "%%sql\n",
        "SELECT\n",
        "    MIN(amount) AS min_order_amount\n",
        "FROM\n",
        "    orders;"
      ]
    },
    {
      "attachments": {},
      "cell_type": "markdown",
      "id": "5e1525d5-6ed2-4880-824e-ca7eb3b49c08",
      "metadata": {},
      "source": [
        "## Maximum amount"
      ]
    },
    {
      "cell_type": "code",
      "execution_count": 6,
      "id": "a33b4514-746d-4e38-8fe5-57abfb5931f7",
      "metadata": {},
      "outputs": [],
      "source": [
        "%%sql\n",
        "SELECT\n",
        "    MAX(amount) AS max_order_amount\n",
        "FROM\n",
        "    orders;"
      ]
    },
    {
      "attachments": {},
      "cell_type": "markdown",
      "id": "3c8f6b48-a568-49cf-952d-b7c9774e23a8",
      "metadata": {},
      "source": [
        "## Average amount"
      ]
    },
    {
      "cell_type": "code",
      "execution_count": 7,
      "id": "c5786941-429c-47b7-855c-64e0f2f8aba8",
      "metadata": {},
      "outputs": [],
      "source": [
        "%%sql\n",
        "SELECT\n",
        "    ROUND(AVG(amount), 2) AS avg_order_amount\n",
        "FROM\n",
        "    orders;"
      ]
    },
    {
      "attachments": {},
      "cell_type": "markdown",
      "id": "38a8776b-83c9-4754-9815-d9378822000c",
      "metadata": {},
      "source": [
        "## Count the number of orders"
      ]
    },
    {
      "cell_type": "code",
      "execution_count": 8,
      "id": "b2025671-63e3-445b-a354-b674274741ab",
      "metadata": {},
      "outputs": [],
      "source": [
        "%%sql\n",
        "SELECT\n",
        "    COUNT(*) AS number_of_orders\n",
        "FROM\n",
        "    orders;"
      ]
    },
    {
      "attachments": {},
      "cell_type": "markdown",
      "id": "c7411ce3-8d08-42f4-b452-370ca0445be3",
      "metadata": {},
      "source": [
        "## Join customers and orders tables"
      ]
    },
    {
      "cell_type": "code",
      "execution_count": 9,
      "id": "b370df9f-2f67-4812-8bab-28863c35bf53",
      "metadata": {},
      "outputs": [],
      "source": [
        "%%sql\n",
        "SELECT\n",
        "    customers.customer_name,\n",
        "    orders.order_id,\n",
        "    orders.amount\n",
        "FROM\n",
        "    customers, orders\n",
        "WHERE\n",
        "    customers.customer_id = orders.customer_id\n",
        "ORDER BY\n",
        "    amount ASC;"
      ]
    },
    {
      "attachments": {},
      "cell_type": "markdown",
      "id": "0f042a55-0060-44ea-880b-c4cba70ed9fe",
      "metadata": {},
      "source": [
        "## Group by customer and calculate total amount spent"
      ]
    },
    {
      "cell_type": "code",
      "execution_count": 10,
      "id": "401acac0-c5f0-43bf-a562-7c8cc1f42133",
      "metadata": {},
      "outputs": [],
      "source": [
        "%%sql\n",
        "SELECT\n",
        "    customers.customer_name,\n",
        "    SUM(orders.amount) AS total_spent\n",
        "FROM\n",
        "    customers, orders\n",
        "WHERE\n",
        "    customers.customer_id = orders.customer_id\n",
        "GROUP BY\n",
        "    customers.customer_name\n",
        "ORDER BY\n",
        "    total_spent DESC;"
      ]
    },
    {
      "attachments": {},
      "cell_type": "markdown",
      "id": "0aee1d34-305e-47da-9307-a7f1adac5d4e",
      "metadata": {},
      "source": [
        "# Add Vectors\n",
        "\n",
        "## Add a 3-dimensional vector to the orders table"
      ]
    },
    {
      "cell_type": "code",
      "execution_count": 11,
      "id": "d1ed8498-7514-4ffe-b6e9-b51fee6674a0",
      "metadata": {},
      "outputs": [],
      "source": [
        "%%sql\n",
        "ALTER TABLE orders ADD COLUMN dimensions VECTOR(3);"
      ]
    },
    {
      "attachments": {},
      "cell_type": "markdown",
      "id": "79189f18-63f0-4ffa-a46a-74f3b967f92e",
      "metadata": {},
      "source": [
        "## Add some vector data\n",
        "\n",
        "### 3 dimensions represent Length (L), Width (W) and Height (H) in cm"
      ]
    },
    {
      "cell_type": "code",
      "execution_count": 12,
      "id": "434186df-437a-4c63-87e3-4a6a8b680dc5",
      "metadata": {},
      "outputs": [],
      "source": [
        "%%sql\n",
        "UPDATE orders SET dimensions = '[8.5, 5.5, 1.0]' WHERE order_id = 101;\n",
        "UPDATE orders SET dimensions = '[0.5, 0.5, 14.0]' WHERE order_id = 102;\n",
        "UPDATE orders SET dimensions = '[21.0, 29.7, 0.5]' WHERE order_id = 103;\n",
        "UPDATE orders SET dimensions = '[32.0, 22.0, 2.0]' WHERE order_id = 104;\n",
        "UPDATE orders SET dimensions = '[24.0, 16.0, 0.7]' WHERE order_id = 105;"
      ]
    },
    {
      "attachments": {},
      "cell_type": "markdown",
      "id": "cdca346c-e028-49d8-866e-139910b1403e",
      "metadata": {},
      "source": [
        "## Show the vectors"
      ]
    },
    {
      "cell_type": "code",
      "execution_count": 13,
      "id": "bc5188c5-bb0c-40d0-b1d9-ffbbba60c3fd",
      "metadata": {},
      "outputs": [],
      "source": [
        "%%sql\n",
        "SET vector_type_project_format = JSON;\n",
        "\n",
        "SELECT\n",
        "    *\n",
        "FROM\n",
        "    orders;"
      ]
    },
    {
      "attachments": {},
      "cell_type": "markdown",
      "id": "3b6ed738-4820-4185-8642-f7a733724728",
      "metadata": {},
      "source": [
        "## Select orders using <*> which is Dot Product\n",
        "\n",
        "The dot product is a way of multiplying two vectors to get a single number (a scalar).\n",
        "\n",
        "In simple terms, the dot product provides a way to combine two sets of numbers into a single value that reflects how much the vectors \"point\" in the same direction."
      ]
    },
    {
      "cell_type": "code",
      "execution_count": 14,
      "id": "25f3f54f-d83a-44cb-b9ae-daf7f6f62eea",
      "metadata": {},
      "outputs": [],
      "source": [
        "%%sql\n",
        "SET vector_type_project_format = JSON;\n",
        "\n",
        "SELECT\n",
        "    *,\n",
        "    ROUND((dimensions <*> '[32.0, 22.0, 2.0]'), 2) AS score\n",
        "--  ROUND(DOT_PRODUCT(dimensions, '[32.0, 22.0, 2.0]'), 2) AS score\n",
        "FROM\n",
        "    orders\n",
        "ORDER BY\n",
        "    score DESC;"
      ]
    },
    {
      "attachments": {},
      "cell_type": "markdown",
      "id": "c309b047-f031-40e5-b738-c24f160e21b3",
      "metadata": {},
      "source": [
        "## Select orders using <-> which is Euclidean Distance\n",
        "\n",
        "Euclidean distance is a way to measure how far apart two points are in space.\n",
        "\n",
        "In simple terms, Euclidean distance provides a straight-line measurement of how far one point is from another, like using a ruler to measure the distance between two points on a map."
      ]
    },
    {
      "cell_type": "code",
      "execution_count": 15,
      "id": "61768423-70ce-4d66-9685-d1a18ce59a69",
      "metadata": {},
      "outputs": [],
      "source": [
        "%%sql\n",
        "SET vector_type_project_format = JSON;\n",
        "\n",
        "SELECT\n",
        "    *,\n",
        "    ROUND((dimensions <-> '[32.0, 22.0, 2.0]'), 2) AS score\n",
        "--  ROUND(EUCLIDEAN_DISTANCE(dimensions, '[32.0, 22.0, 2.0]'), 2) AS score\n",
        "FROM\n",
        "    orders\n",
        "ORDER BY\n",
        "    score ASC;"
      ]
    },
    {
      "attachments": {},
      "cell_type": "markdown",
      "id": "97549944-084b-4a88-b0d3-3ee49aa171fb",
      "metadata": {},
      "source": [
        "# Add Full-Text\n",
        "\n",
        "## Add a description column to the orders table"
      ]
    },
    {
      "cell_type": "code",
      "execution_count": 16,
      "id": "81ae4dd7-d236-4bec-b7ae-6b854d46ff23",
      "metadata": {},
      "outputs": [],
      "source": [
        "%%sql\n",
        "ALTER TABLE orders ADD COLUMN description VARCHAR(255);"
      ]
    },
    {
      "attachments": {},
      "cell_type": "markdown",
      "id": "1205678f-e3f7-4834-9297-58a2d52f0418",
      "metadata": {},
      "source": [
        "## Update orders table with descriptions"
      ]
    },
    {
      "cell_type": "code",
      "execution_count": 17,
      "id": "426cc2cc-1571-4a01-aa22-f4d4d746c220",
      "metadata": {},
      "outputs": [],
      "source": [
        "%%sql\n",
        "UPDATE orders\n",
        "SET description = CASE\n",
        "    WHEN product = \"Book\" THEN \"A high-quality book that offers insightful content and engaging narratives.\"\n",
        "    WHEN product = \"Pen\" THEN \"A smooth-writing pen designed for comfort and precision.\"\n",
        "    WHEN product = \"Notebook\" THEN \"A versatile notebook perfect for notes, sketches, and ideas.\"\n",
        "    WHEN product = \"Laptop\" THEN \"A powerful laptop with high performance and sleek design for all your computing needs.\"\n",
        "    WHEN product = \"Tablet\" THEN \"A compact tablet with a vibrant display and versatile functionality.\"\n",
        "    ELSE \"A product with excellent features and quality.\"\n",
        "END;"
      ]
    },
    {
      "attachments": {},
      "cell_type": "markdown",
      "id": "cb8f0a06-6a31-469a-8267-6cfa2e7ef03a",
      "metadata": {},
      "source": [
        "## Show the descriptions"
      ]
    },
    {
      "cell_type": "code",
      "execution_count": 18,
      "id": "c5242e2a-8dcc-414e-acbb-d501f413ac99",
      "metadata": {},
      "outputs": [],
      "source": [
        "%%sql\n",
        "SELECT\n",
        "    *\n",
        "FROM\n",
        "    orders;"
      ]
    },
    {
      "attachments": {},
      "cell_type": "markdown",
      "id": "ff4970e1-ecec-4da0-aa2c-766c8c977912",
      "metadata": {},
      "source": [
        "## Add a full-text index to the orders table"
      ]
    },
    {
      "cell_type": "code",
      "execution_count": 19,
      "id": "24f87e77-71da-4bd7-bc9d-87ec065a190a",
      "metadata": {},
      "outputs": [],
      "source": [
        "%%sql\n",
        "ALTER TABLE orders ADD FULLTEXT USING VERSION 2 orders_ft_index (product, description);\n",
        "OPTIMIZE TABLE orders FLUSH;"
      ]
    },
    {
      "attachments": {},
      "cell_type": "markdown",
      "id": "fd87ac74-f645-41ed-856e-d995b79611ab",
      "metadata": {},
      "source": [
        "## Search for a match on \"vibrant\" in the description part"
      ]
    },
    {
      "cell_type": "code",
      "execution_count": 20,
      "id": "eedeb35d-f6c5-44b8-9b6f-19ed5fa81600",
      "metadata": {},
      "outputs": [],
      "source": [
        "%%sql\n",
        "SELECT\n",
        "    *\n",
        "FROM\n",
        "    orders\n",
        "WHERE\n",
        "    MATCH (TABLE orders) AGAINST (\"description:vibrant\");"
      ]
    },
    {
      "attachments": {},
      "cell_type": "markdown",
      "id": "532d372f-0d79-4e5a-9c59-215fbf9aac5b",
      "metadata": {},
      "source": [
        "## Use various operators to show flexibility\n",
        "\n",
        "### + (must appear), * (multiple wildcard), ? (single wildcard)"
      ]
    },
    {
      "cell_type": "code",
      "execution_count": 21,
      "id": "6a44dede-14a3-4b7f-aeab-23cd6cf3c577",
      "metadata": {},
      "outputs": [],
      "source": [
        "%%sql\n",
        "SELECT\n",
        "    product\n",
        "FROM\n",
        "    orders\n",
        "WHERE\n",
        "    MATCH (TABLE orders) AGAINST (\"product:(+oo?) OR description:versa*\");"
      ]
    },
    {
      "attachments": {},
      "cell_type": "markdown",
      "id": "343c4d35-21c6-4aeb-95ab-5f9ab29114fa",
      "metadata": {},
      "source": [
        "# Add JSON\n",
        "\n",
        "## Add a JSON column to the orders table"
      ]
    },
    {
      "cell_type": "code",
      "execution_count": 22,
      "id": "6caba766-733b-4c89-b1e9-ff6dd92fd943",
      "metadata": {},
      "outputs": [],
      "source": [
        "%%sql\n",
        "ALTER TABLE orders ADD COLUMN additional_details JSON NOT NULL;"
      ]
    },
    {
      "attachments": {},
      "cell_type": "markdown",
      "id": "2b2b958b-fb9a-4a07-a58d-a18cf3b2d70c",
      "metadata": {},
      "source": [
        "## Update orders table with additional details in JSON format"
      ]
    },
    {
      "cell_type": "code",
      "execution_count": 23,
      "id": "643eebc5-1f8d-49ea-8500-4279b0604759",
      "metadata": {},
      "outputs": [],
      "source": [
        "%%sql\n",
        "UPDATE orders\n",
        "SET additional_details = CASE\n",
        "    WHEN order_id = 101 THEN '{\n",
        "        \"invoice_number\": \"INV1001\",\n",
        "        \"order_status\": \"Delivered\",\n",
        "        \"shipping_address\": {\n",
        "            \"street\": \"456 Elm St\",\n",
        "            \"city\": \"Toronto\",\n",
        "            \"state\": \"ON\",\n",
        "        \"postal_code\": \"M5A 1A1\",\n",
        "        \"country\": \"Canada\"\n",
        "        },\n",
        "        \"payment_method\": \"Credit Card\",\n",
        "        \"discounts_applied\": [{\n",
        "            \"discount_code\": \"WELCOME10\",\n",
        "            \"amount\": 10.00\n",
        "        }],\n",
        "        \"order_date\": \"2024-07-01\",\n",
        "        \"estimated_delivery_date\": \"2024-07-05\",\n",
        "        \"tracking_number\": \"TRACK1001\",\n",
        "        \"customer_notes\": \"Leave at the front desk.\"\n",
        "    }'\n",
        "    WHEN order_id = 102 THEN '{\n",
        "        \"invoice_number\": \"INV1002\",\n",
        "        \"order_status\": \"Pending\",\n",
        "        \"shipping_address\": {\n",
        "            \"street\": \"789 Oak St\",\n",
        "            \"city\": \"Vancouver\",\n",
        "            \"state\": \"BC\",\n",
        "            \"postal_code\": \"V5K 1A1\",\n",
        "            \"country\": \"Canada\"\n",
        "        },\n",
        "        \"payment_method\": \"PayPal\",\n",
        "        \"discounts_applied\": [{\n",
        "            \"discount_code\": \"SPRING20\",\n",
        "            \"amount\": 20.00\n",
        "        }],\n",
        "        \"order_date\": \"2024-07-02\",\n",
        "        \"estimated_delivery_date\": \"2024-07-06\",\n",
        "        \"tracking_number\": \"TRACK1002\",\n",
        "        \"customer_notes\": \"Contact me before delivery.\"\n",
        "    }'\n",
        "    WHEN order_id = 103 THEN '{\n",
        "        \"invoice_number\": \"INV1003\",\n",
        "        \"order_status\": \"Shipped\",\n",
        "        \"shipping_address\": {\n",
        "            \"street\": \"321 Pine St\",\n",
        "            \"city\": \"Montreal\",\n",
        "            \"state\": \"QC\",\n",
        "            \"postal_code\": \"H2X 1Y4\",\n",
        "            \"country\": \"Canada\"\n",
        "        },\n",
        "        \"payment_method\": \"Credit Card\",\n",
        "        \"discounts_applied\": [{\n",
        "            \"discount_code\": \"SAVE15\",\n",
        "            \"amount\": 15.00\n",
        "        }],\n",
        "        \"order_date\": \"2024-07-03\",\n",
        "        \"estimated_delivery_date\": \"2024-07-07\",\n",
        "        \"tracking_number\": \"TRACK1003\",\n",
        "        \"customer_notes\": \"Deliver after 5 PM.\"\n",
        "    }'\n",
        "    WHEN order_id = 104 THEN '{\n",
        "        \"invoice_number\": \"INV1004\",\n",
        "        \"order_status\": \"Shipped\",\n",
        "        \"shipping_address\": {\n",
        "            \"street\": \"654 Maple St\",\n",
        "            \"city\": \"Calgary\",\n",
        "            \"state\": \"AB\",\n",
        "            \"postal_code\": \"T2P 1N4\",\n",
        "            \"country\": \"Canada\"\n",
        "        },\n",
        "        \"payment_method\": \"Credit Card\",\n",
        "        \"discounts_applied\": [{\n",
        "            \"discount_code\": \"NEWYEAR25\",\n",
        "            \"amount\": 25.00\n",
        "        }],\n",
        "        \"order_date\": \"2024-07-01\",\n",
        "        \"estimated_delivery_date\": \"2024-07-08\",\n",
        "        \"tracking_number\": \"TRACK1004\",\n",
        "        \"customer_notes\": \"Leave package at the back door.\"\n",
        "    }'\n",
        "    WHEN order_id = 105 THEN '{\n",
        "        \"invoice_number\": \"INV1005\",\n",
        "        \"order_status\": \"Delivered\",\n",
        "        \"shipping_address\": {\n",
        "            \"street\": \"987 Birch St\",\n",
        "            \"city\": \"Ottawa\",\n",
        "            \"state\": \"ON\",\n",
        "            \"postal_code\": \"K1A 0A1\",\n",
        "            \"country\": \"Canada\"\n",
        "        },\n",
        "        \"payment_method\": \"PayPal\",\n",
        "        \"discounts_applied\": [{\n",
        "            \"discount_code\": \"HOLIDAY30\",\n",
        "            \"amount\": 30.00\n",
        "        }],\n",
        "        \"order_date\": \"2024-07-03\",\n",
        "        \"estimated_delivery_date\": \"2024-07-09\",\n",
        "        \"tracking_number\": \"TRACK1005\",\n",
        "        \"customer_notes\": \"Please ring the doorbell.\"\n",
        "    }'\n",
        "    ELSE '{}'\n",
        "END;"
      ]
    },
    {
      "attachments": {},
      "cell_type": "markdown",
      "id": "ff311771-7c34-49e3-9a4c-32b03760c2e2",
      "metadata": {},
      "source": [
        "## Extract specific JSON fields"
      ]
    },
    {
      "cell_type": "code",
      "execution_count": 24,
      "id": "44a947f0-d319-466e-9593-692714cf5118",
      "metadata": {},
      "outputs": [],
      "source": [
        "%%sql\n",
        "SELECT\n",
        "    order_id,\n",
        "    additional_details::invoice_number AS invoice_number,\n",
        "    additional_details::order_status AS order_status\n",
        "FROM\n",
        "    orders\n",
        "ORDER BY\n",
        "    order_id;"
      ]
    },
    {
      "attachments": {},
      "cell_type": "markdown",
      "id": "b20e765a-0721-4802-b280-201f5e31a966",
      "metadata": {},
      "source": [
        "## Find orders that have been \"Delivered\""
      ]
    },
    {
      "cell_type": "code",
      "execution_count": 25,
      "id": "e691ecc1-71b9-4cff-b1f0-cff2df144700",
      "metadata": {},
      "outputs": [],
      "source": [
        "%%sql\n",
        "SELECT\n",
        "    order_id,\n",
        "    additional_details::invoice_number AS invoice_number\n",
        "FROM\n",
        "    orders\n",
        "WHERE\n",
        "    additional_details::order_status = '\"Delivered\"'\n",
        "ORDER BY\n",
        "    order_id;"
      ]
    },
    {
      "attachments": {},
      "cell_type": "markdown",
      "id": "889005cf-7da3-4097-8f0f-40815375abec",
      "metadata": {},
      "source": [
        "## Aggregate data based on JSON fields"
      ]
    },
    {
      "cell_type": "code",
      "execution_count": 26,
      "id": "b50609f0-9cca-41cf-bc78-982741297a0f",
      "metadata": {},
      "outputs": [],
      "source": [
        "%%sql\n",
        "SELECT\n",
        "    additional_details::order_status AS order_status,\n",
        "    COUNT(*) AS order_count\n",
        "FROM\n",
        "    orders\n",
        "GROUP BY\n",
        "    order_status;"
      ]
    },
    {
      "attachments": {},
      "cell_type": "markdown",
      "id": "12ee1b9e-d18a-4647-a9e0-1f5b9a3d26e5",
      "metadata": {},
      "source": [
        "# Add Geospatial\n",
        "\n",
        "## Insert 2 more customers into customers table"
      ]
    },
    {
      "cell_type": "code",
      "execution_count": 27,
      "id": "a750e0e5-6bbe-4912-aedc-5919f009aeb5",
      "metadata": {},
      "outputs": [],
      "source": [
        "%%sql\n",
        "INSERT INTO customers (customer_id, customer_name, country) VALUES\n",
        "(6, \"Emily Davis\", \"Canada\"),\n",
        "(7, \"Michael Johnson\", \"Canada\");"
      ]
    },
    {
      "attachments": {},
      "cell_type": "markdown",
      "id": "c9c04d67-a04c-4917-b946-5a776dc042ba",
      "metadata": {},
      "source": [
        "## Create neighborhoods table for geospatial data"
      ]
    },
    {
      "cell_type": "code",
      "execution_count": 28,
      "id": "424118b4-6909-452c-a8c7-48ae27dbfd90",
      "metadata": {},
      "outputs": [],
      "source": [
        "%%sql\n",
        "DROP TABLE IF EXISTS neighborhoods;\n",
        "\n",
        "CREATE TABLE IF NOT EXISTS neighborhoods (\n",
        "    id INT UNSIGNED NOT NULL,\n",
        "    name VARCHAR(64) NOT NULL,\n",
        "    population INT UNSIGNED NOT NULL,\n",
        "    shape TEXT NOT NULL,\n",
        "    centroid GEOGRAPHYPOINT NOT NULL,\n",
        "    sort key (name),\n",
        "    shard key (id)\n",
        ");"
      ]
    },
    {
      "attachments": {},
      "cell_type": "markdown",
      "id": "793a47b1-f931-4b9b-9bc0-ca4eab1669e8",
      "metadata": {},
      "source": [
        "## Add some city data to the neighborhoods table"
      ]
    },
    {
      "cell_type": "code",
      "execution_count": 29,
      "id": "1907a717-2da9-4454-aa9c-92f7dcdcef64",
      "metadata": {},
      "outputs": [],
      "source": [
        "%%sql\n",
        "INSERT INTO neighborhoods (id, name, population, shape, centroid) VALUES\n",
        "(1, \"Toronto\", 2794356,\n",
        "    \"POLYGON((-79.6393 43.6777, -79.1152 43.6777, -79.1152 43.8554, -79.6393 43.8554, -79.6393 43.6777))\",\n",
        "    \"POINT(-79.3832 43.6532)\"\n",
        "),\n",
        "(2, \"Vancouver\", 662248,\n",
        "    \"POLYGON((-123.2247 49.1985, -123.0234 49.1985, -123.0234 49.3169, -123.2247 49.3169, -123.2247 49.1985))\",\n",
        "    \"POINT(-123.1216 49.2827)\"\n",
        "),\n",
        "(3, \"Montreal\", 1762949,\n",
        "    \"POLYGON((-73.9354 45.3991, -73.4757 45.3991, -73.4757 45.7044, -73.9354 45.7044, -73.9354 45.3991))\",\n",
        "    \"POINT(-73.5673 45.5017)\"\n",
        "),\n",
        "(4, \"Calgary\", 1306784,\n",
        "    \"POLYGON((-114.3160 50.8420, -113.8599 50.8420, -113.8599 51.2124, -114.3160 51.2124, -114.3160 50.8420))\",\n",
        "    \"POINT(-114.0719 51.0447)\"\n",
        "),\n",
        "(5, \"Ottawa\", 1017449,\n",
        "    \"POLYGON((-75.9274 45.2502, -75.3537 45.2502, -75.3537 45.5489, -75.9274 45.5489, -75.9274 45.2502))\",\n",
        "    \"POINT(-75.6972 45.4215)\"\n",
        ");"
      ]
    },
    {
      "attachments": {},
      "cell_type": "markdown",
      "id": "40c1ca72-b5fe-4e42-ad1b-152ce9fa722b",
      "metadata": {},
      "source": [
        "## Add a geospatial column to the customers table"
      ]
    },
    {
      "cell_type": "code",
      "execution_count": 30,
      "id": "56624949-7854-494f-8710-4fe756dd1654",
      "metadata": {},
      "outputs": [],
      "source": [
        "%%sql\n",
        "ALTER TABLE customers ADD COLUMN location GEOGRAPHYPOINT;"
      ]
    },
    {
      "attachments": {},
      "cell_type": "markdown",
      "id": "34590e14-5ef9-41a9-b9c5-17332f3609cf",
      "metadata": {},
      "source": [
        "## Update customers table with location data"
      ]
    },
    {
      "cell_type": "code",
      "execution_count": 31,
      "id": "32427f37-77ef-427a-b7c3-e42b68d4925f",
      "metadata": {},
      "outputs": [],
      "source": [
        "%%sql\n",
        "UPDATE customers SET location = \"POINT(-79.3832 43.6532)\" WHERE customer_id = 1;\n",
        "UPDATE customers SET location = \"POINT(-123.1216 49.2827)\" WHERE customer_id = 2;\n",
        "UPDATE customers SET location = \"POINT(-73.5673 45.5017)\" WHERE customer_id = 3;\n",
        "UPDATE customers SET location = \"POINT(-114.0719 51.0447)\" WHERE customer_id = 4;\n",
        "UPDATE customers SET location = \"POINT(-75.6972 45.4215)\" WHERE customer_id = 5;\n",
        "UPDATE customers SET location = \"POINT(-79.3832 43.6532)\" WHERE customer_id = 6;\n",
        "UPDATE customers SET location = \"POINT(-123.1216 49.2827)\" WHERE customer_id = 7;"
      ]
    },
    {
      "attachments": {},
      "cell_type": "markdown",
      "id": "b6b39000-a6fa-4ac1-a3c7-72b2c04a832a",
      "metadata": {},
      "source": [
        "## Join the neighborhoods table to itself and measure distances between neighborhoods"
      ]
    },
    {
      "cell_type": "code",
      "execution_count": 32,
      "id": "854652a1-5ee2-496f-92c4-6372a64e1593",
      "metadata": {},
      "outputs": [],
      "source": [
        "%%sql\n",
        "SELECT\n",
        "    b.name AS town,\n",
        "    ROUND(GEOGRAPHY_DISTANCE(a.centroid, b.centroid), 0) AS distance_from_center,\n",
        "    ROUND(GEOGRAPHY_DISTANCE(a.shape, b.shape), 0) AS distance_from_border\n",
        "FROM\n",
        "    neighborhoods a, neighborhoods b\n",
        "WHERE\n",
        "    a.name = \"Vancouver\"\n",
        "ORDER BY\n",
        "    2;"
      ]
    },
    {
      "attachments": {},
      "cell_type": "markdown",
      "id": "d8c19609-f7c3-43fe-a4f4-b89965bac7cd",
      "metadata": {},
      "source": [
        "## Find out where you are"
      ]
    },
    {
      "cell_type": "code",
      "execution_count": 33,
      "id": "8b6ec25c-12b8-4836-980d-dd0fa65ce6b1",
      "metadata": {},
      "outputs": [],
      "source": [
        "%%sql\n",
        "SELECT\n",
        "    name\n",
        "FROM\n",
        "    neighborhoods\n",
        "WHERE\n",
        "    GEOGRAPHY_INTERSECTS(\"POINT(-79.3770 43.7500)\", shape);"
      ]
    },
    {
      "attachments": {},
      "cell_type": "markdown",
      "id": "ff11e2b0-34d7-499f-9a43-b0859b9819e1",
      "metadata": {},
      "source": [
        "## Find customers within \"Vancouver\""
      ]
    },
    {
      "cell_type": "code",
      "execution_count": 34,
      "id": "8f50e2fe-b506-48a9-a7e7-1b70cdbf2b80",
      "metadata": {},
      "outputs": [],
      "source": [
        "%%sql\n",
        "SELECT\n",
        "    c.customer_id, c.customer_name\n",
        "FROM\n",
        "    customers c, neighborhoods n\n",
        "WHERE\n",
        "    n.name = \"Vancouver\" AND GEOGRAPHY_CONTAINS(n.shape, c.location);"
      ]
    },
    {
      "attachments": {},
      "cell_type": "markdown",
      "id": "9d891830-a7e0-4f21-a037-0e86ac2bf220",
      "metadata": {},
      "source": [
        "# Add Time Series\n",
        "\n",
        "## Count orders by day"
      ]
    },
    {
      "cell_type": "code",
      "execution_count": 35,
      "id": "32dcbffc-0fac-4e75-9457-70b1eaa8a223",
      "metadata": {},
      "outputs": [],
      "source": [
        "%%sql\n",
        "SELECT\n",
        "    DATE_FORMAT(STR_TO_DATE(additional_details::order_date, '\"%Y-%m-%d\"'), '%Y-%m-%d') AS order_date,\n",
        "    COUNT(*) AS order_count\n",
        "FROM\n",
        "    orders\n",
        "GROUP BY\n",
        "    order_date\n",
        "ORDER BY\n",
        "    order_date;"
      ]
    },
    {
      "attachments": {},
      "cell_type": "markdown",
      "id": "c1354288-4c3a-4a4a-a8c4-eda1135843e9",
      "metadata": {},
      "source": [
        "## Sum of order amounts by month"
      ]
    },
    {
      "cell_type": "code",
      "execution_count": 36,
      "id": "01bf8b43-8793-4fca-89fc-31939c884ed7",
      "metadata": {},
      "outputs": [],
      "source": [
        "%%sql\n",
        "SELECT\n",
        "    DATE_FORMAT(STR_TO_DATE(additional_details::order_date, '\"%Y-%m-%d\"'), '%Y-%m') AS order_month,\n",
        "    SUM(amount) AS total_amount\n",
        "FROM\n",
        "    orders\n",
        "GROUP BY\n",
        "    order_month\n",
        "ORDER BY\n",
        "    order_month;"
      ]
    },
    {
      "attachments": {},
      "cell_type": "markdown",
      "id": "0658e46d-1c4e-40fc-a59f-e00d97632b37",
      "metadata": {},
      "source": [
        "## Orders count by customer over time"
      ]
    },
    {
      "cell_type": "code",
      "execution_count": 37,
      "id": "90c9ec3b-c38e-463a-9db5-e6282dd7041e",
      "metadata": {},
      "outputs": [],
      "source": [
        "%%sql\n",
        "SELECT\n",
        "    customer_id,\n",
        "    DATE_FORMAT(STR_TO_DATE(additional_details::order_date, '\"%Y-%m-%d\"'), '%Y-%m-%d') AS order_date,\n",
        "    COUNT(*) AS order_count\n",
        "FROM\n",
        "    orders\n",
        "GROUP BY\n",
        "    customer_id, order_date\n",
        "ORDER BY\n",
        "    customer_id, order_date;"
      ]
    },
    {
      "attachments": {},
      "cell_type": "markdown",
      "id": "42b97b4d-da05-48a3-9edc-02ec084e4764",
      "metadata": {},
      "source": [
        "# Bonus\n",
        "\n",
        "## Create a map from geospatial city data"
      ]
    },
    {
      "cell_type": "code",
      "execution_count": 38,
      "id": "10145be7-61b7-4754-b4f6-79635499529d",
      "metadata": {},
      "outputs": [],
      "source": [
        "!pip install folium shapely --quiet"
      ]
    },
    {
      "attachments": {},
      "cell_type": "markdown",
      "id": "8579e5cc-1f05-4d0d-a54d-59cb2cfb28cd",
      "metadata": {},
      "source": [
        "<div class=\"alert alert-block alert-warning\">\n",
        "    <b class=\"fa fa-solid fa-exclamation-circle\"></b>\n",
        "    <div>\n",
        "        <p><b>Action Required</b></p>\n",
        "        <p>Select the database from the drop-down menu at the top of this notebook. It updates the <b>connection_url</b> which is used by SQLAlchemy to make connections to the selected database.</p>\n",
        "    </div>\n",
        "</div>"
      ]
    },
    {
      "cell_type": "code",
      "execution_count": 39,
      "id": "cf398656-b381-4907-b5f9-52b2e00cc498",
      "metadata": {},
      "outputs": [],
      "source": [
        "from sqlalchemy import *\n",
        "\n",
        "db_connection = create_engine(connection_url)"
      ]
    },
    {
      "attachments": {},
      "cell_type": "markdown",
      "id": "ee96a9eb-233b-4958-96e1-12c6a5b4cc5f",
      "metadata": {},
      "source": [
        "## Get city data from neighborhoods table"
      ]
    },
    {
      "cell_type": "code",
      "execution_count": 40,
      "id": "3931285c-b147-47b2-a26c-bc81072200bd",
      "metadata": {},
      "outputs": [],
      "source": [
        "import pandas as pd\n",
        "\n",
        "query = \"\"\"\n",
        "    SELECT\n",
        "        id,\n",
        "        name,\n",
        "        population,\n",
        "        shape :> TEXT AS polygon,\n",
        "        centroid :> TEXT AS point\n",
        "    FROM\n",
        "        neighborhoods\n",
        "\"\"\"\n",
        "\n",
        "df = pd.read_sql(\n",
        "    query,\n",
        "    db_connection\n",
        ")"
      ]
    },
    {
      "attachments": {},
      "cell_type": "markdown",
      "id": "413e6c7d-8eb3-4811-b94a-e31c36330b58",
      "metadata": {},
      "source": [
        "## Convert the data to geospatial format for Python"
      ]
    },
    {
      "cell_type": "code",
      "execution_count": 41,
      "id": "d5b40f38-9a7e-4815-aed4-42294e2e6cad",
      "metadata": {},
      "outputs": [],
      "source": [
        "from shapely import wkt\n",
        "\n",
        "df[\"polygon\"] = df[\"polygon\"].apply(wkt.loads)\n",
        "df[\"point\"] = df[\"point\"].apply(wkt.loads)"
      ]
    },
    {
      "attachments": {},
      "cell_type": "markdown",
      "id": "34f05d2b-f60f-48f3-acbe-addb169663fc",
      "metadata": {},
      "source": [
        "## Plot the cities on a map"
      ]
    },
    {
      "cell_type": "code",
      "execution_count": 42,
      "id": "c64c7e06-dbc6-4545-a6b1-adb953313b42",
      "metadata": {},
      "outputs": [],
      "source": [
        "import folium\n",
        "\n",
        "m = folium.Map(\n",
        "    location = [56.1304, -106.3468],\n",
        "    zoom_start = 4\n",
        ")\n",
        "\n",
        "for idx, row in df.iterrows():\n",
        "    folium.Polygon(\n",
        "        locations = [(point[1], point[0]) for point in row[\"polygon\"].exterior.coords],\n",
        "        color = \"blue\",\n",
        "        weight = 2,\n",
        "        fill = True,\n",
        "        fill_color = \"blue\",\n",
        "        fill_opacity = 0.1\n",
        "    ).add_to(m)\n",
        "\n",
        "    folium.Marker(\n",
        "        location = (row[\"point\"].y, row[\"point\"].x),\n",
        "        popup = row[\"name\"]\n",
        "    ).add_to(m)\n",
        "\n",
        "html_content = m._repr_html_()"
      ]
    },
    {
      "attachments": {},
      "cell_type": "markdown",
      "id": "c11f862e-4958-4953-914c-67c54597b801",
      "metadata": {},
      "source": [
        "## Save the map to stage"
      ]
    },
    {
      "attachments": {},
      "cell_type": "markdown",
      "id": "cbfab172-ac45-452b-86af-41e44e6bcd67",
      "metadata": {},
      "source": [
        "<div class=\"alert alert-block alert-warning\">\n",
        "    <b class=\"fa fa-solid fa-exclamation-circle\"></b>\n",
        "    <div>\n",
        "        <p><b>Stage Support</b></p>\n",
        "        <p>The following code will only work on the <b>Standard Tier</b> at this time.</p>\n",
        "    </div>\n",
        "</div>"
      ]
    },
    {
      "cell_type": "code",
      "execution_count": 43,
      "id": "68e134a2-4f57-4beb-8232-89f77599c88d",
      "metadata": {},
      "outputs": [],
      "source": [
        "from singlestoredb import notebook as nb\n",
        "\n",
        "if not shared_tier_check or shared_tier_check[0][1] == \"OFF\":\n",
        "    with nb.stage.open(\"map.html\", \"w\") as st:\n",
        "        st.write(html_content)"
      ]
    },
    {
      "attachments": {},
      "cell_type": "markdown",
      "id": "ae745f3f-6f31-4998-a89d-d3e2a9012e06",
      "metadata": {},
      "source": [
        "# Cleanup"
      ]
    },
    {
      "cell_type": "code",
      "execution_count": 44,
      "id": "2fb216bd-6120-40b5-8e99-732db96d1b6f",
      "metadata": {},
      "outputs": [],
      "source": [
        "%%sql\n",
        "DROP TABLE IF EXISTS customers;\n",
        "DROP TABLE IF EXISTS orders;\n",
        "DROP TABLE IF EXISTS neighborhoods;"
      ]
    },
    {
      "cell_type": "code",
      "execution_count": 45,
      "id": "5dca2b68-29ab-4f12-aab0-7bb03932ca56",
      "metadata": {},
      "outputs": [],
      "source": [
        "shared_tier_check = %sql SHOW VARIABLES LIKE \"is_shared_tier\"\n",
        "if not shared_tier_check or shared_tier_check[0][1] == \"OFF\":\n",
        "    %sql DROP DATABASE IF EXISTS multi_model;"
      ]
    },
    {
      "cell_type": "markdown",
      "id": "d0ba2e40-19a1-4016-829d-e310417b9c37",
      "metadata": {},
      "source": [
        "# Conclusions\n",
        "\n",
        "In this Jupyter notebook, we explored the robust multi-model capabilities of SingleStore, demonstrating how to efficiently manage and query a wide range of data types within a unified database platform. Beginning with a simple \"Getting Started\" guide, we progressively delved into various standard SQL queries and extended our exploration to include more advanced data models such as vectors for machine learning, full-text search for unstructured data, JSON for hierarchical data, geospatial data for location-based queries, and time series data for temporal analysis. Through these practical examples, users can appreciate SingleStore's versatility and powerful functionality, gaining the skills to effectively harness its multi-model capabilities for diverse applications."
      ]
    },
    {
      "cell_type": "markdown",
      "id": "afae2f5f-89ec-411d-9478-e5d6f6480808",
      "metadata": {},
      "source": [
        "<div id=\"singlestore-footer\" style=\"background-color: rgba(194, 193, 199, 0.25); height:2px; margin-bottom:10px\"></div>\n",
        "<div><img src=\"https://raw.githubusercontent.com/singlestore-labs/spaces-notebooks/master/common/images/singlestore-logo-grey.png\" style=\"padding: 0px; margin: 0px; height: 24px\"/></div>"
      ]
    }
  ],
  "metadata": {
    "jupyterlab": {
      "notebooks": {
        "version_major": 6,
        "version_minor": 4
      }
    },
    "kernelspec": {
      "display_name": "Python 3 (ipykernel)",
      "language": "python",
      "name": "python3"
    },
    "language_info": {
      "codemirror_mode": {
        "name": "ipython",
        "version": 3
      },
      "file_extension": ".py",
      "mimetype": "text/x-python",
      "name": "python",
      "nbconvert_exporter": "python",
      "pygments_lexer": "ipython3",
      "version": "3.11.6"
    }
  },
  "nbformat": 4,
  "nbformat_minor": 5
}
