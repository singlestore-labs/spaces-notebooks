{
  "cells": [
    {
      "id": "077e8941",
      "cell_type": "markdown",
      "metadata": {},
      "source": [
        "<div id=\"singlestore-header\" style=\"display: flex; background-color: rgba(235, 249, 245, 0.25); padding: 5px;\">\n",
        "    <div id=\"icon-image\" style=\"width: 90px; height: 90px;\">\n",
        "        <img width=\"100%\" height=\"100%\" src=\"https://raw.githubusercontent.com/singlestore-labs/spaces-notebooks/master/common/images/header-icons/database.png\" />\n",
        "    </div>\n",
        "    <div id=\"text\" style=\"padding: 5px; margin-left: 10px;\">\n",
        "        <div id=\"badge\" style=\"display: inline-block; background-color: rgba(0, 0, 0, 0.15); border-radius: 4px; padding: 4px 8px; align-items: center; margin-top: 6px; margin-bottom: -2px; font-size: 80%\">SingleStore Notebooks</div>\n",
        "        <h1 style=\"font-weight: 500; margin: 8px 0 0 4px;\">Integrating pandas with SingleStoreDB</h1>\n",
        "    </div>\n",
        "</div>"
      ]
    },
    {
      "id": "b66a3e48",
      "cell_type": "markdown",
      "metadata": {},
      "source": [
        "<div class=\"alert alert-block alert-warning\">\n",
        "    <b class=\"fa fa-solid fa-exclamation-circle\"></b>\n",
        "    <div>\n",
        "        <p><b>Note</b></p>\n",
        "        <p>This notebook can be run on a Free Starter Workspace. To create a Free Starter Workspace navigate to <tt>Start</tt> using the left nav. You can also use your existing Standard or Premium workspace with this Notebook.</p>\n",
        "    </div>\n",
        "</div>"
      ]
    },
    {
      "cell_type": "markdown",
      "metadata": {},
      "source": [
        "This notebook will show how to move data from a pandas `DataFrame` into SingleStoreDB as well\n",
        "as downloading a SingleStoreDB query to a pandas `DataFrame`. It should be noted that this\n",
        "is only intended for relatively small data sets and to do processing that can't otherwise\n",
        "be done in SingleStoreDB itself. Moving data to the client for processing should only be done\n",
        "when there is no other alternative in the database."
      ],
      "id": "91ae5c41"
    },
    {
      "cell_type": "code",
      "execution_count": 1,
      "metadata": {},
      "outputs": [],
      "source": [
        "import ibis\n",
        "import pandas as pd\n",
        "import singlestoredb as s2\n",
        "import sqlalchemy as sa"
      ],
      "id": "c93d6c92"
    },
    {
      "cell_type": "markdown",
      "metadata": {},
      "source": [
        "<div class=\"alert alert-block alert-warning\">\n",
        "    <b class=\"fa fa-solid fa-exclamation-circle\"></b>\n",
        "    <div>\n",
        "        <p><b>Action Required</b></p>\n",
        "        <p> If you have a Free Starter Workspace deployed already, select the database from drop-down menu at the top of this notebook. It updates the <tt>connection_url</tt> to connect to that database.</p>\n",
        "    </div>\n",
        "</div>"
      ],
      "id": "a5969592"
    },
    {
      "cell_type": "markdown",
      "metadata": {},
      "source": [
        "## Create a database\n",
        "\n",
        "We need to create a database to work with in the following examples."
      ],
      "id": "996e4e71"
    },
    {
      "cell_type": "code",
      "execution_count": 2,
      "metadata": {},
      "outputs": [],
      "source": [
        "shared_tier_check = %sql show variables like 'is_shared_tier'\n",
        "if not shared_tier_check or shared_tier_check[0][1] == 'OFF':\n",
        "    %sql DROP DATABASE IF EXISTS pandas_integration;\n",
        "    %sql CREATE DATABASE pandas_integration;"
      ],
      "id": "e4ad8232"
    },
    {
      "cell_type": "markdown",
      "metadata": {},
      "source": [
        "<div class=\"alert alert-block alert-warning\">\n",
        "    <b class=\"fa fa-solid fa-exclamation-circle\"></b>\n",
        "    <div>\n",
        "        <p><b>Action Required</b></p>\n",
        "        <p>Make sure to select the <tt>pandas_integration</tt> database from the drop-down menu at the top of this notebook.\n",
        "        It updates the <tt>connection_url</tt> to connect to that database.</p>\n",
        "    </div>\n",
        "</div>"
      ],
      "id": "6ce6ab53"
    },
    {
      "cell_type": "markdown",
      "metadata": {},
      "source": [
        "## Database connections\n",
        "\n",
        "In the notebooks environment, the connection string for the currently selected database is kept\n",
        "in the `connection_url` variable as well as the `SINGLESTOREDB_URL` environment variable.\n",
        "The connection variables are accessed automatically within the SingleStoreDB Python packages\n",
        "so that you do not need connection parameters when connecting.\n",
        "\n",
        "In the following sections, we will connect to SingleStoreDB using each of the packages and demonstrate\n",
        "techniques for moving data between pandas and SingleStoreDB."
      ],
      "id": "3be5a003"
    },
    {
      "cell_type": "markdown",
      "metadata": {},
      "source": [
        "## The Iris data set\n",
        "\n",
        "We'll be using the Iris data set for the following examples. This data set includes five columns: `sepal_length`,\n",
        "`sepal_width`, `petal_length`, `petal_width` and `class`."
      ],
      "id": "7207b236"
    },
    {
      "cell_type": "code",
      "execution_count": 3,
      "metadata": {},
      "outputs": [],
      "source": [
        "iris = pd.read_csv('https://raw.githubusercontent.com/singlestore-labs/spaces-notebooks/master/notebooks/integrating-with-pandas/data/iris.csv')\n",
        "iris"
      ],
      "id": "f752e994"
    },
    {
      "cell_type": "markdown",
      "metadata": {},
      "source": [
        "As you can see below, the first four columns are floats and the last column is a string\n",
        "(represented as an `object` in `DataFrame`s)."
      ],
      "id": "eb65b562"
    },
    {
      "cell_type": "code",
      "execution_count": 4,
      "metadata": {},
      "outputs": [],
      "source": [
        "iris.info()"
      ],
      "id": "a88d4199"
    },
    {
      "cell_type": "markdown",
      "metadata": {},
      "source": [
        "## Moving data between SingleStoreDB and pandas `DataFrame`s\n",
        "\n",
        "Moving data from pandas `DataFrame`s to SingleStoreDB tables can be done in various ways from Python and even\n",
        "from each of the packages described here. This reference is to show the best techniques when using each\n",
        "package.\n",
        "\n",
        "It should be noted that moving data back-and-forth between pandas and SingleStoreDB should only be done when\n",
        "absolutely needed since this can be a major bottleneck when working with and analyzing data. The hope is that\n",
        "the features of SingleStoreDB are sufficient enough to alleviate the need to do much processing (if any) on\n",
        "the client machine."
      ],
      "id": "ad1429cf"
    },
    {
      "cell_type": "markdown",
      "metadata": {},
      "source": [
        "### SingleStoreDB Python\n",
        "\n",
        "The core library is the SingleStoreDB Python package. This is the package that all other SingleStoreDB\n",
        "packages are built on. To connect, simply call the `connect` function."
      ],
      "id": "93bdb639"
    },
    {
      "cell_type": "code",
      "execution_count": 5,
      "metadata": {},
      "outputs": [],
      "source": [
        "s2_conn = s2.connect()"
      ],
      "id": "81f49c90"
    },
    {
      "cell_type": "markdown",
      "metadata": {},
      "source": [
        "Since the core library is a fairly low-level interface to SingleStoreDB, most operations are done simply by sending\n",
        "SQL code."
      ],
      "id": "4ba44e4c"
    },
    {
      "cell_type": "markdown",
      "metadata": {},
      "source": [
        "#### Creating a table\n",
        "\n",
        "Because we are using a low-level driver, creating a table is just done using SQL code. We'll use the information\n",
        "about the data set above to construct a `CREATE TABLE` statement."
      ],
      "id": "7d1e729f"
    },
    {
      "cell_type": "code",
      "execution_count": 6,
      "metadata": {},
      "outputs": [],
      "source": [
        "s2_cur = s2_conn.cursor()\n",
        "s2_cur.execute(r'''\n",
        "    CREATE TABLE IF NOT EXISTS iris (\n",
        "        sepal_length DOUBLE,\n",
        "        sepal_width DOUBLE,\n",
        "        petal_length DOUBLE,\n",
        "        petal_width DOUBLE,\n",
        "        class TEXT\n",
        "    )\n",
        "''')"
      ],
      "id": "23e9fccd"
    },
    {
      "cell_type": "markdown",
      "metadata": {},
      "source": [
        "#### Upload the data from a `DataFrame`\n",
        "\n",
        "Now that we have a table, we can populate it with data from the `DataFrame`. Again, we will use\n",
        "SQL statements to do this. The Python client can execute single SQL statements using the\n",
        "`execute` method as used above, but since we are uploading multiple rows of data it is better\n",
        "to use the `executemany` method since it is optimized for this purpose."
      ],
      "id": "87533afe"
    },
    {
      "cell_type": "code",
      "execution_count": 7,
      "metadata": {},
      "outputs": [],
      "source": [
        "# Construct the list of column names\n",
        "cols = ', '.join(f'`{x}`' for x in iris.columns)\n",
        "\n",
        "# Construct a list of value placeholders for the INSERT statement\n",
        "values = ', '.join(['%s'] * len(iris.columns))\n",
        "\n",
        "# Get data as a list of tuples (not including the index)\n",
        "data = list(iris.itertuples(index=False))\n",
        "\n",
        "# Execute the INSERT statement\n",
        "s2_cur.executemany(f'INSERT INTO iris({cols}) VALUES ({values})', data)"
      ],
      "id": "0e10f6c9"
    },
    {
      "cell_type": "markdown",
      "metadata": {},
      "source": [
        "We can select a sample of the rows to see that the data is now in SingleStoreDB."
      ],
      "id": "07f5462c"
    },
    {
      "cell_type": "code",
      "execution_count": 8,
      "metadata": {},
      "outputs": [],
      "source": [
        "s2_cur.execute('SELECT * FROM iris LIMIT 10')\n",
        "for row in s2_cur:\n",
        "    print(row)"
      ],
      "id": "84cb68a6"
    },
    {
      "cell_type": "markdown",
      "metadata": {},
      "source": [
        "#### Downloading the data to a `DataFrame`\n",
        "\n",
        "We can download the data to a pandas `DataFrame` simply by selecting all columns of data,\n",
        "fetching all of the rows, and passing them to the `DataFrame` constructor."
      ],
      "id": "1c1169c4"
    },
    {
      "cell_type": "code",
      "execution_count": 9,
      "metadata": {},
      "outputs": [],
      "source": [
        "s2_cur.execute('SELECT * FROM iris')\n",
        "\n",
        "# Use the `description` attribute to get the column names\n",
        "names = [x[0] for x in s2_cur.description]\n",
        "\n",
        "s2_iris_df = pd.DataFrame(list(s2_cur), columns=names)\n",
        "s2_iris_df"
      ],
      "id": "95418be9"
    },
    {
      "cell_type": "code",
      "execution_count": 10,
      "metadata": {},
      "outputs": [],
      "source": [
        "s2_iris_df.info()"
      ],
      "id": "639e4ac8"
    },
    {
      "cell_type": "markdown",
      "metadata": {},
      "source": [
        "Now that we have demonstrated uploading and downloading data from a pandas `DataFrame` using the\n",
        "SingleStoreDB Python client, we can drop the table and move on to SQLAlchemy."
      ],
      "id": "6d6c7516"
    },
    {
      "cell_type": "code",
      "execution_count": 11,
      "metadata": {},
      "outputs": [],
      "source": [
        "s2_cur.execute('DROP TABLE IF EXISTS iris')"
      ],
      "id": "e21589b8"
    },
    {
      "cell_type": "markdown",
      "metadata": {},
      "source": [
        "### SQLAlchemy\n",
        "\n",
        "In addition to the core Python library, you can use SQLAlchemy to connect to SingleStoreDB. Typically, when\n",
        "using SQLAlchemy, you would use the SQLAlchemy `create_engine` function to create an engine, then call `connect`\n",
        "on the engine to create connections from a pool. The SingleStoreDB Python package also has a `create_engine`\n",
        "function that does the same thing, however, it extends the default ability by allow you to use the\n",
        "`SINGLESTOREDB_URL` environment variable as the connection string so that no parameters are needed for\n",
        "`create_engine` when used in the notebooks environment."
      ],
      "id": "29f17ae8"
    },
    {
      "cell_type": "code",
      "execution_count": 12,
      "metadata": {},
      "outputs": [],
      "source": [
        "sa_eng = s2.create_engine()\n",
        "sa_conn = sa_eng.connect()"
      ],
      "id": "01474892"
    },
    {
      "cell_type": "markdown",
      "metadata": {},
      "source": [
        "#### Uploading the data from a `DataFrame`\n",
        "\n",
        "Uploading data from a `DataFrame` using SQLAlchemy is much easier than the lower-level Python library.\n",
        "The pandas library itself has the ability to communicate with SingleStoreDB using a SQLAlchemy connection.\n",
        "In this case, the `DataFrame` can create the table and populate it in one step using the `to_sql` method.\n",
        "The `to_sql` method has various options to modify its behavior [documented on the pandas web site](https://pandas.pydata.org/pandas-docs/stable/reference/api/pandas.DataFrame.to_sql.html)."
      ],
      "id": "29da1422"
    },
    {
      "cell_type": "code",
      "execution_count": 13,
      "metadata": {},
      "outputs": [],
      "source": [
        "iris.to_sql('iris', con=sa_conn, index=False, if_exists='replace')"
      ],
      "id": "0cde99aa"
    },
    {
      "cell_type": "markdown",
      "metadata": {},
      "source": [
        "We can verify the data is in SingleStoreDB with a simple `SELECT` statement."
      ],
      "id": "152cdb79"
    },
    {
      "cell_type": "code",
      "execution_count": 14,
      "metadata": {},
      "outputs": [],
      "source": [
        "for row in sa_conn.execute(sa.text('SELECT * FROM iris LIMIT 10')):\n",
        "    print(row)"
      ],
      "id": "8b6d0dcd"
    },
    {
      "cell_type": "markdown",
      "metadata": {},
      "source": [
        "It is also possible to use SQLAlchemy expressions to query the table rather than raw SQL strings."
      ],
      "id": "f052d204"
    },
    {
      "cell_type": "code",
      "execution_count": 15,
      "metadata": {},
      "outputs": [],
      "source": [
        "# Create a metadata object for the database\n",
        "if sa.__version__.startswith('1'):\n",
        "    db = sa.MetaData(bind=sa_eng)\n",
        "    sa.MetaData.reflect(db)\n",
        "else:\n",
        "    db = sa.MetaData()\n",
        "    db.reflect(bind=sa_eng)\n",
        "\n",
        "# Get the iris table from reflected data\n",
        "sa_iris = db.tables['iris']\n",
        "\n",
        "# Query the iris table\n",
        "query = sa.select(sa_iris).limit(10)\n",
        "\n",
        "# Print results\n",
        "for row in sa_conn.execute(query):\n",
        "    print(row)"
      ],
      "id": "d26c240a"
    },
    {
      "cell_type": "markdown",
      "metadata": {},
      "source": [
        "#### Downloading the data to a `DataFrame`\n",
        "\n",
        "Downloading data to a pandas `DataFrame` is very simple. The result of the `execute` method can\n",
        "be passed directly to the pandas `DataFrame` constructor."
      ],
      "id": "ec8c09ec"
    },
    {
      "cell_type": "code",
      "execution_count": 16,
      "metadata": {},
      "outputs": [],
      "source": [
        "# Reset query to not include the limit\n",
        "query = sa.select(sa_iris)\n",
        "\n",
        "sa_iris_df = pd.DataFrame(sa_conn.execute(query))\n",
        "sa_iris_df"
      ],
      "id": "6c3a786f"
    },
    {
      "cell_type": "code",
      "execution_count": 17,
      "metadata": {},
      "outputs": [],
      "source": [
        "sa_iris_df.info()"
      ],
      "id": "dd9018f4"
    },
    {
      "cell_type": "markdown",
      "metadata": {},
      "source": [
        "It is also possible to use `pd.read_sql` to bookend the use of `df.to_sql`."
      ],
      "id": "40831a8d"
    },
    {
      "cell_type": "code",
      "execution_count": 18,
      "metadata": {},
      "outputs": [],
      "source": [
        "sa_iris_df = pd.read_sql(query, con=sa_conn)\n",
        "sa_iris_df"
      ],
      "id": "9a647b1a"
    },
    {
      "cell_type": "markdown",
      "metadata": {},
      "source": [
        "Now that we have demonstrated using SQLAlchemy to upload and download pandas `DataFrames` we can drop\n",
        "the table and move on to Ibis."
      ],
      "id": "d7f11bcf"
    },
    {
      "cell_type": "code",
      "execution_count": 19,
      "metadata": {},
      "outputs": [],
      "source": [
        "sa_iris.drop(bind=sa_eng)"
      ],
      "id": "d70972af"
    },
    {
      "cell_type": "markdown",
      "metadata": {},
      "source": [
        "### Ibis (SingleStoreDB DataFrame)\n",
        "\n",
        "The Ibis package allows you to treat tables in SingleStoreDB as `DataFrames`. The `DataFrame` expressions\n",
        "are used to build lazy expressions which generate SQL statements that get submitted to SingleStoreDB\n",
        "only when you want to see the results of a query. Ibis using SQLAlchemy connections behind-the-scenes."
      ],
      "id": "f32118fe"
    },
    {
      "cell_type": "code",
      "execution_count": 20,
      "metadata": {},
      "outputs": [],
      "source": [
        "ibis_conn = ibis.singlestoredb.connect()"
      ],
      "id": "4adac2b3"
    },
    {
      "cell_type": "markdown",
      "metadata": {},
      "source": [
        "#### Uploading the data from a `DataFrame`\n",
        "\n",
        "Ibis is intended for tight integration with pandas, so it is no surprise that uploading a\n",
        "pandas `DataFrame` with Ibis is straight-forward.\n",
        "\n",
        "If you are not familiar with Ibis, you may notice the `execute` call at the end of this cell.\n",
        "Ibis creates expressions in memory on the client machine until a view of the data is\n",
        "explicitly asked for. Once you explicitly ask for a query to be executed, it then generates\n",
        "and submits the SQL code for the expression behind-the-scenes.\n",
        "\n",
        "In this case, the `ibis_iris` object is a `DataFrame`-like object that is lazily constructing\n",
        "the requested expression until `execute` is called on it. In the case of this example, uploading\n",
        "and downloading"
      ],
      "id": "6e6ca747"
    },
    {
      "cell_type": "code",
      "execution_count": 21,
      "metadata": {},
      "outputs": [],
      "source": [
        "ibis_iris = ibis_conn.create_table('iris', iris, overwrite=True)\n",
        "ibis_iris.limit(10).execute()"
      ],
      "id": "c863ae1f"
    },
    {
      "cell_type": "markdown",
      "metadata": {},
      "source": [
        "It is also possible to insert the data from a `DataFrame` into an existing table using the `insert` method\n",
        "of the connection."
      ],
      "id": "47893242"
    },
    {
      "cell_type": "code",
      "execution_count": 22,
      "metadata": {},
      "outputs": [],
      "source": [
        "ibis_conn.insert('iris', iris)"
      ],
      "id": "9ca1c807"
    },
    {
      "cell_type": "markdown",
      "metadata": {},
      "source": [
        "You'll see that we now have 300 rows since we've inserted the data twice."
      ],
      "id": "8f262819"
    },
    {
      "cell_type": "code",
      "execution_count": 23,
      "metadata": {},
      "outputs": [],
      "source": [
        "ibis_iris.count().execute()"
      ],
      "id": "1eb12dfb"
    },
    {
      "cell_type": "markdown",
      "metadata": {},
      "source": [
        "One way to see the SQL that gets submitted during `execute` is to compile the expression\n",
        "and print it. Ibis also has a options to display SQL queries as they are submitted."
      ],
      "id": "b4dc87a4"
    },
    {
      "cell_type": "code",
      "execution_count": 24,
      "metadata": {},
      "outputs": [],
      "source": [
        "print(ibis_iris.compile())"
      ],
      "id": "8bb66f21"
    },
    {
      "cell_type": "markdown",
      "metadata": {},
      "source": [
        "The information about the table can be retrieved much like in a local pandas `DataFrame`."
      ],
      "id": "8df50578"
    },
    {
      "cell_type": "code",
      "execution_count": 25,
      "metadata": {},
      "outputs": [],
      "source": [
        "ibis_iris.info().execute()"
      ],
      "id": "5f07644b"
    },
    {
      "cell_type": "markdown",
      "metadata": {},
      "source": [
        "#### Downloading the data from a `DataFrame`\n",
        "\n",
        "The output from evaluating Ibis expressions returns a `DataFrame`, so we have already demonstrated\n",
        "downloading data, but here is the code again."
      ],
      "id": "af4a40bb"
    },
    {
      "cell_type": "code",
      "execution_count": 26,
      "metadata": {},
      "outputs": [],
      "source": [
        "ibis_iris_df = ibis_iris.execute()\n",
        "ibis_iris_df"
      ],
      "id": "50b54dd8"
    },
    {
      "cell_type": "markdown",
      "metadata": {},
      "source": [
        "Ibis `Table`s also have a `to_pandas` method."
      ],
      "id": "9e3fc598"
    },
    {
      "cell_type": "code",
      "execution_count": 27,
      "metadata": {},
      "outputs": [],
      "source": [
        "ibis_iris.to_pandas()"
      ],
      "id": "c09411e6"
    },
    {
      "cell_type": "markdown",
      "metadata": {},
      "source": [
        "If you do not have an Ibis object reference to a table already, you can get one using the `table` method\n",
        "or `tables` attribute of the Ibis connection."
      ],
      "id": "097435fc"
    },
    {
      "cell_type": "code",
      "execution_count": 28,
      "metadata": {},
      "outputs": [],
      "source": [
        "# Use this version if the table name is not a valid Python variable name\n",
        "ibis_iris = ibis_conn.table('iris')\n",
        "\n",
        "# This form can be used if the table name is a valid Python variable name\n",
        "ibis_iris = ibis_conn.tables.iris"
      ],
      "id": "3c48ca90"
    },
    {
      "cell_type": "code",
      "execution_count": 29,
      "metadata": {},
      "outputs": [],
      "source": [
        "ibis_iris.limit(10).execute()"
      ],
      "id": "e1c8a0c1"
    },
    {
      "cell_type": "markdown",
      "metadata": {},
      "source": [
        "We have demonstrated both uploading and downloading pandas `DataFrames` using Ibis, so\n",
        "we can drop the table now."
      ],
      "id": "16c307d7"
    },
    {
      "cell_type": "code",
      "execution_count": 30,
      "metadata": {},
      "outputs": [],
      "source": [
        "ibis_conn.drop_table('iris')"
      ],
      "id": "ba397ac3"
    },
    {
      "cell_type": "markdown",
      "metadata": {},
      "source": [
        "### `%%sql` and `%sql` magic commands\n",
        "\n",
        "The IPython interpreter can be extended with \"magic\" commands. The SingleStore Cloud notebook environment\n",
        "uses the [JupySQL](https://jupysql.ploomber.io/en/latest/quick-start.html) plugin for the `%sql`, `%%sql`,\n",
        "and `%sqlplot` commands. These work in conjunction with SQLAlchemy to allow you to type SQL code in\n",
        "the notebook cells. They also have ways of integrating with pandas. The notebook environment automatically\n",
        "sets up the connection string for use in these commands."
      ],
      "id": "7c3a31cc"
    },
    {
      "cell_type": "markdown",
      "metadata": {},
      "source": [
        "#### Creating a table\n",
        "\n",
        "Creating a table with the `%%sql` command is done simply by submitting the `CREATE TABLE` statement."
      ],
      "id": "8667929d"
    },
    {
      "cell_type": "code",
      "execution_count": 31,
      "metadata": {},
      "outputs": [],
      "source": [
        "%%sql\n",
        "DROP TABLE IF EXISTS iris;\n",
        "CREATE TABLE IF NOT EXISTS iris (\n",
        "    sepal_length DOUBLE,\n",
        "    sepal_width DOUBLE,\n",
        "    petal_length DOUBLE,\n",
        "    petal_width DOUBLE,\n",
        "    class TEXT\n",
        ");"
      ],
      "id": "138f111b"
    },
    {
      "cell_type": "markdown",
      "metadata": {},
      "source": [
        "#### Uploading the data from a `DataFrame`\n",
        "\n",
        "The `%sql` command has options that allow you to upload data from a `DataFrame`. The `--persist` option\n",
        "will create a table in the database and upload the data. The `--append` option will append data to an\n",
        "existing table. In this case, the name used for the `DataFrame` variable is used for the table name\n",
        "in SingleStoreDB."
      ],
      "id": "baa7f8a7"
    },
    {
      "cell_type": "code",
      "execution_count": 32,
      "metadata": {},
      "outputs": [],
      "source": [
        "%sql --append --no-index iris"
      ],
      "id": "d03da00a"
    },
    {
      "cell_type": "code",
      "execution_count": 33,
      "metadata": {},
      "outputs": [],
      "source": [
        "%%sql\n",
        "SELECT * FROM iris LIMIT 10;"
      ],
      "id": "db454011"
    },
    {
      "cell_type": "markdown",
      "metadata": {},
      "source": [
        "#### Downloading the data from a `DataFrame`\n",
        "\n",
        "There are a few ways of getting data from SingleStoreDB into a `DataFrame` using the SQL magic commands.\n",
        "The first is to use the `%sql` command and convert the result manually."
      ],
      "id": "db91e707"
    },
    {
      "cell_type": "code",
      "execution_count": 34,
      "metadata": {},
      "outputs": [],
      "source": [
        "out = %sql SELECT * FROM iris\n",
        "sql_iris_df = out.DataFrame()\n",
        "sql_iris_df"
      ],
      "id": "0bba558a"
    },
    {
      "cell_type": "markdown",
      "metadata": {},
      "source": [
        "You can also pass the result of the query to the `DataFrame` constructor."
      ],
      "id": "19adfd90"
    },
    {
      "cell_type": "code",
      "execution_count": 35,
      "metadata": {},
      "outputs": [],
      "source": [
        "sql_iris_df = pd.DataFrame(out)\n",
        "sql_iris_df"
      ],
      "id": "36eabe0c"
    },
    {
      "cell_type": "markdown",
      "metadata": {},
      "source": [
        "Finally, the output of the `%%sql` command can be stored to a variable which can then be\n",
        "converted to a `DataFrame` in the same manner as above."
      ],
      "id": "6656b59a"
    },
    {
      "cell_type": "code",
      "execution_count": 36,
      "metadata": {},
      "outputs": [],
      "source": [
        "%%sql result <<\n",
        "SELECT * FROM iris;"
      ],
      "id": "5da05c62"
    },
    {
      "cell_type": "code",
      "execution_count": 37,
      "metadata": {},
      "outputs": [],
      "source": [
        "sql_iris_df = pd.DataFrame(result)\n",
        "sql_iris_df"
      ],
      "id": "35f51470"
    },
    {
      "cell_type": "markdown",
      "metadata": {},
      "source": [
        "##### Automatically return pandas `DataFrame`s\n",
        "\n",
        "The other option for getting `DataFrame`s as the result of the SQL magic commands is to enable\n",
        "the `SqlMagic.autopandas` option. This will cause all results from SQL magic commands to be\n",
        "converted to `DataFrame`s without any intervention."
      ],
      "id": "782ec035"
    },
    {
      "cell_type": "code",
      "execution_count": 38,
      "metadata": {},
      "outputs": [],
      "source": [
        "%config SqlMagic.autopandas = True"
      ],
      "id": "57227c30"
    },
    {
      "cell_type": "code",
      "execution_count": 39,
      "metadata": {},
      "outputs": [],
      "source": [
        "out = %sql SELECT * FROM iris\n",
        "out"
      ],
      "id": "e12fdd61"
    },
    {
      "cell_type": "code",
      "execution_count": 40,
      "metadata": {},
      "outputs": [],
      "source": [
        "type(out)"
      ],
      "id": "c7d03adf"
    },
    {
      "cell_type": "markdown",
      "metadata": {},
      "source": [
        "Now that we have demonstrated uploading and downloading of `DataFrame`s using the SQL magic commands,\n",
        "we can reset the configuration options and drop the table."
      ],
      "id": "061b6939"
    },
    {
      "cell_type": "code",
      "execution_count": 41,
      "metadata": {},
      "outputs": [],
      "source": [
        "%config SqlMagic.autopandas = False\n",
        "%sql DROP TABLE IF EXISTS iris"
      ],
      "id": "0f8f59c5"
    },
    {
      "cell_type": "markdown",
      "metadata": {},
      "source": [
        "## Conclusion\n",
        "\n",
        "<div class=\"alert alert-block alert-warning\">\n",
        "    <b class=\"fa fa-solid fa-exclamation-circle\"></b>\n",
        "    <div>\n",
        "        <p><b>Action Required</b></p>\n",
        "        <p> If you created a new database in your Standard or Premium Workspace, you can drop the database by running the cell below. Note: this will not drop your database for Free Starter Workspaces. To drop a Free Starter Workspace, terminate the Workspace using the UI. </p>\n",
        "    </div>\n",
        "</div>\n",
        "\n",
        "We have shown how to upload and download data from a pandas `DataFrame` to and from SingleStoreDB\n",
        "using the SingleStoreDB Python client, SQLAlchemy, and Ibis. These techniques should enable you to\n",
        "integrate your pandas workflows with SingleStoreDB."
      ],
      "id": "b081f241"
    },
    {
      "cell_type": "code",
      "execution_count": 42,
      "metadata": {},
      "outputs": [],
      "source": [
        "shared_tier_check = %sql show variables like 'is_shared_tier'\n",
        "if not shared_tier_check or shared_tier_check[0][1] == 'OFF':\n",
        "    %sql DROP DATABASE IF EXISTS pandas_integration;"
      ],
      "id": "24af14ce"
    },
    {
      "id": "1931035f",
      "cell_type": "markdown",
      "metadata": {},
      "source": [
        "<div id=\"singlestore-footer\" style=\"background-color: rgba(194, 193, 199, 0.25); height:2px; margin-bottom:10px\"></div>\n",
        "<div><img src=\"https://raw.githubusercontent.com/singlestore-labs/spaces-notebooks/master/common/images/singlestore-logo-grey.png\" style=\"padding: 0px; margin: 0px; height: 24px\"/></div>"
      ]
    }
  ],
  "metadata": {
    "jupyterlab": {
      "notebooks": {
        "version_major": 6,
        "version_minor": 4
      }
    },
    "kernelspec": {
      "display_name": "Python 3 (ipykernel)",
      "language": "python",
      "name": "python3"
    },
    "language_info": {
      "codemirror_mode": {
        "name": "ipython",
        "version": 3
      },
      "file_extension": ".py",
      "mimetype": "text/x-python",
      "name": "python",
      "nbconvert_exporter": "python",
      "pygments_lexer": "ipython3",
      "version": "3.11.4"
    }
  },
  "nbformat": 4,
  "nbformat_minor": 5
}
