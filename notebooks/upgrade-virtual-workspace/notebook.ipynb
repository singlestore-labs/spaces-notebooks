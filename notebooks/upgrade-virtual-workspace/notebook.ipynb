{
  "cells": [
    {
      "id": "89f14efd",
      "cell_type": "markdown",
      "metadata": {},
      "source": [
        "<div id=\"singlestore-header\" style=\"display: flex; background-color: rgba(235, 249, 245, 0.25); padding: 5px;\">\n",
        "    <div id=\"icon-image\" style=\"width: 90px; height: 90px;\">\n",
        "        <img width=\"100%\" height=\"100%\" src=\"https://raw.githubusercontent.com/singlestore-labs/spaces-notebooks/master/common/images/header-icons/browser.png\" />\n",
        "    </div>\n",
        "    <div id=\"text\" style=\"padding: 5px; margin-left: 10px;\">\n",
        "        <div id=\"badge\" style=\"display: inline-block; background-color: rgba(0, 0, 0, 0.15); border-radius: 4px; padding: 4px 8px; align-items: center; margin-top: 6px; margin-bottom: -2px; font-size: 80%\">SingleStore Notebooks</div>\n",
        "        <h1 style=\"font-weight: 500; margin: 8px 0 0 4px;\">Upgrade Your Virtual Workspace</h1>\n",
        "    </div>\n",
        "</div>"
      ]
    },
    {
      "id": "067bfdc9",
      "cell_type": "markdown",
      "metadata": {},
      "source": [
        "<div class=\"alert alert-block alert-warning\">\n",
        "    <b class=\"fa fa-solid fa-exclamation-circle\"></b>\n",
        "    <div>\n",
        "        <p><b>Note</b></p>\n",
        "        <p>This notebook can be run on a Free Starter Workspace. To create a Free Starter Workspace navigate to <tt>Start</tt> using the left nav. You can also use your existing Standard or Premium workspace with this Notebook.</p>\n",
        "    </div>\n",
        "</div>"
      ]
    },
    {
      "attachments": {},
      "cell_type": "markdown",
      "id": "2baee12f",
      "metadata": {},
      "source": [
        "<div class=\"alert alert-block alert-warning\">\n",
        "    <b class=\"fa fa-solid fa-exclamation-circle\"></b>\n",
        "    <div>\n",
        "        <p><b>Note</b></p>\n",
        "        <p>This notebook should be run on a shared deployment in an Organization whose plan allow for the creation of a new dedicated deployment.</p>\n",
        "    </div>\n",
        "</div>"
      ]
    },
    {
      "attachments": {},
      "cell_type": "markdown",
      "id": "750ba802",
      "metadata": {},
      "source": [
        "This notebook will show you how to upgrade your shared deployment to a new dedicated deployment.\n",
        "All the fields are ready with default values, but we encurage customize them.\n",
        "The required information is:\n",
        "- a new name for your new Workspace in the dedicated deployment\n",
        "- the desired size of your new Workspace in the dedicated deployment (see: https://www.singlestore.com/cloud-pricing/)\n",
        "- a custom name for your new workspace group\n",
        "- the id of the region to create your new workspace group"
      ]
    },
    {
      "attachments": {},
      "cell_type": "markdown",
      "id": "d492e34d",
      "metadata": {},
      "source": [
        "<div class=\"alert alert-block alert-warning\">\n",
        "    <b class=\"fa fa-solid fa-exclamation-circle\"></b>\n",
        "    <div>\n",
        "        <p><b>Warning</b></p>\n",
        "        <p>During the Upgrade process data writen to the shared deployment may not be moved to the new Workspace in the dedicated deployment.</p>\n",
        "        <p>The shared deployment will remain available during (and after) the upgrade process, however any writes to the shared deployment after the upgrade process begins may not be reflected on the new workspace.</p>\n",
        "        <p>Please account for this behaviour when upgrading.</p>\n",
        "    </div>\n",
        "</div>"
      ]
    },
    {
      "attachments": {},
      "cell_type": "markdown",
      "id": "f3dfd325",
      "metadata": {},
      "source": [
        "## Choose a Region for the new workspace group\n",
        "Please select the Region you desire your new Workspace Group to be created on from the dropdown after the next cell."
      ]
    },
    {
      "cell_type": "code",
      "execution_count": 1,
      "id": "91c80425",
      "metadata": {},
      "outputs": [],
      "source": [
        "import requests\n",
        "from ipywidgets import widgets\n",
        "\n",
        "region_response = requests.get('https://api.singlestore.com/v1/regions', headers={'Authorization': 'Bearer {}'.format(connection_password)})\n",
        "regions = [[f\"{r['provider']}: {r['region']}\", r['regionID']] for r in region_response.json()]\n",
        "region_dropdown = widgets.Dropdown(\n",
        "    options = regions,\n",
        "    value = regions[0][1],\n",
        "    description = 'Region:',\n",
        "    disabled = False,\n",
        ")\n",
        "\n",
        "display(region_dropdown)"
      ]
    },
    {
      "attachments": {},
      "cell_type": "markdown",
      "id": "d612fde9",
      "metadata": {},
      "source": [
        "## Choose a Name for the new workspace group\n",
        "Please insert the name for your new Workspace Group in text box after the next cell."
      ]
    },
    {
      "cell_type": "code",
      "execution_count": 2,
      "id": "1b2e37e2",
      "metadata": {},
      "outputs": [],
      "source": [
        "from ipywidgets import widgets\n",
        "\n",
        "workspace_group_name_text_box = widgets.Text(\n",
        "    value='Upgrade Group',\n",
        "    placeholder='Insert a name',\n",
        "    description='Name:'\n",
        ")\n",
        "\n",
        "display(workspace_group_name_text_box)"
      ]
    },
    {
      "attachments": {},
      "cell_type": "markdown",
      "id": "cfd310c0",
      "metadata": {},
      "source": [
        "## Choose a Name for the new workspace\n",
        "Please insert the name for your new Workspace in text box after the next cell."
      ]
    },
    {
      "cell_type": "code",
      "execution_count": 3,
      "id": "3032d557",
      "metadata": {},
      "outputs": [],
      "source": [
        "from ipywidgets import widgets\n",
        "\n",
        "workspace_name_text_box = widgets.Text(\n",
        "    value='Upgraded Workspace',\n",
        "    placeholder='Insert a name',\n",
        "    description='Name:'\n",
        ")\n",
        "\n",
        "display(workspace_name_text_box)"
      ]
    },
    {
      "attachments": {},
      "cell_type": "markdown",
      "id": "2bcb9f24",
      "metadata": {},
      "source": [
        "## Choose the size for the new workspace\n",
        "Please insert the size for your new Workspace in text box after the next cell.\n",
        "If you are unsure which size to choose, visit the [docs](https://www.singlestore.com/cloud-pricing/)."
      ]
    },
    {
      "cell_type": "code",
      "execution_count": 4,
      "id": "703ff15e",
      "metadata": {},
      "outputs": [],
      "source": [
        "from ipywidgets import widgets\n",
        "\n",
        "size_text_box = widgets.Text(\n",
        "    value='S-00',\n",
        "    placeholder='Insert a size',\n",
        "    description='Size:',\n",
        "    layout={'width': 'max-content'}\n",
        ")\n",
        "\n",
        "display(size_text_box)"
      ]
    },
    {
      "attachments": {},
      "cell_type": "markdown",
      "id": "ad57d499",
      "metadata": {},
      "source": [
        "<div class=\"alert alert-block alert-warning\">\n",
        "    <b class=\"fa fa-solid fa-exclamation-circle\"></b>\n",
        "    <div>\n",
        "        <p><b>Warning</b></p>\n",
        "        <p>During the Upgrade process data writen to the shared deployment may not be moved to the new Workspace in the dedicated deployment.</p>\n",
        "        <p>The shared deployment will remain available during (and after) the upgrade process, however any writes to the shared deployment after the upgrade process begins may not be reflected on the new workspace.</p>\n",
        "        <p>Please account for this behaviour when upgrading.</p>\n",
        "    </div>\n",
        "</div>"
      ]
    },
    {
      "attachments": {},
      "cell_type": "markdown",
      "id": "04adceb6",
      "metadata": {},
      "source": [
        "## Begin the Upgrade Process\n",
        "Runing the next cell will start the upgrade process"
      ]
    },
    {
      "cell_type": "code",
      "execution_count": 5,
      "id": "edce432c",
      "metadata": {},
      "outputs": [],
      "source": [
        "import requests, os\n",
        "from ipywidgets import widgets\n",
        "\n",
        "workspace_id = os.environ['SINGLESTOREDB_VIRTUAL_WORKSPACE']\n",
        "upgrade_response = requests.post('https://api.singlestore.com/v1/sharedtier/virtualWorkspaces/{}/upgrade'.format(workspace_id), headers={'Authorization': 'Bearer {}'.format(connection_password)}, json={\n",
        "  \"destinationWorkspace\": {\n",
        "    \"name\": workspace_name_text_box.value,\n",
        "    \"regionID\": region_dropdown.value,\n",
        "    \"size\": size_text_box.value,\n",
        "    \"workspaceGroupName\": workspace_group_name_text_box.value\n",
        "  }\n",
        "})\n",
        "\n",
        "if upgrade_response.status_code == 200:\n",
        "    display(widgets.HTML(f\"<div class='alert alert-block alert-success'><b class='fa fa-solid fa-check-circle'></b><div><p><b>Upgrade Started</b></p><p>See next cell for progress</p></div></div>\"))\n",
        "else:\n",
        "    display(widgets.HTML(f\"<div class='alert alert-block alert-danger'><b class='fa fa-solid fa-exclamation-triangle'></b><div><p><b>Failed to Start Upgrade</b></p><p>{upgrade_response.status_code} - {upgrade_response.text}</p></div></div>\"))"
      ]
    },
    {
      "attachments": {},
      "cell_type": "markdown",
      "id": "fb825bce",
      "metadata": {},
      "source": [
        "## Check the progress of the Upgrade:\n",
        "Running the next cell will give you progress on the upgrade process"
      ]
    },
    {
      "cell_type": "code",
      "execution_count": 6,
      "id": "9885c925",
      "metadata": {},
      "outputs": [],
      "source": [
        "import requests, os, time\n",
        "from ipywidgets import widgets\n",
        "\n",
        "workspace_id = os.environ['SINGLESTOREDB_VIRTUAL_WORKSPACE']\n",
        "organization_id = os.environ['SINGLESTOREDB_ORGANIZATION']\n",
        "status_response = requests.get('https://api.singlestore.com/v1/sharedtier/virtualWorkspaces/{}/upgrade'.format(workspace_id), headers={'Authorization': 'Bearer {}'.format(connection_password)})\n",
        "\n",
        "while status_response.json()[\"upgradeStatus\"] not in [\"Completed\", \"Failed\"]:\n",
        "    display(widgets.IntProgress(\n",
        "        value=[\"Failed\", \"WaitingForWorkspaceGroup\", \"MigratingData\", \"Completed\"].index(status_response.json()[\"upgradeStatus\"]),\n",
        "        min=0,\n",
        "        max=3,\n",
        "        description='Loading:',\n",
        "        orientation='horizontal'\n",
        "    ))\n",
        "    time.sleep(15)\n",
        "    status_response = requests.get('https://api.singlestore.com/v1/sharedtier/virtualWorkspaces/{}/upgrade'.format(workspace_id), headers={'Authorization': 'Bearer {}'.format(connection_password)})\n",
        "\n",
        "\n",
        "if status_response.json()[\"upgradeStatus\"] == \"Completed\":\n",
        "    display(widgets.HTML('<div id=\"singlestore-header\" style=\"display: flex; background-color: rgba(235, 249, 245, 0.25); padding: 5px;\"><a href=\"https://portal.singlestore.com/organizations/{}/virtual-workspaces/{}\" target=\"_blank\">New Workspace</a>'.format(organization_id, workspace_id)))\n",
        "else:\n",
        "    display(widgets.HTML(\"<div class='alert alert-block alert-danger'><b class='fa fa-solid fa-exclamation-triangle'></b><div><p><b>Failed to Complete Upgrade</b></p><p>The upgrade process failed, please contact support</p></div></div>\"))"
      ]
    },
    {
      "id": "33019b76",
      "cell_type": "markdown",
      "metadata": {},
      "source": [
        "<div id=\"singlestore-footer\" style=\"background-color: rgba(194, 193, 199, 0.25); height:2px; margin-bottom:10px\"></div>\n",
        "<div><img src=\"https://raw.githubusercontent.com/singlestore-labs/spaces-notebooks/master/common/images/singlestore-logo-grey.png\" style=\"padding: 0px; margin: 0px; height: 24px\"/></div>"
      ]
    }
  ],
  "metadata": {
    "kernelspec": {
      "display_name": ".venv",
      "language": "python",
      "name": "python3"
    },
    "language_info": {
      "codemirror_mode": {
        "name": "ipython",
        "version": 3
      },
      "file_extension": ".py",
      "mimetype": "text/x-python",
      "name": "python",
      "nbconvert_exporter": "python",
      "pygments_lexer": "ipython3",
      "version": "3.12.3"
    }
  },
  "nbformat": 4,
  "nbformat_minor": 5
}
