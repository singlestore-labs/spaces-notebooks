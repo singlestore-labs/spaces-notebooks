{
  "cells": [
    {
      "id": "89f14efd",
      "cell_type": "markdown",
      "metadata": {},
      "source": [
        "<div id=\"singlestore-header\" style=\"display: flex; background-color: rgba(235, 249, 245, 0.25); padding: 5px;\">\n",
        "    <div id=\"icon-image\" style=\"width: 90px; height: 90px;\">\n",
        "        <img width=\"100%\" height=\"100%\" src=\"https://raw.githubusercontent.com/singlestore-labs/spaces-notebooks/master/common/images/header-icons/browser.png\" />\n",
        "    </div>\n",
        "    <div id=\"text\" style=\"padding: 5px; margin-left: 10px;\">\n",
        "        <div id=\"badge\" style=\"display: inline-block; background-color: rgba(0, 0, 0, 0.15); border-radius: 4px; padding: 4px 8px; align-items: center; margin-top: 6px; margin-bottom: -2px; font-size: 80%\">SingleStore Notebooks</div>\n",
        "        <h1 style=\"font-weight: 500; margin: 8px 0 0 4px;\">Migrate Your Virtual Workspace</h1>\n",
        "    </div>\n",
        "</div>"
      ]
    },
    {
      "cell_type": "markdown",
      "id": "067bfdc9",
      "metadata": {},
      "source": [
        "<div class=\"alert alert-block alert-warning\">\n",
        "    <b class=\"fa fa-solid fa-exclamation-circle\"></b>\n",
        "    <div>\n",
        "        <p><b>Note</b></p>\n",
        "        <p>This notebook is in preview and requires your Organization to have access to the Migrate Virtual Workspace Feature. Please reach out to us if you'd like to request access.</p>\n",
        "        <p>This notebook should be run on any shared deployment (including on a Free Starter Workspace) in an Organization whose plan allow for the creation of a new dedicated deployment.</p>\n",
        "        <p>To create a Free Starter Workspace navigate to <tt>Start</tt> using the left nav.</p>\n",
        "    </div>\n",
        "</div>"
      ]
    },
    {
      "attachments": {},
      "cell_type": "markdown",
      "id": "750ba802",
      "metadata": {},
      "source": [
        "This notebook will show you how to migrate your shared deployment to a new dedicated deployment.\n",
        "All the fields have default values set, but we encourage you to customize them.\n",
        "The required information is:\n",
        "- a new name for your new Workspace in the dedicated deployment\n",
        "- the desired size of your new Workspace in the dedicated deployment (see: https://www.singlestore.com/cloud-pricing/)\n",
        "- a custom name for your new workspace group\n",
        "- the id of the region to create your new workspace group"
      ]
    },
    {
      "attachments": {},
      "cell_type": "markdown",
      "id": "d492e34d",
      "metadata": {},
      "source": [
        "<div class=\"alert alert-block alert-warning\">\n",
        "    <b class=\"fa fa-solid fa-exclamation-circle\"></b>\n",
        "    <div>\n",
        "        <p><b>Warning</b></p>\n",
        "        <p>During the migration process data writen to the shared deployment may not be moved to the new Workspace in the dedicated deployment. The shared deployment will remain available during (and after) the migration process, however any writes to the shared deployment after the migration process begins may not be reflected on the new workspace.</p>\n",
        "        <p>Please account for this behaviour when migrating.</p>\n",
        "        <p></p>\n",
        "        <p>The migration process is done in two steps. First your data is migrated to the new deployment. Then, after the first step is completed you can migrate any jobs you had scheduled for your shared deployemnt to the new deployment. So that You can ensure that your new deployment is setup as You desire before migrating your scheduled jobs over, we advise that You do not start the second step before visiting the new deployment and checking its settings and data.</p>\n",
        "        <p>While your migrated data will also remain available on your shared deployment, after the migration, the scheduled jobs will not, please account for this when migrating.</p>\n",
        "    </div>\n",
        "</div>"
      ]
    },
    {
      "attachments": {},
      "cell_type": "markdown",
      "id": "f3dfd325",
      "metadata": {},
      "source": [
        "## Choose a Region for the new workspace group\n",
        "Please select the Region you desire your new Workspace Group to be created on from the dropdown after the next cell."
      ]
    },
    {
      "cell_type": "code",
      "execution_count": 1,
      "id": "91c80425",
      "metadata": {},
      "outputs": [],
      "source": [
        "import requests, os\n",
        "from ipywidgets import widgets\n",
        "\n",
        "api_url = os.environ['SINGLESTOREDB_MANAGEMENT_BASE_URL']\n",
        "region_response = requests.get('{}/v1/regions'.format(api_url), headers={'Authorization': 'Bearer {}'.format(connection_password)})\n",
        "regions = [[f\"{r['provider']}: {r['region']}\", r['regionID']] for r in region_response.json()]\n",
        "region_dropdown = widgets.Dropdown(\n",
        "    options = regions,\n",
        "    value = regions[0][1],\n",
        "    description = 'Region:',\n",
        "    disabled = False,\n",
        ")\n",
        "\n",
        "display(region_dropdown)"
      ]
    },
    {
      "attachments": {},
      "cell_type": "markdown",
      "id": "d612fde9",
      "metadata": {},
      "source": [
        "## Choose a Name for the new workspace group\n",
        "Please insert the name for your new Workspace Group in text box after the next cell."
      ]
    },
    {
      "cell_type": "code",
      "execution_count": 2,
      "id": "1b2e37e2",
      "metadata": {},
      "outputs": [],
      "source": [
        "from ipywidgets import widgets\n",
        "\n",
        "workspace_group_name_text_box = widgets.Text(\n",
        "    value='Migrate Group',\n",
        "    placeholder='Insert a name',\n",
        "    description='Name:'\n",
        ")\n",
        "\n",
        "display(workspace_group_name_text_box)"
      ]
    },
    {
      "attachments": {},
      "cell_type": "markdown",
      "id": "cfd310c0",
      "metadata": {},
      "source": [
        "## Choose a Name for the new workspace\n",
        "Please insert the name for your new Workspace in text box after the next cell."
      ]
    },
    {
      "cell_type": "code",
      "execution_count": 3,
      "id": "3032d557",
      "metadata": {},
      "outputs": [],
      "source": [
        "from ipywidgets import widgets\n",
        "\n",
        "workspace_name_text_box = widgets.Text(\n",
        "    value='Migrated Workspace',\n",
        "    placeholder='Insert a name',\n",
        "    description='Name:'\n",
        ")\n",
        "\n",
        "display(workspace_name_text_box)"
      ]
    },
    {
      "attachments": {},
      "cell_type": "markdown",
      "id": "2bcb9f24",
      "metadata": {},
      "source": [
        "## Choose the size for the new workspace\n",
        "Please insert the size for your new Workspace in text box after the next cell.\n",
        "If you are unsure which size to choose, visit the [docs](https://www.singlestore.com/cloud-pricing/)."
      ]
    },
    {
      "cell_type": "code",
      "execution_count": 4,
      "id": "703ff15e",
      "metadata": {},
      "outputs": [],
      "source": [
        "from ipywidgets import widgets\n",
        "\n",
        "size_text_box = widgets.Text(\n",
        "    value='S-00',\n",
        "    placeholder='Insert a size',\n",
        "    description='Size:',\n",
        "    layout={'width': 'max-content'}\n",
        ")\n",
        "\n",
        "display(size_text_box)"
      ]
    },
    {
      "attachments": {},
      "cell_type": "markdown",
      "id": "ad57d499",
      "metadata": {},
      "source": [
        "<div class=\"alert alert-block alert-warning\">\n",
        "    <b class=\"fa fa-solid fa-exclamation-circle\"></b>\n",
        "    <div>\n",
        "        <p><b>Warning</b></p>\n",
        "        <p>During the migration process data writen to the shared deployment may not be moved to the new Workspace in the dedicated deployment. The shared deployment will remain available during (and after) the migration process, however any writes to the shared deployment after the migration process begins may not be reflected on the new workspace.</p>\n",
        "        <p>Please account for this behaviour when migrating.</p>\n",
        "    </div>\n",
        "</div>"
      ]
    },
    {
      "attachments": {},
      "cell_type": "markdown",
      "id": "04adceb6",
      "metadata": {},
      "source": [
        "## Begin the migration process\n",
        "Runing the next cell will start the migration process"
      ]
    },
    {
      "cell_type": "code",
      "execution_count": 5,
      "id": "edce432c",
      "metadata": {},
      "outputs": [],
      "source": [
        "import requests, os\n",
        "from ipywidgets import widgets\n",
        "\n",
        "workspace_id = os.environ['SINGLESTOREDB_VIRTUAL_WORKSPACE']\n",
        "api_url = os.environ['SINGLESTOREDB_MANAGEMENT_BASE_URL']\n",
        "\n",
        "migrate_response = requests.post('{}/v1/sharedtier/virtualWorkspaces/{}/migrate'.format(api_url, workspace_id), headers={'Authorization': 'Bearer {}'.format(connection_password)}, json={\n",
        "  \"destinationWorkspace\": {\n",
        "    \"name\": workspace_name_text_box.value,\n",
        "    \"regionID\": region_dropdown.value,\n",
        "    \"size\": size_text_box.value,\n",
        "    \"workspaceGroupName\": workspace_group_name_text_box.value\n",
        "  }\n",
        "})\n",
        "\n",
        "if migrate_response.status_code == 200:\n",
        "    display(widgets.HTML(f\"<div class='alert alert-block alert-success'><b class='fa fa-solid fa-check-circle'></b><div><p><b>Migration Started</b></p><p>See next cell for progress</p></div></div>\"))\n",
        "else:\n",
        "    display(widgets.HTML(f\"<div class='alert alert-block alert-danger'><b class='fa fa-solid fa-exclamation-triangle'></b><div><p><b>Failed to Start Migration</b></p><p>{migrate_response.status_code} - {migrate_response.text}</p></div></div>\"))"
      ]
    },
    {
      "attachments": {},
      "cell_type": "markdown",
      "id": "fb825bce",
      "metadata": {},
      "source": [
        "## Check the progress of the migration:\n",
        "Running the next cell will give you progress on the migration"
      ]
    },
    {
      "cell_type": "code",
      "execution_count": 6,
      "id": "9885c925",
      "metadata": {},
      "outputs": [],
      "source": [
        "import requests, os, time\n",
        "from ipywidgets import widgets\n",
        "\n",
        "workspace_id = os.environ['SINGLESTOREDB_VIRTUAL_WORKSPACE']\n",
        "organization_id = os.environ['SINGLESTOREDB_ORGANIZATION']\n",
        "api_url = os.environ['SINGLESTOREDB_MANAGEMENT_BASE_URL']\n",
        "\n",
        "status_response = requests.get('{}/v1/sharedtier/virtualWorkspaces/{}/migrate'.format(api_url, workspace_id), headers={'Authorization': 'Bearer {}'.format(connection_password)})\n",
        "\n",
        "while status_response.json()[\"migrationStatus\"] not in [\"Completed\", \"Failed\"]:\n",
        "    display(widgets.IntProgress(\n",
        "        value=[\"Failed\", \"WaitingForWorkspaceGroup\", \"MigratingData\", \"Completed\"].index(status_response.json()[\"migrationStatus\"]),\n",
        "        min=0,\n",
        "        max=3,\n",
        "        description='Loading:',\n",
        "        orientation='horizontal'\n",
        "    ))\n",
        "    time.sleep(15)\n",
        "    status_response = requests.get('{}/v1/sharedtier/virtualWorkspaces/{}/migrate'.format(api_url, workspace_id), headers={'Authorization': 'Bearer {}'.format(connection_password)})\n",
        "\n",
        "\n",
        "if status_response.json()[\"migrationStatus\"] == \"Completed\":\n",
        "    display(widgets.HTML('<div id=\"singlestore-header\" style=\"display: flex; background-color: rgba(235, 249, 245, 0.25); padding: 5px;\"><p>The migration has completed succesfully! You can now visit your new workpace in the deployments page.</p></div></div>'))\n",
        "else:\n",
        "    display(widgets.HTML(\"<div class='alert alert-block alert-danger'><b class='fa fa-solid fa-exclamation-triangle'></b><div><p><b>Failed to Complete Migrate</b></p><p>The migration process failed, please contact support</p></div></div>\"))"
      ]
    },
    {
      "cell_type": "markdown",
      "id": "452d739f",
      "metadata": {},
      "source": [
        "<div class=\"alert alert-block alert-warning\">\n",
        "    <b class=\"fa fa-solid fa-exclamation-circle\"></b>\n",
        "    <div>\n",
        "        <p><b>Warning</b></p>\n",
        "        <p>The next Step is moving the Scheduled Jobs from your shared deployement to the dedicated one.</p>\n",
        "        <p>Before starting it, we advise that You visit the new deployment and checking its settings and data.</p>\n",
        "        <p>While your migrated data is still available on your shared deployment, after the migration, the scheduled jobs will not be, please account for this when migrating.\n",
        "    </div>\n",
        "</div>"
      ]
    },
    {
      "cell_type": "markdown",
      "id": "6ba74eb1",
      "metadata": {},
      "source": [
        "## Begin the scheduled jobs migration process\n",
        "Runing the next cell will start the scheduled jobs migration process"
      ]
    },
    {
      "cell_type": "code",
      "execution_count": 7,
      "id": "d629a5aa",
      "metadata": {},
      "outputs": [],
      "source": [
        "import requests, os\n",
        "from ipywidgets import widgets\n",
        "\n",
        "workspace_id = os.environ['SINGLESTOREDB_VIRTUAL_WORKSPACE']\n",
        "api_url = os.environ['SINGLESTOREDB_MANAGEMENT_BASE_URL']\n",
        "\n",
        "migrate_response = requests.post('{}/v1/sharedtier/virtualWorkspaces/{}/migrateJobs'.format(api_url,workspace_id), headers={'Authorization': 'Bearer {}'.format(connection_password)})\n",
        "\n",
        "if migrate_response.status_code == 200:\n",
        "    display(widgets.HTML(f\"<div class='alert alert-block alert-success'><b class='fa fa-solid fa-check-circle'></b><div><p><b>Scheduled Jobs Migration Started</b></p><p>See next cell for progress</p></div></div>\"))\n",
        "else:\n",
        "    display(widgets.HTML(f\"<div class='alert alert-block alert-danger'><b class='fa fa-solid fa-exclamation-triangle'></b><div><p><b>Failed to Start Scheduled Jobs Migration</b></p><p>{migrate_response.status_code} - {migrate_response.text}</p></div></div>\"))"
      ]
    },
    {
      "cell_type": "markdown",
      "id": "3c45a572",
      "metadata": {},
      "source": [
        "## Check the progress of the cheduled jobs migration:\n",
        "Running the next cell will give you progress on the cheduled jobs migration"
      ]
    },
    {
      "cell_type": "code",
      "execution_count": 8,
      "id": "02fcbfac",
      "metadata": {},
      "outputs": [],
      "source": [
        "import requests, os, time\n",
        "from ipywidgets import widgets\n",
        "\n",
        "workspace_id = os.environ['SINGLESTOREDB_VIRTUAL_WORKSPACE']\n",
        "organization_id = os.environ['SINGLESTOREDB_ORGANIZATION']\n",
        "api_url = os.environ['SINGLESTOREDB_MANAGEMENT_BASE_URL']\n",
        "\n",
        "status_response = requests.get('{}/v1/sharedtier/virtualWorkspaces/{}/migrateJobs'.format(api_url, workspace_id), headers={'Authorization': 'Bearer {}'.format(connection_password)})\n",
        "\n",
        "while status_response.json()[\"migrationStatus\"] not in [\"Completed\", \"Failed\"]:\n",
        "    display(widgets.IntProgress(\n",
        "        value=[\"Failed\", \"MigratingData\", \"Completed\"].index(status_response.json()[\"migrationStatus\"]),\n",
        "        min=0,\n",
        "        max=1,\n",
        "        description='Loading:',\n",
        "        orientation='horizontal'\n",
        "    ))\n",
        "    time.sleep(15)\n",
        "    status_response = requests.get('{}/v1/sharedtier/virtualWorkspaces/{}/migrateJobs'.format(api_url, workspace_id), headers={'Authorization': 'Bearer {}'.format(connection_password)})\n",
        "\n",
        "\n",
        "if status_response.json()[\"migrationStatus\"] == \"Completed\":\n",
        "    display(widgets.HTML('<div id=\"singlestore-header\" style=\"display: flex; background-color: rgba(235, 249, 245, 0.25); padding: 5px;\"><p>The migration has completed succesfully! You can check the status of your scheduled jobs in the jobs page.</p></div></div>'))\n",
        "else:\n",
        "    display(widgets.HTML(\"<div class='alert alert-block alert-danger'><b class='fa fa-solid fa-exclamation-triangle'></b><div><p><b>Failed to Complete Scheduled Jobs Migration</b></p><p>The migration process failed, please contact support</p></div></div>\"))"
      ]
    },
    {
      "id": "33019b76",
      "cell_type": "markdown",
      "metadata": {},
      "source": [
        "<div id=\"singlestore-footer\" style=\"background-color: rgba(194, 193, 199, 0.25); height:2px; margin-bottom:10px\"></div>\n",
        "<div><img src=\"https://raw.githubusercontent.com/singlestore-labs/spaces-notebooks/master/common/images/singlestore-logo-grey.png\" style=\"padding: 0px; margin: 0px; height: 24px\"/></div>"
      ]
    }
  ],
  "metadata": {
    "kernelspec": {
      "display_name": ".venv",
      "language": "python",
      "name": "python3"
    },
    "language_info": {
      "codemirror_mode": {
        "name": "ipython",
        "version": 3
      },
      "file_extension": ".py",
      "mimetype": "text/x-python",
      "name": "python",
      "nbconvert_exporter": "python",
      "pygments_lexer": "ipython3",
      "version": "3.12.3"
    }
  },
  "nbformat": 4,
  "nbformat_minor": 5
}
