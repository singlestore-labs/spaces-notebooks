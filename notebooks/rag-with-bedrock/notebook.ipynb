{
  "cells": [
    {
      "id": "a905c745",
      "cell_type": "markdown",
      "metadata": {},
      "source": [
        "<div id=\"singlestore-header\" style=\"display: flex; background-color: rgba(255, 167, 103, 0.25); padding: 5px;\">\n",
        "    <div id=\"icon-image\" style=\"width: 90px; height: 90px;\">\n",
        "        <img width=\"100%\" height=\"100%\" src=\"https://raw.githubusercontent.com/singlestore-labs/spaces-notebooks/master/common/images/header-icons/crystal-ball.png\" />\n",
        "    </div>\n",
        "    <div id=\"text\" style=\"padding: 5px; margin-left: 10px;\">\n",
        "        <div id=\"badge\" style=\"display: inline-block; background-color: rgba(0, 0, 0, 0.15); border-radius: 4px; padding: 4px 8px; align-items: center; margin-top: 6px; margin-bottom: -2px; font-size: 80%\">SingleStore Notebooks</div>\n",
        "        <h1 style=\"font-weight: 500; margin: 8px 0 0 4px;\">Retrieval Augmented Question &amp; Answering with Amazon Bedrock</h1>\n",
        "    </div>\n",
        "</div>"
      ]
    },
    {
      "id": "93cf31c0",
      "cell_type": "markdown",
      "metadata": {},
      "source": [
        "<div class=\"alert alert-block alert-warning\">\n",
        "    <b class=\"fa fa-solid fa-exclamation-circle\"></b>\n",
        "    <div>\n",
        "        <p><b>Note</b></p>\n",
        "        <p>This notebook can be run on a Free Starter Workspace. To create a Free Starter Workspace navigate to <tt>Start</tt> using the left nav. You can also use your existing Standard or Premium workspace with this Notebook.</p>\n",
        "    </div>\n",
        "</div>"
      ]
    },
    {
      "attachments": {},
      "cell_type": "markdown",
      "metadata": {},
      "source": [
        "### Challenges\n",
        "\n",
        "When trying to solve a Question Answering task over a larger document corpus with the help of LLMs we need to master the following challenges (amongst others):\n",
        "- How to manage large document(s) that exceed the token limit\n",
        "- How to find the document(s) relevant to the question being asked\n",
        "\n",
        "### Infusing knowledge into LLM-powered systems\n",
        "\n",
        "We have two primary types of knowledge for LLMs:\n",
        "- **Parametric knowledge**: refers to everything the LLM learned during training and acts as a frozen snapshot of the world for the LLM.\n",
        "- **Source knowledge**: covers any information fed into the LLM via the input prompt.\n",
        "\n",
        "When trying to infuse knowledge into a generative AI - powered application we need to choose which of these types to target. Fine-tuning, explored in other workshops, deals with elevating the parametric knowledge through fine-tuning. Since fine-tuning is a resouce intensive operation, this option is well suited for infusing static domain-specific information like domain-specific langauage/writing styles (medical domain, science domain, ...) or optimizing performance towards a very specific task (classification, sentiment analysis, RLHF, instruction-finetuning, ...).\n",
        "\n",
        "In contrast to that, targeting the source knowledge for domain-specific performance uplift is very well suited for all kinds of dynamic information, from knowledge bases in structured and unstructured form up to integration of information from live systems. This Lab is about retrieval-augmented generation, a common design pattern for ingesting domain-specific information through the source knowledge. It is particularily well suited for ingestion of information in form of unstructured text with semi-frequent update cycles.\n",
        "\n",
        "In this notebook we explain how to utilize the RAG (retrieval-agumented generation) pattern originating from [this](https://arxiv.org/pdf/2005.11401.pdf) paper published by Lewis et al in 2021. It is particularily useful for Question Answering by finding and leveraging the most useful excerpts of documents out of a larger document corpus providing answers to the user questions.\n",
        "\n",
        "#### Prepare documents\n",
        "![Embeddings](https://raw.githubusercontent.com/saurshan/spaces-notebooks/master/notebooks/rag-with-bedrock/assets/RAG_pipeline_S2_Bedrock.png)\n",
        "\n",
        "Before being able to answer the questions, the documents must be processed and a stored in a document store index\n",
        "- Load the documents\n",
        "- Process and split them into smaller chunks\n",
        "- Create a numerical vector representation of each chunk using Amazon Bedrock Titan Embeddings model\n",
        "- Create an index using the chunks and the corresponding embeddings\n",
        "#### Ask question\n",
        "![Question](https://raw.githubusercontent.com/saurshan/spaces-notebooks/master/notebooks/rag-with-bedrock/assets/RAG_runtime_S2_Bedrock.png)\n",
        "\n",
        "When the documents index is prepared, you are ready to ask the questions and relevant documents will be fetched based on the question being asked. Following steps will be executed.\n",
        "- Create an embedding of the input question\n",
        "- Compare the question embedding with the embeddings in the index\n",
        "- Fetch the (top N) relevant document chunks\n",
        "- Add those chunks as part of the context in the prompt\n",
        "- Send the prompt to the model under Amazon Bedrock\n",
        "- Get the contextual answer based on the documents retrieved"
      ],
      "id": "4fef4efb"
    },
    {
      "attachments": {},
      "cell_type": "markdown",
      "metadata": {},
      "source": [
        "## Usecase\n",
        "#### Dataset\n",
        "In this example, you will use several years of Amazon's Letter to Shareholders as a text corpus to perform Q&A on."
      ],
      "id": "e129f74b"
    },
    {
      "attachments": {},
      "cell_type": "markdown",
      "metadata": {},
      "source": [
        "## Implementation\n",
        "In order to follow the RAG approach this notebook is using the LangChain framework where it has integrations with different services and tools that allow efficient building of patterns such as RAG. We will be using the following tools:\n",
        "\n",
        "- **LLM (Large Language Model)**: Anthropic Claude available through Amazon Bedrock\n",
        "\n",
        "  This model will be used to understand the document chunks and provide an answer in human friendly manner.\n",
        "- **Embeddings Model**: Amazon Titan Embeddings available through Amazon Bedrock\n",
        "\n",
        "  This model will be used to generate a numerical representation of the textual documents\n",
        "\n",
        "- **Document Loader**:\n",
        "    - PDF Loader available through LangChain for PDFs\n",
        "\n",
        "  These are loaders that can load the documents from a source, for the sake of this notebook we are loading the sample files from a local path. This could easily be replaced with a loader to load documents from enterprise internal systems.\n",
        "\n",
        "- **Vector Store**: SingleStoreDB available through LangChain\n",
        "  In this notebook we are using SingleStoreDB to store both the embeddings and the documents.\n",
        "\n",
        "Then begin with instantiating the LLM and the Embeddings model. Here we are using Anthropic Claude to demonstrate the use case.\n",
        "\n",
        "Note: It is possible to choose other models available with Bedrock. You can replace the `model_id` as follows to change the model.\n",
        "\n",
        "`llm = Bedrock(model_id=\"...\")`"
      ],
      "id": "e74e67af"
    },
    {
      "cell_type": "code",
      "execution_count": 1,
      "metadata": {},
      "outputs": [],
      "source": [
        "!pip install boto3==1.34.74 langchain==0.1.14 pypdf==4.1.0 tiktoken==0.6.0 SQLAlchemy==2.0.29 --quiet"
      ],
      "id": "506362db"
    },
    {
      "cell_type": "code",
      "execution_count": 2,
      "metadata": {},
      "outputs": [],
      "source": [
        "import getpass\n",
        "\n",
        "os.environ['AWS_DEFAULT_REGION']='us-east-1'\n",
        "os.environ['AWS_ACCESS_KEY_ID']= getpass.getpass(\"AWS_ACCESS_KEY_ID: \")\n",
        "os.environ['AWS_SECRET_ACCESS_KEY']=getpass.getpass(\"AWS_SECRET_ACCESS_KEY: \")"
      ],
      "id": "f72f65ba"
    },
    {
      "cell_type": "code",
      "execution_count": 3,
      "metadata": {},
      "outputs": [],
      "source": [
        "import boto3\n",
        "import json\n",
        "import sys"
      ],
      "id": "a2aeedff"
    },
    {
      "cell_type": "code",
      "execution_count": 4,
      "metadata": {},
      "outputs": [],
      "source": [
        "from io import StringIO\n",
        "import sys\n",
        "import textwrap\n",
        "\n",
        "\n",
        "def print_ww(*args, width: int = 140, **kwargs):\n",
        "    \"\"\"Like print(), but wraps output to `width` characters (default 140)\"\"\"\n",
        "    buffer = StringIO()\n",
        "    try:\n",
        "        _stdout = sys.stdout\n",
        "        sys.stdout = buffer\n",
        "        print(*args, **kwargs)\n",
        "        output = buffer.getvalue()\n",
        "    finally:\n",
        "        sys.stdout = _stdout\n",
        "    for line in output.splitlines():\n",
        "        print(\"\\n\".join(textwrap.wrap(line, width=width)))"
      ],
      "id": "80bd6f48"
    },
    {
      "cell_type": "code",
      "execution_count": 5,
      "metadata": {},
      "outputs": [],
      "source": [
        "session = boto3.session.Session()\n",
        "bedrock_client = session.client('bedrock')"
      ],
      "id": "2a5b203f"
    },
    {
      "attachments": {},
      "cell_type": "markdown",
      "metadata": {},
      "source": [
        "### Setup langchain\n",
        "\n",
        "We create an instance of the Bedrock classes for the LLM and the embedding models. At the time of writing, Bedrock supports one embedding model and therefore we do not need to specify any model id. To be able to compare token consumption across the different RAG-approaches shown in the workshop labs we use langchain callbacks to count token consumption."
      ],
      "id": "417ea88b"
    },
    {
      "cell_type": "code",
      "execution_count": 6,
      "metadata": {},
      "outputs": [],
      "source": [
        "bedrock_runtime_client = session.client('bedrock-runtime')\n",
        "# We will be using the Titan Embeddings Model to generate our Embeddings.\n",
        "from langchain.embeddings import BedrockEmbeddings\n",
        "from langchain.llms.bedrock import Bedrock\n",
        "from langchain.callbacks.streaming_stdout import StreamingStdOutCallbackHandler\n",
        "\n",
        "# - create the Anthropic Model\n",
        "llm = Bedrock(model_id=\"anthropic.claude-v2\",\n",
        "              client=bedrock_runtime_client,\n",
        "              model_kwargs={\n",
        "                  'max_tokens_to_sample': 200\n",
        "              },\n",
        "              callbacks=[StreamingStdOutCallbackHandler()])\n",
        "\n",
        "# - create the Titan Embeddings Model\n",
        "bedrock_embeddings = BedrockEmbeddings(model_id=\"amazon.titan-embed-text-v1\",\n",
        "                                       client=bedrock_runtime_client)"
      ],
      "id": "7d4dd00c"
    },
    {
      "attachments": {},
      "cell_type": "markdown",
      "metadata": {},
      "source": [
        "### Data Preparation\n",
        "Let's first download some of the files to build our document store.\n",
        "\n",
        "In this example, you will use several years of Amazon's Letter to Shareholders as a text corpus to perform Q&A on."
      ],
      "id": "932646b5"
    },
    {
      "cell_type": "markdown",
      "metadata": {},
      "source": [
        "<div class=\"alert alert-block alert-warning\">\n",
        "    <b class=\"fa fa-solid fa-exclamation-circle\"></b>\n",
        "    <div>\n",
        "        <p><b>Note</b></p>\n",
        "        <p> To get the external files, please add <tt>s2.q4cdn.com</tt> to the notebook Firewall. </p>\n",
        "    </div>\n",
        "</div>"
      ],
      "id": "780af600"
    },
    {
      "cell_type": "code",
      "execution_count": 7,
      "metadata": {},
      "outputs": [],
      "source": [
        "!mkdir -p ./RAG_Bedrock_data\n",
        "\n",
        "from urllib.request import urlretrieve\n",
        "urls = [\n",
        "    'https://s2.q4cdn.com/299287126/files/doc_financials/2023/ar/2022-Shareholder-Letter.pdf',\n",
        "    'https://s2.q4cdn.com/299287126/files/doc_financials/2022/ar/2021-Shareholder-Letter.pdf',\n",
        "    'https://s2.q4cdn.com/299287126/files/doc_financials/2021/ar/Amazon-2020-Shareholder-Letter-and-1997-Shareholder-Letter.pdf',\n",
        "    'https://s2.q4cdn.com/299287126/files/doc_financials/2020/ar/2019-Shareholder-Letter.pdf'\n",
        "]\n",
        "\n",
        "filenames = [\n",
        "    'AMZN-2022-Shareholder-Letter.pdf',\n",
        "    'AMZN-2021-Shareholder-Letter.pdf',\n",
        "    'AMZN-2020-Shareholder-Letter.pdf',\n",
        "    'AMZN-2019-Shareholder-Letter.pdf'\n",
        "]\n",
        "\n",
        "metadata = [\n",
        "    dict(year=2022, source=filenames[0]),\n",
        "    dict(year=2021, source=filenames[1]),\n",
        "    dict(year=2020, source=filenames[2]),\n",
        "    dict(year=2019, source=filenames[3])]\n",
        "\n",
        "data_root = \"./RAG_Bedrock_data/\"\n",
        "\n",
        "for idx, url in enumerate(urls):\n",
        "    file_path = data_root + filenames[idx]\n",
        "    urlretrieve(url, file_path)"
      ],
      "id": "7a6eac28"
    },
    {
      "attachments": {},
      "cell_type": "markdown",
      "metadata": {},
      "source": [
        "As part of Amazon's culture, the CEO always includes a copy of the 1997 Letter to Shareholders with every new release. This will cause repetition, take longer to generate embeddings, and may skew your results. In the next section you will take the downloaded data, trim the 1997 letter (last 3 pages) and overwrite them as processed files."
      ],
      "id": "ea77a711"
    },
    {
      "cell_type": "code",
      "execution_count": 8,
      "metadata": {},
      "outputs": [],
      "source": [
        "from pypdf import PdfReader, PdfWriter\n",
        "import glob\n",
        "\n",
        "local_pdfs = glob.glob(data_root + '*.pdf')\n",
        "\n",
        "for local_pdf in local_pdfs:\n",
        "    pdf_reader = PdfReader(local_pdf)\n",
        "    pdf_writer = PdfWriter()\n",
        "    for pagenum in range(len(pdf_reader.pages)-3):\n",
        "        page = pdf_reader.pages[pagenum]\n",
        "        pdf_writer.add_page(page)\n",
        "\n",
        "    with open(local_pdf, 'wb') as new_file:\n",
        "        new_file.seek(0)\n",
        "        pdf_writer.write(new_file)\n",
        "        new_file.truncate()"
      ],
      "id": "2188b052"
    },
    {
      "attachments": {},
      "cell_type": "markdown",
      "metadata": {},
      "source": [
        "After downloading we can load the documents with the help of [DirectoryLoader from PyPDF available under LangChain](https://python.langchain.com/en/latest/reference/modules/document_loaders.html) and splitting them into smaller chunks.\n",
        "\n",
        "Note: The retrieved document/text should be large enough to contain enough information to answer a question; but small enough to fit into the LLM prompt. Also the embeddings model has a limit of the length of input tokens limited to 512 tokens, which roughly translates to ~2000 characters. For the sake of this use-case we are creating chunks of roughly 1000 characters with an overlap of 100 characters using [RecursiveCharacterTextSplitter](https://python.langchain.com/en/latest/modules/indexes/text_splitters/examples/recursive_text_splitter.html)."
      ],
      "id": "8af3a057"
    },
    {
      "cell_type": "code",
      "execution_count": 9,
      "metadata": {},
      "outputs": [],
      "source": [
        "import numpy as np\n",
        "from langchain.text_splitter import RecursiveCharacterTextSplitter\n",
        "from langchain.document_loaders import PyPDFLoader\n",
        "\n",
        "documents = []\n",
        "\n",
        "for idx, file in enumerate(filenames):\n",
        "    loader = PyPDFLoader(data_root + file)\n",
        "    document = loader.load()\n",
        "    for document_fragment in document:\n",
        "        document_fragment.metadata = metadata[idx]\n",
        "\n",
        "    #print(f'{len(document)} {document}\\n')\n",
        "    documents += document\n",
        "\n",
        "# - in our testing Character split works better with this PDF data set\n",
        "text_splitter = RecursiveCharacterTextSplitter(\n",
        "    # Set a really small chunk size, just to show.\n",
        "    chunk_size = 1000,\n",
        "    chunk_overlap  = 100,\n",
        ")\n",
        "\n",
        "docs = text_splitter.split_documents(documents)"
      ],
      "id": "633e3121"
    },
    {
      "attachments": {},
      "cell_type": "markdown",
      "metadata": {},
      "source": [
        "Before we are proceeding we are looking into some interesting statistics regarding the document preprocessing we just performed:"
      ],
      "id": "802cb756"
    },
    {
      "cell_type": "code",
      "execution_count": 10,
      "metadata": {},
      "outputs": [],
      "source": [
        "avg_doc_length = lambda documents: sum([len(doc.page_content) for doc in documents])//len(documents)\n",
        "print(f'Average length among {len(documents)} documents loaded is {avg_doc_length(documents)} characters.')\n",
        "print(f'After the split we have {len(docs)} documents as opposed to the original {len(documents)}.')\n",
        "print(f'Average length among {len(docs)} documents (after split) is {avg_doc_length(docs)} characters.')"
      ],
      "id": "a0c3b9eb"
    },
    {
      "attachments": {},
      "cell_type": "markdown",
      "metadata": {},
      "source": [
        "We had 4 PDF documents which have been split into smaller chunks.\n",
        "\n",
        "Now we can see how a sample embedding would look like for one of those chunks."
      ],
      "id": "13839639"
    },
    {
      "cell_type": "code",
      "execution_count": 11,
      "metadata": {},
      "outputs": [],
      "source": [
        "sample_embedding = np.array(bedrock_embeddings.embed_query(docs[0].page_content))\n",
        "print(\"Sample embedding of a document chunk: \", sample_embedding)\n",
        "print(\"Size of the embedding: \", sample_embedding.shape)"
      ],
      "id": "b564f5e5"
    },
    {
      "attachments": {},
      "cell_type": "markdown",
      "metadata": {},
      "source": [
        "Following the very same approach embeddings can be generated for the entire corpus and stored in a vector store.\n",
        "\n",
        "This can be easily done using SingleStoreDB implementation inside [LangChain](https://python.langchain.com/docs/integrations/vectorstores/singlestoredb) which takes  input the embeddings model and the documents to create the entire vector store.\n",
        "\n",
        "**\u26a0\ufe0f\u26a0\ufe0f\u26a0\ufe0f NOTE: it might take few minutes to run the following cell \u26a0\ufe0f\u26a0\ufe0f\u26a0\ufe0f**"
      ],
      "id": "debae495"
    },
    {
      "cell_type": "code",
      "execution_count": 12,
      "metadata": {},
      "outputs": [],
      "source": [
        "from langchain.vectorstores import SingleStoreDB\n",
        "\n",
        "db = SingleStoreDB.from_documents(\n",
        "    docs,\n",
        "    bedrock_embeddings,\n",
        "    table_name = \"amazon_data\"\n",
        ")"
      ],
      "id": "9d355119"
    },
    {
      "attachments": {},
      "cell_type": "markdown",
      "metadata": {},
      "source": [
        "### Similarity Search\n",
        "\n",
        "Here you will set your search query, and look for documents that match."
      ],
      "id": "51c83c1a"
    },
    {
      "cell_type": "code",
      "execution_count": 13,
      "metadata": {},
      "outputs": [],
      "source": [
        "query = \"How has AWS evolved?\""
      ],
      "id": "54dff431"
    },
    {
      "attachments": {},
      "cell_type": "markdown",
      "metadata": {},
      "source": [
        "The first step would be to create an embedding of the query such that it could be compared with the documents"
      ],
      "id": "37ab29b7"
    },
    {
      "cell_type": "code",
      "execution_count": 14,
      "metadata": {},
      "outputs": [],
      "source": [
        "query_embedding = bedrock_embeddings.embed_query(\"This is a content of the document\")\n",
        "np.array(query_embedding)"
      ],
      "id": "826e4c8e"
    },
    {
      "attachments": {},
      "cell_type": "markdown",
      "metadata": {},
      "source": [
        "#### Basic Similarity Search\n",
        "\n",
        "The results that come back from the `similarity_search_with_score` API are sorted by score from highest to lowest. The score value is represented by Dot product. Higher scores are better, for normalized vector embeddings this would approch 1."
      ],
      "id": "79555029"
    },
    {
      "cell_type": "code",
      "execution_count": 15,
      "metadata": {},
      "outputs": [],
      "source": [
        "results_with_scores = db.similarity_search_with_score(query)\n",
        "for doc, score in results_with_scores:\n",
        "    print(f\"Content: {doc.page_content}\\nMetadata: {doc.metadata}\\nScore: {score}\\n\\n\")"
      ],
      "id": "f7b44474"
    },
    {
      "attachments": {},
      "cell_type": "markdown",
      "metadata": {},
      "source": [
        "#### Similarity Search with Metadata Filtering\n",
        "Additionally, you can provide metadata to your query to filter the scope of your results. The `filter` parameter for search queries is a dictionary of metadata key/value pairs that will be matched to results to include/exclude them from your query."
      ],
      "id": "c27154e0"
    },
    {
      "cell_type": "code",
      "execution_count": 16,
      "metadata": {},
      "outputs": [],
      "source": [
        "filter = dict(year=2022)"
      ],
      "id": "48a2ec88"
    },
    {
      "attachments": {},
      "cell_type": "markdown",
      "metadata": {},
      "source": [
        "In the next section, you will notice that your query has returned less results than the basic search, because of your filter criteria on the resultset."
      ],
      "id": "31536458"
    },
    {
      "cell_type": "code",
      "execution_count": 17,
      "metadata": {},
      "outputs": [],
      "source": [
        "results_with_scores = db.similarity_search_with_score(query, filter=filter)\n",
        "for doc, score in results_with_scores:\n",
        "    print(f\"Content: {doc.page_content}\\nMetadata: {doc.metadata}, Score: {score}\\n\\n\")"
      ],
      "id": "6267089a"
    },
    {
      "attachments": {},
      "cell_type": "markdown",
      "metadata": {},
      "source": [
        "## Top-K Matching\n",
        "Top-K Matching is a filtering technique that involves a 2 stage approach.\n",
        "\n",
        "1. Perform a similarity search, returning the top K matches.\n",
        "2. Apply your metadata filter on the smaller resultset.\n",
        "\n",
        "Note: A caveat for Top-K matching is that if the value for K is too small, there is a chance that after filtering there will be no results to return.\n",
        "\n",
        "Using Top-K matching requires 2 values:\n",
        "\n",
        "* `k`, the max number of results to return at the end of our query\n",
        "* `fetch_k`, the max number of results to return from the similarity search before applying filters"
      ],
      "id": "f4b50eb1"
    },
    {
      "cell_type": "code",
      "execution_count": 18,
      "metadata": {},
      "outputs": [],
      "source": [
        "results = db.similarity_search(query, filter=filter, k=2, fetch_k=4)\n",
        "for doc in results:\n",
        "    print(f\"Content: {doc.page_content}\\nMetadata: {doc.metadata}\\n\\n\")"
      ],
      "id": "772925b7"
    },
    {
      "attachments": {},
      "cell_type": "markdown",
      "metadata": {},
      "source": [
        "Now we have the relevant documents, it's time to use the LLM to generate an answer based on these documents.\n",
        "\n",
        "We will take our inital prompt, together with our relevant documents which were retreived based on the results of our similarity search. We then by combining these create a prompt that we feed back to the model to get our result. At this point our model should give us highly informed information on how we can change the tire of our specific car as it was outlined in our manual.\n",
        "\n",
        "LangChain provides an abstraction of how this can be done easily."
      ],
      "id": "1053ef24"
    },
    {
      "attachments": {},
      "cell_type": "markdown",
      "metadata": {},
      "source": [
        "### Customisable option\n",
        "In the above scenario you explored the quick and easy way to get a context-aware answer to your question. Now let's have a look at a more customizable option with the help of [RetrievalQA](https://python.langchain.com/en/latest/modules/chains/index_examples/vector_db_qa.html) where you can customize how the documents fetched should be added to prompt using `chain_type` parameter. Also, if you want to control how many relevant documents should be retrieved then change the `k` parameter in the cell below to see different outputs. In many scenarios you might want to know which were the source documents that the LLM used to generate the answer, you can get those documents in the output using `return_source_documents` which returns the documents that are added to the context of the LLM prompt. `RetrievalQA` also allows you to provide a custom [prompt template](https://python.langchain.com/en/latest/modules/prompts/prompt_templates/getting_started.html) which can be specific to the model.\n",
        "\n",
        "Note: In this example we are using Anthropic Claude as the LLM under Amazon Bedrock, this particular model performs best if the inputs are provided under `Human:` and the model is requested to generate an output after `Assistant:`. In the cell below you see an example of how to control the prompt such that the LLM stays grounded and doesn't answer outside the context."
      ],
      "id": "8f0fe150"
    },
    {
      "cell_type": "code",
      "execution_count": 19,
      "metadata": {},
      "outputs": [],
      "source": [
        "from langchain.chains import RetrievalQA\n",
        "from langchain.prompts import PromptTemplate\n",
        "\n",
        "prompt_template = \"\"\"\n",
        "\n",
        "Human: Use the following pieces of context to provide a concise answer to the question at the end. If you don't know the answer, just say that you don't know, don't try to make up an answer.\n",
        "\n",
        "{context}\n",
        "\n",
        "Question: {question}\n",
        "\n",
        "Assistant:\"\"\"\n",
        "PROMPT = PromptTemplate(\n",
        "    template=prompt_template, input_variables=[\"context\", \"question\"]\n",
        ")\n",
        "\n",
        "qa = RetrievalQA.from_chain_type(\n",
        "    llm=llm,\n",
        "    chain_type=\"stuff\",\n",
        "    retriever=db.as_retriever(\n",
        "        search_type=\"similarity\", search_kwargs={\"k\": 3}\n",
        "    ),\n",
        "    return_source_documents=True,\n",
        "    chain_type_kwargs={\"prompt\": PROMPT},\n",
        "    callbacks=[StreamingStdOutCallbackHandler()]\n",
        ")"
      ],
      "id": "d6f1cc9a"
    },
    {
      "cell_type": "code",
      "execution_count": 20,
      "metadata": {},
      "outputs": [],
      "source": [
        "query = \"How did AWS evolve?\"\n",
        "result = qa.invoke({\"query\": query})\n",
        "\n",
        "print(f'Query: {result[\"query\"]}\\n')\n",
        "print_ww(f'Result: {result[\"result\"]}\\n')\n",
        "print(f'\\nContext Documents: ')\n",
        "for srcdoc in result[\"source_documents\"]:\n",
        "      print_ww(f'{srcdoc}\\n')"
      ],
      "id": "866823ac"
    },
    {
      "cell_type": "code",
      "execution_count": 21,
      "metadata": {},
      "outputs": [],
      "source": [
        "query = \"Why is Amazon successful?\"\n",
        "result = qa.invoke({\"query\": query})\n",
        "\n",
        "print(f'Query: {result[\"query\"]}\\n')\n",
        "print_ww(f'Result: {result[\"result\"]}\\n')\n",
        "print(f'\\nContext Documents: ')\n",
        "for srcdoc in result[\"source_documents\"]:\n",
        "      print_ww(f'{srcdoc}\\n')"
      ],
      "id": "b9097468"
    },
    {
      "cell_type": "code",
      "execution_count": 22,
      "metadata": {},
      "outputs": [],
      "source": [
        "query = \"What business challenges has Amazon experienced?\"\n",
        "result = qa.invoke({\"query\": query})\n",
        "\n",
        "print(f'Query: {result[\"query\"]}\\n')\n",
        "print_ww(f'Result: {result[\"result\"]}\\n')\n",
        "print(f'\\nContext Documents: ')\n",
        "for srcdoc in result[\"source_documents\"]:\n",
        "      print_ww(f'{srcdoc}\\n')"
      ],
      "id": "857be677"
    },
    {
      "cell_type": "code",
      "execution_count": 23,
      "metadata": {},
      "outputs": [],
      "source": [
        "query = \"How was Amazon impacted by COVID-19?\"\n",
        "result = qa.invoke({\"query\": query})\n",
        "\n",
        "print(f'Query: {result[\"query\"]}\\n')\n",
        "print_ww(f'Result: {result[\"result\"]}\\n')\n",
        "print(f'\\nContext Documents: ')\n",
        "for srcdoc in result[\"source_documents\"]:\n",
        "      print_ww(f'{srcdoc}\\n')"
      ],
      "id": "dca1da66"
    },
    {
      "attachments": {},
      "cell_type": "markdown",
      "metadata": {},
      "source": [
        "## Clean up\n",
        "Clear the downloaded PDFs and the `amazon_data` table"
      ],
      "id": "eb36b686"
    },
    {
      "cell_type": "code",
      "execution_count": 24,
      "metadata": {},
      "outputs": [],
      "source": [
        "!rm -rf ./RAG_Bedrock_data"
      ],
      "id": "13911724"
    },
    {
      "cell_type": "code",
      "execution_count": 25,
      "metadata": {},
      "outputs": [],
      "source": [
        "%%sql\n",
        "DROP TABLE IF EXISTS amazon_data"
      ],
      "id": "93a0f084"
    },
    {
      "attachments": {},
      "cell_type": "markdown",
      "metadata": {},
      "source": [
        "## Conclusion\n",
        "Retrieval augmented generation is an important technique that combines the power of large language models with the precision of retrieval methods. By augmenting generation with relevant retrieved examples, the responses we recieved become more coherent, consistent and grounded. You should feel proud of learning this innovative approach. I'm sure the knowledge you've gained will be very useful for building creative and engaging language generation systems.\n",
        "\n",
        "In the above implementation of RAG based Question Answering we have explored the following concepts and how to implement them using Amazon Bedrock and it's LangChain integration.\n",
        "\n",
        "- Loading documents of different kind and generating embeddings to create a vector store\n",
        "- Retrieving documents to the question\n",
        "- Preparing a prompt which goes as input to the LLM\n",
        "- Present an answer in a human friendly manner\n",
        "\n",
        "### Take-aways\n",
        "- Leverage various models available under Amazon Bedrock to see alternate outputs\n",
        "- Explore options such as persistent storage of embeddings and document chunks\n",
        "- Integration with enterprise data stores\n",
        "\n",
        "# Thank You"
      ],
      "id": "2cc16899"
    },
    {
      "id": "6cbc0ac7",
      "cell_type": "markdown",
      "metadata": {},
      "source": [
        "<div id=\"singlestore-footer\" style=\"background-color: rgba(194, 193, 199, 0.25); height:2px; margin-bottom:10px\"></div>\n",
        "<div><img src=\"https://raw.githubusercontent.com/singlestore-labs/spaces-notebooks/master/common/images/singlestore-logo-grey.png\" style=\"padding: 0px; margin: 0px; height: 24px\"/></div>"
      ]
    }
  ],
  "metadata": {
    "kernelspec": {
      "display_name": "Python 3 (ipykernel)",
      "language": "python",
      "name": "python3"
    },
    "language_info": {
      "codemirror_mode": {
        "name": "ipython",
        "version": 3
      },
      "file_extension": ".py",
      "mimetype": "text/x-python",
      "name": "python",
      "nbconvert_exporter": "python",
      "pygments_lexer": "ipython3",
      "version": "3.11.6"
    }
  },
  "nbformat": 4,
  "nbformat_minor": 5
}
