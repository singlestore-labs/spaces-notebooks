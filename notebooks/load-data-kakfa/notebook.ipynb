{
  "cells": [
    {
      "cell_type": "markdown",
      "id": "14762a67-4baa-493e-a182-89de7fcbbaf2",
      "metadata": {},
      "source": [
        "<div id=\"singlestore-header\" style=\"display: flex; background-color: rgba(235, 249, 245, 0.25); padding: 5px;\">\n",
        "    <div id=\"icon-image\" style=\"width: 90px; height: 90px;\">\n",
        "        <img width=\"100%\" height=\"100%\" src=\"https://raw.githubusercontent.com/singlestore-labs/spaces-notebooks/master/common/images/header-icons/database.png\" />\n",
        "    </div>\n",
        "    <div id=\"text\" style=\"padding: 5px; margin-left: 10px;\">\n",
        "        <div id=\"badge\" style=\"display: inline-block; background-color: rgba(0, 0, 0, 0.15); border-radius: 4px; padding: 4px 8px; align-items: center; margin-top: 6px; margin-bottom: -2px; font-size: 80%\">SingleStore Notebooks</div>\n",
        "        <h1 style=\"font-weight: 500; margin: 8px 0 0 4px;\">Real-Time Event Monitoring Dataset From Kafka</h1>\n",
        "    </div>\n",
        "</div>"
      ]
    },
    {
      "cell_type": "markdown",
      "id": "25c2b147-47cb-4755-8b8f-95c93cc9e35d",
      "metadata": {},
      "source": [
        "<div class=\"alert alert-block alert-warning\">\n",
        "    <b class=\"fa fa-solid fa-exclamation-circle\"></b>\n",
        "    <div>\n",
        "        <p><b>Note</b></p>\n",
        "        <p>This notebook can be run on a Free Starter Workspace. To create a Free Starter Workspace navigate to <tt>Start</tt> using the left nav. You can also use your existing Standard or Premium workspace with this Notebook.</p>\n",
        "    </div>\n",
        "</div>"
      ]
    },
    {
      "attachments": {},
      "cell_type": "markdown",
      "id": "ee90231c-d301-4d3b-a72e-99cf5338f0f5",
      "metadata": {},
      "source": [
        "<h3>Introduction</h3>"
      ]
    },
    {
      "attachments": {},
      "cell_type": "markdown",
      "id": "f6f20e3f-c17a-4a11-b394-3b02b8fb5d31",
      "metadata": {},
      "source": [
        "The Real-Time Event Monitoring use case illustrates how to leverage Singlestore's capabilities to process and analyze streaming data from a Kafka data source. This demo showcases the ability to ingest real-time events, such as application logs or user activities, and perform immediate analysis to gain actionable insights. By working through this example, new users will learn how to set up a Kafka data pipeline, ingest streaming data into Singlestore, and execute real-time queries to monitor event types, user activity patterns, and detect anomalies. This use case highlights the power of Singlestore in providing timely and relevant information for decision-making in dynamic environments."
      ]
    },
    {
      "attachments": {},
      "cell_type": "markdown",
      "id": "2d209d08-ee22-4cdd-81be-51d1f742cb91",
      "metadata": {},
      "source": [
        "<img src=https://singlestoreloaddata.s3.ap-south-1.amazonaws.com/images/LoadDataKafka.png width=\"100%\" hight=\"50%\"/>"
      ]
    },
    {
      "attachments": {},
      "cell_type": "markdown",
      "id": "a7bdf2ca-0ca0-4a67-b860-0df79df38878",
      "metadata": {},
      "source": [
        "## How to use this notebook"
      ]
    },
    {
      "attachments": {},
      "cell_type": "markdown",
      "id": "63d529ea-4f84-4ffe-9c93-691e787b5613",
      "metadata": {},
      "source": [
        "<img src=https://singlestoreloaddata.s3.ap-south-1.amazonaws.com/images/notebookuse.gif width=\"75%\" hight=\"50%\"/>"
      ]
    },
    {
      "attachments": {},
      "cell_type": "markdown",
      "id": "5f963a4f-0eb0-4282-bc2f-f8bf48eef971",
      "metadata": {},
      "source": [
        "## Create a database\n",
        "\n",
        "We need to create a database to work with in the following examples."
      ]
    },
    {
      "cell_type": "code",
      "execution_count": 1,
      "id": "8ccfe96a-05e7-4547-9df9-97e4ed6b3998",
      "metadata": {},
      "outputs": [],
      "source": [
        "shared_tier_check = %sql show variables like 'is_shared_tier'\n",
        "if not shared_tier_check or shared_tier_check[0][1] == 'OFF':\n",
        "    %sql DROP DATABASE IF EXISTS EventAnalysis;\n",
        "    %sql CREATE DATABASE EventAnalysis;"
      ]
    },
    {
      "attachments": {},
      "cell_type": "markdown",
      "id": "a06e69b8-1e19-4ab6-b724-4bd32f235994",
      "metadata": {},
      "source": [
        "<div class=\"alert alert-block alert-warning\">\n",
        "    <b class=\"fa fa-solid fa-exclamation-circle\"></b>\n",
        "    <div>\n",
        "        <p><b>Action Required</b></p>\n",
        "        <p> If you have a Free Starter Workspace deployed already, select the database from drop-down menu at the top of this notebook. It updates the <tt>connection_url</tt> to connect to that database.</p>\n",
        "    </div>\n",
        "</div>"
      ]
    },
    {
      "attachments": {},
      "cell_type": "markdown",
      "id": "8b5ffbab-62f7-4052-a415-c511b5deb7bf",
      "metadata": {},
      "source": [
        "<h3>Create Table</h3>"
      ]
    },
    {
      "cell_type": "code",
      "execution_count": 2,
      "id": "f089b404-5907-4236-a05f-ad0e5bf8157a",
      "metadata": {},
      "outputs": [],
      "source": [
        "%%sql\n",
        "CREATE TABLE `eventsdata` (\n",
        "  `user_id` varchar(120) DEFAULT NULL,\n",
        "  `event_name` varchar(128) CHARACTER SET utf8 COLLATE utf8_general_ci DEFAULT NULL,\n",
        "  `advertiser` varchar(128) CHARACTER SET utf8 COLLATE utf8_general_ci DEFAULT NULL,\n",
        "  `campaign` varchar(110) DEFAULT NULL,\n",
        "  `gender` varchar(128) CHARACTER SET utf8 COLLATE utf8_general_ci DEFAULT NULL,\n",
        "  `income` varchar(128) CHARACTER SET utf8 COLLATE utf8_general_ci DEFAULT NULL,\n",
        "  `page_url` varchar(512) CHARACTER SET utf8 COLLATE utf8_general_ci DEFAULT NULL,\n",
        "  `region` varchar(128) CHARACTER SET utf8 COLLATE utf8_general_ci DEFAULT NULL,\n",
        "  `country` varchar(128) CHARACTER SET utf8 COLLATE utf8_general_ci DEFAULT NULL\n",
        ")"
      ]
    },
    {
      "attachments": {},
      "cell_type": "markdown",
      "id": "057f3cbf-7a49-4954-bd04-f8f42839dfc7",
      "metadata": {},
      "source": [
        "<h3>Load Data using Pipeline</h3>"
      ]
    },
    {
      "cell_type": "code",
      "execution_count": 3,
      "id": "7a7163c9-0ca5-40a9-b503-811376e1af2b",
      "metadata": {},
      "outputs": [],
      "source": [
        "%%sql\n",
        "CREATE PIPELINE `eventsdata`\n",
        "AS LOAD DATA KAFKA 'public-kafka.memcompute.com:9092/ad_events'\n",
        "BATCH_INTERVAL 2500\n",
        "ENABLE OUT_OF_ORDER OPTIMIZATION\n",
        "DISABLE OFFSETS METADATA GC\n",
        "INTO TABLE `eventsdata`\n",
        "FIELDS TERMINATED BY '\\t' ENCLOSED BY '' ESCAPED BY '\\\\'\n",
        "LINES TERMINATED BY '\\n' STARTING BY ''\n",
        "(\n",
        "    `events`.`user_id`,\n",
        "    `events`.`event_name`,\n",
        "    `events`.`advertiser`,\n",
        "    `events`.`campaign`,\n",
        "    `events`.`gender`,\n",
        "    `events`.`income`,\n",
        "    `events`.`page_url`,\n",
        "    `events`.`region`,\n",
        "    `events`.`country`\n",
        ")\n",
        "\n",
        "START PIPELINE `eventsdata`"
      ]
    },
    {
      "cell_type": "code",
      "execution_count": 4,
      "id": "0b75627d-684c-4900-bb3c-1ec539ac3671",
      "metadata": {},
      "outputs": [],
      "source": [
        "%%sql\n",
        "SELECT COUNT(*) FROM `eventsdata`"
      ]
    },
    {
      "attachments": {},
      "cell_type": "markdown",
      "id": "15366453-7483-4e4f-a67f-439b66dfb4f4",
      "metadata": {},
      "source": [
        "<h3>Sample Queries</h3>"
      ]
    },
    {
      "attachments": {},
      "cell_type": "markdown",
      "id": "94c011f2-2662-4c12-b70b-e6601ed7bdca",
      "metadata": {},
      "source": [
        "Events by Region"
      ]
    },
    {
      "cell_type": "code",
      "execution_count": 5,
      "id": "3195c978-7356-45ba-8864-832f75ec90c7",
      "metadata": {},
      "outputs": [],
      "source": [
        "%%sql\n",
        "SELECT events.country\n",
        "AS `events.country`,\n",
        "COUNT(events.country) AS 'events.countofevents'\n",
        "FROM eventsdata AS events\n",
        "GROUP BY 1 ORDER BY 2 DESC LIMIT 5;"
      ]
    },
    {
      "attachments": {},
      "cell_type": "markdown",
      "id": "0a2d68aa-1ea4-49a0-9cbe-04030e754342",
      "metadata": {},
      "source": [
        "Events by Top 5 Advertisers"
      ]
    },
    {
      "cell_type": "code",
      "execution_count": 6,
      "id": "890ce930-ebbe-4415-861a-60820fbf631d",
      "metadata": {},
      "outputs": [],
      "source": [
        "%%sql\n",
        "SELECT\n",
        "    events.advertiser AS `events.advertiser`,\n",
        "    COUNT(*) AS `events.count`\n",
        "FROM eventsdata AS events\n",
        "WHERE\n",
        "    (events.advertiser LIKE '%Subway%' OR events.advertiser LIKE '%McDonalds%' OR events.advertiser LIKE '%Starbucks%' OR events.advertiser LIKE '%Dollar General%' OR events.advertiser LIKE '%YUM! Brands%')\n",
        "GROUP BY 1\n",
        "ORDER BY 2 DESC;"
      ]
    },
    {
      "attachments": {},
      "cell_type": "markdown",
      "id": "094a0e46-fbd9-440b-843d-ba5736e48a51",
      "metadata": {},
      "source": [
        "Ad visitors by gender and income"
      ]
    },
    {
      "cell_type": "code",
      "execution_count": 7,
      "id": "270a21bd-7166-4f01-9ee0-8f77cc263a30",
      "metadata": {},
      "outputs": [],
      "source": [
        "%%sql\n",
        "SELECT * FROM (\n",
        "SELECT *, DENSE_RANK() OVER (ORDER BY z___min_rank) as z___pivot_row_rank, RANK() OVER (PARTITION BY z__pivot_col_rank ORDER BY z___min_rank) as z__pivot_col_ordering, CASE WHEN z___min_rank = z___rank THEN 1 ELSE 0 END AS z__is_highest_ranked_cell FROM (\n",
        "SELECT *, MIN(z___rank) OVER (PARTITION BY `events.income`) as z___min_rank FROM (\n",
        "SELECT *, RANK() OVER (ORDER BY CASE WHEN z__pivot_col_rank=1 THEN (CASE WHEN `events.count` IS NOT NULL THEN 0 ELSE 1 END) ELSE 2 END, CASE WHEN z__pivot_col_rank=1 THEN `events.count` ELSE NULL END DESC, `events.count` DESC, z__pivot_col_rank, `events.income`) AS z___rank FROM (\n",
        "SELECT *, DENSE_RANK() OVER (ORDER BY CASE WHEN `events.gender` IS NULL THEN 1 ELSE 0 END, `events.gender`) AS z__pivot_col_rank FROM (\n",
        "SELECT\n",
        "    events.gender AS `events.gender`,\n",
        "    events.income AS `events.income`,\n",
        "    COUNT(*) AS `events.count`\n",
        "FROM eventsdata AS events\n",
        "WHERE\n",
        "    (events.income <> 'unknown' OR events.income IS NULL)\n",
        "GROUP BY 1,2) ww\n",
        ") bb WHERE z__pivot_col_rank <= 16384\n",
        ") aa\n",
        ") xx\n",
        ") zz\n",
        "WHERE (z__pivot_col_rank <= 50 OR z__is_highest_ranked_cell = 1) AND (z___pivot_row_rank <= 500 OR z__pivot_col_ordering = 1) ORDER BY z___pivot_row_rank;"
      ]
    },
    {
      "attachments": {},
      "cell_type": "markdown",
      "id": "8716cb1f-b1f4-4ec8-9f74-df48cc7b4154",
      "metadata": {},
      "source": [
        "Pipeline will keep pushing data from the kafka topic. Once your data is loaded you can stop the pipeline using below command"
      ]
    },
    {
      "cell_type": "code",
      "execution_count": 8,
      "id": "35573b60-4d2c-4861-9fad-c53312993dd3",
      "metadata": {},
      "outputs": [],
      "source": [
        "%%sql\n",
        "STOP PIPELINE eventsdata"
      ]
    },
    {
      "attachments": {},
      "cell_type": "markdown",
      "id": "30a9b5de-79d0-481c-99cb-7321cbad95d9",
      "metadata": {},
      "source": [
        "## Conclusion\n",
        "\n",
        "<div class=\"alert alert-block alert-warning\">\n",
        "    <b class=\"fa fa-solid fa-exclamation-circle\"></b>\n",
        "    <div>\n",
        "        <p><b>Action Required</b></p>\n",
        "        <p> If you created a new database in your Standard or Premium Workspace, you can drop the database by running the cell below. Note: this will not drop your database for Free Starter Workspaces. To drop a Free Starter Workspace, terminate the Workspace using the UI. </p>\n",
        "    </div>\n",
        "</div>\n",
        "\n",
        "We have shown how to connect to Kafka using `Pipelines` and insert data into SinglestoreDB. These techniques should enable you to\n",
        "integrate your Kafka topics with SingleStoreDB."
      ]
    },
    {
      "attachments": {},
      "cell_type": "markdown",
      "id": "ac2472f8-bca5-419a-82e4-0e39ea328522",
      "metadata": {},
      "source": [
        "Drop the pipeline using below command"
      ]
    },
    {
      "cell_type": "code",
      "execution_count": 9,
      "id": "7486de45-9c10-43c4-9f0d-2b9d68671b22",
      "metadata": {},
      "outputs": [],
      "source": [
        "%%sql\n",
        "DROP PIPELINE eventsdata"
      ]
    },
    {
      "cell_type": "code",
      "execution_count": 10,
      "id": "204475a5-9f22-4ec7-8a61-86e802c52055",
      "metadata": {},
      "outputs": [],
      "source": [
        "shared_tier_check = %sql show variables like 'is_shared_tier'\n",
        "if not shared_tier_check or shared_tier_check[0][1] == 'OFF':\n",
        "    %sql DROP DATABASE IF EXISTS EventAnalysis;"
      ]
    },
    {
      "cell_type": "markdown",
      "id": "330a667f-19e3-4af8-97d7-1d9d28cfe002",
      "metadata": {},
      "source": [
        "<div id=\"singlestore-footer\" style=\"background-color: rgba(194, 193, 199, 0.25); height:2px; margin-bottom:10px\"></div>\n",
        "<div><img src=\"https://raw.githubusercontent.com/singlestore-labs/spaces-notebooks/master/common/images/singlestore-logo-grey.png\" style=\"padding: 0px; margin: 0px; height: 24px\"/></div>"
      ]
    }
  ],
  "metadata": {
    "jupyterlab": {
      "notebooks": {
        "version_major": 6,
        "version_minor": 4
      }
    },
    "kernelspec": {
      "display_name": "Python 3 (ipykernel)",
      "language": "python",
      "name": "python3"
    },
    "language_info": {
      "codemirror_mode": {
        "name": "ipython",
        "version": 3
      },
      "file_extension": ".py",
      "mimetype": "text/x-python",
      "name": "python",
      "nbconvert_exporter": "python",
      "pygments_lexer": "ipython3",
      "version": "3.11.6"
    }
  },
  "nbformat": 4,
  "nbformat_minor": 5
}
