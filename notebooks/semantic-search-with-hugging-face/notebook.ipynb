{
  "cells": [
    {
      "id": "0dcd1169",
      "cell_type": "markdown",
      "metadata": {},
      "source": [
        "<div id=\"singlestore-header\" style=\"display: flex; background-color: rgba(210, 255, 153, 0.25); padding: 5px;\">\n",
        "    <div id=\"icon-image\" style=\"width: 90px; height: 90px;\">\n",
        "        <img width=\"100%\" height=\"100%\" src=\"https://raw.githubusercontent.com/singlestore-labs/spaces-notebooks/master/common/images/header-icons/chart-network.png\" />\n",
        "    </div>\n",
        "    <div id=\"text\" style=\"padding: 5px; margin-left: 10px;\">\n",
        "        <div id=\"badge\" style=\"display: inline-block; background-color: rgba(0, 0, 0, 0.15); border-radius: 4px; padding: 4px 8px; align-items: center; margin-top: 6px; margin-bottom: -2px; font-size: 80%\">SingleStore Notebooks</div>\n",
        "        <h1 style=\"font-weight: 500; margin: 8px 0 0 4px;\">Semantic Search with Hugging Face Models and Datasets</h1>\n",
        "    </div>\n",
        "</div>"
      ]
    },
    {
      "id": "8eaf13ef",
      "cell_type": "markdown",
      "metadata": {},
      "source": [
        "<div class=\"alert alert-block alert-warning\">\n",
        "    <b class=\"fa fa-solid fa-exclamation-circle\"></b>\n",
        "    <div>\n",
        "        <p><b>Note</b></p>\n",
        "        <p>This notebook can be run on a Free Starter Workspace. To create a Free Starter Workspace navigate to <tt>Start</tt> using the left nav. You can also use your existing Standard or Premium workspace with this Notebook.</p>\n",
        "    </div>\n",
        "</div>"
      ]
    },
    {
      "cell_type": "markdown",
      "metadata": {},
      "source": [
        "In this notebook, we will demonstrate an example of conducting semantic search on SingleStoreDB with SQL! Unlike traditional keyword-based search methods, semantic search algorithms take into account the relationships between words and their meanings, enabling them to deliver more accurate and relevant results \u2013 even when search terms are vague or ambiguous.\n",
        "\n",
        "SingleStoreDB\u2019s built-in parallelization and Intel SIMD-based vector processing takes care of the heavy lifting involved in processing vector data. This allows your to run your ML algorithms right in your database extremely efficiently with just 1 line of SQL!\n",
        "\n",
        "In this example, we use Hugging Face to create embeddings for our dataset and run semantic_search using dot_product vector matching function!"
      ],
      "id": "8930a289"
    },
    {
      "cell_type": "markdown",
      "metadata": {},
      "source": [
        "## 1. Create a workspace in your workspace group\n",
        "\n",
        "S-00 is sufficient.\n",
        "\n",
        "<div class=\"alert alert-block alert-warning\">\n",
        "    <b class=\"fa fa-solid fa-exclamation-circle\"></b>\n",
        "    <div>\n",
        "        <p><b>Action Required</b></p>\n",
        "        <p> If you have a Free Starter Workspace deployed already, select the database from drop-down menu at the top of this notebook. It updates the <tt>connection_url</tt> to connect to that database.</p>\n",
        "    </div>\n",
        "</div>\n",
        "\n",
        "## 2. Create a database named `semantic_search`"
      ],
      "id": "377e3866"
    },
    {
      "cell_type": "code",
      "execution_count": 1,
      "metadata": {},
      "outputs": [],
      "source": [
        "shared_tier_check = %sql show variables like 'is_shared_tier'\n",
        "if not shared_tier_check or shared_tier_check[0][1] == 'OFF':\n",
        "    %sql DROP DATABASE IF EXISTS semantic_search;\n",
        "    %sql CREATE DATABASE semantic_search;"
      ],
      "id": "989af2dd"
    },
    {
      "cell_type": "markdown",
      "metadata": {},
      "source": [
        "<div class=\"alert alert-block alert-warning\">\n",
        "    <b class=\"fa fa-solid fa-exclamation-circle\"></b>\n",
        "    <div>\n",
        "        <p><b>Action Required</b></p>\n",
        "        <p>Make sure to select the <tt>semantic_search</tt> database from the drop-down menu at the top of this notebook.\n",
        "        It updates the <tt>connection_url</tt> which is used by the <tt>%%sql</tt> magic command and SQLAlchemy to make connections to the selected database.</p>\n",
        "    </div>\n",
        "</div>"
      ],
      "id": "4f648058"
    },
    {
      "cell_type": "markdown",
      "metadata": {},
      "source": [
        "## 3. Install and import required libraries\n",
        "\n",
        "We will use an embedding model on Hugging Face with Sentence Transfomers library. We will be analysing the sentiment of reviewers of selected movies. This dataset is available on Hugging Face and to use it, we will need the datasets library.\n",
        "\n",
        "The install process may take a couple minutes."
      ],
      "id": "f39d4c0d"
    },
    {
      "cell_type": "code",
      "execution_count": 2,
      "metadata": {},
      "outputs": [],
      "source": [
        "%pip install sentence-transformers==2.2.2 torch==2.1.0 tensorflow==2.15.0 datasets==2.15.0 --quiet\n",
        "\n",
        "import json\n",
        "import ibis\n",
        "import numpy as np\n",
        "import pandas as pd\n",
        "import sqlalchemy as sa\n",
        "import singlestoredb as s2\n",
        "import torch\n",
        "from datasets import load_dataset\n",
        "from transformers import AutoTokenizer\n",
        "from transformers import AutoModel"
      ],
      "id": "7c20b03d"
    },
    {
      "cell_type": "markdown",
      "metadata": {},
      "source": [
        "## 4. Load Sentence Transformer library and create a function called `get_embedding()`\n",
        "\n",
        "To vectorize and embed the reviews that watchers of the movies left, we will be using the `sentence-transformers/paraphrase-multilingual-MiniLM-L12-v2` model. We will create a function called `get_embedding()` that will call this model and return the vectorized version of the sentence."
      ],
      "id": "1304a356"
    },
    {
      "cell_type": "code",
      "execution_count": 3,
      "metadata": {},
      "outputs": [],
      "source": [
        "# Load Sentence Transformers model\n",
        "model_name = \"sentence-transformers/paraphrase-multilingual-MiniLM-L12-v2\"\n",
        "\n",
        "model = AutoModel.from_pretrained(model_name)\n",
        "tokenizer = AutoTokenizer.from_pretrained(model_name)"
      ],
      "id": "c67a6fb3"
    },
    {
      "cell_type": "markdown",
      "metadata": {},
      "source": [
        "Add a function to compute the embedding. The result will be a numpy array of 32-bit floats."
      ],
      "id": "faaa17e1"
    },
    {
      "cell_type": "code",
      "execution_count": 4,
      "metadata": {},
      "outputs": [],
      "source": [
        "def get_embedding(sentence: str) -> np.ndarray[np.float32]:\n",
        "    \"\"\"Retrieve embedding for given sentence.\"\"\"\n",
        "    inputs = tokenizer(sentence, padding=True, truncation=True, return_tensors=\"pt\")\n",
        "    with torch.no_grad():\n",
        "        embedding = model(**inputs).last_hidden_state.mean(dim=1).squeeze().tolist()\n",
        "    return np.array(embedding, dtype='<f4')"
      ],
      "id": "63effe1c"
    },
    {
      "cell_type": "markdown",
      "metadata": {},
      "source": [
        "## 5. Load the dataset on movie reviews from Hugging Face into a `DataFrame`\n",
        "\n",
        "We will be doing some operations and only sampling 100 random reviews from the \"test\" dataset of `imdb-movie-reviews`."
      ],
      "id": "d3092600"
    },
    {
      "cell_type": "code",
      "execution_count": 5,
      "metadata": {},
      "outputs": [],
      "source": [
        "# Load the dataset into a pandas DataFrame\n",
        "dataset = load_dataset(\"ajaykarthick/imdb-movie-reviews\")\n",
        "dataframe = dataset[\"train\"].to_pandas()\n",
        "\n",
        "sample_size = 100  # Adjust the desired sample size\n",
        "random_sample = dataframe.sample(n=sample_size)"
      ],
      "id": "fcfaf2f0"
    },
    {
      "cell_type": "markdown",
      "metadata": {},
      "source": [
        "## 6. Generate embeddings of the reviews left by customers and add them to your `DataFrame`\n",
        "\n",
        "We want to embed the entries in the `review` column and add the embeddings to the data. We will do this with pandas and our `get_embeddings` function. Embeddings are stored as a numpy array."
      ],
      "id": "d302c2b7"
    },
    {
      "cell_type": "code",
      "execution_count": 6,
      "metadata": {},
      "outputs": [],
      "source": [
        "random_sample['review_embeddings'] = random_sample['review'].apply(get_embedding)"
      ],
      "id": "f7286972"
    },
    {
      "cell_type": "markdown",
      "metadata": {},
      "source": [
        "## 7. Insert data into SingleStoreDB\n",
        "\n",
        "You can seamlessly bring this data to your SingleStoreDB table directly from your from `DataFrame`. SingleStore \u2665\ufe0f Python.\n",
        "\n",
        "We will bring this data into a table called `reviews`. Notice how you don't have to write any SQL for this\u00a0\u2013\u00a0we will infer the schema from your `DataFrame` and underneath the hood configure how to bring this `DataFrame` into our database. Since numpy arrays don't map directly to a database type, we give pandas a type hint to create a blob column for the `review_embeddings` column."
      ],
      "id": "d49f2a7c"
    },
    {
      "cell_type": "code",
      "execution_count": 7,
      "metadata": {},
      "outputs": [],
      "source": [
        "random_sample.to_sql('reviews',\n",
        "                     s2.create_engine().connect(),\n",
        "                     if_exists='replace',\n",
        "                     index=False,\n",
        "                     dtype=dict(review_embeddings=sa.LargeBinary))"
      ],
      "id": "333f4afa"
    },
    {
      "cell_type": "code",
      "execution_count": 8,
      "metadata": {},
      "outputs": [],
      "source": [
        "# Create a database connection and display the `CREATE TABLE` statement\n",
        "conn = s2.connect()\n",
        "\n",
        "conn.show.create_table('reviews')"
      ],
      "id": "4d133dc2"
    },
    {
      "cell_type": "markdown",
      "metadata": {},
      "source": [
        "## 8. Run the semantic search algorithm with just one line of SQL\n",
        "\n",
        "We will utilize SingleStoreDB's distributed architecture to efficiently compute the dot product of the input string (stored in searchstring) with each entry in the database and return the top 5  reviews with the highest dot product score. Each vector is normalized to length 1, hence the dot product function essentially computes the cosine similarity between two vectors \u2013 an appropriate nearness metric. SingleStoreDB makes this extremely fast because it compiles queries to machine code and runs dot_product using SIMD instructions."
      ],
      "id": "371ad41b"
    },
    {
      "cell_type": "code",
      "execution_count": 9,
      "metadata": {},
      "outputs": [],
      "source": [
        "searchstring = input('Please enter a search string:')\n",
        "\n",
        "search_embedding = get_embedding(searchstring).tobytes().hex()\n",
        "\n",
        "results = %sql SELECT review, DOT_PRODUCT(review_embeddings, X'{{search_embedding}}') AS Score \\\n",
        "               FROM reviews ORDER BY Score DESC LIMIT 5;\n",
        "\n",
        "print()\n",
        "for i, res in enumerate(results):\n",
        "    print(f'{i + 1}: {res[0]} Score: {res[1]:.2f}\\n')"
      ],
      "id": "2599d1bf"
    },
    {
      "cell_type": "markdown",
      "metadata": {},
      "source": [
        "## 9. Clean up"
      ],
      "id": "cc466e92"
    },
    {
      "cell_type": "markdown",
      "metadata": {},
      "source": [
        "<div class=\"alert alert-block alert-warning\">\n",
        "    <b class=\"fa fa-solid fa-exclamation-circle\"></b>\n",
        "    <div>\n",
        "        <p><b>Action Required</b></p>\n",
        "        <p> If you created a new database in your Standard or Premium Workspace, you can drop the database by running the cell below. Note: this will not drop your database for Free Starter Workspaces. To drop a Free Starter Workspace, terminate the Workspace using the UI. </p>\n",
        "    </div>\n",
        "</div>"
      ],
      "id": "fc8b28e8"
    },
    {
      "cell_type": "code",
      "execution_count": 10,
      "metadata": {},
      "outputs": [],
      "source": [
        "shared_tier_check = %sql show variables like 'is_shared_tier'\n",
        "if not shared_tier_check or shared_tier_check[0][1] == 'OFF':\n",
        "    %sql DROP DATABASE IF EXISTS semantic_search;"
      ],
      "id": "10aae5a1"
    },
    {
      "id": "60d17a89",
      "cell_type": "markdown",
      "metadata": {},
      "source": [
        "<div id=\"singlestore-footer\" style=\"background-color: rgba(194, 193, 199, 0.25); height:2px; margin-bottom:10px\"></div>\n",
        "<div><img src=\"https://raw.githubusercontent.com/singlestore-labs/spaces-notebooks/master/common/images/singlestore-logo-grey.png\" style=\"padding: 0px; margin: 0px; height: 24px\"/></div>"
      ]
    }
  ],
  "metadata": {
    "kernelspec": {
      "display_name": "Python 3 (ipykernel)",
      "language": "python",
      "name": "python3"
    },
    "language_info": {
      "codemirror_mode": {
        "name": "ipython",
        "version": 3
      },
      "file_extension": ".py",
      "mimetype": "text/x-python",
      "name": "python",
      "nbconvert_exporter": "python",
      "pygments_lexer": "ipython3",
      "version": "3.11.4"
    }
  },
  "nbformat": 4,
  "nbformat_minor": 5
}
