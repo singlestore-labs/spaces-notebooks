{
  "cells": [
    {
      "id": "3ba63f11",
      "cell_type": "markdown",
      "metadata": {},
      "source": [
        "<div id=\"singlestore-header\" style=\"display: flex; background-color: rgba(255, 182, 176, 0.25); padding: 5px;\">\n",
        "    <div id=\"icon-image\" style=\"width: 90px; height: 90px;\">\n",
        "        <img width=\"100%\" height=\"100%\" src=\"https://raw.githubusercontent.com/singlestore-labs/spaces-notebooks/master/common/images/header-icons/file-export.png\" />\n",
        "    </div>\n",
        "    <div id=\"text\" style=\"padding: 5px; margin-left: 10px;\">\n",
        "        <div id=\"badge\" style=\"display: inline-block; background-color: rgba(0, 0, 0, 0.15); border-radius: 4px; padding: 4px 8px; align-items: center; margin-top: 6px; margin-bottom: -2px; font-size: 80%\">SingleStore Notebooks</div>\n",
        "        <h1 style=\"font-weight: 500; margin: 8px 0 0 4px;\">Ask questions of your PDFs with Unstructured</h1>\n",
        "    </div>\n",
        "</div>"
      ]
    },
    {
      "cell_type": "markdown",
      "metadata": {},
      "source": [
        "## Install Unstructured Library\n",
        "\n",
        "We'll start by installing the Unstructured library, which is essential for ingesting and processing PDF files. The library will allow us to convert PDF documents into a JSON format that includes both metadata and text extraction. For this part of the project, we'll focus on installing the PDF support components.\n",
        "\n",
        "Reference for full installation details: [Unstructured Installation Guide](https://unstructured-io.github.io/unstructured/installation/full_installation.html)"
      ],
      "id": "0680197e"
    },
    {
      "cell_type": "code",
      "execution_count": 1,
      "metadata": {},
      "outputs": [],
      "source": [
        "!pip install \"unstructured[pdf]\""
      ],
      "id": "3a3fee0a"
    },
    {
      "cell_type": "markdown",
      "metadata": {},
      "source": [
        "## Import Libraries\n",
        "\n",
        "In this section, we import the necessary libraries for our project. We'll use `pandas` to handle data manipulation, converting our semi-structured JSON data into a structured DataFrame format. This is crucial for storing the data in the SingleStore database later on. Additionally, we'll utilize the OpenAI API for vectorizing text and generating responses, integral components of our RAG system."
      ],
      "id": "6a27e7f1"
    },
    {
      "cell_type": "code",
      "execution_count": 2,
      "metadata": {},
      "outputs": [],
      "source": [
        "import os\n",
        "import json\n",
        "import mysql.connector\n",
        "import pandas as pd\n",
        "import numpy as np\n",
        "\n",
        "import openai\n",
        "from openai.embeddings_utils import get_embedding"
      ],
      "id": "6a076d8b"
    },
    {
      "cell_type": "markdown",
      "metadata": {},
      "source": [
        "## Configure OpenAI API and SingleStore Database\n",
        "\n",
        "Before we proceed, it's important to configure our environment. This involves setting up access to the OpenAI API and the SingleStore cloud database. You'll need to retrieve your OpenAI API key and establish a connection with the SingleStore database. These steps are fundamental for enabling the interaction between our AI models and the database.\n",
        "\n",
        "- Obtain your OpenAI API key here: [OpenAI API Key](https://help.openai.com/en/articles/4936850-where-do-i-find-my-secret-api-key)\n",
        "- Set up your SingleStore account and workspace: [SingleStore Setup Guide](https://www.singlestore.com/blog/how-to-get-started-with-singlestore/)\n",
        "- Connect to your SingleStore workspace: [SingleStore Connection Documentation](https://docs.singlestore.com/cloud/connect-to-your-workspace/)"
      ],
      "id": "c40456f7"
    },
    {
      "cell_type": "code",
      "execution_count": 3,
      "metadata": {},
      "outputs": [],
      "source": [
        "# OpenAI API Key\n",
        "openai.api_key = os.environ[\"OPENAI_API_KEY\"]\n",
        "\n",
        "# SingleStore DB Connection\n",
        "host=os.environ[\"SS_HOST\"]\n",
        "port=3306\n",
        "username=os.environ[\"SS_USERNAME\"]\n",
        "password=os.environ[\"SS_PASSWORD\"]\n",
        "database=os.environ[\"SS_DATABASE\"]"
      ],
      "id": "e8826a8c"
    },
    {
      "cell_type": "markdown",
      "metadata": {},
      "source": [
        "## Unstructured PDF Partition\n",
        "\n",
        "The PDF Partition step is critical for ingesting and processing the PDF document. Here, we define the filename of the PDF to be processed. We then use the `partition_pdf` function to segment the PDF document, extracting various elements such as text, images, and tables. The function can execute locally or make a call to a remote inference server, depending on your setup.\n",
        "\n",
        "Additionally, the `chunk_by_title` function is used to organize the document into sections based on the presence of titles, with non-text elements being treated as separate sections. The \"fast\" strategy is applied for quick text extraction, which is suitable for text-heavy PDFs.\n",
        "\n",
        "References:\n",
        "- [Partition PDF Documentation](https://unstructured-io.github.io/unstructured/bricks/partition.html#partition-pdf)\n",
        "- [Chunk by Title Documentation](https://unstructured-io.github.io/unstructured/bricks/chunking.html)\n",
        "- [Strategy Documentation](https://unstructured-io.github.io/unstructured/best_practices/strategies.html)"
      ],
      "id": "92ae5a1e"
    },
    {
      "cell_type": "code",
      "execution_count": 4,
      "metadata": {},
      "outputs": [],
      "source": [
        "pdf_filename = \"Employee-Handbook.pdf\""
      ],
      "id": "5f4be9dc"
    },
    {
      "cell_type": "code",
      "execution_count": 5,
      "metadata": {},
      "outputs": [],
      "source": [
        "from unstructured.partition.pdf import partition_pdf\n",
        "from unstructured.chunking.title import chunk_by_title\n",
        "\n",
        "elements = partition_pdf(pdf_filename,\n",
        "                         strategy=\"fast\",\n",
        "                        )\n",
        "\n",
        "chunks = chunk_by_title(elements)"
      ],
      "id": "24879122"
    },
    {
      "cell_type": "markdown",
      "metadata": {},
      "source": [
        "## Reformat JSON Output into Structured Dataframe Format\n",
        "\n",
        "After processing the PDF, we receive output in an unstructured JSON format, which includes valuable metadata about the extracted elements. This metadata enables us to filter and manipulate the document elements based on our requirements. Our next step is to convert this JSON output into a structured DataFrame, which is a more suitable format for storing in the SingleStore DB and for further processing in our RAG system.\n",
        "\n",
        "Reference for understanding metadata: [Unstructured Metadata Documentation](https://unstructured-io.github.io/unstructured/metadata.html)"
      ],
      "id": "a8fefdba"
    },
    {
      "cell_type": "code",
      "execution_count": 6,
      "metadata": {},
      "outputs": [],
      "source": [
        "# Convert JSON output into Pandas DataFrame\n",
        "data = []\n",
        "\n",
        "for c in chunks:\n",
        "    row = {}\n",
        "    row['Element Type'] = type(c).__name__\n",
        "    row['Filename'] = c.metadata.filename\n",
        "    row['Date Modified'] = c.metadata.last_modified\n",
        "    row['Filetype'] = c.metadata.filetype\n",
        "    row['Page Number'] = c.metadata.page_number\n",
        "    row['text'] = c.text\n",
        "    data.append(row)\n",
        "\n",
        "df = pd.DataFrame(data)\n",
        "\n",
        "# Show the DataFrame\n",
        "df.head()"
      ],
      "id": "b4f19b22"
    },
    {
      "cell_type": "markdown",
      "metadata": {},
      "source": [
        "## Make Connection to SingleStore Database\n",
        "\n",
        "In this step, we establish a connection to the SingleStore Database using the MySQL connector. This connection is vital for creating a new table that matches the structure of our DataFrame and for uploading our data. SingleStoreDB Cloud's compatibility with MySQL allows us to leverage its tools for managing data and executing data-related tasks efficiently.\n",
        "\n",
        "References:\n",
        "- [Creating a Database in SingleStoreDB Cloud](https://docs.singlestore.com/cloud/create-a-database/)\n",
        "- [Loading Data into SingleStoreDB Cloud](https://docs.singlestore.com/cloud/load-data/)"
      ],
      "id": "e1cfcd38"
    },
    {
      "cell_type": "code",
      "execution_count": 7,
      "metadata": {},
      "outputs": [],
      "source": [
        "# Create connection to S2 Database\n",
        "cnx = mysql.connector.connect(user=username,\n",
        "                              password=password,\n",
        "                              host=host,\n",
        "                              database=database)\n",
        "cnx"
      ],
      "id": "7a9d094a"
    },
    {
      "cell_type": "code",
      "execution_count": 8,
      "metadata": {},
      "outputs": [],
      "source": [
        "# Drop the existing table\n",
        "drop_cursor = cnx.cursor()\n",
        "drop_query = \"DROP TABLE IF EXISTS unstructured_data;\"\n",
        "drop_cursor.execute(drop_query)\n",
        "\n",
        "# Create a new table\n",
        "create_cursor = cnx.cursor()\n",
        "create_query = (\"CREATE TABLE unstructured_data (\"\n",
        "                \"element_id INT AUTO_INCREMENT PRIMARY KEY, \"\n",
        "                \"element_type VARCHAR(255), \"\n",
        "                \"filename VARCHAR(255), \"\n",
        "                \"date_modified DATETIME, \"\n",
        "                \"filetype VARCHAR(255), \"\n",
        "                \"page_number INT, \"\n",
        "                \"text TEXT);\")\n",
        "create_cursor.execute(create_query)\n",
        "\n",
        "cnx.commit()\n",
        "drop_cursor.close()\n",
        "create_cursor.close()"
      ],
      "id": "ba220cc1"
    },
    {
      "cell_type": "code",
      "execution_count": 9,
      "metadata": {},
      "outputs": [],
      "source": [
        "cursor = cnx.cursor()\n",
        "\n",
        "# Loop through the DataFrame and insert each row into the table\n",
        "for i, row in df.iterrows():\n",
        "    insert_query = \"\"\"INSERT INTO unstructured_data (element_type, filename, date_modified, filetype, page_number, text)\n",
        "                      VALUES (%s, %s, %s, %s, %s, %s);\"\"\"\n",
        "    cursor.execute(insert_query, (row['Element Type'], row['Filename'], row['Date Modified'], row['Filetype'], row['Page Number'], row['text']))\n",
        "\n",
        "cnx.commit()\n",
        "cursor.close()"
      ],
      "id": "3f7cbbdb"
    },
    {
      "cell_type": "markdown",
      "metadata": {},
      "source": [
        "## Create Text Embedding in the Table\n",
        "\n",
        "Next, we enhance our database table by adding a new column for text embeddings. Using OpenAI's `get_embedding` function, we generate embeddings that measure the relatedness of text strings. These embeddings are particularly useful for search functionality, allowing us to rank results by relevance.\n",
        "\n",
        "Reference: [Understanding Text Embeddings](https://platform.openai.com/docs/guides/embeddings/what-are-embeddings)"
      ],
      "id": "95f9443b"
    },
    {
      "cell_type": "code",
      "execution_count": 10,
      "metadata": {},
      "outputs": [],
      "source": [
        "cursor = cnx.cursor(buffered=True)\n",
        "\n",
        "# Add a new column for text embedding\n",
        "alter_query = \"ALTER TABLE unstructured_data ADD text_embedding TEXT;\"\n",
        "cursor.execute(alter_query)"
      ],
      "id": "c95bc511"
    },
    {
      "cell_type": "code",
      "execution_count": 11,
      "metadata": {},
      "outputs": [],
      "source": [
        "# Select and embed all text in table\n",
        "query = \"SELECT text FROM unstructured_data;\"\n",
        "cursor.execute(query)\n",
        "rows = cursor.fetchall()\n",
        "\n",
        "for i in rows:\n",
        "    text_embedding = json.dumps(get_embedding(i[0], engine=\"text-embedding-ada-002\"))\n",
        "    update_query = (\"UPDATE unstructured_data SET text_embedding = %s WHERE text = %s;\")\n",
        "    data = (text_embedding, i[0])\n",
        "    cursor.execute(update_query, data)\n",
        "\n",
        "cnx.commit()\n",
        "cursor.close()"
      ],
      "id": "00b7c77b"
    },
    {
      "cell_type": "markdown",
      "metadata": {},
      "source": [
        "## Run User Query Based on Similarity Score\n",
        "\n",
        "The retrieval process begins by selecting the table and text embeddings from our database. We then calculate similarity scores using numpy's dot product function, comparing the user query embeddings with the document embeddings. This allows us to identify and select the top-5 most similar entries, which are most relevant to the user's query.\n",
        "\n",
        "Reference: [How the Dot Product Measures Similarity](https://tivadardanka.com/blog/how-the-dot-product-measures-similarity)"
      ],
      "id": "fa56983d"
    },
    {
      "cell_type": "code",
      "execution_count": 12,
      "metadata": {},
      "outputs": [],
      "source": [
        "# User query\n",
        "search_string = \"What are the emergency management provisions include?\"\n",
        "search_embedding = get_embedding(search_string, engine=\"text-embedding-ada-002\")\n",
        "search_embedding_array = np.array(search_embedding)"
      ],
      "id": "35e10fa7"
    },
    {
      "cell_type": "code",
      "execution_count": 13,
      "metadata": {},
      "outputs": [],
      "source": [
        "cursor = cnx.cursor()\n",
        "\n",
        "# Fetch text, type, filename, and embeddings from the unstructured_data table\n",
        "query = \"SELECT text, element_type, filename, text_embedding FROM unstructured_data;\"\n",
        "cursor.execute(query)\n",
        "\n",
        "results = cursor.fetchall()\n",
        "\n",
        "# Compute dot product scores\n",
        "scores = []\n",
        "for res in results:\n",
        "    text = res[0]\n",
        "    type_ = res[1]\n",
        "    filename = res[2]\n",
        "    embedding_str = res[3]\n",
        "\n",
        "    if embedding_str is not None:\n",
        "        embedding = json.loads(embedding_str)\n",
        "        embedding_array = np.array(embedding)\n",
        "\n",
        "        # Compute dot product for all records\n",
        "        score = np.dot(search_embedding_array, embedding_array)\n",
        "        scores.append((text, type_, filename, score))\n",
        "\n",
        "# Sort by score and take the top 5\n",
        "top_5 = sorted(scores, key=lambda x: x[3], reverse=True)[:5]\n",
        "\n",
        "# Close the connection\n",
        "cursor.close()\n",
        "cnx.close()\n",
        "\n",
        "# Display top-k records\n",
        "top_5"
      ],
      "id": "876a636b"
    },
    {
      "cell_type": "markdown",
      "metadata": {},
      "source": [
        "## Generate the Answer via OpenAI ChatCompletion\n",
        "\n",
        "In the final step, we take the top-5 most similar entries retrieved from the database and use them as input for OpenAI's ChatCompletion. The ChatCompletion model is designed for both multi-turn conversations and single-turn tasks. It takes a list of messages as input and returns a model-generated message as output, providing us with a coherent and contextually relevant response based on the retrieved documents.\n",
        "\n",
        "Reference: [OpenAI Chat Completions API Guide](https://platform.openai.com/docs/guides/gpt/chat-completions-api)"
      ],
      "id": "bd06c2d8"
    },
    {
      "cell_type": "code",
      "execution_count": 14,
      "metadata": {},
      "outputs": [],
      "source": [
        "if top_5:\n",
        "    try:\n",
        "        response = openai.ChatCompletion.create(\n",
        "            model=\"gpt-4\",\n",
        "            messages=[\n",
        "                {\"role\": \"system\",\n",
        "                 \"content\": \"You are a useful assistant. Use the assistant's content to answer the user's query. Summarize your answer based on the context.\"\n",
        "                },\n",
        "                {\"role\": \"assistant\", \"content\": str(top_5)},\n",
        "                {\"role\": \"user\", \"content\": search_string},\n",
        "            ],\n",
        "            temperature=0\n",
        "        )\n",
        "\n",
        "        assistant_message = response['choices'][0]['message']['content']\n",
        "        print(\"Assistant's Response:\", assistant_message)\n",
        "\n",
        "    except Exception as e:\n",
        "        print(f\"OpenAI API call failed: {e}\")\n",
        "else:\n",
        "    print(\"No relevant documents found.\")"
      ],
      "id": "8a57d965"
    },
    {
      "id": "f034fab2",
      "cell_type": "markdown",
      "metadata": {},
      "source": [
        "<div id=\"singlestore-footer\" style=\"background-color: rgba(194, 193, 199, 0.25); height:2px; margin-bottom:10px\"></div>\n",
        "<div><img src=\"https://raw.githubusercontent.com/singlestore-labs/spaces-notebooks/master/common/images/singlestore-logo-grey.png\" style=\"padding: 0px; margin: 0px; height: 24px\"/></div>"
      ]
    }
  ],
  "metadata": {
    "application/vnd.databricks.v1+notebook": {
      "dashboards": [],
      "language": "python",
      "notebookMetadata": {
        "pythonIndentUnit": 4
      },
      "notebookName": "PDF Processing with Tokenizer & Embedding using UnstructuredIO Python SDK & Delta Table",
      "widgets": {}
    },
    "kernelspec": {
      "display_name": "unstructured-3.10.12",
      "language": "python",
      "name": "unstructured-3.10.12"
    },
    "language_info": {
      "codemirror_mode": {
        "name": "ipython",
        "version": 3
      },
      "file_extension": ".py",
      "mimetype": "text/x-python",
      "name": "python",
      "nbconvert_exporter": "python",
      "pygments_lexer": "ipython3",
      "version": "3.10.12"
    }
  },
  "nbformat": 4,
  "nbformat_minor": 5
}
