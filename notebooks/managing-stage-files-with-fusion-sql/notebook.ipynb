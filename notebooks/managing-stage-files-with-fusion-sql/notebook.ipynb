{
  "cells": [
    {
      "id": "a00739c4",
      "cell_type": "markdown",
      "metadata": {},
      "source": [
        "<div id=\"singlestore-header\" style=\"display: flex; background-color: rgba(255, 224, 129, 0.25); padding: 5px;\">\n",
        "    <div id=\"icon-image\" style=\"width: 90px; height: 90px;\">\n",
        "        <img width=\"100%\" height=\"100%\" src=\"https://raw.githubusercontent.com/singlestore-labs/spaces-notebooks/master/common/images/header-icons/files.png\" />\n",
        "    </div>\n",
        "    <div id=\"text\" style=\"padding: 5px; margin-left: 10px;\">\n",
        "        <div id=\"badge\" style=\"display: inline-block; background-color: rgba(0, 0, 0, 0.15); border-radius: 4px; padding: 4px 8px; align-items: center; margin-top: 6px; margin-bottom: -2px; font-size: 80%\">SingleStore Notebooks</div>\n",
        "        <h1 style=\"font-weight: 500; margin: 8px 0 0 4px;\">Managing Stage files with Fusion SQL</h1>\n",
        "    </div>\n",
        "</div>"
      ]
    },
    {
      "attachments": {},
      "cell_type": "markdown",
      "metadata": {},
      "source": [
        "Fusion SQL can be used to manage your workspace groups and workspaces, but it\n",
        "can also be used to upload, download, and manage files in your workspace group\n",
        "Stage. We'll show you how to work with files in Stage in this notebook."
      ],
      "id": "c33d5542"
    },
    {
      "attachments": {},
      "cell_type": "markdown",
      "metadata": {},
      "source": [
        "## Displaying the Stage Fusion SQL commands\n",
        "\n",
        "The `SHOW FUSION COMMANDS` displays the commands that are handled by the Fusion\n",
        "engine. You can use the `LIKE` to filter the commands."
      ],
      "id": "0afd983c"
    },
    {
      "cell_type": "code",
      "execution_count": 1,
      "metadata": {},
      "outputs": [],
      "source": [
        "commands = %sql SHOW FUSION COMMANDS LIKE '%stage%'\n",
        "for cmd in commands:\n",
        "    print(*cmd, '\\n')"
      ],
      "id": "13eb0b1f"
    },
    {
      "attachments": {},
      "cell_type": "markdown",
      "metadata": {},
      "source": [
        "## Creating a workspace group\n",
        "\n",
        "We'll start by creating a workspace group. We can get a region in the US by using the `SHOW REGIONS`\n",
        "command and the `random` package."
      ],
      "id": "91485576"
    },
    {
      "cell_type": "code",
      "execution_count": 2,
      "metadata": {},
      "outputs": [],
      "source": [
        "import random\n",
        "import secrets\n",
        "\n",
        "us_regions = %sql SHOW REGIONS LIKE '%us%'\n",
        "\n",
        "region_id = random.choice(us_regions).ID\n",
        "region_id"
      ],
      "id": "4ef2337d"
    },
    {
      "cell_type": "code",
      "execution_count": 3,
      "metadata": {},
      "outputs": [],
      "source": [
        "wg_name = 'Fusion Notebook'\n",
        "password = secrets.token_urlsafe(20) + '-x&'"
      ],
      "id": "b00cf79d"
    },
    {
      "cell_type": "code",
      "execution_count": 4,
      "metadata": {},
      "outputs": [],
      "source": [
        "%%sql\n",
        "CREATE WORKSPACE GROUP '{{ wg_name }}'\n",
        "    IN REGION ID '{{ region_id }}' WITH PASSWORD '{{ password }}'\n",
        "    WITH FIREWALL RANGES '0.0.0.0/0'"
      ],
      "id": "ea62190e"
    },
    {
      "attachments": {},
      "cell_type": "markdown",
      "metadata": {},
      "source": [
        "## Uploading and downloading Stage files\n",
        "\n",
        "Uploading and downloading files to your Stage is easy with Fusion SQL. The commands are shown below.\n",
        "```\n",
        "DOWNLOAD STAGE FILE '<stage-path>' [ IN GROUP { ID '<group-id>' | '<group-name>' } ] [ TO '<local-path>' ]\n",
        "    [ OVERWRITE ] [ ENCODING '<encoding>' ];\n",
        "\n",
        "UPLOAD FILE TO STAGE '<stage-path>' [ IN GROUP { ID '<group-id>' | '<group-name>' } ] FROM '<local-path>' [ OVERWRITE ];\n",
        "```\n",
        "\n",
        "First we'll create a data file locally that we can work with."
      ],
      "id": "0567f05d"
    },
    {
      "cell_type": "code",
      "execution_count": 5,
      "metadata": {},
      "outputs": [],
      "source": [
        "%%writefile mydata.csv\n",
        "name,age,height\n",
        "Sue,27,65\n",
        "Joe,32,70\n",
        "Max,44,69\n",
        "Ann,33,64"
      ],
      "id": "44f5d066"
    },
    {
      "attachments": {},
      "cell_type": "markdown",
      "metadata": {},
      "source": [
        "We can now upload our data file to our workspace group Stage."
      ],
      "id": "b333c9e8"
    },
    {
      "cell_type": "code",
      "execution_count": 6,
      "metadata": {},
      "outputs": [],
      "source": [
        "%%sql\n",
        "UPLOAD FILE TO STAGE 'stats.csv' IN GROUP '{{ wg_name }}' FROM 'mydata.csv'"
      ],
      "id": "63ffcdad"
    },
    {
      "attachments": {},
      "cell_type": "markdown",
      "metadata": {},
      "source": [
        "We can list the files in a Stage with the `SHOW STAGE FILES` command."
      ],
      "id": "a5fd7a60"
    },
    {
      "cell_type": "code",
      "execution_count": 7,
      "metadata": {},
      "outputs": [],
      "source": [
        "%%sql\n",
        "SHOW STAGE FILES IN GROUP '{{ wg_name }}'"
      ],
      "id": "5bd84f4e"
    },
    {
      "attachments": {},
      "cell_type": "markdown",
      "metadata": {},
      "source": [
        "Downloading the file is just as easy as uploading."
      ],
      "id": "ebc693df"
    },
    {
      "cell_type": "code",
      "execution_count": 8,
      "metadata": {},
      "outputs": [],
      "source": [
        "%%sql\n",
        "DOWNLOAD STAGE FILE 'stats.csv' IN GROUP '{{ wg_name }}' TO 'stats.csv' OVERWRITE"
      ],
      "id": "43c7827d"
    },
    {
      "cell_type": "code",
      "execution_count": 9,
      "metadata": {},
      "outputs": [],
      "source": [
        "!cat stats.csv"
      ],
      "id": "ee3c4d33"
    },
    {
      "attachments": {},
      "cell_type": "markdown",
      "metadata": {},
      "source": [
        "If you just want to display the contents of the Stage file without saving it to a local\n",
        "file, you simply leave the `TO` option off the `DOWNLOAD STAGE FILE`."
      ],
      "id": "f5e5c776"
    },
    {
      "cell_type": "code",
      "execution_count": 10,
      "metadata": {},
      "outputs": [],
      "source": [
        "%%sql\n",
        "DOWNLOAD STAGE FILE 'stats.csv' IN GROUP '{{ wg_name }}' ENCODING 'utf-8'"
      ],
      "id": "60984ea0"
    },
    {
      "attachments": {},
      "cell_type": "markdown",
      "metadata": {},
      "source": [
        "## Creating folders\n",
        "\n",
        "Up to this point we have just worked with files at the root of our Stage. We can use Fusion SQL\n",
        "to create folder structures as well. This is done with the `CREATE STAGE FOLDER` command.\n",
        "```\n",
        "CREATE STAGE FOLDER '<stage-path>' [ IN GROUP { ID '<group-id>' | '<group-name>' } ] [ OVERWRITE ];\n",
        "```\n",
        "\n",
        "The following code will create this folder structure:\n",
        "```\n",
        "project-1/\n",
        "project-1/data/\n",
        "project-2/\n",
        "project-2/data/\n",
        "```"
      ],
      "id": "ac909bca"
    },
    {
      "cell_type": "code",
      "execution_count": 11,
      "metadata": {},
      "outputs": [],
      "source": [
        "for name in ['project-1', 'project-1/data', 'project-2', 'project-2/data']:\n",
        "    %sql CREATE STAGE FOLDER '{{ name }}' IN GROUP '{{ wg_name }}';"
      ],
      "id": "f5fac755"
    },
    {
      "cell_type": "code",
      "execution_count": 12,
      "metadata": {},
      "outputs": [],
      "source": [
        "%%sql\n",
        "SHOW STAGE FILES IN GROUP '{{ wg_name }}' RECURSIVE"
      ],
      "id": "cc98d1f2"
    },
    {
      "attachments": {},
      "cell_type": "markdown",
      "metadata": {},
      "source": [
        "Now that we have a folder structure we can put files into those folders."
      ],
      "id": "79703772"
    },
    {
      "cell_type": "code",
      "execution_count": 13,
      "metadata": {},
      "outputs": [],
      "source": [
        "%%sql\n",
        "UPLOAD FILE TO STAGE 'project-1/data/stats.csv' IN GROUP '{{ wg_name }}' FROM 'mydata.csv';\n",
        "UPLOAD FILE TO STAGE 'project-2/data/stats.csv' IN GROUP '{{ wg_name }}' FROM 'mydata.csv';"
      ],
      "id": "5fc4df07"
    },
    {
      "attachments": {},
      "cell_type": "markdown",
      "metadata": {},
      "source": [
        "Now when we do a recursive listing of our Stage, we'll see the newly created files."
      ],
      "id": "eaca1ab2"
    },
    {
      "cell_type": "code",
      "execution_count": 14,
      "metadata": {},
      "outputs": [],
      "source": [
        "%%sql\n",
        "SHOW STAGE FILES IN GROUP '{{ wg_name }}' RECURSIVE"
      ],
      "id": "9261cffa"
    },
    {
      "attachments": {},
      "cell_type": "markdown",
      "metadata": {},
      "source": [
        "We can list the files at a specific path as well."
      ],
      "id": "0290c32a"
    },
    {
      "cell_type": "code",
      "execution_count": 15,
      "metadata": {},
      "outputs": [],
      "source": [
        "%%sql\n",
        "SHOW STAGE FILES IN GROUP '{{ wg_name }}' AT 'project-2/data'"
      ],
      "id": "e439eee3"
    },
    {
      "attachments": {},
      "cell_type": "markdown",
      "metadata": {},
      "source": [
        "## Loading data from Stage\n",
        "\n",
        "We are going to load data from a Stage into a database table. For this, we need to\n",
        "have a workspace and a database."
      ],
      "id": "883a9656"
    },
    {
      "cell_type": "code",
      "execution_count": 16,
      "metadata": {},
      "outputs": [],
      "source": [
        "%%sql\n",
        "CREATE WORKSPACE 'stage-loader' IN GROUP '{{ wg_name }}' WITH SIZE 'S-00' WAIT ON ACTIVE"
      ],
      "id": "b3c4e207"
    },
    {
      "cell_type": "code",
      "execution_count": 17,
      "metadata": {},
      "outputs": [],
      "source": [
        "%%sql\n",
        "SHOW WORKSPACES IN GROUP 'Fusion Notebook'"
      ],
      "id": "36d0e56b"
    },
    {
      "attachments": {},
      "cell_type": "markdown",
      "metadata": {},
      "source": [
        "<div class=\"alert alert-block alert-warning\">\n",
        "    <b class=\"fa fa-solid fa-exclamation-circle\"></b>\n",
        "    <div>\n",
        "        <p><b>Action Required</b></p>\n",
        "        <p>Make sure to select the <tt>stage-loader</tt> workspace from the drop-down menu at the top of this notebook.</p>\n",
        "    </div>\n",
        "</div>"
      ],
      "id": "43d88cde"
    },
    {
      "cell_type": "code",
      "execution_count": 18,
      "metadata": {},
      "outputs": [],
      "source": [
        "%%sql\n",
        "CREATE DATABASE IF NOT EXISTS stage_loader"
      ],
      "id": "c97e381f"
    },
    {
      "attachments": {},
      "cell_type": "markdown",
      "metadata": {},
      "source": [
        "<div class=\"alert alert-block alert-warning\">\n",
        "    <b class=\"fa fa-solid fa-exclamation-circle\"></b>\n",
        "    <div>\n",
        "        <p><b>Action Required</b></p>\n",
        "        <p>Make sure to select the <tt>stage_loader</tt> database from the drop-down menu at the top of this notebook.\n",
        "        It updates the <tt>connection_url</tt> to connect to that database.</p>\n",
        "    </div>\n",
        "</div>"
      ],
      "id": "3deb2065"
    },
    {
      "cell_type": "code",
      "execution_count": 19,
      "metadata": {},
      "outputs": [],
      "source": [
        "%%sql\n",
        "DROP TABLE IF EXISTS stats;\n",
        "CREATE TABLE stats (\n",
        "    name TEXT,\n",
        "    age  INT,\n",
        "    height INT\n",
        ");"
      ],
      "id": "28c4dab8"
    },
    {
      "attachments": {},
      "cell_type": "markdown",
      "metadata": {},
      "source": [
        "Load the data from the Stage using a pipeline."
      ],
      "id": "62ac5718"
    },
    {
      "cell_type": "code",
      "execution_count": 20,
      "metadata": {},
      "outputs": [],
      "source": [
        "%%sql\n",
        "CREATE PIPELINE IF NOT EXISTS stage_test\n",
        "    AS LOAD DATA STAGE 'project-2/data/stats.csv'\n",
        "    BATCH_INTERVAL 2500\n",
        "    SKIP DUPLICATE KEY ERRORS\n",
        "    INTO TABLE stats\n",
        "    IGNORE 1 LINES\n",
        "    FIELDS TERMINATED BY ','\n",
        "    LINES TERMINATED BY '\\n'\n",
        "    FORMAT CSV;\n",
        "START PIPELINE stage_test FOREGROUND;\n",
        "DROP PIPELINE stage_test;"
      ],
      "id": "cbef048d"
    },
    {
      "attachments": {},
      "cell_type": "markdown",
      "metadata": {},
      "source": [
        "We can now query the table and select the output into a Stage. Note that the\n",
        "`GROUP BY 1` is used here to combine the outputs from all of the database partitions\n",
        "into a single file. If you don't use that, you'll get multiple output files,\n",
        "each with a portion of the result set."
      ],
      "id": "f87ce322"
    },
    {
      "cell_type": "code",
      "execution_count": 21,
      "metadata": {},
      "outputs": [],
      "source": [
        "%%sql\n",
        "SELECT * FROM stats GROUP BY 1 INTO STAGE 'project-3/data/stats.csv'\n",
        "    FIELDS TERMINATED BY ','\n",
        "    LINES TERMINATED BY '\\n'"
      ],
      "id": "e04ea9c9"
    },
    {
      "cell_type": "code",
      "execution_count": 22,
      "metadata": {},
      "outputs": [],
      "source": [
        "%%sql\n",
        "SHOW STAGE FILES IN GROUP '{{ wg_name }}' AT 'project-3' RECURSIVE"
      ],
      "id": "4cf83faf"
    },
    {
      "cell_type": "code",
      "execution_count": 23,
      "metadata": {},
      "outputs": [],
      "source": [
        "%%sql\n",
        "DOWNLOAD STAGE FILE 'project-3/data/stats.csv' ENCODING 'utf-8'"
      ],
      "id": "b41add98"
    },
    {
      "attachments": {},
      "cell_type": "markdown",
      "metadata": {},
      "source": [
        "## Deleting Stage files and folders\n",
        "\n",
        "Files and folders can be deleted from a workspace Stage as well.\n",
        "This is done with the `DROP STAGE FILE` and `DROP STAGE FOLDER` commands.\n",
        "```\n",
        "DROP STAGE FILE '<stage-path>' [ IN GROUP { ID '<group-id>' | '<group-name>' } ];\n",
        "\n",
        "DROP STAGE FOLDER '<stage-path>' [ IN GROUP { ID '<group-id>' | '<group-name>' } ] [ RECURSIVE ];\n",
        "```\n",
        "\n",
        "Let's delete the `stats.csv` file at the root of our Stage."
      ],
      "id": "11ec3a9f"
    },
    {
      "cell_type": "code",
      "execution_count": 24,
      "metadata": {},
      "outputs": [],
      "source": [
        "%%sql\n",
        "DROP STAGE FILE 'stats.csv' IN GROUP '{{ wg_name }}'"
      ],
      "id": "058ab079"
    },
    {
      "cell_type": "code",
      "execution_count": 25,
      "metadata": {},
      "outputs": [],
      "source": [
        "%%sql\n",
        "SHOW STAGE FILES IN GROUP '{{ wg_name }}'"
      ],
      "id": "96516b35"
    },
    {
      "attachments": {},
      "cell_type": "markdown",
      "metadata": {},
      "source": [
        "Now let's delete the `project-2` folder including all of the files in it."
      ],
      "id": "2e95a34e"
    },
    {
      "cell_type": "code",
      "execution_count": 26,
      "metadata": {},
      "outputs": [],
      "source": [
        "%%sql\n",
        "DROP STAGE FOLDER 'project-2' IN GROUP '{{ wg_name }}' RECURSIVE"
      ],
      "id": "112632ed"
    },
    {
      "cell_type": "code",
      "execution_count": 27,
      "metadata": {},
      "outputs": [],
      "source": [
        "%%sql\n",
        "SHOW STAGE FILES IN GROUP '{{ wg_name }}' RECURSIVE"
      ],
      "id": "58410c8c"
    },
    {
      "cell_type": "code",
      "execution_count": 28,
      "metadata": {},
      "outputs": [],
      "source": [
        "%%sql\n",
        "DROP STAGE FOLDER 'project-1' IN GROUP '{{ wg_name }}' RECURSIVE;\n",
        "DROP STAGE FOLDER 'project-3' IN GROUP '{{ wg_name }}' RECURSIVE;"
      ],
      "id": "0c1291e3"
    },
    {
      "attachments": {},
      "cell_type": "markdown",
      "metadata": {},
      "source": [
        "## Conclusion\n",
        "\n",
        "We have demonstrated how to create and delete files and folders in a workspace group Stage\n",
        "using Fusion SQL. It is also possible to work with Stage files using the SingleStoreDB\n",
        "Python SDK, see the [API documentation](https://singlestoredb-python.labs.singlestore.com/api.html#stage)\n",
        "for more details."
      ],
      "id": "9708218d"
    },
    {
      "id": "43ecb8fb",
      "cell_type": "markdown",
      "metadata": {},
      "source": [
        "<div id=\"singlestore-footer\" style=\"background-color: rgba(194, 193, 199, 0.25); height:2px; margin-bottom:10px\"></div>\n",
        "<div><img src=\"https://raw.githubusercontent.com/singlestore-labs/spaces-notebooks/master/common/images/singlestore-logo-grey.png\" style=\"padding: 0px; margin: 0px; height: 24px\"/></div>"
      ]
    }
  ],
  "metadata": {
    "jupyterlab": {
      "notebooks": {
        "version_major": 6,
        "version_minor": 4
      }
    },
    "kernelspec": {
      "display_name": "Python 3 (ipykernel)",
      "language": "python",
      "name": "python3"
    },
    "language_info": {
      "codemirror_mode": {
        "name": "ipython",
        "version": 3
      },
      "file_extension": ".py",
      "mimetype": "text/x-python",
      "name": "python",
      "nbconvert_exporter": "python",
      "pygments_lexer": "ipython3",
      "version": "3.11.6"
    }
  },
  "nbformat": 4,
  "nbformat_minor": 5
}
