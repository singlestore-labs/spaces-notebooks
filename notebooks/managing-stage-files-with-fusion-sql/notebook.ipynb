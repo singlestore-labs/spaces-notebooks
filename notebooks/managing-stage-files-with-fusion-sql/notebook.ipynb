{
  "cells": [
    {
      "cell_type": "markdown",
      "id": "b3dbe6f5-da17-424a-bdea-9b024a63ecac",
      "metadata": {},
      "source": [
        "<div id=\"singlestore-header\" style=\"display: flex; background-color: rgba(255, 224, 129, 0.25); padding: 5px;\">\n",
        "    <div id=\"icon-image\" style=\"width: 90px; height: 90px;\">\n",
        "        <img width=\"100%\" height=\"100%\" src=\"https://raw.githubusercontent.com/singlestore-labs/spaces-notebooks/master/common/images/header-icons/files.png\" />\n",
        "    </div>\n",
        "    <div id=\"text\" style=\"padding: 5px; margin-left: 10px;\">\n",
        "        <div id=\"badge\" style=\"display: inline-block; background-color: rgba(0, 0, 0, 0.15); border-radius: 4px; padding: 4px 8px; align-items: center; margin-top: 6px; margin-bottom: -2px; font-size: 80%\">SingleStore Notebooks</div>\n",
        "        <h1 style=\"font-weight: 500; margin: 8px 0 0 4px;\">Managing Stage files with Fusion SQL</h1>\n",
        "    </div>\n",
        "</div>"
      ]
    },
    {
      "attachments": {},
      "cell_type": "markdown",
      "id": "ceb473ad-57c6-44eb-bfdc-c4c2e8ebf71c",
      "metadata": {},
      "source": [
        "Fusion SQL can be used to manage your workspace groups and workspaces, but it\n",
        "can also be used to upload, download, and manage files in your workspace group\n",
        "Stage. We'll show you how to work with files in Stage in this notebook."
      ]
    },
    {
      "attachments": {},
      "cell_type": "markdown",
      "id": "be4cae77-ca16-4e3b-81a5-7b52f8a44f2d",
      "metadata": {},
      "source": [
        "## Displaying the Stage Fusion SQL commands\n",
        "\n",
        "The `SHOW FUSION COMMANDS` displays the commands that are handled by the Fusion\n",
        "engine. You can use the `LIKE` to filter the commands."
      ]
    },
    {
      "cell_type": "code",
      "execution_count": 1,
      "id": "20ef40dc-0821-44fe-bca2-73dbe40c6b4e",
      "metadata": {},
      "outputs": [],
      "source": [
        "commands = %sql SHOW FUSION COMMANDS LIKE '%stage%'\n",
        "for cmd in commands:\n",
        "    print(*cmd, '\\n')"
      ]
    },
    {
      "attachments": {},
      "cell_type": "markdown",
      "id": "9e682ac7-fdbc-4097-9501-2fda503b5878",
      "metadata": {},
      "source": [
        "## Creating a workspace group\n",
        "\n",
        "We'll start by creating a workspace group. We can get a region in the US by using the `SHOW REGIONS`\n",
        "command and the `random` package."
      ]
    },
    {
      "cell_type": "code",
      "execution_count": 2,
      "id": "6d39a690-8743-4fd7-9da3-4f585ea7e263",
      "metadata": {},
      "outputs": [],
      "source": [
        "import random\n",
        "import secrets\n",
        "\n",
        "us_regions = %sql SHOW REGIONS LIKE '%us%'\n",
        "\n",
        "region_id = random.choice(us_regions).ID\n",
        "region_id"
      ]
    },
    {
      "cell_type": "code",
      "execution_count": 3,
      "id": "b9bc0cdd-a083-48e6-9e27-695162b23b4e",
      "metadata": {},
      "outputs": [],
      "source": [
        "wg_name = 'Fusion Notebook'\n",
        "password = secrets.token_urlsafe(20) + '-x&'"
      ]
    },
    {
      "cell_type": "code",
      "execution_count": 4,
      "id": "e52d76a8-5e9b-4687-8de2-9e7b8cbdbc22",
      "metadata": {},
      "outputs": [],
      "source": [
        "%%sql\n",
        "CREATE WORKSPACE GROUP '{{ wg_name }}'\n",
        "    IN REGION ID '{{ region_id }}' WITH PASSWORD '{{ password }}'\n",
        "    WITH FIREWALL RANGES '0.0.0.0/0'"
      ]
    },
    {
      "attachments": {},
      "cell_type": "markdown",
      "id": "52d91dcb-95af-4900-84a5-d93fe13faa64",
      "metadata": {},
      "source": [
        "## Uploading and downloading Stage files\n",
        "\n",
        "Uploading and downloading files to your Stage is easy with Fusion SQL. The commands are shown below.\n",
        "```\n",
        "DOWNLOAD STAGE FILE '<stage-path>' [ IN GROUP { ID '<group-id>' | '<group-name>' } ] [ TO '<local-path>' ]\n",
        "    [ OVERWRITE ] [ ENCODING '<encoding>' ];\n",
        "\n",
        "UPLOAD FILE TO STAGE '<stage-path>' [ IN GROUP { ID '<group-id>' | '<group-name>' } ] FROM '<local-path>' [ OVERWRITE ];\n",
        "```\n",
        "\n",
        "First we'll create a data file locally that we can work with."
      ]
    },
    {
      "cell_type": "code",
      "execution_count": 5,
      "id": "a4cca507-39f6-4c52-8a56-b99216af85d4",
      "metadata": {},
      "outputs": [],
      "source": [
        "%%writefile mydata.csv\n",
        "name,age,height\n",
        "Sue,27,65\n",
        "Joe,32,70\n",
        "Max,44,69\n",
        "Ann,33,64"
      ]
    },
    {
      "attachments": {},
      "cell_type": "markdown",
      "id": "c8ce1d5a-6a9e-42fa-b0f0-7ea4e96a425a",
      "metadata": {},
      "source": [
        "We can now upload our data file to our workspace group Stage."
      ]
    },
    {
      "cell_type": "code",
      "execution_count": 6,
      "id": "1baa1cf4-4cdb-4d2e-827c-cc1bc2824ead",
      "metadata": {},
      "outputs": [],
      "source": [
        "%%sql\n",
        "UPLOAD FILE TO STAGE 'stats.csv' IN GROUP '{{ wg_name }}' FROM 'mydata.csv'"
      ]
    },
    {
      "attachments": {},
      "cell_type": "markdown",
      "id": "8348b01e-527e-461f-903b-e912385d08bd",
      "metadata": {},
      "source": [
        "We can list the files in a Stage with the `SHOW STAGE FILES` command."
      ]
    },
    {
      "cell_type": "code",
      "execution_count": 7,
      "id": "68dc83a0-46b8-44d0-b8cc-a543832e3ecd",
      "metadata": {},
      "outputs": [],
      "source": [
        "%%sql\n",
        "SHOW STAGE FILES IN GROUP '{{ wg_name }}'"
      ]
    },
    {
      "attachments": {},
      "cell_type": "markdown",
      "id": "fcf0450f-db6e-44e7-8bca-a3cf27096848",
      "metadata": {},
      "source": [
        "Downloading the file is just as easy as uploading."
      ]
    },
    {
      "cell_type": "code",
      "execution_count": 8,
      "id": "7f28d391-84cd-485c-874b-bcd98f2b07bf",
      "metadata": {},
      "outputs": [],
      "source": [
        "%%sql\n",
        "DOWNLOAD STAGE FILE 'stats.csv' IN GROUP '{{ wg_name }}' TO 'stats.csv' OVERWRITE"
      ]
    },
    {
      "cell_type": "code",
      "execution_count": 9,
      "id": "176f9873-117d-4e8e-80fb-fcd020b41cfc",
      "metadata": {},
      "outputs": [],
      "source": [
        "!cat stats.csv"
      ]
    },
    {
      "attachments": {},
      "cell_type": "markdown",
      "id": "39ed2f5c-5139-4fff-9233-346dcdd84824",
      "metadata": {},
      "source": [
        "If you just want to display the contents of the Stage file without saving it to a local\n",
        "file, you simply leave the `TO` option off the `DOWNLOAD STAGE FILE`."
      ]
    },
    {
      "cell_type": "code",
      "execution_count": 10,
      "id": "c00ba225-5453-442a-bac1-a8b3c8a06e75",
      "metadata": {},
      "outputs": [],
      "source": [
        "%%sql\n",
        "DOWNLOAD STAGE FILE 'stats.csv' IN GROUP '{{ wg_name }}' ENCODING 'utf-8'"
      ]
    },
    {
      "attachments": {},
      "cell_type": "markdown",
      "id": "3184fd60-ec75-48fe-bd90-b5bc90b4bdd7",
      "metadata": {},
      "source": [
        "## Creating folders\n",
        "\n",
        "Up to this point we have just worked with files at the root of our Stage. We can use Fusion SQL\n",
        "to create folder structures as well. This is done with the `CREATE STAGE FOLDER` command.\n",
        "```\n",
        "CREATE STAGE FOLDER '<stage-path>' [ IN GROUP { ID '<group-id>' | '<group-name>' } ] [ OVERWRITE ];\n",
        "```\n",
        "\n",
        "The following code will create this folder structure:\n",
        "```\n",
        "project-1/\n",
        "project-1/data/\n",
        "project-2/\n",
        "project-2/data/\n",
        "```"
      ]
    },
    {
      "cell_type": "code",
      "execution_count": 11,
      "id": "23f9a4d7-b871-4723-bc45-3dfe3cef67e8",
      "metadata": {},
      "outputs": [],
      "source": [
        "for name in ['project-1', 'project-1/data', 'project-2', 'project-2/data']:\n",
        "    %sql CREATE STAGE FOLDER '{{ name }}' IN GROUP '{{ wg_name }}';"
      ]
    },
    {
      "cell_type": "code",
      "execution_count": 12,
      "id": "c62129f1-5bd1-4da1-bb97-46273029c1ba",
      "metadata": {},
      "outputs": [],
      "source": [
        "%%sql\n",
        "SHOW STAGE FILES IN GROUP '{{ wg_name }}' RECURSIVE"
      ]
    },
    {
      "attachments": {},
      "cell_type": "markdown",
      "id": "1cc31cc3-d6b1-40d1-a856-514fb5d32cea",
      "metadata": {},
      "source": [
        "Now that we have a folder structure we can put files into those folders."
      ]
    },
    {
      "cell_type": "code",
      "execution_count": 13,
      "id": "8182cffe-01c8-4c5a-b898-20624df3858f",
      "metadata": {},
      "outputs": [],
      "source": [
        "%%sql\n",
        "UPLOAD FILE TO STAGE 'project-1/data/stats.csv' IN GROUP '{{ wg_name }}' FROM 'mydata.csv';\n",
        "UPLOAD FILE TO STAGE 'project-2/data/stats.csv' IN GROUP '{{ wg_name }}' FROM 'mydata.csv';"
      ]
    },
    {
      "attachments": {},
      "cell_type": "markdown",
      "id": "6baa541d-1ea4-4130-8655-bffa768728de",
      "metadata": {},
      "source": [
        "Now when we do a recursive listing of our Stage, we'll see the newly created files."
      ]
    },
    {
      "cell_type": "code",
      "execution_count": 14,
      "id": "9c9a15fb-1e38-4bf5-a008-ca18e2731439",
      "metadata": {},
      "outputs": [],
      "source": [
        "%%sql\n",
        "SHOW STAGE FILES IN GROUP '{{ wg_name }}' RECURSIVE"
      ]
    },
    {
      "attachments": {},
      "cell_type": "markdown",
      "id": "af69755e-10d8-4da2-a907-822684e960e4",
      "metadata": {},
      "source": [
        "We can list the files at a specific path as well."
      ]
    },
    {
      "cell_type": "code",
      "execution_count": 15,
      "id": "4dcb95f4-5f05-4b75-b2c7-10cd779029bd",
      "metadata": {},
      "outputs": [],
      "source": [
        "%%sql\n",
        "SHOW STAGE FILES IN GROUP '{{ wg_name }}' AT 'project-2/data'"
      ]
    },
    {
      "attachments": {},
      "cell_type": "markdown",
      "id": "3104850f-f459-43f2-b122-c44c3f97938c",
      "metadata": {},
      "source": [
        "## Loading data from Stage\n",
        "\n",
        "We are going to load data from a Stage into a database table. For this, we need to\n",
        "have a workspace and a database."
      ]
    },
    {
      "cell_type": "code",
      "execution_count": 16,
      "id": "3a742652-4330-41df-b7a3-b4b0de718005",
      "metadata": {},
      "outputs": [],
      "source": [
        "%%sql\n",
        "CREATE WORKSPACE 'stage-loader' IN GROUP '{{ wg_name }}' WITH SIZE 'S-00' WAIT ON ACTIVE"
      ]
    },
    {
      "cell_type": "code",
      "execution_count": 17,
      "id": "41bf143e-db2e-45c6-a012-285145cc6733",
      "metadata": {},
      "outputs": [],
      "source": [
        "%%sql\n",
        "SHOW WORKSPACES IN GROUP 'Fusion Notebook'"
      ]
    },
    {
      "attachments": {},
      "cell_type": "markdown",
      "id": "3218a23c-f696-464d-a81c-bd054ebef79a",
      "metadata": {},
      "source": [
        "<div class=\"alert alert-block alert-warning\">\n",
        "    <b class=\"fa fa-solid fa-exclamation-circle\"></b>\n",
        "    <div>\n",
        "        <p><b>Action Required</b></p>\n",
        "        <p>Make sure to select the <tt>stage-loader</tt> workspace from the drop-down menu at the top of this notebook.</p>\n",
        "    </div>\n",
        "</div>"
      ]
    },
    {
      "cell_type": "code",
      "execution_count": 18,
      "id": "2d13f4f7-7c01-4dcf-abef-4b20d5e4d2c1",
      "metadata": {},
      "outputs": [],
      "source": [
        "%%sql\n",
        "CREATE DATABASE IF NOT EXISTS stage_loader"
      ]
    },
    {
      "attachments": {},
      "cell_type": "markdown",
      "id": "8dda3f88-e64f-49c0-ab79-708cba12bf6d",
      "metadata": {},
      "source": [
        "<div class=\"alert alert-block alert-warning\">\n",
        "    <b class=\"fa fa-solid fa-exclamation-circle\"></b>\n",
        "    <div>\n",
        "        <p><b>Action Required</b></p>\n",
        "        <p>Make sure to select the <tt>stage_loader</tt> database from the drop-down menu at the top of this notebook.\n",
        "        It updates the <tt>connection_url</tt> to connect to that database.</p>\n",
        "    </div>\n",
        "</div>"
      ]
    },
    {
      "cell_type": "code",
      "execution_count": 19,
      "id": "df308ee5-0d82-4b5c-a362-3f92e6784797",
      "metadata": {},
      "outputs": [],
      "source": [
        "%%sql\n",
        "DROP TABLE IF EXISTS stats;\n",
        "CREATE TABLE stats (\n",
        "    name TEXT,\n",
        "    age  INT,\n",
        "    height INT\n",
        ");"
      ]
    },
    {
      "attachments": {},
      "cell_type": "markdown",
      "id": "09702737-9751-4bcd-b21a-97c24b5ff2ab",
      "metadata": {},
      "source": [
        "Load the data from the Stage using a pipeline."
      ]
    },
    {
      "cell_type": "code",
      "execution_count": 20,
      "id": "3099b215-98cf-45c2-935f-c6f5300462be",
      "metadata": {},
      "outputs": [],
      "source": [
        "%%sql\n",
        "CREATE PIPELINE IF NOT EXISTS stage_test\n",
        "    AS LOAD DATA STAGE 'project-2/data/stats.csv'\n",
        "    BATCH_INTERVAL 2500\n",
        "    SKIP DUPLICATE KEY ERRORS\n",
        "    INTO TABLE stats\n",
        "    IGNORE 1 LINES\n",
        "    FIELDS TERMINATED BY ','\n",
        "    LINES TERMINATED BY '\\n'\n",
        "    FORMAT CSV;\n",
        "START PIPELINE stage_test FOREGROUND;\n",
        "DROP PIPELINE stage_test;"
      ]
    },
    {
      "attachments": {},
      "cell_type": "markdown",
      "id": "dca63d30-6649-4174-b1f6-0227529f5452",
      "metadata": {},
      "source": [
        "We can now query the table and select the output into a Stage. Note that the\n",
        "`GROUP BY 1` is used here to combine the outputs from all of the database partitions\n",
        "into a single file. If you don't use that, you'll get multiple output files,\n",
        "each with a portion of the result set."
      ]
    },
    {
      "cell_type": "code",
      "execution_count": 21,
      "id": "755d538d-e91b-4429-abc3-2a701a9a4eb4",
      "metadata": {},
      "outputs": [],
      "source": [
        "%%sql\n",
        "SELECT * FROM stats GROUP BY 1 INTO STAGE 'project-3/data/stats.csv'\n",
        "    FIELDS TERMINATED BY ','\n",
        "    LINES TERMINATED BY '\\n'"
      ]
    },
    {
      "cell_type": "code",
      "execution_count": 22,
      "id": "ca342ca9-5215-4e5b-9c45-81d0d3d9ae17",
      "metadata": {},
      "outputs": [],
      "source": [
        "%%sql\n",
        "SHOW STAGE FILES IN GROUP '{{ wg_name }}' AT 'project-3' RECURSIVE"
      ]
    },
    {
      "cell_type": "code",
      "execution_count": 23,
      "id": "6ecdc7f9-1a41-4ec8-90f7-4e5712090ae5",
      "metadata": {},
      "outputs": [],
      "source": [
        "%%sql\n",
        "DOWNLOAD STAGE FILE 'project-3/data/stats.csv' ENCODING 'utf-8'"
      ]
    },
    {
      "attachments": {},
      "cell_type": "markdown",
      "id": "281ce8cc-4b2c-4e92-95ff-7fec8b4d8ff5",
      "metadata": {},
      "source": [
        "## Deleting Stage files and folders\n",
        "\n",
        "Files and folders can be deleted from a workspace Stage as well.\n",
        "This is done with the `DROP STAGE FILE` and `DROP STAGE FOLDER` commands.\n",
        "```\n",
        "DROP STAGE FILE '<stage-path>' [ IN GROUP { ID '<group-id>' | '<group-name>' } ];\n",
        "\n",
        "DROP STAGE FOLDER '<stage-path>' [ IN GROUP { ID '<group-id>' | '<group-name>' } ] [ RECURSIVE ];\n",
        "```\n",
        "\n",
        "Let's delete the `stats.csv` file at the root of our Stage."
      ]
    },
    {
      "cell_type": "code",
      "execution_count": 24,
      "id": "a470b978-ff52-4095-8745-f98aac3f9671",
      "metadata": {},
      "outputs": [],
      "source": [
        "%%sql\n",
        "DROP STAGE FILE 'stats.csv' IN GROUP '{{ wg_name }}'"
      ]
    },
    {
      "cell_type": "code",
      "execution_count": 25,
      "id": "35c37895-f4bc-49ae-bf9c-a055aa435032",
      "metadata": {},
      "outputs": [],
      "source": [
        "%%sql\n",
        "SHOW STAGE FILES IN GROUP '{{ wg_name }}'"
      ]
    },
    {
      "attachments": {},
      "cell_type": "markdown",
      "id": "aea791e0-829a-4502-b1e5-19dd6295b851",
      "metadata": {},
      "source": [
        "Now let's delete the `project-2` folder including all of the files in it."
      ]
    },
    {
      "cell_type": "code",
      "execution_count": 26,
      "id": "a1731a9b-407c-4d91-9930-6d2e9311cbf2",
      "metadata": {},
      "outputs": [],
      "source": [
        "%%sql\n",
        "DROP STAGE FOLDER 'project-2' IN GROUP '{{ wg_name }}' RECURSIVE"
      ]
    },
    {
      "cell_type": "code",
      "execution_count": 27,
      "id": "553e4756-f63a-40b3-b9dd-dea2c8a4f985",
      "metadata": {},
      "outputs": [],
      "source": [
        "%%sql\n",
        "SHOW STAGE FILES IN GROUP '{{ wg_name }}' RECURSIVE"
      ]
    },
    {
      "cell_type": "code",
      "execution_count": 28,
      "id": "e2dbde48-0a93-44cf-b0ed-fc5e3c83cdf8",
      "metadata": {},
      "outputs": [],
      "source": [
        "%%sql\n",
        "DROP STAGE FOLDER 'project-1' IN GROUP '{{ wg_name }}' RECURSIVE;\n",
        "DROP STAGE FOLDER 'project-3' IN GROUP '{{ wg_name }}' RECURSIVE;"
      ]
    },
    {
      "attachments": {},
      "cell_type": "markdown",
      "id": "97516316-c04b-4d88-9f40-b6e2723fe26b",
      "metadata": {},
      "source": [
        "## Conclusion\n",
        "\n",
        "We have demonstrated how to create and delete files and folders in a workspace group Stage\n",
        "using Fusion SQL. It is also possible to work with Stage files using the SingleStoreDB\n",
        "Python SDK, see the [API documentation](https://singlestoredb-python.labs.singlestore.com/api.html#stage)\n",
        "for more details."
      ]
    },
    {
      "cell_type": "markdown",
      "id": "8844d60d-0a3c-418c-8375-d5f1c1c72cdc",
      "metadata": {},
      "source": [
        "<div id=\"singlestore-footer\" style=\"background-color: rgba(194, 193, 199, 0.25); height:2px; margin-bottom:10px\"></div>\n",
        "<div><img src=\"https://raw.githubusercontent.com/singlestore-labs/spaces-notebooks/master/common/images/singlestore-logo-grey.png\" style=\"padding: 0px; margin: 0px; height: 24px\"/></div>"
      ]
    }
  ],
  "metadata": {
    "jupyterlab": {
      "notebooks": {
        "version_major": 6,
        "version_minor": 4
      }
    },
    "kernelspec": {
      "display_name": "Python 3 (ipykernel)",
      "language": "python",
      "name": "python3"
    },
    "language_info": {
      "codemirror_mode": {
        "name": "ipython",
        "version": 3
      },
      "file_extension": ".py",
      "mimetype": "text/x-python",
      "name": "python",
      "nbconvert_exporter": "python",
      "pygments_lexer": "ipython3",
      "version": "3.11.6"
    }
  },
  "nbformat": 4,
  "nbformat_minor": 5
}
