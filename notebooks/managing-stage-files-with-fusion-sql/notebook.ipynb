{
  "cells": [
    {
      "cell_type": "markdown",
      "id": "b3dbe6f5-da17-424a-bdea-9b024a63ecac",
      "metadata": {},
      "source": [
        "<div id=\"singlestore-header\" style=\"display: flex; background-color: rgba(235, 249, 245, 0.25); padding: 5px;\">\n",
        "    <div id=\"icon-image\" style=\"width: 90px; height: 90px;\">\n",
        "        <img width=\"100%\" height=\"100%\" src=\"https://raw.githubusercontent.com/singlestore-labs/spaces-notebooks/master/common/images/header-icons/browser.png\" />\n",
        "    </div>\n",
        "    <div id=\"text\" style=\"padding: 5px; margin-left: 10px;\">\n",
        "        <div id=\"badge\" style=\"display: inline-block; background-color: rgba(0, 0, 0, 0.15); border-radius: 4px; padding: 4px 8px; align-items: center; margin-top: 6px; margin-bottom: -2px; font-size: 80%\">SingleStore Notebooks</div>\n",
        "        <h1 style=\"font-weight: 500; margin: 8px 0 0 4px;\">Managing Stage files with Fusion SQL</h1>\n",
        "    </div>\n",
        "</div>"
      ]
    },
    {
      "cell_type": "markdown",
      "id": "ceb473ad-57c6-44eb-bfdc-c4c2e8ebf71c",
      "metadata": {},
      "source": [
        "Fusion SQL can be used to manage your workspace groups and workspaces, but it\n",
        "can also be used to upload, download, and manage files in your workspace group\n",
        "Stage. We'll show you how to work with files in Stage in this notebook."
      ]
    },
    {
      "cell_type": "markdown",
      "id": "be4cae77-ca16-4e3b-81a5-7b52f8a44f2d",
      "metadata": {},
      "source": [
        "## Displaying the Stage Fusion SQL commands\n",
        "\n",
        "The `SHOW FUSION COMMANDS` displays the commands that are handled by the Fusion\n",
        "engine. You can use the `LIKE` to filter the commands."
      ]
    },
    {
      "cell_type": "code",
      "execution_count": 1,
      "id": "20ef40dc-0821-44fe-bca2-73dbe40c6b4e",
      "metadata": {},
      "outputs": [],
      "source": [
        "commands = %sql SHOW FUSION COMMANDS LIKE '%stage%'\n",
        "for cmd in commands:\n",
        "    print(*cmd, '\\n')"
      ]
    },
    {
      "cell_type": "markdown",
      "id": "9e682ac7-fdbc-4097-9501-2fda503b5878",
      "metadata": {},
      "source": [
        "## Creating a workspace group\n",
        "\n",
        "We'll start by creating a workspace group. We can get a region in the US by using the `SHOW REGIONS`\n",
        "command and the `random` package."
      ]
    },
    {
      "cell_type": "code",
      "execution_count": 2,
      "id": "6d39a690-8743-4fd7-9da3-4f585ea7e263",
      "metadata": {},
      "outputs": [],
      "source": [
        "import random\n",
        "\n",
        "us_regions = %sql SHOW REGIONS LIKE '%us%'\n",
        "\n",
        "region_id = random.choice(us_regions).ID\n",
        "region_id"
      ]
    },
    {
      "cell_type": "code",
      "execution_count": 3,
      "id": "b9bc0cdd-a083-48e6-9e27-695162b23b4e",
      "metadata": {},
      "outputs": [],
      "source": [
        "wg_name = 'Fusion Notebook'"
      ]
    },
    {
      "cell_type": "code",
      "execution_count": 4,
      "id": "e52d76a8-5e9b-4687-8de2-9e7b8cbdbc22",
      "metadata": {},
      "outputs": [],
      "source": [
        "%%sql\n",
        "CREATE WORKSPACE GROUP '{{ wg_name }}' IN REGION ID {{ region_id }}"
      ]
    },
    {
      "cell_type": "markdown",
      "id": "52d91dcb-95af-4900-84a5-d93fe13faa64",
      "metadata": {},
      "source": [
        "## Uploading and downloading Stage files\n",
        "\n",
        "Uploading and downloading files to your Stage is easy with Fusion SQL. The commands are shown below.\n",
        "```\n",
        "DOWNLOAD STAGE FILE '<stage-path>' [ IN GROUP { ID '<group-id>' | '<group-name>' } ] [ TO '<local-path>' ]\n",
        "    [ OVERWRITE ] [ ENCODING '<encoding>' ];\n",
        "\n",
        "UPLOAD FILE TO STAGE '<stage-path>' [ IN GROUP { ID '<group-id>' | '<group-name>' } ] FROM '<local-path>' [ OVERWRITE ];\n",
        "```\n",
        "\n",
        "First we'll create a data file locally that we can work with."
      ]
    },
    {
      "cell_type": "code",
      "execution_count": 5,
      "id": "a4cca507-39f6-4c52-8a56-b99216af85d4",
      "metadata": {},
      "outputs": [],
      "source": [
        "%%writefile mydata.csv\n",
        "name,age,height\n",
        "Sue,27,65\n",
        "Joe,32,70\n",
        "Max,44,69\n",
        "Ann,33,64"
      ]
    },
    {
      "cell_type": "markdown",
      "id": "c8ce1d5a-6a9e-42fa-b0f0-7ea4e96a425a",
      "metadata": {},
      "source": [
        "We can now upload our data file to our workspace group Stage."
      ]
    },
    {
      "cell_type": "code",
      "execution_count": 6,
      "id": "1baa1cf4-4cdb-4d2e-827c-cc1bc2824ead",
      "metadata": {},
      "outputs": [],
      "source": [
        "%%sql\n",
        "UPLOAD FILE TO STAGE 'stats.csv' IN GROUP '{{ wg_name }}' FROM 'mydata.csv'"
      ]
    },
    {
      "cell_type": "markdown",
      "id": "8348b01e-527e-461f-903b-e912385d08bd",
      "metadata": {},
      "source": [
        "We can list the files in a Stage with the `SHOW STAGE FILES` command."
      ]
    },
    {
      "cell_type": "code",
      "execution_count": 7,
      "id": "68dc83a0-46b8-44d0-b8cc-a543832e3ecd",
      "metadata": {},
      "outputs": [],
      "source": [
        "%%sql\n",
        "SHOW STAGE FILES IN GROUP '{{ wg_name }}'"
      ]
    },
    {
      "cell_type": "markdown",
      "id": "fcf0450f-db6e-44e7-8bca-a3cf27096848",
      "metadata": {},
      "source": [
        "Downloading the file is just as easy as uploading."
      ]
    },
    {
      "cell_type": "code",
      "execution_count": 8,
      "id": "7f28d391-84cd-485c-874b-bcd98f2b07bf",
      "metadata": {},
      "outputs": [],
      "source": [
        "%%sql\n",
        "DOWNLOAD STAGE FILE 'stats.csv' IN GROUP '{{ wg_name }}' TO 'stats.csv'"
      ]
    },
    {
      "cell_type": "code",
      "execution_count": 9,
      "id": "176f9873-117d-4e8e-80fb-fcd020b41cfc",
      "metadata": {},
      "outputs": [],
      "source": [
        "!cat stats.csv"
      ]
    },
    {
      "cell_type": "markdown",
      "id": "39ed2f5c-5139-4fff-9233-346dcdd84824",
      "metadata": {},
      "source": [
        "If you just want to display the contents of the Stage file without saving it to a local\n",
        "file, you simply leave the `TO` option off the `DOWNLOAD STAGE FILE`."
      ]
    },
    {
      "cell_type": "code",
      "execution_count": 10,
      "id": "c00ba225-5453-442a-bac1-a8b3c8a06e75",
      "metadata": {},
      "outputs": [],
      "source": [
        "%%sql\n",
        "DOWNLOAD STAGE FILE 'stats.csv' IN GROUP '{{ wg_name }}' ENCODING 'utf-8'"
      ]
    },
    {
      "cell_type": "markdown",
      "id": "3184fd60-ec75-48fe-bd90-b5bc90b4bdd7",
      "metadata": {},
      "source": [
        "## Creating folders\n",
        "\n",
        "Up to this point we have just worked with files at the root of our Stage. We can use Fusion SQL\n",
        "to create folder structures as well. This is done with the `CREATE STAGE FOLDER` command.\n",
        "```\n",
        "CREATE STAGE FOLDER '<stage-path>' [ IN GROUP { ID '<group-id>' | '<group-name>' } ] [ OVERWRITE ];\n",
        "```\n",
        "\n",
        "The following code will create this folder structure:\n",
        "```\n",
        "project-1/\n",
        "project-1/data/\n",
        "project-2/\n",
        "project-2/data/\n",
        "```"
      ]
    },
    {
      "cell_type": "code",
      "execution_count": 11,
      "id": "23f9a4d7-b871-4723-bc45-3dfe3cef67e8",
      "metadata": {},
      "outputs": [],
      "source": [
        "for name in ['project-1', 'project-1/data', 'project-2', 'project-2/data']:\n",
        "    %sql CREATE STAGE FOLDER '{{ name }}' IN GROUP '{{ wg_name }}';"
      ]
    },
    {
      "cell_type": "code",
      "execution_count": 12,
      "id": "c62129f1-5bd1-4da1-bb97-46273029c1ba",
      "metadata": {},
      "outputs": [],
      "source": [
        "%%sql\n",
        "SHOW STAGE FILES IN GROUP '{{ wg_name }}' RECURSIVE"
      ]
    },
    {
      "cell_type": "markdown",
      "id": "1cc31cc3-d6b1-40d1-a856-514fb5d32cea",
      "metadata": {},
      "source": [
        "Now that we have a folder structure we can put files into those folders."
      ]
    },
    {
      "cell_type": "code",
      "execution_count": 13,
      "id": "8182cffe-01c8-4c5a-b898-20624df3858f",
      "metadata": {},
      "outputs": [],
      "source": [
        "%%sql\n",
        "UPLOAD FILE TO STAGE 'project-1/data/stats.csv' IN GROUP '{{ wg_name }}' FROM 'mydata.csv';\n",
        "UPLOAD FILE TO STAGE 'project-2/data/stats.csv' IN GROUP '{{ wg_name }}' FROM 'mydata.csv';"
      ]
    },
    {
      "cell_type": "markdown",
      "id": "6baa541d-1ea4-4130-8655-bffa768728de",
      "metadata": {},
      "source": [
        "Now when we do a recursive listing of our Stage, we'll see the newly created files."
      ]
    },
    {
      "cell_type": "code",
      "execution_count": 14,
      "id": "9c9a15fb-1e38-4bf5-a008-ca18e2731439",
      "metadata": {},
      "outputs": [],
      "source": [
        "%%sql\n",
        "SHOW STAGE FILES IN GROUP '{{ wg_name }}' RECURSIVE"
      ]
    },
    {
      "cell_type": "markdown",
      "id": "af69755e-10d8-4da2-a907-822684e960e4",
      "metadata": {},
      "source": [
        "We can list the files at a specific path as well."
      ]
    },
    {
      "cell_type": "code",
      "execution_count": 15,
      "id": "4dcb95f4-5f05-4b75-b2c7-10cd779029bd",
      "metadata": {},
      "outputs": [],
      "source": [
        "%%sql\n",
        "SHOW STAGE FILES IN GROUP '{{ wg_name }}' AT 'project-2/data'"
      ]
    },
    {
      "cell_type": "markdown",
      "id": "281ce8cc-4b2c-4e92-95ff-7fec8b4d8ff5",
      "metadata": {},
      "source": [
        "## Deleting Stage files and folders\n",
        "\n",
        "Files and folders can be deleted from a workspace Stage as well.\n",
        "This is done with the `DROP STAGE FILE` and `DROP STAGE FOLDER` commands.\n",
        "```\n",
        "DROP STAGE FILE '<stage-path>' [ IN GROUP { ID '<group-id>' | '<group-name>' } ];\n",
        "\n",
        "DROP STAGE FOLDER '<stage-path>' [ IN GROUP { ID '<group-id>' | '<group-name>' } ] [ RECURSIVE ];\n",
        "```\n",
        "\n",
        "Let's delete the `stats.csv` file at the root of our Stage."
      ]
    },
    {
      "cell_type": "code",
      "execution_count": 16,
      "id": "a470b978-ff52-4095-8745-f98aac3f9671",
      "metadata": {},
      "outputs": [],
      "source": [
        "%%sql\n",
        "DROP STAGE FILE 'stats.csv' IN GROUP '{{ wg_name }}'"
      ]
    },
    {
      "cell_type": "code",
      "execution_count": 17,
      "id": "35c37895-f4bc-49ae-bf9c-a055aa435032",
      "metadata": {},
      "outputs": [],
      "source": [
        "%%sql\n",
        "SHOW STAGE FILES IN GROUP '{{ wg_name }}'"
      ]
    },
    {
      "cell_type": "markdown",
      "id": "aea791e0-829a-4502-b1e5-19dd6295b851",
      "metadata": {},
      "source": [
        "Now let's delete the `project-2` folder including all of the files in it."
      ]
    },
    {
      "cell_type": "code",
      "execution_count": 18,
      "id": "a1731a9b-407c-4d91-9930-6d2e9311cbf2",
      "metadata": {},
      "outputs": [],
      "source": [
        "%%sql\n",
        "DROP STAGE FOLDER 'project-2' IN GROUP '{{ wg_name }}' RECURSIVE"
      ]
    },
    {
      "cell_type": "code",
      "execution_count": 19,
      "id": "553e4756-f63a-40b3-b9dd-dea2c8a4f985",
      "metadata": {},
      "outputs": [],
      "source": [
        "%%sql\n",
        "SHOW STAGE FILES IN GROUP '{{ wg_name }}' RECURSIVE"
      ]
    },
    {
      "cell_type": "markdown",
      "id": "97516316-c04b-4d88-9f40-b6e2723fe26b",
      "metadata": {},
      "source": [
        "## Conclusion\n",
        "\n",
        "We have demonstrated how to create and delete files and folders in a workspace group Stage\n",
        "using Fusion SQL. It is also possible to work with Stage files using the SingleStoreDB\n",
        "Python SDK, see the [API documentation](https://singlestoredb-python.labs.singlestore.com/api.html#stage)\n",
        "for more details."
      ]
    },
    {
      "cell_type": "markdown",
      "id": "8844d60d-0a3c-418c-8375-d5f1c1c72cdc",
      "metadata": {},
      "source": [
        "<div id=\"singlestore-footer\" style=\"background-color: rgba(194, 193, 199, 0.25); height:2px; margin-bottom:10px\"></div>\n",
        "<div><img src=\"https://raw.githubusercontent.com/singlestore-labs/spaces-notebooks/master/common/images/singlestore-logo-grey.png\" style=\"padding: 0px; margin: 0px; height: 24px\"/></div>"
      ]
    }
  ],
  "metadata": {
    "jupyterlab": {
      "notebooks": {
        "version_major": 6,
        "version_minor": 4
      }
    },
    "kernelspec": {
      "display_name": "Python 3 (ipykernel)",
      "language": "python",
      "name": "python3"
    },
    "language_info": {
      "codemirror_mode": {
        "name": "ipython",
        "version": 3
      },
      "file_extension": ".py",
      "mimetype": "text/x-python",
      "name": "python",
      "nbconvert_exporter": "python",
      "pygments_lexer": "ipython3",
      "version": "3.11.6"
    }
  },
  "nbformat": 4,
  "nbformat_minor": 5
}
