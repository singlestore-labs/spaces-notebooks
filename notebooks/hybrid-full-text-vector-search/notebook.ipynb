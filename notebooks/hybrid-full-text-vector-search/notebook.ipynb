{
  "cells": [
    {
      "id": "0a4a9f89",
      "cell_type": "markdown",
      "metadata": {},
      "source": [
        "<div id=\"singlestore-header\" style=\"display: flex; background-color: rgba(209, 153, 255, 0.25); padding: 5px;\">\n",
        "    <div id=\"icon-image\" style=\"width: 90px; height: 90px;\">\n",
        "        <img width=\"100%\" height=\"100%\" src=\"https://raw.githubusercontent.com/singlestore-labs/spaces-notebooks/master/common/images/header-icons/vector-circle.png\" />\n",
        "    </div>\n",
        "    <div id=\"text\" style=\"padding: 5px; margin-left: 10px;\">\n",
        "        <div id=\"badge\" style=\"display: inline-block; background-color: rgba(0, 0, 0, 0.15); border-radius: 4px; padding: 4px 8px; align-items: center; margin-top: 6px; margin-bottom: -2px; font-size: 80%\">SingleStore Notebooks</div>\n",
        "        <h1 style=\"font-weight: 500; margin: 8px 0 0 4px;\">Hybrid Full-text and Vector Search</h1>\n",
        "    </div>\n",
        "</div>"
      ]
    },
    {
      "id": "da7a85db",
      "cell_type": "markdown",
      "metadata": {},
      "source": [
        "<div class=\"alert alert-block alert-warning\">\n",
        "    <b class=\"fa fa-solid fa-exclamation-circle\"></b>\n",
        "    <div>\n",
        "        <p><b>Note</b></p>\n",
        "        <p>This notebook can be run on a Free Starter Workspace. To create a Free Starter Workspace navigate to <tt>Start</tt> using the left nav. You can also use your existing Standard or Premium workspace with this Notebook.</p>\n",
        "    </div>\n",
        "</div>"
      ]
    },
    {
      "attachments": {},
      "cell_type": "markdown",
      "metadata": {},
      "source": [
        "## What's in this notebook:\n",
        "\n",
        "1. Create and use a database.\n",
        "2. Create a table and load data.\n",
        "3. Create a full-text and a vector index.\n",
        "4. Similarity search.\n",
        "5. Hybrid search.\n",
        "6. Clean up.\n",
        "\n",
        "## Questions?\n",
        "\n",
        "Reach out to us through our [forum](https://www.singlestore.com/forum)."
      ],
      "id": "2230b2eb"
    },
    {
      "attachments": {},
      "cell_type": "markdown",
      "metadata": {},
      "source": [
        "## 1. Create and use a database."
      ],
      "id": "e92213aa"
    },
    {
      "attachments": {},
      "cell_type": "markdown",
      "metadata": {},
      "source": [
        "To use this notebook, you need to have an active workspace and have selected a database to use. Please select a database using the dropdown above."
      ],
      "id": "89109515"
    },
    {
      "attachments": {},
      "cell_type": "markdown",
      "metadata": {},
      "source": [
        "## 2. Create a table and load data."
      ],
      "id": "9c2f4767"
    },
    {
      "attachments": {},
      "cell_type": "markdown",
      "metadata": {},
      "source": [
        "This example uses a dataset of Wikipedia articles about video games. The dataset contains approximately 41,000 vectors based on 1,800 articles from Wikipedia. The data set is available under the Creative Commons Attribution-ShareAlike License 4.0. Refer to [Hybrid Search and Re-ranking](https://docs.singlestore.com/cloud/vectors/hybrid-search/) for more details on this example and information about hybrid search over vectors."
      ],
      "id": "5e21580b"
    },
    {
      "attachments": {},
      "cell_type": "markdown",
      "metadata": {},
      "source": [
        "Create a table to hold the video games data using the SQL below. This table stores the text of the paragraphs and stores the vectors created for those paragraphs using the [Vector Type](https://docs.singlestore.com/cloud/vectors/vector-type/)."
      ],
      "id": "0b2486d3"
    },
    {
      "cell_type": "code",
      "execution_count": 1,
      "metadata": {},
      "outputs": [],
      "source": [
        "%%sql\n",
        "CREATE TABLE video_games(\n",
        "id BIGINT(20),\n",
        "url TEXT DEFAULT NULL,\n",
        "paragraph TEXT DEFAULT NULL,\n",
        "v VECTOR(1536) NOT NULL,\n",
        "SHARD KEY(id), KEY(id) USING HASH\n",
        ");"
      ],
      "id": "81933449"
    },
    {
      "attachments": {},
      "cell_type": "markdown",
      "metadata": {},
      "source": [
        "Create and run the following pipeline using the <code>[CREATE PIPELINE](https://docs.singlestore.com/cloud/reference/create-pipeline/)</code> command to load data into the <code>video_games</code> table. The <code>CREATE PIPELINE</code> command may take around 30 seconds to run."
      ],
      "id": "e00df72a"
    },
    {
      "cell_type": "code",
      "execution_count": 2,
      "metadata": {},
      "outputs": [],
      "source": [
        "%%sql\n",
        "-- since the bucket is open, you can leave the credentials clause as-is\n",
        "CREATE OR REPLACE PIPELINE wiki_pipeline AS\n",
        "load data S3\n",
        "'s3://wikipedia-video-game-data/video-game-embeddings(1).csv'\n",
        "config '{\"region\":\"us-west-1\"}'\n",
        "credentials '{\"aws_access_key_id\": \"\", \"aws_secret_access_key\": \"\"}'\n",
        "SKIP DUPLICATE KEY ERRORS\n",
        "INTO TABLE video_games\n",
        "FORMAT csv\n",
        "FIELDS TERMINATED BY ','\n",
        "ENCLOSED BY '\"'\n",
        "LINES TERMINATED BY '\\r\\n';\n",
        "\n",
        "START PIPELINE wiki_pipeline FOREGROUND;"
      ],
      "id": "3fbf7fdd"
    },
    {
      "attachments": {},
      "cell_type": "markdown",
      "metadata": {},
      "source": [
        "Verify the data was loaded using the query below. <p> Wait for the pipeline to finish before running the <code>COUNT</code> query."
      ],
      "id": "59459056"
    },
    {
      "cell_type": "code",
      "execution_count": 3,
      "metadata": {},
      "outputs": [],
      "source": [
        "%%sql\n",
        "SELECT COUNT(*)\n",
        "FROM video_games;"
      ],
      "id": "83bda5b0"
    },
    {
      "attachments": {},
      "cell_type": "markdown",
      "metadata": {},
      "source": [
        "There should be 40,027 rows in the <code>video_games</code> table when the <code>PIPELINE</code> is finished."
      ],
      "id": "894ab109"
    },
    {
      "attachments": {},
      "cell_type": "markdown",
      "metadata": {},
      "source": [
        "## 3. Create a full-text and a vector index."
      ],
      "id": "5bdeb5e5"
    },
    {
      "attachments": {},
      "cell_type": "markdown",
      "metadata": {},
      "source": [
        "Use the following SQL to create full-text and vector indexes on the <code>video_games</code> table. Indexes can improve query performance on large vector data sets. Refer to [Vector Indexing](https://docs.singlestore.com/cloud/vectors/vector-indexing) for more information on vector indexes and <code>[CREATE TABLE](https://docs.singlestore.com/studio-redir/create-table/)</code) for more information on full-text indexes."
      ],
      "id": "068c8415"
    },
    {
      "cell_type": "code",
      "execution_count": 4,
      "metadata": {},
      "outputs": [],
      "source": [
        "%%sql\n",
        "ALTER TABLE video_games ADD FULLTEXT ft_para(paragraph);\n",
        "\n",
        "ALTER TABLE video_games ADD VECTOR INDEX ivf_v(v)\n",
        "   INDEX_OPTIONS '{\"index_type\":\"IVF_FLAT\"}';"
      ],
      "id": "42ef6454"
    },
    {
      "attachments": {},
      "cell_type": "markdown",
      "metadata": {},
      "source": [
        "Optionally optimize the table for best performance.<p> Wait for the <code>ALTER TABLE</code> commands to finish before running the <code>OPTIMIZE</code> command."
      ],
      "id": "cf077539"
    },
    {
      "cell_type": "code",
      "execution_count": 5,
      "metadata": {},
      "outputs": [],
      "source": [
        "%%sql\n",
        "OPTIMIZE TABLE video_games FULL;"
      ],
      "id": "ad07912c"
    },
    {
      "attachments": {},
      "cell_type": "markdown",
      "metadata": {},
      "source": [
        "## 4. Similarity search.\n",
        "\n",
        "Similarity search finds a set of vectors that are most similar to a query vector. This example finds vectors representing paragraphs that are similar to a vector about the Mario Kart Game. The vector for the first paragraph about Mario Kart as our query vector. This is a good semantic query vector for Mario Kart.\n",
        "\n",
        "To find the most similar vectors in a query vector, use an <code>ORDER BY\u2026 LIMIT\u2026</code> query. The <code>ORDER BY</code> command will arrange the vectors by their similarity score produced by a vector similarity function, with the closest matches at the top.\n",
        "\n",
        "The SQL below finds three paragraphs that are the most similar to the first paragraph about Mario Kart, a semantic similarity search for information about Mario Kart."
      ],
      "id": "164c2cf0"
    },
    {
      "cell_type": "code",
      "execution_count": 6,
      "metadata": {},
      "outputs": [],
      "source": [
        "%%sql\n",
        "SET @v_mario_kart = (SELECT v FROM video_games\n",
        "         WHERE URL = \"https://en.wikipedia.org/wiki/Super_Mario_Kart\"\n",
        "         ORDER BY id LIMIT 1);\n",
        "\n",
        "SELECT id, paragraph, v <*> @v_mario_kart AS SCORE\n",
        "FROM video_games\n",
        "ORDER BY score DESC\n",
        "LIMIT 3;"
      ],
      "id": "54acdc4b"
    },
    {
      "attachments": {},
      "cell_type": "markdown",
      "metadata": {},
      "source": [
        "## 5. Hybrid search.\n",
        "\n",
        "Hybrid Search combines multiple search methods in one query and blends full-text search (which finds keyword matches) and vector search (which finds semantic matches) allowing search results to be (re-)ranked by a score that combines full-text and vector rankings."
      ],
      "id": "637a88b9"
    },
    {
      "cell_type": "code",
      "execution_count": 7,
      "metadata": {},
      "outputs": [],
      "source": [
        "%%sql\n",
        "SET @v_mario_kart = (SELECT v FROM video_games\n",
        "         WHERE URL = \"https://en.wikipedia.org/wiki/Super_Mario_Kart\"\n",
        "         ORDER BY id LIMIT 1);\n",
        "\n",
        "WITH fts AS (\n",
        " SELECT id, paragraph,\n",
        "   MATCH(paragraph) AGAINST(\"mario kart\") AS SCORE\n",
        " FROM video_games\n",
        " WHERE MATCH(paragraph) AGAINST(\"mario kart\")\n",
        " ORDER BY SCORE desc\n",
        " LIMIT 200\n",
        "),\n",
        "vs AS (\n",
        " SELECT id, paragraph, v <*> @v_mario_kart AS SCORE\n",
        " FROM video_games\n",
        " ORDER BY score DESC\n",
        " LIMIT 200\n",
        ")\n",
        "SELECT vs.id, SUBSTRING(vs.paragraph,0,25),\n",
        "     FORMAT(IFNULL(fts.score, 0) * .3\n",
        "            + IFNULL(vs.score, 0) * .7, 4) AS score,\n",
        "     FORMAT(fts.score, 4) AS fts_s,\n",
        "     FORMAT(vs.score, 4) AS vs_s\n",
        "FROM fts FULL OUTER JOIN vs ON fts.id = vs.id\n",
        "ORDER BY score DESC\n",
        "LIMIT 5;"
      ],
      "id": "33a0455f"
    },
    {
      "attachments": {},
      "cell_type": "markdown",
      "metadata": {},
      "source": [
        "## 6. Clean up."
      ],
      "id": "f9539b11"
    },
    {
      "attachments": {},
      "cell_type": "markdown",
      "metadata": {},
      "source": [
        "The command below will drop the table created as part of this notebook. Dropping this table will allow you to rerun the notebook from the beginning."
      ],
      "id": "cbd6de3f"
    },
    {
      "cell_type": "code",
      "execution_count": 8,
      "metadata": {},
      "outputs": [],
      "source": [
        "%%sql\n",
        "DROP PIPELINE wiki_pipeline;\n",
        "\n",
        "DROP TABLE video_games;"
      ],
      "id": "4c842df6"
    },
    {
      "id": "1093f40b",
      "cell_type": "markdown",
      "metadata": {},
      "source": [
        "<div id=\"singlestore-footer\" style=\"background-color: rgba(194, 193, 199, 0.25); height:2px; margin-bottom:10px\"></div>\n",
        "<div><img src=\"https://raw.githubusercontent.com/singlestore-labs/spaces-notebooks/master/common/images/singlestore-logo-grey.png\" style=\"padding: 0px; margin: 0px; height: 24px\"/></div>"
      ]
    }
  ],
  "metadata": {
    "jupyterlab": {
      "notebooks": {
        "version_major": 6,
        "version_minor": 4
      }
    },
    "kernelspec": {
      "display_name": "Python 3 (ipykernel)",
      "language": "python",
      "name": "python3"
    },
    "language_info": {
      "codemirror_mode": {
        "name": "ipython",
        "version": 3
      },
      "file_extension": ".py",
      "mimetype": "text/x-python",
      "name": "python",
      "nbconvert_exporter": "python",
      "pygments_lexer": "ipython3",
      "version": "3.11.6"
    }
  },
  "nbformat": 4,
  "nbformat_minor": 5
}
