{
  "cells": [
    {
      "id": "c55dedcc",
      "cell_type": "markdown",
      "metadata": {},
      "source": [
        "<div id=\"singlestore-header\" style=\"display: flex; background-color: rgba(235, 249, 245, 0.25); padding: 5px;\">\n",
        "    <div id=\"icon-image\" style=\"width: 90px; height: 90px;\">\n",
        "        <img width=\"100%\" height=\"100%\" src=\"https://raw.githubusercontent.com/singlestore-labs/spaces-notebooks/master/common/images/header-icons/database.png\" />\n",
        "    </div>\n",
        "    <div id=\"text\" style=\"padding: 5px; margin-left: 10px;\">\n",
        "        <div id=\"badge\" style=\"display: inline-block; background-color: rgba(0, 0, 0, 0.15); border-radius: 4px; padding: 4px 8px; align-items: center; margin-top: 6px; margin-bottom: -2px; font-size: 80%\">SingleStore Notebooks</div>\n",
        "        <h1 style=\"font-weight: 500; margin: 8px 0 0 4px;\">Importing Data from S3 into SingleStore using Pipelines</h1>\n",
        "    </div>\n",
        "</div>"
      ]
    },
    {
      "id": "e8bf6bf1",
      "cell_type": "markdown",
      "metadata": {},
      "source": [
        "<div class=\"alert alert-block alert-warning\">\n",
        "    <b class=\"fa fa-solid fa-exclamation-circle\"></b>\n",
        "    <div>\n",
        "        <p><b>Note</b></p>\n",
        "        <p>This notebook can be run on a Free Starter Workspace. To create a Free Starter Workspace navigate to <tt>Start</tt> using the left nav. You can also use your existing Standard or Premium workspace with this Notebook.</p>\n",
        "    </div>\n",
        "</div>"
      ]
    },
    {
      "attachments": {},
      "cell_type": "markdown",
      "id": "4b3c156d",
      "metadata": {},
      "source": [
        "<div class=\"alert alert-block alert-warning\">\n",
        "    <b class=\"fa fa-solid fa-exclamation-circle\"></b>\n",
        "    <div>\n",
        "        <p><b>Input Credentials</b></p>\n",
        "        <p>Define the <b>URL</b>, <b>REGION</b>, <b>ACCESS_KEY</b>, and <b>SECRET_ACCESS_KEY</b> variables below for integration, replacing the placeholder values with your own.</p>\n",
        "    </div>\n",
        "</div>"
      ]
    },
    {
      "cell_type": "code",
      "execution_count": 1,
      "id": "80939f42",
      "metadata": {},
      "outputs": [],
      "source": [
        "URL = 's3://your-bucket-name/your-data-file.csv'\n",
        "REGION = 'your-region'\n",
        "ACCESS_KEY = 'access_key_id'\n",
        "SECRET_ACCESS_KEY = 'access_secret_key'"
      ]
    },
    {
      "cell_type": "markdown",
      "id": "64fdd646",
      "metadata": {},
      "source": [
        "This notebook demonstrates how to create a sample table in SingleStore, set up a pipeline to import data from an Amazon S3 bucket, and run queries on the imported data. It is designed for users who want to integrate S3 data with SingleStore and explore the capabilities of pipelines for efficient data ingestion."
      ]
    },
    {
      "attachments": {},
      "cell_type": "markdown",
      "id": "85c97bbb",
      "metadata": {},
      "source": [
        "<h3>Pipeline Flow Illustration</h3>"
      ]
    },
    {
      "attachments": {},
      "cell_type": "markdown",
      "id": "7b97f983",
      "metadata": {},
      "source": [
        "<img src=https://singlestoreloaddata.s3.ap-south-1.amazonaws.com/images/LoadDataCSV.png width=\"100%\" hight=\"50%\"/>"
      ]
    },
    {
      "attachments": {},
      "cell_type": "markdown",
      "id": "d1ea9458",
      "metadata": {},
      "source": [
        "##  Creating Table in SingleStore\n",
        "\n",
        "Start by creating a table that will hold the data imported from S3."
      ]
    },
    {
      "cell_type": "code",
      "execution_count": 2,
      "id": "66eb1b49",
      "metadata": {},
      "outputs": [],
      "source": [
        "%%sql\n",
        "/* Feel free to change table name and schema */\n",
        "\n",
        "CREATE TABLE IF NOT EXISTS my_table (\n",
        "    id INT,\n",
        "    name VARCHAR(255),\n",
        "    age INT,\n",
        "    address TEXT,\n",
        "    created_at TIMESTAMP\n",
        ");"
      ]
    },
    {
      "attachments": {},
      "cell_type": "markdown",
      "id": "3704a19a",
      "metadata": {},
      "source": [
        "## Create a Pipeline to Import Data from S3\n",
        "\n",
        "You'll need to create a pipeline that pulls data from an S3 bucket into this table. This example assumes you have a CSV file in your S3 bucket.\n",
        "\n",
        "<i>Ensure that:\n",
        "You have access to the S3 bucket.\n",
        "Proper IAM roles or access keys are configured in SingleStore.\n",
        "The CSV file has a structure that matches the table schema.</i>"
      ]
    },
    {
      "attachments": {},
      "cell_type": "markdown",
      "id": "83a75641",
      "metadata": {},
      "source": [
        "Using these identifiers and keys, execute the following statement."
      ]
    },
    {
      "cell_type": "code",
      "execution_count": 3,
      "id": "e88495e2",
      "metadata": {},
      "outputs": [],
      "source": [
        "%%sql\n",
        "CREATE PIPELINE s3_import_pipeline\n",
        "AS LOAD DATA S3 '{{URL}}'\n",
        "CONFIG '{\\\"REGION\\\":\\\"{{REGION}}\\\"}'\n",
        "CREDENTIALS '{\\\"AWS_ACCESS_KEY_ID\\\": \\\"{{ACCESS_KEY}}\\\",\n",
        "               \\\"AWS_SECRET_ACCESS_KEY\\\": \\\"{{SECRET_ACCESS_KEY}}\\\"}'\n",
        "INTO TABLE my_table\n",
        "FIELDS TERMINATED BY ',' OPTIONALLY ENCLOSED BY '\\\"'\n",
        "LINES TERMINATED BY '\\n'\n",
        "IGNORE 1 lines;"
      ]
    },
    {
      "attachments": {},
      "cell_type": "markdown",
      "id": "08781117",
      "metadata": {},
      "source": [
        "## Start the Pipeline\n",
        "\n",
        "To start the pipeline and begin importing the data from the S3 bucket:"
      ]
    },
    {
      "cell_type": "code",
      "execution_count": 4,
      "id": "adb89dc1",
      "metadata": {},
      "outputs": [],
      "source": [
        "%%sql\n",
        "START PIPELINE s3_import_pipeline;"
      ]
    },
    {
      "attachments": {},
      "cell_type": "markdown",
      "id": "15275805",
      "metadata": {},
      "source": [
        "## Select Data from the Table\n",
        "\n",
        "Once the data has been imported, you can run a query to select it:"
      ]
    },
    {
      "cell_type": "code",
      "execution_count": 5,
      "id": "f2855248",
      "metadata": {},
      "outputs": [],
      "source": [
        "%%sql\n",
        "SELECT * FROM my_table LIMIT 10;"
      ]
    },
    {
      "attachments": {},
      "cell_type": "markdown",
      "id": "ea34b089",
      "metadata": {},
      "source": [
        "### Check if all data of the data is loaded"
      ]
    },
    {
      "cell_type": "code",
      "execution_count": 6,
      "id": "4e9023e8",
      "metadata": {},
      "outputs": [],
      "source": [
        "%%sql\n",
        "SELECT count(*) FROM my_table"
      ]
    },
    {
      "attachments": {},
      "cell_type": "markdown",
      "id": "236cb111",
      "metadata": {},
      "source": [
        "## Conclusion\n",
        "\n",
        "We have shown how to insert data from a Amazon S3 using `Pipelines` to SingleStoreDB. These techniques should enable you to\n",
        "integrate your Amazon S3 with SingleStoreDB."
      ]
    },
    {
      "attachments": {},
      "cell_type": "markdown",
      "id": "6d195418",
      "metadata": {},
      "source": [
        "## Clean up\n",
        "\n",
        "Remove the '#' to uncomment and execute the queries below to clean up the pipeline and table created."
      ]
    },
    {
      "attachments": {},
      "cell_type": "markdown",
      "id": "8eafa43e",
      "metadata": {},
      "source": [
        "#### Drop Pipeline"
      ]
    },
    {
      "cell_type": "code",
      "execution_count": 7,
      "id": "451e80c9",
      "metadata": {},
      "outputs": [],
      "source": [
        "%%sql\n",
        "#STOP PIPELINE s3_import_pipeline;\n",
        "\n",
        "#DROP PIPELINE s3_import_pipeline;"
      ]
    },
    {
      "attachments": {},
      "cell_type": "markdown",
      "id": "ae825668",
      "metadata": {},
      "source": [
        "#### Drop Data"
      ]
    },
    {
      "cell_type": "code",
      "execution_count": 8,
      "id": "3c4b631d",
      "metadata": {},
      "outputs": [],
      "source": [
        "%%sql\n",
        "#DROP TABLE my_table;"
      ]
    },
    {
      "id": "89365517",
      "cell_type": "markdown",
      "metadata": {},
      "source": [
        "<div id=\"singlestore-footer\" style=\"background-color: rgba(194, 193, 199, 0.25); height:2px; margin-bottom:10px\"></div>\n",
        "<div><img src=\"https://raw.githubusercontent.com/singlestore-labs/spaces-notebooks/master/common/images/singlestore-logo-grey.png\" style=\"padding: 0px; margin: 0px; height: 24px\"/></div>"
      ]
    }
  ],
  "metadata": {
    "jupyterlab": {
      "notebooks": {
        "version_major": 6,
        "version_minor": 4
      }
    },
    "kernelspec": {
      "display_name": "Python 3 (ipykernel)",
      "language": "python",
      "name": "python3"
    },
    "language_info": {
      "codemirror_mode": {
        "name": "ipython",
        "version": 3
      },
      "file_extension": ".py",
      "mimetype": "text/x-python",
      "name": "python",
      "nbconvert_exporter": "python",
      "pygments_lexer": "ipython3",
      "version": "3.11.6"
    }
  },
  "nbformat": 4,
  "nbformat_minor": 5
}
