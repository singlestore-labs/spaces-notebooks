{
  "cells": [
    {
      "cell_type": "markdown",
      "id": "caa4ce39-2f84-48b7-92b5-dccf6bede32b",
      "metadata": {},
      "source": [
        "<div id=\"singlestore-header\" style=\"display: flex; background-color: rgba(235, 249, 245, 0.25); padding: 5px;\">\n",
        "    <div id=\"icon-image\" style=\"width: 90px; height: 90px;\">\n",
        "        <img width=\"100%\" height=\"100%\" src=\"https://raw.githubusercontent.com/singlestore-labs/spaces-notebooks/master/common/images/header-icons/browser.png\" />\n",
        "    </div>\n",
        "    <div id=\"text\" style=\"padding: 5px; margin-left: 10px;\">\n",
        "        <div id=\"badge\" style=\"display: inline-block; background-color: rgba(0, 0, 0, 0.15); border-radius: 4px; padding: 4px 8px; align-items: center; margin-top: 6px; margin-bottom: -2px; font-size: 80%\">SingleStore Notebooks</div>\n",
        "        <h1 style=\"font-weight: 500; margin: 8px 0 0 4px;\">Getting Started with DataFrames in SingleStoreDB</h1>\n",
        "    </div>\n",
        "</div>"
      ]
    },
    {
      "cell_type": "markdown",
      "id": "8d01d69e-f7d4-4efc-815f-148e0c099b90",
      "metadata": {},
      "source": [
        "SingleStoreDB supports a backend for the [Ibis](https://ibis-project.org) to\n",
        "create a pandas `DataFrame`-like experience while use the power of a distributed database on the\n",
        "backend. When interacting with Ibis objects, expressions are built of the operations rather\n",
        "than executing them instantly. Once you reach the point where you want to see the results of\n",
        "the operations, you call the `.execute()` method which constructs a SQL query and submits it\n",
        "to the SingleStoreDB server. The results then come back as a local pandas `DataFrame` or `Series`.\n",
        "The entire workflow gives the feel of working with pandas `DataFrames` while giving you the\n",
        "ability to work with much larger data sets.\n",
        "\n",
        "In the SingleStore Cloud environment, all of the needed Python packages are already installed.\n",
        "To run this notebook outside of that environment, you will need to install:\n",
        "\n",
        "```\n",
        "pip install 'singlestoredb[dataframe]'\n",
        "```\n",
        "\n",
        "The above will install the SingleStoreDB Python client, the SingleStoreDB SQLAlchemy dialect,\n",
        "and the SingleStoreDB Ibis backend."
      ]
    },
    {
      "cell_type": "code",
      "execution_count": 1,
      "id": "e388a2f8-1c79-4163-9a87-aaea862e5199",
      "metadata": {},
      "outputs": [],
      "source": [
        "import ibis\n",
        "import pandas as pd"
      ]
    },
    {
      "cell_type": "markdown",
      "id": "49612202-48ef-4d8a-8e7f-f5728c5142aa",
      "metadata": {},
      "source": [
        "We'll set up a few options to make the notebook nicer to use, including the display width of DataFrames and enabling the interactive features\n",
        "of the Ibis package. The primary purpose of the `interactive` option is so that you don't have to manually run the `execute` method on expressions\n",
        "to see the results. In our notebook, the `execute` method will be called implicitly each time an Ibis expression is rendered by the notebook."
      ]
    },
    {
      "cell_type": "code",
      "execution_count": 2,
      "id": "39cfa389-721a-4044-8f12-38bf06701bb1",
      "metadata": {},
      "outputs": [],
      "source": [
        "pd.options.display.max_colwidth = 120\n",
        "ibis.options.verbose = False\n",
        "ibis.options.interactive = True"
      ]
    },
    {
      "cell_type": "markdown",
      "id": "a3cc67a9-310f-42e2-9d9a-bbe160a588f3",
      "metadata": {},
      "source": [
        "## Create a database"
      ]
    },
    {
      "cell_type": "code",
      "execution_count": 3,
      "id": "944f4396-0fb6-4cc9-8a5c-fc7b9d450481",
      "metadata": {},
      "outputs": [],
      "source": [
        "%%sql\n",
        "DROP DATABASE IF EXISTS ibis_getting_started;\n",
        "\n",
        "CREATE DATABASE ibis_getting_started;"
      ]
    },
    {
      "cell_type": "markdown",
      "id": "e6742659-7213-4e00-8da6-2f10cf9c7d22",
      "metadata": {},
      "source": [
        "<div class=\"alert alert-block alert-warning\">\n",
        "    <b class=\"fa fa-solid fa-exclamation-circle\"></b>\n",
        "    <div>\n",
        "        <p><b>Action Required</b></p>\n",
        "        <p>Make sure to select the <tt>ibis_getting_started</tt> database from the drop-down menu at the top of this notebook.\n",
        "        It updates the <tt>connection_url</tt> to connect to that database.</p>\n",
        "    </div>\n",
        "</div>"
      ]
    },
    {
      "cell_type": "markdown",
      "id": "d185e3b6-b8b1-4fcd-be2f-c5b638f4ec9b",
      "metadata": {},
      "source": [
        "## Make a connection using Ibis\n",
        "\n",
        "Connections to Ibis are made through the `ibis.singlestoredb` method. The connection parameters can be given using either the suggested Python DB-API\n",
        "parameters (i.e., host=, user=, port=, etc.) or as a SQLAlchemy URL (e.g., user:password@host:port/database). In this case, we are getting the username and password from the environment variable `SINGLESTOREDB_URL` which is supplied by the\n",
        "SingleStore notebook environment."
      ]
    },
    {
      "cell_type": "code",
      "execution_count": 4,
      "id": "18fef268-343d-47d9-bbf8-9693cea73a16",
      "metadata": {},
      "outputs": [],
      "source": [
        "conn = ibis.singlestoredb.connect()"
      ]
    },
    {
      "cell_type": "markdown",
      "id": "baa19853-0d9b-45b2-908a-a1b92de08f97",
      "metadata": {},
      "source": [
        "## Phone review data example\n",
        "\n",
        "Our first example will use customer review data for phones. It includes information such as a reviewer name, the text of the review, a short summary\n",
        "of the review, a numeric rating from 1 to 5, and the date of the review. We'll first read the data into a local pandas DataFrame to do some\n",
        "cleanup, then upload it to the database to demonstrate the SingleStoreDB package capabilities"
      ]
    },
    {
      "cell_type": "markdown",
      "id": "d10f036f-6519-4b52-b671-aa4e806927cf",
      "metadata": {},
      "source": [
        "### Read sample data into pandas DataFrame\n",
        "\n",
        "We will read the data for this example directly from a Github repository using a URL in the `pd.read_csv` function.\n",
        "The result will be a pandas `DataFrame`. We will upload the data to the server in a later step."
      ]
    },
    {
      "cell_type": "code",
      "execution_count": 5,
      "id": "bce0e67d-f9e3-4c29-a21a-0ad6e84e05c8",
      "metadata": {},
      "outputs": [],
      "source": [
        "phones_df = pd.read_csv('https://raw.githubusercontent.com/singlestore-labs/ibis-singlestoredb/main/examples/phones.csv')\n",
        "phones_df.head(3)"
      ]
    },
    {
      "cell_type": "markdown",
      "id": "4c6a0e46-0710-44dc-a826-27d8442273b0",
      "metadata": {},
      "source": [
        "We can see the column types using the `info` method. As you can see, there are two date columns, neither of which is in a convenient\n",
        "format for use as a date. We'll first create an actual datetime column from those and drop the original columns."
      ]
    },
    {
      "cell_type": "code",
      "execution_count": 6,
      "id": "e8195553-9c4b-4322-a55a-7b2f7eb331a9",
      "metadata": {},
      "outputs": [],
      "source": [
        "phones_df.info()"
      ]
    },
    {
      "cell_type": "markdown",
      "id": "59ae51ff-7fef-4ccd-a84e-a4c5ba8952c6",
      "metadata": {},
      "source": [
        "### Upload the data to the server\n",
        "\n",
        "Now that we have some data to work with, we can upload it to the server using the `create_table` method. This method allows you to upload\n",
        "data from a local `DataFrame` or materialize a table from an Ibis table expression."
      ]
    },
    {
      "cell_type": "code",
      "execution_count": 7,
      "id": "e549d41d-6b42-4f3a-a0a1-2cdbbc60178e",
      "metadata": {},
      "outputs": [],
      "source": [
        "conn.create_table?"
      ]
    },
    {
      "cell_type": "markdown",
      "id": "e3e9d2ec-a30c-4280-a05b-88aa5b34a7bb",
      "metadata": {},
      "source": [
        "The code below will create the table in the server from the given `DataFrame`. The data types for the database table will be inferred from\n",
        "the `DataFrame` data types. The `overwrite=True` is merely used here in case you run the notebook code multiple times against the same\n",
        "database. It will cause an existing `phones` table to be overwritten if it already exists."
      ]
    },
    {
      "cell_type": "code",
      "execution_count": 8,
      "id": "987d9e59-09e3-46f5-9487-da21b9975eba",
      "metadata": {},
      "outputs": [],
      "source": [
        "phones_tbl = conn.create_table('phones', phones_df, overwrite=True)\n",
        "phones_tbl.head(3)"
      ]
    },
    {
      "cell_type": "markdown",
      "id": "2e95fef6-a6f3-4f9d-9338-efc0f8807c48",
      "metadata": {},
      "source": [
        "We can get information about the table in the server by using the `info` method, just as you would with a local pandas `DataFrame`."
      ]
    },
    {
      "cell_type": "code",
      "execution_count": 9,
      "id": "c3770704-41b0-4a99-b639-5e8242e952ec",
      "metadata": {},
      "outputs": [],
      "source": [
        "phones_tbl.info()"
      ]
    },
    {
      "cell_type": "markdown",
      "id": "76309280-afb7-46e6-91c9-f84fdc4ed7a7",
      "metadata": {},
      "source": [
        "Here is the `CREATE TABLE` statement resulting from the data upload step. The `show` attribute of the connection gives access to all of\n",
        "the `SHOW` commands in the database such as `functions`, `create_function`, `status`, `databases`, and so on."
      ]
    },
    {
      "cell_type": "code",
      "execution_count": 10,
      "id": "d63e3978-33ab-4154-a31a-367bf52aa3a9",
      "metadata": {},
      "outputs": [],
      "source": [
        "ct = conn.show.create_table('phones')\n",
        "ct"
      ]
    },
    {
      "cell_type": "markdown",
      "id": "d36dfb66-d7d5-4343-850d-8060da9a0b7c",
      "metadata": {},
      "source": [
        "To print this a nicer way, we'll just display the `CreateTable` column of the first result row."
      ]
    },
    {
      "cell_type": "code",
      "execution_count": 11,
      "id": "8e5bd287-9ab3-4236-827b-16951b5b2039",
      "metadata": {},
      "outputs": [],
      "source": [
        "print(ct[0]['CreateTable'])"
      ]
    },
    {
      "cell_type": "markdown",
      "id": "887e730f-e7da-4078-a9d9-1fbbe4435a47",
      "metadata": {},
      "source": [
        "### Convert review date / time columns\n",
        "\n",
        "This data set has a less than optimal way of storing the dates of the reviews. It has two columns that contain the same information and the review time, and neither\n",
        "of them is convenient to work with. Let's create a new column that contains the date in a timestamp column. To do that, we simply cast the\n",
        "existing `unixReviewTime` column to a timestamp type. We'll also use the `name` method to assign a name to the resulting column expression."
      ]
    },
    {
      "cell_type": "code",
      "execution_count": 12,
      "id": "3a37d8f0-815a-4b5e-9cfe-11a31de6e0a3",
      "metadata": {},
      "outputs": [],
      "source": [
        "date = phones_tbl.unixReviewTime.cast('timestamp').name('date')\n",
        "date"
      ]
    },
    {
      "cell_type": "markdown",
      "id": "7718eb94-0e45-4545-a5e3-f90ee4816775",
      "metadata": {},
      "source": [
        "The `overall` rating column was uploaded as floating point data, but it only contains integers. Let's cast that to an integer."
      ]
    },
    {
      "cell_type": "code",
      "execution_count": 13,
      "id": "1443148f-dc1b-4c04-b5b2-c182edbd601d",
      "metadata": {},
      "outputs": [],
      "source": [
        "overall = phones_tbl.overall.cast('int').name('overall')\n",
        "overall"
      ]
    },
    {
      "cell_type": "markdown",
      "id": "51a81952-0045-4a7e-ad5d-e8d3fa3e2b4c",
      "metadata": {},
      "source": [
        "Now that we have our two processed columns, we can remove the old columns we don't need anymore and insert our\n",
        "new columns expressions with the cleaned data."
      ]
    },
    {
      "cell_type": "code",
      "execution_count": 14,
      "id": "53386ec8-05d7-40c9-83c6-037d815b9367",
      "metadata": {},
      "outputs": [],
      "source": [
        "columns = [x for x in phones_tbl.columns if 'Time' not in x and x != 'overall'] + [overall, date]"
      ]
    },
    {
      "cell_type": "code",
      "execution_count": 15,
      "id": "3a27de1c-5f1b-4af1-af9a-2423fe9fc7d1",
      "metadata": {},
      "outputs": [],
      "source": [
        "phones_tbl = phones_tbl[columns]\n",
        "phones_tbl"
      ]
    },
    {
      "cell_type": "markdown",
      "id": "4847b100-1322-47dc-a216-a3a82371fde3",
      "metadata": {},
      "source": [
        "The `phones_tbl` object now contains both references to actual columns in the `phones` table as well as computed expressions.\n",
        "It can be thought of as a client-side view object, but still works the same way as our original table. We can use the `info`\n",
        "method to show the schema information."
      ]
    },
    {
      "cell_type": "code",
      "execution_count": 16,
      "id": "f6da4b8a-9bf4-46a7-b4f9-4348829b6ab2",
      "metadata": {},
      "outputs": [],
      "source": [
        "phones_tbl.info()"
      ]
    },
    {
      "cell_type": "markdown",
      "id": "160dfb54-511c-47af-b127-d7fd48f23975",
      "metadata": {},
      "source": [
        "It's also possible to access the schema information for traversing progamatically using the `schema` method of the table."
      ]
    },
    {
      "cell_type": "code",
      "execution_count": 17,
      "id": "d8a40ddb-6f7c-4ec0-bba9-7d91414e3a88",
      "metadata": {},
      "outputs": [],
      "source": [
        "phones_tbl.schema()"
      ]
    },
    {
      "cell_type": "markdown",
      "id": "9719ecb7-9d8d-4639-a797-fc0297533791",
      "metadata": {},
      "source": [
        "Here are the public methods / attributes of the `Schema` object."
      ]
    },
    {
      "cell_type": "code",
      "execution_count": 18,
      "id": "0b724536-5282-4a00-8a77-c07a753cf240",
      "metadata": {},
      "outputs": [],
      "source": [
        "for name in dir(phones_tbl.schema()):\n",
        "    if not name.startswith('_'):\n",
        "        print(name)"
      ]
    },
    {
      "cell_type": "markdown",
      "id": "1595b069-95b6-4c4c-b8fb-6590ae7b45a8",
      "metadata": {},
      "source": [
        "### Create a table from a table expression\n",
        "\n",
        "As mentioned earlier, the `create_table` method can be used to create tables in the database from Ibis table\n",
        "expressions. That means that we can materialize our new table into the database if we so desire. This simply\n",
        "selects data from an expression into a new table, no work is being done on the client side."
      ]
    },
    {
      "cell_type": "code",
      "execution_count": 19,
      "id": "f427c60c-2fdd-4874-a219-38b27759f86d",
      "metadata": {},
      "outputs": [],
      "source": [
        "tbl_2 = conn.create_table('phones2', phones_tbl, overwrite=True)\n",
        "tbl_2"
      ]
    },
    {
      "cell_type": "code",
      "execution_count": 20,
      "id": "60a0dfb0-a8c0-4047-8658-858f79e90a02",
      "metadata": {},
      "outputs": [],
      "source": [
        "conn.show.tables()"
      ]
    },
    {
      "cell_type": "code",
      "execution_count": 21,
      "id": "03fe4942-f3e7-4d2c-96ad-721bed730c8f",
      "metadata": {},
      "outputs": [],
      "source": [
        "tbl_2.info()"
      ]
    },
    {
      "cell_type": "code",
      "execution_count": 22,
      "id": "e91d0901-6031-4ffe-b485-d167bdfa15c1",
      "metadata": {},
      "outputs": [],
      "source": [
        "conn.show.create_table('phones2')"
      ]
    },
    {
      "cell_type": "markdown",
      "id": "b4425759-a20e-41dd-84c8-8ae89ab65f15",
      "metadata": {},
      "source": [
        "Tables can also be dropped using the `drop_table` method."
      ]
    },
    {
      "cell_type": "code",
      "execution_count": 23,
      "id": "cbeac008-f266-44ab-aef4-78142cf45ef6",
      "metadata": {},
      "outputs": [],
      "source": [
        "conn.drop_table('phones2')"
      ]
    },
    {
      "cell_type": "markdown",
      "id": "c7befbbf-c24c-41ed-a685-ad7c5e8da16b",
      "metadata": {},
      "source": [
        "### DataFrame operations"
      ]
    },
    {
      "cell_type": "markdown",
      "id": "b79ba74b-b713-4981-b657-6a128b61c8e1",
      "metadata": {},
      "source": [
        "Now that we have a table in the database and a `DataFrame`-like obect connected to it, let's do some operations with the data. For this example,\n",
        "we'll enable the `verbose` option in Ibis. This will display the SQL code that is sent to the server when evaluating the expression. In this\n",
        "example, we are building a sentence from various columns in the data table. We are using the reviewer name (which is capitalized), the summary,\n",
        "and the overall rating (which is cast to a string). All of these are concatenated together using the `+` as you normally would when\n",
        "concatenating strings in Python."
      ]
    },
    {
      "cell_type": "code",
      "execution_count": 24,
      "id": "7d5d4e1d-ac82-42ee-926c-e7afb73db3f8",
      "metadata": {},
      "outputs": [],
      "source": [
        "# Enable display of SQL that is executed in the background\n",
        "ibis.options.verbose = True\n",
        "\n",
        "texpr = (phones_tbl.reviewerName.capitalize() + \\\n",
        "         ' says \"' + \\\n",
        "         phones_tbl.summary + \\\n",
        "         '\" and gives it ' + \\\n",
        "         phones_tbl.overall.cast('string') + \\\n",
        "         ' stars.').name('Review Summary')\n",
        "texpr"
      ]
    },
    {
      "cell_type": "markdown",
      "id": "f546bca3-5d61-48df-b178-c9fca4356e5f",
      "metadata": {},
      "source": [
        "As you can see from the SQL output above, the sentence is constructed using `concat` in the query. Capitalization is done using `ucase` and `substring`.\n",
        "The `:param_#` portions are used by Ibis to inject literal Python values from the expression. And, you'll see that the result table contains a column\n",
        "of string values that are the result of the expression."
      ]
    },
    {
      "cell_type": "markdown",
      "id": "6475b645-7620-401d-8da4-99594a67895f",
      "metadata": {},
      "source": [
        "#### String operations\n",
        "\n",
        "There are many string operations available in Ibis. Many of them correspond to operations on pandas DataFrames and / or Python string methods.\n",
        "The code below prints a list of all methods on string columns."
      ]
    },
    {
      "cell_type": "code",
      "execution_count": 25,
      "id": "649d054f-ad0b-43e3-91c3-25ff4915f25a",
      "metadata": {},
      "outputs": [],
      "source": [
        "for x in dir(texpr):\n",
        "    if not x.startswith('_'):\n",
        "        print(x)"
      ]
    },
    {
      "cell_type": "markdown",
      "id": "87837e24-c8ad-4b88-ad69-9527b56677f9",
      "metadata": {},
      "source": [
        "#### Operations on other column types\n",
        "\n",
        "Other data types have different methods that can be called. For example, this is the list of methods on date/time columns."
      ]
    },
    {
      "cell_type": "code",
      "execution_count": 26,
      "id": "a5d65bdd-bcd8-43a8-b351-0d2492320ec7",
      "metadata": {},
      "outputs": [],
      "source": [
        "for x in dir(phones_tbl.date):\n",
        "    if not x.startswith('_'):\n",
        "        print(x)"
      ]
    },
    {
      "cell_type": "markdown",
      "id": "6d292dc6-72cc-4abf-8cb0-b0434f15c5e4",
      "metadata": {},
      "source": [
        "Here are the methods for numeric columns."
      ]
    },
    {
      "cell_type": "code",
      "execution_count": 27,
      "id": "9d540c05-f7e0-4bfa-9508-2f25176f5ec7",
      "metadata": {},
      "outputs": [],
      "source": [
        "for x in dir(phones_tbl.overall):\n",
        "    if not x.startswith('_'):\n",
        "        print(x)"
      ]
    },
    {
      "cell_type": "code",
      "execution_count": 28,
      "id": "f5624059-dc62-4405-bb22-34269fb2c44e",
      "metadata": {},
      "outputs": [],
      "source": [
        "ibis.options.verbose = False"
      ]
    },
    {
      "cell_type": "markdown",
      "id": "8a24fd59-159b-4ef6-bd55-35ec71ac4089",
      "metadata": {},
      "source": [
        "### Filter reviews containing \"iphone 4\"\n",
        "\n",
        "Now that we've seen how to construct expressions that can be used in the database, let's use that expression for use in further queries.\n",
        "The expression below takes the result of our previous expression, lower-cases it, then checks for the occurrence of the substring\n",
        "\"iphone 4\". This will return a column of booleans which can be used to filter our original table, just like with a pandas DataFrame."
      ]
    },
    {
      "cell_type": "code",
      "execution_count": 29,
      "id": "6251e20b-f0e6-4368-aff2-3191b3cf5611",
      "metadata": {},
      "outputs": [],
      "source": [
        "has_iphone_4 = texpr.lower().contains('iphone 4').name('Has iPhone 4')\n",
        "has_iphone_4"
      ]
    },
    {
      "cell_type": "markdown",
      "id": "6f2fe329-fbcd-401d-9acb-472fd1b49ce6",
      "metadata": {},
      "source": [
        "First, let's use the filter expression to see how many of our generated sentences contain \"iphone 4\". We do this by using our previous\n",
        "expression as an indexing expression to our original table object (e.g., `tbl[filter-expr]`). This will return only the rows where\n",
        "the filter expression was `True`. We can then count the number of rows using the `count` method."
      ]
    },
    {
      "cell_type": "code",
      "execution_count": 30,
      "id": "ba0b72a1-bcd1-4021-8312-894493d1d8e6",
      "metadata": {},
      "outputs": [],
      "source": [
        "phones_tbl[has_iphone_4].count()"
      ]
    },
    {
      "cell_type": "markdown",
      "id": "80e7cf08-a3fa-421d-8c2b-aac700b1ca86",
      "metadata": {},
      "source": [
        "Now we can print selected columns from the filtered table. We can also sort them according to the `overall` column as shown below."
      ]
    },
    {
      "cell_type": "code",
      "execution_count": 31,
      "id": "2a3d6d92-4093-4837-b4da-2fb59ea313ed",
      "metadata": {},
      "outputs": [],
      "source": [
        "phones_tbl[has_iphone_4]['reviewerName', 'helpful', 'overall'].order_by(ibis.desc('overall'))"
      ]
    },
    {
      "cell_type": "markdown",
      "id": "cabaa7b9-3374-43ab-8515-dd21213a68a3",
      "metadata": {},
      "source": [
        "## Conclusion\n",
        "\n",
        "So far we've uploaded data to the database using `create_table` and a local `DataFrame`, we've constructed Python expressions that get translated\n",
        "to SQL and executed on the server, used those expressions in filtering operations, and selected columns from and sorted the results of\n",
        "the filtering operation. This covers a small number of the abilities of the table and column objects created by Ibis. For additional methods\n",
        "on the various types, see the [Ibis documentation](https://ibis-project.orghttps://ibis-project.org)."
      ]
    },
    {
      "cell_type": "code",
      "execution_count": 32,
      "id": "d5bc91c6-f65b-4479-9475-df60e0ab2088",
      "metadata": {},
      "outputs": [],
      "source": [
        "%%sql\n",
        "DROP DATABASE IF EXISTS ibis_getting_started;"
      ]
    },
    {
      "cell_type": "markdown",
      "id": "b40a7c86-2b36-4dad-a92f-d88f44410ec6",
      "metadata": {},
      "source": [
        "<div id=\"singlestore-footer\" style=\"background-color: rgba(194, 193, 199, 0.25); height:2px; margin-bottom:10px\"></div>\n",
        "<div><img src=\"https://raw.githubusercontent.com/singlestore-labs/spaces-notebooks/master/common/images/singlestore-logo-grey.png\" style=\"padding: 0px; margin: 0px; height: 24px\"/></div>"
      ]
    }
  ],
  "metadata": {
    "kernelspec": {
      "display_name": "Python 3 (ipykernel)",
      "language": "python",
      "name": "python3"
    },
    "language_info": {
      "codemirror_mode": {
        "name": "ipython",
        "version": 3
      },
      "file_extension": ".py",
      "mimetype": "text/x-python",
      "name": "python",
      "nbconvert_exporter": "python",
      "pygments_lexer": "ipython3",
      "version": "3.11.4"
    }
  },
  "nbformat": 4,
  "nbformat_minor": 5
}
