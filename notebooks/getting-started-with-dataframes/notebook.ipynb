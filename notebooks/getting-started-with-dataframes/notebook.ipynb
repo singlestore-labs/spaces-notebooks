{
  "cells": [
    {
      "id": "9b385acd",
      "cell_type": "markdown",
      "metadata": {},
      "source": [
        "<div id=\"singlestore-header\" style=\"display: flex; background-color: rgba(235, 249, 245, 0.25); padding: 5px;\">\n",
        "    <div id=\"icon-image\" style=\"width: 90px; height: 90px;\">\n",
        "        <img width=\"100%\" height=\"100%\" src=\"https://raw.githubusercontent.com/singlestore-labs/spaces-notebooks/master/common/images/header-icons/browser.png\" />\n",
        "    </div>\n",
        "    <div id=\"text\" style=\"padding: 5px; margin-left: 10px;\">\n",
        "        <div id=\"badge\" style=\"display: inline-block; background-color: rgba(0, 0, 0, 0.15); border-radius: 4px; padding: 4px 8px; align-items: center; margin-top: 6px; margin-bottom: -2px; font-size: 80%\">SingleStore Notebooks</div>\n",
        "        <h1 style=\"font-weight: 500; margin: 8px 0 0 4px;\">Getting Started with DataFrames in SingleStoreDB</h1>\n",
        "    </div>\n",
        "</div>"
      ]
    },
    {
      "id": "6fafac22",
      "cell_type": "markdown",
      "metadata": {},
      "source": [
        "<div class=\"alert alert-block alert-warning\">\n",
        "    <b class=\"fa fa-solid fa-exclamation-circle\"></b>\n",
        "    <div>\n",
        "        <p><b>Note</b></p>\n",
        "        <p>This notebook can be run on a Free Starter Workspace. To create a Free Starter Workspace navigate to <tt>Start</tt> using the left nav. You can also use your existing Standard or Premium workspace with this Notebook.</p>\n",
        "    </div>\n",
        "</div>"
      ]
    },
    {
      "cell_type": "markdown",
      "metadata": {},
      "source": [
        "SingleStoreDB supports a backend for the [Ibis](https://ibis-project.org) to\n",
        "create a pandas `DataFrame`-like experience while use the power of a distributed database on the\n",
        "backend. When interacting with Ibis objects, expressions are built of the operations rather\n",
        "than executing them instantly. Once you reach the point where you want to see the results of\n",
        "the operations, you call the `.execute()` method which constructs a SQL query and submits it\n",
        "to the SingleStoreDB server. The results then come back as a local pandas `DataFrame` or `Series`.\n",
        "The entire workflow gives the feel of working with pandas `DataFrames` while giving you the\n",
        "ability to work with much larger data sets.\n",
        "\n",
        "In the SingleStore Cloud environment, all of the needed Python packages are already installed.\n",
        "To run this notebook outside of that environment, you will need to install:\n",
        "\n",
        "```\n",
        "pip install 'singlestoredb[dataframe]'\n",
        "```\n",
        "\n",
        "The above will install the SingleStoreDB Python client, the SingleStoreDB SQLAlchemy dialect,\n",
        "and the SingleStoreDB Ibis backend."
      ],
      "id": "3ea0fdf6"
    },
    {
      "cell_type": "code",
      "execution_count": 1,
      "metadata": {},
      "outputs": [],
      "source": [
        "import ibis\n",
        "import pandas as pd"
      ],
      "id": "5fc0397a"
    },
    {
      "cell_type": "markdown",
      "metadata": {},
      "source": [
        "We'll set up a few options to make the notebook nicer to use, including the display width of DataFrames and enabling the interactive features\n",
        "of the Ibis package. The primary purpose of the `interactive` option is so that you don't have to manually run the `execute` method on expressions\n",
        "to see the results. In our notebook, the `execute` method will be called implicitly each time an Ibis expression is rendered by the notebook."
      ],
      "id": "b2c3a3b1"
    },
    {
      "cell_type": "code",
      "execution_count": 2,
      "metadata": {},
      "outputs": [],
      "source": [
        "pd.options.display.max_colwidth = 120\n",
        "ibis.options.verbose = False\n",
        "ibis.options.interactive = True"
      ],
      "id": "3dc5336b"
    },
    {
      "cell_type": "markdown",
      "metadata": {},
      "source": [
        "<div class=\"alert alert-block alert-warning\">\n",
        "    <b class=\"fa fa-solid fa-exclamation-circle\"></b>\n",
        "    <div>\n",
        "        <p><b>Action Required</b></p>\n",
        "        <p> If you have a Free Starter Workspace deployed already, select the database from drop-down menu at the top of this notebook. It updates the <tt>connection_url</tt> to connect to that database.</p>\n",
        "    </div>\n",
        "</div>"
      ],
      "id": "58cad317"
    },
    {
      "cell_type": "markdown",
      "metadata": {},
      "source": [
        "## Create a database\n",
        "If you have a Standard or Premium workspace deployment, you can create a new database to run this notebook. Running the cell below to create the new database in your existing workspace. Note: this will NOT create a new database in your Free Starter Workspace."
      ],
      "id": "d829370b"
    },
    {
      "cell_type": "code",
      "execution_count": 3,
      "metadata": {},
      "outputs": [],
      "source": [
        "shared_tier_check = %sql show variables like 'is_shared_tier'\n",
        "if not shared_tier_check or shared_tier_check[0][1] == 'OFF':\n",
        "    %sql DROP DATABASE IF EXISTS ibis_getting_started;\n",
        "    %sql CREATE DATABASE ibis_getting_started;"
      ],
      "id": "87d224f6"
    },
    {
      "cell_type": "markdown",
      "metadata": {},
      "source": [
        "<div class=\"alert alert-block alert-warning\">\n",
        "    <b class=\"fa fa-solid fa-exclamation-circle\"></b>\n",
        "    <div>\n",
        "        <p><b>Action Required</b></p>\n",
        "        <p> Make sure to select a database from the drop-down menu at the top of this notebook. It updates the <tt>connection_url</tt>  to connect to that database.</p>\n",
        "    </div>\n",
        "</div>"
      ],
      "id": "e4421df5"
    },
    {
      "cell_type": "markdown",
      "metadata": {},
      "source": [
        "## Make a connection using Ibis\n",
        "\n",
        "Connections to Ibis are made through the `ibis.singlestoredb` method. The connection parameters can be given using either the suggested Python DB-API\n",
        "parameters (i.e., host=, user=, port=, etc.) or as a SQLAlchemy URL (e.g., user:password@host:port/database). In this case, we are getting the username and password from the environment variable `SINGLESTOREDB_URL` which is supplied by the\n",
        "SingleStore notebook environment."
      ],
      "id": "af9134d0"
    },
    {
      "cell_type": "code",
      "execution_count": 4,
      "metadata": {},
      "outputs": [],
      "source": [
        "conn = ibis.singlestoredb.connect()"
      ],
      "id": "987c0ae5"
    },
    {
      "cell_type": "markdown",
      "metadata": {},
      "source": [
        "## Phone review data example\n",
        "\n",
        "Our first example will use customer review data for phones. It includes information such as a reviewer name, the text of the review, a short summary\n",
        "of the review, a numeric rating from 1 to 5, and the date of the review. We'll first read the data into a local pandas DataFrame to do some\n",
        "cleanup, then upload it to the database to demonstrate the SingleStoreDB package capabilities"
      ],
      "id": "fad43ca2"
    },
    {
      "cell_type": "markdown",
      "metadata": {},
      "source": [
        "### Read sample data into pandas DataFrame\n",
        "\n",
        "We will read the data for this example directly from a Github repository using a URL in the `pd.read_csv` function.\n",
        "The result will be a pandas `DataFrame`. We will upload the data to the server in a later step."
      ],
      "id": "0c7611ec"
    },
    {
      "cell_type": "code",
      "execution_count": 5,
      "metadata": {},
      "outputs": [],
      "source": [
        "phones_df = pd.read_csv('https://raw.githubusercontent.com/singlestore-labs/ibis-singlestoredb/main/examples/phones.csv')\n",
        "phones_df.head(3)"
      ],
      "id": "dff813f8"
    },
    {
      "cell_type": "markdown",
      "metadata": {},
      "source": [
        "We can see the column types using the `info` method. As you can see, there are two date columns, neither of which is in a convenient\n",
        "format for use as a date. We'll first create an actual datetime column from those and drop the original columns."
      ],
      "id": "649d0833"
    },
    {
      "cell_type": "code",
      "execution_count": 6,
      "metadata": {},
      "outputs": [],
      "source": [
        "phones_df.info()"
      ],
      "id": "b3648d5d"
    },
    {
      "cell_type": "markdown",
      "metadata": {},
      "source": [
        "### Upload the data to the server\n",
        "\n",
        "Now that we have some data to work with, we can upload it to the server using the `create_table` method. This method allows you to upload\n",
        "data from a local `DataFrame` or materialize a table from an Ibis table expression."
      ],
      "id": "e6c78524"
    },
    {
      "cell_type": "code",
      "execution_count": 7,
      "metadata": {},
      "outputs": [],
      "source": [
        "conn.create_table?"
      ],
      "id": "7c5acaff"
    },
    {
      "cell_type": "markdown",
      "metadata": {},
      "source": [
        "The code below will create the table in the server from the given `DataFrame`. The data types for the database table will be inferred from\n",
        "the `DataFrame` data types. The `overwrite=True` is merely used here in case you run the notebook code multiple times against the same\n",
        "database. It will cause an existing `phones` table to be overwritten if it already exists."
      ],
      "id": "6aeed052"
    },
    {
      "cell_type": "code",
      "execution_count": 8,
      "metadata": {},
      "outputs": [],
      "source": [
        "phones_tbl = conn.create_table('phones', phones_df, overwrite=True)\n",
        "phones_tbl.head(3)"
      ],
      "id": "e8b8be08"
    },
    {
      "cell_type": "markdown",
      "metadata": {},
      "source": [
        "We can get information about the table in the server by using the `info` method, just as you would with a local pandas `DataFrame`."
      ],
      "id": "525c58af"
    },
    {
      "cell_type": "code",
      "execution_count": 9,
      "metadata": {},
      "outputs": [],
      "source": [
        "phones_tbl.info()"
      ],
      "id": "b00b87b2"
    },
    {
      "cell_type": "markdown",
      "metadata": {},
      "source": [
        "Here is the `CREATE TABLE` statement resulting from the data upload step. The `show` attribute of the connection gives access to all of\n",
        "the `SHOW` commands in the database such as `functions`, `create_function`, `status`, `databases`, and so on."
      ],
      "id": "cd7b0e0c"
    },
    {
      "cell_type": "code",
      "execution_count": 10,
      "metadata": {},
      "outputs": [],
      "source": [
        "ct = conn.show.create_table('phones')\n",
        "ct"
      ],
      "id": "d512fd95"
    },
    {
      "cell_type": "markdown",
      "metadata": {},
      "source": [
        "To print this a nicer way, we'll just display the `CreateTable` column of the first result row."
      ],
      "id": "2bb21d51"
    },
    {
      "cell_type": "code",
      "execution_count": 11,
      "metadata": {},
      "outputs": [],
      "source": [
        "print(ct[0]['CreateTable'])"
      ],
      "id": "b38bc988"
    },
    {
      "cell_type": "markdown",
      "metadata": {},
      "source": [
        "### Convert review date / time columns\n",
        "\n",
        "This data set has a less than optimal way of storing the dates of the reviews. It has two columns that contain the same information and the review time, and neither\n",
        "of them is convenient to work with. Let's create a new column that contains the date in a timestamp column. To do that, we simply cast the\n",
        "existing `unixReviewTime` column to a timestamp type. We'll also use the `name` method to assign a name to the resulting column expression."
      ],
      "id": "2d930373"
    },
    {
      "cell_type": "code",
      "execution_count": 12,
      "metadata": {},
      "outputs": [],
      "source": [
        "date = phones_tbl.unixReviewTime.cast('timestamp').name('date')\n",
        "date"
      ],
      "id": "a36d71e1"
    },
    {
      "cell_type": "markdown",
      "metadata": {},
      "source": [
        "The `overall` rating column was uploaded as floating point data, but it only contains integers. Let's cast that to an integer."
      ],
      "id": "9fb2a0ce"
    },
    {
      "cell_type": "code",
      "execution_count": 13,
      "metadata": {},
      "outputs": [],
      "source": [
        "overall = phones_tbl.overall.cast('int').name('overall')\n",
        "overall"
      ],
      "id": "be53735f"
    },
    {
      "cell_type": "markdown",
      "metadata": {},
      "source": [
        "Now that we have our two processed columns, we can remove the old columns we don't need anymore and insert our\n",
        "new columns expressions with the cleaned data."
      ],
      "id": "0f0b1996"
    },
    {
      "cell_type": "code",
      "execution_count": 14,
      "metadata": {},
      "outputs": [],
      "source": [
        "columns = [x for x in phones_tbl.columns if 'Time' not in x and x != 'overall'] + [overall, date]"
      ],
      "id": "52fd0c29"
    },
    {
      "cell_type": "code",
      "execution_count": 15,
      "metadata": {},
      "outputs": [],
      "source": [
        "phones_tbl = phones_tbl[columns]\n",
        "phones_tbl"
      ],
      "id": "b4d4118b"
    },
    {
      "cell_type": "markdown",
      "metadata": {},
      "source": [
        "The `phones_tbl` object now contains both references to actual columns in the `phones` table as well as computed expressions.\n",
        "It can be thought of as a client-side view object, but still works the same way as our original table. We can use the `info`\n",
        "method to show the schema information."
      ],
      "id": "f35fc27e"
    },
    {
      "cell_type": "code",
      "execution_count": 16,
      "metadata": {},
      "outputs": [],
      "source": [
        "phones_tbl.info()"
      ],
      "id": "4b7afa41"
    },
    {
      "cell_type": "markdown",
      "metadata": {},
      "source": [
        "It's also possible to access the schema information for traversing progamatically using the `schema` method of the table."
      ],
      "id": "a2e72875"
    },
    {
      "cell_type": "code",
      "execution_count": 17,
      "metadata": {},
      "outputs": [],
      "source": [
        "phones_tbl.schema()"
      ],
      "id": "c2e4095b"
    },
    {
      "cell_type": "markdown",
      "metadata": {},
      "source": [
        "Here are the public methods / attributes of the `Schema` object."
      ],
      "id": "5f6f19b5"
    },
    {
      "cell_type": "code",
      "execution_count": 18,
      "metadata": {},
      "outputs": [],
      "source": [
        "for name in dir(phones_tbl.schema()):\n",
        "    if not name.startswith('_'):\n",
        "        print(name)"
      ],
      "id": "389c9b13"
    },
    {
      "cell_type": "markdown",
      "metadata": {},
      "source": [
        "### Create a table from a table expression\n",
        "\n",
        "As mentioned earlier, the `create_table` method can be used to create tables in the database from Ibis table\n",
        "expressions. That means that we can materialize our new table into the database if we so desire. This simply\n",
        "selects data from an expression into a new table, no work is being done on the client side."
      ],
      "id": "6fa3f354"
    },
    {
      "cell_type": "code",
      "execution_count": 19,
      "metadata": {},
      "outputs": [],
      "source": [
        "tbl_2 = conn.create_table('phones2', phones_tbl, overwrite=True)\n",
        "tbl_2"
      ],
      "id": "db2e7d54"
    },
    {
      "cell_type": "code",
      "execution_count": 20,
      "metadata": {},
      "outputs": [],
      "source": [
        "conn.show.tables()"
      ],
      "id": "531b6443"
    },
    {
      "cell_type": "code",
      "execution_count": 21,
      "metadata": {},
      "outputs": [],
      "source": [
        "tbl_2.info()"
      ],
      "id": "ebe7534f"
    },
    {
      "cell_type": "code",
      "execution_count": 22,
      "metadata": {},
      "outputs": [],
      "source": [
        "conn.show.create_table('phones2')"
      ],
      "id": "6de6f891"
    },
    {
      "cell_type": "markdown",
      "metadata": {},
      "source": [
        "Tables can also be dropped using the `drop_table` method."
      ],
      "id": "2f5fbeb8"
    },
    {
      "cell_type": "code",
      "execution_count": 23,
      "metadata": {},
      "outputs": [],
      "source": [
        "conn.drop_table('phones2')"
      ],
      "id": "cf322021"
    },
    {
      "cell_type": "markdown",
      "metadata": {},
      "source": [
        "### DataFrame operations"
      ],
      "id": "0548af81"
    },
    {
      "cell_type": "markdown",
      "metadata": {},
      "source": [
        "Now that we have a table in the database and a `DataFrame`-like obect connected to it, let's do some operations with the data. For this example,\n",
        "we'll enable the `verbose` option in Ibis. This will display the SQL code that is sent to the server when evaluating the expression. In this\n",
        "example, we are building a sentence from various columns in the data table. We are using the reviewer name (which is capitalized), the summary,\n",
        "and the overall rating (which is cast to a string). All of these are concatenated together using the `+` as you normally would when\n",
        "concatenating strings in Python."
      ],
      "id": "884017da"
    },
    {
      "cell_type": "code",
      "execution_count": 24,
      "metadata": {},
      "outputs": [],
      "source": [
        "# Enable display of SQL that is executed in the background\n",
        "ibis.options.verbose = True\n",
        "\n",
        "texpr = (phones_tbl.reviewerName.capitalize() + \\\n",
        "         ' says \"' + \\\n",
        "         phones_tbl.summary + \\\n",
        "         '\" and gives it ' + \\\n",
        "         phones_tbl.overall.cast('string') + \\\n",
        "         ' stars.').name('Review Summary')\n",
        "texpr"
      ],
      "id": "a3ecabb9"
    },
    {
      "cell_type": "markdown",
      "metadata": {},
      "source": [
        "As you can see from the SQL output above, the sentence is constructed using `concat` in the query. Capitalization is done using `ucase` and `substring`.\n",
        "The `:param_#` portions are used by Ibis to inject literal Python values from the expression. And, you'll see that the result table contains a column\n",
        "of string values that are the result of the expression."
      ],
      "id": "83eba3be"
    },
    {
      "cell_type": "markdown",
      "metadata": {},
      "source": [
        "#### String operations\n",
        "\n",
        "There are many string operations available in Ibis. Many of them correspond to operations on pandas DataFrames and / or Python string methods.\n",
        "The code below prints a list of all methods on string columns."
      ],
      "id": "2bddebd6"
    },
    {
      "cell_type": "code",
      "execution_count": 25,
      "metadata": {},
      "outputs": [],
      "source": [
        "for x in dir(texpr):\n",
        "    if not x.startswith('_'):\n",
        "        print(x)"
      ],
      "id": "debf5ef0"
    },
    {
      "cell_type": "markdown",
      "metadata": {},
      "source": [
        "#### Operations on other column types\n",
        "\n",
        "Other data types have different methods that can be called. For example, this is the list of methods on date/time columns."
      ],
      "id": "ef514099"
    },
    {
      "cell_type": "code",
      "execution_count": 26,
      "metadata": {},
      "outputs": [],
      "source": [
        "for x in dir(phones_tbl.date):\n",
        "    if not x.startswith('_'):\n",
        "        print(x)"
      ],
      "id": "9907aaf4"
    },
    {
      "cell_type": "markdown",
      "metadata": {},
      "source": [
        "Here are the methods for numeric columns."
      ],
      "id": "a9953c32"
    },
    {
      "cell_type": "code",
      "execution_count": 27,
      "metadata": {},
      "outputs": [],
      "source": [
        "for x in dir(phones_tbl.overall):\n",
        "    if not x.startswith('_'):\n",
        "        print(x)"
      ],
      "id": "1b5ff980"
    },
    {
      "cell_type": "code",
      "execution_count": 28,
      "metadata": {},
      "outputs": [],
      "source": [
        "ibis.options.verbose = False"
      ],
      "id": "ec9d3104"
    },
    {
      "cell_type": "markdown",
      "metadata": {},
      "source": [
        "### Filter reviews containing \"iphone 4\"\n",
        "\n",
        "Now that we've seen how to construct expressions that can be used in the database, let's use that expression for use in further queries.\n",
        "The expression below takes the result of our previous expression, lower-cases it, then checks for the occurrence of the substring\n",
        "\"iphone 4\". This will return a column of booleans which can be used to filter our original table, just like with a pandas DataFrame."
      ],
      "id": "443328f1"
    },
    {
      "cell_type": "code",
      "execution_count": 29,
      "metadata": {},
      "outputs": [],
      "source": [
        "has_iphone_4 = texpr.lower().contains('iphone 4').name('Has iPhone 4')\n",
        "has_iphone_4"
      ],
      "id": "749719b2"
    },
    {
      "cell_type": "markdown",
      "metadata": {},
      "source": [
        "First, let's use the filter expression to see how many of our generated sentences contain \"iphone 4\". We do this by using our previous\n",
        "expression as an indexing expression to our original table object (e.g., `tbl[filter-expr]`). This will return only the rows where\n",
        "the filter expression was `True`. We can then count the number of rows using the `count` method."
      ],
      "id": "2eef6d94"
    },
    {
      "cell_type": "code",
      "execution_count": 30,
      "metadata": {},
      "outputs": [],
      "source": [
        "phones_tbl[has_iphone_4].count()"
      ],
      "id": "cedfd906"
    },
    {
      "cell_type": "markdown",
      "metadata": {},
      "source": [
        "Now we can print selected columns from the filtered table. We can also sort them according to the `overall` column as shown below."
      ],
      "id": "cb30666b"
    },
    {
      "cell_type": "code",
      "execution_count": 31,
      "metadata": {},
      "outputs": [],
      "source": [
        "phones_tbl[has_iphone_4]['reviewerName', 'helpful', 'overall'].order_by(ibis.desc('overall'))"
      ],
      "id": "50abc49c"
    },
    {
      "cell_type": "markdown",
      "metadata": {},
      "source": [
        "## Conclusion\n",
        "\n",
        "So far we've uploaded data to the database using `create_table` and a local `DataFrame`, we've constructed Python expressions that get translated\n",
        "to SQL and executed on the server, used those expressions in filtering operations, and selected columns from and sorted the results of\n",
        "the filtering operation. This covers a small number of the abilities of the table and column objects created by Ibis. For additional methods\n",
        "on the various types, see the [Ibis documentation](https://ibis-project.orghttps://ibis-project.org)."
      ],
      "id": "d0944d81"
    },
    {
      "cell_type": "markdown",
      "metadata": {},
      "source": [
        "<div class=\"alert alert-block alert-warning\">\n",
        "    <b class=\"fa fa-solid fa-exclamation-circle\"></b>\n",
        "    <div>\n",
        "        <p><b>Action Required</b></p>\n",
        "        <p> If you created a new database in your Standard or Premium Workspace, you can drop the database by running the cell below. Note: this will not drop your database for Free Starter Workspaces. To drop a Free Starter Workspace, terminate the Workspace using the UI. </p>\n",
        "    </div>\n",
        "</div>"
      ],
      "id": "a775fe56"
    },
    {
      "cell_type": "code",
      "execution_count": 32,
      "metadata": {},
      "outputs": [],
      "source": [
        "shared_tier_check = %sql show variables like 'is_shared_tier'\n",
        "if not shared_tier_check or shared_tier_check[0][1] == 'OFF':\n",
        "    %sql DROP DATABASE IF EXISTS ibis_getting_started;"
      ],
      "id": "c9fa396a"
    },
    {
      "id": "b0a782b4",
      "cell_type": "markdown",
      "metadata": {},
      "source": [
        "<div id=\"singlestore-footer\" style=\"background-color: rgba(194, 193, 199, 0.25); height:2px; margin-bottom:10px\"></div>\n",
        "<div><img src=\"https://raw.githubusercontent.com/singlestore-labs/spaces-notebooks/master/common/images/singlestore-logo-grey.png\" style=\"padding: 0px; margin: 0px; height: 24px\"/></div>"
      ]
    }
  ],
  "metadata": {
    "kernelspec": {
      "display_name": "Python 3 (ipykernel)",
      "language": "python",
      "name": "python3"
    },
    "language_info": {
      "codemirror_mode": {
        "name": "ipython",
        "version": 3
      },
      "file_extension": ".py",
      "mimetype": "text/x-python",
      "name": "python",
      "nbconvert_exporter": "python",
      "pygments_lexer": "ipython3",
      "version": "3.11.4"
    }
  },
  "nbformat": 4,
  "nbformat_minor": 5
}
