{
  "cells": [
    {
      "id": "abecce4f",
      "cell_type": "markdown",
      "metadata": {},
      "source": [
        "<div id=\"singlestore-header\" style=\"display: flex; background-color: rgba(210, 255, 153, 0.25); padding: 5px;\">\n",
        "    <div id=\"icon-image\" style=\"width: 90px; height: 90px;\">\n",
        "        <img width=\"100%\" height=\"100%\" src=\"https://raw.githubusercontent.com/singlestore-labs/spaces-notebooks/master/common/images/header-icons/chart-network.png\" />\n",
        "    </div>\n",
        "    <div id=\"text\" style=\"padding: 5px; margin-left: 10px;\">\n",
        "        <div id=\"badge\" style=\"display: inline-block; background-color: rgba(0, 0, 0, 0.15); border-radius: 4px; padding: 4px 8px; align-items: center; margin-top: 6px; margin-bottom: -2px; font-size: 80%\">SingleStore Notebooks</div>\n",
        "        <h1 style=\"font-weight: 500; margin: 8px 0 0 4px;\">Semantic Search with OpenAI Embedding Creation</h1>\n",
        "    </div>\n",
        "</div>"
      ]
    },
    {
      "id": "c68352ae",
      "cell_type": "markdown",
      "metadata": {},
      "source": [
        "<div class=\"alert alert-block alert-warning\">\n",
        "    <b class=\"fa fa-solid fa-exclamation-circle\"></b>\n",
        "    <div>\n",
        "        <p><b>Note</b></p>\n",
        "        <p>This notebook can be run on a Free Starter Workspace. To create a Free Starter Workspace navigate to <tt>Start</tt> using the left nav. You can also use your existing Standard or Premium workspace with this Notebook.</p>\n",
        "    </div>\n",
        "</div>"
      ]
    },
    {
      "cell_type": "markdown",
      "metadata": {},
      "source": [
        "In this notebook, we will demonstrate an example of conducting semantic search on SingleStoreDB with SQL! Unlike traditional keyword-based search methods, semantic search algorithms take into account the relationships between words and their meanings, enabling them to deliver more accurate and relevant results \u2013 even when search terms are vague or ambiguous.\n",
        "\n",
        "SingleStoreDB\u2019s built-in parallelization and Intel SIMD-based vector processing takes care of the heavy lifting involved in processing vector data. This allows your to run your ML algorithms right in your database extremely efficiently with just 2 lines of SQL!\n",
        "\n",
        "\n",
        "In this example, we use Open AI embeddings API to create embeddings for our dataset and run semantic_search using dot_product vector matching function!"
      ],
      "id": "23cba3ba"
    },
    {
      "cell_type": "markdown",
      "metadata": {},
      "source": [
        "## 1. Create a workspace in your workspace group\n",
        "\n",
        "S-00 is sufficient.\n",
        "\n",
        "<div class=\"alert alert-block alert-warning\">\n",
        "    <b class=\"fa fa-solid fa-exclamation-circle\"></b>\n",
        "    <div>\n",
        "        <p><b>Action Required</b></p>\n",
        "        <p> If you have a Free Starter Workspace deployed already, select the database from drop-down menu at the top of this notebook. It updates the <tt>connection_url</tt> to connect to that database.</p>\n",
        "    </div>\n",
        "</div>\n",
        "\n",
        "## 2. Create a Database named `semantic_search`"
      ],
      "id": "2e30cf79"
    },
    {
      "cell_type": "code",
      "execution_count": 1,
      "metadata": {},
      "outputs": [],
      "source": [
        "shared_tier_check = %sql show variables like 'is_shared_tier'\n",
        "if not shared_tier_check or shared_tier_check[0][1] == 'OFF':\n",
        "    %sql DROP DATABASE IF EXISTS semantic_search;\n",
        "    %sql CREATE DATABASE semantic_search;"
      ],
      "id": "b9104351"
    },
    {
      "cell_type": "markdown",
      "metadata": {},
      "source": [
        "<div class=\"alert alert-block alert-warning\">\n",
        "    <b class=\"fa fa-solid fa-exclamation-circle\"></b>\n",
        "    <div>\n",
        "        <p><b>Action Required</b></p>\n",
        "        <p>Make sure to select the <tt>semantic_search</tt> database from the drop-down menu at the top of this notebook.\n",
        "        It updates the <tt>connection_url</tt> which is used by the <tt>%%sql</tt> magic command and SQLAlchemy to make connections to the selected database.</p>\n",
        "    </div>\n",
        "</div>"
      ],
      "id": "c636f590"
    },
    {
      "cell_type": "markdown",
      "metadata": {},
      "source": [
        "## 3. Install and import required libraries\n",
        "\n",
        "We will use the OpenAI embeddings API and will need to import the relevant dependencies accordingly."
      ],
      "id": "7c480439"
    },
    {
      "cell_type": "code",
      "execution_count": 2,
      "metadata": {},
      "outputs": [],
      "source": [
        "!pip3 install openai==1.3.3 requests --quiet\n",
        "\n",
        "import json\n",
        "import os\n",
        "\n",
        "from openai import OpenAI\n",
        "import requests"
      ],
      "id": "48c7b3d1"
    },
    {
      "cell_type": "markdown",
      "metadata": {},
      "source": [
        "## 4. Create an OpenAI account and get API connection details\n",
        "\n",
        "To vectorize and embed the employee reviews and query strings, we leverage OpenAI's embeddings API. To use this API, you will need an API key, which you can get [here](https://platform.openai.com/account/api-keys). You'll need to add a payment method to actually get vector embeddings using the API, though the charges are minimal for a small example like we present here."
      ],
      "id": "6d2c11f1"
    },
    {
      "cell_type": "markdown",
      "metadata": {},
      "source": [
        "<div class=\"alert alert-block alert-warning\">\n",
        "    <b class=\"fa fa-solid fa-exclamation-circle\"></b>\n",
        "    <div>\n",
        "        <p><b>Action Required</b></p>\n",
        "        <p>You will have to update your notebook's firewall settings to include <tt>*.*.openai.com</tt> in order to get embedddings from OpenAI APIS.</p>\n",
        "    </div>\n",
        "</div>"
      ],
      "id": "cf0225f1"
    },
    {
      "cell_type": "code",
      "execution_count": 3,
      "metadata": {},
      "outputs": [],
      "source": [
        "import getpass\n",
        "\n",
        "os.environ[\"OPENAI_API_KEY\"] = getpass.getpass('OpenAI API Key: ')\n",
        "\n",
        "client = OpenAI()"
      ],
      "id": "df37a380"
    },
    {
      "cell_type": "markdown",
      "metadata": {},
      "source": [
        "## 5. Create a new table in your database called reviews"
      ],
      "id": "89c30e7c"
    },
    {
      "cell_type": "code",
      "execution_count": 4,
      "metadata": {},
      "outputs": [],
      "source": [
        "%%sql\n",
        "DROP TABLE IF EXISTS reviews;\n",
        "CREATE TABLE reviews (\n",
        "    date_review VARCHAR(255),\n",
        "    job_title VARCHAR(255),\n",
        "    location VARCHAR(255),\n",
        "    review TEXT\n",
        ");"
      ],
      "id": "0f09871b"
    },
    {
      "cell_type": "markdown",
      "metadata": {},
      "source": [
        "## 6. Import our sample data into your table\n",
        "\n",
        "This dataset has 15 reviews left by anonymous employees of a firm."
      ],
      "id": "33a35d4a"
    },
    {
      "cell_type": "code",
      "execution_count": 5,
      "metadata": {},
      "outputs": [],
      "source": [
        "url = 'https://raw.githubusercontent.com/singlestore-labs/singlestoredb-samples/main/Tutorials/ai-powered-semantic-search/hr_sample_data.sql'"
      ],
      "id": "4b73ee99"
    },
    {
      "cell_type": "markdown",
      "metadata": {},
      "source": [
        "Note that we are using the `%sql` magic command here to run a query against the currently\n",
        "selected database."
      ],
      "id": "dec13942"
    },
    {
      "cell_type": "code",
      "execution_count": 6,
      "metadata": {},
      "outputs": [],
      "source": [
        "for query in [x for x in requests.get(url).text.split('\\n') if x.strip()]:\n",
        "     %sql {{query}}"
      ],
      "id": "0ab0a16c"
    },
    {
      "cell_type": "markdown",
      "metadata": {},
      "source": [
        "## 7. Add vector embeddings for each review\n",
        "\n",
        "To embed the reviews in our SingleStoreDB database, we iterate through each row in the table, make a call to OpenAI\u2019s embeddings API with the text in the reviews field and update the new column called embeddings for each entry."
      ],
      "id": "db70fb54"
    },
    {
      "cell_type": "code",
      "execution_count": 7,
      "metadata": {},
      "outputs": [],
      "source": [
        "%sql ALTER TABLE reviews ADD embeddings BLOB;\n",
        "\n",
        "from typing import List\n",
        "\n",
        "reviews = %sql SELECT review FROM reviews;\n",
        "reviews = [x.review for x in reviews]\n",
        "\n",
        "def get_embeddings(inputs: List[str], model: str = 'text-embedding-ada-002') -> List[str]:\n",
        "    \"\"\"Return list of embeddings.\"\"\"\n",
        "    return [x.embedding for x in client.embeddings.create(input=inputs, model=model).data]\n",
        "\n",
        "embeddings = get_embeddings(reviews)\n",
        "\n",
        "for embedding, review in zip(embeddings, reviews):\n",
        "    %sql UPDATE reviews SET embeddings = JSON_ARRAY_PACK('{{json.dumps(embedding)}}') WHERE review='{{review}}';"
      ],
      "id": "5be45303"
    },
    {
      "cell_type": "markdown",
      "metadata": {},
      "source": [
        "## 8. Run the semantic search algorithm with just one line of SQL\n",
        "\n",
        "We will utilize SingleStoreDB's distributed architecture to efficiently compute the dot product of the input string (stored in searchstring) with each entry in the database and return the top 5  reviews with the highest dot product score. Each vector is normalized to length 1, hence the dot product function essentially computes the cosine similarity between two vectors \u2013 an appropriate nearness metric. SingleStoreDB makes this extremely fast because it compiles queries to machine code and runs dot_product using SIMD instructions."
      ],
      "id": "6b72d93d"
    },
    {
      "cell_type": "code",
      "execution_count": 8,
      "metadata": {},
      "outputs": [],
      "source": [
        "searchstring = input('Please enter a search string: ')\n",
        "\n",
        "search_embedding = json.dumps(get_embeddings([searchstring])[0])\n",
        "\n",
        "results = %sql SELECT review, DOT_PRODUCT(embeddings, JSON_ARRAY_PACK('{{search_embedding}}')) AS score FROM reviews ORDER BY score DESC LIMIT 5;\n",
        "\n",
        "print()\n",
        "for i, res in enumerate(results):\n",
        "    print(f'{i + 1}: {res.review} Score: {res.score}\\n')"
      ],
      "id": "b03cc3e1"
    },
    {
      "cell_type": "markdown",
      "metadata": {},
      "source": [
        "## 9. Clean up"
      ],
      "id": "e088f082"
    },
    {
      "cell_type": "markdown",
      "metadata": {},
      "source": [
        "<div class=\"alert alert-block alert-warning\">\n",
        "    <b class=\"fa fa-solid fa-exclamation-circle\"></b>\n",
        "    <div>\n",
        "        <p><b>Action Required</b></p>\n",
        "        <p> If you created a new database in your Standard or Premium Workspace, you can drop the database by running the cell below. Note: this will not drop your database for Free Starter Workspaces. To drop a Free Starter Workspace, terminate the Workspace using the UI. </p>\n",
        "    </div>\n",
        "</div>"
      ],
      "id": "52dac21e"
    },
    {
      "cell_type": "code",
      "execution_count": 9,
      "metadata": {},
      "outputs": [],
      "source": [
        "shared_tier_check = %sql show variables like 'is_shared_tier'\n",
        "if not shared_tier_check or shared_tier_check[0][1] == 'OFF':\n",
        "    %sql DROP DATABASE IF EXISTS semantic_search;"
      ],
      "id": "bc062e9c"
    },
    {
      "id": "d4a768aa",
      "cell_type": "markdown",
      "metadata": {},
      "source": [
        "<div id=\"singlestore-footer\" style=\"background-color: rgba(194, 193, 199, 0.25); height:2px; margin-bottom:10px\"></div>\n",
        "<div><img src=\"https://raw.githubusercontent.com/singlestore-labs/spaces-notebooks/master/common/images/singlestore-logo-grey.png\" style=\"padding: 0px; margin: 0px; height: 24px\"/></div>"
      ]
    }
  ],
  "metadata": {
    "kernelspec": {
      "display_name": "Python 3 (ipykernel)",
      "language": "python",
      "name": "python3"
    },
    "language_info": {
      "codemirror_mode": {
        "name": "ipython",
        "version": 3
      },
      "file_extension": ".py",
      "mimetype": "text/x-python",
      "name": "python",
      "nbconvert_exporter": "python",
      "pygments_lexer": "ipython3",
      "version": "3.11.4"
    }
  },
  "nbformat": 4,
  "nbformat_minor": 5
}
