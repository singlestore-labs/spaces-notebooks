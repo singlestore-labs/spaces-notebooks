{
  "cells": [
    {
      "id": "c6f5dc7b",
      "cell_type": "markdown",
      "metadata": {},
      "source": [
        "<div id=\"singlestore-header\" style=\"display: flex; background-color: rgba(235, 249, 245, 0.25); padding: 5px;\">\n",
        "    <div id=\"icon-image\" style=\"width: 90px; height: 90px;\">\n",
        "        <img width=\"100%\" height=\"100%\" src=\"https://raw.githubusercontent.com/singlestore-labs/spaces-notebooks/master/common/images/header-icons/database.png\" />\n",
        "    </div>\n",
        "    <div id=\"text\" style=\"padding: 5px; margin-left: 10px;\">\n",
        "        <div id=\"badge\" style=\"display: inline-block; background-color: rgba(0, 0, 0, 0.15); border-radius: 4px; padding: 4px 8px; align-items: center; margin-top: 6px; margin-bottom: -2px; font-size: 80%\">SingleStore Notebooks</div>\n",
        "        <h1 style=\"font-weight: 500; margin: 8px 0 0 4px;\">Ingest data from MONGODB\u00ae to SingleStore using SQL commands</h1>\n",
        "    </div>\n",
        "</div>"
      ]
    },
    {
      "attachments": {},
      "cell_type": "markdown",
      "metadata": {},
      "source": [
        "<table style=\"border: 0; border-spacing: 0; width: 100%; background-color: #03010D\"><tr>\n",
        "    <td style=\"padding: 0; margin: 0; background-color: #03010D; width: 33%; text-align: center\"><img src=\"https://raw.githubusercontent.com/singlestore-labs/spaces-notebooks/master/common/images/singlestore-logo-vertical.png\" style=\"height: 200px;\"/></td>\n",
        "    <td style=\"padding: 0; margin: 0; width: 66%; background-color: #03010D; text-align: right\"><img src=\"https://raw.githubusercontent.com/singlestore-labs/spaces-notebooks/master/notebooks/cdc-mongodb-sql-commands/images/cdc-in-header.png\" style=\"height: 250px\"/></td>\n",
        "</tr></table>"
      ],
      "id": "df1b5335"
    },
    {
      "attachments": {},
      "cell_type": "markdown",
      "metadata": {},
      "source": [
        "## When do you use SingleStore's native replication capability from MongoDB ?\n",
        "\n",
        "SingleStore's native data replication gives you the ability to do one-time snapshot, or continuous change data capture CDC from MongoDB\u00ae to SingleStoreDB. This provides a quick and easy way to replicate data and power up analytics on MongoDB\u00ae data."
      ],
      "id": "6229e0c9"
    },
    {
      "attachments": {},
      "cell_type": "markdown",
      "metadata": {},
      "source": [
        "## What you will learn in this notebook:\n",
        "\n",
        "Replicate MongoDB\u00ae collections to SingleStore\n",
        "1. Directly without transformations\n",
        "2. Flattening required fields into columns of a table\n",
        "3. Normalizing collection into multiple tables"
      ],
      "id": "54bed1b2"
    },
    {
      "attachments": {},
      "cell_type": "markdown",
      "metadata": {},
      "source": [
        "## 1. Replicate directly without transformations\n",
        "\n",
        "To replicate the required collections, provide the list of collections using `\"collection.include.list\": \"<Collection list>\"` at the time of link creation, the parameter takes a comma-separated list of regular expressions that match collection names (in databaseName.collectionName format)"
      ],
      "id": "635f3fe9"
    },
    {
      "cell_type": "code",
      "execution_count": 1,
      "metadata": {},
      "outputs": [],
      "source": [
        "%%sql\n",
        "DROP DATABASE IF EXISTS sample_analytics;\n",
        "CREATE DATABASE sample_analytics;"
      ],
      "id": "71592e8c"
    },
    {
      "attachments": {},
      "cell_type": "markdown",
      "metadata": {},
      "source": [
        "<div class=\"alert alert-block alert-warning\">\n",
        "    <b class=\"fa fa-solid fa-exclamation-circle\"></b>\n",
        "    <div>\n",
        "        <p><b>Action Required</b></p>\n",
        "        <p> Make sure to select a database from the drop-down menu at the top of this notebook. It updates the <tt>connection_url</tt>  to connect to that database.</p>\n",
        "    </div>\n",
        "</div>"
      ],
      "id": "ba6cedf5"
    },
    {
      "cell_type": "code",
      "execution_count": 2,
      "metadata": {},
      "outputs": [],
      "source": [
        "%%sql\n",
        "CREATE LINK cdclink AS MONGODB\n",
        "CONFIG '{\"mongodb.hosts\":\"ac-t7n47to-shard-00-00.tfutgo0.mongodb.net:27017,ac-t7n47to-shard-00-01.tfutgo0.mongodb.net:27017,ac-t7n47to-shard-00-02.tfutgo0.mongodb.net:27017\",\n",
        "\"collection.include.list\": \"sample_analytics.customers\",\n",
        "\"mongodb.ssl.enabled\":\"true\",\n",
        "\"mongodb.authsource\":\"admin\",\n",
        "\"mongodb.members.auto.discover\": \"true\"\n",
        "    }'\n",
        "CREDENTIALS '{\n",
        "    \"mongodb.user\":\"mongo_sample_reader\",\n",
        "    \"mongodb.password\":\"SingleStoreRocks27017\"\n",
        "    }'"
      ],
      "id": "be88b07b"
    },
    {
      "attachments": {},
      "cell_type": "markdown",
      "metadata": {},
      "source": [
        "Check if the link got created"
      ],
      "id": "e1e1fbb1"
    },
    {
      "cell_type": "code",
      "execution_count": 3,
      "metadata": {},
      "outputs": [],
      "source": [
        "%%sql\n",
        "SHOW LINKS;"
      ],
      "id": "1b78164d"
    },
    {
      "attachments": {},
      "cell_type": "markdown",
      "metadata": {},
      "source": [
        "The following step automatically creates the required tables and pipelines on SingleStoreDB for every collection configured for replication"
      ],
      "id": "0b393f99"
    },
    {
      "cell_type": "code",
      "execution_count": 4,
      "metadata": {},
      "outputs": [],
      "source": [
        "%%sql\n",
        "CREATE TABLES AS INFER PIPELINE AS LOAD DATA LINK cdclink '*' FORMAT AVRO;"
      ],
      "id": "0b815f2e"
    },
    {
      "attachments": {},
      "cell_type": "markdown",
      "metadata": {},
      "source": [
        "Start pipelines to begin replicating the data"
      ],
      "id": "94b05d5b"
    },
    {
      "cell_type": "code",
      "execution_count": 5,
      "metadata": {},
      "outputs": [],
      "source": [
        "%%sql\n",
        "START ALL PIPELINES;"
      ],
      "id": "65192525"
    },
    {
      "cell_type": "code",
      "execution_count": 6,
      "metadata": {},
      "outputs": [],
      "source": [
        "%%sql\n",
        "SHOW TABLES;"
      ],
      "id": "eaea4e3a"
    },
    {
      "attachments": {},
      "cell_type": "markdown",
      "metadata": {},
      "source": [
        "The customer collection from MongoDB are replicated into SingleStore in the default format of _id and _more BSON columns that are compatible with Kai API"
      ],
      "id": "52635772"
    },
    {
      "cell_type": "code",
      "execution_count": 7,
      "metadata": {},
      "outputs": [],
      "source": [
        "%%sql\n",
        "SELECT (_id :> JSON),(_more :> JSON) FROM customers LIMIT 2;"
      ],
      "id": "c0014b63"
    },
    {
      "attachments": {},
      "cell_type": "markdown",
      "metadata": {},
      "source": [
        "## 2. Flattening required fields from document into columns\n",
        "CDC replication also gives additional flexibility to define your own table structure at SingleStore as you bring in data from MongoDB collections. In the following examples data from MongoDB collections are transformed when brought to SingleStoreDB"
      ],
      "id": "e7184990"
    },
    {
      "attachments": {},
      "cell_type": "markdown",
      "metadata": {},
      "source": [
        "Fields like `username`, `name`, `email` are flattened into columns of the table and rest of the document is stored in _more column.\n",
        "The following commands create a table, a stored procedure and a pipeline required for the data replication"
      ],
      "id": "ddd6afb0"
    },
    {
      "cell_type": "code",
      "execution_count": 8,
      "metadata": {},
      "outputs": [],
      "source": [
        "%%sql\n",
        "CREATE TABLE `customers_flattened` (\n",
        "  `_id` bson NOT NULL,\n",
        "  `username` text CHARACTER SET utf8 COLLATE utf8_general_ci,\n",
        "  `name` text CHARACTER SET utf8 COLLATE utf8_general_ci,\n",
        "  `email` text CHARACTER SET utf8 COLLATE utf8_general_ci,\n",
        "  `_more` bson NOT NULL COMMENT 'KAI_MORE' ,\n",
        "  `$_id` as BSON_NORMALIZE_NO_ARRAY(`_id`) PERSISTED longblob COMMENT 'KAI_AUTO' ,\n",
        "  SHARD KEY `__SHARDKEY` (`$_id`),\n",
        "  UNIQUE KEY `__PRIMARY` (`$_id`) USING HASH,\n",
        "  SORT KEY `__UNORDERED` ()\n",
        ")"
      ],
      "id": "7233596f"
    },
    {
      "cell_type": "code",
      "execution_count": 9,
      "metadata": {},
      "outputs": [],
      "source": [
        "%%sql\n",
        "CREATE OR REPLACE PROCEDURE `customers_apply_changes`(changes query(`__operation` int(11) NOT NULL, `_id` longblob NOT NULL, `_more` longblob NOT NULL))\n",
        "RETURNS void AS\n",
        "DECLARE rowsDeleted INT;\n",
        "BEGIN REPLACE INTO  `sample_analytics`.`customers_flattened` SELECT `_id`:>BSON AS `_id`, BSON_EXTRACT_STRING(`_more`,'username') AS `username`, BSON_EXTRACT_STRING(`_more`,'name') AS `name`, BSON_EXTRACT_STRING(`_more`,'email') AS `email`,\n",
        "BSON_EXCLUDE_MASK(`_more`,'{\"_id\": 1,\"username\": 1,\"name\": 1,\"email\": 1}') AS `_more`FROM changes WHERE __operation != 1;\n",
        "SELECT count(*) INTO rowsDeleted FROM changes WHERE changes.__operation = 1;\n",
        "IF rowsDeleted > 0 THEN\n",
        "DELETE dest FROM `sample_analytics`.`customers_flattened` AS dest INNER JOIN changes ON dest.`$_id` = BSON_NORMALIZE_NO_ARRAY(changes.`_id`) WHERE changes.__operation = 1; END IF;\n",
        "END;"
      ],
      "id": "2a60c28c"
    },
    {
      "cell_type": "code",
      "execution_count": 10,
      "metadata": {},
      "outputs": [],
      "source": [
        "%%sql\n",
        "CREATE AGGREGATOR PIPELINE `customers_apply_changes`\n",
        "AS LOAD DATA LINK cdclink 'customers'\n",
        "BATCH_INTERVAL 2500\n",
        "MAX_PARTITIONS_PER_BATCH 1\n",
        "DISABLE OFFSETS METADATA GC\n",
        "REPLACE\n",
        "KEY(`_id`)\n",
        "INTO PROCEDURE `customers_apply_changes`\n",
        "FORMAT AVRO\n",
        "(\n",
        "    __operation <- `__operation`,\n",
        "    _id <- `payload`::`_id`,\n",
        "    _more <- `payload`::`_more`\n",
        ")"
      ],
      "id": "f9c867ef"
    },
    {
      "cell_type": "code",
      "execution_count": 11,
      "metadata": {},
      "outputs": [],
      "source": [
        "%%sql\n",
        "START ALL PIPELINES;"
      ],
      "id": "f78191dc"
    },
    {
      "cell_type": "code",
      "execution_count": 12,
      "metadata": {},
      "outputs": [],
      "source": [
        "%%sql\n",
        "SHOW TABLES;"
      ],
      "id": "dc7c6aac"
    },
    {
      "cell_type": "code",
      "execution_count": 13,
      "metadata": {},
      "outputs": [],
      "source": [
        "%%sql\n",
        "SELECT _id :> JSON,username, name, email, _more :> JSON FROM customers_flattened LIMIT 10;"
      ],
      "id": "adf1b8d4"
    },
    {
      "attachments": {},
      "cell_type": "markdown",
      "metadata": {},
      "source": [
        "## 3. Normalize a collection into multiple tables\n",
        "In the following example a collection of MongoDB is normalized into two different tables on SingleStore."
      ],
      "id": "652750b1"
    },
    {
      "cell_type": "code",
      "execution_count": 14,
      "metadata": {},
      "outputs": [],
      "source": [
        "%%sql\n",
        "DROP DATABASE IF EXISTS sample_airbnb;\n",
        "CREATE DATABASE sample_airbnb;"
      ],
      "id": "c5ee0fe8"
    },
    {
      "attachments": {},
      "cell_type": "markdown",
      "metadata": {},
      "source": [
        "<div class=\"alert alert-block alert-warning\">\n",
        "    <b class=\"fa fa-solid fa-exclamation-circle\"></b>\n",
        "    <div>\n",
        "        <p><b>Action Required</b></p>\n",
        "        <p> Make sure to select a database from the drop-down menu at the top of this notebook. It updates the <tt>connection_url</tt>  to connect to that database.</p>\n",
        "    </div>\n",
        "</div>"
      ],
      "id": "dddaf078"
    },
    {
      "cell_type": "code",
      "execution_count": 15,
      "metadata": {},
      "outputs": [],
      "source": [
        "%%sql\n",
        "CREATE LINK source_listingsAndReviews AS MONGODB\n",
        "CONFIG '{\"mongodb.hosts\":\"ac-t7n47to-shard-00-00.tfutgo0.mongodb.net:27017,ac-t7n47to-shard-00-01.tfutgo0.mongodb.net:27017,ac-t7n47to-shard-00-02.tfutgo0.mongodb.net:27017\",\n",
        "\"collection.include.list\": \"sample_airbnb.*\",\n",
        "\"mongodb.ssl.enabled\":\"true\",\n",
        "\"mongodb.authsource\":\"admin\",\n",
        "\"mongodb.members.auto.discover\": \"true\"\n",
        "    }'\n",
        "CREDENTIALS '{\n",
        "    \"mongodb.user\":\"mongo_sample_reader\",\n",
        "    \"mongodb.password\":\"SingleStoreRocks27017\"\n",
        "    }'"
      ],
      "id": "9be311ab"
    },
    {
      "cell_type": "code",
      "execution_count": 16,
      "metadata": {},
      "outputs": [],
      "source": [
        "%%sql\n",
        "SHOW LINKS;"
      ],
      "id": "4b89bdce"
    },
    {
      "cell_type": "code",
      "execution_count": 17,
      "metadata": {},
      "outputs": [],
      "source": [
        "%%sql\n",
        "CREATE TABLE `listings` (\n",
        "  `_id` BSON NOT NULL,\n",
        "  `name` text CHARACTER SET utf8 COLLATE utf8_general_ci,\n",
        "  `access` text CHARACTER SET utf8 COLLATE utf8_general_ci,\n",
        "  `accommodates` int(11) DEFAULT NULL,\n",
        "  `_more` BSON NOT NULL,\n",
        "  `$_id` as BSON_NORMALIZE_NO_ARRAY(`_id`) PERSISTED longblob,\n",
        "  SHARD KEY `__SHARDKEY` (`$_id`),\n",
        "  UNIQUE KEY `__PRIMARY` (`$_id`) USING HASH,\n",
        "  SORT KEY `__UNORDERED` ()\n",
        ")"
      ],
      "id": "c4d7b98d"
    },
    {
      "cell_type": "code",
      "execution_count": 18,
      "metadata": {},
      "outputs": [],
      "source": [
        "%%sql\n",
        "CREATE TABLE `reviews` (\n",
        "  `listingid` BSON NOT NULL,\n",
        "  `review_scores_accuracy` int(11) DEFAULT NULL,\n",
        "  `review_scores_cleanliness` int(11) DEFAULT NULL,\n",
        "  `review_scores_rating` text CHARACTER SET utf8 COLLATE utf8_general_ci,\n",
        "  `$listingid` as BSON_NORMALIZE_NO_ARRAY(`listingid`) PERSISTED longblob,\n",
        "  SHARD KEY `__SHARDKEY` (`$listingid`),\n",
        "  UNIQUE KEY `__PRIMARY` (`$listingid`) USING HASH,\n",
        "  SORT KEY `__UNORDERED` ()\n",
        ")"
      ],
      "id": "1e091d27"
    },
    {
      "cell_type": "code",
      "execution_count": 19,
      "metadata": {},
      "outputs": [],
      "source": [
        "%%sql\n",
        "CREATE OR REPLACE PROCEDURE `listingsAndReviews_apply_changes`(changes query(`__operation` int(11) NOT NULL, `_id` longblob NOT NULL, `_more` longblob NOT NULL))\n",
        "RETURNS void AS\n",
        "DECLARE rowsDeleted INT;\n",
        "BEGIN\n",
        "\n",
        "REPLACE INTO `listings` SELECT `_id`:>BSON AS `_id`, BSON_EXTRACT_STRING(`_more`,'name') AS `name`, BSON_EXTRACT_STRING(`_more`,'access') AS `access`,\n",
        "BSON_EXTRACT_BIGINT(`_more`,'accommodates') AS `accommodates`, BSON_EXCLUDE_MASK(`_more`,'{\"_id\": 1,\"name\": 1,\"review_scores\": 1,\"access\" : 1, \"accommodates\" : 1}') AS `_more`\n",
        "FROM changes WHERE __operation != 1;\n",
        "\n",
        "REPLACE INTO `reviews` SELECT `_id`:>BSON AS `listingid`, BSON_EXTRACT_BIGINT(`_more`,'review_scores','review_scores_accuracy') AS `review_scores_accuracy`,\n",
        "BSON_EXTRACT_BIGINT(`_more`,'review_scores','review_scores_cleanliness') AS `review_scores_cleanliness`, BSON_EXTRACT_BIGINT(`_more`,'review_scores','review_scores_rating') AS `review_scores_rating`\n",
        "FROM changes WHERE __operation != 1;\n",
        "\n",
        "SELECT count(*) INTO rowsDeleted FROM changes WHERE changes.__operation = 1;\n",
        "IF rowsDeleted > 0 THEN\n",
        "DELETE dest FROM `listings` AS dest INNER JOIN changes ON dest.`$_id` = BSON_NORMALIZE_NO_ARRAY(changes.`_id`) WHERE changes.__operation = 1;\n",
        "DELETE dest FROM `reviews` AS dest INNER JOIN changes ON dest.`$listingid` = BSON_NORMALIZE_NO_ARRAY(changes.`_id`) WHERE changes.__operation = 1;\n",
        "END IF;\n",
        "\n",
        "END;"
      ],
      "id": "d857451a"
    },
    {
      "cell_type": "code",
      "execution_count": 20,
      "metadata": {},
      "outputs": [],
      "source": [
        "%%sql\n",
        "CREATE AGGREGATOR PIPELINE `listingsAndReviews`\n",
        "AS LOAD DATA LINK source_listingsAndReviews 'sample_airbnb.listingsAndReviews'\n",
        "BATCH_INTERVAL 2500\n",
        "MAX_PARTITIONS_PER_BATCH 1\n",
        "DISABLE OFFSETS METADATA GC\n",
        "REPLACE\n",
        "KEY(`_id`)\n",
        "INTO PROCEDURE `listingsAndReviews_apply_changes`\n",
        "FORMAT AVRO\n",
        "(\n",
        "    __operation <- `__operation`,\n",
        "    _id <- `payload`::`_id`,\n",
        "    _more <- `payload`::`_more`\n",
        ")"
      ],
      "id": "c0a21511"
    },
    {
      "cell_type": "code",
      "execution_count": 21,
      "metadata": {},
      "outputs": [],
      "source": [
        "%%sql\n",
        "START ALL PIPELINES;"
      ],
      "id": "4d74028d"
    },
    {
      "cell_type": "code",
      "execution_count": 22,
      "metadata": {},
      "outputs": [],
      "source": [
        "%%sql\n",
        "SHOW TABLES;"
      ],
      "id": "60efa033"
    },
    {
      "cell_type": "code",
      "execution_count": 23,
      "metadata": {},
      "outputs": [],
      "source": [
        "%%sql\n",
        "SELECT _id:>JSON ,name, access, accommodates FROM listings LIMIT 10;"
      ],
      "id": "a0c36179"
    },
    {
      "cell_type": "code",
      "execution_count": 24,
      "metadata": {},
      "outputs": [],
      "source": [
        "%%sql\n",
        "SELECT listingid:>JSON, review_scores_accuracy,review_scores_cleanliness, review_scores_rating FROM reviews LIMIT 10;"
      ],
      "id": "7bc334b1"
    },
    {
      "id": "30f1da03",
      "cell_type": "markdown",
      "metadata": {},
      "source": [
        "<div id=\"singlestore-footer\" style=\"background-color: rgba(194, 193, 199, 0.25); height:2px; margin-bottom:10px\"></div>\n",
        "<div><img src=\"https://raw.githubusercontent.com/singlestore-labs/spaces-notebooks/master/common/images/singlestore-logo-grey.png\" style=\"padding: 0px; margin: 0px; height: 24px\"/></div>"
      ]
    }
  ],
  "metadata": {
    "kernelspec": {
      "display_name": "Python 3 (ipykernel)",
      "language": "python",
      "name": "python3"
    },
    "language_info": {
      "codemirror_mode": {
        "name": "ipython",
        "version": 3
      },
      "file_extension": ".py",
      "mimetype": "text/x-python",
      "name": "python",
      "nbconvert_exporter": "python",
      "pygments_lexer": "ipython3",
      "version": "3.11.6"
    }
  },
  "nbformat": 4,
  "nbformat_minor": 5
}
