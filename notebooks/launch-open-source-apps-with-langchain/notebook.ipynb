{
  "cells": [
    {
      "cell_type": "markdown",
      "id": "7d9894c5-8938-4790-8acf-44882f2d3391",
      "metadata": {},
      "source": [
        "<div id=\"singlestore-header\" style=\"display: flex; background-color: rgba(209, 153, 255, 0.25); padding: 5px;\">\n",
        "    <div id=\"icon-image\" style=\"width: 90px; height: 90px;\">\n",
        "        <img width=\"100%\" height=\"100%\" src=\"https://raw.githubusercontent.com/singlestore-labs/spaces-notebooks/master/common/images/header-icons/vector-circle.png\" />\n",
        "    </div>\n",
        "    <div id=\"text\" style=\"padding: 5px; margin-left: 10px;\">\n",
        "        <div id=\"badge\" style=\"display: inline-block; background-color: rgba(0, 0, 0, 0.15); border-radius: 4px; padding: 4px 8px; align-items: center; margin-top: 6px; margin-bottom: -2px; font-size: 80%\">SingleStore Notebooks</div>\n",
        "        <h1 style=\"font-weight: 500; margin: 8px 0 0 4px;\">Launch Open-Source Apps with LangChain</h1>\n",
        "    </div>\n",
        "</div>"
      ]
    },
    {
      "cell_type": "code",
      "execution_count": 1,
      "id": "be57e1dd-8030-4551-81bb-d25b1017188b",
      "metadata": {},
      "outputs": [],
      "source": [
        "%%writefile requirements.txt\n",
        "jinja2==3.0.3\n",
        "langchain==0.0.339\n",
        "openai==1.3.3\n",
        "pdf2image\n",
        "pdfminer\n",
        "pdfminer.six\n",
        "pillow_heif\n",
        "tabulate\n",
        "tiktoken\n",
        "unstructured\n",
        "opencv-python-headless\n",
        "unstructured.pytesseract\n",
        "unstructured.inference"
      ]
    },
    {
      "cell_type": "code",
      "execution_count": 2,
      "id": "68262edc-b67d-4b16-9486-7daef687af80",
      "metadata": {},
      "outputs": [],
      "source": [
        "%pip install -r requirements.txt --quiet"
      ]
    },
    {
      "cell_type": "code",
      "execution_count": 3,
      "id": "b21ec610-517c-4fcc-bd19-217b2675c8a9",
      "metadata": {},
      "outputs": [],
      "source": [
        "from langchain.document_loaders import OnlinePDFLoader\n",
        "\n",
        "loader = OnlinePDFLoader(\"http://leavcom.com/pdf/DBpdf.pdf\")\n",
        "\n",
        "data = loader.load()"
      ]
    },
    {
      "cell_type": "code",
      "execution_count": 4,
      "id": "a40099c8-f859-4707-a3c9-635bbc693806",
      "metadata": {},
      "outputs": [],
      "source": [
        "from langchain.text_splitter import RecursiveCharacterTextSplitter\n",
        "\n",
        "print (f\"You have {len(data)} document(s) in your data\")\n",
        "print (f\"There are {len(data[0].page_content)} characters in your document\")"
      ]
    },
    {
      "cell_type": "code",
      "execution_count": 5,
      "id": "dd303fc1-d02b-460d-a81e-3a313cab1a59",
      "metadata": {},
      "outputs": [],
      "source": [
        "text_splitter = RecursiveCharacterTextSplitter(chunk_size=2000, chunk_overlap=0)\n",
        "texts = text_splitter.split_documents(data)\n",
        "\n",
        "print (f\"You have {len(texts)} pages\")"
      ]
    },
    {
      "cell_type": "code",
      "execution_count": 6,
      "id": "5c05e57c-3300-4c1a-867c-383c621f2b94",
      "metadata": {},
      "outputs": [],
      "source": [
        "%%sql\n",
        "DROP DATABASE IF EXISTS pdf_db;\n",
        "CREATE DATABASE IF NOT EXISTS pdf_db;"
      ]
    },
    {
      "attachments": {},
      "cell_type": "markdown",
      "id": "c779893e-fb64-4fa5-b5de-69778354fbf4",
      "metadata": {},
      "source": [
        "<div class=\"alert alert-block alert-warning\">\n",
        "    <b class=\"fa fa-solid fa-exclamation-circle\"></b>\n",
        "    <div>\n",
        "        <p><b>Action Required</b></p>\n",
        "        <p>Make sure to select the <tt>pdf_db</tt> database from the drop-down menu at the top of this notebook. It updates the <tt>connection_url</tt> to connect to that database.</p>\n",
        "    </div>\n",
        "</div>"
      ]
    },
    {
      "cell_type": "code",
      "execution_count": 7,
      "id": "0d2c027b-883b-4e2b-9594-b5c4cc41af24",
      "metadata": {},
      "outputs": [],
      "source": [
        "%%sql\n",
        "DROP TABLE IF EXISTS pdf_docs1;\n",
        "CREATE TABLE IF NOT EXISTS pdf_docs1 (\n",
        "    id INT PRIMARY KEY,\n",
        "    content TEXT CHARACTER SET utf8mb4 COLLATE utf8mb4_general_ci,\n",
        "    vector BLOB\n",
        ");"
      ]
    },
    {
      "cell_type": "code",
      "execution_count": 8,
      "id": "df0283f6-66fa-4b2e-bf5c-024864896c28",
      "metadata": {},
      "outputs": [],
      "source": [
        "import os\n",
        "import getpass\n",
        "\n",
        "os.environ[\"OPENAI_API_KEY\"] = getpass.getpass(\"OpenAI API Key:\")"
      ]
    },
    {
      "cell_type": "code",
      "execution_count": 9,
      "id": "5b5d8f1c-e9a1-4010-bd77-fc209b52bdb6",
      "metadata": {},
      "outputs": [],
      "source": [
        "import json\n",
        "import sqlalchemy as sa\n",
        "from langchain.embeddings import OpenAIEmbeddings\n",
        "from singlestoredb import create_engine\n",
        "\n",
        "conn = create_engine().connect()\n",
        "\n",
        "embedder = OpenAIEmbeddings()\n",
        "\n",
        "# Fetch all embeddings in one call\n",
        "embeddings = embedder.embed_documents([doc.page_content for doc in texts])\n",
        "\n",
        "# Build query parameters\n",
        "params = []\n",
        "for i, (text_content, embedding) in enumerate(zip(texts, embeddings)):\n",
        "    params.append(dict(id=i+1, content=text_content, vector=json.dumps(embedding)))\n",
        "\n",
        "stmt = sa.text(\"\"\"\n",
        "    INSERT INTO pdf_docs1 (\n",
        "        id,\n",
        "        content,\n",
        "        vector\n",
        "    )\n",
        "    VALUES (\n",
        "        :id,\n",
        "        :content,\n",
        "        JSON_ARRAY_PACK_F32(:vector)\n",
        "    )\n",
        "\"\"\")\n",
        "\n",
        "conn.execute(stmt, params)"
      ]
    },
    {
      "cell_type": "code",
      "execution_count": 10,
      "id": "0226773e-b1eb-4e06-a92e-918c375b15a1",
      "metadata": {},
      "outputs": [],
      "source": [
        "%%sql\n",
        "SELECT JSON_ARRAY_UNPACK_F32(vector) as vector\n",
        "FROM pdf_docs1\n",
        "LIMIT 1;"
      ]
    },
    {
      "cell_type": "code",
      "execution_count": 11,
      "id": "5597f268-7dc2-4453-a5b1-e40fb211d0e8",
      "metadata": {},
      "outputs": [],
      "source": [
        "query_text = \"Will object-oriented databases be commercially successful?\"\n",
        "\n",
        "query_embedding = embedder.embed_documents([query_text])[0]\n",
        "\n",
        "stmt = sa.text(\"\"\"\n",
        "    SELECT\n",
        "        content,\n",
        "        DOT_PRODUCT_F32(JSON_ARRAY_PACK_F32(:embedding), vector) AS score\n",
        "    FROM pdf_docs1\n",
        "    ORDER BY score DESC\n",
        "    LIMIT 1\n",
        "\"\"\")\n",
        "\n",
        "results = conn.execute(stmt, dict(embedding=json.dumps(query_embedding)))\n",
        "\n",
        "for row in results:\n",
        "    print(row[0])"
      ]
    },
    {
      "cell_type": "code",
      "execution_count": 12,
      "id": "a469ffbd-5084-4c5a-b961-a8c908c391ce",
      "metadata": {},
      "outputs": [],
      "source": [
        "import openai\n",
        "\n",
        "client = openai.OpenAI()\n",
        "\n",
        "prompt = f\"The user asked: {query_text}. The most similar text from the document is: {row[0]}\"\n",
        "\n",
        "response = client.chat.completions.create(\n",
        "    model=\"gpt-3.5-turbo\",\n",
        "    messages=[\n",
        "        {\"role\": \"system\", \"content\": \"You are a helpful assistant.\"},\n",
        "        {\"role\": \"user\", \"content\": prompt}\n",
        "    ]\n",
        ")\n",
        "\n",
        "print(response.choices[0].message.content)"
      ]
    },
    {
      "attachments": {},
      "cell_type": "markdown",
      "id": "332b068b-97a2-400c-a88d-961280adcac0",
      "metadata": {},
      "source": [
        "## Clean up"
      ]
    },
    {
      "cell_type": "code",
      "execution_count": 13,
      "id": "7ade2f7b-af30-4e58-a493-735bf1cec213",
      "metadata": {},
      "outputs": [],
      "source": [
        "%%sql\n",
        "DROP DATABASE IF EXISTS pdf_db"
      ]
    },
    {
      "cell_type": "markdown",
      "id": "f1ce8da7-0868-47fd-8585-4777d26f3adc",
      "metadata": {},
      "source": [
        "<div id=\"singlestore-footer\" style=\"background-color: rgba(194, 193, 199, 0.25); height:2px; margin-bottom:10px\"></div>\n",
        "<div><img src=\"https://raw.githubusercontent.com/singlestore-labs/spaces-notebooks/master/common/images/singlestore-logo-grey.png\" style=\"padding: 0px; margin: 0px; height: 24px\"/></div>"
      ]
    }
  ],
  "metadata": {
    "jupyterlab": {
      "notebooks": {
        "version_major": 6,
        "version_minor": 4
      }
    },
    "kernelspec": {
      "display_name": "Python 3 (ipykernel)",
      "language": "python",
      "name": "python3"
    },
    "language_info": {
      "codemirror_mode": {
        "name": "ipython",
        "version": 3
      },
      "file_extension": ".py",
      "mimetype": "text/x-python",
      "name": "python",
      "nbconvert_exporter": "python",
      "pygments_lexer": "ipython3",
      "version": "3.11.6"
    }
  },
  "nbformat": 4,
  "nbformat_minor": 5
}
