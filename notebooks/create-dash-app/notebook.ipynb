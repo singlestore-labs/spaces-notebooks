{
  "cells": [
    {
      "cell_type": "markdown",
      "id": "24350541-570b-491c-be33-b32b46764cf0",
      "metadata": {},
      "source": [
        "<div id=\"singlestore-header\" style=\"display: flex; background-color: rgba(235, 249, 245, 0.25); padding: 5px;\">\n",
        "    <div id=\"icon-image\" style=\"width: 90px; height: 90px;\">\n",
        "        <img width=\"100%\" height=\"100%\" src=\"https://raw.githubusercontent.com/singlestore-labs/spaces-notebooks/master/common/images/header-icons/browser.png\" />\n",
        "    </div>\n",
        "    <div id=\"text\" style=\"padding: 5px; margin-left: 10px;\">\n",
        "        <div id=\"badge\" style=\"display: inline-block; background-color: rgba(0, 0, 0, 0.15); border-radius: 4px; padding: 4px 8px; align-items: center; margin-top: 6px; margin-bottom: -2px; font-size: 80%\">SingleStore Notebooks</div>\n",
        "        <h1 style=\"font-weight: 500; margin: 8px 0 0 4px;\">Publish your first SingleStore DashApp</h1>\n",
        "    </div>\n",
        "</div>"
      ]
    },
    {
      "cell_type": "markdown",
      "id": "c5893325-17c9-495f-862f-049072c30806",
      "metadata": {},
      "source": [
        "<div class=\"alert alert-block alert-warning\">\n",
        "    <b class=\"fa fa-solid fa-exclamation-circle\"></b>\n",
        "    <div>\n",
        "        <p><b>Note</b></p>\n",
        "        <p>This notebook can be run on a Free Starter Workspace. To create a Free Starter Workspace navigate to <tt>Start</tt> using the left nav. You can also use your existing Standard or Premium workspace with this Notebook.</p>\n",
        "    </div>\n",
        "</div>"
      ]
    },
    {
      "attachments": {},
      "cell_type": "markdown",
      "id": "df860ca4-6db8-4ded-a061-30be438c4add",
      "metadata": {},
      "source": [
        "This Jupyter notebook will help you build your first real time Dashboard, showcasing how to leverage the ultra-fast queries of SingleStore to build a great visual experience using Plotly's DashApps."
      ]
    },
    {
      "attachments": {},
      "cell_type": "markdown",
      "id": "e0fd0d9c-fd75-453a-aac3-bf797949dcce",
      "metadata": {},
      "source": [
        "## Create some simple tables\n",
        "\n",
        "This setup establishes a basic relational structure to store some orders information."
      ]
    },
    {
      "cell_type": "code",
      "execution_count": 1,
      "id": "d218d020-b9dc-4419-961d-2232ca0893f8",
      "metadata": {},
      "outputs": [],
      "source": [
        "%%sql\n",
        "DROP TABLE IF EXISTS orders;\n",
        "\n",
        "CREATE TABLE IF NOT EXISTS orders (\n",
        "    order_id INT PRIMARY KEY,\n",
        "    order_date DATE,\n",
        "    amount DECIMAL(10, 2),\n",
        "    name VARCHAR(50)\n",
        ");"
      ]
    },
    {
      "attachments": {},
      "cell_type": "markdown",
      "id": "c6e492c6-74c8-488f-a456-fae59af0c69d",
      "metadata": {},
      "source": [
        "## Insert some data\n",
        "\n",
        "Lets now insert some time series data into the table."
      ]
    },
    {
      "cell_type": "code",
      "execution_count": 2,
      "id": "98e60d97-42ce-4600-8e35-556c70f9d4c2",
      "metadata": {},
      "outputs": [],
      "source": [
        "%%sql\n",
        "INSERT INTO orders (order_id, order_date, amount, name) VALUES\n",
        "(1, '2024-01-01', 150.00, \"Laptop\"),\n",
        "(2, '2024-01-01', 20.00, \"Speaker\"),\n",
        "(3, '2024-01-01', 60.00, \"Monitor\"),\n",
        "(4, '2024-01-02', 300.00, \"Laptop\"),\n",
        "(5, '2024-01-02', 100.00, \"Laptop\"),\n",
        "(6, '2024-01-02', 100.00, \"Laptop\"),\n",
        "(7, '2024-01-02', 25.00, \"Speaker\"),\n",
        "(8, '2024-01-02', 20.00, \"Speaker\"),\n",
        "(9, '2024-01-02', 75.00, \"Monitor\"),\n",
        "(10, '2024-01-03', 350.00, \"Laptop\"),\n",
        "(11, '2024-01-03', 150.00, \"Laptop\"),\n",
        "(12, '2024-01-03', 25.00, \"Speaker\"),\n",
        "(13, '2024-01-03', 35.00, \"Speaker\"),\n",
        "(14, '2024-01-03', 55.00, \"Monitor\"),\n",
        "(15, '2024-01-04', 120.00, \"Laptop\"),\n",
        "(16, '2024-01-04', 120.00, \"Laptop\"),\n",
        "(17, '2024-01-04', 30.00, \"Speaker\"),\n",
        "(18, '2024-01-04', 40.00, \"Speaker\"),\n",
        "(19, '2024-01-04', 25.00, \"Speaker\"),\n",
        "(20, '2024-01-04', 50.00, \"Monitor\"),\n",
        "(21, '2024-01-04', 70.00, \"Monitor\");"
      ]
    },
    {
      "attachments": {},
      "cell_type": "markdown",
      "id": "beb57814-ad38-4065-a730-59576f6a72e3",
      "metadata": {},
      "source": [
        "## Create a Connection Pool\n",
        "\n",
        "Next, we use sqlalchemy to create a pool of sql connections to the workspace you have selected. We also define a method to execute queries using a connection from this pool."
      ]
    },
    {
      "cell_type": "code",
      "execution_count": 3,
      "id": "f030ce86-4940-4014-8227-6b8c9cb56246",
      "metadata": {},
      "outputs": [],
      "source": [
        "from sqlalchemy import create_engine, text\n",
        "import requests\n",
        "\n",
        "ca_cert_url = \"https://portal.singlestore.com/static/ca/singlestore_bundle.pem\"\n",
        "ca_cert_path = \"/tmp/singlestore_bundle.pem\"\n",
        "\n",
        "response = requests.get(ca_cert_url)\n",
        "with open(ca_cert_path, \"wb\") as f:\n",
        "    f.write(response.content)\n",
        "\n",
        "sql_connection_string = connection_url.replace(\"singlestoredb\", \"mysql+pymysql\")\n",
        "engine = create_engine(\n",
        "    f\"{sql_connection_string}?ssl_ca={ca_cert_path}\",\n",
        "    pool_size=10,           # Maximum number of connections in the pool is 10\n",
        "    max_overflow=5,         # Allow up to 5 additional connections (temporary overflow)\n",
        "    pool_timeout=30         # Wait up to 30 seconds for a connection from the pool\n",
        ")\n",
        "\n",
        "def execute_query(query: str):\n",
        "    with engine.connect() as connection:\n",
        "        return pd.read_sql_query(query, connection)"
      ]
    },
    {
      "attachments": {},
      "cell_type": "markdown",
      "id": "dd87d196-3d52-4f3a-8dd4-d5f3540b051f",
      "metadata": {},
      "source": [
        "## Create a line chart\n",
        "\n",
        "You can create a line chart using plotly, to depict either of the following\n",
        "- Number of items sold\n",
        "- Total sales volume"
      ]
    },
    {
      "cell_type": "code",
      "execution_count": 4,
      "id": "712cd20d-6f2d-4c5a-9094-11b611ce622d",
      "metadata": {},
      "outputs": [],
      "source": [
        "import pandas as pd\n",
        "import plotly.express as px\n",
        "import plotly.graph_objects as go\n",
        "\n",
        "def generate_line_chart(type):\n",
        "    if type == 'Count':\n",
        "        df = execute_query(\"SELECT order_date, name, COUNT(*) as sales from orders group by order_date, name order by order_date\")\n",
        "    elif type == 'Total Value':\n",
        "        df = execute_query(\"SELECT order_date, name, SUM(amount) as sales from orders group by order_date, name order by order_date\")\n",
        "    fig = px.line(df, x='order_date', y='sales', color='name', markers=True,\n",
        "              labels={'sales': 'Sales', 'date': 'Order Date'},\n",
        "              title='Sales Over Time')\n",
        "    fig.update_layout(\n",
        "        font_family=\"Roboto\",\n",
        "        font_color=\"gray\",\n",
        "        title_font_family=\"Roboto\",\n",
        "        title_font_color=\"Black\",\n",
        "        legend_title_font_color=\"gray\"\n",
        "    )\n",
        "    return fig\n",
        "\n",
        "line_chart = generate_line_chart(\"Count\")\n",
        "line_chart.show()"
      ]
    },
    {
      "attachments": {},
      "cell_type": "markdown",
      "id": "cc363aa0-a8d5-4f7e-bdae-5a22d56e0bcf",
      "metadata": {},
      "source": [
        "## Create a pie chart\n",
        "\n",
        "You can create a pie chart to see the contribution of each type of item to the daily sales volume"
      ]
    },
    {
      "cell_type": "code",
      "execution_count": 5,
      "id": "79aa80ef-4a49-4238-87fb-f90a16ba4e42",
      "metadata": {},
      "outputs": [],
      "source": [
        "def generate_pie_chart(date):\n",
        "    df = execute_query(f\"SELECT name, SUM(amount) as sales from orders where order_date = '{date}' group by name\")\n",
        "    fig = px.pie(df,\n",
        "            names='name',\n",
        "            values='sales',\n",
        "            hover_data=['sales'],\n",
        "            labels={'sales': 'Total Sales', 'name': 'Type'},\n",
        "            title='Total Cost by Item Type')\n",
        "    return fig\n",
        "\n",
        "pie_chart = generate_pie_chart(\"2024-01-01\")\n",
        "pie_chart.show()"
      ]
    },
    {
      "attachments": {},
      "cell_type": "markdown",
      "id": "94586a2e-76b2-48f8-8dbd-ff7038443ae1",
      "metadata": {},
      "source": [
        "## Define the Dash App Layout and Callbacks\n",
        "\n",
        "We can now define the [layout](https://dash.plotly.com/layout) and [callbacks](https://dash.plotly.com/basic-callbacks) of the Dash app.\n",
        "The Layout defines the UI elements of your Dashboard and the callbacks define the interactions between the UI elements and the sqlalchemy query engine we defined earlier"
      ]
    },
    {
      "cell_type": "code",
      "execution_count": 6,
      "id": "de733262-834b-48b6-b885-78dfc5ebb452",
      "metadata": {},
      "outputs": [],
      "source": [
        "from singlestoredb import apps\n",
        "from dash import Dash, callback, html, dcc, Input, Output\n",
        "\n",
        "def get_order_dates():\n",
        "    df = execute_query(\"select distinct order_date from orders order by order_date\")\n",
        "    return df['order_date']\n",
        "\n",
        "initial_dates = get_order_dates()\n",
        "\n",
        "# Create the Dash App\n",
        "app = Dash(\"Sales Report\", requests_pathname_prefix=os.environ['SINGLESTOREDB_APP_BASE_PATH'])\n",
        "\n",
        "# Define the Layout of the Dash App. We will be defining\n",
        "# - A line chart depicting a time series of sales\n",
        "# - A dropdown that shows 'Count'/'Total Value' options, which is used to render different line charts\n",
        "# - An interval counter to keep pinging the Dash App server to get the latest dashboard\n",
        "# - A pie chart depicting the total proportion of sales for a day by item type\n",
        "# - A drop down showing the different dates, which is used to render different pie charts\n",
        "\n",
        "app.layout = html.Div([\n",
        "    html.P('Sales Dashboard', style={'textAlign':'center', 'marginTop': 50, 'color': '#8800cc', 'fontSize': '32px', 'fontFamily':'Roboto'} ),\n",
        "    html.Div([\n",
        "        dcc.Interval(\n",
        "            id='interval-component',\n",
        "            interval=2 * 5000,  # Update every second\n",
        "            n_intervals=0  # Start at 0\n",
        "        ),\n",
        "        html.Div(\n",
        "            dcc.Dropdown(['Count', 'Total Value'], 'Count', id='category-dropdown', style={'width': '200px', 'marginRight':'32px' }),\n",
        "            style={'display': 'flex', 'justifyContent': 'flex-end'}\n",
        "        ),\n",
        "        dcc.Loading(\n",
        "            id=\"loading-spinner\",\n",
        "            type=\"circle\",  # Type of spinner: 'circle', 'dot', 'cube', etc.\n",
        "            children=[\n",
        "                dcc.Graph(figure = line_chart, id='line-chart'),\n",
        "            ]\n",
        "        ),\n",
        "        html.Div(\n",
        "            dcc.Dropdown(initial_dates, initial_dates[0], id='date-dropdown', style={'width': '200px', 'marginRight':'32px' }),\n",
        "            style={'display': 'flex', 'justifyContent': 'flex-end'}\n",
        "        ),\n",
        "        dcc.Graph(figure = pie_chart, id='pie-chart'),\n",
        "    ], style={'margin': '32px'})\n",
        "])\n",
        "\n",
        "# Define a callback to update the bar chart based on the category dropdown selection\n",
        "@app.callback(\n",
        "    Output(\"line-chart\", \"figure\"),\n",
        "    Input(\"category-dropdown\", \"value\"))  # Use the stored value\n",
        "def update_bar_chart(type):\n",
        "    return generate_line_chart(type)\n",
        "\n",
        "# Define a callback to update the pie chart based on the date dropdown selection\n",
        "@app.callback(\n",
        "    Output(\"pie-chart\", \"figure\"),\n",
        "    Input(\"date-dropdown\", \"value\"),\n",
        "    Input('interval-component', 'n_intervals'))\n",
        "def update_pie_chart(date, n_intervals):\n",
        "    return generate_pie_chart(date)\n",
        "\n",
        "# Define a callback to update the date dropdown periodically\n",
        "@app.callback(\n",
        "    Output('date-dropdown', 'options'),\n",
        "    Input('interval-component', 'n_intervals'))\n",
        "def update_date_dropdown(n_intervals):\n",
        "    return get_order_dates()"
      ]
    },
    {
      "attachments": {},
      "cell_type": "markdown",
      "id": "f287e202-704b-4eb5-8290-fb08ba9a493c",
      "metadata": {},
      "source": [
        "## Start the Dash App server\n",
        "\n",
        "The link at which the Dash App will be available interactively will be displayed. You can also insert more data into the table and view the changes to the dashboard in real time."
      ]
    },
    {
      "cell_type": "code",
      "execution_count": 7,
      "id": "69632c1b-f981-4338-9f91-ca8ae746cd73",
      "metadata": {},
      "outputs": [],
      "source": [
        "connectionInfo = await apps.run_dashboard_app(app)"
      ]
    },
    {
      "attachments": {},
      "cell_type": "markdown",
      "id": "4fe4abd0-d52f-475a-89a4-d518f2b37d0d",
      "metadata": {},
      "source": [
        "## Publish Dashboard\n",
        "\n",
        "After validating the Dashboard interactively, you can publish it and view the changes to your data in real time!"
      ]
    },
    {
      "cell_type": "markdown",
      "id": "8eb7fab3-c714-4b3b-93a7-ce8a9836ded2",
      "metadata": {},
      "source": [
        "<div id=\"singlestore-footer\" style=\"background-color: rgba(194, 193, 199, 0.25); height:2px; margin-bottom:10px\"></div>\n",
        "<div><img src=\"https://raw.githubusercontent.com/singlestore-labs/spaces-notebooks/master/common/images/singlestore-logo-grey.png\" style=\"padding: 0px; margin: 0px; height: 24px\"/></div>"
      ]
    }
  ],
  "metadata": {
    "jupyterlab": {
      "notebooks": {
        "version_major": 6,
        "version_minor": 4
      }
    },
    "kernelspec": {
      "display_name": "Python 3 (ipykernel)",
      "language": "python",
      "name": "python3"
    },
    "language_info": {
      "codemirror_mode": {
        "name": "ipython",
        "version": 3
      },
      "file_extension": ".py",
      "mimetype": "text/x-python",
      "name": "python",
      "nbconvert_exporter": "python",
      "pygments_lexer": "ipython3",
      "version": "3.11.6"
    }
  },
  "nbformat": 4,
  "nbformat_minor": 5
}
