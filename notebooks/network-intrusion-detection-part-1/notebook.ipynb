{
  "cells": [
    {
      "cell_type": "markdown",
      "id": "93ad2bda-e101-4aad-a83b-45f84560597c",
      "metadata": {},
      "source": [
        "<div id=\"singlestore-header\" style=\"display: flex; background-color: rgba(235, 249, 245, 0.25); padding: 5px;\">\n",
        "    <div id=\"icon-image\" style=\"width: 90px; height: 90px;\">\n",
        "        <img width=\"100%\" height=\"100%\" src=\"https://raw.githubusercontent.com/singlestore-labs/spaces-notebooks/master/common/images/header-icons/browser.png\" />\n",
        "    </div>\n",
        "    <div id=\"text\" style=\"padding: 5px; margin-left: 10px;\">\n",
        "        <div id=\"badge\" style=\"display: inline-block; background-color: rgba(0, 0, 0, 0.15); border-radius: 4px; padding: 4px 8px; align-items: center; margin-top: 6px; margin-bottom: -2px; font-size: 80%\">SingleStore Notebooks</div>\n",
        "        <h1 style=\"font-weight: 500; margin: 8px 0 0 4px;\">IT Threat Detection, Part 1</h1>\n",
        "    </div>\n",
        "</div>"
      ]
    },
    {
      "cell_type": "markdown",
      "id": "b59d7dae",
      "metadata": {},
      "source": [
        "<div class=\"alert alert-block alert-info\">\n",
        "    <b class=\"fa fa-solid fa-info-circle\"></b>\n",
        "    <div>\n",
        "        <p><b>Note</b></p>\n",
        "        <p>This tutorial is meant for Standard & Premium Workspaces. You can't run this with a Free Starter Workspace due to restrictions on Storage. Create a Workspace using +group in the left nav & select Standard for this notebook. Gallery notebooks tagged with \"Starter\" are suitable to run on a Free Starter Workspace </p>\n",
        "    </div>\n",
        "</div>"
      ]
    },
    {
      "cell_type": "markdown",
      "id": "4d343fe9-0c6f-4cf7-bf04-02524cdb5879",
      "metadata": {},
      "source": [
        "This notebook demonstrates the application of SingleStoreDB's similarity search to create a system for identifying infrequent occurrences, a common requirement in fields such as cybersecurity and fraud detection where only a small percentage of events are potentially malicious.\n",
        "\n",
        "In this instance, we aim to construct a network intrusion detection system. These systems continuously monitor incoming and outgoing network traffic, generating alerts when potential threats are detected. We'll utilize a combination of a deep learning model and similarity search to identify and classify network intrusion traffic.\n",
        "\n",
        "Our initial step involves a dataset of labeled traffic events, distinguishing between benign and malicious events, by transforming them into vector embeddings. These vector embeddings serve as comprehensive mathematical representations of network traffic events. SingleStoreDB's built-in similarity-search algorithms allow us to measure the similarity between different network events. To generate these embeddings, we'll leverage a deep learning model based on recent academic research.\n",
        "\n",
        "Subsequently, we'll apply this dataset to search for the most similar matches when presented with new, unseen network events. We'll retrieve these matches along with their corresponding labels. This process enables us to classify the unseen events as either **benign** or **malicious** by propagating the labels of the matched events. It's essential to note that intrusion detection is a complex classification task, primarily because malicious events occur infrequently. The similarity search service plays a crucial role in identifying relevant historical labeled events, thus enabling the identification of these rare events while maintaining a low rate of false alarms.\n",
        "\n",
        "## Install Dependencies"
      ]
    },
    {
      "cell_type": "code",
      "execution_count": 1,
      "id": "c649045f-0a53-4c49-88cb-0351e872d68c",
      "metadata": {},
      "outputs": [],
      "source": [
        "!pip install tensorflow keras --upgrade --quiet"
      ]
    },
    {
      "cell_type": "code",
      "execution_count": 2,
      "id": "f3bb35f9-67ea-4a23-b713-888746494baf",
      "metadata": {},
      "outputs": [],
      "source": [
        "import os\n",
        "os.environ['TF_CPP_MIN_LOG_LEVEL'] = '3'\n",
        "\n",
        "import pandas as pd\n",
        "import tensorflow.keras.backend as K\n",
        "from tensorflow import keras\n",
        "from tensorflow.keras.models import Model"
      ]
    },
    {
      "cell_type": "markdown",
      "id": "01fa2a0b-0213-4399-8481-adc1734cecf0",
      "metadata": {},
      "source": [
        "We'll define a Python context manager called `clear_memory()` using the **contextlib** module. This context manager will be used to clear memory by running Python's garbage collector (`gc.collect()`) after a block of code is executed."
      ]
    },
    {
      "cell_type": "code",
      "execution_count": 3,
      "id": "b7b5a0c6-aef9-4fea-91d9-8777e75d5c1f",
      "metadata": {},
      "outputs": [],
      "source": [
        "import contextlib\n",
        "import gc\n",
        "\n",
        "@contextlib.contextmanager\n",
        "def clear_memory():\n",
        "    try:\n",
        "        yield\n",
        "    finally:\n",
        "        gc.collect()"
      ]
    },
    {
      "cell_type": "markdown",
      "id": "6eaabcc0-3bfa-4c67-86cd-8b3a42150a6f",
      "metadata": {},
      "source": [
        "We'll will incorporate portions of code from [research work](https://github.com/Colorado-Mesa-University-Cybersecurity/DeepLearning-IDS). To begin, we'll clone the repository required for data preparation."
      ]
    },
    {
      "cell_type": "code",
      "execution_count": 4,
      "id": "1d06bd7a-f3ad-4c3a-a085-d8583d20e2bc",
      "metadata": {},
      "outputs": [],
      "source": [
        "!git clone -q https://github.com/Colorado-Mesa-University-Cybersecurity/DeepLearning-IDS.git"
      ]
    },
    {
      "cell_type": "markdown",
      "id": "8c323aab-899d-4156-8cfe-98f0fdbb2147",
      "metadata": {},
      "source": [
        "## Data Preparation\n",
        "\n",
        "The datasets we'll utilize comprise two types of network traffic:\n",
        "\n",
        "1. Benign (normal)\n",
        "2. Malicious (attack)\n",
        "\n",
        "stemming from various network attacks. Our focus will be solely on web-based attacks. These web attacks fall into three common categories:\n",
        "\n",
        "1. Cross-site scripting (BruteForce-XSS)\n",
        "2. SQL-Injection (SQL-Injection)\n",
        "3. Brute force attempts on administrative and user passwords (BruteForce-Web)\n",
        "\n",
        "The original data was collected over a span of two days.\n",
        "\n",
        "### Download Data\n",
        "\n",
        "We'll proceed by downloading data for two specific dates:\n",
        "\n",
        "1. February 22, 2018\n",
        "2. February 23, 2018\n",
        "\n",
        "These files will be retrieved and saved to the current directory. Our intention is to use one of these dates for training and generating vectors, while the other will be reserved for testing purposes."
      ]
    },
    {
      "cell_type": "code",
      "execution_count": 5,
      "id": "47a639f2-1f03-4972-8212-316887cc1c73",
      "metadata": {},
      "outputs": [],
      "source": [
        "!wget \"https://cse-cic-ids2018.s3.ca-central-1.amazonaws.com/Processed%20Traffic%20Data%20for%20ML%20Algorithms/Thursday-22-02-2018_TrafficForML_CICFlowMeter.csv\" -q --show-progress\n",
        "!wget \"https://cse-cic-ids2018.s3.ca-central-1.amazonaws.com/Processed%20Traffic%20Data%20for%20ML%20Algorithms/Friday-23-02-2018_TrafficForML_CICFlowMeter.csv\" -q --show-progress"
      ]
    },
    {
      "cell_type": "markdown",
      "id": "21103ba6-036d-4525-9e5a-073ec515aba9",
      "metadata": {},
      "source": [
        "### Review Data"
      ]
    },
    {
      "cell_type": "code",
      "execution_count": 6,
      "id": "c17e283b-8629-483a-9631-69392b3b872e",
      "metadata": {},
      "outputs": [],
      "source": [
        "with clear_memory():\n",
        "    data = pd.read_csv('Friday-23-02-2018_TrafficForML_CICFlowMeter.csv')\n",
        "\n",
        "data.Label.value_counts()"
      ]
    },
    {
      "cell_type": "markdown",
      "id": "176bc1e1-822e-4e22-a5fa-0dd03d6ecf04",
      "metadata": {},
      "source": [
        "### Clean Data\n",
        "\n",
        "We'll run a cleanup script from the previously downloaded GitHub repo."
      ]
    },
    {
      "cell_type": "code",
      "execution_count": 7,
      "id": "af4f1d28-cba5-4547-a2bd-a34b200fc261",
      "metadata": {},
      "outputs": [],
      "source": [
        "!python DeepLearning-IDS/data_cleanup.py \"Friday-23-02-2018_TrafficForML_CICFlowMeter.csv\" \"result23022018\""
      ]
    },
    {
      "cell_type": "markdown",
      "id": "15fd1f07-d8a1-4ab5-a36c-5a08f1f043e9",
      "metadata": {},
      "source": [
        "We'll now review the cleaned data from the previous step."
      ]
    },
    {
      "cell_type": "code",
      "execution_count": 8,
      "id": "d893178a-6bcc-4a16-89ef-f3559adad14c",
      "metadata": {},
      "outputs": [],
      "source": [
        "with clear_memory():\n",
        "    data_23_cleaned = pd.read_csv('result23022018.csv')\n",
        "\n",
        "data_23_cleaned.head()"
      ]
    },
    {
      "cell_type": "code",
      "execution_count": 9,
      "id": "d98eee6b-6a68-4fb6-b418-1599daa9e4ff",
      "metadata": {},
      "outputs": [],
      "source": [
        "data_23_cleaned.Label.value_counts()"
      ]
    },
    {
      "cell_type": "markdown",
      "id": "1b466f2f-ee4f-43ba-b1e6-0cb3380c9125",
      "metadata": {},
      "source": [
        "## Load Model\n",
        "\n",
        "In this section, we'll load a pre-trained model that has been trained on data collected from the same date.\n",
        "\n",
        "There are slight modifications to the original model, specifically, altering the number of classes. Initially, the model was designed to classify into four categories:\n",
        "\n",
        "1. Benign\n",
        "2. BruteForce-Web\n",
        "3. BruteForce-XSS\n",
        "4. SQL-Injection\n",
        "\n",
        "Our modified model has been adjusted to classify into just two categories:\n",
        "\n",
        "1. Benign\n",
        "2. Attack\n",
        "\n",
        "<div class=\"alert alert-block alert-warning\">\n",
        "    <b class=\"fa fa-solid fa-exclamation-circle\"></b>\n",
        "    <div>\n",
        "        <p><b>Action Required</b></p>\n",
        "        <p>The ZIP file is hosted on a Google Drive.</p>\n",
        "        <p>Using the <b>Edit Firewall</b> button in the top right, add the following to the SingleStoreDB Cloud notebook firewall, one-by-one:\n",
        "            <ul style=\"list-style: none;\">\n",
        "                <li><b>drive.google.com</b></li>\n",
        "                <li><b>*.googleapis.com</b></li>\n",
        "                <li><b>*.googleusercontent.com</b></li>\n",
        "            </ul>\n",
        "        </p>\n",
        "    </div>\n",
        "</div>"
      ]
    },
    {
      "cell_type": "code",
      "execution_count": 10,
      "id": "4074a769-b16b-4543-b0db-518c7f95f205",
      "metadata": {},
      "outputs": [],
      "source": [
        "!wget -q -O it_threat_model.zip \"https://drive.google.com/uc?export=download&id=1ahr5dYlhuxS56M6helUFI0yIxxIoFk9o\"\n",
        "!unzip -q it_threat_model.zip"
      ]
    },
    {
      "cell_type": "code",
      "execution_count": 11,
      "id": "7c77cf96-e3f7-4bed-9f7e-913f851367d8",
      "metadata": {},
      "outputs": [],
      "source": [
        "with clear_memory():\n",
        "    model = keras.models.load_model('it_threat_model')\n",
        "\n",
        "model.summary()"
      ]
    },
    {
      "cell_type": "code",
      "execution_count": 12,
      "id": "ed66c137-1023-4dce-b9ea-5e742099302e",
      "metadata": {},
      "outputs": [],
      "source": [
        "with clear_memory():\n",
        "    # Use the first layer\n",
        "    layer_name = 'dense'\n",
        "    intermediate_layer_model = Model(\n",
        "        inputs = model.input,\n",
        "        outputs = model.get_layer(layer_name).output\n",
        "    )"
      ]
    },
    {
      "cell_type": "markdown",
      "id": "24d3bfbb-78ee-4a8b-a429-84f988915b6d",
      "metadata": {},
      "source": [
        "## Upload Data to SingleStoreDB\n",
        "\n",
        "### Prepare Data\n",
        "We'll use a method for defining item IDs that aligns with the event's label."
      ]
    },
    {
      "cell_type": "code",
      "execution_count": 13,
      "id": "ae1fc38e-f532-430a-99cd-f3e154343bd4",
      "metadata": {},
      "outputs": [],
      "source": [
        "from tqdm import tqdm\n",
        "items_to_upload = []\n",
        "\n",
        "with clear_memory():\n",
        "    model_res = intermediate_layer_model.predict(K.constant(data_23_cleaned.iloc[:,:-1]))\n",
        "\n",
        "    for i, res in tqdm(zip(data_23_cleaned.iterrows(), model_res), total = len(model_res)):\n",
        "        benign_or_attack = i[1]['Label'][:3]\n",
        "        items_to_upload.append((benign_or_attack + '_' + str(i[0]), res.tolist()))"
      ]
    },
    {
      "cell_type": "markdown",
      "id": "e4b3f74e-efea-499e-b25a-74316fcf2395",
      "metadata": {},
      "source": [
        "We'll store the data in a Pandas DataFrame."
      ]
    },
    {
      "cell_type": "code",
      "execution_count": 14,
      "id": "0177714c-62b7-4d3e-a93b-2fd467ff1352",
      "metadata": {},
      "outputs": [],
      "source": [
        "with clear_memory():\n",
        "    df = pd.DataFrame(items_to_upload, columns=['ID', 'Model_Results'])\n",
        "\n",
        "df.head()"
      ]
    },
    {
      "cell_type": "markdown",
      "id": "f52639f6-82c8-427f-aa7b-9859d6580eae",
      "metadata": {},
      "source": [
        "Now we'll convert the vectors to a binary format, ready to store in SingleStoreDB."
      ]
    },
    {
      "cell_type": "code",
      "execution_count": 15,
      "id": "ec8a2d26-98cf-4f1a-9e13-e197cd65040c",
      "metadata": {},
      "outputs": [],
      "source": [
        "import struct\n",
        "\n",
        "def data_to_binary(data: list[float]):\n",
        "    format_string = 'f' * len(data)\n",
        "    return struct.pack(format_string, *data)\n",
        "\n",
        "with clear_memory():\n",
        "    df['Model_Results'] = df['Model_Results'].apply(data_to_binary)"
      ]
    },
    {
      "cell_type": "markdown",
      "id": "e267e6a4-3e70-4411-96cd-94da3f1f6011",
      "metadata": {},
      "source": [
        "We'll check the DataFrame."
      ]
    },
    {
      "cell_type": "code",
      "execution_count": 16,
      "id": "770cfe1e-4d55-43a8-a5e0-36da2525ca25",
      "metadata": {},
      "outputs": [],
      "source": [
        "df.head()"
      ]
    },
    {
      "cell_type": "markdown",
      "id": "8131ad6c-6d50-49db-845c-457e9957ddb9",
      "metadata": {},
      "source": [
        "### Create Database and Table"
      ]
    },
    {
      "cell_type": "code",
      "execution_count": 17,
      "id": "8940168f-072f-42cd-8855-4c6b6829421d",
      "metadata": {},
      "outputs": [],
      "source": [
        "%%sql\n",
        "DROP DATABASE IF EXISTS siem_log_kafka_demo;\n",
        "\n",
        "CREATE DATABASE IF NOT EXISTS siem_log_kafka_demo;\n",
        "\n",
        "USE siem_log_kafka_demo;\n",
        "\n",
        "DROP TABLE IF EXISTS model_results_demo;\n",
        "\n",
        "CREATE TABLE IF NOT EXISTS model_results (\n",
        "    id TEXT,\n",
        "    Model_Results BLOB\n",
        ");"
      ]
    },
    {
      "cell_type": "markdown",
      "id": "b6390a0c-d60a-4876-85bd-56e17deabeeb",
      "metadata": {},
      "source": [
        "### Get Connection Details\n",
        "\n",
        "<div class=\"alert alert-block alert-warning\">\n",
        "    <b class=\"fa fa-solid fa-exclamation-circle\"></b>\n",
        "    <div>\n",
        "        <p><b>Action Required</b></p>\n",
        "        <p>Select the database from the drop-down menu at the top of this notebook. It updates the <b>connection_url</b> which is used by SQLAlchemy to make connections to the selected database.</p>\n",
        "    </div>\n",
        "</div>"
      ]
    },
    {
      "cell_type": "code",
      "execution_count": 18,
      "id": "8208b373-1973-4925-8d8a-cd43ba13e7d7",
      "metadata": {},
      "outputs": [],
      "source": [
        "from sqlalchemy import *\n",
        "\n",
        "db_connection = create_engine(connection_url)"
      ]
    },
    {
      "cell_type": "markdown",
      "id": "d97c6886-0ea9-47b5-938b-03ada717b394",
      "metadata": {},
      "source": [
        "### Store DataFrame"
      ]
    },
    {
      "cell_type": "code",
      "execution_count": 19,
      "id": "e70b91a0-fdb9-46da-8c0d-5acc947799be",
      "metadata": {},
      "outputs": [],
      "source": [
        "with clear_memory():\n",
        "    df.to_sql(\n",
        "        'model_results',\n",
        "        con = db_connection,\n",
        "        if_exists = 'append',\n",
        "        index = False,\n",
        "        chunksize = 1000\n",
        "    )"
      ]
    },
    {
      "cell_type": "markdown",
      "id": "559928bd-10a0-4880-805a-23444d7d72a3",
      "metadata": {},
      "source": [
        "### Check Stored Data"
      ]
    },
    {
      "cell_type": "code",
      "execution_count": 20,
      "id": "f4cb8e7f-362f-4477-8600-e5f39ec197b8",
      "metadata": {},
      "outputs": [],
      "source": [
        "%%sql\n",
        "USE siem_log_kafka_demo;\n",
        "\n",
        "SELECT ID, JSON_ARRAY_UNPACK(Model_Results) AS Model_Results\n",
        "FROM model_results\n",
        "LIMIT 1;"
      ]
    },
    {
      "cell_type": "markdown",
      "id": "e4eb9309-df32-42f3-b170-51c49b175855",
      "metadata": {},
      "source": [
        "<div id=\"singlestore-footer\" style=\"background-color: rgba(194, 193, 199, 0.25); height:2px; margin-bottom:10px\"></div>\n",
        "<div><img src=\"https://raw.githubusercontent.com/singlestore-labs/spaces-notebooks/master/common/images/singlestore-logo-grey.png\" style=\"padding: 0px; margin: 0px; height: 24px\"/></div>"
      ]
    }
  ],
  "metadata": {
    "kernelspec": {
      "display_name": "Python 3 (ipykernel)",
      "language": "python",
      "name": "python3"
    },
    "language_info": {
      "codemirror_mode": {
        "name": "ipython",
        "version": 3
      },
      "file_extension": ".py",
      "mimetype": "text/x-python",
      "name": "python",
      "nbconvert_exporter": "python",
      "pygments_lexer": "ipython3",
      "version": "3.11.4"
    }
  },
  "nbformat": 4,
  "nbformat_minor": 5
}
