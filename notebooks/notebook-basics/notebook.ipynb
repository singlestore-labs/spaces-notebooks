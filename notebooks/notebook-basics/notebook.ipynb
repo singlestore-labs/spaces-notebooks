{
  "cells": [
    {
      "id": "dbd8a673",
      "cell_type": "markdown",
      "metadata": {},
      "source": [
        "<div id=\"singlestore-header\" style=\"display: flex; background-color: rgba(209, 153, 255, 0.25); padding: 5px;\">\n",
        "    <div id=\"icon-image\" style=\"width: 90px; height: 90px;\">\n",
        "        <img width=\"100%\" height=\"100%\" src=\"https://raw.githubusercontent.com/singlestore-labs/spaces-notebooks/master/common/images/header-icons/notes.png\" />\n",
        "    </div>\n",
        "    <div id=\"text\" style=\"padding: 5px; margin-left: 10px;\">\n",
        "        <div id=\"badge\" style=\"display: inline-block; background-color: rgba(0, 0, 0, 0.15); border-radius: 4px; padding: 4px 8px; align-items: center; margin-top: 6px; margin-bottom: -2px; font-size: 80%\">SingleStore Notebooks</div>\n",
        "        <h1 style=\"font-weight: 500; margin: 8px 0 0 4px;\">SingleStoreDB Notebook Basics</h1>\n",
        "    </div>\n",
        "</div>"
      ]
    },
    {
      "id": "0fa91f4b",
      "cell_type": "markdown",
      "metadata": {},
      "source": [
        "<div class=\"alert alert-block alert-warning\">\n",
        "    <b class=\"fa fa-solid fa-exclamation-circle\"></b>\n",
        "    <div>\n",
        "        <p><b>Note</b></p>\n",
        "        <p>This notebook can be run on a Free Starter Workspace. To create a Free Starter Workspace navigate to <tt>Start</tt> using the left nav. You can also use your existing Standard or Premium workspace with this Notebook.</p>\n",
        "    </div>\n",
        "</div>"
      ]
    },
    {
      "cell_type": "markdown",
      "metadata": {},
      "source": [
        "Prototyping applications or analyzing datasets using notebooks in SingleStoreDB Cloud follows the same general principles as developing with a Jupyter Notebook. SingleStoreDB Cloud supports internal and external datasources. Internal datasources are databases that exist within your workspace. An external datasource could be an AWS S3 bucket for example. In this Notebook we cover:\n",
        "\n",
        "1. Connecting to a SingleStoreDB instance\n",
        "2. Connecting to an external datasource including firewall Settings\n",
        "3. Using SQL in a cell\n",
        "4. Using Python in a cell\n",
        "5. Using both SQL & Python\n",
        "6. Installing Libraries\n",
        "7. Using Magic Commands\n",
        "\n",
        "*To learn more about working with SingleStoreDB notebooks check out our [docs](https://docs.singlestore.com/managed-service/en/developer-resources/notebooks.html)!*"
      ],
      "id": "db0cac5d"
    },
    {
      "cell_type": "markdown",
      "metadata": {},
      "source": [
        "## 1. Connecting to SingleStoreDB\n",
        "\n",
        "Once you select a workspace, you can access all of the databases attached to that workspace. You cannot connect to databases that are not attached to the workspace you are using."
      ],
      "id": "838c4af9"
    },
    {
      "cell_type": "markdown",
      "metadata": {},
      "source": [
        "First select a workspace and the `information_schema` database from the drop-down menu at the top of this notebook.\n",
        "\n",
        "<img src=https://raw.githubusercontent.com/singlestore-labs/spaces-notebooks/master/notebooks/notebook-basics/images/select-workspace-and-database.png style=\"width: 500px; border: 1px solid darkorchid\"/>"
      ],
      "id": "c6c8e0cc"
    },
    {
      "cell_type": "markdown",
      "metadata": {},
      "source": [
        "With the database selected, the `connection_url` variable in the Python enviroment is now updated with that information\n",
        "and we can use the `%%sql` magic command to query the selected database."
      ],
      "id": "58c80276"
    },
    {
      "cell_type": "code",
      "execution_count": 1,
      "metadata": {},
      "outputs": [],
      "source": [
        "%%sql\n",
        "SELECT * FROM users\n",
        "    LIMIT 3;"
      ],
      "id": "8e3ec961"
    },
    {
      "cell_type": "markdown",
      "metadata": {},
      "source": [
        "When running SQL commands against a different database explicitly, you can specify the database in your\n",
        "SQL code with the `USE` command:"
      ],
      "id": "48a4bc93"
    },
    {
      "cell_type": "code",
      "execution_count": 2,
      "metadata": {},
      "outputs": [],
      "source": [
        "%%sql\n",
        "USE information_schema;\n",
        "\n",
        "SELECT * FROM users\n",
        "    LIMIT 3;"
      ],
      "id": "8963691b"
    },
    {
      "cell_type": "markdown",
      "metadata": {},
      "source": [
        "Alternatively, you can specify the database prefix on the table in the query itself."
      ],
      "id": "7ef362b7"
    },
    {
      "cell_type": "code",
      "execution_count": 3,
      "metadata": {},
      "outputs": [],
      "source": [
        "%%sql\n",
        "SELECT * FROM information_schema.users\n",
        "    LIMIT 3;"
      ],
      "id": "9ed182ae"
    },
    {
      "cell_type": "markdown",
      "metadata": {},
      "source": [
        "## Connecting with SQLAlchemy"
      ],
      "id": "55dace8c"
    },
    {
      "cell_type": "markdown",
      "metadata": {},
      "source": [
        "You can also connect to your SingleStoreDB datasource using Python and SQLAlchemy. As mentioned above,\n",
        "the `connection_url` variable is automatically populated by the notebook environment when selecting a\n",
        "database in the drop-down menu at the top of the notebook."
      ],
      "id": "aa8da56d"
    },
    {
      "cell_type": "code",
      "execution_count": 4,
      "metadata": {},
      "outputs": [],
      "source": [
        "import sqlalchemy as sa\n",
        "\n",
        "sa_conn = sa.create_engine(connection_url).connect()"
      ],
      "id": "fe56aaa8"
    },
    {
      "cell_type": "markdown",
      "metadata": {},
      "source": [
        "You can also explicitly define a URL using the individual connection components."
      ],
      "id": "c19e3f2a"
    },
    {
      "cell_type": "code",
      "execution_count": 5,
      "metadata": {},
      "outputs": [],
      "source": [
        "database_name = \"information_schema\"\n",
        "\n",
        "connection_url2 = f\"singlestoredb://{connection_user}:{connection_password}@{connection_host}:{connection_port}/{database_name}\"\n",
        "\n",
        "url_conn = sa.create_engine(connection_url2).connect()"
      ],
      "id": "d47acc43"
    },
    {
      "cell_type": "markdown",
      "metadata": {},
      "source": [
        "In addition, the SingleStoreDB Python package includes a wrapper `create_engine` function that\n",
        "uses the `SINGLESTOREDB_URL` without having to specify `connection_url`."
      ],
      "id": "7d6b11a3"
    },
    {
      "cell_type": "code",
      "execution_count": 6,
      "metadata": {},
      "outputs": [],
      "source": [
        "import singlestoredb as s2\n",
        "\n",
        "conn = s2.create_engine().connect()"
      ],
      "id": "66cd56df"
    },
    {
      "cell_type": "markdown",
      "metadata": {},
      "source": [
        "Using `conn`, we can run our queries much like the `%%sql` command."
      ],
      "id": "ddb8077e"
    },
    {
      "cell_type": "code",
      "execution_count": 7,
      "metadata": {},
      "outputs": [],
      "source": [
        "query1 = sa.text('SELECT * FROM users LIMIT 3;')\n",
        "\n",
        "for row in conn.execute(query1):\n",
        "    print(row)"
      ],
      "id": "e73dcf45"
    },
    {
      "cell_type": "markdown",
      "metadata": {},
      "source": [
        "# 2. Connecting to an external datasource\n",
        "\n",
        "You can securely connect to external endpoints from your SingleStoreDB notebooks. By default, connections are limited to SingleStoreDB databases; however, you can enable and disable connections to other external endpoints via the allowlist. To add or remove endpoints from the allowlist:\n",
        "\n",
        "1. Select Edit Firewall at the top-left of this notebook.\n",
        "\n",
        "<img src=\"https://raw.githubusercontent.com/singlestore-labs/spaces-notebooks/master/notebooks/notebook-basics/images/edit-firewall.png\" style=\"width: 200px; border: 1px solid darkorchid\">\n",
        "\n",
        "2. Select Edit to add new endpoints:\n",
        "\n",
        "<img src=\"https://raw.githubusercontent.com/singlestore-labs/spaces-notebooks/master/notebooks/notebook-basics/images/new-endpoints.png\" style=\"width: 350px; border: 1px solid darkorchid\">\n",
        "\n",
        "3. In the Edit Allowlist dialog, you can add a Fully Qualified Domain Name (FQDN) or select from a list of suggested FQDNs (for example `pypi.org` or `github.com`). You can provide wildcard access to an endpoint by using the `*` character. For example, to access an AWS S3 endpoints, you can use the following syntax:  `*.s3.*.amazonaws.com`\n",
        "4. Select Save.\n",
        "\n",
        "<img src=\"https://raw.githubusercontent.com/singlestore-labs/spaces-notebooks/master/notebooks/notebook-basics/images/connect-to-an-external-datasource.png\" style=\"width: 500px; border: 1px solid darkorchid\">"
      ],
      "id": "275448eb"
    },
    {
      "cell_type": "markdown",
      "metadata": {},
      "source": [
        "# 3. Using SQL\n",
        "The default language for SingleStoreDB Cloud notebooks is Python. However, the `%%sql` magic command can be used to\n",
        "submit SQL code for an entire cell."
      ],
      "id": "6bdc2d33"
    },
    {
      "cell_type": "code",
      "execution_count": 8,
      "metadata": {},
      "outputs": [],
      "source": [
        "%%sql\n",
        "SELECT * FROM users\n",
        "    LIMIT 3;"
      ],
      "id": "2da087fa"
    },
    {
      "cell_type": "markdown",
      "metadata": {},
      "source": [
        "By default, the results are displayed as a table. We can also store the result in a variable for use later in the\n",
        "notebook. The following code includes the `result1 <<` syntax which indicates that the output of the SQL code\n",
        "should be stored in the `result` variable in the Python environment."
      ],
      "id": "7288ccc8"
    },
    {
      "cell_type": "code",
      "execution_count": 9,
      "metadata": {},
      "outputs": [],
      "source": [
        "%%sql result1 <<\n",
        "SELECT * FROM users\n",
        "    LIMIT 3;"
      ],
      "id": "4cc6a000"
    },
    {
      "cell_type": "markdown",
      "metadata": {},
      "source": [
        "We now have access to the `result` variable and can convert it to a DataFrame!"
      ],
      "id": "903cf8ba"
    },
    {
      "cell_type": "code",
      "execution_count": 10,
      "metadata": {},
      "outputs": [],
      "source": [
        "import pandas as pd\n",
        "\n",
        "df = pd.DataFrame(result1)\n",
        "df"
      ],
      "id": "1db6bdc7"
    },
    {
      "cell_type": "markdown",
      "metadata": {},
      "source": [
        "## 4. Using Python in a code cell\n",
        "\n",
        "By default, Python is the language for code cells. In the cell below, we are using a SQLAlchemy connection to execute\n",
        "the same query as the previous example. The result of this query can be converted into a DataFrame in the same manner\n",
        "as above"
      ],
      "id": "490f1e09"
    },
    {
      "cell_type": "code",
      "execution_count": 11,
      "metadata": {},
      "outputs": [],
      "source": [
        "result = conn.execute(sa.text('SELECT * FROM users LIMIT 3;'))\n",
        "\n",
        "df = pd.DataFrame(result)\n",
        "df"
      ],
      "id": "81e5c76f"
    },
    {
      "cell_type": "markdown",
      "metadata": {},
      "source": [
        "## 5. Using both SQL & Python in a code cell\n",
        "\n",
        "We can use a single line of SQL within a Python cell using a single `%sql` call. Below we combine SQL and\n",
        "Python in the same cell to capture the output in the `result` variable. We then convert it to a DataFrame\n",
        "as in previous examples."
      ],
      "id": "916e3660"
    },
    {
      "cell_type": "code",
      "execution_count": 12,
      "metadata": {},
      "outputs": [],
      "source": [
        "result = %sql SELECT * FROM users LIMIT 3;\n",
        "\n",
        "df = pd.DataFrame(result)\n",
        "df"
      ],
      "id": "b62d2cf7"
    },
    {
      "cell_type": "markdown",
      "metadata": {},
      "source": [
        "## 6. Preinstalled libraries\n",
        "\n",
        "By default, a SingleStoreDB notebook has a large number of preinstalled libraries. Run the cell below to see what libraries are already installed!"
      ],
      "id": "40b48421"
    },
    {
      "cell_type": "code",
      "execution_count": 13,
      "metadata": {},
      "outputs": [],
      "source": [
        "!pip list"
      ],
      "id": "b67782b8"
    },
    {
      "cell_type": "markdown",
      "metadata": {},
      "source": [
        "Our notebooks support libraries available from https://pypi.org/. For example, run the cell below to install the [Kaggle open dataset library](https://pypi.org/project/opendatasets/) to install the `opendatasets` package."
      ],
      "id": "c91a8510"
    },
    {
      "cell_type": "code",
      "execution_count": 14,
      "metadata": {},
      "outputs": [],
      "source": [
        "!pip3 install opendatasets"
      ],
      "id": "8e6f739e"
    },
    {
      "cell_type": "markdown",
      "metadata": {},
      "source": [
        "You can even upgrade versions of a preinstalled library. Run the cell below to get the new version of Plotly."
      ],
      "id": "cae98979"
    },
    {
      "cell_type": "code",
      "execution_count": 15,
      "metadata": {},
      "outputs": [],
      "source": [
        "!pip3 install plotly --upgrade"
      ],
      "id": "2c3430fc"
    },
    {
      "cell_type": "markdown",
      "metadata": {},
      "source": [
        "## 7. Magic commands\n",
        "\n",
        "Magic commands in Jupyter Notebook are special commands that allow you to perform various tasks that are not part of the standard Python language. We have demonstrated two of the included magic commands already: `%%sql` for submitting entire cells of\n",
        "SQL code and `%sql` for submitting a single query in the context of a Python code cell.\n",
        "\n",
        "There are many other magic commands as well for everything from file system access to debugging your Python code.\n",
        "For information about teh full list of magic commands available, run the code cell below."
      ],
      "id": "81bc2f91"
    },
    {
      "cell_type": "code",
      "execution_count": 16,
      "metadata": {},
      "outputs": [],
      "source": [
        "%quickref"
      ],
      "id": "eb96981b"
    },
    {
      "cell_type": "markdown",
      "metadata": {},
      "source": [
        "**Learn more about SingleStoreDB notebooks [here](https://docs.singlestore.com/managed-service/en/developer-resources/notebooks.html) and get started with your first notebook!**"
      ],
      "id": "02550a95"
    },
    {
      "id": "b71125bc",
      "cell_type": "markdown",
      "metadata": {},
      "source": [
        "<div id=\"singlestore-footer\" style=\"background-color: rgba(194, 193, 199, 0.25); height:2px; margin-bottom:10px\"></div>\n",
        "<div><img src=\"https://raw.githubusercontent.com/singlestore-labs/spaces-notebooks/master/common/images/singlestore-logo-grey.png\" style=\"padding: 0px; margin: 0px; height: 24px\"/></div>"
      ]
    }
  ],
  "metadata": {
    "kernelspec": {
      "display_name": "Python 3 (ipykernel)",
      "language": "python",
      "name": "python3"
    },
    "language_info": {
      "codemirror_mode": {
        "name": "ipython",
        "version": 3
      },
      "file_extension": ".py",
      "mimetype": "text/x-python",
      "name": "python",
      "nbconvert_exporter": "python",
      "pygments_lexer": "ipython3",
      "version": "3.11.4"
    }
  },
  "nbformat": 4,
  "nbformat_minor": 5
}
