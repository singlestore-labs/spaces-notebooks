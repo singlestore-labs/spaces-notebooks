{
  "cells": [
    {
      "id": "1ae3a481",
      "cell_type": "markdown",
      "metadata": {},
      "source": [
        "<div id=\"singlestore-header\" style=\"display: flex; background-color: rgba(235, 249, 245, 0.25); padding: 5px;\">\n",
        "    <div id=\"icon-image\" style=\"width: 90px; height: 90px;\">\n",
        "        <img width=\"100%\" height=\"100%\" src=\"https://raw.githubusercontent.com/singlestore-labs/spaces-notebooks/master/common/images/header-icons/browser.png\" />\n",
        "    </div>\n",
        "    <div id=\"text\" style=\"padding: 5px; margin-left: 10px;\">\n",
        "        <div id=\"badge\" style=\"display: inline-block; background-color: rgba(0, 0, 0, 0.15); border-radius: 4px; padding: 4px 8px; align-items: center; margin-top: 6px; margin-bottom: -2px; font-size: 80%\">SingleStore Notebooks</div>\n",
        "        <h1 style=\"font-weight: 500; margin: 8px 0 0 4px;\">Run your first Python UDF</h1>\n",
        "    </div>\n",
        "</div>"
      ]
    },
    {
      "id": "537627f1",
      "cell_type": "markdown",
      "metadata": {},
      "source": [
        "<div class=\"alert alert-block alert-warning\">\n",
        "    <b class=\"fa fa-solid fa-exclamation-circle\"></b>\n",
        "    <div>\n",
        "        <p><b>Note</b></p>\n",
        "        <p>This notebook can be run on a Free Starter Workspace. To create a Free Starter Workspace navigate to <tt>Start</tt> using the left nav. You can also use your existing Standard or Premium workspace with this Notebook.</p>\n",
        "    </div>\n",
        "</div>"
      ]
    },
    {
      "cell_type": "markdown",
      "id": "9b6469e0",
      "metadata": {},
      "source": [
        "<p>This feature is currently in Private Preview. Please reach out support@singlestore.com to confirm if this feature can be enabled in your org.</p>"
      ]
    },
    {
      "attachments": {},
      "cell_type": "markdown",
      "metadata": {},
      "source": [
        "This Jupyter notebook will help you build your first Python UDF using Notebooks, registering it with your database and calling it as part of SQL query."
      ],
      "id": "22cf54b0"
    },
    {
      "attachments": {},
      "cell_type": "markdown",
      "metadata": {},
      "source": [
        "## Create some simple tables\n",
        "\n",
        "This setup establishes a basic relational structure to store some reviews for restaurants. Ensure you have selected a database."
      ],
      "id": "891fb62a"
    },
    {
      "cell_type": "code",
      "execution_count": 1,
      "metadata": {},
      "outputs": [],
      "source": [
        "%%sql\n",
        "DROP TABLE IF EXISTS reviews;\n",
        "\n",
        "CREATE TABLE IF NOT EXISTS\n",
        "reviews (\n",
        "    review_id INT PRIMARY KEY,\n",
        "    store_name VARCHAR(255) NOT NULL,\n",
        "    review TEXT NOT NULL\n",
        ");"
      ],
      "id": "d807ea15"
    },
    {
      "attachments": {},
      "cell_type": "markdown",
      "id": "3aace2e9",
      "metadata": {},
      "source": [
        "## Insert sample data"
      ]
    },
    {
      "cell_type": "code",
      "execution_count": 2,
      "id": "0a123cd7",
      "metadata": {},
      "outputs": [],
      "source": [
        "%%sql INSERT into reviews (review_id, store_name, review) values\n",
        "(\"1\", \"Single Pizza\", \"The staff were very respectful and made thoughtful suggestions. I will definitely go again. 10/10!\"),\n",
        "(\"2\", \"Single Pizza\", \"The food was absolutely amazing and the service was fantastic!\"),\n",
        "(\"3\", \"Single Pizza\", \"The experience was terrible. The food was cold and the waiter was rude.\"),\n",
        "(\"4\", \"Single Pizza\", \"I loved the ambiance and the desserts were out of this world!\"),\n",
        "(\"5\", \"Single Pizza\", \"Not worth the price. I expected more based on the reviews\");"
      ]
    },
    {
      "attachments": {},
      "cell_type": "markdown",
      "metadata": {},
      "source": [
        "## Define Python UDF functions\n",
        "\n",
        "Next, we will be Python UDF function using the `@udf` annotation. We will be using the `VADER` model of `nltk` library to perform sentiment analysis on the review text."
      ],
      "id": "9bc1fbbb"
    },
    {
      "cell_type": "code",
      "execution_count": 3,
      "id": "1556ad3c",
      "metadata": {},
      "outputs": [],
      "source": [
        "!pip install nltk"
      ]
    },
    {
      "cell_type": "code",
      "execution_count": 4,
      "metadata": {},
      "outputs": [],
      "source": [
        "from singlestoredb.functions import udf\n",
        "import nltk\n",
        "from nltk.sentiment import SentimentIntensityAnalyzer\n",
        "\n",
        "nltk.download('vader_lexicon')\n",
        "sia = SentimentIntensityAnalyzer()\n",
        "\n",
        "@udf\n",
        "def review_sentiment(review: str) -> str:\n",
        "    print(\"review:\" + review)\n",
        "    scores = sia.polarity_scores(review)\n",
        "    sentiment = (\n",
        "        \"Positive\" if scores['compound'] > 0.05 else\n",
        "        \"Negative\" if scores['compound'] < -0.05 else\n",
        "        \"Neutral\"\n",
        "    )\n",
        "    print(\"sentiment:\" + sentiment)\n",
        "    return sentiment"
      ],
      "id": "94080c32"
    },
    {
      "attachments": {},
      "cell_type": "markdown",
      "metadata": {},
      "source": [
        "## Start the Python UDF server\n",
        "\n",
        "This will start the server as well as register all the functions annotated with `@udf` as external user defined functions on your selected database."
      ],
      "id": "9ef4fb97"
    },
    {
      "cell_type": "code",
      "execution_count": 5,
      "metadata": {},
      "outputs": [],
      "source": [
        "import singlestoredb.apps as apps\n",
        "connection_info = await apps.run_udf_app()"
      ],
      "id": "b716549f"
    },
    {
      "attachments": {},
      "cell_type": "markdown",
      "id": "b53cd3d1",
      "metadata": {},
      "source": [
        "## List all registered UDFs\n",
        "\n",
        "In interactive notebooks, the udf function will be suffixed with `_test` to differentiate it from the published version"
      ]
    },
    {
      "cell_type": "code",
      "execution_count": 6,
      "id": "6008982d",
      "metadata": {},
      "outputs": [],
      "source": [
        "%%sql\n",
        "SHOW functions"
      ]
    },
    {
      "attachments": {},
      "cell_type": "markdown",
      "id": "58560b03",
      "metadata": {},
      "source": [
        "## Call the UDF from SQL\n",
        "\n",
        "You will now be able to run queries like\n",
        "\n",
        "```\n",
        "SELECT review_id, store_name, review, review_sentiment_test(review) from reviews order by review_id;\n",
        "```\n",
        "from the SQL editor or any other SQL client.\n",
        "\n",
        "Try it out by opening another notebook, selecting the current Database and running this query in a new cell."
      ]
    },
    {
      "attachments": {},
      "cell_type": "markdown",
      "metadata": {},
      "source": [
        "## Publish Python UDF\n",
        "\n",
        "After validating the Python UDF interactively, you can publish it and access it like\n",
        "\n",
        "```\n",
        "%%sql\n",
        "SELECT review_id, store_name, review, review_sentiment(review) from reviews order by review_id\n",
        "```\n",
        "\n",
        "enriching your data exploration experience seamlessly!"
      ],
      "id": "825e6fa2"
    },
    {
      "id": "50dab547",
      "cell_type": "markdown",
      "metadata": {},
      "source": [
        "<div id=\"singlestore-footer\" style=\"background-color: rgba(194, 193, 199, 0.25); height:2px; margin-bottom:10px\"></div>\n",
        "<div><img src=\"https://raw.githubusercontent.com/singlestore-labs/spaces-notebooks/master/common/images/singlestore-logo-grey.png\" style=\"padding: 0px; margin: 0px; height: 24px\"/></div>"
      ]
    }
  ],
  "metadata": {
    "jupyterlab": {
      "notebooks": {
        "version_major": 6,
        "version_minor": 4
      }
    },
    "kernelspec": {
      "display_name": "Python 3 (ipykernel)",
      "language": "python",
      "name": "python3"
    },
    "language_info": {
      "codemirror_mode": {
        "name": "ipython",
        "version": 3
      },
      "file_extension": ".py",
      "mimetype": "text/x-python",
      "name": "python",
      "nbconvert_exporter": "python",
      "pygments_lexer": "ipython3",
      "version": "3.11.9"
    }
  },
  "nbformat": 4,
  "nbformat_minor": 5
}
