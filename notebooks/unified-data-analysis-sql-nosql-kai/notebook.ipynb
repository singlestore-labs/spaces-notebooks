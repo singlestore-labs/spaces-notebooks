{
  "cells": [
    {
      "id": "1a6d5359",
      "cell_type": "markdown",
      "metadata": {},
      "source": [
        "<div id=\"singlestore-header\" style=\"display: flex; background-color: rgba(235, 249, 245, 0.25); padding: 5px;\">\n",
        "    <div id=\"icon-image\" style=\"width: 90px; height: 90px;\">\n",
        "        <img width=\"100%\" height=\"100%\" src=\"https://raw.githubusercontent.com/singlestore-labs/spaces-notebooks/master/common/images/header-icons/database.png\" />\n",
        "    </div>\n",
        "    <div id=\"text\" style=\"padding: 5px; margin-left: 10px;\">\n",
        "        <div id=\"badge\" style=\"display: inline-block; background-color: rgba(0, 0, 0, 0.15); border-radius: 4px; padding: 4px 8px; align-items: center; margin-top: 6px; margin-bottom: -2px; font-size: 80%\">SingleStore Notebooks</div>\n",
        "        <h1 style=\"font-weight: 500; margin: 8px 0 0 4px;\">Unified Data Analysis: SQL &amp; NoSQL on a Single Database with Kai</h1>\n",
        "    </div>\n",
        "</div>"
      ]
    },
    {
      "attachments": {},
      "cell_type": "markdown",
      "metadata": {},
      "source": [
        "# Unified Data Analysis: SQL & NoSQL on a Single Database with Kai"
      ],
      "id": "6c2d8700"
    },
    {
      "attachments": {},
      "cell_type": "markdown",
      "metadata": {},
      "source": [
        "<img src=https://raw.githubusercontent.com/singlestore-labs/spaces-notebooks/master/notebooks/unified-data-analysis-sql-nosql-kai/banking_analytics.png width=\"100%\">"
      ],
      "id": "ced3b94d"
    },
    {
      "attachments": {},
      "cell_type": "markdown",
      "metadata": {},
      "source": [
        "### What you will learn in this notebook:\n",
        "\n",
        "In this notebook we ingest data from from different sources like MySQL, MongoDB and S3 and perform efficient analysis using both NoSQL and SQL on multimodal data (tabular and JSON).\n",
        "\n",
        "### Highlights\n",
        "1. Setup CDC from MongoDB and MySQL in easy steps. Replicate data in real-time and ensure upto date information for analytics, eliminating the need for complex tooling for data movement\n",
        "\n",
        "2. Analyze data using both NoSQL and relational approaches, depending on your specific needs. Developers and data analytics who are familiar with different programming approaches like MongoDB query language and SQL can work together on the same database. Perform familiar SQL queries on your NoSQL data!\n",
        "\n",
        "Ready to unlock real-time analytics and unified data access? Let's start!"
      ],
      "id": "3eae9c76"
    },
    {
      "cell_type": "code",
      "execution_count": 1,
      "metadata": {},
      "outputs": [],
      "source": [
        "!pip install pymongo prettytable matplotlib --quiet"
      ],
      "id": "33a2b51c"
    },
    {
      "attachments": {},
      "cell_type": "markdown",
      "metadata": {},
      "source": [
        "### Create database for importing data from different sources\n",
        "\n",
        "This example gets banking data from three different sources: ATM locations from S3, transaction data from MySQL and user profile details from MongoDB databases. Joins data from different sources to generate rich insights about the transactional activity across user profile and locations across the globe"
      ],
      "id": "18e3e006"
    },
    {
      "cell_type": "code",
      "execution_count": 2,
      "metadata": {},
      "outputs": [],
      "source": [
        "%%sql\n",
        "DROP DATABASE IF EXISTS BankingAnalytics;\n",
        "CREATE DATABASE BankingAnalytics;"
      ],
      "id": "a77b82b3"
    },
    {
      "attachments": {},
      "cell_type": "markdown",
      "metadata": {},
      "source": [
        "<div class=\"alert alert-block alert-warning\">\n",
        "    <b class=\"fa fa-solid fa-exclamation-circle\"></b>\n",
        "    <div>\n",
        "        <p><b>Action Required</b></p>\n",
        "        <p> Make sure to select 'BankingAnalytics' database from the drop-down menu at the top of this notebook. It updates the <tt>connection_url</tt>  to connect to that database.</p>\n",
        "    </div>\n",
        "</div>"
      ],
      "id": "08515681"
    },
    {
      "attachments": {},
      "cell_type": "markdown",
      "metadata": {},
      "source": [
        "<img src=\"https://raw.githubusercontent.com/singlestore-labs/spaces-notebooks/master/notebooks/unified-data-analysis-sql-nosql-kai/selectdb.png\" style=\"width: 500px; border: 1px solid darkorchid\">"
      ],
      "id": "047ed31a"
    },
    {
      "attachments": {},
      "cell_type": "markdown",
      "metadata": {},
      "source": [
        "## Setup CDC from MySQL"
      ],
      "id": "aa69ee29"
    },
    {
      "attachments": {},
      "cell_type": "markdown",
      "metadata": {},
      "source": [
        "### SingleStore allows you to ingest the data from mysql using pipelines"
      ],
      "id": "cab7be5d"
    },
    {
      "attachments": {},
      "cell_type": "markdown",
      "metadata": {},
      "source": [
        "In this step, we create a link from MySQL instance and start the pipelines for the CDC"
      ],
      "id": "d37b87da"
    },
    {
      "cell_type": "code",
      "execution_count": 3,
      "metadata": {},
      "outputs": [],
      "source": [
        "%%sql\n",
        "CREATE LINK mysqllink AS MYSQL\n",
        "CONFIG '{\n",
        "    \"database.hostname\": \"3.132.226.181\",\n",
        "    \"database.exclude.list\": \"mysql,performance_schema\",\n",
        "    \"table.include.list\": \"DomainAnalytics.transactions\",\n",
        "    \"database.port\": 3306,\n",
        "    \"database.ssl.mode\":\"required\"\n",
        "    }'\n",
        "CREDENTIALS '{\n",
        "    \"database.password\": \"Password@123\",\n",
        "    \"database.user\": \"repl_user\"\n",
        "    }';"
      ],
      "id": "fa97ca56"
    },
    {
      "cell_type": "code",
      "execution_count": 4,
      "metadata": {},
      "outputs": [],
      "source": [
        "%%sql\n",
        "CREATE TABLES AS INFER PIPELINE AS LOAD DATA LINK mysqllink \"*\" FORMAT AVRO;"
      ],
      "id": "d1025983"
    },
    {
      "cell_type": "code",
      "execution_count": 5,
      "metadata": {},
      "outputs": [],
      "source": [
        "%%sql\n",
        "START ALL PIPELINES;"
      ],
      "id": "e9d91511"
    },
    {
      "attachments": {},
      "cell_type": "markdown",
      "metadata": {},
      "source": [
        "### Migrate the data from S3 storage to SingleStore using Pipelines"
      ],
      "id": "dd0bcb77"
    },
    {
      "attachments": {},
      "cell_type": "markdown",
      "metadata": {},
      "source": [
        "This steps loads data from S3, this requires the tables to be defined beforehand"
      ],
      "id": "802e47d1"
    },
    {
      "cell_type": "code",
      "execution_count": 6,
      "metadata": {},
      "outputs": [],
      "source": [
        "%%sql\n",
        "CREATE TABLE IF NOT EXISTS atm_locations (\n",
        "    id INT PRIMARY KEY,\n",
        "    name VARCHAR(255),\n",
        "    address VARCHAR(255),\n",
        "    city VARCHAR(255),\n",
        "    country VARCHAR(255),\n",
        "    latitude DECIMAL(9, 6),\n",
        "    longitude DECIMAL(9, 6)\n",
        ");"
      ],
      "id": "dd05a31c"
    },
    {
      "cell_type": "code",
      "execution_count": 7,
      "metadata": {},
      "outputs": [],
      "source": [
        "%%sql\n",
        "CREATE PIPELINE atmlocations AS\n",
        "LOAD DATA S3 's3://ocbfinalpoc1/data'\n",
        "CONFIG '{\"region\":\"ap-southeast-1\"}'\n",
        "SKIP DUPLICATE KEY ERRORS\n",
        "INTO TABLE atm_locations;"
      ],
      "id": "5ba219df"
    },
    {
      "cell_type": "code",
      "execution_count": 8,
      "metadata": {},
      "outputs": [],
      "source": [
        "%%sql\n",
        "START PIPELINE atmlocations"
      ],
      "id": "94eebb51"
    },
    {
      "attachments": {},
      "cell_type": "markdown",
      "metadata": {},
      "source": [
        "### Setup CDC from MongoDB to SingleStore"
      ],
      "id": "56a58831"
    },
    {
      "attachments": {},
      "cell_type": "markdown",
      "metadata": {},
      "source": [
        "Now we setup CDC from MongoDB to replicate the data SingleStore\n",
        "\n",
        "The collections to be replicated are specified as a comma separated or in a wildcard format in \"collection.include.list\""
      ],
      "id": "87444b9b"
    },
    {
      "cell_type": "code",
      "execution_count": 9,
      "metadata": {},
      "outputs": [],
      "source": [
        "%%sql\n",
        "CREATE LINK mongo AS MONGODB\n",
        "CONFIG '{\n",
        "    \"mongodb.hosts\":\"ac-t7n47to-shard-00-00.tfutgo0.mongodb.net:27017,ac-t7n47to-shard-00-01.tfutgo0.mongodb.net:27017,ac-t7n47to-shard-00-02.tfutgo0.mongodb.net:27017\",\n",
        "    \"collection.include.list\": \"bank.*\",\n",
        "    \"mongodb.ssl.enabled\":\"true\",\n",
        "    \"mongodb.authsource\":\"admin\",\n",
        "    \"mongodb.members.auto.discover\": \"true\"\n",
        "    }'\n",
        "CREDENTIALS '{\n",
        "    \"mongodb.user\":\"mongo_sample_reader\",\n",
        "    \"mongodb.password\":\"SingleStoreRocks27017\"\n",
        "    }';"
      ],
      "id": "b84d21a8"
    },
    {
      "cell_type": "code",
      "execution_count": 10,
      "metadata": {},
      "outputs": [],
      "source": [
        "%%sql\n",
        "CREATE TABLES AS INFER PIPELINE AS LOAD DATA LINK mongo '*' FORMAT AVRO;"
      ],
      "id": "4e58d374"
    },
    {
      "cell_type": "code",
      "execution_count": 11,
      "metadata": {},
      "outputs": [],
      "source": [
        "%%sql\n",
        "SHOW PIPELINES"
      ],
      "id": "1f3b9fe9"
    },
    {
      "cell_type": "code",
      "execution_count": 12,
      "metadata": {},
      "outputs": [],
      "source": [
        "%%sql\n",
        "START ALL PIPELINES"
      ],
      "id": "2c088673"
    },
    {
      "attachments": {},
      "cell_type": "markdown",
      "metadata": {},
      "source": [
        "### Check for records in tables"
      ],
      "id": "8b6caff3"
    },
    {
      "attachments": {},
      "cell_type": "markdown",
      "metadata": {},
      "source": [
        "Data from MySQL"
      ],
      "id": "3e469dab"
    },
    {
      "cell_type": "code",
      "execution_count": 13,
      "metadata": {},
      "outputs": [],
      "source": [
        "%%sql\n",
        "SELECT COUNT(*) FROM transactions"
      ],
      "id": "44688a3d"
    },
    {
      "cell_type": "code",
      "execution_count": 14,
      "metadata": {},
      "outputs": [],
      "source": [
        "%%sql\n",
        "SELECT * FROM transactions WHERE transaction_type LIKE '%Deposit%' LIMIT 1;"
      ],
      "id": "d3fc1c14"
    },
    {
      "attachments": {},
      "cell_type": "markdown",
      "metadata": {},
      "source": [
        "Data from S3"
      ],
      "id": "37088621"
    },
    {
      "cell_type": "code",
      "execution_count": 15,
      "metadata": {},
      "outputs": [],
      "source": [
        "%%sql\n",
        "SELECT COUNT(*) FROM atm_locations"
      ],
      "id": "ed1670ee"
    },
    {
      "cell_type": "code",
      "execution_count": 16,
      "metadata": {},
      "outputs": [],
      "source": [
        "%%sql\n",
        "SELECT * FROM atm_locations LIMIT 1;"
      ],
      "id": "367930d2"
    },
    {
      "attachments": {},
      "cell_type": "markdown",
      "metadata": {},
      "source": [
        "Data from MongoDB"
      ],
      "id": "2f11225d"
    },
    {
      "cell_type": "code",
      "execution_count": 17,
      "metadata": {},
      "outputs": [],
      "source": [
        "%%sql\n",
        "SELECT _id:>JSON, _more:>JSON FROM profile LIMIT 1;"
      ],
      "id": "0150f6bc"
    },
    {
      "cell_type": "code",
      "execution_count": 18,
      "metadata": {},
      "outputs": [],
      "source": [
        "%%sql\n",
        "\n",
        "SELECT _id:>JSON, _more:>JSON FROM history LIMIT 1;"
      ],
      "id": "21fbf852"
    },
    {
      "attachments": {},
      "cell_type": "markdown",
      "metadata": {},
      "source": [
        "### Join tables from different sources using SQL queries"
      ],
      "id": "3f3dd776"
    },
    {
      "attachments": {},
      "cell_type": "markdown",
      "metadata": {},
      "source": [
        "SQL Query 1: View Users details, their associated ATMs"
      ],
      "id": "1e1ade40"
    },
    {
      "cell_type": "code",
      "execution_count": 19,
      "metadata": {},
      "outputs": [],
      "source": [
        "%%sql\n",
        "SELECT\n",
        "    p._more::$full_name AS NameOfPerson,\n",
        "    p._more::$email AS Email,\n",
        "    a.id,\n",
        "    a.name AS ATMName,\n",
        "    a.city,\n",
        "    a.country\n",
        "FROM\n",
        "    profile p,\n",
        "    atm_locations a\n",
        "WHERE\n",
        "    p._more::$account_id = a.id\n",
        "LIMIT 10;"
      ],
      "id": "9eb6e86c"
    },
    {
      "attachments": {},
      "cell_type": "markdown",
      "metadata": {},
      "source": [
        "SQL Query 2: View Users details, their associated ATMs and transaction details"
      ],
      "id": "c8147f4a"
    },
    {
      "cell_type": "code",
      "execution_count": 20,
      "metadata": {},
      "outputs": [],
      "source": [
        "%%sql\n",
        "SELECT\n",
        "    p._more::$full_name AS NameOfPerson,\n",
        "    p._more::$email AS Email,\n",
        "    a.id,\n",
        "    a.name AS ATMName,\n",
        "    a.city,\n",
        "    t.transaction_id,\n",
        "    t.transaction_date,\n",
        "    t.amount,\n",
        "    t.transaction_type,\n",
        "    t.description\n",
        "FROM\n",
        "    profile p\n",
        "JOIN\n",
        "    atm_locations a ON p._more::$account_id = a.id\n",
        "LEFT JOIN\n",
        "    transactions t ON p._more::$account_id = t.account_id\n",
        "LIMIT 10;"
      ],
      "id": "9baa53de"
    },
    {
      "attachments": {},
      "cell_type": "markdown",
      "metadata": {},
      "source": [
        "### Run queries in Mongo Query Language using Kai"
      ],
      "id": "ed30b745"
    },
    {
      "cell_type": "code",
      "execution_count": 21,
      "metadata": {},
      "outputs": [],
      "source": [
        "from pymongo import MongoClient\n",
        "import pprint\n",
        "from prettytable import PrettyTable\n",
        "\n",
        "client = MongoClient(connection_url_kai)\n",
        "\n",
        "# Get the profile collection\n",
        "db = client['BankingAnalytics']\n",
        "profile_coll = db['profile']\n",
        "\n",
        "for profile in profile_coll.find().limit(1):\n",
        "    pprint.pprint(profile)"
      ],
      "id": "42e097e7"
    },
    {
      "cell_type": "code",
      "execution_count": 22,
      "metadata": {},
      "outputs": [],
      "source": [
        "pipeline = [\n",
        "    {\n",
        "        \"$lookup\": {\n",
        "            \"from\": \"profile\",\n",
        "            \"localField\": \"account_id\",\n",
        "            \"foreignField\": \"account_id\",\n",
        "            \"as\": \"profile_data\"\n",
        "        }\n",
        "    },\n",
        "    {\n",
        "        \"$limit\": 5\n",
        "    },\n",
        "    {\n",
        "        \"$group\": {\n",
        "            \"_id\": \"$_id\",\n",
        "            \"history_data\": {\"$first\": \"$$ROOT\"},\n",
        "            \"profile_data\": {\"$first\": {\"$arrayElemAt\": [\"$profile_data\", 0]}}\n",
        "        }\n",
        "    },\n",
        "    {\n",
        "        \"$project\": {\n",
        "            \"_id\": \"$history_data._id\",\n",
        "            \"account_id\": \"$history_data.account_id\",\n",
        "            \"history_data\": \"$history_data\",\n",
        "            \"profile_data\": \"$profile_data\"\n",
        "        }\n",
        "    }\n",
        "]\n",
        "\n",
        "# Execute the aggregation pipeline\n",
        "result = list(db.history.aggregate(pipeline))\n",
        "\n",
        "# Print the result in a tabular format\n",
        "table = PrettyTable([\"Account ID\", \"Full Name\", \"Date of Birth\", \"City\", \"State\", \"Country\", \"Postal Code\", \"Phone Number\", \"Email\"])\n",
        "for doc in result:\n",
        "    profile_data = doc[\"profile_data\"]\n",
        "    table.add_row([\n",
        "        doc[\"account_id\"],\n",
        "        profile_data.get(\"full_name\", \"\"),\n",
        "        profile_data.get(\"date_of_birth\", \"\"),\n",
        "        profile_data.get(\"city\", \"\"),\n",
        "        profile_data.get(\"state\", \"\"),\n",
        "        profile_data.get(\"country\", \"\"),\n",
        "        profile_data.get(\"postal_code\", \"\"),\n",
        "        profile_data.get(\"phone_number\", \"\"),\n",
        "        profile_data.get(\"email\", \"\")\n",
        "    ])\n",
        "\n",
        "print(table)"
      ],
      "id": "a3441786"
    },
    {
      "cell_type": "code",
      "execution_count": 23,
      "metadata": {},
      "outputs": [],
      "source": [
        "# Get the state with highest number of customers\n",
        "from bson.son import SON\n",
        "\n",
        "pipeline = [\n",
        "    {\"$group\": {\"_id\": \"$state\", \"count\": {\"$sum\": 1}}},\n",
        "    {\"$sort\": SON([(\"count\", -1), (\"_id\", -1)])},\n",
        "    {\"$limit\": 5}\n",
        "]\n",
        "\n",
        "pprint.pprint(list(profile_coll.aggregate(pipeline)))"
      ],
      "id": "fe24435f"
    },
    {
      "cell_type": "code",
      "execution_count": 24,
      "metadata": {},
      "outputs": [],
      "source": [
        "import matplotlib.pyplot as plt\n",
        "\n",
        "data = list(profile_coll.aggregate(pipeline))\n",
        "\n",
        "print(data)\n",
        "\n",
        "country,count = [dcts['_id'] for dcts in data],[dcts['count'] for dcts in data]\n",
        "\n",
        "plt.bar(country,count)\n",
        "plt.plot()"
      ],
      "id": "1e919cbe"
    },
    {
      "cell_type": "markdown",
      "metadata": {},
      "source": [
        "With SingleStore Kai you can power analytics on SQL and NoSQL data using the API of your choice"
      ],
      "id": "f05705e2"
    },
    {
      "id": "2abf5b5f",
      "cell_type": "markdown",
      "metadata": {},
      "source": [
        "<div id=\"singlestore-footer\" style=\"background-color: rgba(194, 193, 199, 0.25); height:2px; margin-bottom:10px\"></div>\n",
        "<div><img src=\"https://raw.githubusercontent.com/singlestore-labs/spaces-notebooks/master/common/images/singlestore-logo-grey.png\" style=\"padding: 0px; margin: 0px; height: 24px\"/></div>"
      ]
    }
  ],
  "metadata": {
    "jupyterlab": {
      "notebooks": {
        "version_major": 6,
        "version_minor": 4
      }
    },
    "kernelspec": {
      "display_name": "Python 3 (ipykernel)",
      "language": "python",
      "name": "python3"
    },
    "language_info": {
      "codemirror_mode": {
        "name": "ipython",
        "version": 3
      },
      "file_extension": ".py",
      "mimetype": "text/x-python",
      "name": "python",
      "nbconvert_exporter": "python",
      "pygments_lexer": "ipython3",
      "version": "3.11.6"
    }
  },
  "nbformat": 4,
  "nbformat_minor": 5
}
