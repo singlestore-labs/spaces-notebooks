{
  "cells": [
    {
      "cell_type": "markdown",
      "id": "568d434c-21e4-417c-aecb-d803c39cd3de",
      "metadata": {},
      "source": [
        "<div id=\"singlestore-header\" style=\"display: flex; background-color: rgba(235, 249, 245, 0.25); padding: 5px;\">\n",
        "    <div id=\"icon-image\" style=\"width: 90px; height: 90px;\">\n",
        "        <img width=\"100%\" height=\"100%\" src=\"https://raw.githubusercontent.com/singlestore-labs/spaces-notebooks/master/common/images/header-icons/database.png\" />\n",
        "    </div>\n",
        "    <div id=\"text\" style=\"padding: 5px; margin-left: 10px;\">\n",
        "        <div id=\"badge\" style=\"display: inline-block; background-color: rgba(0, 0, 0, 0.15); border-radius: 4px; padding: 4px 8px; align-items: center; margin-top: 6px; margin-bottom: -2px; font-size: 80%\">SingleStore Notebooks</div>\n",
        "        <h1 style=\"font-weight: 500; margin: 8px 0 0 4px;\">Unified Data Analysis: SQL &amp; NoSQL on a Single Database with Kai</h1>\n",
        "    </div>\n",
        "</div>"
      ]
    },
    {
      "attachments": {},
      "cell_type": "markdown",
      "id": "1744aa42-1d83-4ffe-9633-34bca98f537c",
      "metadata": {},
      "source": [
        "# Unified Data Analysis: SQL & NoSQL on a Single Database with Kai"
      ]
    },
    {
      "attachments": {},
      "cell_type": "markdown",
      "id": "7f3d6b1c-9365-4113-8963-6aeaf08efbd2",
      "metadata": {},
      "source": [
        "<img src=https://raw.githubusercontent.com/singlestore-labs/spaces-notebooks/master/notebooks/unified-data-analysis-sql-nosql-kai/banking_analytics.png width=\"100%\">"
      ]
    },
    {
      "attachments": {},
      "cell_type": "markdown",
      "id": "cacc9529-3715-4854-8d7f-05543df12c15",
      "metadata": {},
      "source": [
        "### What you will learn in this notebook:\n",
        "\n",
        "In this notebook we ingest data from from different sources like MySQL, MongoDB and S3 and perform efficient analysis using both NoSQL and SQL on multimodal data (tabular and JSON).\n",
        "\n",
        "### Highlights\n",
        "1. Setup CDC from MongoDB and MySQL in easy steps. Replicate data in real-time and ensure upto date information for analytics, eliminating the need for complex tooling for data movement\n",
        "\n",
        "2. Analyze data using both NoSQL and relational approaches, depending on your specific needs. Developers and data analytics who are familiar with different programming approaches like MongoDB query language and SQL can work together on the same database. Perform familiar SQL queries on your NoSQL data!\n",
        "\n",
        "Ready to unlock real-time analytics and unified data access? Let's start!"
      ]
    },
    {
      "cell_type": "code",
      "execution_count": 1,
      "id": "e87ac44e-ff79-466f-9c17-9f9667ad8089",
      "metadata": {},
      "outputs": [],
      "source": [
        "pip install pymongo prettytable matplotlib --quiet"
      ]
    },
    {
      "attachments": {},
      "cell_type": "markdown",
      "id": "10a03a4a-2cfa-4ecd-b2ef-97c6bfa6f755",
      "metadata": {},
      "source": [
        "### Create database for importing data from different sources\n",
        "\n",
        "This example gets banking data from three different sources: ATM locations from S3, transaction data from MySQL and user profile details from MongoDB databases. Joins data from different sources to generate rich insights about the transactional activity across user profile and locations across the globe"
      ]
    },
    {
      "cell_type": "code",
      "execution_count": 2,
      "id": "d0463f3f-419a-4a4b-be77-ef02a027f8aa",
      "metadata": {},
      "outputs": [],
      "source": [
        "%%sql\n",
        "DROP DATABASE IF EXISTS BankingAnalytics;\n",
        "CREATE DATABASE BankingAnalytics;"
      ]
    },
    {
      "attachments": {},
      "cell_type": "markdown",
      "id": "a3335e3a-1fad-4857-975d-81d4a5205f08",
      "metadata": {},
      "source": [
        "<div class=\"alert alert-block alert-warning\">\n",
        "    <b class=\"fa fa-solid fa-exclamation-circle\"></b>\n",
        "    <div>\n",
        "        <p><b>Action Required</b></p>\n",
        "        <p> Make sure to select 'BankingAnalytics' database from the drop-down menu at the top of this notebook. It updates the <tt>connection_url</tt>  to connect to that database.</p>\n",
        "    </div>\n",
        "</div>"
      ]
    },
    {
      "attachments": {},
      "cell_type": "markdown",
      "id": "ff27f40c-4d92-4597-91d8-5e2c43ed32ed",
      "metadata": {},
      "source": [
        "<img src=\"https://raw.githubusercontent.com/singlestore-labs/spaces-notebooks/master/notebooks/unified-data-analysis-sql-nosql-kai/selectdb.png\" style=\"width: 500px; border: 1px solid darkorchid\">"
      ]
    },
    {
      "attachments": {},
      "cell_type": "markdown",
      "id": "629241ce-8464-4834-bad3-3f88af675e59",
      "metadata": {},
      "source": [
        "## Setup CDC from MySQL"
      ]
    },
    {
      "attachments": {},
      "cell_type": "markdown",
      "id": "e99f3b06-82d3-47d0-a3f9-d93d08f3e9a2",
      "metadata": {},
      "source": [
        "### SingleStore allows you to ingest the data from mysql using pipelines"
      ]
    },
    {
      "attachments": {},
      "cell_type": "markdown",
      "id": "1807cb20-ddc8-4f8c-97c0-c473e8049768",
      "metadata": {},
      "source": [
        "In this step, we create a link from MySQL instance and start the pipelines for the CDC"
      ]
    },
    {
      "cell_type": "code",
      "execution_count": 3,
      "id": "37cf747a-286b-4f37-8d8a-7b191fec1366",
      "metadata": {},
      "outputs": [],
      "source": [
        "%%sql\n",
        "CREATE LINK mysqllink AS MYSQL\n",
        "CONFIG '{\n",
        "    \"database.hostname\": \"3.141.19.255\",\n",
        "    \"database.exclude.list\": \"mysql,performance_schema\",\n",
        "    \"table.include.list\": \"DomainAnalytics.transactions\",\n",
        "    \"database.port\": 3306,\n",
        "    \"database.ssl.mode\":\"required\"\n",
        "    }'\n",
        "CREDENTIALS '{\n",
        "    \"database.password\": \"Password@123\",\n",
        "    \"database.user\": \"repl_user\"\n",
        "    }';"
      ]
    },
    {
      "cell_type": "code",
      "execution_count": 4,
      "id": "da44f747-85c0-400b-b155-be55c860f076",
      "metadata": {},
      "outputs": [],
      "source": [
        "%%sql\n",
        "CREATE TABLES AS INFER PIPELINE AS LOAD DATA LINK mysqllink \"*\" FORMAT AVRO;"
      ]
    },
    {
      "cell_type": "code",
      "execution_count": 5,
      "id": "4b230ff8-913a-4f67-83d7-778a514f8136",
      "metadata": {},
      "outputs": [],
      "source": [
        "%%sql\n",
        "START ALL PIPELINES;"
      ]
    },
    {
      "attachments": {},
      "cell_type": "markdown",
      "id": "af22186a-9989-4a73-8adc-6d8532c70cd6",
      "metadata": {},
      "source": [
        "### Migrate the data from S3 storage to SingleStore using Pipelines"
      ]
    },
    {
      "attachments": {},
      "cell_type": "markdown",
      "id": "4d51519a-9e5e-43cd-95bd-07f4b59f80c7",
      "metadata": {},
      "source": [
        "This steps loads data from S3, this requires the tables to be defined beforehand"
      ]
    },
    {
      "cell_type": "code",
      "execution_count": 6,
      "id": "82260c10-9482-4997-8208-5a8d6bff48d2",
      "metadata": {},
      "outputs": [],
      "source": [
        "%%sql\n",
        "CREATE TABLE IF NOT EXISTS atm_locations (\n",
        "    id INT PRIMARY KEY,\n",
        "    name VARCHAR(255),\n",
        "    address VARCHAR(255),\n",
        "    city VARCHAR(255),\n",
        "    country VARCHAR(255),\n",
        "    latitude DECIMAL(9, 6),\n",
        "    longitude DECIMAL(9, 6)\n",
        ");"
      ]
    },
    {
      "cell_type": "code",
      "execution_count": 7,
      "id": "689ec731-2a2a-4035-9dc3-fead074240cc",
      "metadata": {},
      "outputs": [],
      "source": [
        "%%sql\n",
        "CREATE PIPELINE atmlocations AS\n",
        "LOAD DATA S3 's3://ocbfinalpoc1/data'\n",
        "CONFIG '{\"region\":\"ap-southeast-1\"}'\n",
        "SKIP DUPLICATE KEY ERRORS\n",
        "INTO TABLE atm_locations;"
      ]
    },
    {
      "cell_type": "code",
      "execution_count": 8,
      "id": "5c482f6a-c053-438e-a671-a3a7894052a7",
      "metadata": {},
      "outputs": [],
      "source": [
        "%%sql\n",
        "START PIPELINE atmlocations"
      ]
    },
    {
      "attachments": {},
      "cell_type": "markdown",
      "id": "806952a2-090c-48aa-a1e4-8c71cd66143d",
      "metadata": {},
      "source": [
        "### Setup CDC from MongoDB to SingleStore"
      ]
    },
    {
      "attachments": {},
      "cell_type": "markdown",
      "id": "1c2d83fa-6a94-4a2b-a657-0e3f8ea0bf8b",
      "metadata": {},
      "source": [
        "Now we setup CDC from MongoDB to replicate the data SingleStore\n",
        "\n",
        "The collections to be replicated are specified as a comma separated or in a wildcard format in \"collection.include.list\""
      ]
    },
    {
      "cell_type": "code",
      "execution_count": 9,
      "id": "fb852b9c-51a6-4d8c-a4a2-f0cb6e78dc60",
      "metadata": {},
      "outputs": [],
      "source": [
        "%%sql\n",
        "CREATE LINK mongo AS MONGODB\n",
        "CONFIG '{\n",
        "    \"mongodb.hosts\":\"ac-t7n47to-shard-00-00.tfutgo0.mongodb.net:27017,ac-t7n47to-shard-00-01.tfutgo0.mongodb.net:27017,ac-t7n47to-shard-00-02.tfutgo0.mongodb.net:27017\",\n",
        "    \"collection.include.list\": \"bank.*\",\n",
        "    \"mongodb.ssl.enabled\":\"true\",\n",
        "    \"mongodb.authsource\":\"admin\",\n",
        "    \"mongodb.members.auto.discover\": \"true\"\n",
        "    }'\n",
        "CREDENTIALS '{\n",
        "    \"mongodb.user\":\"forimport\",\n",
        "    \"mongodb.password\":\"4Zfb0SKGCcDz5bBt\"\n",
        "    }';"
      ]
    },
    {
      "cell_type": "code",
      "execution_count": 10,
      "id": "ae958c77-2e84-4434-9dcd-205837bd5f02",
      "metadata": {},
      "outputs": [],
      "source": [
        "%%sql\n",
        "CREATE TABLES AS INFER PIPELINE AS LOAD DATA LINK mongo '*' FORMAT AVRO;"
      ]
    },
    {
      "cell_type": "code",
      "execution_count": 11,
      "id": "32b32f1e-072b-4273-952b-6772b4a8e380",
      "metadata": {},
      "outputs": [],
      "source": [
        "%%sql\n",
        "SHOW PIPELINES"
      ]
    },
    {
      "cell_type": "code",
      "execution_count": 12,
      "id": "3a91eefe-6d82-453b-8d3d-10344baae466",
      "metadata": {},
      "outputs": [],
      "source": [
        "%%sql\n",
        "START ALL PIPELINES"
      ]
    },
    {
      "attachments": {},
      "cell_type": "markdown",
      "id": "c0d54948-e440-43f7-963b-8d6b2c1b6129",
      "metadata": {},
      "source": [
        "### Check for records in tables"
      ]
    },
    {
      "attachments": {},
      "cell_type": "markdown",
      "id": "e45a1cb9-d884-4ac5-91dd-c8ded628bcb0",
      "metadata": {},
      "source": [
        "Data from MySQL"
      ]
    },
    {
      "cell_type": "code",
      "execution_count": 13,
      "id": "c288f83a-9495-4baa-940f-9fe8400ab93b",
      "metadata": {},
      "outputs": [],
      "source": [
        "%%sql\n",
        "SELECT COUNT(*) FROM transactions"
      ]
    },
    {
      "cell_type": "code",
      "execution_count": 14,
      "id": "f8604704-9324-4630-9eec-2c3f6be3c853",
      "metadata": {},
      "outputs": [],
      "source": [
        "%%sql\n",
        "SELECT * FROM transactions WHERE transaction_type LIKE '%Deposit%' LIMIT 1;"
      ]
    },
    {
      "attachments": {},
      "cell_type": "markdown",
      "id": "0a39438a-a537-490e-9191-77c9b224bbb4",
      "metadata": {},
      "source": [
        "Data from S3"
      ]
    },
    {
      "cell_type": "code",
      "execution_count": 15,
      "id": "5d26d20e-ef26-4d73-8a6a-060716e5f5ae",
      "metadata": {},
      "outputs": [],
      "source": [
        "%%sql\n",
        "SELECT COUNT(*) FROM atm_locations"
      ]
    },
    {
      "cell_type": "code",
      "execution_count": 16,
      "id": "62eced11-86b7-4c66-a7a8-ad197460e99d",
      "metadata": {},
      "outputs": [],
      "source": [
        "%%sql\n",
        "SELECT * FROM atm_locations LIMIT 1;"
      ]
    },
    {
      "attachments": {},
      "cell_type": "markdown",
      "id": "a06fc97a-59ec-4134-a3cf-016b39108374",
      "metadata": {},
      "source": [
        "Data from MongoDB"
      ]
    },
    {
      "cell_type": "code",
      "execution_count": 17,
      "id": "40c77598-464b-4d91-b36e-89569e1ecb12",
      "metadata": {},
      "outputs": [],
      "source": [
        "%%sql\n",
        "SELECT _id:>JSON, _more:>JSON FROM profile LIMIT 1;"
      ]
    },
    {
      "cell_type": "code",
      "execution_count": 18,
      "id": "a4694186-b064-465f-9e4f-9a33b1d6ae76",
      "metadata": {},
      "outputs": [],
      "source": [
        "%%sql\n",
        "\n",
        "SELECT _id:>JSON, _more:>JSON FROM history LIMIT 1;"
      ]
    },
    {
      "attachments": {},
      "cell_type": "markdown",
      "id": "40ec6ef2-dd95-43b7-947a-16c80efc359a",
      "metadata": {},
      "source": [
        "### Join tables from different sources using SQL queries"
      ]
    },
    {
      "attachments": {},
      "cell_type": "markdown",
      "id": "3bfb62de-ae36-4824-881f-c858cb852c01",
      "metadata": {},
      "source": [
        "SQL Query 1: View Users details, their associated ATMs"
      ]
    },
    {
      "cell_type": "code",
      "execution_count": 19,
      "id": "9efacacd-b36e-4208-a360-3ca239d1fad3",
      "metadata": {},
      "outputs": [],
      "source": [
        "%%sql\n",
        "SELECT\n",
        "    p._more::$full_name AS NameOfPerson,\n",
        "    p._more::$email AS Email,\n",
        "    a.id,\n",
        "    a.name AS ATMName,\n",
        "    a.city,\n",
        "    a.country\n",
        "FROM\n",
        "    profile p,\n",
        "    atm_locations a\n",
        "WHERE\n",
        "    p._more::$account_id = a.id\n",
        "LIMIT 10;"
      ]
    },
    {
      "attachments": {},
      "cell_type": "markdown",
      "id": "2cce1897-681f-4136-807e-711ed78ed80b",
      "metadata": {},
      "source": [
        "SQL Query 2: View Users details, their associated ATMs and transaction details"
      ]
    },
    {
      "cell_type": "code",
      "execution_count": 20,
      "id": "82d52f1a-35e8-4f59-99ed-cbd65842f699",
      "metadata": {},
      "outputs": [],
      "source": [
        "%%sql\n",
        "SELECT\n",
        "    p._more::$full_name AS NameOfPerson,\n",
        "    p._more::$email AS Email,\n",
        "    a.id,\n",
        "    a.name AS ATMName,\n",
        "    a.city,\n",
        "    t.transaction_id,\n",
        "    t.transaction_date,\n",
        "    t.amount,\n",
        "    t.transaction_type,\n",
        "    t.description\n",
        "FROM\n",
        "    profile p\n",
        "JOIN\n",
        "    atm_locations a ON p._more::$account_id = a.id\n",
        "LEFT JOIN\n",
        "    transactions t ON p._more::$account_id = t.account_id\n",
        "LIMIT 10;"
      ]
    },
    {
      "attachments": {},
      "cell_type": "markdown",
      "id": "2fb24ac0-1579-4ddb-8009-efb36aaff2d6",
      "metadata": {},
      "source": [
        "### Run queries in Mongo Query Language using Kai"
      ]
    },
    {
      "cell_type": "code",
      "execution_count": 21,
      "id": "d7f5fa93-473e-4e0b-96ca-e743cb75684d",
      "metadata": {},
      "outputs": [],
      "source": [
        "from pymongo import MongoClient\n",
        "import pprint\n",
        "from prettytable import PrettyTable\n",
        "\n",
        "client = MongoClient(connection_url_kai)\n",
        "\n",
        "# Get the profile collection\n",
        "db = client['BankingAnalytics']\n",
        "profile_coll = db['profile']\n",
        "\n",
        "for profile in profile_coll.find().limit(1):\n",
        "    pprint.pprint(profile)"
      ]
    },
    {
      "cell_type": "code",
      "execution_count": 22,
      "id": "dd303812-2ec2-4e84-b436-617591099a06",
      "metadata": {},
      "outputs": [],
      "source": [
        "pipeline = [\n",
        "    {\n",
        "        \"$lookup\": {\n",
        "            \"from\": \"profile\",\n",
        "            \"localField\": \"account_id\",\n",
        "            \"foreignField\": \"account_id\",\n",
        "            \"as\": \"profile_data\"\n",
        "        }\n",
        "    },\n",
        "    {\n",
        "        \"$limit\": 5\n",
        "    },\n",
        "    {\n",
        "        \"$group\": {\n",
        "            \"_id\": \"$_id\",\n",
        "            \"history_data\": {\"$first\": \"$$ROOT\"},\n",
        "            \"profile_data\": {\"$first\": {\"$arrayElemAt\": [\"$profile_data\", 0]}}\n",
        "        }\n",
        "    },\n",
        "    {\n",
        "        \"$project\": {\n",
        "            \"_id\": \"$history_data._id\",\n",
        "            \"account_id\": \"$history_data.account_id\",\n",
        "            \"history_data\": \"$history_data\",\n",
        "            \"profile_data\": \"$profile_data\"\n",
        "        }\n",
        "    }\n",
        "]\n",
        "\n",
        "# Execute the aggregation pipeline\n",
        "result = list(db.history.aggregate(pipeline))\n",
        "\n",
        "# Print the result in a tabular format\n",
        "table = PrettyTable([\"Account ID\", \"Full Name\", \"Date of Birth\", \"City\", \"State\", \"Country\", \"Postal Code\", \"Phone Number\", \"Email\"])\n",
        "for doc in result:\n",
        "    profile_data = doc[\"profile_data\"]\n",
        "    table.add_row([\n",
        "        doc[\"account_id\"],\n",
        "        profile_data.get(\"full_name\", \"\"),\n",
        "        profile_data.get(\"date_of_birth\", \"\"),\n",
        "        profile_data.get(\"city\", \"\"),\n",
        "        profile_data.get(\"state\", \"\"),\n",
        "        profile_data.get(\"country\", \"\"),\n",
        "        profile_data.get(\"postal_code\", \"\"),\n",
        "        profile_data.get(\"phone_number\", \"\"),\n",
        "        profile_data.get(\"email\", \"\")\n",
        "    ])\n",
        "\n",
        "print(table)"
      ]
    },
    {
      "cell_type": "code",
      "execution_count": 23,
      "id": "00e2c386-2ae5-478d-be0a-c9c07005745e",
      "metadata": {},
      "outputs": [],
      "source": [
        "# Get the state with highest number of customers\n",
        "from bson.son import SON\n",
        "\n",
        "pipeline = [\n",
        "    {\"$group\": {\"_id\": \"$state\", \"count\": {\"$sum\": 1}}},\n",
        "    {\"$sort\": SON([(\"count\", -1), (\"_id\", -1)])},\n",
        "    {\"$limit\": 5}\n",
        "]\n",
        "\n",
        "pprint.pprint(list(profile_coll.aggregate(pipeline)))"
      ]
    },
    {
      "cell_type": "code",
      "execution_count": 24,
      "id": "a0e0be36-0605-426b-a84a-1c47bab2f7cb",
      "metadata": {},
      "outputs": [],
      "source": [
        "import matplotlib.pyplot as plt\n",
        "\n",
        "data = list(profile_coll.aggregate(pipeline))\n",
        "\n",
        "print(data)\n",
        "\n",
        "country,count = [dcts['_id'] for dcts in data],[dcts['count'] for dcts in data]\n",
        "\n",
        "plt.bar(country,count)\n",
        "plt.plot()"
      ]
    },
    {
      "cell_type": "markdown",
      "id": "3636037e",
      "metadata": {},
      "source": [
        "With SingleStore Kai you can power analytics on SQL and NoSQL data using the API of your choice"
      ]
    },
    {
      "cell_type": "markdown",
      "id": "32756572-0488-4ac0-bf10-1a47d84bc79f",
      "metadata": {},
      "source": [
        "<div id=\"singlestore-footer\" style=\"background-color: rgba(194, 193, 199, 0.25); height:2px; margin-bottom:10px\"></div>\n",
        "<div><img src=\"https://raw.githubusercontent.com/singlestore-labs/spaces-notebooks/master/common/images/singlestore-logo-grey.png\" style=\"padding: 0px; margin: 0px; height: 24px\"/></div>"
      ]
    }
  ],
  "metadata": {
    "jupyterlab": {
      "notebooks": {
        "version_major": 6,
        "version_minor": 4
      }
    },
    "kernelspec": {
      "display_name": "Python 3 (ipykernel)",
      "language": "python",
      "name": "python3"
    },
    "language_info": {
      "codemirror_mode": {
        "name": "ipython",
        "version": 3
      },
      "file_extension": ".py",
      "mimetype": "text/x-python",
      "name": "python",
      "nbconvert_exporter": "python",
      "pygments_lexer": "ipython3",
      "version": "3.11.6"
    }
  },
  "nbformat": 4,
  "nbformat_minor": 5
}
