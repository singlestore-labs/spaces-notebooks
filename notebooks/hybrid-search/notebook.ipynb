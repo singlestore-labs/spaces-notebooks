{
  "cells": [
    {
      "id": "a2a96f4c",
      "cell_type": "markdown",
      "metadata": {},
      "source": [
        "<div id=\"singlestore-header\" style=\"display: flex; background-color: rgba(209, 153, 255, 0.25); padding: 5px;\">\n",
        "    <div id=\"icon-image\" style=\"width: 90px; height: 90px;\">\n",
        "        <img width=\"100%\" height=\"100%\" src=\"https://raw.githubusercontent.com/singlestore-labs/spaces-notebooks/master/common/images/header-icons/vector-circle.png\" />\n",
        "    </div>\n",
        "    <div id=\"text\" style=\"padding: 5px; margin-left: 10px;\">\n",
        "        <div id=\"badge\" style=\"display: inline-block; background-color: rgba(0, 0, 0, 0.15); border-radius: 4px; padding: 4px 8px; align-items: center; margin-top: 6px; margin-bottom: -2px; font-size: 80%\">SingleStore Notebooks</div>\n",
        "        <h1 style=\"font-weight: 500; margin: 8px 0 0 4px;\">Hybrid Search</h1>\n",
        "    </div>\n",
        "</div>"
      ]
    },
    {
      "id": "f35c3f82",
      "cell_type": "markdown",
      "metadata": {},
      "source": [
        "<div class=\"alert alert-block alert-warning\">\n",
        "    <b class=\"fa fa-solid fa-exclamation-circle\"></b>\n",
        "    <div>\n",
        "        <p><b>Note</b></p>\n",
        "        <p>This notebook can be run on a Free Starter Workspace. To create a Free Starter Workspace navigate to <tt>Start</tt> using the left nav. You can also use your existing Standard or Premium workspace with this Notebook.</p>\n",
        "    </div>\n",
        "</div>"
      ]
    },
    {
      "attachments": {},
      "cell_type": "markdown",
      "metadata": {},
      "source": [
        "*Source*: [OpenAI Cookbook](https://github.com/openai/openai-cookbook/blob/main/examples/data/AG_news_samples.csv)\n",
        "\n",
        "Hybrid search integrates both keyword-based search and semantic search in order to combine the strengths of both and provide users with a more comprehensive and efficient search experience. This notebook is an example on how to perform hybrid search with SingleStore's database and notebooks."
      ],
      "id": "9e8ce0c7"
    },
    {
      "attachments": {},
      "cell_type": "markdown",
      "metadata": {},
      "source": [
        "## Setup\n",
        "Let's first download the libraries necessary."
      ],
      "id": "9f22dab7"
    },
    {
      "cell_type": "code",
      "execution_count": 1,
      "metadata": {},
      "outputs": [],
      "source": [
        "%pip install wget openai==1.3.3 --quiet"
      ],
      "id": "dc770da1"
    },
    {
      "cell_type": "code",
      "execution_count": 2,
      "metadata": {},
      "outputs": [],
      "source": [
        "import json\n",
        "import os\n",
        "import pandas as pd\n",
        "import wget"
      ],
      "id": "55e30fcc"
    },
    {
      "cell_type": "code",
      "execution_count": 3,
      "metadata": {},
      "outputs": [],
      "source": [
        "# Import the library for vectorizing the data (Up to 2 minutes)\n",
        "%pip install sentence-transformers --quiet\n",
        "\n",
        "from sentence_transformers import SentenceTransformer\n",
        "\n",
        "model = SentenceTransformer('flax-sentence-embeddings/all_datasets_v3_mpnet-base')"
      ],
      "id": "86b0043d"
    },
    {
      "attachments": {},
      "cell_type": "markdown",
      "metadata": {},
      "source": [
        "## Import data from CSV file\n",
        "This csv file holds the title, summary, and category of approximately 2000 news articles."
      ],
      "id": "c7555935"
    },
    {
      "cell_type": "code",
      "execution_count": 4,
      "metadata": {},
      "outputs": [],
      "source": [
        "# download reviews csv file\n",
        "cvs_file_path = 'https://raw.githubusercontent.com/openai/openai-cookbook/main/examples/data/AG_news_samples.csv'\n",
        "file_path = 'AG_news_samples.csv'\n",
        "\n",
        "if not os.path.exists(file_path):\n",
        "    wget.download(cvs_file_path, file_path)\n",
        "    print('File downloaded successfully.')\n",
        "else:\n",
        "    print('File already exists in the local file system.')"
      ],
      "id": "92958292"
    },
    {
      "cell_type": "code",
      "execution_count": 5,
      "metadata": {},
      "outputs": [],
      "source": [
        "df = pd.read_csv('AG_news_samples.csv')\n",
        "df"
      ],
      "id": "511a4442"
    },
    {
      "cell_type": "code",
      "execution_count": 6,
      "metadata": {},
      "outputs": [],
      "source": [
        "data = df.to_dict(orient='records')\n",
        "data[0]"
      ],
      "id": "dcd21c17"
    },
    {
      "attachments": {},
      "cell_type": "markdown",
      "metadata": {},
      "source": [
        "<div class=\"alert alert-block alert-warning\">\n",
        "    <b class=\"fa fa-solid fa-exclamation-circle\"></b>\n",
        "    <div>\n",
        "        <p><b>Action Required</b></p>\n",
        "        <p> If you have a Free Starter Workspace deployed already, select the database from drop-down menu at the top of this notebook. It updates the <tt>connection_url</tt> to connect to that database.</p>\n",
        "    </div>\n",
        "</div>"
      ],
      "id": "56fb72ee"
    },
    {
      "attachments": {},
      "cell_type": "markdown",
      "metadata": {},
      "source": [
        "## Set up the database"
      ],
      "id": "a654b253"
    },
    {
      "attachments": {},
      "cell_type": "markdown",
      "metadata": {},
      "source": [
        "Set up the SingleStoreDB database which will hold your data."
      ],
      "id": "44d411f6"
    },
    {
      "cell_type": "code",
      "execution_count": 7,
      "metadata": {},
      "outputs": [],
      "source": [
        "shared_tier_check = %sql show variables like 'is_shared_tier'\n",
        "if not shared_tier_check or shared_tier_check[0][1] == 'OFF':\n",
        "    %sql DROP DATABASE IF EXISTS news;\n",
        "    %sql CREATE DATABASE news;"
      ],
      "id": "e9855387"
    },
    {
      "attachments": {},
      "cell_type": "markdown",
      "metadata": {},
      "source": [
        "<div class=\"alert alert-block alert-warning\">\n",
        "    <b class=\"fa fa-solid fa-exclamation-circle\"></b>\n",
        "    <div>\n",
        "        <p><b>Action Required</b></p>\n",
        "        <p> Make sure to select a database from the drop-down menu at the top of this notebook. It updates the <tt>connection_url</tt>  to connect to that database.</p>\n",
        "    </div>\n",
        "</div>"
      ],
      "id": "bef0be6c"
    },
    {
      "cell_type": "code",
      "execution_count": 8,
      "metadata": {},
      "outputs": [],
      "source": [
        "%%sql\n",
        "DROP TABLE IF EXISTS news_articles;\n",
        "CREATE TABLE IF NOT EXISTS news_articles /* Creating table for sample data. */(\n",
        "    title TEXT,\n",
        "    description TEXT,\n",
        "    genre TEXT,\n",
        "    embedding BLOB,\n",
        "    FULLTEXT (title, description)\n",
        ");"
      ],
      "id": "1b68c84c"
    },
    {
      "attachments": {},
      "cell_type": "markdown",
      "metadata": {},
      "source": [
        "### Get embeddings for every row based on the description column"
      ],
      "id": "4b2d785a"
    },
    {
      "cell_type": "code",
      "execution_count": 9,
      "metadata": {},
      "outputs": [],
      "source": [
        "# Will take around 3.5 minutes to get embeddings for all 2000 rows\n",
        "\n",
        "descriptions = [row['description'] for row in data]\n",
        "all_embeddings = model.encode(descriptions)\n",
        "all_embeddings.shape"
      ],
      "id": "18b369bf"
    },
    {
      "attachments": {},
      "cell_type": "markdown",
      "metadata": {},
      "source": [
        "Merge embedding values into `data` rows."
      ],
      "id": "e06caac5"
    },
    {
      "cell_type": "code",
      "execution_count": 10,
      "metadata": {},
      "outputs": [],
      "source": [
        "for row, embedding in zip(data, all_embeddings):\n",
        "    row['embedding'] = embedding"
      ],
      "id": "7a86156d"
    },
    {
      "attachments": {},
      "cell_type": "markdown",
      "metadata": {},
      "source": [
        "Here's an example of one row of the combined data."
      ],
      "id": "1699c28f"
    },
    {
      "cell_type": "code",
      "execution_count": 11,
      "metadata": {},
      "outputs": [],
      "source": [
        "data[0]"
      ],
      "id": "0797c747"
    },
    {
      "attachments": {},
      "cell_type": "markdown",
      "metadata": {},
      "source": [
        "### Populate the database"
      ],
      "id": "00650aeb"
    },
    {
      "cell_type": "code",
      "execution_count": 12,
      "metadata": {},
      "outputs": [],
      "source": [
        "%sql TRUNCATE TABLE news_articles;\n",
        "\n",
        "import sqlalchemy as sa\n",
        "from singlestoredb import create_engine\n",
        "\n",
        "# Use create_table from singlestoredb since it uses the notebook connection URL\n",
        "conn = create_engine().connect()\n",
        "\n",
        "statement = sa.text('''\n",
        "        INSERT INTO news.news_articles (\n",
        "            title,\n",
        "            description,\n",
        "            genre,\n",
        "            embedding\n",
        "        )\n",
        "        VALUES (\n",
        "            :title,\n",
        "            :description,\n",
        "            :label,\n",
        "            :embedding\n",
        "        )\n",
        "    ''')\n",
        "\n",
        "conn.execute(statement, data)"
      ],
      "id": "e08bcee3"
    },
    {
      "attachments": {},
      "cell_type": "markdown",
      "metadata": {},
      "source": [
        "## Semantic search"
      ],
      "id": "6ba8ae2e"
    },
    {
      "attachments": {},
      "cell_type": "markdown",
      "metadata": {},
      "source": [
        "### Connect to OpenAI"
      ],
      "id": "ffd38ab8"
    },
    {
      "cell_type": "code",
      "execution_count": 13,
      "metadata": {},
      "outputs": [],
      "source": [
        "import openai\n",
        "\n",
        "EMBEDDING_MODEL = 'text-embedding-ada-002'\n",
        "GPT_MODEL = 'gpt-3.5-turbo'"
      ],
      "id": "bfb585b7"
    },
    {
      "cell_type": "code",
      "execution_count": 14,
      "metadata": {},
      "outputs": [],
      "source": [
        "import getpass\n",
        "\n",
        "openai.api_key = getpass.getpass('OpenAI API Key: ')"
      ],
      "id": "f40ceb13"
    },
    {
      "attachments": {},
      "cell_type": "markdown",
      "metadata": {},
      "source": [
        "### Run semantic search and get scores"
      ],
      "id": "a14ec4a9"
    },
    {
      "cell_type": "code",
      "execution_count": 15,
      "metadata": {},
      "outputs": [],
      "source": [
        "search_query = 'Articles about Aussie captures'\n",
        "search_embedding = model.encode(search_query)\n",
        "\n",
        "# Create the SQL statement.\n",
        "query_statement = sa.text('''\n",
        "    SELECT\n",
        "        title,\n",
        "        description,\n",
        "        genre,\n",
        "        DOT_PRODUCT(embedding, :embedding) AS score\n",
        "    FROM news.news_articles\n",
        "    ORDER BY score DESC\n",
        "    LIMIT 10\n",
        "    ''')\n",
        "\n",
        "# Execute the SQL statement.\n",
        "results = pd.DataFrame(conn.execute(query_statement, dict(embedding=search_embedding)))\n",
        "results"
      ],
      "id": "18283d3b"
    },
    {
      "attachments": {},
      "cell_type": "markdown",
      "metadata": {},
      "source": [
        "## Hybrid search"
      ],
      "id": "3e56cfa5"
    },
    {
      "attachments": {},
      "cell_type": "markdown",
      "metadata": {},
      "source": [
        "This search finds the average of the score gotten from the semantic search and the score gotten from the key-word search and sorts the news articles by this combined score to perform an effective hybrid search."
      ],
      "id": "56e6d068"
    },
    {
      "cell_type": "code",
      "execution_count": 16,
      "metadata": {},
      "outputs": [],
      "source": [
        "hyb_query = 'Articles about Aussie captures'\n",
        "hyb_embedding = model.encode(hyb_query)\n",
        "\n",
        "# Create the SQL statement.\n",
        "hyb_statement = sa.text('''\n",
        "    SELECT\n",
        "        title,\n",
        "        description,\n",
        "        genre,\n",
        "        DOT_PRODUCT(embedding, :embedding) AS semantic_score,\n",
        "        MATCH(title, description) AGAINST (:query) AS keyword_score,\n",
        "        (semantic_score + keyword_score) / 2 AS combined_score\n",
        "    FROM news.news_articles\n",
        "    ORDER BY combined_score DESC\n",
        "    LIMIT 10\n",
        "    ''')\n",
        "\n",
        "# Execute the SQL statement.\n",
        "hyb_results = pd.DataFrame(conn.execute(hyb_statement, dict(embedding=hyb_embedding, query=hyb_query)))\n",
        "hyb_results"
      ],
      "id": "1f1534f7"
    },
    {
      "attachments": {},
      "cell_type": "markdown",
      "metadata": {},
      "source": [
        "## Clean up"
      ],
      "id": "6a7ac35e"
    },
    {
      "attachments": {},
      "cell_type": "markdown",
      "metadata": {},
      "source": [
        "<div class=\"alert alert-block alert-warning\">\n",
        "    <b class=\"fa fa-solid fa-exclamation-circle\"></b>\n",
        "    <div>\n",
        "        <p><b>Action Required</b></p>\n",
        "        <p> If you created a new database in your Standard or Premium Workspace, you can drop the database by running the cell below. Note: this will not drop your database for Free Starter Workspaces. To drop a Free Starter Workspace, terminate the Workspace using the UI. </p>\n",
        "    </div>\n",
        "</div>"
      ],
      "id": "c9b12932"
    },
    {
      "cell_type": "code",
      "execution_count": 17,
      "metadata": {},
      "outputs": [],
      "source": [
        "shared_tier_check = %sql show variables like 'is_shared_tier'\n",
        "if not shared_tier_check or shared_tier_check[0][1] == 'OFF':\n",
        "    %sql DROP DATABASE IF EXISTS news;"
      ],
      "id": "80682ad8"
    },
    {
      "id": "410115cf",
      "cell_type": "markdown",
      "metadata": {},
      "source": [
        "<div id=\"singlestore-footer\" style=\"background-color: rgba(194, 193, 199, 0.25); height:2px; margin-bottom:10px\"></div>\n",
        "<div><img src=\"https://raw.githubusercontent.com/singlestore-labs/spaces-notebooks/master/common/images/singlestore-logo-grey.png\" style=\"padding: 0px; margin: 0px; height: 24px\"/></div>"
      ]
    }
  ],
  "metadata": {
    "jupyterlab": {
      "notebooks": {
        "version_major": 6,
        "version_minor": 4
      }
    },
    "kernelspec": {
      "display_name": "Python 3 (ipykernel)",
      "language": "python",
      "name": "python3"
    },
    "language_info": {
      "codemirror_mode": {
        "name": "ipython",
        "version": 3
      },
      "file_extension": ".py",
      "mimetype": "text/x-python",
      "name": "python",
      "nbconvert_exporter": "python",
      "pygments_lexer": "ipython3",
      "version": "3.11.6"
    }
  },
  "nbformat": 4,
  "nbformat_minor": 5
}
