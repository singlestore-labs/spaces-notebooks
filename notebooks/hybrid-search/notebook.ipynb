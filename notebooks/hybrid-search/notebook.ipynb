{
  "cells": [
    {
      "cell_type": "markdown",
      "id": "505a207d-82ee-406d-bb92-e6a6900d6d18",
      "metadata": {},
      "source": [
        "<div id=\"singlestore-header\" style=\"display: flex; background-color: rgba(209, 153, 255, 0.25); padding: 5px;\">\n",
        "    <div id=\"icon-image\" style=\"width: 90px; height: 90px;\">\n",
        "        <img width=\"100%\" height=\"100%\" src=\"https://raw.githubusercontent.com/singlestore-labs/spaces-notebooks/master/common/images/header-icons/vector-circle.png\" />\n",
        "    </div>\n",
        "    <div id=\"text\" style=\"padding: 5px; margin-left: 10px;\">\n",
        "        <div id=\"badge\" style=\"display: inline-block; background-color: rgba(0, 0, 0, 0.15); border-radius: 4px; padding: 4px 8px; align-items: center; margin-top: 6px; margin-bottom: -2px; font-size: 80%\">SingleStore Notebooks</div>\n",
        "        <h1 style=\"font-weight: 500; margin: 8px 0 0 4px;\">Hybrid Search</h1>\n",
        "    </div>\n",
        "</div>"
      ]
    },
    {
      "cell_type": "markdown",
      "id": "4c528069",
      "metadata": {},
      "source": [
        "<div class=\"alert alert-block alert-warning\">\n",
        "    <b class=\"fa fa-solid fa-exclamation-circle\"></b>\n",
        "    <div>\n",
        "        <p><b>Note</b></p>\n",
        "        <p> This notebook can be run on a Free Starter Workspace. To create a Free Starter Workspace navigate to <tt>Start</tt> using the left nav. You can also use your existing Standard or Premium workspace with this Notebook. </p>\n",
        "    </div>\n",
        "</div>"
      ]
    },
    {
      "cell_type": "markdown",
      "id": "d9f9e629-6eb9-4ca5-bcf2-1b8672b86725",
      "metadata": {},
      "source": [
        "*Source*: [OpenAI Cookbook](https://github.com/openai/openai-cookbook/blob/main/examples/data/AG_news_samples.csv)\n",
        "\n",
        "Hybrid search integrates both keyword-based search and semantic search in order to combine the strengths of both and provide users with a more comprehensive and efficient search experience. This notebook is an example on how to perform hybrid search with SingleStore's database and notebooks."
      ]
    },
    {
      "cell_type": "markdown",
      "id": "532e8d3f-007d-48a4-8d36-44b561dd1109",
      "metadata": {},
      "source": [
        "## Setup\n",
        "Let's first download the libraries necessary."
      ]
    },
    {
      "cell_type": "code",
      "execution_count": 1,
      "id": "07990b64-9447-46a8-abbc-51be1972dfda",
      "metadata": {},
      "outputs": [],
      "source": [
        "%pip install wget openai==1.3.3 --quiet"
      ]
    },
    {
      "cell_type": "code",
      "execution_count": 2,
      "id": "a592dd5e-4114-4abf-923d-74038f5244eb",
      "metadata": {},
      "outputs": [],
      "source": [
        "import json\n",
        "import os\n",
        "import pandas as pd\n",
        "import wget"
      ]
    },
    {
      "cell_type": "code",
      "execution_count": 3,
      "id": "c2bffc74-4b6a-4c0f-acef-f72bb255ec79",
      "metadata": {},
      "outputs": [],
      "source": [
        "# Import the library for vectorizing the data (Up to 2 minutes)\n",
        "!pip install sentence-transformers --quiet\n",
        "\n",
        "from sentence_transformers import SentenceTransformer\n",
        "\n",
        "model = SentenceTransformer('flax-sentence-embeddings/all_datasets_v3_mpnet-base')"
      ]
    },
    {
      "cell_type": "markdown",
      "id": "0aa95a80-5683-4dc3-9e52-c3e890ab87af",
      "metadata": {},
      "source": [
        "## Import data from CSV file\n",
        "This csv file holds the title, summary, and category of approximately 2000 news articles."
      ]
    },
    {
      "cell_type": "code",
      "execution_count": 4,
      "id": "b1b2971e-d0f6-4cfa-a9a7-954602bda460",
      "metadata": {},
      "outputs": [],
      "source": [
        "# download reviews csv file\n",
        "cvs_file_path = 'https://raw.githubusercontent.com/openai/openai-cookbook/main/examples/data/AG_news_samples.csv'\n",
        "file_path = 'AG_news_samples.csv'\n",
        "\n",
        "if not os.path.exists(file_path):\n",
        "    wget.download(cvs_file_path, file_path)\n",
        "    print('File downloaded successfully.')\n",
        "else:\n",
        "    print('File already exists in the local file system.')"
      ]
    },
    {
      "cell_type": "code",
      "execution_count": 5,
      "id": "4d08a1ea-59fb-4334-ba54-aa86119cbaea",
      "metadata": {},
      "outputs": [],
      "source": [
        "df = pd.read_csv('AG_news_samples.csv')\n",
        "df"
      ]
    },
    {
      "cell_type": "code",
      "execution_count": 6,
      "id": "e30c69d3-a807-4437-84e9-6972e3bc3d85",
      "metadata": {},
      "outputs": [],
      "source": [
        "data = df.to_dict(orient='records')\n",
        "data[0]"
      ]
    },
    {
      "cell_type": "markdown",
      "id": "f68e9407",
      "metadata": {},
      "source": [
        "<div class=\"alert alert-block alert-warning\">\n",
        "    <b class=\"fa fa-solid fa-exclamation-circle\"></b>\n",
        "    <div>\n",
        "        <p><b>Action Required</b></p>\n",
        "        <p> If you have a Free Starter Workspace deployed already, select the database from drop-down menu at the top of this notebook. It updates the <tt>connection_url</tt> to connect to that database.</p>\n",
        "    </div>\n",
        "</div>"
      ]
    },
    {
      "cell_type": "markdown",
      "id": "0b6c6560-bc60-43ba-93a4-1b4aee933d5b",
      "metadata": {},
      "source": [
        "## Set up the database"
      ]
    },
    {
      "cell_type": "markdown",
      "id": "e1dd6296-54b0-4f8d-886a-13cacfc28163",
      "metadata": {},
      "source": [
        "Set up the SingleStoreDB database which will hold your data."
      ]
    },
    {
      "cell_type": "code",
      "execution_count": 7,
      "id": "e1874b6f-706a-4638-ad2a-ca387953acaa",
      "metadata": {},
      "outputs": [],
      "source": [
        "shared_tier_check = %sql show variables like 'is_shared_tier'\n",
        "if not shared_tier_check or shared_tier_check[0][1] == 'OFF':\n",
        "    %sql DROP DATABASE IF EXISTS news;\n",
        "    %sql CREATE DATABASE news;"
      ]
    },
    {
      "cell_type": "markdown",
      "id": "fa49cc11",
      "metadata": {},
      "source": [
        "<div class=\"alert alert-block alert-warning\">\n",
        "    <b class=\"fa fa-solid fa-exclamation-circle\"></b>\n",
        "    <div>\n",
        "        <p><b>Action Required</b></p>\n",
        "        <p> Make sure to select a database from the drop-down menu at the top of this notebook. It updates the <tt>connection_url</tt>  to connect to that database.</p>\n",
        "    </div>\n",
        "</div>"
      ]
    },
    {
      "cell_type": "code",
      "execution_count": 8,
      "id": "3f1e2c3d-6fbd-46bb-9bd3-235eb51941cf",
      "metadata": {},
      "outputs": [],
      "source": [
        "%%sql\n",
        "DROP TABLE IF EXISTS news_articles;\n",
        "CREATE TABLE IF NOT EXISTS news_articles (\n",
        "    title TEXT,\n",
        "    description TEXT,\n",
        "    genre TEXT,\n",
        "    embedding BLOB,\n",
        "    FULLTEXT (title, description)\n",
        ");"
      ]
    },
    {
      "cell_type": "markdown",
      "id": "8bd97023-3d02-44d4-8bd3-59875cb22b6c",
      "metadata": {},
      "source": [
        "### Get embeddings for every row based on the description column"
      ]
    },
    {
      "cell_type": "code",
      "execution_count": 9,
      "id": "496f84d0-51b6-4b66-bf5b-b1b260e4c2de",
      "metadata": {},
      "outputs": [],
      "source": [
        "# Will take around 3.5 minutes to get embeddings for all 2000 rows\n",
        "\n",
        "descriptions = [row['description'] for row in data]\n",
        "all_embeddings = model.encode(descriptions)\n",
        "all_embeddings.shape"
      ]
    },
    {
      "cell_type": "markdown",
      "id": "d74c544f-feea-4d48-84be-c62bf5cb4ea3",
      "metadata": {},
      "source": [
        "Merge embedding values into `data` rows."
      ]
    },
    {
      "cell_type": "code",
      "execution_count": 10,
      "id": "05b2f3fe-c35c-4252-b416-9f7b7aec60a6",
      "metadata": {},
      "outputs": [],
      "source": [
        "for row, embedding in zip(data, all_embeddings):\n",
        "    row['embedding'] = embedding"
      ]
    },
    {
      "cell_type": "markdown",
      "id": "b37f2eac-c504-452b-90c2-0bb07e918b16",
      "metadata": {},
      "source": [
        "Here's an example of one row of the combined data."
      ]
    },
    {
      "cell_type": "code",
      "execution_count": 11,
      "id": "30474fe0-257e-4937-b8ec-5780a04581e0",
      "metadata": {},
      "outputs": [],
      "source": [
        "data[0]"
      ]
    },
    {
      "cell_type": "markdown",
      "id": "46b1628c-0ffc-4a84-ba8b-43e8df081b01",
      "metadata": {},
      "source": [
        "### Populate the database"
      ]
    },
    {
      "cell_type": "code",
      "execution_count": 12,
      "id": "cd3e5f9b-d9e5-45fe-ba20-4fb021d7a425",
      "metadata": {},
      "outputs": [],
      "source": [
        "%sql TRUNCATE TABLE news_articles;\n",
        "\n",
        "import sqlalchemy as sa\n",
        "from singlestoredb import create_engine\n",
        "\n",
        "# Use create_table from singlestoredb since it uses the notebook connection URL\n",
        "conn = create_engine().connect()\n",
        "\n",
        "statement = sa.text('''\n",
        "        INSERT INTO news.news_articles (\n",
        "            title,\n",
        "            description,\n",
        "            genre,\n",
        "            embedding\n",
        "        )\n",
        "        VALUES (\n",
        "            :title,\n",
        "            :description,\n",
        "            :label,\n",
        "            :embedding\n",
        "        )\n",
        "    ''')\n",
        "\n",
        "conn.execute(statement, data)"
      ]
    },
    {
      "cell_type": "markdown",
      "id": "a2f3d567-eaf4-487a-a1f9-2eb7e1071991",
      "metadata": {},
      "source": [
        "## Semantic search"
      ]
    },
    {
      "cell_type": "markdown",
      "id": "7ad3b8f6-d3a8-4954-a737-f11c785ce9ce",
      "metadata": {},
      "source": [
        "### Connect to OpenAI"
      ]
    },
    {
      "cell_type": "code",
      "execution_count": 13,
      "id": "598d7077-d04c-46b3-b7c4-7b4362dd4507",
      "metadata": {},
      "outputs": [],
      "source": [
        "import openai\n",
        "\n",
        "EMBEDDING_MODEL = 'text-embedding-ada-002'\n",
        "GPT_MODEL = 'gpt-3.5-turbo'"
      ]
    },
    {
      "cell_type": "code",
      "execution_count": 14,
      "id": "9eea2f67-3c2e-4d1a-87c2-052c2acf4026",
      "metadata": {},
      "outputs": [],
      "source": [
        "import getpass\n",
        "\n",
        "openai.api_key = getpass.getpass('OpenAI API Key: ')"
      ]
    },
    {
      "cell_type": "markdown",
      "id": "6504f561-1ab1-4dbf-a523-0aef23b66e4b",
      "metadata": {},
      "source": [
        "### Run semantic search and get scores"
      ]
    },
    {
      "cell_type": "code",
      "execution_count": 15,
      "id": "a62a4c06-d77a-49b1-beaf-4c54b04d001f",
      "metadata": {},
      "outputs": [],
      "source": [
        "search_query = 'Articles about Aussie captures'\n",
        "search_embedding = model.encode(search_query)\n",
        "\n",
        "# Create the SQL statement.\n",
        "query_statement = sa.text('''\n",
        "    SELECT\n",
        "        title,\n",
        "        description,\n",
        "        genre,\n",
        "        DOT_PRODUCT(embedding, :embedding) AS score\n",
        "    FROM news.news_articles\n",
        "    ORDER BY score DESC\n",
        "    LIMIT 10\n",
        "    ''')\n",
        "\n",
        "# Execute the SQL statement.\n",
        "results = pd.DataFrame(conn.execute(query_statement, dict(embedding=search_embedding)))\n",
        "results"
      ]
    },
    {
      "cell_type": "markdown",
      "id": "2c8ff862-ea5b-4960-be5b-bcd530d6e918",
      "metadata": {},
      "source": [
        "## Hybrid search"
      ]
    },
    {
      "cell_type": "markdown",
      "id": "d0b2cff3-76f8-4a35-a596-4f001a9b4c8c",
      "metadata": {},
      "source": [
        "This search finds the average of the score gotten from the semantic search and the score gotten from the key-word search and sorts the news articles by this combined score to perform an effective hybrid search."
      ]
    },
    {
      "cell_type": "code",
      "execution_count": 16,
      "id": "9df7073f-6a89-4528-968c-7d5c21876a83",
      "metadata": {},
      "outputs": [],
      "source": [
        "hyb_query = 'Articles about Aussie captures'\n",
        "hyb_embedding = model.encode(hyb_query)\n",
        "\n",
        "# Create the SQL statement.\n",
        "hyb_statement = sa.text('''\n",
        "    SELECT\n",
        "        title,\n",
        "        description,\n",
        "        genre,\n",
        "        DOT_PRODUCT(embedding, :embedding) AS semantic_score,\n",
        "        MATCH(title, description) AGAINST (:query) AS keyword_score,\n",
        "        (semantic_score + keyword_score) / 2 AS combined_score\n",
        "    FROM news.news_articles\n",
        "    ORDER BY combined_score DESC\n",
        "    LIMIT 10\n",
        "    ''')\n",
        "\n",
        "# Execute the SQL statement.\n",
        "hyb_results = pd.DataFrame(conn.execute(hyb_statement, dict(embedding=hyb_embedding, query=hyb_query)))\n",
        "hyb_results"
      ]
    },
    {
      "cell_type": "markdown",
      "id": "b49c3ec8-ec70-48b8-bc2b-e387d7de0efc",
      "metadata": {},
      "source": [
        "## Clean up"
      ]
    },
    {
      "cell_type": "markdown",
      "id": "0745143b",
      "metadata": {},
      "source": [
        "<div class=\"alert alert-block alert-warning\">\n",
        "    <b class=\"fa fa-solid fa-exclamation-circle\"></b>\n",
        "    <div>\n",
        "        <p><b>Action Required</b></p>\n",
        "        <p> If you created a new database in your Standard or Premium Workspace, you can drop the database by running the cell below. Note: this will not drop your database for Free Starter Workspaces. To drop a Free Starter Workspace, terminate the Workspace using the UI. </p>\n",
        "    </div>\n",
        "</div>"
      ]
    },
    {
      "cell_type": "code",
      "execution_count": 17,
      "id": "3d4ce5d5-b550-4ee0-9fef-0a1c45e63bb3",
      "metadata": {},
      "outputs": [],
      "source": [
        "shared_tier_check = %sql show variables like 'is_shared_tier'\n",
        "if not shared_tier_check or shared_tier_check[0][1] == 'OFF':\n",
        "    %sql DROP DATABASE IF EXISTS news;"
      ]
    },
    {
      "cell_type": "markdown",
      "id": "f9f6e53b-fb02-4d1a-908f-b96d1c2cdfd0",
      "metadata": {},
      "source": [
        "<div id=\"singlestore-footer\" style=\"background-color: rgba(194, 193, 199, 0.25); height:2px; margin-bottom:10px\"></div>\n",
        "<div><img src=\"https://raw.githubusercontent.com/singlestore-labs/spaces-notebooks/master/common/images/singlestore-logo-grey.png\" style=\"padding: 0px; margin: 0px; height: 24px\"/></div>"
      ]
    }
  ],
  "metadata": {
    "jupyterlab": {
      "notebooks": {
        "version_major": 6,
        "version_minor": 4
      }
    },
    "kernelspec": {
      "display_name": "Python 3 (ipykernel)",
      "language": "python",
      "name": "python3"
    },
    "language_info": {
      "codemirror_mode": {
        "name": "ipython",
        "version": 3
      },
      "file_extension": ".py",
      "mimetype": "text/x-python",
      "name": "python",
      "nbconvert_exporter": "python",
      "pygments_lexer": "ipython3",
      "version": "3.11.4"
    }
  },
  "nbformat": 4,
  "nbformat_minor": 5
}
