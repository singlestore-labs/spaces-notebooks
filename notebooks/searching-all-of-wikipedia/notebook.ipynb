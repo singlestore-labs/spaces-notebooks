{
  "cells": [
    {
      "id": "7aac61ac",
      "cell_type": "markdown",
      "metadata": {},
      "source": [
        "<div id=\"singlestore-header\" style=\"display: flex; background-color: rgba(124, 195, 235, 0.25); padding: 5px;\">\n",
        "    <div id=\"icon-image\" style=\"width: 90px; height: 90px;\">\n",
        "        <img width=\"100%\" height=\"100%\" src=\"https://raw.githubusercontent.com/singlestore-labs/spaces-notebooks/master/common/images/header-icons/book-open-cover.png\" />\n",
        "    </div>\n",
        "    <div id=\"text\" style=\"padding: 5px; margin-left: 10px;\">\n",
        "        <div id=\"badge\" style=\"display: inline-block; background-color: rgba(0, 0, 0, 0.15); border-radius: 4px; padding: 4px 8px; align-items: center; margin-top: 6px; margin-bottom: -2px; font-size: 80%\">SingleStore Notebooks</div>\n",
        "        <h1 style=\"font-weight: 500; margin: 8px 0 0 4px;\">Searching all of Wikipedia</h1>\n",
        "    </div>\n",
        "</div>"
      ]
    },
    {
      "cell_type": "markdown",
      "metadata": {},
      "source": [
        "<div class=\"alert alert-block alert-info\">\n",
        "    <b class=\"fa fa-solid fa-info-circle\"></b>\n",
        "    <div>\n",
        "        <p><b>Note</b></p>\n",
        "        <p>This tutorial is meant for Standard & Premium Workspaces. You can't run this with a Free Starter Workspace due to restrictions on Storage. Create a Workspace using +group in the left nav & select Standard for this notebook. Gallery notebooks tagged with \"Starter\" are suitable to run on a Free Starter Workspace </p>\n",
        "    </div>\n",
        "</div>"
      ],
      "id": "31deb491"
    },
    {
      "attachments": {},
      "cell_type": "markdown",
      "metadata": {},
      "source": [
        "In this notebook, we've embarked on the task to implement semantic search and Retrieval-Augmented Generation (RAG) across Wikipedia's extensive database, using SingleStore's indexed ANN search capabilities.\n",
        "\n",
        "We have focused on a subset of Wikipedia, scraping 1,800 video game articles to obtain real OpenAI embeddings for about 40,000 paragraphs, supplemented by 10 million mock vectors for a scaled-up simulation. We then stored these vectors in a SingleStore database, applying different indexing options to enhance search efficiency. We show remarkable improvements in query response times, dropping to sub 100 milliseconds with indexing.\n",
        "\n",
        "We also integrated this system with a RAG-based chat, where you can ask and retrieve contextual answers based on the video game information in the database. Additionally, I've shared the technical details and resources, including our Python code and data links, in [this GitHub repository](https://github.com/rohitbhamidi/singlestore-indexed-ann) and an AWS S3 bucket (S3 URI: s3://wikipedia-video-game-data/video-game-embeddings(1).csv)."
      ],
      "id": "b80ec63d"
    },
    {
      "cell_type": "markdown",
      "metadata": {},
      "source": [
        "## Part 0: Creating your workspace and database\n",
        "\n",
        "For the purposes of this demo, we are only generating 10 million vectors to search through. By our estimations, Wikipedia contains around 160 million paragraphs as a whole. A quick heuristic for your workspace sizing:\n",
        "\n",
        "- 160 million vectors can be handled by an S-32 Workspace\n",
        "- 20 million vectors can be handled by an S-4 Workspace\n",
        "\n",
        "You can now extrapolate the workspace size you require from the number of vectors you want to generate!"
      ],
      "id": "e30504b2"
    },
    {
      "cell_type": "code",
      "execution_count": 1,
      "metadata": {},
      "outputs": [],
      "source": [
        "%%sql\n",
        "drop database if exists video_game_wikipedia;\n",
        "create database video_game_wikipedia;\n",
        "use video_game_wikipedia;\n",
        "\n",
        "-- create our table (note the usage of the vector data type)\n",
        "create table vecs(\n",
        "    id bigint(20),\n",
        "    url text default null,\n",
        "    paragraph text default null,\n",
        "    v vector(1536) not null,\n",
        "    shard key(id),\n",
        "    key(id) using hash,\n",
        "    fulltext (paragraph)\n",
        ");"
      ],
      "id": "59d7247b"
    },
    {
      "attachments": {},
      "cell_type": "markdown",
      "metadata": {},
      "source": [
        "## Part 1: Generating the Mock Vectors\n",
        "\n",
        "A `vecs` table is created with fields for ID, URL, paragraph text, and the embedding vector.\n",
        "\n",
        "Then, we define several functions:\n",
        "- `randbetween`: generates random floats in a specified range\n",
        "- `gen_vector`: creates a vector of given length filled with random values\n",
        "- `normalize`: adjusts a vector to unit length\n",
        "- `norm1536`: normalizes a vector of dimension 1536\n",
        "- `nrandv1536`: generates a normalized, random vector of dimension 1536\n",
        "\n",
        "Finally, we populate `vecs` with 10,000,000 rows of mock vectors."
      ],
      "id": "0a0390ac"
    },
    {
      "cell_type": "code",
      "execution_count": 2,
      "metadata": {},
      "outputs": [],
      "source": [
        "%%sql\n",
        "-- generates random floats in a specified range\n",
        "create or replace function randbetween(a float, b float) returns float\n",
        "as\n",
        "begin\n",
        "  return (rand()*(b - a) + a);\n",
        "end ;"
      ],
      "id": "1258b171"
    },
    {
      "cell_type": "code",
      "execution_count": 3,
      "metadata": {},
      "outputs": [],
      "source": [
        "%%sql\n",
        "-- set the sql_mode so that the following function returns the expected result\n",
        "set sql_mode = pipes_as_concat;\n",
        "\n",
        "-- creates a vector of given length filled with random values\n",
        "create or replace function gen_vector(length int) returns text as\n",
        "declare s text = \"[\";\n",
        "begin\n",
        "  if length < 2 then\n",
        "    raise user_exception(\"length too short: \" || length);\n",
        "  end if;\n",
        "\n",
        "  for i in 1..length-1 loop\n",
        "    s = s || randbetween(-1,1) || \",\" ;\n",
        "  end loop;\n",
        "  s = s || randbetween(-1,1) || \"]\";\n",
        "  return s;\n",
        "end;"
      ],
      "id": "c098908b"
    },
    {
      "cell_type": "code",
      "execution_count": 4,
      "metadata": {},
      "outputs": [],
      "source": [
        "%%sql\n",
        "-- adjusts a vector to unit length\n",
        "create or replace function normalize(v blob) returns blob as\n",
        "declare\n",
        "  squares blob = vector_mul(v,v);\n",
        "  length float = sqrt(vector_elements_sum(squares));\n",
        "begin\n",
        "  return scalar_vector_mul(1/length, v);\n",
        "end;"
      ],
      "id": "0b707241"
    },
    {
      "cell_type": "code",
      "execution_count": 5,
      "metadata": {},
      "outputs": [],
      "source": [
        "%%sql\n",
        "-- normalizes a vector of dimension 1536\n",
        "create or replace function norm1536(v vector(1536)) returns vector(1536) as\n",
        "begin\n",
        "  return normalize(v) :> vector(1536);\n",
        "end;"
      ],
      "id": "614f85d0"
    },
    {
      "cell_type": "code",
      "execution_count": 6,
      "metadata": {},
      "outputs": [],
      "source": [
        "%%sql\n",
        "-- generates a normalized, random vector of dimension 1536\n",
        "create or replace function nrandv1536() returns vector(1536) as\n",
        "begin\n",
        "  return norm1536(gen_vector(1536));\n",
        "end;"
      ],
      "id": "f5e7a62d"
    },
    {
      "cell_type": "code",
      "execution_count": 7,
      "metadata": {},
      "outputs": [],
      "source": [
        "%%sql\n",
        "-- procedure to populate `vecs` with `num_rows` vectors\n",
        "create or replace procedure insert_vectors(num_rows bigint) as\n",
        "declare c int;\n",
        "begin\n",
        "  select count(*) into c from vecs;\n",
        "  loop\n",
        "    insert into vecs (id, v)\n",
        "    select id + (select max(id) from vecs), nrandv1536()\n",
        "    from vecs\n",
        "    where id <= 128 * 1024; /* chunk size 128K so we can see progress */\n",
        "    select count(*) into c from vecs;\n",
        "    if c >= num_rows then\n",
        "      exit;\n",
        "    end if;\n",
        "  end loop;\n",
        "end;"
      ],
      "id": "90571219"
    },
    {
      "cell_type": "code",
      "execution_count": 8,
      "metadata": {},
      "outputs": [],
      "source": [
        "%%sql\n",
        "-- run the procedure to populate `vecs` with 10,000,000 vectors\n",
        "-- this will take around 20 min\n",
        "insert into vecs (id, v) values (1, nrandv1536());\n",
        "call insert_vectors(10000000);"
      ],
      "id": "81b39e22"
    },
    {
      "cell_type": "markdown",
      "metadata": {},
      "source": [
        "As a quick aside, if you want to generate the full 160 million vectors, you simply have to change the `num_rows` to 160,000,000: `call insert_vectors(160000000);`"
      ],
      "id": "0f2f6417"
    },
    {
      "attachments": {},
      "cell_type": "markdown",
      "metadata": {},
      "source": [
        "## Part 2: Getting the Wikipedia video game data\n",
        "\n",
        "We will use a SingleStore pipeline named `wiki_pipeline` to import data from an S3 bucket into `vecs`. The pipeline is configured to load data from a CSV file located at `s3://wikipedia-video-game-data/video-game-embeddings(1).csv`. Since the S3 bucket is open, the credentials section is left empty."
      ],
      "id": "adce04a3"
    },
    {
      "cell_type": "code",
      "execution_count": 9,
      "metadata": {},
      "outputs": [],
      "source": [
        "%%sql\n",
        "-- since the bucket is open, you can leave the credentials clause as it is\n",
        "create or replace pipeline `wiki_pipeline` as\n",
        "load data S3 's3://wikipedia-video-game-data/video-game-embeddings(1).csv'\n",
        "config '{\"region\":\"us-west-1\"}'\n",
        "credentials '{\"aws_access_key_id\": \"\",\n",
        "            \"aws_secret_access_key\": \"\"}'\n",
        "skip duplicate key errors\n",
        "into table `vecs`\n",
        "format csv\n",
        "fields terminated by ','\n",
        "enclosed by '\"'\n",
        "lines terminated by '\\r\\n';"
      ],
      "id": "02e85cce"
    },
    {
      "cell_type": "code",
      "execution_count": 10,
      "metadata": {},
      "outputs": [],
      "source": [
        "%%sql\n",
        "-- start the pipeline!\n",
        "start pipeline `wiki_pipeline`;"
      ],
      "id": "46b2136c"
    },
    {
      "cell_type": "code",
      "execution_count": 11,
      "metadata": {},
      "outputs": [],
      "source": [
        "%%sql\n",
        "-- monitor the pipeline!\n",
        "select DATABASE_NAME, PIPELINE_NAME, BATCH_ID, BATCH_STATE, START_TIME, ROWS_STREAMED, ROWS_PER_SEC\n",
        "from information_schema.PIPELINES_BATCHES_SUMMARY\n",
        "order by BATCH_ID;"
      ],
      "id": "4f9b0875"
    },
    {
      "attachments": {},
      "cell_type": "markdown",
      "metadata": {},
      "source": [
        "## Part 3: Building the vector indexes\n",
        "\n",
        "Now, we have all the data in our table `vecs`. Let's go ahead and build our vector index. SingleStore gives us many options for our index with many tunable parameters. We will stick with the IVF indexes with default parameters."
      ],
      "id": "636ec475"
    },
    {
      "cell_type": "code",
      "execution_count": 12,
      "metadata": {},
      "outputs": [],
      "source": [
        "%%sql\n",
        "alter table vecs add vector index auto (v) INDEX_OPTIONS '{\"index_type\":\"AUTO\"}';"
      ],
      "id": "40f3072a"
    },
    {
      "cell_type": "code",
      "execution_count": 13,
      "metadata": {},
      "outputs": [],
      "source": [
        "%%sql\n",
        "alter table vecs add vector index ivf_flat (v) INDEX_OPTIONS '{\"index_type\":\"IVF_FLAT\"}';"
      ],
      "id": "3a626544"
    },
    {
      "cell_type": "code",
      "execution_count": 14,
      "metadata": {},
      "outputs": [],
      "source": [
        "%%sql\n",
        "alter table vecs add vector index ivf_pq (v) INDEX_OPTIONS '{\"index_type\":\"IVF_PQ\"}';"
      ],
      "id": "bc8a3b33"
    },
    {
      "attachments": {},
      "cell_type": "markdown",
      "metadata": {},
      "source": [
        "## Part 4: Testing our indexes\n",
        "\n",
        "Now that we have indexed our 10M vector dataset, let us now run some queries to test index performance!\n",
        "\n",
        "We have chosen a test vector whose paragraph is about Nintendo's Rad Racer video game. We will compare the performance of an exact K-nearest neighbor search to the searches with our ANN indexes.\n",
        "\n",
        "As we will see, we get an order of magnitude improvement when using an index in comparison to the exact KNN search!"
      ],
      "id": "5ade8ae2"
    },
    {
      "cell_type": "code",
      "execution_count": 15,
      "metadata": {},
      "outputs": [],
      "source": [
        "%%sql\n",
        "set @qv = (select v from vecs where id = 1125899906845489);\n",
        "\n",
        "-- NO INDEX: exact kNN search\n",
        "select paragraph, v <*> @qv as sim\n",
        "from vecs\n",
        "order by sim use index () desc\n",
        "limit 5;"
      ],
      "id": "9f40900b"
    },
    {
      "cell_type": "code",
      "execution_count": 16,
      "metadata": {},
      "outputs": [],
      "source": [
        "%%sql\n",
        "set @qv = (select v from vecs where id = 1125899906845489);\n",
        "\n",
        "-- AUTO index\n",
        "select paragraph, v <*> @qv as sim\n",
        "from vecs\n",
        "order by sim use index (auto) desc\n",
        "limit 5;"
      ],
      "id": "51f21307"
    },
    {
      "cell_type": "code",
      "execution_count": 17,
      "metadata": {},
      "outputs": [],
      "source": [
        "%%sql\n",
        "set @qv = (select v from vecs where id = 1125899906845489);\n",
        "\n",
        "-- IVF_FLAT\n",
        "select paragraph, v <*> @qv as sim\n",
        "from vecs\n",
        "order by sim use index (ivf_flat) desc\n",
        "limit 5;"
      ],
      "id": "9e9a8fa9"
    },
    {
      "cell_type": "code",
      "execution_count": 18,
      "metadata": {},
      "outputs": [],
      "source": [
        "%%sql\n",
        "set @qv = (select v from vecs where id = 1125899906845489);\n",
        "\n",
        "-- IVF_PQ\n",
        "select paragraph, v <*> @qv as sim\n",
        "from vecs\n",
        "order by sim use index (ivf_pq) desc\n",
        "limit 5;"
      ],
      "id": "d46484c5"
    },
    {
      "attachments": {},
      "cell_type": "markdown",
      "metadata": {},
      "source": [
        "## Part 5: Hybrid Search in SingleStore\n",
        "\n",
        "Let us now see how we can implement a \"hybrid search\" in SingleStore! This is going to be a query that combines two powerful tools: a fulltext search and a semantic search!"
      ],
      "id": "4b1113d0"
    },
    {
      "cell_type": "code",
      "execution_count": 19,
      "metadata": {},
      "outputs": [],
      "source": [
        "%%sql\n",
        "\n",
        "-- set the query vector\n",
        "set @v_mario = (select v\n",
        "                from vecs where url = \"https://en.wikipedia.org/wiki/Super_Mario_Kart\"\n",
        "                order by id\n",
        "                limit 1);\n",
        "\n",
        "-- building the hybrid search\n",
        "with fts as(\n",
        "    select id, paragraph, match (paragraph) against ('Mario Kart') as score\n",
        "    from vecs\n",
        "    where match (paragraph) against ('Mario Kart')\n",
        "    order by score desc\n",
        "    limit 200\n",
        "),\n",
        "vs as (\n",
        "    select id, paragraph, v <*> @v_mario as score\n",
        "    from vecs\n",
        "    order by score use index (auto) desc\n",
        "    limit 200\n",
        ")\n",
        "select vs.id,\n",
        "    vs.paragraph,\n",
        "    .3 * ifnull(fts.score, 0) + .7 * vs.score as hybrid_score,\n",
        "    vs.score as vec_score,\n",
        "    ifnull(fts.score, 0) as ft_score\n",
        "from fts full outer join vs\n",
        "    on fts.id = vs.id\n",
        "order by hybrid_score desc\n",
        "limit 5;"
      ],
      "id": "5a402fee"
    },
    {
      "attachments": {},
      "cell_type": "markdown",
      "metadata": {},
      "source": [
        "## Part 6: Chatting with the Video Game data!\n",
        "\n",
        "- `search_wiki_page` Function:\n",
        "  - Conducts semantic search in a database.\n",
        "  - Uses embeddings from `get_embedding` for query input.\n",
        "  - Finds top 'k' paragraphs in `vecs` table, ranked by similarity to query.\n",
        "  - Measures and prints search execution time.\n",
        "\n",
        "- `ask_wiki_page` Function:\n",
        "  - Utilizes results from `search_wiki_page` for chatbot input.\n",
        "  - Generates a query for an OpenAI GPT model-based chatbot."
      ],
      "id": "c6f7ede2"
    },
    {
      "cell_type": "code",
      "execution_count": 20,
      "metadata": {},
      "outputs": [],
      "source": [
        "!pip3 install openai --quiet"
      ],
      "id": "27551786"
    },
    {
      "cell_type": "code",
      "execution_count": 21,
      "metadata": {},
      "outputs": [],
      "source": [
        "import sqlalchemy as sa\n",
        "from openai import OpenAI\n",
        "import getpass\n",
        "import os\n",
        "import time\n",
        "import json"
      ],
      "id": "de331a08"
    },
    {
      "cell_type": "code",
      "execution_count": 22,
      "metadata": {},
      "outputs": [],
      "source": [
        "# OpenAI connection\n",
        "OPENAI_API_KEY = os.environ['OPENAI_API_KEY'] = getpass.getpass('OpenAI API Key: ')\n",
        "client = OpenAI()\n",
        "EMBEDDING_MODEL = 'text-embedding-ada-002'\n",
        "GPT_MODEL = 'gpt-3.5-turbo'\n",
        "\n",
        "# SingleStore connection\n",
        "engine = sa.create_engine(connection_url)\n",
        "connection = engine.connect()"
      ],
      "id": "36038718"
    },
    {
      "cell_type": "code",
      "execution_count": 23,
      "metadata": {},
      "outputs": [],
      "source": [
        "def get_embedding(text, model=EMBEDDING_MODEL):\n",
        "    '''Generates the OpenAI embedding from an input `text`.'''\n",
        "    if isinstance(text, str):\n",
        "        response = client.embeddings.create(input=[text], model=model)\n",
        "        return json.dumps(response.data[0].embedding)"
      ],
      "id": "eb5b430d"
    },
    {
      "cell_type": "code",
      "execution_count": 24,
      "metadata": {},
      "outputs": [],
      "source": [
        "def search_wiki_page(query, limit=5):\n",
        "    '''Returns a df of the top k matches to the query ordered by similarity.'''\n",
        "    query_embedding_vec = get_embedding(query)\n",
        "    statement = sa.text(\n",
        "        f'''select paragraph, v <*> :query_embedding :> vector(1536) AS similarity\n",
        "        from vecs\n",
        "        order by similarity use index (auto) desc\n",
        "        limit :limit;'''\n",
        "    )\n",
        "    print(\"Searching for matches...\")\n",
        "    start_time = time.time()\n",
        "    results = connection.execute(statement, {\"query_embedding\": query_embedding_vec, \"limit\": limit})\n",
        "    end_time = time.time()\n",
        "    execution_time = end_time - start_time\n",
        "    print(f\"Search complete in {execution_time} seconds.\")\n",
        "    results_as_dict = results.fetchall()\n",
        "    return results_as_dict"
      ],
      "id": "abcbb35b"
    },
    {
      "cell_type": "code",
      "execution_count": 25,
      "metadata": {},
      "outputs": [],
      "source": [
        "def ask_wiki_page(query, limit=5, temp=0.0):\n",
        "    '''Uses RAG to answer a question from the wiki page'''\n",
        "    results = search_wiki_page(query, limit)\n",
        "    print(\"Asking Chatbot...\")\n",
        "    prompt = f'''Excerpt from the conversation history:\n",
        "        {results}\n",
        "        Question: {query}\n",
        "\n",
        "        Based on the conversation history, try to provide the most accurate answer to the question.\n",
        "        Consider the details mentioned in the conversation history to formulate a response that is as\n",
        "        helpful and precise as possible. please provide links to WIKIPEDIA ARTICLES TO LOOK AT FOR MORE INFORMATION.\n",
        "\n",
        "        Most importantly, IF THE INFORMATION IS NOT PRESENT IN THE CONVERSATION HISTORY, DO NOT MAKE UP AN ANSWER.'''\n",
        "    response = client.chat.completions.create(\n",
        "        model=GPT_MODEL,\n",
        "        messages=[\n",
        "            {\"role\": \"system\", \"content\": \"You are a helpful assistant who is answering questions about an article.\"},\n",
        "            {\"role\": \"user\", \"content\": prompt}\n",
        "        ],\n",
        "        temperature=temp\n",
        "    )\n",
        "    response_message = response.choices[0].message.content\n",
        "    return response_message"
      ],
      "id": "852878d7"
    },
    {
      "cell_type": "code",
      "execution_count": 26,
      "metadata": {},
      "outputs": [],
      "source": [
        "query = input('Ask me a question about video games!')\n",
        "ask_wiki_page(query)"
      ],
      "id": "ac0fc0f3"
    },
    {
      "id": "d53fccb8",
      "cell_type": "markdown",
      "metadata": {},
      "source": [
        "<div id=\"singlestore-footer\" style=\"background-color: rgba(194, 193, 199, 0.25); height:2px; margin-bottom:10px\"></div>\n",
        "<div><img src=\"https://raw.githubusercontent.com/singlestore-labs/spaces-notebooks/master/common/images/singlestore-logo-grey.png\" style=\"padding: 0px; margin: 0px; height: 24px\"/></div>"
      ]
    }
  ],
  "metadata": {
    "jupyterlab": {
      "notebooks": {
        "version_major": 6,
        "version_minor": 4
      }
    },
    "kernelspec": {
      "display_name": "Python 3 (ipykernel)",
      "language": "python",
      "name": "python3"
    },
    "language_info": {
      "codemirror_mode": {
        "name": "ipython",
        "version": 3
      },
      "file_extension": ".py",
      "mimeType": "text/x-python",
      "name": "python",
      "nbconvert_exporter": "python",
      "pygments_lexer": "ipython3",
      "version": "3.11.6"
    }
  },
  "nbformat": 4,
  "nbformat_minor": 5
}
