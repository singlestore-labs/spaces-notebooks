{
  "cells": [
    {
      "cell_type": "markdown",
      "id": "6fe27fdb-6d1d-49ad-a868-6d434f0840ff",
      "metadata": {},
      "source": [
        "<div id=\"singlestore-header\" style=\"display: flex; background-color: rgba(235, 249, 245, 0.25); padding: 5px;\">\n",
        "    <div id=\"icon-image\" style=\"width: 90px; height: 90px;\">\n",
        "        <img width=\"100%\" height=\"100%\" src=\"https://raw.githubusercontent.com/singlestore-labs/spaces-notebooks/master/common/images/header-icons/browser.png\" />\n",
        "    </div>\n",
        "    <div id=\"text\" style=\"padding: 5px; margin-left: 10px;\">\n",
        "        <div id=\"badge\" style=\"display: inline-block; background-color: rgba(0, 0, 0, 0.15); border-radius: 4px; padding: 4px 8px; align-items: center; margin-top: 6px; margin-bottom: -2px; font-size: 80%\">SingleStore Notebooks</div>\n",
        "        <h1 style=\"font-weight: 500; margin: 8px 0 0 4px;\">Getting Started with Fusion SQL</h1>\n",
        "    </div>\n",
        "</div>"
      ]
    },
    {
      "cell_type": "markdown",
      "id": "fd164b0c-acb1-413c-8fc9-9e611fb8c5e1",
      "metadata": {},
      "source": [
        "In this notebook, we introduce Fusion SQL. Fusion SQL are SQL statements that\n",
        "can be used to manage workspace groups, workspaces, files in workspace stages,\n",
        "and other resources that could previously only be managed in the portal user\n",
        "interface or the Management REST API."
      ]
    },
    {
      "cell_type": "markdown",
      "id": "749d2c42-9296-44ff-9060-dd1fd415ce10",
      "metadata": {},
      "source": [
        "## Displaying available Fusion SQL commands\n",
        "\n",
        "We can use the `SHOW FUSION COMMANDS` statement to get all of the available commands."
      ]
    },
    {
      "cell_type": "code",
      "execution_count": 1,
      "id": "0979fcb9-5d5f-4bc4-964d-66a4b121d707",
      "metadata": {},
      "outputs": [],
      "source": [
        "%%sql\n",
        "SHOW FUSION COMMANDS"
      ]
    },
    {
      "cell_type": "markdown",
      "id": "22b80f43-94be-4cb4-9396-7cf072adf6b4",
      "metadata": {},
      "source": [
        "The result of the `SHOW FUSION COMMANDS` statement is a result set just like any other\n",
        "database query. We'll print the output from the previous command manually so it's a\n",
        "bit easier to read.\n",
        "\n",
        "You'll see that the commands cover everything from creating to terminating workspace\n",
        "groups, to managing files in the workspace group Stage."
      ]
    },
    {
      "cell_type": "code",
      "execution_count": 2,
      "id": "8f76a839-7400-442e-a543-7dd3875e73b9",
      "metadata": {},
      "outputs": [],
      "source": [
        "for cmd in _:\n",
        "    print(cmd[0], '\\n')"
      ]
    },
    {
      "cell_type": "markdown",
      "id": "bbfe4266-fc6d-4f5a-aacd-94cd761ed401",
      "metadata": {},
      "source": [
        "The `SHOW FUSION COMMANDS` also has a `LIKE` option that can be used to filter the displayed commands."
      ]
    },
    {
      "cell_type": "code",
      "execution_count": 3,
      "id": "88244a88-9722-49c1-9f19-5f22e0b8e300",
      "metadata": {},
      "outputs": [],
      "source": [
        "%%sql\n",
        "SHOW FUSION COMMANDS LIKE '%stage%'"
      ]
    },
    {
      "cell_type": "markdown",
      "id": "f8c94b3e-1521-4957-8f37-f0d004f55609",
      "metadata": {},
      "source": [
        "Let's try a workflow that goes through the entire process of creating a workspace group, workspace,\n",
        "and Stage files."
      ]
    },
    {
      "cell_type": "markdown",
      "id": "e6b0762f-5626-453c-9b7b-a6e56ace7e86",
      "metadata": {},
      "source": [
        "## Working with workspace groups\n",
        "\n",
        "In this example, we will create a new workspace group, add workspaces, and  demonstrate how to suspend and resume a workspace.\n",
        "We will then terminate the workspaces and workspace groups all from SQL!"
      ]
    },
    {
      "cell_type": "markdown",
      "id": "dd48fec9-8a83-466c-b784-c1e63beea818",
      "metadata": {},
      "source": [
        "Looking above at our list of printed commands, we see that the `CREATE WORKSPACE GROUP`\n",
        "command has the following options:\n",
        "```\n",
        "CREATE WORKSPACE GROUP [ IF NOT EXISTS ] '<group-name>'\n",
        "    IN REGION { ID '<region-id>' | '<region-name>' }\n",
        "    [ WITH PASSWORD '<password>' ]\n",
        "    [ EXPIRES AT '<iso-datetime-or-interval>' ]\n",
        "    [ WITH FIREWALL RANGES '<ip-range>',... ];\n",
        "```\n",
        "\n",
        "We need a region ID or name to create a workspace group, but luckily there is a Fusion command\n",
        "that can give us all of the region information. We can use this to get a region from the US\n",
        "by using the `LIKE` parameter.\n",
        "```\n",
        "SHOW REGIONS [ LIKE '<pattern>' ] [ ORDER BY '<key>' [ ASC | DESC ],... ] [ LIMIT <integer> ];\n",
        "```"
      ]
    },
    {
      "cell_type": "code",
      "execution_count": 4,
      "id": "375069f6-4553-4b55-824a-201efbb34ea2",
      "metadata": {},
      "outputs": [],
      "source": [
        "%%sql us_regions <<\n",
        "SHOW REGIONS LIKE '%US%'"
      ]
    },
    {
      "cell_type": "code",
      "execution_count": 5,
      "id": "0b268211-681f-4cd7-849c-2fd4813d7c73",
      "metadata": {},
      "outputs": [],
      "source": [
        "us_regions"
      ]
    },
    {
      "cell_type": "markdown",
      "id": "38cff483-5260-4601-b0c8-76521bfa1446",
      "metadata": {},
      "source": [
        "Let's use the random package to choose a US region for us."
      ]
    },
    {
      "cell_type": "code",
      "execution_count": 6,
      "id": "490ab9d1-8539-40c3-ac21-733d18e01758",
      "metadata": {},
      "outputs": [],
      "source": [
        "import random\n",
        "\n",
        "region_id = random.choice(us_regions).ID\n",
        "region_id"
      ]
    },
    {
      "cell_type": "markdown",
      "id": "9aa3dbb5-0e0f-4971-867c-618862def699",
      "metadata": {},
      "source": [
        "Now that we have a region ID, we can create our workspace. We'll open the firewall so it\n",
        "can be accessed from anywhere and set a password."
      ]
    },
    {
      "cell_type": "code",
      "execution_count": 7,
      "id": "10d84a7c-cd26-4c36-8275-ebb66a30dcdc",
      "metadata": {},
      "outputs": [],
      "source": [
        "import secrets\n",
        "\n",
        "wsg_name = 'Fusion Notebook'\n",
        "password = secrets.token_urlsafe(20) + '-x&'"
      ]
    },
    {
      "cell_type": "code",
      "execution_count": 8,
      "id": "08d40823-6700-4c45-be8f-e5ecf5502284",
      "metadata": {},
      "outputs": [],
      "source": [
        "%%sql\n",
        "CREATE WORKSPACE GROUP '{{ wsg_name }}' IN REGION ID '{{ region_id }}'\n",
        "       WITH FIREWALL RANGES '0.0.0.0/0' WITH PASSWORD '{{ password }}'"
      ]
    },
    {
      "cell_type": "markdown",
      "id": "e6a5ee99-5935-45a4-b602-9b4b7263d6b7",
      "metadata": {},
      "source": [
        "If you are in the SingleStore Cloud portal, you should see the workpace group displayed in a few seconds.\n",
        "You can also use the `SHOW WORKSPACE GROUPS` command to list them."
      ]
    },
    {
      "cell_type": "code",
      "execution_count": 9,
      "id": "b2a79c30-e9cc-4262-8db8-562abe32e021",
      "metadata": {},
      "outputs": [],
      "source": [
        "%%sql\n",
        "SHOW WORKSPACE GROUPS LIKE 'Fusion%'"
      ]
    },
    {
      "cell_type": "markdown",
      "id": "a84445b2-d49a-4a48-8951-1a40e6f98465",
      "metadata": {},
      "source": [
        "### Creating workspaces\n",
        "\n",
        "Now that we have a workspace group, we can create workspaces within it. Let's create\n",
        "two workspaces of different sizes. Here is the syntax for that operation.\n",
        "```\n",
        "CREATE WORKSPACE [ IF NOT EXISTS ] '<workspace-name>' [ IN GROUP { ID '<group-id>' | '<group-name>' } ]\n",
        "    WITH SIZE '<size>' [ WAIT ON ACTIVE ];\n",
        "```"
      ]
    },
    {
      "cell_type": "code",
      "execution_count": 10,
      "id": "9534e73f-d9ca-43c8-bc83-022c9d9d6d4b",
      "metadata": {},
      "outputs": [],
      "source": [
        "%%sql\n",
        "CREATE WORKSPACE 'workspace-1' IN GROUP '{{ wsg_name }}' WITH SIZE 'S-00';\n",
        "CREATE WORKSPACE 'workspace-2' IN GROUP '{{ wsg_name }}' WITH SIZE 'S-1';"
      ]
    },
    {
      "cell_type": "markdown",
      "id": "326307f8-1e76-43b7-aeb2-0d354f14e6cf",
      "metadata": {},
      "source": [
        "The workspaces will take some time to become available. We can write a small wait loop to\n",
        "block until they are both ready."
      ]
    },
    {
      "cell_type": "code",
      "execution_count": 11,
      "id": "ac2cff84-17f4-4f30-a10c-b1cb2921e1f2",
      "metadata": {},
      "outputs": [],
      "source": [
        "def wait_on_attr(cmd: str, **kwargs) -> None:\n",
        "    \"\"\"Loop until the given attribute of every result row matches.\"\"\"\n",
        "    import time\n",
        "    import singlestoredb as s2\n",
        "\n",
        "    name, value = list(kwargs.items())[0]\n",
        "\n",
        "    n_tries = 20\n",
        "    while n_tries > 0:\n",
        "        try:\n",
        "            workspaces = %sql {{ cmd }}\n",
        "        except s2.ManagementError as exc:\n",
        "            # If we hit a gap between JWT refreshes, just continue\n",
        "            if exc.errno == 401:\n",
        "                time.sleep(5)\n",
        "                continue\n",
        "        active = [x for x in workspaces if getattr(x, name) == value]\n",
        "        if len(active) == len(workspaces):\n",
        "            n_tries = 1\n",
        "            break\n",
        "        time.sleep(20)\n",
        "        n_tries -= 1\n",
        "\n",
        "    if n_tries == 0:\n",
        "        raise RuntimeError('waiting for workspaces timed out')\n",
        "\n",
        "\n",
        "# Wait for all workspaces to be active\n",
        "wait_on_attr(f'SHOW WORKSPACES IN GROUP \"{ wsg_name }\"', State='ACTIVE')"
      ]
    },
    {
      "cell_type": "markdown",
      "id": "cacf2fbe-8230-4bb6-a7a8-136dfe2f3d6c",
      "metadata": {},
      "source": [
        "We can now display the information about the workspaces using the `SHOW WORKSPACES` command."
      ]
    },
    {
      "cell_type": "code",
      "execution_count": 12,
      "id": "f07f5d66-769f-41ed-9740-ee64d784d608",
      "metadata": {},
      "outputs": [],
      "source": [
        "%%sql\n",
        "SHOW WORKSPACES IN GROUP '{{ wsg_name }}' ORDER BY Name EXTENDED"
      ]
    },
    {
      "cell_type": "markdown",
      "id": "eaf14e95-0e07-421f-b051-14c35f01efef",
      "metadata": {},
      "source": [
        "### Suspending and resuming workspaces\n",
        "\n",
        "It is possible to suspend and resume workspaces from Fusion SQL as well.\n",
        "\n",
        "```\n",
        "RESUME WORKSPACE { ID '<workspace-id>' | '<workspace-name>' } [ IN GROUP { ID '<group-id>' | '<group-name>' } ] [ WAIT ON RESUMED ];\n",
        "\n",
        "SUSPEND WORKSPACE { ID '<workspace-id>' | '<workspace-name>' } [ IN GROUP { ID '<group-id>' | '<group-name>' } ] [ WAIT ON SUSPENDED ];\n",
        "```"
      ]
    },
    {
      "cell_type": "code",
      "execution_count": 13,
      "id": "28f0c0dc-3e4e-45d5-8bc8-a9a5a090b91d",
      "metadata": {},
      "outputs": [],
      "source": [
        "%%sql\n",
        "SUSPEND WORKSPACE 'workspace-1' IN GROUP '{{ wsg_name }}'"
      ]
    },
    {
      "cell_type": "markdown",
      "id": "37a04a12-1460-4390-824b-5beffbe0e407",
      "metadata": {},
      "source": [
        "The workspace should have a state of 'SUSPENDED' shortly after running the above command."
      ]
    },
    {
      "cell_type": "code",
      "execution_count": 14,
      "id": "76898a1d-8e04-411a-816d-702662e940c8",
      "metadata": {},
      "outputs": [],
      "source": [
        "%%sql\n",
        "SHOW WORKSPACES IN GROUP '{{ wsg_name}}'"
      ]
    },
    {
      "cell_type": "markdown",
      "id": "c0f6b076-ae63-41fd-9c98-e4d9a76146c8",
      "metadata": {},
      "source": [
        "To resume the workspace, you use the `RESUME WORKSPACE` command."
      ]
    },
    {
      "cell_type": "code",
      "execution_count": 15,
      "id": "0d018344-c4cc-4591-a764-f25678390a94",
      "metadata": {},
      "outputs": [],
      "source": [
        "%%sql\n",
        "RESUME WORKSPACE 'workspace-1' IN GROUP '{{ wsg_name }}'"
      ]
    },
    {
      "cell_type": "markdown",
      "id": "92196a04-5826-4a8b-819d-84312b7bef2b",
      "metadata": {},
      "source": [
        "This operation will take a bit longer, so you may need a wait loop again."
      ]
    },
    {
      "cell_type": "code",
      "execution_count": 16,
      "id": "6a4a71ea-2d66-4633-acb7-aaf62955cb7b",
      "metadata": {},
      "outputs": [],
      "source": [
        "wait_on_attr(f'SHOW WORKSPACES IN GROUP \"{ wsg_name }\"', State='ACTIVE')"
      ]
    },
    {
      "cell_type": "code",
      "execution_count": 17,
      "id": "71738296-e6a1-4a55-82ef-4a8a053451a2",
      "metadata": {},
      "outputs": [],
      "source": [
        "%%sql\n",
        "SHOW WORKSPACES IN GROUP '{{ wsg_name}}' EXTENDED"
      ]
    },
    {
      "cell_type": "markdown",
      "id": "f286faac-d964-4ece-aad1-e0692a071f4b",
      "metadata": {},
      "source": [
        "### Accessing the database endpoint of a workspace\n",
        "\n",
        "As you saw above, we have access to the database endpoint in the workspace information.\n",
        "We can use that to create a connection to that workspace for database operations."
      ]
    },
    {
      "cell_type": "code",
      "execution_count": 18,
      "id": "762f32d0-26a4-415d-b0c1-d40c528cad16",
      "metadata": {},
      "outputs": [],
      "source": [
        "workspaces = _"
      ]
    },
    {
      "cell_type": "code",
      "execution_count": 19,
      "id": "33ccf8e5-7599-440d-adb9-d1e29dfecf94",
      "metadata": {},
      "outputs": [],
      "source": [
        "import singlestoredb as s2\n",
        "\n",
        "with s2.connect(f'admin:{ password }@{ workspaces[0].Endpoint }:3306') as conn:\n",
        "    with conn.cursor() as cur:\n",
        "        cur.execute('show databases')\n",
        "        for row in cur:\n",
        "            print(*row)"
      ]
    },
    {
      "cell_type": "markdown",
      "id": "69bf9daf-7043-4712-8b14-1f2f383582ad",
      "metadata": {},
      "source": [
        "### Terminating workspaces and workspace groups\n",
        "\n",
        "You can terminate workspaces and workspace groups from Fusion SQL commands as well.\n",
        "```\n",
        "DROP WORKSPACE [ IF EXISTS ] { ID '<workspace-id>' | '<workspace-name>' } [ IN GROUP { ID '<group-id>' | '<group-name>' } ] [ WAIT ON TERMINATED ];\n",
        "\n",
        "DROP WORKSPACE GROUP [ IF EXISTS ] { ID '<group-id>' | '<group-name>' } [ WAIT ON TERMINATED ] [ FORCE ];\n",
        "```"
      ]
    },
    {
      "cell_type": "markdown",
      "id": "d7f5532c-dd17-48fb-ae9e-1f2d3a8a896d",
      "metadata": {},
      "source": [
        "Let's drop `workspace-2` and leave `workspace-1` in place."
      ]
    },
    {
      "cell_type": "code",
      "execution_count": 20,
      "id": "160e8673-d9f4-4ce0-b9b7-ecd4f3d0d75b",
      "metadata": {},
      "outputs": [],
      "source": [
        "%%sql\n",
        "DROP WORKSPACE 'workspace-2' IN GROUP '{{ wsg_name }}'"
      ]
    },
    {
      "cell_type": "markdown",
      "id": "5eddf490-9894-4e45-98cd-a7bf3e299b87",
      "metadata": {},
      "source": [
        "The above operation may take a few seconds. Once it has completed, the following output will\n",
        "show just one workspace remaining."
      ]
    },
    {
      "cell_type": "code",
      "execution_count": 21,
      "id": "e1ac3334-ecd6-45a2-a218-5ea2a82ebc2d",
      "metadata": {},
      "outputs": [],
      "source": [
        "%%sql\n",
        "SHOW WORKSPACES IN GROUP '{{ wsg_name }}'"
      ]
    },
    {
      "cell_type": "markdown",
      "id": "8872aa21-1422-4583-9387-dc1002b59ab0",
      "metadata": {},
      "source": [
        "It is possible to terminate a workspace group even if it has workspaces in it\n",
        "by using the `FORCE` option. Let's remove our workspace group with `workspace-1`\n",
        "still in it."
      ]
    },
    {
      "cell_type": "code",
      "execution_count": 22,
      "id": "8a98a983-0cc4-4f74-96c9-ce27442b4e57",
      "metadata": {},
      "outputs": [],
      "source": [
        "%%sql\n",
        "DROP WORKSPACE GROUP '{{ wsg_name }}' FORCE"
      ]
    },
    {
      "cell_type": "code",
      "execution_count": 23,
      "id": "a1f2f996-87f5-45e3-9907-f5980a654d59",
      "metadata": {},
      "outputs": [],
      "source": [
        "%%sql\n",
        "SHOW WORKSPACE GROUPS LIKE 'Fusion%'"
      ]
    },
    {
      "cell_type": "markdown",
      "id": "1668f1e9-ac1a-4d78-b940-33109926e4f5",
      "metadata": {},
      "source": [
        "We can attempt to list the workspaces in the group again, but this time\n",
        "you will get a KeyError saying that the workspace group is not found."
      ]
    },
    {
      "cell_type": "code",
      "execution_count": 24,
      "id": "f0d142de-a89f-4a28-95c0-eea72a4556a9",
      "metadata": {},
      "outputs": [],
      "source": [
        "try:\n",
        "    %sql SHOW WORKSPACES IN GROUP '{{ wsg_name }}'\n",
        "except KeyError:\n",
        "    print('no workspace group was found')"
      ]
    },
    {
      "cell_type": "markdown",
      "id": "90d600a2-23e9-42c0-91ba-7bee6e7097be",
      "metadata": {},
      "source": [
        "## Conclusion\n",
        "\n",
        "We have covered the Fusion SQL commands for creating and terminating both workspace groups\n",
        "and workspaces. We also demonstrated how to suspend and resume workspaces. Fusion SQL\n",
        "can also manage your Stage files. That topic is covered in another example notebook,\n",
        "and more Fusion SQL commands will be added as features are added to SingleStoreDB Cloud."
      ]
    },
    {
      "cell_type": "markdown",
      "id": "3877747f-c091-4bf8-9c79-fcc26e570ef6",
      "metadata": {},
      "source": [
        "<div id=\"singlestore-footer\" style=\"background-color: rgba(194, 193, 199, 0.25); height:2px; margin-bottom:10px\"></div>\n",
        "<div><img src=\"https://raw.githubusercontent.com/singlestore-labs/spaces-notebooks/master/common/images/singlestore-logo-grey.png\" style=\"padding: 0px; margin: 0px; height: 24px\"/></div>"
      ]
    }
  ],
  "metadata": {
    "jupyterlab": {
      "notebooks": {
        "version_major": 6,
        "version_minor": 4
      }
    },
    "kernelspec": {
      "display_name": "Python 3 (ipykernel)",
      "language": "python",
      "name": "python3"
    },
    "language_info": {
      "codemirror_mode": {
        "name": "ipython",
        "version": 3
      },
      "file_extension": ".py",
      "mimetype": "text/x-python",
      "name": "python",
      "nbconvert_exporter": "python",
      "pygments_lexer": "ipython3",
      "version": "3.11.6"
    }
  },
  "nbformat": 4,
  "nbformat_minor": 5
}
