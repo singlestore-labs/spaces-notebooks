{
  "cells": [
    {
      "id": "c9e5c3b2",
      "cell_type": "markdown",
      "metadata": {},
      "source": [
        "<div id=\"singlestore-header\" style=\"display: flex; background-color: rgba(235, 249, 245, 0.25); padding: 5px;\">\n",
        "    <div id=\"icon-image\" style=\"width: 90px; height: 90px;\">\n",
        "        <img width=\"100%\" height=\"100%\" src=\"https://raw.githubusercontent.com/singlestore-labs/spaces-notebooks/master/common/images/header-icons/browser.png\" />\n",
        "    </div>\n",
        "    <div id=\"text\" style=\"padding: 5px; margin-left: 10px;\">\n",
        "        <div id=\"badge\" style=\"display: inline-block; background-color: rgba(0, 0, 0, 0.15); border-radius: 4px; padding: 4px 8px; align-items: center; margin-top: 6px; margin-bottom: -2px; font-size: 80%\">SingleStore Notebooks</div>\n",
        "        <h1 style=\"font-weight: 500; margin: 8px 0 0 4px;\">Getting Started with Fusion SQL</h1>\n",
        "    </div>\n",
        "</div>"
      ]
    },
    {
      "attachments": {},
      "cell_type": "markdown",
      "metadata": {},
      "source": [
        "In this notebook, we introduce Fusion SQL. Fusion SQL are SQL statements that\n",
        "can be used to manage workspace groups, workspaces, files in workspace stages,\n",
        "and other resources that could previously only be managed in the portal user\n",
        "interface or the Management REST API."
      ],
      "id": "038ad772"
    },
    {
      "attachments": {},
      "cell_type": "markdown",
      "metadata": {},
      "source": [
        "## Displaying available Fusion SQL commands\n",
        "\n",
        "We can use the `SHOW FUSION COMMANDS` statement to get all of the available commands."
      ],
      "id": "8cfa493d"
    },
    {
      "cell_type": "code",
      "execution_count": 1,
      "metadata": {},
      "outputs": [],
      "source": [
        "!pip uninstall -y singlestoredb\n",
        "!pip install singlestoredb"
      ],
      "id": "b0c1465d"
    },
    {
      "cell_type": "code",
      "execution_count": 2,
      "metadata": {},
      "outputs": [],
      "source": [
        "commands = %sql SHOW FUSION COMMANDS\n",
        "for cmd in commands:\n",
        "    print(*cmd, '\\n')"
      ],
      "id": "0b7d54b8"
    },
    {
      "attachments": {},
      "cell_type": "markdown",
      "metadata": {},
      "source": [
        "The `SHOW FUSION COMMANDS` also has a `LIKE` option that can be used to filter the displayed commands."
      ],
      "id": "4adb346b"
    },
    {
      "cell_type": "code",
      "execution_count": 3,
      "metadata": {},
      "outputs": [],
      "source": [
        "commands = %sql SHOW FUSION COMMANDS LIKE '%stage%'\n",
        "for cmd in commands:\n",
        "    print(*cmd, '\\n')"
      ],
      "id": "31a35316"
    },
    {
      "attachments": {},
      "cell_type": "markdown",
      "metadata": {},
      "source": [
        "Let's try a workflow that goes through the entire process of creating a workspace group, workspace,\n",
        "and Stage files."
      ],
      "id": "c9f87f44"
    },
    {
      "attachments": {},
      "cell_type": "markdown",
      "metadata": {},
      "source": [
        "## Working with workspace groups\n",
        "\n",
        "In this example, we will create a new workspace group, add workspaces, and  demonstrate how to suspend and resume a workspace.\n",
        "We will then terminate the workspaces and workspace groups all from SQL!"
      ],
      "id": "6605910c"
    },
    {
      "attachments": {},
      "cell_type": "markdown",
      "metadata": {},
      "source": [
        "Looking above at our list of printed commands, we see that the `CREATE WORKSPACE GROUP`\n",
        "command has the following options:\n",
        "```\n",
        "CREATE WORKSPACE GROUP [ IF NOT EXISTS ] '<group-name>'\n",
        "    IN REGION { ID '<region-id>' | '<region-name>' }\n",
        "    [ WITH PASSWORD '<password>' ]\n",
        "    [ EXPIRES AT '<iso-datetime-or-interval>' ]\n",
        "    [ WITH FIREWALL RANGES '<ip-range>',... ];\n",
        "```\n",
        "\n",
        "We need a region ID or name to create a workspace group, but luckily there is a Fusion command\n",
        "that can give us all of the region information. We can use this to get a region from the US\n",
        "by using the `LIKE` parameter.\n",
        "```\n",
        "SHOW REGIONS [ LIKE '<pattern>' ] [ ORDER BY '<key>' [ ASC | DESC ],... ] [ LIMIT <integer> ];\n",
        "```"
      ],
      "id": "1a5d9d0f"
    },
    {
      "cell_type": "code",
      "execution_count": 4,
      "metadata": {},
      "outputs": [],
      "source": [
        "us_regions = %sql SHOW REGIONS LIKE '%US%'\n",
        "us_regions"
      ],
      "id": "4605bd6f"
    },
    {
      "attachments": {},
      "cell_type": "markdown",
      "metadata": {},
      "source": [
        "Let's use the random package to choose a US region for us."
      ],
      "id": "402b62c5"
    },
    {
      "cell_type": "code",
      "execution_count": 5,
      "metadata": {},
      "outputs": [],
      "source": [
        "import random\n",
        "\n",
        "region_id = random.choice(us_regions).ID\n",
        "region_id"
      ],
      "id": "989d31f4"
    },
    {
      "attachments": {},
      "cell_type": "markdown",
      "metadata": {},
      "source": [
        "Now that we have a region ID, we can create our workspace. We'll open the firewall so it\n",
        "can be accessed from anywhere and set a password."
      ],
      "id": "2cdab621"
    },
    {
      "cell_type": "code",
      "execution_count": 6,
      "metadata": {},
      "outputs": [],
      "source": [
        "import secrets\n",
        "\n",
        "wsg_name = 'Fusion Notebook'\n",
        "password = secrets.token_urlsafe(20) + '-x&'"
      ],
      "id": "0c579720"
    },
    {
      "cell_type": "code",
      "execution_count": 7,
      "metadata": {},
      "outputs": [],
      "source": [
        "%%sql\n",
        "CREATE WORKSPACE GROUP '{{ wsg_name }}' IN REGION ID '{{ region_id }}'\n",
        "       WITH FIREWALL RANGES '0.0.0.0/0' WITH PASSWORD '{{ password }}'"
      ],
      "id": "41d5c2d3"
    },
    {
      "attachments": {},
      "cell_type": "markdown",
      "metadata": {},
      "source": [
        "If you are in the SingleStore Cloud portal, you should see the workpace group displayed in a few seconds.\n",
        "You can also use the `SHOW WORKSPACE GROUPS` command to list them."
      ],
      "id": "83d226c5"
    },
    {
      "cell_type": "code",
      "execution_count": 8,
      "metadata": {},
      "outputs": [],
      "source": [
        "%%sql\n",
        "SHOW WORKSPACE GROUPS LIKE 'Fusion%'"
      ],
      "id": "7624bcdc"
    },
    {
      "attachments": {},
      "cell_type": "markdown",
      "metadata": {},
      "source": [
        "### Creating workspaces\n",
        "\n",
        "Now that we have a workspace group, we can create workspaces within it. Let's create\n",
        "two workspaces of different sizes. Here is the syntax for that operation.\n",
        "```\n",
        "CREATE WORKSPACE [ IF NOT EXISTS ] '<workspace-name>' [ IN GROUP { ID '<group-id>' | '<group-name>' } ]\n",
        "    WITH SIZE '<size>' [ WAIT ON ACTIVE ];\n",
        "```"
      ],
      "id": "35a7a9e4"
    },
    {
      "cell_type": "code",
      "execution_count": 9,
      "metadata": {},
      "outputs": [],
      "source": [
        "%%sql\n",
        "CREATE WORKSPACE 'workspace-1' IN GROUP '{{ wsg_name }}' WITH SIZE 'S-00';\n",
        "CREATE WORKSPACE 'workspace-2' IN GROUP '{{ wsg_name }}' WITH SIZE 'S-1';"
      ],
      "id": "409c2ac6"
    },
    {
      "attachments": {},
      "cell_type": "markdown",
      "metadata": {},
      "source": [
        "The workspaces will take some time to become available. We can write a small wait loop to\n",
        "block until they are both ready. You could use the `WAIT ON ACTIVE` option for `CREATE WORKSPACE`,\n",
        "but that would cause them to run sequentially. We are using an external loop so that the\n",
        "two commands above can run in parallel."
      ],
      "id": "2379ad3f"
    },
    {
      "cell_type": "code",
      "execution_count": 10,
      "metadata": {},
      "outputs": [],
      "source": [
        "def wait_on_attr(cmd: str, **kwargs) -> None:\n",
        "    \"\"\"Loop until the given attribute of every result row matches.\"\"\"\n",
        "    import time\n",
        "    import singlestoredb as s2\n",
        "\n",
        "    name, value = list(kwargs.items())[0]\n",
        "\n",
        "    n_tries = 20\n",
        "    while n_tries > 0:\n",
        "        workspaces = %sql {{ cmd }}\n",
        "        active = [x for x in workspaces if getattr(x, name) == value]\n",
        "        if len(active) == len(workspaces):\n",
        "            n_tries = 1\n",
        "            break\n",
        "        time.sleep(20)\n",
        "        n_tries -= 1\n",
        "\n",
        "    if n_tries == 0:\n",
        "        raise RuntimeError('waiting for workspaces timed out')\n",
        "\n",
        "\n",
        "# Wait for all workspaces to be active\n",
        "wait_on_attr(f'SHOW WORKSPACES IN GROUP \"{ wsg_name }\"', State='ACTIVE')"
      ],
      "id": "5bf4bd4d"
    },
    {
      "attachments": {},
      "cell_type": "markdown",
      "metadata": {},
      "source": [
        "We can now display the information about the workspaces using the `SHOW WORKSPACES` command."
      ],
      "id": "f61203be"
    },
    {
      "cell_type": "code",
      "execution_count": 11,
      "metadata": {},
      "outputs": [],
      "source": [
        "%%sql\n",
        "SHOW WORKSPACES IN GROUP '{{ wsg_name }}' ORDER BY Name EXTENDED"
      ],
      "id": "c6da588b"
    },
    {
      "attachments": {},
      "cell_type": "markdown",
      "metadata": {},
      "source": [
        "### Suspending and resuming workspaces\n",
        "\n",
        "It is possible to suspend and resume workspaces from Fusion SQL as well.\n",
        "\n",
        "```\n",
        "RESUME WORKSPACE { ID '<workspace-id>' | '<workspace-name>' } [ IN GROUP { ID '<group-id>' | '<group-name>' } ] [ WAIT ON RESUMED ];\n",
        "\n",
        "SUSPEND WORKSPACE { ID '<workspace-id>' | '<workspace-name>' } [ IN GROUP { ID '<group-id>' | '<group-name>' } ] [ WAIT ON SUSPENDED ];\n",
        "```"
      ],
      "id": "7eabac7b"
    },
    {
      "cell_type": "code",
      "execution_count": 12,
      "metadata": {},
      "outputs": [],
      "source": [
        "%%sql\n",
        "SUSPEND WORKSPACE 'workspace-1' IN GROUP '{{ wsg_name }}'"
      ],
      "id": "e5e01e3f"
    },
    {
      "attachments": {},
      "cell_type": "markdown",
      "metadata": {},
      "source": [
        "The workspace should have a state of 'SUSPENDED' shortly after running the above command."
      ],
      "id": "9c55a846"
    },
    {
      "cell_type": "code",
      "execution_count": 13,
      "metadata": {},
      "outputs": [],
      "source": [
        "%%sql\n",
        "SHOW WORKSPACES IN GROUP '{{ wsg_name}}'"
      ],
      "id": "92da04c6"
    },
    {
      "attachments": {},
      "cell_type": "markdown",
      "metadata": {},
      "source": [
        "To resume the workspace, you use the `RESUME WORKSPACE` command."
      ],
      "id": "887fc459"
    },
    {
      "cell_type": "code",
      "execution_count": 14,
      "metadata": {},
      "outputs": [],
      "source": [
        "%%sql\n",
        "RESUME WORKSPACE 'workspace-1' IN GROUP '{{ wsg_name }}' WAIT ON RESUMED"
      ],
      "id": "bf33363a"
    },
    {
      "cell_type": "markdown",
      "metadata": {},
      "source": [
        "Display the information about the workspaces again."
      ],
      "id": "c4a1e2ac"
    },
    {
      "cell_type": "code",
      "execution_count": 15,
      "metadata": {},
      "outputs": [],
      "source": [
        "workspaces = %sql SHOW WORKSPACES IN GROUP '{{ wsg_name}}' EXTENDED\n",
        "workspaces"
      ],
      "id": "67d2c61f"
    },
    {
      "attachments": {},
      "cell_type": "markdown",
      "metadata": {},
      "source": [
        "### Accessing the database endpoint of a workspace\n",
        "\n",
        "As you saw above, we have access to the database endpoint in the workspace information.\n",
        "We can use that to create a connection to that workspace for database operations."
      ],
      "id": "290165aa"
    },
    {
      "cell_type": "code",
      "execution_count": 16,
      "metadata": {},
      "outputs": [],
      "source": [
        "import singlestoredb as s2\n",
        "\n",
        "with s2.connect(f'admin:{ password }@{ workspaces[0].Endpoint }:3306') as conn:\n",
        "    with conn.cursor() as cur:\n",
        "        cur.execute('show databases')\n",
        "        for row in cur:\n",
        "            print(*row)"
      ],
      "id": "eb52e506"
    },
    {
      "attachments": {},
      "cell_type": "markdown",
      "metadata": {},
      "source": [
        "### Terminating workspaces and workspace groups\n",
        "\n",
        "You can terminate workspaces and workspace groups from Fusion SQL commands as well.\n",
        "```\n",
        "DROP WORKSPACE [ IF EXISTS ] { ID '<workspace-id>' | '<workspace-name>' } [ IN GROUP { ID '<group-id>' | '<group-name>' } ] [ WAIT ON TERMINATED ];\n",
        "\n",
        "DROP WORKSPACE GROUP [ IF EXISTS ] { ID '<group-id>' | '<group-name>' } [ WAIT ON TERMINATED ] [ FORCE ];\n",
        "```"
      ],
      "id": "66622efe"
    },
    {
      "attachments": {},
      "cell_type": "markdown",
      "metadata": {},
      "source": [
        "Let's drop `workspace-2` and leave `workspace-1` in place."
      ],
      "id": "637694a7"
    },
    {
      "cell_type": "code",
      "execution_count": 17,
      "metadata": {},
      "outputs": [],
      "source": [
        "%%sql\n",
        "DROP WORKSPACE 'workspace-2' IN GROUP '{{ wsg_name }}'"
      ],
      "id": "fcd1e469"
    },
    {
      "attachments": {},
      "cell_type": "markdown",
      "metadata": {},
      "source": [
        "The above operation may take a few seconds. Once it has completed, the following output will\n",
        "show just one workspace remaining."
      ],
      "id": "19a1db5f"
    },
    {
      "cell_type": "code",
      "execution_count": 18,
      "metadata": {},
      "outputs": [],
      "source": [
        "%%sql\n",
        "SHOW WORKSPACES IN GROUP '{{ wsg_name }}'"
      ],
      "id": "f60b8887"
    },
    {
      "attachments": {},
      "cell_type": "markdown",
      "metadata": {},
      "source": [
        "It is possible to terminate a workspace group even if it has workspaces in it\n",
        "by using the `FORCE` option. Let's remove our workspace group with `workspace-1`\n",
        "still in it."
      ],
      "id": "b4f79288"
    },
    {
      "cell_type": "code",
      "execution_count": 19,
      "metadata": {},
      "outputs": [],
      "source": [
        "%%sql\n",
        "DROP WORKSPACE GROUP '{{ wsg_name }}' FORCE"
      ],
      "id": "2c710871"
    },
    {
      "cell_type": "code",
      "execution_count": 20,
      "metadata": {},
      "outputs": [],
      "source": [
        "%%sql\n",
        "SHOW WORKSPACE GROUPS LIKE 'Fusion%'"
      ],
      "id": "41c2a6df"
    },
    {
      "attachments": {},
      "cell_type": "markdown",
      "metadata": {},
      "source": [
        "We can attempt to list the workspaces in the group again, but this time\n",
        "you will get a KeyError saying that the workspace group is not found."
      ],
      "id": "05aa3068"
    },
    {
      "cell_type": "code",
      "execution_count": 21,
      "metadata": {},
      "outputs": [],
      "source": [
        "try:\n",
        "    %sql SHOW WORKSPACES IN GROUP '{{ wsg_name }}'\n",
        "except KeyError:\n",
        "    print('no workspace group was found')"
      ],
      "id": "13b54a15"
    },
    {
      "attachments": {},
      "cell_type": "markdown",
      "metadata": {},
      "source": [
        "## Conclusion\n",
        "\n",
        "We have covered the Fusion SQL commands for creating and terminating both workspace groups\n",
        "and workspaces. We also demonstrated how to suspend and resume workspaces. Fusion SQL\n",
        "can also manage your Stage files. That topic is covered in another example notebook,\n",
        "and more Fusion SQL commands will be added as features are added to SingleStoreDB Cloud."
      ],
      "id": "a45b4c7a"
    },
    {
      "id": "b2d49509",
      "cell_type": "markdown",
      "metadata": {},
      "source": [
        "<div id=\"singlestore-footer\" style=\"background-color: rgba(194, 193, 199, 0.25); height:2px; margin-bottom:10px\"></div>\n",
        "<div><img src=\"https://raw.githubusercontent.com/singlestore-labs/spaces-notebooks/master/common/images/singlestore-logo-grey.png\" style=\"padding: 0px; margin: 0px; height: 24px\"/></div>"
      ]
    }
  ],
  "metadata": {
    "jupyterlab": {
      "notebooks": {
        "version_major": 6,
        "version_minor": 4
      }
    },
    "kernelspec": {
      "display_name": "Python 3 (ipykernel)",
      "language": "python",
      "name": "python3"
    },
    "language_info": {
      "codemirror_mode": {
        "name": "ipython",
        "version": 3
      },
      "file_extension": ".py",
      "mimetype": "text/x-python",
      "name": "python",
      "nbconvert_exporter": "python",
      "pygments_lexer": "ipython3",
      "version": "3.11.6"
    }
  },
  "nbformat": 4,
  "nbformat_minor": 5
}
