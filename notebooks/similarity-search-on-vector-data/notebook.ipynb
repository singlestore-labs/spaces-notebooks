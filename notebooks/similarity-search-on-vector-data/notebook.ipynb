{
  "cells": [
    {
      "cell_type": "markdown",
      "id": "352a16c8-a1f1-4790-89d0-1c3db2ecb08f",
      "metadata": {},
      "source": [
        "<div id=\"singlestore-header\" style=\"display: flex; background-color: rgba(209, 153, 255, 0.25); padding: 5px;\">\n",
        "    <div id=\"icon-image\" style=\"width: 90px; height: 90px;\">\n",
        "        <img width=\"100%\" height=\"100%\" src=\"https://raw.githubusercontent.com/singlestore-labs/spaces-notebooks/master/common/images/header-icons/vector-circle.png\" />\n",
        "    </div>\n",
        "    <div id=\"text\" style=\"padding: 5px; margin-left: 10px;\">\n",
        "        <div id=\"badge\" style=\"display: inline-block; background-color: rgba(0, 0, 0, 0.15); border-radius: 4px; padding: 4px 8px; align-items: center; margin-top: 6px; margin-bottom: -2px; font-size: 80%\">SingleStore Notebooks</div>\n",
        "        <h1 style=\"font-weight: 500; margin: 8px 0 0 4px;\">Similarity Search on Vector Data</h1>\n",
        "    </div>\n",
        "</div>"
      ]
    },
    {
      "cell_type": "markdown",
      "id": "38989162-aeba-4ada-91ab-23fd8bd27740",
      "metadata": {},
      "source": [
        "<div class=\"alert alert-block alert-warning\">\n",
        "    <b class=\"fa fa-solid fa-exclamation-circle\"></b>\n",
        "    <div>\n",
        "        <p><b>Note</b></p>\n",
        "        <p>This notebook can be run on a Free Starter Workspace. To create a Free Starter Workspace navigate to <tt>Start</tt> using the left nav. You can also use your existing Standard or Premium workspace with this Notebook.</p>\n",
        "    </div>\n",
        "</div>"
      ]
    },
    {
      "attachments": {},
      "cell_type": "markdown",
      "id": "a3efcd15-5da0-4f79-85de-2ae1bf061b98",
      "metadata": {},
      "source": [
        "## What's in this notebook:\n",
        "\n",
        "1. Create and use a database.\n",
        "2. Create a table to hold vector data and load data.\n",
        "3. Search based on vector similarity.\n",
        "4. Search using metadata filtering.\n",
        "5. Create and use a vector index.\n",
        "6. Check that your query is using a vector index.\n",
        "7. Clean up.\n",
        "\n",
        "## Questions?\n",
        "\n",
        "Reach out to us through our [forum](https://www.singlestore.com/forum)."
      ]
    },
    {
      "attachments": {},
      "cell_type": "markdown",
      "id": "9d78727a-868a-4e23-be2e-1954119cb65f",
      "metadata": {},
      "source": [
        "## 1. Create and use a database."
      ]
    },
    {
      "attachments": {},
      "cell_type": "markdown",
      "id": "178a20af-5680-4190-a53d-57d81fdeecf6",
      "metadata": {},
      "source": [
        "To use this notebook, you need to have an active workspace and have selected a database to use. Please select a database using the dropdown above."
      ]
    },
    {
      "attachments": {},
      "cell_type": "markdown",
      "id": "d8ba2e84-d75c-4997-9a55-0e9294bda309",
      "metadata": {},
      "source": [
        "## 2. Create a table to hold vector data and load data."
      ]
    },
    {
      "attachments": {},
      "cell_type": "markdown",
      "id": "4ff7221d-295d-4097-88c9-44e2728230b0",
      "metadata": {},
      "source": [
        "The SQL below creates a table to hold comments as one might find on a restaurant review site. The table contains the comment itself stored as a <code>TEXT</code> column and a vector embedding of that comment stored as a <code>VECTOR</code> ([Vector Type](https://docs.singlestore.com/cloud/vectors/vector-type)) column. [Working with Vector Data](https://docs.singlestore.com/cloud/vectors/working-with-vector-data/) provides more details on this example and information about similarity search over vectors."
      ]
    },
    {
      "cell_type": "code",
      "execution_count": 1,
      "id": "3dc4c365-1832-4525-bf6f-a53b77e6d6af",
      "metadata": {},
      "outputs": [],
      "source": [
        "%%sql\n",
        "CREATE TABLE comments(id INT NOT NULL PRIMARY KEY,\n",
        "   comment TEXT,\n",
        "   comment_embedding VECTOR(4) NOT NULL,\n",
        "   category VARCHAR(256));"
      ]
    },
    {
      "cell_type": "code",
      "execution_count": 2,
      "id": "41bba8dc-a558-4e32-b484-be7321d3497f",
      "metadata": {},
      "outputs": [],
      "source": [
        "%%sql\n",
        "INSERT INTO comments VALUES\n",
        "      (1, \"The cafeteria in building 35 has a great salad bar\",\n",
        "       '[0.2, 0.11, 0.37, 0.05]',\n",
        "       \"Food\"),\n",
        "      (2, \"I love the taco bar in the B16 cafeteria.\",\n",
        "       '[0,0.800000012,0.150000006,0]',\n",
        "       \"Food\"),\n",
        "      (3, \"The B24 restaurant salad bar is quite good.\",\n",
        "       '[0.1, 0.15, 0.37, 0.05]',\n",
        "       \"Food\");"
      ]
    },
    {
      "attachments": {},
      "cell_type": "markdown",
      "id": "50a64717-fca6-4a58-8afa-5301a65be8f2",
      "metadata": {},
      "source": [
        "### Verify the data was loaded"
      ]
    },
    {
      "attachments": {},
      "cell_type": "markdown",
      "id": "4da232c3-7349-4785-99ea-042974597bf7",
      "metadata": {},
      "source": [
        "Use the following SQL to view the data in the <code>comments</code> table."
      ]
    },
    {
      "cell_type": "code",
      "execution_count": 3,
      "id": "e2b7e8f2-101f-447f-887a-a86c0e963aff",
      "metadata": {},
      "outputs": [],
      "source": [
        "%%sql\n",
        "SELECT * FROM comments;"
      ]
    },
    {
      "attachments": {},
      "cell_type": "markdown",
      "id": "981b4ba7-109c-418b-ab39-1df64426a1f2",
      "metadata": {},
      "source": [
        "## 3. Search based on vector similarity.\n",
        "\n",
        "To find the most similar vectors in a query vector, use an <code>ORDER BY\u2026 LIMIT\u2026</code> query. The <code>ORDER BY</code> command will sort the vectors by a similarity score produced by a vector similarity function, with the closest matches at the top.\n",
        "\n",
        "The SQL below sets up a query vector, then uses the <code>DOT_PRODUCT</code> infix operator (<code><\\*></code>) to find the two vectors that are most similar to the query vector."
      ]
    },
    {
      "cell_type": "code",
      "execution_count": 4,
      "id": "9ad316ae-495d-4e7f-a508-f84d7af20432",
      "metadata": {},
      "outputs": [],
      "source": [
        "%%sql\n",
        "SET @query_vec = ('[0.09, 0.14, 0.5, 0.05]'):>VECTOR(4):>BLOB;\n",
        "\n",
        "SELECT id, comment, category,\n",
        "         comment_embedding <*> @query_vec AS score\n",
        "    FROM comments\n",
        "    ORDER BY score DESC\n",
        "    LIMIT 2;"
      ]
    },
    {
      "attachments": {},
      "cell_type": "markdown",
      "id": "7220f9af-7a0c-4142-ace1-32102bedf869",
      "metadata": {},
      "source": [
        "## 4. Search using metadata filtering.\n",
        "\n",
        "When building vector search applications, you may wish to filter on the fields of a record, with simple filters or via joins, in addition to applying vector similarity operations.\n",
        "\n",
        "The following query combines the use of an <code>ORDER BY ... LIMIT</code> query and a metadata filter on category. This query will filter to find all comments in the category <code>\"Food\"</code> and then calculate the score for each of those and rank in descending order."
      ]
    },
    {
      "cell_type": "code",
      "execution_count": 5,
      "id": "c846a3b0-5477-4f73-9a7e-bd935717dcf0",
      "metadata": {},
      "outputs": [],
      "source": [
        "%%sql\n",
        "SET @query_vec = ('[0.44, 0.554, 0.34, 0.62]'):>VECTOR(4):>BLOB;\n",
        "\n",
        "SELECT id, comment, category,\n",
        "         comment_embedding <*> @query_vec AS score\n",
        "    FROM comments\n",
        "    WHERE category = \"Food\"\n",
        "    ORDER BY score DESC\n",
        "    LIMIT 3;"
      ]
    },
    {
      "attachments": {},
      "cell_type": "markdown",
      "id": "c2010186-159d-4968-a9a3-fc285ab5a3cd",
      "metadata": {},
      "source": [
        "## 5. Create and use a vector index.\n",
        "\n",
        "The command below creates a vector index on the <code>comment_embedding</code> field of the <code>comments</code> table."
      ]
    },
    {
      "cell_type": "code",
      "execution_count": 6,
      "id": "87ab9e1b-d7ed-455e-b3f8-0691034436de",
      "metadata": {},
      "outputs": [],
      "source": [
        "%%sql\n",
        "ALTER TABLE comments ADD VECTOR INDEX ivf(comment_embedding)\n",
        "INDEX_OPTIONS '{\"index_type\":\"IVF_FLAT\"}';"
      ]
    },
    {
      "attachments": {},
      "cell_type": "markdown",
      "id": "9b8dd26d-edc9-4bec-b7f7-b1a393d459d7",
      "metadata": {},
      "source": [
        "Optionally optimize the table for best performance."
      ]
    },
    {
      "cell_type": "code",
      "execution_count": 7,
      "id": "089d7fc3-e23b-4b33-92cd-4ccba9121336",
      "metadata": {},
      "outputs": [],
      "source": [
        "%%sql\n",
        "OPTIMIZE TABLE comments FULL;"
      ]
    },
    {
      "attachments": {},
      "cell_type": "markdown",
      "id": "6c0bfb7f-4831-4436-bed0-ef30a5a30e00",
      "metadata": {},
      "source": [
        "The following query will use the vector index. Vector indexes can be used to improve performance of queries over large vector data sets. Refer to [Vector Indexing](https://docs.singlestore.com/cloud/vectors/vector-indexing/) for information on creating and using vector indexes."
      ]
    },
    {
      "cell_type": "code",
      "execution_count": 8,
      "id": "5327b465-0191-455d-a800-67e8ad403df6",
      "metadata": {},
      "outputs": [],
      "source": [
        "%%sql\n",
        "SET @query_vec = ('[0.44, 0.554, 0.34, 0.62]'):>VECTOR(4):>BLOB;\n",
        "\n",
        "SELECT id, comment, category,\n",
        "         comment_embedding <*> @query_vec AS score\n",
        "    FROM comments\n",
        "    ORDER BY score DESC\n",
        "    LIMIT 2;"
      ]
    },
    {
      "attachments": {},
      "cell_type": "markdown",
      "id": "cec7c7db-fb6a-4a22-8ebe-38c077f7ae70",
      "metadata": {},
      "source": [
        "## 6. Check that your query is using a vector index.\n",
        "\n",
        "The <code>EXPLAIN</code> command can be used to see the query plan and verify that the vector index is being used. In the example below, you can see <code>INTERNAL_VECTOR_SEARCH</code> in the <code>ColumnStoreFilter</code> row. This tells you that the vector index is being used."
      ]
    },
    {
      "cell_type": "code",
      "execution_count": 9,
      "id": "e4fcced9-b650-4786-9a3d-3f8e2ac4fad1",
      "metadata": {},
      "outputs": [],
      "source": [
        "%%sql\n",
        "SET @query_vec = ('[0.09, 0.14, 0.5, 0.05]'):>VECTOR(4):>BLOB;\n",
        "\n",
        "EXPLAIN\n",
        "SELECT id, comment, category,\n",
        "         comment_embedding <*> @query_vec AS score\n",
        "    FROM comments\n",
        "    ORDER BY score DESC\n",
        "    LIMIT 2;"
      ]
    },
    {
      "attachments": {},
      "cell_type": "markdown",
      "id": "08034846-168c-4547-abbb-72e10d9629e2",
      "metadata": {},
      "source": [
        "## 7. Clean up.\n",
        "\n",
        "The command below will drop the table created as part of this notebook. Dropping this table will allow you to rerun the notebook from the beginning."
      ]
    },
    {
      "cell_type": "code",
      "execution_count": 10,
      "id": "57290d8e-98d4-4ea8-b290-a925f5ba9bee",
      "metadata": {},
      "outputs": [],
      "source": [
        "%%sql\n",
        "DROP TABLE comments;"
      ]
    },
    {
      "cell_type": "markdown",
      "id": "b87169e1-aa2c-4364-bc4b-86ca97ef24fa",
      "metadata": {},
      "source": [
        "<div id=\"singlestore-footer\" style=\"background-color: rgba(194, 193, 199, 0.25); height:2px; margin-bottom:10px\"></div>\n",
        "<div><img src=\"https://raw.githubusercontent.com/singlestore-labs/spaces-notebooks/master/common/images/singlestore-logo-grey.png\" style=\"padding: 0px; margin: 0px; height: 24px\"/></div>"
      ]
    }
  ],
  "metadata": {
    "jupyterlab": {
      "notebooks": {
        "version_major": 6,
        "version_minor": 4
      }
    },
    "kernelspec": {
      "display_name": "Python 3 (ipykernel)",
      "language": "python",
      "name": "python3"
    },
    "language_info": {
      "codemirror_mode": {
        "name": "ipython",
        "version": 3
      },
      "file_extension": ".py",
      "mimetype": "text/x-python",
      "name": "python",
      "nbconvert_exporter": "python",
      "pygments_lexer": "ipython3",
      "version": "3.11.6"
    }
  },
  "nbformat": 4,
  "nbformat_minor": 5
}
