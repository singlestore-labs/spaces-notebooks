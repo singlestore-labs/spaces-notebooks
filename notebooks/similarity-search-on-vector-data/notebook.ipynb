{
  "cells": [
    {
      "id": "1a39b6fe",
      "cell_type": "markdown",
      "metadata": {},
      "source": [
        "<div id=\"singlestore-header\" style=\"display: flex; background-color: rgba(209, 153, 255, 0.25); padding: 5px;\">\n",
        "    <div id=\"icon-image\" style=\"width: 90px; height: 90px;\">\n",
        "        <img width=\"100%\" height=\"100%\" src=\"https://raw.githubusercontent.com/singlestore-labs/spaces-notebooks/master/common/images/header-icons/vector-circle.png\" />\n",
        "    </div>\n",
        "    <div id=\"text\" style=\"padding: 5px; margin-left: 10px;\">\n",
        "        <div id=\"badge\" style=\"display: inline-block; background-color: rgba(0, 0, 0, 0.15); border-radius: 4px; padding: 4px 8px; align-items: center; margin-top: 6px; margin-bottom: -2px; font-size: 80%\">SingleStore Notebooks</div>\n",
        "        <h1 style=\"font-weight: 500; margin: 8px 0 0 4px;\">Similarity Search on Vector Data</h1>\n",
        "    </div>\n",
        "</div>"
      ]
    },
    {
      "id": "8c8a73b0",
      "cell_type": "markdown",
      "metadata": {},
      "source": [
        "<div class=\"alert alert-block alert-warning\">\n",
        "    <b class=\"fa fa-solid fa-exclamation-circle\"></b>\n",
        "    <div>\n",
        "        <p><b>Note</b></p>\n",
        "        <p>This notebook can be run on a Free Starter Workspace. To create a Free Starter Workspace navigate to <tt>Start</tt> using the left nav. You can also use your existing Standard or Premium workspace with this Notebook.</p>\n",
        "    </div>\n",
        "</div>"
      ]
    },
    {
      "attachments": {},
      "cell_type": "markdown",
      "metadata": {},
      "source": [
        "## What's in this notebook:\n",
        "\n",
        "1. Create and use a database.\n",
        "2. Create a table to hold vector data and load data.\n",
        "3. Search based on vector similarity.\n",
        "4. Search using metadata filtering.\n",
        "5. Create and use a vector index.\n",
        "6. Check that your query is using a vector index.\n",
        "7. Clean up.\n",
        "\n",
        "## Questions?\n",
        "\n",
        "Reach out to us through our [forum](https://www.singlestore.com/forum)."
      ],
      "id": "5a2581d8"
    },
    {
      "attachments": {},
      "cell_type": "markdown",
      "metadata": {},
      "source": [
        "## 1. Create and use a database."
      ],
      "id": "e29287ae"
    },
    {
      "attachments": {},
      "cell_type": "markdown",
      "metadata": {},
      "source": [
        "To use this notebook, you need to have an active workspace and have selected a database to use. Please select a database using the dropdown above."
      ],
      "id": "52fbe108"
    },
    {
      "attachments": {},
      "cell_type": "markdown",
      "metadata": {},
      "source": [
        "## 2. Create a table to hold vector data and load data."
      ],
      "id": "00912cab"
    },
    {
      "attachments": {},
      "cell_type": "markdown",
      "metadata": {},
      "source": [
        "The SQL below creates a table to hold comments as one might find on a restaurant review site. The table contains the comment itself stored as a <code>TEXT</code> column and a vector embedding of that comment stored as a <code>VECTOR</code> ([Vector Type](https://docs.singlestore.com/cloud/vectors/vector-type)) column. [Working with Vector Data](https://docs.singlestore.com/cloud/vectors/working-with-vector-data/) provides more details on this example and information about similarity search over vectors."
      ],
      "id": "f785b548"
    },
    {
      "cell_type": "code",
      "execution_count": 1,
      "metadata": {},
      "outputs": [],
      "source": [
        "%%sql\n",
        "CREATE TABLE comments /* Creating table for sample data. */\n",
        "    (id INT NOT NULL PRIMARY KEY,\n",
        "   comment TEXT,\n",
        "   comment_embedding VECTOR(4) NOT NULL,\n",
        "   category VARCHAR(256));"
      ],
      "id": "99d2e315"
    },
    {
      "cell_type": "code",
      "execution_count": 2,
      "metadata": {},
      "outputs": [],
      "source": [
        "%%sql\n",
        "INSERT INTO comments VALUES\n",
        "      (1, \"The cafeteria in building 35 has a great salad bar\",\n",
        "       '[0.2, 0.11, 0.37, 0.05]',\n",
        "       \"Food\"),\n",
        "      (2, \"I love the taco bar in the B16 cafeteria.\",\n",
        "       '[0,0.800000012,0.150000006,0]',\n",
        "       \"Food\"),\n",
        "      (3, \"The B24 restaurant salad bar is quite good.\",\n",
        "       '[0.1, 0.15, 0.37, 0.05]',\n",
        "       \"Food\");"
      ],
      "id": "f52bcffc"
    },
    {
      "attachments": {},
      "cell_type": "markdown",
      "metadata": {},
      "source": [
        "### Verify the data was loaded"
      ],
      "id": "3ac554e1"
    },
    {
      "attachments": {},
      "cell_type": "markdown",
      "metadata": {},
      "source": [
        "Use the following SQL to view the data in the <code>comments</code> table."
      ],
      "id": "67e9630b"
    },
    {
      "cell_type": "code",
      "execution_count": 3,
      "metadata": {},
      "outputs": [],
      "source": [
        "%%sql\n",
        "SELECT * FROM comments;"
      ],
      "id": "ee3acd15"
    },
    {
      "attachments": {},
      "cell_type": "markdown",
      "metadata": {},
      "source": [
        "## 3. Search based on vector similarity.\n",
        "\n",
        "To find the most similar vectors in a query vector, use an <code>ORDER BY\u2026 LIMIT\u2026</code> query. The <code>ORDER BY</code> command will sort the vectors by a similarity score produced by a vector similarity function, with the closest matches at the top.\n",
        "\n",
        "The SQL below sets up a query vector, then uses the <code>DOT_PRODUCT</code> infix operator (<code><\\*></code>) to find the two vectors that are most similar to the query vector."
      ],
      "id": "faa052dd"
    },
    {
      "cell_type": "code",
      "execution_count": 4,
      "metadata": {},
      "outputs": [],
      "source": [
        "%%sql\n",
        "SET @query_vec = ('[0.09, 0.14, 0.5, 0.05]'):>VECTOR(4):>BLOB;\n",
        "\n",
        "SELECT id, comment, category,\n",
        "         comment_embedding <*> @query_vec AS score\n",
        "    FROM comments\n",
        "    ORDER BY score DESC\n",
        "    LIMIT 2;"
      ],
      "id": "1f2b57e4"
    },
    {
      "attachments": {},
      "cell_type": "markdown",
      "metadata": {},
      "source": [
        "## 4. Search using metadata filtering.\n",
        "\n",
        "When building vector search applications, you may wish to filter on the fields of a record, with simple filters or via joins, in addition to applying vector similarity operations.\n",
        "\n",
        "The following query combines the use of an <code>ORDER BY ... LIMIT</code> query and a metadata filter on category. This query will filter to find all comments in the category <code>\"Food\"</code> and then calculate the score for each of those and rank in descending order."
      ],
      "id": "066fdd44"
    },
    {
      "cell_type": "code",
      "execution_count": 5,
      "metadata": {},
      "outputs": [],
      "source": [
        "%%sql\n",
        "SET @query_vec = ('[0.44, 0.554, 0.34, 0.62]'):>VECTOR(4):>BLOB;\n",
        "\n",
        "SELECT id, comment, category,\n",
        "         comment_embedding <*> @query_vec AS score\n",
        "    FROM comments\n",
        "    WHERE category = \"Food\"\n",
        "    ORDER BY score DESC\n",
        "    LIMIT 3;"
      ],
      "id": "22679a21"
    },
    {
      "attachments": {},
      "cell_type": "markdown",
      "metadata": {},
      "source": [
        "## 5. Create and use a vector index.\n",
        "\n",
        "The command below creates a vector index on the <code>comment_embedding</code> field of the <code>comments</code> table."
      ],
      "id": "db0f41ad"
    },
    {
      "cell_type": "code",
      "execution_count": 6,
      "metadata": {},
      "outputs": [],
      "source": [
        "%%sql\n",
        "ALTER TABLE comments ADD VECTOR INDEX ivf(comment_embedding)\n",
        "INDEX_OPTIONS '{\"index_type\":\"IVF_FLAT\"}';"
      ],
      "id": "de0c6f3f"
    },
    {
      "attachments": {},
      "cell_type": "markdown",
      "metadata": {},
      "source": [
        "Optionally optimize the table for best performance."
      ],
      "id": "16ae9f59"
    },
    {
      "cell_type": "code",
      "execution_count": 7,
      "metadata": {},
      "outputs": [],
      "source": [
        "%%sql\n",
        "OPTIMIZE TABLE comments FULL;"
      ],
      "id": "ae4c1b16"
    },
    {
      "attachments": {},
      "cell_type": "markdown",
      "metadata": {},
      "source": [
        "The following query will use the vector index. Vector indexes can be used to improve performance of queries over large vector data sets. Refer to [Vector Indexing](https://docs.singlestore.com/cloud/vectors/vector-indexing/) for information on creating and using vector indexes."
      ],
      "id": "cddc5974"
    },
    {
      "cell_type": "code",
      "execution_count": 8,
      "metadata": {},
      "outputs": [],
      "source": [
        "%%sql\n",
        "SET @query_vec = ('[0.44, 0.554, 0.34, 0.62]'):>VECTOR(4):>BLOB;\n",
        "\n",
        "SELECT id, comment, category,\n",
        "         comment_embedding <*> @query_vec AS score\n",
        "    FROM comments\n",
        "    ORDER BY score DESC\n",
        "    LIMIT 2;"
      ],
      "id": "24fc1b33"
    },
    {
      "attachments": {},
      "cell_type": "markdown",
      "metadata": {},
      "source": [
        "## 6. Check that your query is using a vector index.\n",
        "\n",
        "The <code>EXPLAIN</code> command can be used to see the query plan and verify that the vector index is being used. In the example below, you can see <code>INTERNAL_VECTOR_SEARCH</code> in the <code>ColumnStoreFilter</code> row. This tells you that the vector index is being used."
      ],
      "id": "85a6bba3"
    },
    {
      "cell_type": "code",
      "execution_count": 9,
      "metadata": {},
      "outputs": [],
      "source": [
        "%%sql\n",
        "SET @query_vec = ('[0.09, 0.14, 0.5, 0.05]'):>VECTOR(4):>BLOB;\n",
        "\n",
        "EXPLAIN\n",
        "SELECT id, comment, category,\n",
        "         comment_embedding <*> @query_vec AS score\n",
        "    FROM comments\n",
        "    ORDER BY score DESC\n",
        "    LIMIT 2;"
      ],
      "id": "258a9714"
    },
    {
      "attachments": {},
      "cell_type": "markdown",
      "metadata": {},
      "source": [
        "## 7. Clean up.\n",
        "\n",
        "The command below will drop the table created as part of this notebook. Dropping this table will allow you to rerun the notebook from the beginning."
      ],
      "id": "e2a0af68"
    },
    {
      "cell_type": "code",
      "execution_count": 10,
      "metadata": {},
      "outputs": [],
      "source": [
        "%%sql\n",
        "DROP TABLE comments;"
      ],
      "id": "663219d6"
    },
    {
      "id": "aca52f19",
      "cell_type": "markdown",
      "metadata": {},
      "source": [
        "<div id=\"singlestore-footer\" style=\"background-color: rgba(194, 193, 199, 0.25); height:2px; margin-bottom:10px\"></div>\n",
        "<div><img src=\"https://raw.githubusercontent.com/singlestore-labs/spaces-notebooks/master/common/images/singlestore-logo-grey.png\" style=\"padding: 0px; margin: 0px; height: 24px\"/></div>"
      ]
    }
  ],
  "metadata": {
    "jupyterlab": {
      "notebooks": {
        "version_major": 6,
        "version_minor": 4
      }
    },
    "kernelspec": {
      "display_name": "Python 3 (ipykernel)",
      "language": "python",
      "name": "python3"
    },
    "language_info": {
      "codemirror_mode": {
        "name": "ipython",
        "version": 3
      },
      "file_extension": ".py",
      "mimetype": "text/x-python",
      "name": "python",
      "nbconvert_exporter": "python",
      "pygments_lexer": "ipython3",
      "version": "3.11.6"
    }
  },
  "nbformat": 4,
  "nbformat_minor": 5
}
